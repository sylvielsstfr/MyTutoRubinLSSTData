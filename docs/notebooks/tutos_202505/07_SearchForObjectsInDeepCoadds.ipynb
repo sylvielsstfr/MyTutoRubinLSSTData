{
 "cells": [
  {
   "cell_type": "markdown",
   "id": "adda26b1-7594-48da-94d2-6722bd71353c",
   "metadata": {},
   "source": [
    "## Tuto to find  Objects on Coadds in LSSTComCam"
   ]
  },
  {
   "cell_type": "markdown",
   "id": "1f276e2d-e5e1-4b30-bf3c-4ea950073fad",
   "metadata": {
    "execution": {
     "iopub.execute_input": "2025-04-29T08:48:57.989253Z",
     "iopub.status.busy": "2025-04-29T08:48:57.988923Z",
     "iopub.status.idle": "2025-04-29T08:48:57.993268Z",
     "shell.execute_reply": "2025-04-29T08:48:57.992764Z",
     "shell.execute_reply.started": "2025-04-29T08:48:57.989226Z"
    }
   },
   "source": [
    "- author : Sylvie Dagoret-Campagne\n",
    "- affiliation : IJCLab/IN2P3/CNRS\n",
    "- member : DESC, rubin-inkind\n",
    "- creation date : 2025-05-02\n",
    "- last update : 2025-05-02"
   ]
  },
  {
   "cell_type": "markdown",
   "id": "81c11161-2bd4-4317-812a-f246f3f70d81",
   "metadata": {},
   "source": [
    "# Note on work done on LSSTComCam Commissioning : https://sitcomtn-149.lsst.io/\n",
    "# Note Data Product definition Document : https://lse-163.lsst.io/"
   ]
  },
  {
   "cell_type": "code",
   "execution_count": null,
   "id": "72f36e25-589c-4a8c-865f-8b51f5f35270",
   "metadata": {
    "execution": {
     "iopub.execute_input": "2025-05-02T12:36:50.558618Z",
     "iopub.status.busy": "2025-05-02T12:36:50.558367Z",
     "iopub.status.idle": "2025-05-02T12:36:51.593146Z",
     "shell.execute_reply": "2025-05-02T12:36:51.592670Z",
     "shell.execute_reply.started": "2025-05-02T12:36:50.558588Z"
    }
   },
   "outputs": [],
   "source": [
    "import sys\n",
    "import matplotlib.pyplot as plt\n",
    "import lsst.afw.display as afwDisplay\n",
    "import numpy as np\n",
    "import pandas as pd\n",
    "from astropy.time import Time\n",
    "# %matplotlib widget"
   ]
  },
  {
   "cell_type": "code",
   "execution_count": null,
   "id": "7ec0c508-22aa-4608-adda-ff2c9083dc75",
   "metadata": {
    "execution": {
     "iopub.execute_input": "2025-05-02T12:36:51.594514Z",
     "iopub.status.busy": "2025-05-02T12:36:51.594185Z",
     "iopub.status.idle": "2025-05-02T12:36:51.655918Z",
     "shell.execute_reply": "2025-05-02T12:36:51.655522Z",
     "shell.execute_reply.started": "2025-05-02T12:36:51.594497Z"
    }
   },
   "outputs": [],
   "source": [
    "afwDisplay.setDefaultBackend(\"firefly\")"
   ]
  },
  {
   "cell_type": "code",
   "execution_count": null,
   "id": "42897fba-1ca4-4f20-837d-bd7478ac4548",
   "metadata": {
    "execution": {
     "iopub.execute_input": "2025-05-02T12:36:51.656651Z",
     "iopub.status.busy": "2025-05-02T12:36:51.656350Z",
     "iopub.status.idle": "2025-05-02T12:36:51.680596Z",
     "shell.execute_reply": "2025-05-02T12:36:51.680287Z",
     "shell.execute_reply.started": "2025-05-02T12:36:51.656635Z"
    }
   },
   "outputs": [],
   "source": [
    "import lsst.geom as geom\n",
    "from lsst.geom import SpherePoint, degrees\n",
    "from lsst.skymap import PatchInfo, Index2D\n",
    "# from lsst.afw.image import nJyToAbMag, abMagToNanojansky"
   ]
  },
  {
   "cell_type": "code",
   "execution_count": null,
   "id": "f2580923-bf82-4204-a50d-c64eb56b9f06",
   "metadata": {
    "execution": {
     "iopub.execute_input": "2025-05-02T12:36:51.681112Z",
     "iopub.status.busy": "2025-05-02T12:36:51.680980Z",
     "iopub.status.idle": "2025-05-02T12:36:51.683423Z",
     "shell.execute_reply": "2025-05-02T12:36:51.683109Z",
     "shell.execute_reply.started": "2025-05-02T12:36:51.681099Z"
    }
   },
   "outputs": [],
   "source": [
    "plt.rcParams[\"figure.figsize\"] = (10, 6)\n",
    "plt.rcParams[\"axes.labelsize\"] = \"x-large\"\n",
    "plt.rcParams[\"axes.titlesize\"] = \"x-large\"\n",
    "plt.rcParams[\"xtick.labelsize\"] = \"x-large\"\n",
    "plt.rcParams[\"ytick.labelsize\"] = \"x-large\""
   ]
  },
  {
   "cell_type": "code",
   "execution_count": null,
   "id": "d47f09df-7496-431c-b4ae-4fb75a3c6ef9",
   "metadata": {
    "execution": {
     "iopub.execute_input": "2025-05-02T12:36:51.683906Z",
     "iopub.status.busy": "2025-05-02T12:36:51.683779Z",
     "iopub.status.idle": "2025-05-02T12:36:51.689666Z",
     "shell.execute_reply": "2025-05-02T12:36:51.689369Z",
     "shell.execute_reply.started": "2025-05-02T12:36:51.683893Z"
    }
   },
   "outputs": [],
   "source": [
    "import gc"
   ]
  },
  {
   "cell_type": "code",
   "execution_count": null,
   "id": "1a1a267b-58c7-468a-a336-2c8def253a79",
   "metadata": {
    "execution": {
     "iopub.execute_input": "2025-05-02T12:36:51.690178Z",
     "iopub.status.busy": "2025-05-02T12:36:51.690046Z",
     "iopub.status.idle": "2025-05-02T12:36:51.697016Z",
     "shell.execute_reply": "2025-05-02T12:36:51.696712Z",
     "shell.execute_reply.started": "2025-05-02T12:36:51.690165Z"
    }
   },
   "outputs": [],
   "source": [
    "import traceback"
   ]
  },
  {
   "cell_type": "code",
   "execution_count": null,
   "id": "ede21bda-146f-4c77-aa40-edf2debfbfc0",
   "metadata": {
    "execution": {
     "iopub.execute_input": "2025-05-02T12:36:51.697531Z",
     "iopub.status.busy": "2025-05-02T12:36:51.697400Z",
     "iopub.status.idle": "2025-05-02T12:36:52.657683Z",
     "shell.execute_reply": "2025-05-02T12:36:52.657250Z",
     "shell.execute_reply.started": "2025-05-02T12:36:51.697518Z"
    }
   },
   "outputs": [],
   "source": [
    "# Define butler\n",
    "from lsst.daf.butler import Butler"
   ]
  },
  {
   "cell_type": "code",
   "execution_count": null,
   "id": "c7ab7fe3-285d-48c2-973a-2dde9d0a7faa",
   "metadata": {
    "execution": {
     "iopub.execute_input": "2025-05-02T12:36:52.660297Z",
     "iopub.status.busy": "2025-05-02T12:36:52.660140Z",
     "iopub.status.idle": "2025-05-02T12:36:53.317169Z",
     "shell.execute_reply": "2025-05-02T12:36:53.316694Z",
     "shell.execute_reply.started": "2025-05-02T12:36:52.660283Z"
    }
   },
   "outputs": [],
   "source": [
    "!eups list lsst_distrib"
   ]
  },
  {
   "cell_type": "code",
   "execution_count": null,
   "id": "c4bcd05b-ae35-42d9-9d69-251a37adae38",
   "metadata": {
    "execution": {
     "iopub.execute_input": "2025-05-02T12:36:53.317949Z",
     "iopub.status.busy": "2025-05-02T12:36:53.317792Z",
     "iopub.status.idle": "2025-05-02T12:36:53.321363Z",
     "shell.execute_reply": "2025-05-02T12:36:53.321052Z",
     "shell.execute_reply.started": "2025-05-02T12:36:53.317930Z"
    }
   },
   "outputs": [],
   "source": [
    "def nJy_to_ab_mag(f_njy):\n",
    "    \"\"\"Convert flux in nanojanskys to AB magnitude.\"\"\"\n",
    "    if f_njy > 0:\n",
    "        return -2.5 * np.log10(f_njy) + 31.4\n",
    "    else:\n",
    "        return 0.0\n",
    "\n",
    "\n",
    "def ab_mag_to_nJy(mag_ab):\n",
    "    \"\"\"Convert AB magnitude to flux in nanojanskys.\"\"\"\n",
    "    return 10 ** ((31.4 - mag_ab) / 2.5)"
   ]
  },
  {
   "cell_type": "markdown",
   "id": "7e369002-01db-40e2-a7b7-036072114e6a",
   "metadata": {},
   "source": [
    "## RubinTV, Campaigns , quicklook\n",
    "- RubinTV : https://usdf-rsp.slac.stanford.edu/rubintv/summit-usdf/lsstcam\n",
    "- https://rubinobs.atlassian.net/wiki/spaces/LSSTCOM/pages/467370016/LSSTCam+Commissioning+Planning\n",
    "- LSSTCam DM campaign : https://rubinobs.atlassian.net/wiki/spaces/DM/pages/48834013/Campaigns#1.1.2.-LSSTCam-Nightly-Validation-Pipeline\n",
    "- Check campaign also here  https://rubinobs.atlassian.net/wiki/pages/diffpagesbyversion.action?pageId=48834013&selectedPageVersions=145%2C143\n",
    "- fov-quicklook : https://usdf-rsp-dev.slac.stanford.edu/fov-quicklook/"
   ]
  },
  {
   "cell_type": "markdown",
   "id": "4ce495c8-71a6-4846-86fc-5715e13348ab",
   "metadata": {},
   "source": [
    "## Configuration"
   ]
  },
  {
   "cell_type": "code",
   "execution_count": null,
   "id": "91e7b166-6245-4e54-8cb1-21f34fbba78f",
   "metadata": {
    "execution": {
     "iopub.execute_input": "2025-05-02T12:36:53.321912Z",
     "iopub.status.busy": "2025-05-02T12:36:53.321783Z",
     "iopub.status.idle": "2025-05-02T12:36:53.330632Z",
     "shell.execute_reply": "2025-05-02T12:36:53.330318Z",
     "shell.execute_reply.started": "2025-05-02T12:36:53.321899Z"
    }
   },
   "outputs": [],
   "source": [
    "FLAG_DUMP_COLLECTIONS = False\n",
    "FLAG_DUMP_DATASETS = False\n",
    "FLAG_DUMP_OBJECTSTABLECOLUMNS = False"
   ]
  },
  {
   "cell_type": "code",
   "execution_count": null,
   "id": "566b4b6f-68ac-472f-9a14-9645d06d291a",
   "metadata": {
    "execution": {
     "iopub.execute_input": "2025-05-02T12:36:53.331141Z",
     "iopub.status.busy": "2025-05-02T12:36:53.331018Z",
     "iopub.status.idle": "2025-05-02T12:36:53.337563Z",
     "shell.execute_reply": "2025-05-02T12:36:53.337272Z",
     "shell.execute_reply.started": "2025-05-02T12:36:53.331129Z"
    }
   },
   "outputs": [],
   "source": [
    "all_bands = [\"u\", \"g\", \"r\", \"i\", \"z\", \"y\"]"
   ]
  },
  {
   "cell_type": "markdown",
   "id": "29bdd60b-f237-4a90-8aee-95f83091a5c8",
   "metadata": {},
   "source": [
    "### Choose instrument"
   ]
  },
  {
   "cell_type": "code",
   "execution_count": null,
   "id": "66ff700b-a6ab-4b6d-ab28-dfadf54fdd9f",
   "metadata": {
    "execution": {
     "iopub.execute_input": "2025-05-02T12:36:53.338068Z",
     "iopub.status.busy": "2025-05-02T12:36:53.337947Z",
     "iopub.status.idle": "2025-05-02T12:36:53.344528Z",
     "shell.execute_reply": "2025-05-02T12:36:53.344218Z",
     "shell.execute_reply.started": "2025-05-02T12:36:53.338055Z"
    }
   },
   "outputs": [],
   "source": [
    "# instrument = \"LSSTCam\"\n",
    "\n",
    "# We focus here on sky fields oberved by LSSTComCam, so we select this camera\n",
    "instrument = \"LSSTComCam\""
   ]
  },
  {
   "cell_type": "markdown",
   "id": "6a07464c-6f2e-4015-8ea6-1fbc5698c1dd",
   "metadata": {},
   "source": [
    "### Choose options"
   ]
  },
  {
   "cell_type": "markdown",
   "id": "29fc15af-ca3f-4c38-99ec-433e84dae8a2",
   "metadata": {},
   "source": [
    "### For LSSTCam : RubinTV, Campaigns , quicklook\n",
    "- RubinTV : https://usdf-rsp.slac.stanford.edu/rubintv/summit-usdf/lsstcam\n",
    "- https://rubinobs.atlassian.net/wiki/spaces/LSSTCOM/pages/467370016/LSSTCam+Commissioning+Planning\n",
    "- LSSTCam DM campaign : https://rubinobs.atlassian.net/wiki/spaces/DM/pages/48834013/Campaigns#1.1.2.-LSSTCam-Nightly-Validation-Pipeline\n",
    "- Check campaign also here  https://rubinobs.atlassian.net/wiki/pages/diffpagesbyversion.action?pageId=48834013&selectedPageVersions=145%2C143\n",
    "- fov-quicklook : https://usdf-rsp-dev.slac.stanford.edu/fov-quicklook/"
   ]
  },
  {
   "cell_type": "markdown",
   "id": "5542de7d-695e-4256-b765-28b902b02adc",
   "metadata": {},
   "source": [
    "### For LSSTComCam check here : \n",
    "- Check here the collection available : https://rubinobs.atlassian.net/wiki/spaces/DM/pages/226656354/LSSTComCam+Intermittent+Cumulative+DRP+Runs"
   ]
  },
  {
   "cell_type": "code",
   "execution_count": null,
   "id": "eacb14b0-183c-4dcd-ba59-64c7ca3efcd3",
   "metadata": {
    "execution": {
     "iopub.execute_input": "2025-05-02T12:36:53.345026Z",
     "iopub.status.busy": "2025-05-02T12:36:53.344907Z",
     "iopub.status.idle": "2025-05-02T12:36:53.352128Z",
     "shell.execute_reply": "2025-05-02T12:36:53.351833Z",
     "shell.execute_reply.started": "2025-05-02T12:36:53.345014Z"
    }
   },
   "outputs": [],
   "source": [
    "if instrument == \"LSSTCam\":\n",
    "    repo = \"/repo/embargo\"\n",
    "    instrument = \"LSSTCam\"\n",
    "    collection_validation = instrument + \"/runs/nightlyValidation\"\n",
    "    # collection_quicklook   = instrument + '/runs/quickLookTesting'\n",
    "    collection_validation = os.path.join(collection_validation, \"20250416/d_2025_04_15/DM-50157\")\n",
    "    date_start = 20250415\n",
    "    date_selection = 20250416\n",
    "    where_clause = \"instrument = '\" + f\"{instrument}\" + \"'\"\n",
    "    where_clause_date = where_clause + f\"and day_obs >= {date_start}\"\n",
    "    skymapName = \"lsst_cells_v1\"\n",
    "    BANDSEL = \"i\"\n",
    "\n",
    "elif instrument == \"LSSTComCam\":\n",
    "    repo = \"/repo/main\"\n",
    "    collection_validation = \"LSSTComCam/runs/DRP/DP1/w_2025_10/DM-49359\"  # work 2025-05-01\n",
    "    # collection_validation = \"LSSTComCam/runs/DRP/DP1/w_2025_17/DM-50530\" #updated 2025-05-02\n",
    "    date_start = 20241024\n",
    "    date_selection = 20241211\n",
    "    skymapName = \"lsst_cells_v1\"\n",
    "    where_clause = \"instrument = '\" + instrument + \"'\"\n",
    "    where_clause_date = where_clause + f\"and day_obs >= {date_start}\"\n",
    "\n",
    "    NDET = 9\n",
    "    TRACTSEL = 5063\n",
    "    BANDSEL = \"i\""
   ]
  },
  {
   "cell_type": "code",
   "execution_count": null,
   "id": "82535307-9253-4f06-b82a-956efd0217c9",
   "metadata": {
    "execution": {
     "iopub.execute_input": "2025-05-02T12:36:53.352610Z",
     "iopub.status.busy": "2025-05-02T12:36:53.352491Z",
     "iopub.status.idle": "2025-05-02T12:36:53.359272Z",
     "shell.execute_reply": "2025-05-02T12:36:53.358975Z",
     "shell.execute_reply.started": "2025-05-02T12:36:53.352598Z"
    }
   },
   "outputs": [],
   "source": [
    "collectionStr = collection_validation.replace(\"/\", \"_\")"
   ]
  },
  {
   "cell_type": "markdown",
   "id": "e77a39ca-c34f-4097-8a11-c40a121a82e9",
   "metadata": {},
   "source": [
    "## Access to Butler registry"
   ]
  },
  {
   "cell_type": "code",
   "execution_count": null,
   "id": "8726b7e4-94b7-48ac-92f8-447b34b7a59e",
   "metadata": {
    "execution": {
     "iopub.execute_input": "2025-05-02T12:36:53.359768Z",
     "iopub.status.busy": "2025-05-02T12:36:53.359640Z",
     "iopub.status.idle": "2025-05-02T12:36:53.852777Z",
     "shell.execute_reply": "2025-05-02T12:36:53.852242Z",
     "shell.execute_reply.started": "2025-05-02T12:36:53.359756Z"
    }
   },
   "outputs": [],
   "source": [
    "# Initialize the butler repo:\n",
    "butler = Butler(repo, collections=collection_validation)\n",
    "registry = butler.registry"
   ]
  },
  {
   "cell_type": "markdown",
   "id": "a82d1397-cd01-45d3-9f39-8b4f6bcbb21f",
   "metadata": {},
   "source": [
    "## Create a skymap object and Camera"
   ]
  },
  {
   "cell_type": "code",
   "execution_count": null,
   "id": "2a570834-a5dc-43b8-a0d3-af71a5b2706c",
   "metadata": {
    "execution": {
     "iopub.execute_input": "2025-05-02T12:36:53.853457Z",
     "iopub.status.busy": "2025-05-02T12:36:53.853321Z",
     "iopub.status.idle": "2025-05-02T12:36:54.279005Z",
     "shell.execute_reply": "2025-05-02T12:36:54.278477Z",
     "shell.execute_reply.started": "2025-05-02T12:36:53.853443Z"
    }
   },
   "outputs": [],
   "source": [
    "skymap = butler.get(\"skyMap\", skymap=skymapName, collections=collection_validation)"
   ]
  },
  {
   "cell_type": "code",
   "execution_count": null,
   "id": "8870762e-6e5d-4a6d-b101-1783285b1935",
   "metadata": {
    "execution": {
     "iopub.execute_input": "2025-05-02T12:36:54.279683Z",
     "iopub.status.busy": "2025-05-02T12:36:54.279544Z",
     "iopub.status.idle": "2025-05-02T12:36:54.939627Z",
     "shell.execute_reply": "2025-05-02T12:36:54.939091Z",
     "shell.execute_reply.started": "2025-05-02T12:36:54.279668Z"
    }
   },
   "outputs": [],
   "source": [
    "camera = butler.get(\"camera\", collections=collection_validation, instrument=instrument)"
   ]
  },
  {
   "cell_type": "markdown",
   "id": "f0e61f09-1f15-4f29-9555-d4015b09c5cc",
   "metadata": {},
   "source": [
    "## Query for collections in Butler\n",
    "\n",
    "- remove user collections\n",
    "- remove calibration products"
   ]
  },
  {
   "cell_type": "code",
   "execution_count": null,
   "id": "55edfcaa-96c0-49dc-827c-0167a0b6f731",
   "metadata": {
    "execution": {
     "iopub.execute_input": "2025-05-02T12:36:54.940370Z",
     "iopub.status.busy": "2025-05-02T12:36:54.940225Z",
     "iopub.status.idle": "2025-05-02T12:36:54.943127Z",
     "shell.execute_reply": "2025-05-02T12:36:54.942694Z",
     "shell.execute_reply.started": "2025-05-02T12:36:54.940355Z"
    }
   },
   "outputs": [],
   "source": [
    "# mostly setup for LSSTCam\n",
    "if FLAG_DUMP_COLLECTIONS:\n",
    "    for _ in sorted(registry.queryCollections(expression=instrument + \"/*\")):\n",
    "        if \"/calib/\" not in _ and \"u/\" not in _:\n",
    "            print(_)"
   ]
  },
  {
   "cell_type": "markdown",
   "id": "3ff90940-a996-4174-97b4-beb8895ae7a4",
   "metadata": {},
   "source": [
    "## Query for the dataset types in the Butler\n",
    "\n",
    "- Refer to the Data Product definition Document to know about the definition of datasets\n",
    "- https://www.lsst.org/about/dm/data-products\n",
    "- https://lse-163.lsst.io/\n",
    "- https://docushare.lsst.org/docushare/dsweb/Get/LSE-163"
   ]
  },
  {
   "cell_type": "code",
   "execution_count": null,
   "id": "f06e34b6-0f25-4047-9859-a34ec32e268d",
   "metadata": {
    "execution": {
     "iopub.execute_input": "2025-05-02T12:36:54.943696Z",
     "iopub.status.busy": "2025-05-02T12:36:54.943567Z",
     "iopub.status.idle": "2025-05-02T12:36:54.950781Z",
     "shell.execute_reply": "2025-05-02T12:36:54.950387Z",
     "shell.execute_reply.started": "2025-05-02T12:36:54.943683Z"
    }
   },
   "outputs": [],
   "source": [
    "if FLAG_DUMP_DATASETS:\n",
    "    for datasetType in registry.queryDatasetTypes():\n",
    "        if registry.queryDatasets(datasetType, collections=collection_validation).any(\n",
    "            execute=False, exact=False\n",
    "        ):\n",
    "            # Limit search results to the data products\n",
    "            if (\n",
    "                (\"_config\" not in datasetType.name)\n",
    "                and (\"_log\" not in datasetType.name)\n",
    "                and (\"_metadata\" not in datasetType.name)\n",
    "                and (\"_resource_usage\" not in datasetType.name)\n",
    "                and (\"Plot\" not in datasetType.name)\n",
    "                and (\"Metric\" not in datasetType.name)\n",
    "                and (\"metric\" not in datasetType.name)\n",
    "            ):\n",
    "                if \"object\" in datasetType.name or \"Obj\" in datasetType.name:\n",
    "                    print(datasetType)\n",
    "                if \"source\" in datasetType.name or \"Source\" in datasetType.name:\n",
    "                    print(datasetType)"
   ]
  },
  {
   "cell_type": "markdown",
   "id": "f78111e1-238c-4641-b3c1-0faebbbb89b1",
   "metadata": {},
   "source": [
    "## Region of interest"
   ]
  },
  {
   "cell_type": "code",
   "execution_count": null,
   "id": "6d0b6ebe-24c0-4046-9657-7187929a5f9a",
   "metadata": {
    "execution": {
     "iopub.execute_input": "2025-05-02T12:36:54.951520Z",
     "iopub.status.busy": "2025-05-02T12:36:54.951247Z",
     "iopub.status.idle": "2025-05-02T12:36:54.958690Z",
     "shell.execute_reply": "2025-05-02T12:36:54.958299Z",
     "shell.execute_reply.started": "2025-05-02T12:36:54.951505Z"
    }
   },
   "outputs": [],
   "source": [
    "lsstcomcam_targets = {}\n",
    "lsstcomcam_targets[\"47 Tuc\"] = {\"field_name\": \"47 Tuc Globular Cluster\", \"ra\": 6.02, \"dec\": -72.08}\n",
    "lsstcomcam_targets[\"Rubin SV 38 7\"] = {\"field_name\": \"Low Ecliptic Latitude Field\", \"ra\": 37.86, \"dec\": 6.98}\n",
    "lsstcomcam_targets[\"Fornax dSph\"] = {\n",
    "    \"field_name\": \"Fornax Dwarf Spheroidal Galaxy\",\n",
    "    \"ra\": 40.0,\n",
    "    \"dec\": -34.45,\n",
    "}\n",
    "lsstcomcam_targets[\"ECDFS\"] = {\"field_name\": \"Extended Chandra Deep Field South\", \"ra\": 53.13, \"dec\": -28.10}\n",
    "lsstcomcam_targets[\"EDFS\"] = {\"field_name\": \"Euclid Deep Field South\", \"ra\": 59.10, \"dec\": -48.73}\n",
    "lsstcomcam_targets[\"Rubin SV 95 -25\"] = {\n",
    "    \"field_name\": \"Low Galactic Latitude Field\",\n",
    "    \"ra\": 95.00,\n",
    "    \"dec\": -25.0,\n",
    "}\n",
    "lsstcomcam_targets[\"Seagull\"] = {\"field_name\": \"Seagull Nebula\", \"ra\": 106.23, \"dec\": -10.51}"
   ]
  },
  {
   "cell_type": "code",
   "execution_count": null,
   "id": "2fdc2905-3fd5-485e-a66b-56927d3de02f",
   "metadata": {
    "execution": {
     "iopub.execute_input": "2025-05-02T12:36:54.959399Z",
     "iopub.status.busy": "2025-05-02T12:36:54.959148Z",
     "iopub.status.idle": "2025-05-02T12:36:54.965994Z",
     "shell.execute_reply": "2025-05-02T12:36:54.965605Z",
     "shell.execute_reply.started": "2025-05-02T12:36:54.959385Z"
    }
   },
   "outputs": [],
   "source": [
    "# the_target = lsstcomcam_targets[\"Seagull\"]\n",
    "# the_target = lsstcomcam_targets[\"47 Tuc\"] # bad\n",
    "# the_target = lsstcomcam_targets[\"Fornax dSph\"]\n",
    "# the_target = lsstcomcam_targets[\"ECDFS\"]\n",
    "\n",
    "\n",
    "# key = \"Seagull\"\n",
    "# key = \"Fornax dSph\"\n",
    "key = \"ECDFS\"\n",
    "# key = \"EDFS\"\n",
    "# key = \"47 Tuc\"\n",
    "# key = \"Rubin SV 38 7\"\n",
    "# key = \"Rubin SV 95 -25\"\n",
    "\n",
    "\n",
    "the_target = lsstcomcam_targets[key]\n",
    "target_ra = the_target[\"ra\"]\n",
    "target_dec = the_target[\"dec\"]\n",
    "target_title = (\n",
    "    the_target[\"field_name\"] + f\" band  {BANDSEL} \" + f\" (ra,dec) = ({target_ra:.2f},{target_dec:.2f}) \"\n",
    ")\n",
    "target_point = SpherePoint(target_ra, target_dec, degrees)"
   ]
  },
  {
   "cell_type": "markdown",
   "id": "5097cdde-6283-4499-aaaa-57e799bdd53a",
   "metadata": {},
   "source": [
    "## Get list of tracts from the objectTable_tract"
   ]
  },
  {
   "cell_type": "code",
   "execution_count": null,
   "id": "3560cdd4-3d7e-4325-a3f5-07a0d70a8360",
   "metadata": {
    "execution": {
     "iopub.execute_input": "2025-05-02T12:36:54.966687Z",
     "iopub.status.busy": "2025-05-02T12:36:54.966428Z",
     "iopub.status.idle": "2025-05-02T12:36:54.974204Z",
     "shell.execute_reply": "2025-05-02T12:36:54.973781Z",
     "shell.execute_reply.started": "2025-05-02T12:36:54.966673Z"
    }
   },
   "outputs": [],
   "source": [
    "# Find the dimension\n",
    "print(butler.registry.getDatasetType(\"objectTable_tract\").dimensions)"
   ]
  },
  {
   "cell_type": "code",
   "execution_count": null,
   "id": "e07d2107-8c9e-485e-89bc-ec6e52fa10f4",
   "metadata": {
    "execution": {
     "iopub.execute_input": "2025-05-02T12:36:54.974813Z",
     "iopub.status.busy": "2025-05-02T12:36:54.974670Z",
     "iopub.status.idle": "2025-05-02T12:36:55.084585Z",
     "shell.execute_reply": "2025-05-02T12:36:55.084113Z",
     "shell.execute_reply.started": "2025-05-02T12:36:54.974800Z"
    }
   },
   "outputs": [],
   "source": [
    "datasettype = \"objectTable_tract\"\n",
    "therefs = butler.registry.queryDatasets(datasettype, collections=collection_validation)\n",
    "tractsId_list = np.unique([ref.dataId[\"tract\"] for ref in therefs])\n",
    "tractsId_list = sorted(tractsId_list)\n",
    "print(tractsId_list)"
   ]
  },
  {
   "cell_type": "markdown",
   "id": "f060f57d-ac96-4ec7-8a94-f760e118248a",
   "metadata": {},
   "source": [
    "## Find the Tract and Patch of the region of interest\n",
    "\n",
    "- tract in tractNbSel\n",
    "- patch in patchNbSel"
   ]
  },
  {
   "cell_type": "code",
   "execution_count": null,
   "id": "ea99cc96-a0bf-4dec-9418-895e5569688b",
   "metadata": {
    "execution": {
     "iopub.execute_input": "2025-05-02T12:36:55.085261Z",
     "iopub.status.busy": "2025-05-02T12:36:55.085125Z",
     "iopub.status.idle": "2025-05-02T12:36:55.090771Z",
     "shell.execute_reply": "2025-05-02T12:36:55.090330Z",
     "shell.execute_reply.started": "2025-05-02T12:36:55.085248Z"
    }
   },
   "outputs": [],
   "source": [
    "tract_info = skymap.findTract(target_point)\n",
    "patch_info = tract_info.findPatch(target_point)\n",
    "bbox = patch_info.getOuterBBox()\n",
    "\n",
    "print(\"Patch bounding box:\", bbox)\n",
    "\n",
    "print(\"Tract ID :\", tract_info.getId())\n",
    "tractNbSel = tract_info.getId()\n",
    "\n",
    "print(\"Patch Index :\", patch_info.getIndex(), \" , \", patch_info.getSequentialIndex())  # (x, y)\n",
    "print(\"Bounding Box\", bbox)\n",
    "\n",
    "patchNbSel = patch_info.getSequentialIndex()"
   ]
  },
  {
   "cell_type": "code",
   "execution_count": null,
   "id": "e1df364f-89a7-4a94-9541-89a05d75004c",
   "metadata": {
    "execution": {
     "iopub.execute_input": "2025-05-02T12:36:55.091343Z",
     "iopub.status.busy": "2025-05-02T12:36:55.091215Z",
     "iopub.status.idle": "2025-05-02T12:36:55.098913Z",
     "shell.execute_reply": "2025-05-02T12:36:55.098533Z",
     "shell.execute_reply.started": "2025-05-02T12:36:55.091331Z"
    }
   },
   "outputs": [],
   "source": [
    "dataId = {\"band\": BANDSEL, \"tract\": tractNbSel, \"patch\": patchNbSel, \"skymap\": skymapName}"
   ]
  },
  {
   "cell_type": "markdown",
   "id": "131ff71d-cee0-4141-ac33-c8f33758a584",
   "metadata": {},
   "source": [
    "## The Objects\n",
    "\n",
    "- Objects are extracted from object detection on deepcoadds\n",
    "- all bands are included "
   ]
  },
  {
   "cell_type": "code",
   "execution_count": null,
   "id": "da53ac66-c2fc-4b54-a19b-0e6d2def56a9",
   "metadata": {
    "execution": {
     "iopub.execute_input": "2025-05-02T12:36:55.101331Z",
     "iopub.status.busy": "2025-05-02T12:36:55.101037Z",
     "iopub.status.idle": "2025-05-02T12:36:55.106194Z",
     "shell.execute_reply": "2025-05-02T12:36:55.105805Z",
     "shell.execute_reply.started": "2025-05-02T12:36:55.101316Z"
    }
   },
   "outputs": [],
   "source": [
    "print(butler.registry.getDatasetType(\"objectTable\").dimensions)"
   ]
  },
  {
   "cell_type": "code",
   "execution_count": null,
   "id": "3e6b671b-f1c2-48ce-97ea-1eef0fa56cca",
   "metadata": {
    "execution": {
     "iopub.execute_input": "2025-05-02T12:36:55.106750Z",
     "iopub.status.busy": "2025-05-02T12:36:55.106618Z",
     "iopub.status.idle": "2025-05-02T12:36:55.113692Z",
     "shell.execute_reply": "2025-05-02T12:36:55.113298Z",
     "shell.execute_reply.started": "2025-05-02T12:36:55.106737Z"
    }
   },
   "outputs": [],
   "source": [
    "# cannot add a filter on band\n",
    "where_clause = f\"skymap = '{skymapName}' AND tract = {tractNbSel} AND patch = {patchNbSel}\"\n",
    "print(where_clause)"
   ]
  },
  {
   "cell_type": "code",
   "execution_count": null,
   "id": "064b709e-fd22-453f-a89c-8feeb6a157c7",
   "metadata": {
    "execution": {
     "iopub.execute_input": "2025-05-02T12:36:55.114384Z",
     "iopub.status.busy": "2025-05-02T12:36:55.114144Z",
     "iopub.status.idle": "2025-05-02T12:36:55.793526Z",
     "shell.execute_reply": "2025-05-02T12:36:55.792954Z",
     "shell.execute_reply.started": "2025-05-02T12:36:55.114370Z"
    }
   },
   "outputs": [],
   "source": [
    "dataset_refs = list(\n",
    "    butler.registry.queryDatasets(\"objectTable\", collections=collection_validation, where=where_clause)\n",
    ")\n",
    "# Récupère un des refs valides\n",
    "Nrefs = len(dataset_refs)\n",
    "print(f\"Number of objectTables : {Nrefs}\")\n",
    "ref = dataset_refs[0]\n",
    "t = butler.get(ref)\n",
    "Nobj = len(t)\n",
    "# del t\n",
    "# gc.collect()\n",
    "print(f\"Total Number of objects {Nobj}\")"
   ]
  },
  {
   "cell_type": "markdown",
   "id": "584463e6-5694-4bfd-a5f3-c0021e8c64bc",
   "metadata": {
    "execution": {
     "iopub.execute_input": "2025-05-01T20:56:43.699655Z",
     "iopub.status.busy": "2025-05-01T20:56:43.699512Z",
     "iopub.status.idle": "2025-05-01T20:56:43.702758Z",
     "shell.execute_reply": "2025-05-01T20:56:43.702457Z",
     "shell.execute_reply.started": "2025-05-01T20:56:43.699640Z"
    }
   },
   "source": [
    "Oui, dans ce type de objectTable, les colonnes comme g_psfFlux, g_kronFlux, g_cModelFlux, etc., sont des flux calibrés (en nJy ou en unité de calibration interne du pipeline). Pour les convertir en magnitudes AB, tu peux utiliser la formule classique :"
   ]
  },
  {
   "cell_type": "code",
   "execution_count": null,
   "id": "069c5c04-af0c-47b3-893d-7c6ccf2c76a1",
   "metadata": {
    "execution": {
     "iopub.execute_input": "2025-05-02T12:36:55.794290Z",
     "iopub.status.busy": "2025-05-02T12:36:55.794141Z",
     "iopub.status.idle": "2025-05-02T12:36:55.796911Z",
     "shell.execute_reply": "2025-05-02T12:36:55.796467Z",
     "shell.execute_reply.started": "2025-05-02T12:36:55.794276Z"
    }
   },
   "outputs": [],
   "source": [
    "# Utilise ref.datasetType.name pour lister les colonnes disponibles\n",
    "# check the columns definition in : https://lse-163.lsst.io/\n",
    "if FLAG_DUMP_OBJECTSTABLECOLUMNS:\n",
    "    t_columns = list(butler.get(ref).columns)\n",
    "    print(t_columns)"
   ]
  },
  {
   "cell_type": "code",
   "execution_count": null,
   "id": "7c6648f9-6053-4343-aab6-56cb9648c599",
   "metadata": {
    "execution": {
     "iopub.execute_input": "2025-05-02T12:36:55.797506Z",
     "iopub.status.busy": "2025-05-02T12:36:55.797379Z",
     "iopub.status.idle": "2025-05-02T12:36:55.805277Z",
     "shell.execute_reply": "2025-05-02T12:36:55.804888Z",
     "shell.execute_reply.started": "2025-05-02T12:36:55.797494Z"
    }
   },
   "outputs": [],
   "source": [
    "# La constante 31.4 correspond à la conversion AB standard pour un flux exprimé en nanoJanskys (nJy).\n",
    "# À vérifier selon l’unité exacte utilisée par le pipeline sur ton RSP\n",
    "# (souvent c’est bien nJy, mais ça peut être autre chose si la calibration a été changée).\n",
    "# mag = -2.5 * np.log10(flux) + 31.4"
   ]
  },
  {
   "cell_type": "markdown",
   "id": "36e494b6-323e-4447-8489-bd889933146d",
   "metadata": {},
   "source": [
    "## Extract the per-band tables of coordinates"
   ]
  },
  {
   "cell_type": "code",
   "execution_count": null,
   "id": "3218b6b4-93ce-43c4-a16b-ab920769d45f",
   "metadata": {
    "execution": {
     "iopub.execute_input": "2025-05-02T12:36:55.805879Z",
     "iopub.status.busy": "2025-05-02T12:36:55.805753Z",
     "iopub.status.idle": "2025-05-02T12:36:55.812749Z",
     "shell.execute_reply": "2025-05-02T12:36:55.812366Z",
     "shell.execute_reply.started": "2025-05-02T12:36:55.805867Z"
    }
   },
   "outputs": [],
   "source": [
    "MAGCUT = 20.0"
   ]
  },
  {
   "cell_type": "code",
   "execution_count": null,
   "id": "52e5169a-bc88-4cbe-81eb-97defc2938cc",
   "metadata": {
    "execution": {
     "iopub.execute_input": "2025-05-02T12:36:55.813352Z",
     "iopub.status.busy": "2025-05-02T12:36:55.813229Z",
     "iopub.status.idle": "2025-05-02T12:36:55.859102Z",
     "shell.execute_reply": "2025-05-02T12:36:55.858591Z",
     "shell.execute_reply.started": "2025-05-02T12:36:55.813340Z"
    }
   },
   "outputs": [],
   "source": [
    "# Check columns definitions in https://lse-163.lsst.io/\n",
    "all_radecTable = []\n",
    "\n",
    "for band in all_bands:\n",
    "    id_name = \"objectId\"\n",
    "    id_parentname = \"parentObjectId\"\n",
    "    x_name = f\"{band}_centroid_x\"\n",
    "    y_name = f\"{band}_centroid_y\"\n",
    "    coord_ra_name = \"coord_ra\"\n",
    "    coord_dec_name = \"coord_dec\"\n",
    "    ra_name = f\"{band}_ra\"\n",
    "    dec_name = f\"{band}_dec\"\n",
    "    decl_name = f\"{band}_decl\"\n",
    "    raerr_name = f\"{band}_raErr\"\n",
    "    decerr_name = f\"{band}_decErr\"\n",
    "    extendedness_name = f\"{band}_extendedness\"\n",
    "    blendness_name = f\"{band}_blendedness\"\n",
    "    psfflux_name = f\"{band}_psfFlux\"\n",
    "    psfmag_name = f\"{band}_psfMag\"\n",
    "    psfflux_free_name = f\"{band}_free_psfFlux\"\n",
    "    df = t[\n",
    "        [\n",
    "            id_name,\n",
    "            id_parentname,\n",
    "            x_name,\n",
    "            y_name,\n",
    "            coord_ra_name,\n",
    "            coord_dec_name,\n",
    "            ra_name,\n",
    "            dec_name,\n",
    "            raerr_name,\n",
    "            decerr_name,\n",
    "            decl_name,\n",
    "            extendedness_name,\n",
    "            blendness_name,\n",
    "            psfflux_name,\n",
    "        ]\n",
    "    ]\n",
    "\n",
    "    # select primary objects\n",
    "    df_sel = (df[df[id_parentname] == 0]).drop([id_parentname], axis=1)\n",
    "    # compute magnitude AB\n",
    "    df_sel[psfmag_name] = df_sel[psfflux_name].apply(nJy_to_ab_mag)\n",
    "    # drop bad magnitudes\n",
    "    df_sel = df_sel[df_sel[psfmag_name] != 0.0]\n",
    "    # drop the fluxes\n",
    "    df_sel = df_sel.drop([psfflux_name], axis=1)\n",
    "\n",
    "    # select bright objects\n",
    "    df_sel = df_sel[df_sel[psfmag_name] < MAGCUT]\n",
    "\n",
    "    # save table in the list\n",
    "    all_radecTable.append(df_sel)"
   ]
  },
  {
   "cell_type": "code",
   "execution_count": null,
   "id": "52db0e04-6c27-4b26-95a1-5c97ea48e93c",
   "metadata": {
    "execution": {
     "iopub.execute_input": "2025-05-02T12:36:55.859795Z",
     "iopub.status.busy": "2025-05-02T12:36:55.859650Z",
     "iopub.status.idle": "2025-05-02T12:36:55.862513Z",
     "shell.execute_reply": "2025-05-02T12:36:55.862101Z",
     "shell.execute_reply.started": "2025-05-02T12:36:55.859781Z"
    }
   },
   "outputs": [],
   "source": [
    "for idx, band in enumerate(all_bands):\n",
    "    df_obj = all_radecTable[idx]\n",
    "    n = len(df_obj)\n",
    "    print(f\"Number of objects in band {band} : {n}\")"
   ]
  },
  {
   "cell_type": "code",
   "execution_count": null,
   "id": "eff3a2ae-5d70-40d9-9b64-cd03ae190625",
   "metadata": {
    "execution": {
     "iopub.execute_input": "2025-05-02T12:36:55.863097Z",
     "iopub.status.busy": "2025-05-02T12:36:55.862967Z",
     "iopub.status.idle": "2025-05-02T12:36:55.883677Z",
     "shell.execute_reply": "2025-05-02T12:36:55.883311Z",
     "shell.execute_reply.started": "2025-05-02T12:36:55.863085Z"
    }
   },
   "outputs": [],
   "source": [
    "all_radecTable[0]"
   ]
  },
  {
   "cell_type": "markdown",
   "id": "7c03c77e-2d85-4ee0-ada1-c6ef2311367b",
   "metadata": {},
   "source": [
    "## Get Coadds and WCS"
   ]
  },
  {
   "cell_type": "code",
   "execution_count": null,
   "id": "c310312e-983b-4b29-a936-8d97249432fb",
   "metadata": {
    "execution": {
     "iopub.execute_input": "2025-05-02T12:36:55.884260Z",
     "iopub.status.busy": "2025-05-02T12:36:55.884129Z",
     "iopub.status.idle": "2025-05-02T12:36:55.886629Z",
     "shell.execute_reply": "2025-05-02T12:36:55.886254Z",
     "shell.execute_reply.started": "2025-05-02T12:36:55.884247Z"
    }
   },
   "outputs": [],
   "source": [
    "all_dataIds = [\n",
    "    {\n",
    "        \"band\": band,\n",
    "        \"tract\": tract_info.getId(),\n",
    "        \"patch\": patch_info.getSequentialIndex(),\n",
    "        \"skymap\": skymapName,\n",
    "    }\n",
    "    for band in all_bands\n",
    "]"
   ]
  },
  {
   "cell_type": "code",
   "execution_count": null,
   "id": "dfea2336-a858-4571-b4fc-f1881330a769",
   "metadata": {
    "execution": {
     "iopub.execute_input": "2025-05-02T12:36:55.887241Z",
     "iopub.status.busy": "2025-05-02T12:36:55.887112Z",
     "iopub.status.idle": "2025-05-02T12:37:09.089347Z",
     "shell.execute_reply": "2025-05-02T12:37:09.088742Z",
     "shell.execute_reply.started": "2025-05-02T12:36:55.887228Z"
    }
   },
   "outputs": [],
   "source": [
    "all_deepCoadds = []\n",
    "all_deepCoadds_wcs = []\n",
    "\n",
    "all_titles = []\n",
    "for idx, band in enumerate(all_bands):\n",
    "    the_band = band\n",
    "    the_dataId = all_dataIds[idx]\n",
    "    the_title = key + f\" band {the_band}\"\n",
    "    try:\n",
    "        coadd_exp = butler.get(\"deepCoadd_calexp\", the_dataId)\n",
    "        wcs = coadd_exp.getWcs()\n",
    "        psf = coadd_exp.getPsf()\n",
    "        all_deepCoadds.append(coadd_exp)\n",
    "        all_deepCoadds_wcs.append(wcs)\n",
    "        all_titles.append(the_title)\n",
    "\n",
    "    except Exception as inst:\n",
    "        print(f\"{key} :: catch Exception for band {band}\")\n",
    "        print(type(inst))  # the exception type\n",
    "        print(inst.args)  # arguments stored in .args\n",
    "        print(inst)  # __str_"
   ]
  },
  {
   "cell_type": "markdown",
   "id": "0ac81c2a-c04d-4896-872a-1fe09064312b",
   "metadata": {},
   "source": [
    "## Plot on coadds"
   ]
  },
  {
   "cell_type": "markdown",
   "id": "79f9b3f4-86a3-4d49-94a7-f5bbeec33937",
   "metadata": {
    "execution": {
     "iopub.execute_input": "2025-05-02T11:56:42.720404Z",
     "iopub.status.busy": "2025-05-02T11:56:42.720135Z",
     "iopub.status.idle": "2025-05-02T11:56:42.733223Z",
     "shell.execute_reply": "2025-05-02T11:56:42.732718Z",
     "shell.execute_reply.started": "2025-05-02T11:56:42.720390Z"
    }
   },
   "source": [
    "# Dee DP02 tutorial\n",
    "- d02_03c_Big_deepCoadd_Cutout.ipynb"
   ]
  },
  {
   "cell_type": "code",
   "execution_count": null,
   "id": "5f1234ca-8f46-445e-831a-93df467b6bd5",
   "metadata": {
    "execution": {
     "iopub.execute_input": "2025-05-02T12:43:16.058321Z",
     "iopub.status.busy": "2025-05-02T12:43:16.057985Z",
     "iopub.status.idle": "2025-05-02T12:43:16.061072Z",
     "shell.execute_reply": "2025-05-02T12:43:16.060673Z",
     "shell.execute_reply.started": "2025-05-02T12:43:16.058293Z"
    }
   },
   "outputs": [],
   "source": [
    "# df = all_radecTable[0]\n",
    "#\n",
    "# for index, row in df.iterrows():\n",
    "#    print(row)"
   ]
  },
  {
   "cell_type": "code",
   "execution_count": null,
   "id": "b35bfed1-db2b-48c6-9726-0cccc2f95ea0",
   "metadata": {
    "execution": {
     "iopub.execute_input": "2025-05-02T12:46:14.152028Z",
     "iopub.status.busy": "2025-05-02T12:46:14.151485Z",
     "iopub.status.idle": "2025-05-02T12:46:17.475477Z",
     "shell.execute_reply": "2025-05-02T12:46:17.475007Z",
     "shell.execute_reply.started": "2025-05-02T12:46:14.152008Z"
    }
   },
   "outputs": [],
   "source": [
    "N = len(all_deepCoadds)\n",
    "for count in range(N):\n",
    "    band = all_bands[count]\n",
    "    display = afwDisplay.Display(frame=count + 1)\n",
    "    # cannot succeed to show white stars on dark sky\n",
    "    display.setImageColormap(\"gray\")\n",
    "    display.scale(\"asinh\", \"zscale\")\n",
    "    display.mtv(all_deepCoadds[count].image, title=all_titles[count])\n",
    "\n",
    "    # work on target\n",
    "    wcs = all_deepCoadds_wcs[count]\n",
    "    df = all_radecTable[count]\n",
    "    x_name = f\"{band}_centroid_x\"\n",
    "    y_name = f\"{band}_centroid_y\"\n",
    "\n",
    "    with display.Buffering():\n",
    "        for index, row in df.iterrows():\n",
    "            xpix = row[x_name]\n",
    "            ypix = row[y_name]\n",
    "            display.dot(\"o\", xpix, ypix, size=50, ctype=\"red\")"
   ]
  },
  {
   "cell_type": "code",
   "execution_count": null,
   "id": "e0249e7b-8a60-454d-927c-b1f0bf2da16a",
   "metadata": {},
   "outputs": [],
   "source": []
  }
 ],
 "metadata": {
  "kernelspec": {
   "display_name": "LSST",
   "language": "python",
   "name": "lsst"
  },
  "language_info": {
   "codemirror_mode": {
    "name": "ipython",
    "version": 3
   },
   "file_extension": ".py",
   "mimetype": "text/x-python",
   "name": "python",
   "nbconvert_exporter": "python",
   "pygments_lexer": "ipython3",
   "version": "3.12.9"
  }
 },
 "nbformat": 4,
 "nbformat_minor": 5
}
