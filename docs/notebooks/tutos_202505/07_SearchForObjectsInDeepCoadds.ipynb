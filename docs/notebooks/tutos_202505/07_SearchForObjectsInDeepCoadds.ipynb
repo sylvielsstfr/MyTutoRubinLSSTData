{
 "cells": [
  {
   "cell_type": "markdown",
   "id": "adda26b1-7594-48da-94d2-6722bd71353c",
   "metadata": {},
   "source": [
    "# Tuto to find  Objects on Coadds in LSSTComCam"
   ]
  },
  {
   "cell_type": "markdown",
   "id": "1f276e2d-e5e1-4b30-bf3c-4ea950073fad",
   "metadata": {
    "execution": {
     "iopub.execute_input": "2025-04-29T08:48:57.989253Z",
     "iopub.status.busy": "2025-04-29T08:48:57.988923Z",
     "iopub.status.idle": "2025-04-29T08:48:57.993268Z",
     "shell.execute_reply": "2025-04-29T08:48:57.992764Z",
     "shell.execute_reply.started": "2025-04-29T08:48:57.989226Z"
    }
   },
   "source": [
    "- author : Sylvie Dagoret-Campagne\n",
    "- affiliation : IJCLab/IN2P3/CNRS\n",
    "- member : DESC, rubin-inkind\n",
    "- creation date : 2025-05-02\n",
    "- last update : 2025-05-02"
   ]
  },
  {
   "cell_type": "markdown",
   "id": "81c11161-2bd4-4317-812a-f246f3f70d81",
   "metadata": {},
   "source": [
    "## Note on work done on LSSTComCam Commissioning : https://sitcomtn-149.lsst.io/\n",
    "## Note Data Product definition Document : https://lse-163.lsst.io/"
   ]
  },
  {
   "cell_type": "code",
   "execution_count": null,
   "id": "72f36e25-589c-4a8c-865f-8b51f5f35270",
   "metadata": {
    "execution": {
     "iopub.execute_input": "2025-05-02T19:19:53.958435Z",
     "iopub.status.busy": "2025-05-02T19:19:53.958303Z",
     "iopub.status.idle": "2025-05-02T19:19:55.021217Z",
     "shell.execute_reply": "2025-05-02T19:19:55.020715Z",
     "shell.execute_reply.started": "2025-05-02T19:19:53.958420Z"
    }
   },
   "outputs": [],
   "source": [
    "import sys\n",
    "import matplotlib.pyplot as plt\n",
    "import lsst.afw.display as afwDisplay\n",
    "import numpy as np\n",
    "import pandas as pd\n",
    "from astropy.time import Time\n",
    "# %matplotlib widget"
   ]
  },
  {
   "cell_type": "code",
   "execution_count": null,
   "id": "7ec0c508-22aa-4608-adda-ff2c9083dc75",
   "metadata": {
    "execution": {
     "iopub.execute_input": "2025-05-02T19:19:55.023653Z",
     "iopub.status.busy": "2025-05-02T19:19:55.023524Z",
     "iopub.status.idle": "2025-05-02T19:19:55.084087Z",
     "shell.execute_reply": "2025-05-02T19:19:55.083493Z",
     "shell.execute_reply.started": "2025-05-02T19:19:55.023638Z"
    }
   },
   "outputs": [],
   "source": [
    "afwDisplay.setDefaultBackend(\"firefly\")"
   ]
  },
  {
   "cell_type": "code",
   "execution_count": null,
   "id": "42897fba-1ca4-4f20-837d-bd7478ac4548",
   "metadata": {
    "execution": {
     "iopub.execute_input": "2025-05-02T19:19:55.086283Z",
     "iopub.status.busy": "2025-05-02T19:19:55.086158Z",
     "iopub.status.idle": "2025-05-02T19:19:55.110255Z",
     "shell.execute_reply": "2025-05-02T19:19:55.109886Z",
     "shell.execute_reply.started": "2025-05-02T19:19:55.086269Z"
    }
   },
   "outputs": [],
   "source": [
    "import lsst.geom as geom\n",
    "from lsst.geom import SpherePoint, degrees\n",
    "from lsst.skymap import PatchInfo, Index2D\n",
    "# from lsst.afw.image import nJyToAbMag, abMagToNanojansky"
   ]
  },
  {
   "cell_type": "code",
   "execution_count": null,
   "id": "f2580923-bf82-4204-a50d-c64eb56b9f06",
   "metadata": {
    "execution": {
     "iopub.execute_input": "2025-05-02T19:19:55.111976Z",
     "iopub.status.busy": "2025-05-02T19:19:55.111854Z",
     "iopub.status.idle": "2025-05-02T19:19:55.114149Z",
     "shell.execute_reply": "2025-05-02T19:19:55.113801Z",
     "shell.execute_reply.started": "2025-05-02T19:19:55.111963Z"
    }
   },
   "outputs": [],
   "source": [
    "plt.rcParams[\"figure.figsize\"] = (10, 6)\n",
    "plt.rcParams[\"axes.labelsize\"] = \"x-large\"\n",
    "plt.rcParams[\"axes.titlesize\"] = \"x-large\"\n",
    "plt.rcParams[\"xtick.labelsize\"] = \"x-large\"\n",
    "plt.rcParams[\"ytick.labelsize\"] = \"x-large\""
   ]
  },
  {
   "cell_type": "code",
   "execution_count": null,
   "id": "d47f09df-7496-431c-b4ae-4fb75a3c6ef9",
   "metadata": {
    "execution": {
     "iopub.execute_input": "2025-05-02T19:19:55.114784Z",
     "iopub.status.busy": "2025-05-02T19:19:55.114643Z",
     "iopub.status.idle": "2025-05-02T19:19:55.123503Z",
     "shell.execute_reply": "2025-05-02T19:19:55.123161Z",
     "shell.execute_reply.started": "2025-05-02T19:19:55.114769Z"
    }
   },
   "outputs": [],
   "source": [
    "import gc"
   ]
  },
  {
   "cell_type": "code",
   "execution_count": null,
   "id": "1a1a267b-58c7-468a-a336-2c8def253a79",
   "metadata": {
    "execution": {
     "iopub.execute_input": "2025-05-02T19:19:55.124080Z",
     "iopub.status.busy": "2025-05-02T19:19:55.123945Z",
     "iopub.status.idle": "2025-05-02T19:19:55.131548Z",
     "shell.execute_reply": "2025-05-02T19:19:55.131201Z",
     "shell.execute_reply.started": "2025-05-02T19:19:55.124066Z"
    }
   },
   "outputs": [],
   "source": [
    "import traceback"
   ]
  },
  {
   "cell_type": "code",
   "execution_count": null,
   "id": "ede21bda-146f-4c77-aa40-edf2debfbfc0",
   "metadata": {
    "execution": {
     "iopub.execute_input": "2025-05-02T19:19:55.132079Z",
     "iopub.status.busy": "2025-05-02T19:19:55.131952Z",
     "iopub.status.idle": "2025-05-02T19:19:56.097886Z",
     "shell.execute_reply": "2025-05-02T19:19:56.097355Z",
     "shell.execute_reply.started": "2025-05-02T19:19:55.132066Z"
    }
   },
   "outputs": [],
   "source": [
    "# Define butler\n",
    "from lsst.daf.butler import Butler"
   ]
  },
  {
   "cell_type": "code",
   "execution_count": null,
   "id": "c7ab7fe3-285d-48c2-973a-2dde9d0a7faa",
   "metadata": {
    "execution": {
     "iopub.execute_input": "2025-05-02T19:19:56.098584Z",
     "iopub.status.busy": "2025-05-02T19:19:56.098436Z",
     "iopub.status.idle": "2025-05-02T19:19:56.770629Z",
     "shell.execute_reply": "2025-05-02T19:19:56.770006Z",
     "shell.execute_reply.started": "2025-05-02T19:19:56.098568Z"
    }
   },
   "outputs": [],
   "source": [
    "!eups list lsst_distrib"
   ]
  },
  {
   "cell_type": "code",
   "execution_count": null,
   "id": "c4bcd05b-ae35-42d9-9d69-251a37adae38",
   "metadata": {
    "execution": {
     "iopub.execute_input": "2025-05-02T19:19:56.771516Z",
     "iopub.status.busy": "2025-05-02T19:19:56.771357Z",
     "iopub.status.idle": "2025-05-02T19:19:56.774892Z",
     "shell.execute_reply": "2025-05-02T19:19:56.774448Z",
     "shell.execute_reply.started": "2025-05-02T19:19:56.771498Z"
    }
   },
   "outputs": [],
   "source": [
    "def nJy_to_ab_mag(f_njy):\n",
    "    \"\"\"Convert flux in nanojanskys to AB magnitude.\"\"\"\n",
    "    if f_njy > 0:\n",
    "        return -2.5 * np.log10(f_njy) + 31.4\n",
    "    else:\n",
    "        return 0.0\n",
    "\n",
    "\n",
    "def ab_mag_to_nJy(mag_ab):\n",
    "    \"\"\"Convert AB magnitude to flux in nanojanskys.\"\"\"\n",
    "    return 10 ** ((31.4 - mag_ab) / 2.5)"
   ]
  },
  {
   "cell_type": "markdown",
   "id": "7e369002-01db-40e2-a7b7-036072114e6a",
   "metadata": {},
   "source": [
    "## RubinTV, Campaigns , quicklook\n",
    "- RubinTV : https://usdf-rsp.slac.stanford.edu/rubintv/summit-usdf/lsstcam\n",
    "- https://rubinobs.atlassian.net/wiki/spaces/LSSTCOM/pages/467370016/LSSTCam+Commissioning+Planning\n",
    "- LSSTCam DM campaign : https://rubinobs.atlassian.net/wiki/spaces/DM/pages/48834013/Campaigns#1.1.2.-LSSTCam-Nightly-Validation-Pipeline\n",
    "- Check campaign also here  https://rubinobs.atlassian.net/wiki/pages/diffpagesbyversion.action?pageId=48834013&selectedPageVersions=145%2C143\n",
    "- fov-quicklook : https://usdf-rsp-dev.slac.stanford.edu/fov-quicklook/"
   ]
  },
  {
   "cell_type": "markdown",
   "id": "4ce495c8-71a6-4846-86fc-5715e13348ab",
   "metadata": {},
   "source": [
    "## Configuration"
   ]
  },
  {
   "cell_type": "code",
   "execution_count": null,
   "id": "91e7b166-6245-4e54-8cb1-21f34fbba78f",
   "metadata": {
    "execution": {
     "iopub.execute_input": "2025-05-02T19:19:56.775502Z",
     "iopub.status.busy": "2025-05-02T19:19:56.775373Z",
     "iopub.status.idle": "2025-05-02T19:19:56.786311Z",
     "shell.execute_reply": "2025-05-02T19:19:56.785905Z",
     "shell.execute_reply.started": "2025-05-02T19:19:56.775490Z"
    }
   },
   "outputs": [],
   "source": [
    "FLAG_DUMP_COLLECTIONS = False\n",
    "FLAG_DUMP_DATASETS = False\n",
    "FLAG_DUMP_OBJECTSTABLECOLUMNS = False\n",
    "FLAG_CUT_OBJECTSMAG = True"
   ]
  },
  {
   "cell_type": "code",
   "execution_count": null,
   "id": "f1eeaf53-9ea2-4640-91cb-106d8d087294",
   "metadata": {
    "execution": {
     "iopub.execute_input": "2025-05-02T19:19:56.786984Z",
     "iopub.status.busy": "2025-05-02T19:19:56.786857Z",
     "iopub.status.idle": "2025-05-02T19:19:56.796766Z",
     "shell.execute_reply": "2025-05-02T19:19:56.796345Z",
     "shell.execute_reply.started": "2025-05-02T19:19:56.786972Z"
    }
   },
   "outputs": [],
   "source": [
    "MAGCUT = 22.0"
   ]
  },
  {
   "cell_type": "code",
   "execution_count": null,
   "id": "566b4b6f-68ac-472f-9a14-9645d06d291a",
   "metadata": {
    "execution": {
     "iopub.execute_input": "2025-05-02T19:19:56.797276Z",
     "iopub.status.busy": "2025-05-02T19:19:56.797156Z",
     "iopub.status.idle": "2025-05-02T19:19:56.805355Z",
     "shell.execute_reply": "2025-05-02T19:19:56.804948Z",
     "shell.execute_reply.started": "2025-05-02T19:19:56.797263Z"
    }
   },
   "outputs": [],
   "source": [
    "all_bands = [\"u\", \"g\", \"r\", \"i\", \"z\", \"y\"]\n",
    "all_bands_colors = [\"blue\", \"green\", \"red\", \"orange\", \"yellow\", \"purple\"]"
   ]
  },
  {
   "cell_type": "markdown",
   "id": "29bdd60b-f237-4a90-8aee-95f83091a5c8",
   "metadata": {},
   "source": [
    "### Choose instrument"
   ]
  },
  {
   "cell_type": "code",
   "execution_count": null,
   "id": "66ff700b-a6ab-4b6d-ab28-dfadf54fdd9f",
   "metadata": {
    "execution": {
     "iopub.execute_input": "2025-05-02T19:19:56.805903Z",
     "iopub.status.busy": "2025-05-02T19:19:56.805783Z",
     "iopub.status.idle": "2025-05-02T19:19:56.814944Z",
     "shell.execute_reply": "2025-05-02T19:19:56.814373Z",
     "shell.execute_reply.started": "2025-05-02T19:19:56.805891Z"
    }
   },
   "outputs": [],
   "source": [
    "# instrument = \"LSSTCam\"\n",
    "\n",
    "# We focus here on sky fields oberved by LSSTComCam, so we select this camera\n",
    "instrument = \"LSSTComCam\""
   ]
  },
  {
   "cell_type": "markdown",
   "id": "6a07464c-6f2e-4015-8ea6-1fbc5698c1dd",
   "metadata": {},
   "source": [
    "### Choose options"
   ]
  },
  {
   "cell_type": "markdown",
   "id": "29fc15af-ca3f-4c38-99ec-433e84dae8a2",
   "metadata": {},
   "source": [
    "### For LSSTCam : RubinTV, Campaigns , quicklook\n",
    "- RubinTV : https://usdf-rsp.slac.stanford.edu/rubintv/summit-usdf/lsstcam\n",
    "- https://rubinobs.atlassian.net/wiki/spaces/LSSTCOM/pages/467370016/LSSTCam+Commissioning+Planning\n",
    "- LSSTCam DM campaign : https://rubinobs.atlassian.net/wiki/spaces/DM/pages/48834013/Campaigns#1.1.2.-LSSTCam-Nightly-Validation-Pipeline\n",
    "- Check campaign also here  https://rubinobs.atlassian.net/wiki/pages/diffpagesbyversion.action?pageId=48834013&selectedPageVersions=145%2C143\n",
    "- fov-quicklook : https://usdf-rsp-dev.slac.stanford.edu/fov-quicklook/"
   ]
  },
  {
   "cell_type": "markdown",
   "id": "5542de7d-695e-4256-b765-28b902b02adc",
   "metadata": {},
   "source": [
    "### For LSSTComCam check here : \n",
    "- Check here the collection available : https://rubinobs.atlassian.net/wiki/spaces/DM/pages/226656354/LSSTComCam+Intermittent+Cumulative+DRP+Runs"
   ]
  },
  {
   "cell_type": "code",
   "execution_count": null,
   "id": "eacb14b0-183c-4dcd-ba59-64c7ca3efcd3",
   "metadata": {
    "execution": {
     "iopub.execute_input": "2025-05-02T19:19:56.815966Z",
     "iopub.status.busy": "2025-05-02T19:19:56.815712Z",
     "iopub.status.idle": "2025-05-02T19:19:56.828481Z",
     "shell.execute_reply": "2025-05-02T19:19:56.828073Z",
     "shell.execute_reply.started": "2025-05-02T19:19:56.815939Z"
    }
   },
   "outputs": [],
   "source": [
    "if instrument == \"LSSTCam\":\n",
    "    repo = \"/repo/embargo\"\n",
    "    instrument = \"LSSTCam\"\n",
    "    collection_validation = instrument + \"/runs/nightlyValidation\"\n",
    "    # collection_quicklook   = instrument + '/runs/quickLookTesting'\n",
    "    collection_validation = os.path.join(collection_validation, \"20250416/d_2025_04_15/DM-50157\")\n",
    "    date_start = 20250415\n",
    "    date_selection = 20250416\n",
    "    where_clause = \"instrument = '\" + f\"{instrument}\" + \"'\"\n",
    "    where_clause_date = where_clause + f\"and day_obs >= {date_start}\"\n",
    "    skymapName = \"lsst_cells_v1\"\n",
    "    BANDSEL = \"i\"\n",
    "\n",
    "elif instrument == \"LSSTComCam\":\n",
    "    repo = \"/repo/main\"\n",
    "    collection_validation = \"LSSTComCam/runs/DRP/DP1/w_2025_10/DM-49359\"  # work 2025-05-01\n",
    "    # collection_validation = \"LSSTComCam/runs/DRP/DP1/w_2025_17/DM-50530\" #updated 2025-05-02\n",
    "    date_start = 20241024\n",
    "    date_selection = 20241211\n",
    "    skymapName = \"lsst_cells_v1\"\n",
    "    where_clause = \"instrument = '\" + instrument + \"'\"\n",
    "    where_clause_date = where_clause + f\"and day_obs >= {date_start}\"\n",
    "\n",
    "    NDET = 9\n",
    "    TRACTSEL = 5063\n",
    "    BANDSEL = \"i\""
   ]
  },
  {
   "cell_type": "code",
   "execution_count": null,
   "id": "82535307-9253-4f06-b82a-956efd0217c9",
   "metadata": {
    "execution": {
     "iopub.execute_input": "2025-05-02T19:19:56.829128Z",
     "iopub.status.busy": "2025-05-02T19:19:56.828984Z",
     "iopub.status.idle": "2025-05-02T19:19:56.836634Z",
     "shell.execute_reply": "2025-05-02T19:19:56.836272Z",
     "shell.execute_reply.started": "2025-05-02T19:19:56.829113Z"
    }
   },
   "outputs": [],
   "source": [
    "collectionStr = collection_validation.replace(\"/\", \"_\")"
   ]
  },
  {
   "cell_type": "markdown",
   "id": "e77a39ca-c34f-4097-8a11-c40a121a82e9",
   "metadata": {},
   "source": [
    "## Access to Butler registry"
   ]
  },
  {
   "cell_type": "code",
   "execution_count": null,
   "id": "8726b7e4-94b7-48ac-92f8-447b34b7a59e",
   "metadata": {
    "execution": {
     "iopub.execute_input": "2025-05-02T19:19:56.837486Z",
     "iopub.status.busy": "2025-05-02T19:19:56.837111Z",
     "iopub.status.idle": "2025-05-02T19:19:57.208718Z",
     "shell.execute_reply": "2025-05-02T19:19:57.208237Z",
     "shell.execute_reply.started": "2025-05-02T19:19:56.837470Z"
    }
   },
   "outputs": [],
   "source": [
    "# Initialize the butler repo:\n",
    "butler = Butler(repo, collections=collection_validation)\n",
    "registry = butler.registry"
   ]
  },
  {
   "cell_type": "markdown",
   "id": "a82d1397-cd01-45d3-9f39-8b4f6bcbb21f",
   "metadata": {},
   "source": [
    "## Create a skymap object and Camera"
   ]
  },
  {
   "cell_type": "code",
   "execution_count": null,
   "id": "2a570834-a5dc-43b8-a0d3-af71a5b2706c",
   "metadata": {
    "execution": {
     "iopub.execute_input": "2025-05-02T19:19:57.209398Z",
     "iopub.status.busy": "2025-05-02T19:19:57.209251Z",
     "iopub.status.idle": "2025-05-02T19:19:57.540563Z",
     "shell.execute_reply": "2025-05-02T19:19:57.540059Z",
     "shell.execute_reply.started": "2025-05-02T19:19:57.209382Z"
    }
   },
   "outputs": [],
   "source": [
    "skymap = butler.get(\"skyMap\", skymap=skymapName, collections=collection_validation)"
   ]
  },
  {
   "cell_type": "code",
   "execution_count": null,
   "id": "8870762e-6e5d-4a6d-b101-1783285b1935",
   "metadata": {
    "execution": {
     "iopub.execute_input": "2025-05-02T19:19:57.541255Z",
     "iopub.status.busy": "2025-05-02T19:19:57.541114Z",
     "iopub.status.idle": "2025-05-02T19:19:58.034816Z",
     "shell.execute_reply": "2025-05-02T19:19:58.034261Z",
     "shell.execute_reply.started": "2025-05-02T19:19:57.541241Z"
    }
   },
   "outputs": [],
   "source": [
    "camera = butler.get(\"camera\", collections=collection_validation, instrument=instrument)"
   ]
  },
  {
   "cell_type": "markdown",
   "id": "f0e61f09-1f15-4f29-9555-d4015b09c5cc",
   "metadata": {},
   "source": [
    "## Query for collections in Butler\n",
    "\n",
    "- remove user collections\n",
    "- remove calibration products"
   ]
  },
  {
   "cell_type": "code",
   "execution_count": null,
   "id": "55edfcaa-96c0-49dc-827c-0167a0b6f731",
   "metadata": {
    "execution": {
     "iopub.execute_input": "2025-05-02T19:19:58.035560Z",
     "iopub.status.busy": "2025-05-02T19:19:58.035412Z",
     "iopub.status.idle": "2025-05-02T19:19:58.038233Z",
     "shell.execute_reply": "2025-05-02T19:19:58.037823Z",
     "shell.execute_reply.started": "2025-05-02T19:19:58.035545Z"
    }
   },
   "outputs": [],
   "source": [
    "# mostly setup for LSSTCam\n",
    "if FLAG_DUMP_COLLECTIONS:\n",
    "    for _ in sorted(registry.queryCollections(expression=instrument + \"/*\")):\n",
    "        if \"/calib/\" not in _ and \"u/\" not in _:\n",
    "            print(_)"
   ]
  },
  {
   "cell_type": "markdown",
   "id": "3ff90940-a996-4174-97b4-beb8895ae7a4",
   "metadata": {},
   "source": [
    "## Query for the dataset types in the Butler\n",
    "\n",
    "- Refer to the Data Product definition Document to know about the definition of datasets\n",
    "- https://www.lsst.org/about/dm/data-products\n",
    "- https://lse-163.lsst.io/\n",
    "- https://docushare.lsst.org/docushare/dsweb/Get/LSE-163"
   ]
  },
  {
   "cell_type": "code",
   "execution_count": null,
   "id": "f06e34b6-0f25-4047-9859-a34ec32e268d",
   "metadata": {
    "execution": {
     "iopub.execute_input": "2025-05-02T19:19:58.038828Z",
     "iopub.status.busy": "2025-05-02T19:19:58.038683Z",
     "iopub.status.idle": "2025-05-02T19:19:58.075820Z",
     "shell.execute_reply": "2025-05-02T19:19:58.075274Z",
     "shell.execute_reply.started": "2025-05-02T19:19:58.038815Z"
    }
   },
   "outputs": [],
   "source": [
    "if FLAG_DUMP_DATASETS:\n",
    "    for datasetType in registry.queryDatasetTypes():\n",
    "        if registry.queryDatasets(datasetType, collections=collection_validation).any(\n",
    "            execute=False, exact=False\n",
    "        ):\n",
    "            # Limit search results to the data products\n",
    "            if (\n",
    "                (\"_config\" not in datasetType.name)\n",
    "                and (\"_log\" not in datasetType.name)\n",
    "                and (\"_metadata\" not in datasetType.name)\n",
    "                and (\"_resource_usage\" not in datasetType.name)\n",
    "                and (\"Plot\" not in datasetType.name)\n",
    "                and (\"Metric\" not in datasetType.name)\n",
    "                and (\"metric\" not in datasetType.name)\n",
    "            ):\n",
    "                if \"object\" in datasetType.name or \"Obj\" in datasetType.name:\n",
    "                    print(datasetType)\n",
    "                if \"source\" in datasetType.name or \"Source\" in datasetType.name:\n",
    "                    print(datasetType)"
   ]
  },
  {
   "cell_type": "markdown",
   "id": "f78111e1-238c-4641-b3c1-0faebbbb89b1",
   "metadata": {},
   "source": [
    "## Region of interest"
   ]
  },
  {
   "cell_type": "code",
   "execution_count": null,
   "id": "6d0b6ebe-24c0-4046-9657-7187929a5f9a",
   "metadata": {
    "execution": {
     "iopub.execute_input": "2025-05-02T19:19:58.076454Z",
     "iopub.status.busy": "2025-05-02T19:19:58.076323Z",
     "iopub.status.idle": "2025-05-02T19:19:58.100107Z",
     "shell.execute_reply": "2025-05-02T19:19:58.099313Z",
     "shell.execute_reply.started": "2025-05-02T19:19:58.076442Z"
    }
   },
   "outputs": [],
   "source": [
    "lsstcomcam_targets = {}\n",
    "lsstcomcam_targets[\"47 Tuc\"] = {\"field_name\": \"47 Tuc Globular Cluster\", \"ra\": 6.02, \"dec\": -72.08}\n",
    "lsstcomcam_targets[\"Rubin SV 38 7\"] = {\"field_name\": \"Low Ecliptic Latitude Field\", \"ra\": 37.86, \"dec\": 6.98}\n",
    "lsstcomcam_targets[\"Fornax dSph\"] = {\n",
    "    \"field_name\": \"Fornax Dwarf Spheroidal Galaxy\",\n",
    "    \"ra\": 40.0,\n",
    "    \"dec\": -34.45,\n",
    "}\n",
    "lsstcomcam_targets[\"ECDFS\"] = {\"field_name\": \"Extended Chandra Deep Field South\", \"ra\": 53.13, \"dec\": -28.10}\n",
    "lsstcomcam_targets[\"EDFS\"] = {\"field_name\": \"Euclid Deep Field South\", \"ra\": 59.10, \"dec\": -48.73}\n",
    "lsstcomcam_targets[\"Rubin SV 95 -25\"] = {\n",
    "    \"field_name\": \"Low Galactic Latitude Field\",\n",
    "    \"ra\": 95.00,\n",
    "    \"dec\": -25.0,\n",
    "}\n",
    "lsstcomcam_targets[\"Seagull\"] = {\"field_name\": \"Seagull Nebula\", \"ra\": 106.23, \"dec\": -10.51}"
   ]
  },
  {
   "cell_type": "code",
   "execution_count": null,
   "id": "2fdc2905-3fd5-485e-a66b-56927d3de02f",
   "metadata": {
    "execution": {
     "iopub.execute_input": "2025-05-02T19:19:58.101328Z",
     "iopub.status.busy": "2025-05-02T19:19:58.100954Z",
     "iopub.status.idle": "2025-05-02T19:19:58.112734Z",
     "shell.execute_reply": "2025-05-02T19:19:58.112362Z",
     "shell.execute_reply.started": "2025-05-02T19:19:58.101311Z"
    }
   },
   "outputs": [],
   "source": [
    "# the_target = lsstcomcam_targets[\"Seagull\"]\n",
    "# the_target = lsstcomcam_targets[\"47 Tuc\"] # bad\n",
    "# the_target = lsstcomcam_targets[\"Fornax dSph\"]\n",
    "# the_target = lsstcomcam_targets[\"ECDFS\"]\n",
    "\n",
    "\n",
    "# key = \"Seagull\"\n",
    "# key = \"Fornax dSph\"\n",
    "key = \"ECDFS\"\n",
    "# key = \"EDFS\"\n",
    "# key = \"47 Tuc\"\n",
    "# key = \"Rubin SV 38 7\"\n",
    "# key = \"Rubin SV 95 -25\"\n",
    "\n",
    "\n",
    "the_target = lsstcomcam_targets[key]\n",
    "target_ra = the_target[\"ra\"]\n",
    "target_dec = the_target[\"dec\"]\n",
    "target_title = (\n",
    "    the_target[\"field_name\"] + f\" band  {BANDSEL} \" + f\" (ra,dec) = ({target_ra:.2f},{target_dec:.2f}) \"\n",
    ")\n",
    "target_point = SpherePoint(target_ra, target_dec, degrees)"
   ]
  },
  {
   "cell_type": "markdown",
   "id": "5097cdde-6283-4499-aaaa-57e799bdd53a",
   "metadata": {},
   "source": [
    "## Get list of tracts from the objectTable_tract"
   ]
  },
  {
   "cell_type": "code",
   "execution_count": null,
   "id": "3560cdd4-3d7e-4325-a3f5-07a0d70a8360",
   "metadata": {
    "execution": {
     "iopub.execute_input": "2025-05-02T19:19:58.116194Z",
     "iopub.status.busy": "2025-05-02T19:19:58.115844Z",
     "iopub.status.idle": "2025-05-02T19:19:58.128597Z",
     "shell.execute_reply": "2025-05-02T19:19:58.128221Z",
     "shell.execute_reply.started": "2025-05-02T19:19:58.116181Z"
    }
   },
   "outputs": [],
   "source": [
    "# Find the dimension\n",
    "print(butler.registry.getDatasetType(\"objectTable_tract\").dimensions)"
   ]
  },
  {
   "cell_type": "code",
   "execution_count": null,
   "id": "e07d2107-8c9e-485e-89bc-ec6e52fa10f4",
   "metadata": {
    "execution": {
     "iopub.execute_input": "2025-05-02T19:19:58.129237Z",
     "iopub.status.busy": "2025-05-02T19:19:58.129105Z",
     "iopub.status.idle": "2025-05-02T19:19:58.211582Z",
     "shell.execute_reply": "2025-05-02T19:19:58.211016Z",
     "shell.execute_reply.started": "2025-05-02T19:19:58.129223Z"
    }
   },
   "outputs": [],
   "source": [
    "datasettype = \"objectTable_tract\"\n",
    "therefs = butler.registry.queryDatasets(datasettype, collections=collection_validation)\n",
    "tractsId_list = np.unique([ref.dataId[\"tract\"] for ref in therefs])\n",
    "tractsId_list = sorted(tractsId_list)\n",
    "print(tractsId_list)"
   ]
  },
  {
   "cell_type": "markdown",
   "id": "f060f57d-ac96-4ec7-8a94-f760e118248a",
   "metadata": {},
   "source": [
    "## Find the Tract and Patch of the region of interest\n",
    "\n",
    "- tract in tractNbSel\n",
    "- patch in patchNbSel"
   ]
  },
  {
   "cell_type": "code",
   "execution_count": null,
   "id": "ea99cc96-a0bf-4dec-9418-895e5569688b",
   "metadata": {
    "execution": {
     "iopub.execute_input": "2025-05-02T19:19:58.212530Z",
     "iopub.status.busy": "2025-05-02T19:19:58.212337Z",
     "iopub.status.idle": "2025-05-02T19:19:58.219714Z",
     "shell.execute_reply": "2025-05-02T19:19:58.219120Z",
     "shell.execute_reply.started": "2025-05-02T19:19:58.212511Z"
    }
   },
   "outputs": [],
   "source": [
    "tract_info = skymap.findTract(target_point)\n",
    "patch_info = tract_info.findPatch(target_point)\n",
    "bbox = patch_info.getOuterBBox()\n",
    "\n",
    "print(\"Patch bounding box:\", bbox)\n",
    "\n",
    "print(\"Tract ID :\", tract_info.getId())\n",
    "tractNbSel = tract_info.getId()\n",
    "\n",
    "print(\"Patch Index :\", patch_info.getIndex(), \" , \", patch_info.getSequentialIndex())  # (x, y)\n",
    "print(\"Bounding Box\", bbox)\n",
    "\n",
    "patchNbSel = patch_info.getSequentialIndex()"
   ]
  },
  {
   "cell_type": "code",
   "execution_count": null,
   "id": "e1df364f-89a7-4a94-9541-89a05d75004c",
   "metadata": {
    "execution": {
     "iopub.execute_input": "2025-05-02T19:19:58.220831Z",
     "iopub.status.busy": "2025-05-02T19:19:58.220579Z",
     "iopub.status.idle": "2025-05-02T19:19:58.227009Z",
     "shell.execute_reply": "2025-05-02T19:19:58.226460Z",
     "shell.execute_reply.started": "2025-05-02T19:19:58.220810Z"
    }
   },
   "outputs": [],
   "source": [
    "dataId = {\"band\": BANDSEL, \"tract\": tractNbSel, \"patch\": patchNbSel, \"skymap\": skymapName}"
   ]
  },
  {
   "cell_type": "markdown",
   "id": "131ff71d-cee0-4141-ac33-c8f33758a584",
   "metadata": {},
   "source": [
    "## The Objects\n",
    "\n",
    "- Objects are extracted from object detection on deepcoadds\n",
    "- all bands are included "
   ]
  },
  {
   "cell_type": "code",
   "execution_count": null,
   "id": "da53ac66-c2fc-4b54-a19b-0e6d2def56a9",
   "metadata": {
    "execution": {
     "iopub.execute_input": "2025-05-02T19:19:58.227775Z",
     "iopub.status.busy": "2025-05-02T19:19:58.227609Z",
     "iopub.status.idle": "2025-05-02T19:19:58.247787Z",
     "shell.execute_reply": "2025-05-02T19:19:58.247300Z",
     "shell.execute_reply.started": "2025-05-02T19:19:58.227759Z"
    }
   },
   "outputs": [],
   "source": [
    "print(butler.registry.getDatasetType(\"objectTable\").dimensions)"
   ]
  },
  {
   "cell_type": "code",
   "execution_count": null,
   "id": "3e6b671b-f1c2-48ce-97ea-1eef0fa56cca",
   "metadata": {
    "execution": {
     "iopub.execute_input": "2025-05-02T19:19:58.248725Z",
     "iopub.status.busy": "2025-05-02T19:19:58.248431Z",
     "iopub.status.idle": "2025-05-02T19:19:58.260679Z",
     "shell.execute_reply": "2025-05-02T19:19:58.260223Z",
     "shell.execute_reply.started": "2025-05-02T19:19:58.248693Z"
    }
   },
   "outputs": [],
   "source": [
    "# cannot add a filter on band\n",
    "where_clause = f\"skymap = '{skymapName}' AND tract = {tractNbSel} AND patch = {patchNbSel}\"\n",
    "print(where_clause)"
   ]
  },
  {
   "cell_type": "code",
   "execution_count": null,
   "id": "064b709e-fd22-453f-a89c-8feeb6a157c7",
   "metadata": {
    "execution": {
     "iopub.execute_input": "2025-05-02T19:19:58.261556Z",
     "iopub.status.busy": "2025-05-02T19:19:58.261334Z",
     "iopub.status.idle": "2025-05-02T19:19:58.754075Z",
     "shell.execute_reply": "2025-05-02T19:19:58.753543Z",
     "shell.execute_reply.started": "2025-05-02T19:19:58.261530Z"
    }
   },
   "outputs": [],
   "source": [
    "dataset_refs = list(\n",
    "    butler.registry.queryDatasets(\"objectTable\", collections=collection_validation, where=where_clause)\n",
    ")\n",
    "# Récupère un des refs valides\n",
    "Nrefs = len(dataset_refs)\n",
    "print(f\"Number of objectTables : {Nrefs}\")\n",
    "ref = dataset_refs[0]\n",
    "t = butler.get(ref)\n",
    "Nobj = len(t)\n",
    "# del t\n",
    "# gc.collect()\n",
    "print(f\"Total Number of objects {Nobj}\")"
   ]
  },
  {
   "cell_type": "markdown",
   "id": "584463e6-5694-4bfd-a5f3-c0021e8c64bc",
   "metadata": {
    "execution": {
     "iopub.execute_input": "2025-05-01T20:56:43.699655Z",
     "iopub.status.busy": "2025-05-01T20:56:43.699512Z",
     "iopub.status.idle": "2025-05-01T20:56:43.702758Z",
     "shell.execute_reply": "2025-05-01T20:56:43.702457Z",
     "shell.execute_reply.started": "2025-05-01T20:56:43.699640Z"
    }
   },
   "source": [
    "Oui, dans ce type de objectTable, les colonnes comme g_psfFlux, g_kronFlux, g_cModelFlux, etc., sont des flux calibrés (en nJy ou en unité de calibration interne du pipeline). Pour les convertir en magnitudes AB, tu peux utiliser la formule classique :"
   ]
  },
  {
   "cell_type": "code",
   "execution_count": null,
   "id": "069c5c04-af0c-47b3-893d-7c6ccf2c76a1",
   "metadata": {
    "execution": {
     "iopub.execute_input": "2025-05-02T19:19:58.754814Z",
     "iopub.status.busy": "2025-05-02T19:19:58.754631Z",
     "iopub.status.idle": "2025-05-02T19:19:58.757310Z",
     "shell.execute_reply": "2025-05-02T19:19:58.756964Z",
     "shell.execute_reply.started": "2025-05-02T19:19:58.754796Z"
    }
   },
   "outputs": [],
   "source": [
    "# Utilise ref.datasetType.name pour lister les colonnes disponibles\n",
    "# check the columns definition in : https://lse-163.lsst.io/\n",
    "if FLAG_DUMP_OBJECTSTABLECOLUMNS:\n",
    "    t_columns = list(butler.get(ref).columns)\n",
    "    print(t_columns)"
   ]
  },
  {
   "cell_type": "code",
   "execution_count": null,
   "id": "7c6648f9-6053-4343-aab6-56cb9648c599",
   "metadata": {
    "execution": {
     "iopub.execute_input": "2025-05-02T19:19:58.757909Z",
     "iopub.status.busy": "2025-05-02T19:19:58.757777Z",
     "iopub.status.idle": "2025-05-02T19:19:58.764996Z",
     "shell.execute_reply": "2025-05-02T19:19:58.764583Z",
     "shell.execute_reply.started": "2025-05-02T19:19:58.757897Z"
    }
   },
   "outputs": [],
   "source": [
    "# La constante 31.4 correspond à la conversion AB standard pour un flux exprimé en nanoJanskys (nJy).\n",
    "# À vérifier selon l’unité exacte utilisée par le pipeline sur ton RSP\n",
    "# (souvent c’est bien nJy, mais ça peut être autre chose si la calibration a été changée).\n",
    "# mag = -2.5 * np.log10(flux) + 31.4"
   ]
  },
  {
   "cell_type": "markdown",
   "id": "36e494b6-323e-4447-8489-bd889933146d",
   "metadata": {},
   "source": [
    "## Extract the per-band tables of coordinates"
   ]
  },
  {
   "cell_type": "code",
   "execution_count": null,
   "id": "52e5169a-bc88-4cbe-81eb-97defc2938cc",
   "metadata": {
    "execution": {
     "iopub.execute_input": "2025-05-02T19:19:58.765516Z",
     "iopub.status.busy": "2025-05-02T19:19:58.765393Z",
     "iopub.status.idle": "2025-05-02T19:19:58.811810Z",
     "shell.execute_reply": "2025-05-02T19:19:58.811349Z",
     "shell.execute_reply.started": "2025-05-02T19:19:58.765503Z"
    }
   },
   "outputs": [],
   "source": [
    "# Check columns definitions in https://lse-163.lsst.io/\n",
    "all_radecTable = []\n",
    "\n",
    "for band in all_bands:\n",
    "    id_name = \"objectId\"\n",
    "    id_parentname = \"parentObjectId\"\n",
    "    x_name = f\"{band}_centroid_x\"\n",
    "    y_name = f\"{band}_centroid_y\"\n",
    "    coord_ra_name = \"coord_ra\"\n",
    "    coord_dec_name = \"coord_dec\"\n",
    "    ra_name = f\"{band}_ra\"\n",
    "    dec_name = f\"{band}_dec\"\n",
    "    decl_name = f\"{band}_decl\"\n",
    "    raerr_name = f\"{band}_raErr\"\n",
    "    decerr_name = f\"{band}_decErr\"\n",
    "    extendedness_name = f\"{band}_extendedness\"\n",
    "    blendness_name = f\"{band}_blendedness\"\n",
    "    psfflux_name = f\"{band}_psfFlux\"\n",
    "    psfmag_name = f\"{band}_psfMag\"\n",
    "    psfflux_free_name = f\"{band}_free_psfFlux\"\n",
    "    df = t[\n",
    "        [\n",
    "            id_name,\n",
    "            id_parentname,\n",
    "            x_name,\n",
    "            y_name,\n",
    "            coord_ra_name,\n",
    "            coord_dec_name,\n",
    "            ra_name,\n",
    "            dec_name,\n",
    "            raerr_name,\n",
    "            decerr_name,\n",
    "            decl_name,\n",
    "            extendedness_name,\n",
    "            blendness_name,\n",
    "            psfflux_name,\n",
    "        ]\n",
    "    ]\n",
    "\n",
    "    # select primary objects\n",
    "    df_sel = (df[df[id_parentname] == 0]).drop([id_parentname], axis=1)\n",
    "    # compute magnitude AB\n",
    "    df_sel[psfmag_name] = df_sel[psfflux_name].apply(nJy_to_ab_mag)\n",
    "    # drop bad magnitudes\n",
    "    df_sel = df_sel[df_sel[psfmag_name] != 0.0]\n",
    "    # drop the fluxes\n",
    "    df_sel = df_sel.drop([psfflux_name], axis=1)\n",
    "\n",
    "    # select bright objects\n",
    "    if FLAG_CUT_OBJECTSMAG:\n",
    "        df_sel = df_sel[df_sel[psfmag_name] < MAGCUT]\n",
    "\n",
    "    # save table in the list\n",
    "    all_radecTable.append(df_sel)"
   ]
  },
  {
   "cell_type": "code",
   "execution_count": null,
   "id": "52db0e04-6c27-4b26-95a1-5c97ea48e93c",
   "metadata": {
    "execution": {
     "iopub.execute_input": "2025-05-02T19:19:58.812456Z",
     "iopub.status.busy": "2025-05-02T19:19:58.812318Z",
     "iopub.status.idle": "2025-05-02T19:19:58.815081Z",
     "shell.execute_reply": "2025-05-02T19:19:58.814722Z",
     "shell.execute_reply.started": "2025-05-02T19:19:58.812443Z"
    }
   },
   "outputs": [],
   "source": [
    "for idx, band in enumerate(all_bands):\n",
    "    df_obj = all_radecTable[idx]\n",
    "    n = len(df_obj)\n",
    "    print(f\"Number of objects in band {band} : {n}\")"
   ]
  },
  {
   "cell_type": "markdown",
   "id": "7c03c77e-2d85-4ee0-ada1-c6ef2311367b",
   "metadata": {},
   "source": [
    "## Get Coadds and WCS"
   ]
  },
  {
   "cell_type": "code",
   "execution_count": null,
   "id": "c310312e-983b-4b29-a936-8d97249432fb",
   "metadata": {
    "execution": {
     "iopub.execute_input": "2025-05-02T19:19:58.815849Z",
     "iopub.status.busy": "2025-05-02T19:19:58.815506Z",
     "iopub.status.idle": "2025-05-02T19:19:58.821712Z",
     "shell.execute_reply": "2025-05-02T19:19:58.821354Z",
     "shell.execute_reply.started": "2025-05-02T19:19:58.815834Z"
    }
   },
   "outputs": [],
   "source": [
    "all_dataIds = [\n",
    "    {\n",
    "        \"band\": band,\n",
    "        \"tract\": tractNbSel,\n",
    "        \"patch\": patchNbSel,\n",
    "        \"skymap\": skymapName,\n",
    "    }\n",
    "    for band in all_bands\n",
    "]"
   ]
  },
  {
   "cell_type": "code",
   "execution_count": null,
   "id": "dfea2336-a858-4571-b4fc-f1881330a769",
   "metadata": {
    "execution": {
     "iopub.execute_input": "2025-05-02T19:19:58.822253Z",
     "iopub.status.busy": "2025-05-02T19:19:58.822126Z",
     "iopub.status.idle": "2025-05-02T19:20:11.680794Z",
     "shell.execute_reply": "2025-05-02T19:20:11.680272Z",
     "shell.execute_reply.started": "2025-05-02T19:19:58.822241Z"
    }
   },
   "outputs": [],
   "source": [
    "all_deepCoadds = []\n",
    "all_deepCoadds_wcs = []\n",
    "\n",
    "all_titles = []\n",
    "for idx, band in enumerate(all_bands):\n",
    "    the_band = band\n",
    "    the_dataId = all_dataIds[idx]\n",
    "    the_title = key + f\" band {the_band}\"\n",
    "    try:\n",
    "        coadd_exp = butler.get(\"deepCoadd_calexp\", the_dataId)\n",
    "        wcs = coadd_exp.getWcs()\n",
    "        psf = coadd_exp.getPsf()\n",
    "        all_deepCoadds.append(coadd_exp)\n",
    "        all_deepCoadds_wcs.append(wcs)\n",
    "        all_titles.append(the_title)\n",
    "\n",
    "    except Exception as inst:\n",
    "        print(f\"{key} :: catch Exception for band {band}\")\n",
    "        print(type(inst))  # the exception type\n",
    "        print(inst.args)  # arguments stored in .args\n",
    "        print(inst)  # __str_"
   ]
  },
  {
   "cell_type": "markdown",
   "id": "0ac81c2a-c04d-4896-872a-1fe09064312b",
   "metadata": {},
   "source": [
    "## Plot on coadds"
   ]
  },
  {
   "cell_type": "markdown",
   "id": "79f9b3f4-86a3-4d49-94a7-f5bbeec33937",
   "metadata": {
    "execution": {
     "iopub.execute_input": "2025-05-02T11:56:42.720404Z",
     "iopub.status.busy": "2025-05-02T11:56:42.720135Z",
     "iopub.status.idle": "2025-05-02T11:56:42.733223Z",
     "shell.execute_reply": "2025-05-02T11:56:42.732718Z",
     "shell.execute_reply.started": "2025-05-02T11:56:42.720390Z"
    }
   },
   "source": [
    "##### See DP02 tutorial\n",
    "- d02_03c_Big_deepCoadd_Cutout.ipynb"
   ]
  },
  {
   "cell_type": "code",
   "execution_count": null,
   "id": "5f1234ca-8f46-445e-831a-93df467b6bd5",
   "metadata": {
    "execution": {
     "iopub.execute_input": "2025-05-02T19:20:11.684653Z",
     "iopub.status.busy": "2025-05-02T19:20:11.684116Z",
     "iopub.status.idle": "2025-05-02T19:20:11.687141Z",
     "shell.execute_reply": "2025-05-02T19:20:11.686772Z",
     "shell.execute_reply.started": "2025-05-02T19:20:11.684637Z"
    }
   },
   "outputs": [],
   "source": [
    "# df = all_radecTable[0]\n",
    "#\n",
    "# for index, row in df.iterrows():\n",
    "#    print(row)"
   ]
  },
  {
   "cell_type": "code",
   "execution_count": null,
   "id": "b35bfed1-db2b-48c6-9726-0cccc2f95ea0",
   "metadata": {
    "execution": {
     "iopub.execute_input": "2025-05-02T19:20:11.687905Z",
     "iopub.status.busy": "2025-05-02T19:20:11.687609Z",
     "iopub.status.idle": "2025-05-02T19:20:20.120607Z",
     "shell.execute_reply": "2025-05-02T19:20:20.119902Z",
     "shell.execute_reply.started": "2025-05-02T19:20:11.687891Z"
    }
   },
   "outputs": [],
   "source": [
    "N = len(all_deepCoadds)\n",
    "for count in range(N):\n",
    "    band = all_bands[count]\n",
    "    display = afwDisplay.Display(frame=count + 1)\n",
    "    # cannot succeed to show white stars on dark sky\n",
    "    display.setImageColormap(\"gray\")\n",
    "    display.scale(\"asinh\", \"zscale\")\n",
    "    display.mtv(all_deepCoadds[count].image, title=all_titles[count])\n",
    "\n",
    "    # work on targets\n",
    "    wcs = all_deepCoadds_wcs[count]\n",
    "    df = all_radecTable[count]\n",
    "    x_name = f\"{band}_centroid_x\"\n",
    "    y_name = f\"{band}_centroid_y\"\n",
    "\n",
    "    with display.Buffering():\n",
    "        for index, row in df.iterrows():\n",
    "            xpix = row[x_name]\n",
    "            ypix = row[y_name]\n",
    "            display.dot(\"o\", xpix, ypix, size=50, ctype=all_bands_colors[count])\n",
    "            all_bands_colors"
   ]
  },
  {
   "cell_type": "code",
   "execution_count": null,
   "id": "e0249e7b-8a60-454d-927c-b1f0bf2da16a",
   "metadata": {
    "execution": {
     "iopub.execute_input": "2025-05-02T19:20:20.121262Z",
     "iopub.status.busy": "2025-05-02T19:20:20.121129Z",
     "iopub.status.idle": "2025-05-02T19:20:20.123532Z",
     "shell.execute_reply": "2025-05-02T19:20:20.123113Z",
     "shell.execute_reply.started": "2025-05-02T19:20:20.121248Z"
    }
   },
   "outputs": [],
   "source": [
    "# display.erase()"
   ]
  }
 ],
 "metadata": {
  "kernelspec": {
   "display_name": "LSST",
   "language": "python",
   "name": "lsst"
  },
  "language_info": {
   "codemirror_mode": {
    "name": "ipython",
    "version": 3
   },
   "file_extension": ".py",
   "mimetype": "text/x-python",
   "name": "python",
   "nbconvert_exporter": "python",
   "pygments_lexer": "ipython3",
   "version": "3.12.9"
  }
 },
 "nbformat": 4,
 "nbformat_minor": 5
}
