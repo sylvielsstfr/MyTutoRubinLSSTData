{
 "cells": [
  {
   "cell_type": "markdown",
   "id": "e5f85ebc-4388-4654-9bed-2c435ce91959",
   "metadata": {},
   "source": [
    "# View LSSTComCam DeepCoadd - No Mosaic view\n",
    "\n",
    "- author Sylvie Dagoret-Campagne\n",
    "- creation date 2025-04-30\n",
    "- last update 2025-04-30\n",
    "- last update 2025-05-01\n",
    "- last verification: 2025-05-02\n",
    "- LSST pipelines : w_2025_10"
   ]
  },
  {
   "cell_type": "markdown",
   "id": "34a502d3-af58-4cf2-92b1-f81236dc7653",
   "metadata": {},
   "source": [
    "## Import"
   ]
  },
  {
   "cell_type": "code",
   "execution_count": null,
   "id": "01f4a7f9-d12d-4bf3-85d6-fe8c6bb30ca9",
   "metadata": {
    "execution": {
     "iopub.execute_input": "2025-05-02T09:36:17.437060Z",
     "iopub.status.busy": "2025-05-02T09:36:17.436933Z",
     "iopub.status.idle": "2025-05-02T09:36:19.328752Z",
     "shell.execute_reply": "2025-05-02T09:36:19.328248Z",
     "shell.execute_reply.started": "2025-05-02T09:36:17.437047Z"
    },
    "tags": []
   },
   "outputs": [],
   "source": [
    "import numpy as np\n",
    "import matplotlib\n",
    "import matplotlib.pyplot as plt\n",
    "from matplotlib import cm\n",
    "from mpl_toolkits.axes_grid1 import make_axes_locatable\n",
    "\n",
    "# import lsst.daf.butler as dafButler\n",
    "from lsst.daf.butler import Butler\n",
    "\n",
    "import lsst.geom as geom\n",
    "from lsst.geom import SpherePoint, degrees\n",
    "import lsst.afw.display as afwDisplay\n",
    "\n",
    "from lsst.skymap import PatchInfo, Index2D"
   ]
  },
  {
   "cell_type": "markdown",
   "id": "f823358e-18b4-4b29-845c-146e40dcf23f",
   "metadata": {},
   "source": [
    "## Config"
   ]
  },
  {
   "cell_type": "code",
   "execution_count": null,
   "id": "7d365042-56eb-4cf7-b9ef-32a0682259c1",
   "metadata": {
    "execution": {
     "iopub.execute_input": "2025-05-02T09:36:19.331219Z",
     "iopub.status.busy": "2025-05-02T09:36:19.331086Z",
     "iopub.status.idle": "2025-05-02T09:36:19.333912Z",
     "shell.execute_reply": "2025-05-02T09:36:19.333500Z",
     "shell.execute_reply.started": "2025-05-02T09:36:19.331204Z"
    }
   },
   "outputs": [],
   "source": [
    "# The output repo is tagged with the Jira ticket number \"DM-40356\":\n",
    "repo = \"/repo/main\"\n",
    "# collection = 'LSSTComCam/runs/DRP/DP1/w_2025_05/DM-48666' # work\n",
    "# collection = 'LSSTComCam/runs/DRP/DP1/w_2025_06/DM-48810' # work\n",
    "collection = \"LSSTComCam/runs/DRP/DP1/w_2025_10/DM-49359\"  # work\n",
    "\n",
    "\n",
    "# bad : crash collection = 'LSSTComCam/runs/DRP/DP1/w_2025_08/DM-49029'\n",
    "\n",
    "# bad : collection = \"LSSTComCam/runs/DRP/20241101_20241211/w_2024_51/DM-48233\"\n",
    "\n",
    "# not working perhaps because I am using w_2025_10 version\n",
    "# bad : no ccd visit collection = \"LSSTComCam/runs/DRP/DP1/w_2025_14/DM-49864\"\n",
    "# bad : no ccd visit collection = 'LSSTComCam/runs/DRP/DP1/w_2025_15/DM-50050'\n",
    "# bad : no cce visit collection = 'LSSTComCam/runs/DRP/DP1/w_2025_14/DM-49864'\n",
    "# bad : no cce visit collection collection = 'LSSTComCam/runs/DRP/DP1/w_2025_13/DM-49751'\n",
    "instrument = \"LSSTComCam\"\n",
    "skymapName = \"lsst_cells_v1\"\n",
    "where_clause = \"instrument = '\" + instrument + \"'\"\n",
    "collectionStr = collection.replace(\"/\", \"_\")\n",
    "BANDSEL = \"r\"  # Most fields were observed in red filter"
   ]
  },
  {
   "cell_type": "code",
   "execution_count": null,
   "id": "35a5264c-8853-4a81-ad25-d240644affdc",
   "metadata": {
    "execution": {
     "iopub.execute_input": "2025-05-02T09:36:19.335748Z",
     "iopub.status.busy": "2025-05-02T09:36:19.335617Z",
     "iopub.status.idle": "2025-05-02T09:36:19.701608Z",
     "shell.execute_reply": "2025-05-02T09:36:19.700998Z",
     "shell.execute_reply.started": "2025-05-02T09:36:19.335735Z"
    }
   },
   "outputs": [],
   "source": [
    "# Initialize the butler repo:\n",
    "butler = Butler(repo, collections=collection)\n",
    "registry = butler.registry"
   ]
  },
  {
   "cell_type": "code",
   "execution_count": null,
   "id": "d6f6935e-461e-40d8-8174-10e7de0eea89",
   "metadata": {
    "execution": {
     "iopub.execute_input": "2025-05-02T09:36:19.703695Z",
     "iopub.status.busy": "2025-05-02T09:36:19.703457Z",
     "iopub.status.idle": "2025-05-02T09:36:20.023492Z",
     "shell.execute_reply": "2025-05-02T09:36:20.023011Z",
     "shell.execute_reply.started": "2025-05-02T09:36:19.703679Z"
    }
   },
   "outputs": [],
   "source": [
    "skymap = butler.get(\"skyMap\", skymap=skymapName, collections=collection)"
   ]
  },
  {
   "cell_type": "code",
   "execution_count": null,
   "id": "74271e57-f8c2-4f1f-8c6c-4c75bae476f8",
   "metadata": {
    "execution": {
     "iopub.execute_input": "2025-05-02T09:36:20.024171Z",
     "iopub.status.busy": "2025-05-02T09:36:20.024034Z",
     "iopub.status.idle": "2025-05-02T09:36:20.539794Z",
     "shell.execute_reply": "2025-05-02T09:36:20.539317Z",
     "shell.execute_reply.started": "2025-05-02T09:36:20.024157Z"
    }
   },
   "outputs": [],
   "source": [
    "camera = butler.get(\"camera\", collections=collection, instrument=instrument)"
   ]
  },
  {
   "cell_type": "markdown",
   "id": "5db4beba-3082-4754-8e70-26472f1c226c",
   "metadata": {},
   "source": [
    "## List of Sky field of interest"
   ]
  },
  {
   "cell_type": "code",
   "execution_count": null,
   "id": "42906390-6092-4f44-a520-b97a4a982160",
   "metadata": {
    "execution": {
     "iopub.execute_input": "2025-05-02T09:36:20.540495Z",
     "iopub.status.busy": "2025-05-02T09:36:20.540342Z",
     "iopub.status.idle": "2025-05-02T09:36:20.543881Z",
     "shell.execute_reply": "2025-05-02T09:36:20.543474Z",
     "shell.execute_reply.started": "2025-05-02T09:36:20.540479Z"
    }
   },
   "outputs": [],
   "source": [
    "lsstcomcam_targets = {}\n",
    "lsstcomcam_targets[\"47 Tuc\"] = {\"field_name\": \"47 Tuc Globular Cluster\", \"ra\": 6.02, \"dec\": -72.08}\n",
    "lsstcomcam_targets[\"Rubin SV 38 7\"] = {\"field_name\": \"Low Ecliptic Latitude Field\", \"ra\": 37.86, \"dec\": 6.98}\n",
    "lsstcomcam_targets[\"Fornax dSph\"] = {\n",
    "    \"field_name\": \"Fornax Dwarf Spheroidal Galaxy\",\n",
    "    \"ra\": 40.0,\n",
    "    \"dec\": -34.45,\n",
    "}\n",
    "lsstcomcam_targets[\"ECDFS\"] = {\"field_name\": \"Extended Chandra Deep Field South\", \"ra\": 53.13, \"dec\": -28.10}\n",
    "lsstcomcam_targets[\"EDFS\"] = {\"field_name\": \"Euclid Deep Field South\", \"ra\": 59.10, \"dec\": -48.73}\n",
    "lsstcomcam_targets[\"Rubin SV 95 -25\"] = {\n",
    "    \"field_name\": \"Low Galactic Latitude Field\",\n",
    "    \"ra\": 95.00,\n",
    "    \"dec\": -25.0,\n",
    "}\n",
    "lsstcomcam_targets[\"Seagull\"] = {\"field_name\": \"Seagull Nebula\", \"ra\": 106.23, \"dec\": -10.51}"
   ]
  },
  {
   "cell_type": "markdown",
   "id": "a484fbb9-439d-484d-bac3-c7bc6ce378a0",
   "metadata": {},
   "source": [
    "### Select the target"
   ]
  },
  {
   "cell_type": "code",
   "execution_count": null,
   "id": "26ae4982-95a5-4965-8070-209b21e1373a",
   "metadata": {
    "execution": {
     "iopub.execute_input": "2025-05-02T09:36:20.544563Z",
     "iopub.status.busy": "2025-05-02T09:36:20.544424Z",
     "iopub.status.idle": "2025-05-02T09:36:20.551765Z",
     "shell.execute_reply": "2025-05-02T09:36:20.551376Z",
     "shell.execute_reply.started": "2025-05-02T09:36:20.544547Z"
    }
   },
   "outputs": [],
   "source": [
    "# the_target = lsstcomcam_targets[\"Seagull\"]\n",
    "# the_target = lsstcomcam_targets[\"47 Tuc\"] # bad\n",
    "# the_target = lsstcomcam_targets[\"Fornax dSph\"]\n",
    "# the_target = lsstcomcam_targets[\"ECDFS\"]\n",
    "\n",
    "\n",
    "# key = \"Seagull\"\n",
    "# key = \"Fornax dSph\"\n",
    "key = \"ECDFS\"\n",
    "# key = \"EDFS\"\n",
    "# key = \"47 Tuc\"\n",
    "# key = \"Rubin SV 38 7\"\n",
    "# key = \"Rubin SV 95 -25\"\n",
    "\n",
    "\n",
    "the_target = lsstcomcam_targets[key]\n",
    "target_ra = the_target[\"ra\"]\n",
    "target_dec = the_target[\"dec\"]\n",
    "target_title = (\n",
    "    the_target[\"field_name\"] + f\" band  {BANDSEL} \" + f\" (ra,dec) = ({target_ra:.2f},{target_dec:.2f}) \"\n",
    ")\n",
    "target_point = SpherePoint(target_ra, target_dec, degrees)"
   ]
  },
  {
   "cell_type": "markdown",
   "id": "36412c63-d1e4-4f26-82c6-0681f74a7710",
   "metadata": {
    "execution": {
     "iopub.execute_input": "2025-04-30T18:53:36.820873Z",
     "iopub.status.busy": "2025-04-30T18:53:36.820327Z",
     "iopub.status.idle": "2025-04-30T18:53:36.823305Z",
     "shell.execute_reply": "2025-04-30T18:53:36.822857Z",
     "shell.execute_reply.started": "2025-04-30T18:53:36.820853Z"
    }
   },
   "source": [
    "## Find the list of tract numbers from Object Table"
   ]
  },
  {
   "cell_type": "code",
   "execution_count": null,
   "id": "3048e2e2-2489-43e0-a96d-848c548700cb",
   "metadata": {
    "execution": {
     "iopub.execute_input": "2025-05-02T09:36:20.552394Z",
     "iopub.status.busy": "2025-05-02T09:36:20.552259Z",
     "iopub.status.idle": "2025-05-02T09:36:20.629420Z",
     "shell.execute_reply": "2025-05-02T09:36:20.629014Z",
     "shell.execute_reply.started": "2025-05-02T09:36:20.552380Z"
    }
   },
   "outputs": [],
   "source": [
    "datasettype = \"objectTable_tract\"\n",
    "therefs = butler.registry.queryDatasets(datasettype, collections=collection)\n",
    "tractsId_list = np.unique([ref.dataId[\"tract\"] for ref in therefs])\n",
    "tractsId_list = sorted(tractsId_list)\n",
    "print(tractsId_list)"
   ]
  },
  {
   "cell_type": "markdown",
   "id": "cb36383d-8245-4053-9569-13982454b164",
   "metadata": {},
   "source": [
    "## Search all deepCoadd\n",
    "\n",
    "- deepCoadd_calexp comes with WCS"
   ]
  },
  {
   "cell_type": "code",
   "execution_count": null,
   "id": "fd2b0c95-2201-48f5-a93c-a2ebcd129e84",
   "metadata": {
    "execution": {
     "iopub.execute_input": "2025-05-02T09:36:20.630201Z",
     "iopub.status.busy": "2025-05-02T09:36:20.630058Z",
     "iopub.status.idle": "2025-05-02T09:36:20.632088Z",
     "shell.execute_reply": "2025-05-02T09:36:20.631717Z",
     "shell.execute_reply.started": "2025-05-02T09:36:20.630186Z"
    }
   },
   "outputs": [],
   "source": [
    "# List all  deepCoadd_calexp which are in the butler collection\n",
    "# Thus all patch and tracts\n",
    "# refs = butler.registry.queryDatasets(\"deepCoadd_calexp\", collections = collection)\n",
    "# for ref in refs:\n",
    "#    print(ref.dataId)"
   ]
  },
  {
   "cell_type": "markdown",
   "id": "b190c292-0efe-4e36-9315-c542b02ef3ec",
   "metadata": {},
   "source": [
    "## Find the DataId"
   ]
  },
  {
   "cell_type": "code",
   "execution_count": null,
   "id": "7eac4470-30fd-41ae-b81d-3b1bda379e26",
   "metadata": {
    "execution": {
     "iopub.execute_input": "2025-05-02T09:36:20.632780Z",
     "iopub.status.busy": "2025-05-02T09:36:20.632514Z",
     "iopub.status.idle": "2025-05-02T09:36:20.641546Z",
     "shell.execute_reply": "2025-05-02T09:36:20.641159Z",
     "shell.execute_reply.started": "2025-05-02T09:36:20.632764Z"
    }
   },
   "outputs": [],
   "source": [
    "tract_info = skymap.findTract(target_point)\n",
    "patch_info = tract_info.findPatch(target_point)\n",
    "bbox = patch_info.getOuterBBox()\n",
    "\n",
    "print(\"Patch bounding box:\", bbox)\n",
    "\n",
    "print(\"Tract ID :\", tract_info.getId())\n",
    "tractNbSel = tract_info.getId()\n",
    "\n",
    "print(\"Patch Index :\", patch_info.getIndex(), \" , \", patch_info.getSequentialIndex())  # (x, y)\n",
    "print(\"Bounding Box\", bbox)\n",
    "\n",
    "patchNbSel = patch_info.getSequentialIndex()"
   ]
  },
  {
   "cell_type": "code",
   "execution_count": null,
   "id": "58fa33e5-797e-48d3-b9ba-2632b4bc50ed",
   "metadata": {
    "execution": {
     "iopub.execute_input": "2025-05-02T09:36:20.642118Z",
     "iopub.status.busy": "2025-05-02T09:36:20.641984Z",
     "iopub.status.idle": "2025-05-02T09:36:20.647915Z",
     "shell.execute_reply": "2025-05-02T09:36:20.647534Z",
     "shell.execute_reply.started": "2025-05-02T09:36:20.642104Z"
    }
   },
   "outputs": [],
   "source": [
    "central_patch = patch_info.getIndex()\n",
    "central_x, central_y = patch_info.getIndex()\n",
    "neighbor_patches = [\n",
    "    f\"{x},{y}\"\n",
    "    for x in range(central_x - 1, central_x + 2)\n",
    "    for y in range(central_y - 1, central_y + 2)\n",
    "    if 0 <= x <= 8 and 0 <= y <= 8\n",
    "]"
   ]
  },
  {
   "cell_type": "code",
   "execution_count": null,
   "id": "c9601ca2-1ac3-4a2c-bc8e-e58809a20f79",
   "metadata": {
    "execution": {
     "iopub.execute_input": "2025-05-02T09:36:20.648590Z",
     "iopub.status.busy": "2025-05-02T09:36:20.648337Z",
     "iopub.status.idle": "2025-05-02T09:36:20.657431Z",
     "shell.execute_reply": "2025-05-02T09:36:20.657067Z",
     "shell.execute_reply.started": "2025-05-02T09:36:20.648575Z"
    }
   },
   "outputs": [],
   "source": [
    "neighbor_patches"
   ]
  },
  {
   "cell_type": "code",
   "execution_count": null,
   "id": "b94e46f8-7647-437c-8a4a-b3180150f64f",
   "metadata": {
    "execution": {
     "iopub.execute_input": "2025-05-02T09:36:20.658002Z",
     "iopub.status.busy": "2025-05-02T09:36:20.657875Z",
     "iopub.status.idle": "2025-05-02T09:36:20.663450Z",
     "shell.execute_reply": "2025-05-02T09:36:20.663079Z",
     "shell.execute_reply.started": "2025-05-02T09:36:20.657989Z"
    }
   },
   "outputs": [],
   "source": [
    "neighbor_patches_indexes = [\n",
    "    Index2D(x=x, y=y)\n",
    "    for x in range(central_x - 1, central_x + 2)\n",
    "    for y in range(central_y - 1, central_y + 2)\n",
    "    if 0 <= x <= 8 and 0 <= y <= 8\n",
    "]"
   ]
  },
  {
   "cell_type": "code",
   "execution_count": null,
   "id": "90b64f9b-56b6-4da2-99f7-c0e350cf425a",
   "metadata": {
    "execution": {
     "iopub.execute_input": "2025-05-02T09:36:20.663961Z",
     "iopub.status.busy": "2025-05-02T09:36:20.663831Z",
     "iopub.status.idle": "2025-05-02T09:36:20.670879Z",
     "shell.execute_reply": "2025-05-02T09:36:20.670495Z",
     "shell.execute_reply.started": "2025-05-02T09:36:20.663948Z"
    }
   },
   "outputs": [],
   "source": [
    "neighbor_patches_seqindexes = [\n",
    "    tract_info[patch_index].getSequentialIndex() for patch_index in neighbor_patches_indexes\n",
    "]"
   ]
  },
  {
   "cell_type": "code",
   "execution_count": null,
   "id": "286b497f-0b07-4512-adfb-6be573f6c468",
   "metadata": {
    "execution": {
     "iopub.execute_input": "2025-05-02T09:36:20.671641Z",
     "iopub.status.busy": "2025-05-02T09:36:20.671310Z",
     "iopub.status.idle": "2025-05-02T09:36:20.679091Z",
     "shell.execute_reply": "2025-05-02T09:36:20.678720Z",
     "shell.execute_reply.started": "2025-05-02T09:36:20.671626Z"
    }
   },
   "outputs": [],
   "source": [
    "mapdict_patchesindexes = {}\n",
    "for patch_index in neighbor_patches_indexes:\n",
    "    patch_seqindex = tract_info[patch_index].getSequentialIndex()\n",
    "    mapdict_patchesindexes[patch_seqindex] = f\"{patch_index.x},{patch_index.y}\"\n",
    "mapdict_patchesindexes"
   ]
  },
  {
   "cell_type": "code",
   "execution_count": null,
   "id": "e76445dd-adbc-45c9-bec0-e6bc5eaae724",
   "metadata": {
    "execution": {
     "iopub.execute_input": "2025-05-02T09:36:20.679594Z",
     "iopub.status.busy": "2025-05-02T09:36:20.679468Z",
     "iopub.status.idle": "2025-05-02T09:36:20.685318Z",
     "shell.execute_reply": "2025-05-02T09:36:20.684950Z",
     "shell.execute_reply.started": "2025-05-02T09:36:20.679581Z"
    }
   },
   "outputs": [],
   "source": [
    "# Add the patch and band to the dataId, we didn't need them for the objectTable_tract because it covers all patches and bands\n",
    "# However the coadds are stored by patch and band dimensions so we have to add them to the dataId\n",
    "\n",
    "dataId = {\"band\": BANDSEL, \"tract\": tractNbSel, \"patch\": patchNbSel, \"skymap\": skymapName}"
   ]
  },
  {
   "cell_type": "markdown",
   "id": "d93c1073-5774-4c43-ab89-bc29243d6e31",
   "metadata": {},
   "source": [
    "## Fetch the DeepCoadd"
   ]
  },
  {
   "cell_type": "code",
   "execution_count": null,
   "id": "263f5cae-5448-459e-9860-17b1faf51966",
   "metadata": {
    "execution": {
     "iopub.execute_input": "2025-05-02T09:36:20.685993Z",
     "iopub.status.busy": "2025-05-02T09:36:20.685753Z",
     "iopub.status.idle": "2025-05-02T09:36:25.026625Z",
     "shell.execute_reply": "2025-05-02T09:36:25.026146Z",
     "shell.execute_reply.started": "2025-05-02T09:36:20.685979Z"
    }
   },
   "outputs": [],
   "source": [
    "coadd_exp = butler.get(\"deepCoadd_calexp\", dataId)"
   ]
  },
  {
   "cell_type": "markdown",
   "id": "6d6ad42e-98c3-4794-b09f-edb0c7611b6d",
   "metadata": {},
   "source": [
    "## Plot in matplotlib"
   ]
  },
  {
   "cell_type": "code",
   "execution_count": null,
   "id": "b47e2870-1da6-44ae-8c3d-89ac8779a429",
   "metadata": {
    "execution": {
     "iopub.execute_input": "2025-05-02T09:36:25.031440Z",
     "iopub.status.busy": "2025-05-02T09:36:25.030878Z",
     "iopub.status.idle": "2025-05-02T09:36:25.034130Z",
     "shell.execute_reply": "2025-05-02T09:36:25.033768Z",
     "shell.execute_reply.started": "2025-05-02T09:36:25.031424Z"
    }
   },
   "outputs": [],
   "source": [
    "image_array = coadd_exp.image.array\n",
    "image = coadd_exp.image\n",
    "wcs = coadd_exp.getWcs()\n",
    "psf = coadd_exp.getPsf()"
   ]
  },
  {
   "cell_type": "code",
   "execution_count": null,
   "id": "7ea46fcd-2279-4041-ad2f-cc5f9b5f97e6",
   "metadata": {
    "execution": {
     "iopub.execute_input": "2025-05-02T09:36:25.034692Z",
     "iopub.status.busy": "2025-05-02T09:36:25.034563Z",
     "iopub.status.idle": "2025-05-02T09:36:26.377377Z",
     "shell.execute_reply": "2025-05-02T09:36:26.376943Z",
     "shell.execute_reply.started": "2025-05-02T09:36:25.034680Z"
    }
   },
   "outputs": [],
   "source": [
    "import matplotlib.pyplot as plt\n",
    "\n",
    "fig, ax = plt.subplots(1, 1, figsize=(10, 10))\n",
    "im = ax.imshow(image_array, cmap=\"gray\", origin=\"lower\", vmin=0, vmax=2000)\n",
    "ax.set_title(target_title)\n",
    "plt.colorbar(im, ax=ax)\n",
    "plt.show()"
   ]
  },
  {
   "cell_type": "code",
   "execution_count": null,
   "id": "89a8406f-a05e-40c2-9688-aeb624ee0094",
   "metadata": {
    "execution": {
     "iopub.execute_input": "2025-05-02T09:36:26.378077Z",
     "iopub.status.busy": "2025-05-02T09:36:26.377932Z",
     "iopub.status.idle": "2025-05-02T09:36:30.808434Z",
     "shell.execute_reply": "2025-05-02T09:36:30.807943Z",
     "shell.execute_reply.started": "2025-05-02T09:36:26.378062Z"
    }
   },
   "outputs": [],
   "source": [
    "from astropy.wcs import WCS\n",
    "import matplotlib.pyplot as plt\n",
    "from astropy.visualization import ZScaleInterval\n",
    "\n",
    "# Get astropy WCS to plot accordingly\n",
    "wcs_astropy = WCS(wcs.getFitsMetadata())  # Alternative en extrayant l'entête FITS\n",
    "\n",
    "# Use zscale to norm\n",
    "interval = ZScaleInterval()\n",
    "vmin, vmax = interval.get_limits(image_array)\n",
    "\n",
    "\n",
    "fig = plt.figure(figsize=(8, 8))\n",
    "ax = fig.add_subplot(1, 1, 1, projection=wcs_astropy)\n",
    "im = ax.imshow(image_array, origin=\"lower\", cmap=\"gray\", vmin=vmin, vmax=vmax)\n",
    "\n",
    "ax.set_xlabel(\"RA (deg)\")\n",
    "ax.set_ylabel(\"Dec (deg)\")\n",
    "ax.coords.grid(True, color=\"white\", ls=\"dotted\")\n",
    "plt.title(\"DeepCoadd_calexp for \" + target_title)\n",
    "# plt.colorbar(im, ax=ax)\n",
    "plt.show()"
   ]
  },
  {
   "cell_type": "markdown",
   "id": "ebb94f95-0189-43b3-812f-53eb503fa58a",
   "metadata": {},
   "source": [
    "## Plot with Firefly"
   ]
  },
  {
   "cell_type": "code",
   "execution_count": null,
   "id": "c86730c4-e9e8-44b2-9bb6-761fef482109",
   "metadata": {
    "execution": {
     "iopub.execute_input": "2025-05-02T09:36:30.809094Z",
     "iopub.status.busy": "2025-05-02T09:36:30.808951Z",
     "iopub.status.idle": "2025-05-02T09:36:30.868456Z",
     "shell.execute_reply": "2025-05-02T09:36:30.867952Z",
     "shell.execute_reply.started": "2025-05-02T09:36:30.809079Z"
    }
   },
   "outputs": [],
   "source": [
    "afwDisplay.setDefaultBackend(\"firefly\")\n",
    "# display = afwDisplay.Display(frame=1)\n",
    "# display.scale(\"asinh\", \"zscale\")\n",
    "# display.mtv(image, title = target_title)"
   ]
  },
  {
   "cell_type": "code",
   "execution_count": null,
   "id": "a4071800-b1aa-4765-a68c-5250d36ddc80",
   "metadata": {
    "execution": {
     "iopub.execute_input": "2025-05-02T09:36:30.869593Z",
     "iopub.status.busy": "2025-05-02T09:36:30.869049Z",
     "iopub.status.idle": "2025-05-02T09:36:30.872094Z",
     "shell.execute_reply": "2025-05-02T09:36:30.871720Z",
     "shell.execute_reply.started": "2025-05-02T09:36:30.869576Z"
    }
   },
   "outputs": [],
   "source": [
    "bands = [\"u\", \"g\", \"r\", \"i\", \"z\", \"y\"]\n",
    "all_dataIds = [\n",
    "    {\n",
    "        \"band\": band,\n",
    "        \"tract\": tract_info.getId(),\n",
    "        \"patch\": patch_info.getSequentialIndex(),\n",
    "        \"skymap\": skymapName,\n",
    "    }\n",
    "    for band in bands\n",
    "]"
   ]
  },
  {
   "cell_type": "code",
   "execution_count": null,
   "id": "776ccf55-b0cc-466d-8c90-b5ab42611cb2",
   "metadata": {
    "execution": {
     "iopub.execute_input": "2025-05-02T09:36:30.874861Z",
     "iopub.status.busy": "2025-05-02T09:36:30.874635Z",
     "iopub.status.idle": "2025-05-02T09:36:30.880604Z",
     "shell.execute_reply": "2025-05-02T09:36:30.880182Z",
     "shell.execute_reply.started": "2025-05-02T09:36:30.874848Z"
    }
   },
   "outputs": [],
   "source": [
    "all_dataIds"
   ]
  },
  {
   "cell_type": "code",
   "execution_count": null,
   "id": "52b0420f-df14-4543-b6ce-e5a0fd19ba30",
   "metadata": {
    "execution": {
     "iopub.execute_input": "2025-05-02T09:36:30.881167Z",
     "iopub.status.busy": "2025-05-02T09:36:30.881037Z",
     "iopub.status.idle": "2025-05-02T09:36:42.739793Z",
     "shell.execute_reply": "2025-05-02T09:36:42.739224Z",
     "shell.execute_reply.started": "2025-05-02T09:36:30.881155Z"
    }
   },
   "outputs": [],
   "source": [
    "all_deepCoadds = []\n",
    "all_titles = []\n",
    "for idx, band in enumerate(bands):\n",
    "    the_band = bands[idx]\n",
    "    the_dataId = all_dataIds[idx]\n",
    "    the_title = key + f\" band {the_band}\"\n",
    "    try:\n",
    "        coadd_exp = butler.get(\"deepCoadd_calexp\", the_dataId)\n",
    "        all_deepCoadds.append(coadd_exp)\n",
    "        all_titles.append(the_title)\n",
    "\n",
    "    except Exception as inst:\n",
    "        print(f\"{key} :: catch Exception for band {band}\")\n",
    "        print(type(inst))  # the exception type\n",
    "        print(inst.args)  # arguments stored in .args\n",
    "        print(inst)  # __str_"
   ]
  },
  {
   "cell_type": "code",
   "execution_count": null,
   "id": "0f3dea1d-dca9-4ffa-b488-f390caf24f4f",
   "metadata": {
    "execution": {
     "iopub.execute_input": "2025-05-02T09:36:42.742284Z",
     "iopub.status.busy": "2025-05-02T09:36:42.742138Z",
     "iopub.status.idle": "2025-05-02T09:36:50.467754Z",
     "shell.execute_reply": "2025-05-02T09:36:50.467290Z",
     "shell.execute_reply.started": "2025-05-02T09:36:42.742270Z"
    }
   },
   "outputs": [],
   "source": [
    "N = len(all_deepCoadds)\n",
    "for count in range(N):\n",
    "    display = afwDisplay.Display(frame=count + 1)\n",
    "    # cannot succeed to show white stars on dark sky\n",
    "    display.setImageColormap(\"gray\")\n",
    "    display.scale(\"asinh\", \"zscale\")\n",
    "    display.mtv(all_deepCoadds[count].image, title=all_titles[count])"
   ]
  },
  {
   "cell_type": "code",
   "execution_count": null,
   "id": "6c9a337b-5e43-4d21-9d32-421b6c388348",
   "metadata": {
    "execution": {
     "iopub.execute_input": "2025-05-02T09:36:50.468607Z",
     "iopub.status.busy": "2025-05-02T09:36:50.468292Z",
     "iopub.status.idle": "2025-05-02T09:36:50.470798Z",
     "shell.execute_reply": "2025-05-02T09:36:50.470422Z",
     "shell.execute_reply.started": "2025-05-02T09:36:50.468589Z"
    }
   },
   "outputs": [],
   "source": [
    "# display.clearViewer()"
   ]
  },
  {
   "cell_type": "code",
   "execution_count": null,
   "id": "08c3ccca-756e-4537-aac0-bb5ed5bada29",
   "metadata": {
    "execution": {
     "iopub.execute_input": "2025-05-02T09:36:50.471474Z",
     "iopub.status.busy": "2025-05-02T09:36:50.471338Z",
     "iopub.status.idle": "2025-05-02T09:36:50.478441Z",
     "shell.execute_reply": "2025-05-02T09:36:50.478068Z",
     "shell.execute_reply.started": "2025-05-02T09:36:50.471459Z"
    }
   },
   "outputs": [],
   "source": [
    "# setImageColormap) are “gray” and “grey”"
   ]
  },
  {
   "cell_type": "code",
   "execution_count": null,
   "id": "564b2ccf-67e4-495c-975d-10374d08de9d",
   "metadata": {},
   "outputs": [],
   "source": []
  }
 ],
 "metadata": {
  "kernelspec": {
   "display_name": "LSST",
   "language": "python",
   "name": "lsst"
  },
  "language_info": {
   "codemirror_mode": {
    "name": "ipython",
    "version": 3
   },
   "file_extension": ".py",
   "mimetype": "text/x-python",
   "name": "python",
   "nbconvert_exporter": "python",
   "pygments_lexer": "ipython3",
   "version": "3.12.9"
  }
 },
 "nbformat": 4,
 "nbformat_minor": 5
}
