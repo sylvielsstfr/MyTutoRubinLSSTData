{
 "cells": [
  {
   "cell_type": "markdown",
   "id": "adda26b1-7594-48da-94d2-6722bd71353c",
   "metadata": {},
   "source": [
    "# Tuto to find The sources and Visits and Objects in LSSTComCam"
   ]
  },
  {
   "cell_type": "markdown",
   "id": "1f276e2d-e5e1-4b30-bf3c-4ea950073fad",
   "metadata": {
    "execution": {
     "iopub.execute_input": "2025-04-29T08:48:57.989253Z",
     "iopub.status.busy": "2025-04-29T08:48:57.988923Z",
     "iopub.status.idle": "2025-04-29T08:48:57.993268Z",
     "shell.execute_reply": "2025-04-29T08:48:57.992764Z",
     "shell.execute_reply.started": "2025-04-29T08:48:57.989226Z"
    }
   },
   "source": [
    "- author : Sylvie Dagoret-Campagne\n",
    "- affiliation : IJCLab/IN2P3/CNRS\n",
    "- member : DESC, rubin-inkind\n",
    "- creation date : 2025-05-03\n",
    "- last update : 2025-05-03"
   ]
  },
  {
   "cell_type": "markdown",
   "id": "81c11161-2bd4-4317-812a-f246f3f70d81",
   "metadata": {},
   "source": [
    "## Note on work done on LSSTComCam Commissioning : https://sitcomtn-149.lsst.io/\n",
    "## Note Data Product definition Document : https://lse-163.lsst.io/"
   ]
  },
  {
   "cell_type": "code",
   "execution_count": null,
   "id": "72f36e25-589c-4a8c-865f-8b51f5f35270",
   "metadata": {
    "execution": {
     "iopub.execute_input": "2025-05-04T21:38:01.120983Z",
     "iopub.status.busy": "2025-05-04T21:38:01.120639Z",
     "iopub.status.idle": "2025-05-04T21:38:01.124040Z",
     "shell.execute_reply": "2025-05-04T21:38:01.123638Z",
     "shell.execute_reply.started": "2025-05-04T21:38:01.120957Z"
    }
   },
   "outputs": [],
   "source": [
    "import sys, os\n",
    "import matplotlib.pyplot as plt\n",
    "import lsst.afw.display as afwDisplay\n",
    "import numpy as np\n",
    "import pandas as pd\n",
    "from astropy.time import Time\n",
    "# %matplotlib widget"
   ]
  },
  {
   "cell_type": "code",
   "execution_count": null,
   "id": "42897fba-1ca4-4f20-837d-bd7478ac4548",
   "metadata": {
    "execution": {
     "iopub.execute_input": "2025-05-04T21:38:01.124913Z",
     "iopub.status.busy": "2025-05-04T21:38:01.124778Z",
     "iopub.status.idle": "2025-05-04T21:38:01.136359Z",
     "shell.execute_reply": "2025-05-04T21:38:01.135915Z",
     "shell.execute_reply.started": "2025-05-04T21:38:01.124900Z"
    }
   },
   "outputs": [],
   "source": [
    "import lsst.geom as geom\n",
    "from lsst.geom import SpherePoint, degrees, Point2D, Point2I\n",
    "from lsst.skymap import PatchInfo, Index2D"
   ]
  },
  {
   "cell_type": "code",
   "execution_count": null,
   "id": "f2580923-bf82-4204-a50d-c64eb56b9f06",
   "metadata": {
    "execution": {
     "iopub.execute_input": "2025-05-04T21:38:01.136984Z",
     "iopub.status.busy": "2025-05-04T21:38:01.136847Z",
     "iopub.status.idle": "2025-05-04T21:38:01.149007Z",
     "shell.execute_reply": "2025-05-04T21:38:01.148607Z",
     "shell.execute_reply.started": "2025-05-04T21:38:01.136970Z"
    }
   },
   "outputs": [],
   "source": [
    "plt.rcParams[\"figure.figsize\"] = (10, 6)\n",
    "plt.rcParams[\"axes.labelsize\"] = \"x-large\"\n",
    "plt.rcParams[\"axes.titlesize\"] = \"x-large\"\n",
    "plt.rcParams[\"xtick.labelsize\"] = \"x-large\"\n",
    "plt.rcParams[\"ytick.labelsize\"] = \"x-large\""
   ]
  },
  {
   "cell_type": "code",
   "execution_count": null,
   "id": "d47f09df-7496-431c-b4ae-4fb75a3c6ef9",
   "metadata": {
    "execution": {
     "iopub.execute_input": "2025-05-04T21:38:01.149612Z",
     "iopub.status.busy": "2025-05-04T21:38:01.149479Z",
     "iopub.status.idle": "2025-05-04T21:38:01.161414Z",
     "shell.execute_reply": "2025-05-04T21:38:01.160998Z",
     "shell.execute_reply.started": "2025-05-04T21:38:01.149599Z"
    }
   },
   "outputs": [],
   "source": [
    "import gc"
   ]
  },
  {
   "cell_type": "code",
   "execution_count": null,
   "id": "1a1a267b-58c7-468a-a336-2c8def253a79",
   "metadata": {
    "execution": {
     "iopub.execute_input": "2025-05-04T21:38:01.162631Z",
     "iopub.status.busy": "2025-05-04T21:38:01.162496Z",
     "iopub.status.idle": "2025-05-04T21:38:01.170597Z",
     "shell.execute_reply": "2025-05-04T21:38:01.170229Z",
     "shell.execute_reply.started": "2025-05-04T21:38:01.162618Z"
    }
   },
   "outputs": [],
   "source": [
    "import traceback"
   ]
  },
  {
   "cell_type": "code",
   "execution_count": null,
   "id": "ede21bda-146f-4c77-aa40-edf2debfbfc0",
   "metadata": {
    "execution": {
     "iopub.execute_input": "2025-05-04T21:38:01.171220Z",
     "iopub.status.busy": "2025-05-04T21:38:01.171061Z",
     "iopub.status.idle": "2025-05-04T21:38:01.183295Z",
     "shell.execute_reply": "2025-05-04T21:38:01.182933Z",
     "shell.execute_reply.started": "2025-05-04T21:38:01.171207Z"
    }
   },
   "outputs": [],
   "source": [
    "# Define butler\n",
    "from lsst.daf.butler import Butler"
   ]
  },
  {
   "cell_type": "code",
   "execution_count": null,
   "id": "c7ab7fe3-285d-48c2-973a-2dde9d0a7faa",
   "metadata": {
    "execution": {
     "iopub.execute_input": "2025-05-04T21:38:01.183840Z",
     "iopub.status.busy": "2025-05-04T21:38:01.183702Z",
     "iopub.status.idle": "2025-05-04T21:38:01.911296Z",
     "shell.execute_reply": "2025-05-04T21:38:01.910446Z",
     "shell.execute_reply.started": "2025-05-04T21:38:01.183827Z"
    }
   },
   "outputs": [],
   "source": [
    "!eups list lsst_distrib"
   ]
  },
  {
   "cell_type": "code",
   "execution_count": null,
   "id": "6ef70114-5b91-4358-b25b-0283c8cc1e52",
   "metadata": {
    "execution": {
     "iopub.execute_input": "2025-05-04T21:38:01.912199Z",
     "iopub.status.busy": "2025-05-04T21:38:01.912029Z",
     "iopub.status.idle": "2025-05-04T21:38:01.915409Z",
     "shell.execute_reply": "2025-05-04T21:38:01.915026Z",
     "shell.execute_reply.started": "2025-05-04T21:38:01.912180Z"
    }
   },
   "outputs": [],
   "source": [
    "# def nJy_to_ab_mag(f_njy):\n",
    "#    \"\"\"Convert flux in nanojanskys to AB magnitude.\"\"\"\n",
    "#    if f_njy > 0:\n",
    "#        return -2.5 * np.log10(f_njy) + 31.4\n",
    "#    else:\n",
    "#        return 0.0\n",
    "\n",
    "\n",
    "def ab_mag_to_nJy(mag_ab):\n",
    "    \"\"\"Convert AB magnitude to flux in nanojanskys.\"\"\"\n",
    "    return 10 ** ((31.4 - mag_ab) / 2.5)"
   ]
  },
  {
   "cell_type": "code",
   "execution_count": null,
   "id": "94118be8-23f9-49e8-bf7d-9582d95287e6",
   "metadata": {
    "execution": {
     "iopub.execute_input": "2025-05-04T21:38:01.916040Z",
     "iopub.status.busy": "2025-05-04T21:38:01.915904Z",
     "iopub.status.idle": "2025-05-04T21:38:01.925720Z",
     "shell.execute_reply": "2025-05-04T21:38:01.925290Z",
     "shell.execute_reply.started": "2025-05-04T21:38:01.916026Z"
    }
   },
   "outputs": [],
   "source": [
    "def nJy_to_ab_mag(f_njy):\n",
    "    \"\"\"Convert scalar or array flux in nJy to AB magnitude.\"\"\"\n",
    "    f_njy = np.asarray(f_njy)\n",
    "    mag = np.full_like(f_njy, fill_value=np.nan, dtype=float)\n",
    "    mask = f_njy > 0\n",
    "    mag[mask] = -2.5 * np.log10(f_njy[mask]) + 31.4\n",
    "    return mag\n",
    "\n",
    "\n",
    "def nJy_err_to_ab_err(f_njy, f_err):\n",
    "    \"\"\"Propagate flux error to magnitude error.\"\"\"\n",
    "    f_njy = np.asarray(f_njy)\n",
    "    f_err = np.asarray(f_err)\n",
    "    mag_err = np.full_like(f_njy, fill_value=np.nan, dtype=float)\n",
    "    mask = (f_njy > 0) & (f_err > 0)\n",
    "    mag_err[mask] = (2.5 / np.log(10)) * (f_err[mask] / f_njy[mask])\n",
    "    return mag_err"
   ]
  },
  {
   "cell_type": "code",
   "execution_count": null,
   "id": "dbe3a976-0df1-4b45-8774-fd985a847821",
   "metadata": {
    "execution": {
     "iopub.execute_input": "2025-05-04T21:38:01.926395Z",
     "iopub.status.busy": "2025-05-04T21:38:01.926193Z",
     "iopub.status.idle": "2025-05-04T21:38:01.934398Z",
     "shell.execute_reply": "2025-05-04T21:38:01.934027Z",
     "shell.execute_reply.started": "2025-05-04T21:38:01.926380Z"
    }
   },
   "outputs": [],
   "source": [
    "def select_visits_in_patch(df, tractInfo, patchInfo):\n",
    "    \"\"\"\n",
    "    Sélectionne les lignes du DataFrame correspondant à des visites dans un patch donné.\n",
    "\n",
    "    Paramètres\n",
    "    ----------\n",
    "    df : pandas.DataFrame\n",
    "        Doit contenir les colonnes 'ra' et 'dec' en degrés.\n",
    "    tractInfo : lsst.skymap.TractInfo\n",
    "    patchInfo : lsst.skymap.PatchInfo\n",
    "\n",
    "    Retourne\n",
    "    --------\n",
    "    df_filtered : pandas.DataFrame\n",
    "        Les lignes du DataFrame dont les RA/Dec sont dans le patch spécifié.\n",
    "    \"\"\"\n",
    "    wcs = tractInfo.getWcs()\n",
    "    bbox = patchInfo.getOuterBBox()\n",
    "\n",
    "    def is_inside_patch(ra, dec):\n",
    "        coord = SpherePoint(ra * degrees, dec * degrees)\n",
    "        if not tractInfo.contains(coord):\n",
    "            return False\n",
    "        pix = wcs.skyToPixel(coord)\n",
    "        return bbox.contains(Point2I(pix))\n",
    "\n",
    "    mask = df.apply(lambda row: is_inside_patch(row[\"ra\"], row[\"dec\"]), axis=1)\n",
    "    return df[mask].copy()"
   ]
  },
  {
   "cell_type": "code",
   "execution_count": null,
   "id": "b207720f-9aaf-40d0-b572-c582cddb35d6",
   "metadata": {
    "execution": {
     "iopub.execute_input": "2025-05-04T21:38:01.934989Z",
     "iopub.status.busy": "2025-05-04T21:38:01.934860Z",
     "iopub.status.idle": "2025-05-04T21:38:01.946584Z",
     "shell.execute_reply": "2025-05-04T21:38:01.946204Z",
     "shell.execute_reply.started": "2025-05-04T21:38:01.934976Z"
    }
   },
   "outputs": [],
   "source": [
    "# Tested but long\n",
    "def assign_tract_patch(df, skyMap):\n",
    "    \"\"\"\n",
    "    Attribue (tract, patch) à chaque ligne d’un DataFrame selon ses coordonnées célestes.\n",
    "\n",
    "    Paramètres\n",
    "    ----------\n",
    "    df : pandas.DataFrame\n",
    "        Doit contenir les colonnes 'ra' et 'dec' (en degrés).\n",
    "    skyMap : lsst.skymap.SkyMap\n",
    "        Obtenu via butler.get(\"skyMap\")\n",
    "\n",
    "    Retour\n",
    "    ------\n",
    "    df_result : pandas.DataFrame\n",
    "        DataFrame original avec deux colonnes supplémentaires :\n",
    "        'tract' et 'patch' (tuple (x, y) ou None si hors carte).\n",
    "    \"\"\"\n",
    "\n",
    "    def find_tract_patch(ra, dec):\n",
    "        coord = SpherePoint(ra * degrees, dec * degrees)\n",
    "        for tractInfo in skyMap:\n",
    "            if tractInfo.contains(coord):\n",
    "                wcs = tractInfo.getWcs()\n",
    "                pix = wcs.skyToPixel(coord)\n",
    "                point = Point2I(pix)\n",
    "                for patchInfo in tractInfo:\n",
    "                    if patchInfo.getOuterBBox().contains(point):\n",
    "                        return tractInfo.getId(), patchInfo.getSequentialIndex()\n",
    "        return None, None\n",
    "\n",
    "    results = df.apply(lambda row: find_tract_patch(row[\"ra\"], row[\"dec\"]), axis=1)\n",
    "    df[[\"tract\", \"patch\"]] = pd.DataFrame(results.tolist(), index=df.index)\n",
    "    return df"
   ]
  },
  {
   "cell_type": "code",
   "execution_count": null,
   "id": "c537827d-6be7-47ef-8363-5e85cb2cde5f",
   "metadata": {
    "execution": {
     "iopub.execute_input": "2025-05-04T21:38:01.947182Z",
     "iopub.status.busy": "2025-05-04T21:38:01.947050Z",
     "iopub.status.idle": "2025-05-04T21:38:01.957951Z",
     "shell.execute_reply": "2025-05-04T21:38:01.957577Z",
     "shell.execute_reply.started": "2025-05-04T21:38:01.947169Z"
    }
   },
   "outputs": [],
   "source": [
    "# Not tested\n",
    "def filter_in_patch_vectorized(df, tractInfo, patchInfo):\n",
    "    \"\"\"\n",
    "    Sélection rapide (vectorisée) d’un sous-ensemble RA/Dec inclus dans un patch donné.\n",
    "\n",
    "    Attention : plus rapide, mais approximatif si les coordonnées sont très en bordure.\n",
    "\n",
    "    Paramètres\n",
    "    ----------\n",
    "    df : pandas.DataFrame avec colonnes 'ra', 'dec'\n",
    "    tractInfo : TractInfo\n",
    "    patchInfo : PatchInfo\n",
    "\n",
    "    Retour\n",
    "    ------\n",
    "    df_filtered : pandas.DataFrame\n",
    "    \"\"\"\n",
    "    wcs = tractInfo.getWcs()\n",
    "    bbox = patchInfo.getOuterBBox()\n",
    "\n",
    "    # Conversion RA/Dec → radians\n",
    "    ra_rad = np.deg2rad(df[\"ra\"].values)\n",
    "    dec_rad = np.deg2rad(df[\"dec\"].values)\n",
    "\n",
    "    # Conversion → Point2D (skyToPixel produit Point2D, pas Point2I)\n",
    "    pix_x = []\n",
    "    pix_y = []\n",
    "    for ra, dec in zip(ra_rad, dec_rad):\n",
    "        sp = SpherePoint(ra, dec)\n",
    "        pix = wcs.skyToPixel(sp)\n",
    "        pix_x.append(pix.getX())\n",
    "        pix_y.append(pix.getY())\n",
    "\n",
    "    pix_x = np.array(pix_x)\n",
    "    pix_y = np.array(pix_y)\n",
    "\n",
    "    # BBox (xmin, xmax, ymin, ymax)\n",
    "    xmin, xmax = bbox.getMinX(), bbox.getMaxX()\n",
    "    ymin, ymax = bbox.getMinY(), bbox.getMaxY()\n",
    "\n",
    "    # Masque vectoriel\n",
    "    mask = (pix_x >= xmin) & (pix_x <= xmax) & (pix_y >= ymin) & (pix_y <= ymax)\n",
    "\n",
    "    return df[mask].copy()"
   ]
  },
  {
   "cell_type": "markdown",
   "id": "7e369002-01db-40e2-a7b7-036072114e6a",
   "metadata": {},
   "source": [
    "## RubinTV, Campaigns , quicklook\n",
    "- RubinTV : https://usdf-rsp.slac.stanford.edu/rubintv/summit-usdf/lsstcam\n",
    "- https://rubinobs.atlassian.net/wiki/spaces/LSSTCOM/pages/467370016/LSSTCam+Commissioning+Planning\n",
    "- LSSTCam DM campaign : https://rubinobs.atlassian.net/wiki/spaces/DM/pages/48834013/Campaigns#1.1.2.-LSSTCam-Nightly-Validation-Pipeline\n",
    "- Check campaign also here  https://rubinobs.atlassian.net/wiki/pages/diffpagesbyversion.action?pageId=48834013&selectedPageVersions=145%2C143\n",
    "- fov-quicklook : https://usdf-rsp-dev.slac.stanford.edu/fov-quicklook/"
   ]
  },
  {
   "cell_type": "markdown",
   "id": "4ce495c8-71a6-4846-86fc-5715e13348ab",
   "metadata": {},
   "source": [
    "## Configuration"
   ]
  },
  {
   "cell_type": "code",
   "execution_count": null,
   "id": "91e7b166-6245-4e54-8cb1-21f34fbba78f",
   "metadata": {
    "execution": {
     "iopub.execute_input": "2025-05-04T21:38:01.958512Z",
     "iopub.status.busy": "2025-05-04T21:38:01.958382Z",
     "iopub.status.idle": "2025-05-04T21:38:01.965865Z",
     "shell.execute_reply": "2025-05-04T21:38:01.965479Z",
     "shell.execute_reply.started": "2025-05-04T21:38:01.958498Z"
    }
   },
   "outputs": [],
   "source": [
    "FLAG_DUMP_COLLECTIONS = False\n",
    "FLAG_DUMP_DATASETS = True\n",
    "FLAG_DUMP_OBJECTSTABLECOLUMNS = False\n",
    "FLAG_DUMP_VISITTABLEECOLUMNS = True\n",
    "FLAG_COMPUTE_VISITSTRACTSPATCHS = False"
   ]
  },
  {
   "cell_type": "code",
   "execution_count": null,
   "id": "566b4b6f-68ac-472f-9a14-9645d06d291a",
   "metadata": {
    "execution": {
     "iopub.execute_input": "2025-05-04T21:38:01.968221Z",
     "iopub.status.busy": "2025-05-04T21:38:01.968080Z",
     "iopub.status.idle": "2025-05-04T21:38:01.974141Z",
     "shell.execute_reply": "2025-05-04T21:38:01.973768Z",
     "shell.execute_reply.started": "2025-05-04T21:38:01.968208Z"
    }
   },
   "outputs": [],
   "source": [
    "all_bands = [\"u\", \"g\", \"r\", \"i\", \"z\", \"y\"]"
   ]
  },
  {
   "cell_type": "markdown",
   "id": "29bdd60b-f237-4a90-8aee-95f83091a5c8",
   "metadata": {},
   "source": [
    "### Choose instrument"
   ]
  },
  {
   "cell_type": "code",
   "execution_count": null,
   "id": "66ff700b-a6ab-4b6d-ab28-dfadf54fdd9f",
   "metadata": {
    "execution": {
     "iopub.execute_input": "2025-05-04T21:38:01.974714Z",
     "iopub.status.busy": "2025-05-04T21:38:01.974584Z",
     "iopub.status.idle": "2025-05-04T21:38:01.980220Z",
     "shell.execute_reply": "2025-05-04T21:38:01.979854Z",
     "shell.execute_reply.started": "2025-05-04T21:38:01.974701Z"
    }
   },
   "outputs": [],
   "source": [
    "# instrument = \"LSSTCam\"\n",
    "\n",
    "# We focus here on sky fields oberved by LSSTComCam, so we select this camera\n",
    "instrument = \"LSSTComCam\""
   ]
  },
  {
   "cell_type": "markdown",
   "id": "6a07464c-6f2e-4015-8ea6-1fbc5698c1dd",
   "metadata": {},
   "source": [
    "### Choose options"
   ]
  },
  {
   "cell_type": "markdown",
   "id": "29fc15af-ca3f-4c38-99ec-433e84dae8a2",
   "metadata": {},
   "source": [
    "### For LSSTCam : RubinTV, Campaigns , quicklook\n",
    "- RubinTV : https://usdf-rsp.slac.stanford.edu/rubintv/summit-usdf/lsstcam\n",
    "- https://rubinobs.atlassian.net/wiki/spaces/LSSTCOM/pages/467370016/LSSTCam+Commissioning+Planning\n",
    "- LSSTCam DM campaign : https://rubinobs.atlassian.net/wiki/spaces/DM/pages/48834013/Campaigns#1.1.2.-LSSTCam-Nightly-Validation-Pipeline\n",
    "- Check campaign also here  https://rubinobs.atlassian.net/wiki/pages/diffpagesbyversion.action?pageId=48834013&selectedPageVersions=145%2C143\n",
    "- fov-quicklook : https://usdf-rsp-dev.slac.stanford.edu/fov-quicklook/"
   ]
  },
  {
   "cell_type": "markdown",
   "id": "5542de7d-695e-4256-b765-28b902b02adc",
   "metadata": {},
   "source": [
    "### For LSSTComCam check here : \n",
    "- Check here the collection available : https://rubinobs.atlassian.net/wiki/spaces/DM/pages/226656354/LSSTComCam+Intermittent+Cumulative+DRP+Runs"
   ]
  },
  {
   "cell_type": "code",
   "execution_count": null,
   "id": "eacb14b0-183c-4dcd-ba59-64c7ca3efcd3",
   "metadata": {
    "execution": {
     "iopub.execute_input": "2025-05-04T21:38:01.980812Z",
     "iopub.status.busy": "2025-05-04T21:38:01.980671Z",
     "iopub.status.idle": "2025-05-04T21:38:01.989824Z",
     "shell.execute_reply": "2025-05-04T21:38:01.989443Z",
     "shell.execute_reply.started": "2025-05-04T21:38:01.980797Z"
    }
   },
   "outputs": [],
   "source": [
    "if instrument == \"LSSTCam\":\n",
    "    repo = \"/repo/embargo\"\n",
    "    instrument = \"LSSTCam\"\n",
    "    collection_validation = instrument + \"/runs/nightlyValidation\"\n",
    "    # collection_quicklook   = instrument + '/runs/quickLookTesting'\n",
    "    collection_validation = os.path.join(collection_validation, \"20250416/d_2025_04_15/DM-50157\")\n",
    "    date_start = 20250415\n",
    "    date_selection = 20250416\n",
    "    where_clause = \"instrument = '\" + f\"{instrument}\" + \"'\"\n",
    "    where_clause_instrument = \"instrument = '\" + instrument + \"'\"\n",
    "    where_clause_date = where_clause + f\"and day_obs >= {date_start}\"\n",
    "    skymapName = \"lsst_cells_v1\"\n",
    "    BANDSEL = \"i\"\n",
    "\n",
    "elif instrument == \"LSSTComCam\":\n",
    "    repo = \"/repo/main\"\n",
    "    collection_validation = \"LSSTComCam/runs/DRP/DP1/w_2025_10/DM-49359\"  # work 2025-05-01\n",
    "    # collection_validation = \"LSSTComCam/runs/DRP/DP1/w_2025_17/DM-50530\" #updated 2025-05-02\n",
    "    date_start = 20241024\n",
    "    date_selection = 20241211\n",
    "    skymapName = \"lsst_cells_v1\"\n",
    "    where_clause = \"instrument = '\" + instrument + \"'\"\n",
    "    where_clause_instrument = \"instrument = '\" + instrument + \"'\"\n",
    "    where_clause_date = where_clause + f\"and day_obs >= {date_start}\"\n",
    "\n",
    "    NDET = 9\n",
    "    TRACTSEL = 5063\n",
    "    BANDSEL = \"i\""
   ]
  },
  {
   "cell_type": "code",
   "execution_count": null,
   "id": "82535307-9253-4f06-b82a-956efd0217c9",
   "metadata": {
    "execution": {
     "iopub.execute_input": "2025-05-04T21:38:01.990382Z",
     "iopub.status.busy": "2025-05-04T21:38:01.990250Z",
     "iopub.status.idle": "2025-05-04T21:38:01.999378Z",
     "shell.execute_reply": "2025-05-04T21:38:01.999011Z",
     "shell.execute_reply.started": "2025-05-04T21:38:01.990369Z"
    }
   },
   "outputs": [],
   "source": [
    "collectionStr = collection_validation.replace(\"/\", \"_\")"
   ]
  },
  {
   "cell_type": "markdown",
   "id": "e77a39ca-c34f-4097-8a11-c40a121a82e9",
   "metadata": {},
   "source": [
    "## Access to Butler registry"
   ]
  },
  {
   "cell_type": "code",
   "execution_count": null,
   "id": "8726b7e4-94b7-48ac-92f8-447b34b7a59e",
   "metadata": {
    "execution": {
     "iopub.execute_input": "2025-05-04T21:38:01.999963Z",
     "iopub.status.busy": "2025-05-04T21:38:01.999832Z",
     "iopub.status.idle": "2025-05-04T21:38:02.298008Z",
     "shell.execute_reply": "2025-05-04T21:38:02.297553Z",
     "shell.execute_reply.started": "2025-05-04T21:38:01.999950Z"
    }
   },
   "outputs": [],
   "source": [
    "# Initialize the butler repo:\n",
    "butler = Butler(repo, collections=collection_validation)\n",
    "registry = butler.registry"
   ]
  },
  {
   "cell_type": "markdown",
   "id": "a82d1397-cd01-45d3-9f39-8b4f6bcbb21f",
   "metadata": {},
   "source": [
    "## Create a skymap object and Camera"
   ]
  },
  {
   "cell_type": "code",
   "execution_count": null,
   "id": "2a570834-a5dc-43b8-a0d3-af71a5b2706c",
   "metadata": {
    "execution": {
     "iopub.execute_input": "2025-05-04T21:38:02.298660Z",
     "iopub.status.busy": "2025-05-04T21:38:02.298518Z",
     "iopub.status.idle": "2025-05-04T21:38:02.665162Z",
     "shell.execute_reply": "2025-05-04T21:38:02.664639Z",
     "shell.execute_reply.started": "2025-05-04T21:38:02.298646Z"
    }
   },
   "outputs": [],
   "source": [
    "skymap = butler.get(\"skyMap\", skymap=skymapName, collections=collection_validation)"
   ]
  },
  {
   "cell_type": "code",
   "execution_count": null,
   "id": "8870762e-6e5d-4a6d-b101-1783285b1935",
   "metadata": {
    "execution": {
     "iopub.execute_input": "2025-05-04T21:38:02.665889Z",
     "iopub.status.busy": "2025-05-04T21:38:02.665739Z",
     "iopub.status.idle": "2025-05-04T21:38:02.841664Z",
     "shell.execute_reply": "2025-05-04T21:38:02.841178Z",
     "shell.execute_reply.started": "2025-05-04T21:38:02.665874Z"
    }
   },
   "outputs": [],
   "source": [
    "camera = butler.get(\"camera\", collections=collection_validation, instrument=instrument)"
   ]
  },
  {
   "cell_type": "markdown",
   "id": "f0e61f09-1f15-4f29-9555-d4015b09c5cc",
   "metadata": {},
   "source": [
    "## Query for collections in Butler\n",
    "\n",
    "- remove user collections\n",
    "- remove calibration products"
   ]
  },
  {
   "cell_type": "code",
   "execution_count": null,
   "id": "55edfcaa-96c0-49dc-827c-0167a0b6f731",
   "metadata": {
    "execution": {
     "iopub.execute_input": "2025-05-04T21:38:02.842403Z",
     "iopub.status.busy": "2025-05-04T21:38:02.842261Z",
     "iopub.status.idle": "2025-05-04T21:38:02.844956Z",
     "shell.execute_reply": "2025-05-04T21:38:02.844600Z",
     "shell.execute_reply.started": "2025-05-04T21:38:02.842389Z"
    }
   },
   "outputs": [],
   "source": [
    "# mostly setup for LSSTCam\n",
    "if FLAG_DUMP_COLLECTIONS:\n",
    "    for _ in sorted(registry.queryCollections(expression=instrument + \"/*\")):\n",
    "        if \"/calib/\" not in _ and \"u/\" not in _:\n",
    "            print(_)"
   ]
  },
  {
   "cell_type": "markdown",
   "id": "3ff90940-a996-4174-97b4-beb8895ae7a4",
   "metadata": {},
   "source": [
    "## Query for the dataset types in the Butler\n",
    "\n",
    "- Refer to the Data Product definition Document to know about the definition of datasets\n",
    "- https://www.lsst.org/about/dm/data-products\n",
    "- https://lse-163.lsst.io/\n",
    "- https://docushare.lsst.org/docushare/dsweb/Get/LSE-163"
   ]
  },
  {
   "cell_type": "code",
   "execution_count": null,
   "id": "4c411a6c-6a67-437e-86d6-720e4d5a4a4b",
   "metadata": {
    "execution": {
     "iopub.execute_input": "2025-05-04T21:38:02.845506Z",
     "iopub.status.busy": "2025-05-04T21:38:02.845375Z",
     "iopub.status.idle": "2025-05-04T21:42:28.087867Z",
     "shell.execute_reply": "2025-05-04T21:42:28.087131Z",
     "shell.execute_reply.started": "2025-05-04T21:38:02.845493Z"
    }
   },
   "outputs": [],
   "source": [
    "if FLAG_DUMP_DATASETS:\n",
    "    for datasetType in registry.queryDatasetTypes():\n",
    "        if registry.queryDatasets(datasetType, collections=collection_validation).any(\n",
    "            execute=False, exact=False\n",
    "        ):\n",
    "            # Limit search results to the data products\n",
    "            if (\n",
    "                (\"_config\" not in datasetType.name)\n",
    "                and (\"_log\" not in datasetType.name)\n",
    "                and (\"_metadata\" not in datasetType.name)\n",
    "                and (\"_resource_usage\" not in datasetType.name)\n",
    "                and (\"Plot\" not in datasetType.name)\n",
    "                and (\"Metric\" not in datasetType.name)\n",
    "                and (\"metric\" not in datasetType.name)\n",
    "            ):\n",
    "                if \"object\" in datasetType.name or \"Obj\" in datasetType.name:\n",
    "                    print(datasetType)\n",
    "                if \"source\" in datasetType.name or \"Source\" in datasetType.name:\n",
    "                    print(datasetType)\n",
    "                if \"visit\" in datasetType.name or \"Visit\" in datasetType.name:\n",
    "                    print(datasetType)"
   ]
  },
  {
   "cell_type": "markdown",
   "id": "f78111e1-238c-4641-b3c1-0faebbbb89b1",
   "metadata": {},
   "source": [
    "## Region of interest"
   ]
  },
  {
   "cell_type": "code",
   "execution_count": null,
   "id": "6d0b6ebe-24c0-4046-9657-7187929a5f9a",
   "metadata": {
    "execution": {
     "iopub.execute_input": "2025-05-04T21:42:28.089432Z",
     "iopub.status.busy": "2025-05-04T21:42:28.088655Z",
     "iopub.status.idle": "2025-05-04T21:42:28.093356Z",
     "shell.execute_reply": "2025-05-04T21:42:28.092991Z",
     "shell.execute_reply.started": "2025-05-04T21:42:28.089403Z"
    }
   },
   "outputs": [],
   "source": [
    "lsstcomcam_targets = {}\n",
    "lsstcomcam_targets[\"47 Tuc\"] = {\"field_name\": \"47 Tuc Globular Cluster\", \"ra\": 6.02, \"dec\": -72.08}\n",
    "lsstcomcam_targets[\"Rubin SV 38 7\"] = {\"field_name\": \"Low Ecliptic Latitude Field\", \"ra\": 37.86, \"dec\": 6.98}\n",
    "lsstcomcam_targets[\"Fornax dSph\"] = {\n",
    "    \"field_name\": \"Fornax Dwarf Spheroidal Galaxy\",\n",
    "    \"ra\": 40.0,\n",
    "    \"dec\": -34.45,\n",
    "}\n",
    "lsstcomcam_targets[\"ECDFS\"] = {\"field_name\": \"Extended Chandra Deep Field South\", \"ra\": 53.13, \"dec\": -28.10}\n",
    "lsstcomcam_targets[\"EDFS\"] = {\"field_name\": \"Euclid Deep Field South\", \"ra\": 59.10, \"dec\": -48.73}\n",
    "lsstcomcam_targets[\"Rubin SV 95 -25\"] = {\n",
    "    \"field_name\": \"Low Galactic Latitude Field\",\n",
    "    \"ra\": 95.00,\n",
    "    \"dec\": -25.0,\n",
    "}\n",
    "lsstcomcam_targets[\"Seagull\"] = {\"field_name\": \"Seagull Nebula\", \"ra\": 106.23, \"dec\": -10.51}"
   ]
  },
  {
   "cell_type": "code",
   "execution_count": null,
   "id": "2fdc2905-3fd5-485e-a66b-56927d3de02f",
   "metadata": {
    "execution": {
     "iopub.execute_input": "2025-05-04T21:42:28.093886Z",
     "iopub.status.busy": "2025-05-04T21:42:28.093756Z",
     "iopub.status.idle": "2025-05-04T21:42:28.108730Z",
     "shell.execute_reply": "2025-05-04T21:42:28.108368Z",
     "shell.execute_reply.started": "2025-05-04T21:42:28.093872Z"
    }
   },
   "outputs": [],
   "source": [
    "# the_target = lsstcomcam_targets[\"Seagull\"]\n",
    "# the_target = lsstcomcam_targets[\"47 Tuc\"] # bad\n",
    "# the_target = lsstcomcam_targets[\"Fornax dSph\"]\n",
    "# the_target = lsstcomcam_targets[\"ECDFS\"]\n",
    "\n",
    "\n",
    "# key = \"Seagull\"\n",
    "# key = \"Fornax dSph\"\n",
    "key = \"ECDFS\"\n",
    "# key = \"EDFS\"\n",
    "# key = \"47 Tuc\"\n",
    "# key = \"Rubin SV 38 7\"\n",
    "# key = \"Rubin SV 95 -25\"\n",
    "\n",
    "keyfield = \"\".join(key.split())\n",
    "\n",
    "the_target = lsstcomcam_targets[key]\n",
    "target_ra = the_target[\"ra\"]\n",
    "target_dec = the_target[\"dec\"]\n",
    "target_title = (\n",
    "    the_target[\"field_name\"] + f\" band  {BANDSEL} \" + f\" (ra,dec) = ({target_ra:.2f},{target_dec:.2f}) \"\n",
    ")\n",
    "target_point = SpherePoint(target_ra, target_dec, degrees)"
   ]
  },
  {
   "cell_type": "markdown",
   "id": "5097cdde-6283-4499-aaaa-57e799bdd53a",
   "metadata": {},
   "source": [
    "## Get list of tracts from the objectTable_tract"
   ]
  },
  {
   "cell_type": "code",
   "execution_count": null,
   "id": "3560cdd4-3d7e-4325-a3f5-07a0d70a8360",
   "metadata": {
    "execution": {
     "iopub.execute_input": "2025-05-04T21:42:28.109266Z",
     "iopub.status.busy": "2025-05-04T21:42:28.109133Z",
     "iopub.status.idle": "2025-05-04T21:42:28.119310Z",
     "shell.execute_reply": "2025-05-04T21:42:28.118947Z",
     "shell.execute_reply.started": "2025-05-04T21:42:28.109252Z"
    }
   },
   "outputs": [],
   "source": [
    "# Find the dimension\n",
    "print(butler.registry.getDatasetType(\"objectTable_tract\").dimensions)"
   ]
  },
  {
   "cell_type": "code",
   "execution_count": null,
   "id": "e07d2107-8c9e-485e-89bc-ec6e52fa10f4",
   "metadata": {
    "execution": {
     "iopub.execute_input": "2025-05-04T21:42:28.119937Z",
     "iopub.status.busy": "2025-05-04T21:42:28.119806Z",
     "iopub.status.idle": "2025-05-04T21:42:28.163702Z",
     "shell.execute_reply": "2025-05-04T21:42:28.163252Z",
     "shell.execute_reply.started": "2025-05-04T21:42:28.119923Z"
    }
   },
   "outputs": [],
   "source": [
    "datasettype = \"objectTable_tract\"\n",
    "therefs = butler.registry.queryDatasets(datasettype, collections=collection_validation)\n",
    "tractsId_list = np.unique([ref.dataId[\"tract\"] for ref in therefs])\n",
    "tractsId_list = sorted(tractsId_list)\n",
    "print(tractsId_list)"
   ]
  },
  {
   "cell_type": "markdown",
   "id": "f060f57d-ac96-4ec7-8a94-f760e118248a",
   "metadata": {},
   "source": [
    "## Find the Tract and Patch of the region of interest\n",
    "\n",
    "- tract in tractNbSel\n",
    "- patch in patchNbSel"
   ]
  },
  {
   "cell_type": "code",
   "execution_count": null,
   "id": "ea99cc96-a0bf-4dec-9418-895e5569688b",
   "metadata": {
    "execution": {
     "iopub.execute_input": "2025-05-04T21:42:28.164370Z",
     "iopub.status.busy": "2025-05-04T21:42:28.164229Z",
     "iopub.status.idle": "2025-05-04T21:42:28.169311Z",
     "shell.execute_reply": "2025-05-04T21:42:28.168940Z",
     "shell.execute_reply.started": "2025-05-04T21:42:28.164355Z"
    }
   },
   "outputs": [],
   "source": [
    "tract_info = skymap.findTract(target_point)\n",
    "patch_info = tract_info.findPatch(target_point)\n",
    "bbox = patch_info.getOuterBBox()\n",
    "\n",
    "print(\"Patch bounding box:\", bbox)\n",
    "\n",
    "print(\"Tract ID :\", tract_info.getId())\n",
    "tractNbSel = tract_info.getId()\n",
    "\n",
    "print(\"Patch Index :\", patch_info.getIndex(), \" , \", patch_info.getSequentialIndex())  # (x, y)\n",
    "print(\"Bounding Box\", bbox)\n",
    "\n",
    "patchNbSel = patch_info.getSequentialIndex()"
   ]
  },
  {
   "cell_type": "code",
   "execution_count": null,
   "id": "e1df364f-89a7-4a94-9541-89a05d75004c",
   "metadata": {
    "execution": {
     "iopub.execute_input": "2025-05-04T21:42:28.170040Z",
     "iopub.status.busy": "2025-05-04T21:42:28.169790Z",
     "iopub.status.idle": "2025-05-04T21:42:28.180383Z",
     "shell.execute_reply": "2025-05-04T21:42:28.180038Z",
     "shell.execute_reply.started": "2025-05-04T21:42:28.170025Z"
    }
   },
   "outputs": [],
   "source": [
    "dataId = {\"band\": BANDSEL, \"tract\": tractNbSel, \"patch\": patchNbSel, \"skymap\": skymapName}"
   ]
  },
  {
   "cell_type": "markdown",
   "id": "131ff71d-cee0-4141-ac33-c8f33758a584",
   "metadata": {},
   "source": [
    "## The Objects\n",
    "\n",
    "- Objects are extracted from object detection on deepcoadds\n",
    "- all bands are included "
   ]
  },
  {
   "cell_type": "code",
   "execution_count": null,
   "id": "da53ac66-c2fc-4b54-a19b-0e6d2def56a9",
   "metadata": {
    "execution": {
     "iopub.execute_input": "2025-05-04T21:42:28.181053Z",
     "iopub.status.busy": "2025-05-04T21:42:28.180915Z",
     "iopub.status.idle": "2025-05-04T21:42:28.191909Z",
     "shell.execute_reply": "2025-05-04T21:42:28.191539Z",
     "shell.execute_reply.started": "2025-05-04T21:42:28.181039Z"
    }
   },
   "outputs": [],
   "source": [
    "print(butler.registry.getDatasetType(\"objectTable\").dimensions)"
   ]
  },
  {
   "cell_type": "code",
   "execution_count": null,
   "id": "3e6b671b-f1c2-48ce-97ea-1eef0fa56cca",
   "metadata": {
    "execution": {
     "iopub.execute_input": "2025-05-04T21:42:28.192492Z",
     "iopub.status.busy": "2025-05-04T21:42:28.192360Z",
     "iopub.status.idle": "2025-05-04T21:42:28.205015Z",
     "shell.execute_reply": "2025-05-04T21:42:28.204571Z",
     "shell.execute_reply.started": "2025-05-04T21:42:28.192479Z"
    }
   },
   "outputs": [],
   "source": [
    "# cannot add a filter on band\n",
    "where_clause_skymap = f\"skymap = '{skymapName}' AND tract = {tractNbSel} AND patch = {patchNbSel}\"\n",
    "print(where_clause)"
   ]
  },
  {
   "cell_type": "code",
   "execution_count": null,
   "id": "064b709e-fd22-453f-a89c-8feeb6a157c7",
   "metadata": {
    "execution": {
     "iopub.execute_input": "2025-05-04T21:42:28.205691Z",
     "iopub.status.busy": "2025-05-04T21:42:28.205545Z",
     "iopub.status.idle": "2025-05-04T21:42:28.554973Z",
     "shell.execute_reply": "2025-05-04T21:42:28.554454Z",
     "shell.execute_reply.started": "2025-05-04T21:42:28.205676Z"
    }
   },
   "outputs": [],
   "source": [
    "dataset_refs = list(\n",
    "    butler.registry.queryDatasets(\"objectTable\", collections=collection_validation, where=where_clause_skymap)\n",
    ")\n",
    "# Récupère un des refs valides\n",
    "Nrefs = len(dataset_refs)\n",
    "print(f\"Number of objectTables : {Nrefs}\")\n",
    "ref = dataset_refs[0]\n",
    "t = butler.get(ref)\n",
    "Nobj = len(t)\n",
    "# del t\n",
    "# gc.collect()\n",
    "print(f\"Total Number of objects {Nobj}\")"
   ]
  },
  {
   "cell_type": "markdown",
   "id": "584463e6-5694-4bfd-a5f3-c0021e8c64bc",
   "metadata": {
    "execution": {
     "iopub.execute_input": "2025-05-01T20:56:43.699655Z",
     "iopub.status.busy": "2025-05-01T20:56:43.699512Z",
     "iopub.status.idle": "2025-05-01T20:56:43.702758Z",
     "shell.execute_reply": "2025-05-01T20:56:43.702457Z",
     "shell.execute_reply.started": "2025-05-01T20:56:43.699640Z"
    }
   },
   "source": [
    "Oui, dans ce type de objectTable, les colonnes comme g_psfFlux, g_kronFlux, g_cModelFlux, etc., sont des flux calibrés (en nJy ou en unité de calibration interne du pipeline). Pour les convertir en magnitudes AB, tu peux utiliser la formule classique :"
   ]
  },
  {
   "cell_type": "code",
   "execution_count": null,
   "id": "069c5c04-af0c-47b3-893d-7c6ccf2c76a1",
   "metadata": {
    "execution": {
     "iopub.execute_input": "2025-05-04T21:42:28.555672Z",
     "iopub.status.busy": "2025-05-04T21:42:28.555532Z",
     "iopub.status.idle": "2025-05-04T21:42:28.558168Z",
     "shell.execute_reply": "2025-05-04T21:42:28.557816Z",
     "shell.execute_reply.started": "2025-05-04T21:42:28.555658Z"
    }
   },
   "outputs": [],
   "source": [
    "# Utilise ref.datasetType.name pour lister les colonnes disponibles\n",
    "if FLAG_DUMP_OBJECTSTABLECOLUMNS:\n",
    "    t_columns = list(butler.get(ref).columns)\n",
    "    print(t_columns)"
   ]
  },
  {
   "cell_type": "code",
   "execution_count": null,
   "id": "7c6648f9-6053-4343-aab6-56cb9648c599",
   "metadata": {
    "execution": {
     "iopub.execute_input": "2025-05-04T21:42:28.558727Z",
     "iopub.status.busy": "2025-05-04T21:42:28.558597Z",
     "iopub.status.idle": "2025-05-04T21:42:28.570018Z",
     "shell.execute_reply": "2025-05-04T21:42:28.569535Z",
     "shell.execute_reply.started": "2025-05-04T21:42:28.558714Z"
    }
   },
   "outputs": [],
   "source": [
    "# La constante 31.4 correspond à la conversion AB standard pour un flux exprimé en nanoJanskys (nJy).\n",
    "# À vérifier selon l’unité exacte utilisée par le pipeline sur ton RSP\n",
    "# (souvent c’est bien nJy, mais ça peut être autre chose si la calibration a été changée).\n",
    "# mag = -2.5 * np.log10(flux) + 31.4"
   ]
  },
  {
   "cell_type": "markdown",
   "id": "b8b79b04-f91f-409c-b914-b9ec41347c6a",
   "metadata": {},
   "source": [
    "## Visits\n",
    "\n",
    "- Visits allows to make a link between a visit id and an observation time, the (ra,dec) of the telescope, the observation time and observation conditions such airmass, exposure time.\n",
    "- This allow us to make a selection of visits for which we can select the sources in the Tract-Patch selected"
   ]
  },
  {
   "cell_type": "code",
   "execution_count": null,
   "id": "6b5410a4-5e85-401f-938d-abfc1c1c9669",
   "metadata": {
    "execution": {
     "iopub.execute_input": "2025-05-04T21:42:28.570609Z",
     "iopub.status.busy": "2025-05-04T21:42:28.570481Z",
     "iopub.status.idle": "2025-05-04T21:42:28.580921Z",
     "shell.execute_reply": "2025-05-04T21:42:28.580383Z",
     "shell.execute_reply.started": "2025-05-04T21:42:28.570596Z"
    }
   },
   "outputs": [],
   "source": [
    "datasettype = \"visitTable\""
   ]
  },
  {
   "cell_type": "code",
   "execution_count": null,
   "id": "0a544046-a5d3-477a-a3ec-648b6e0d0599",
   "metadata": {
    "execution": {
     "iopub.execute_input": "2025-05-04T21:42:28.581339Z",
     "iopub.status.busy": "2025-05-04T21:42:28.581220Z",
     "iopub.status.idle": "2025-05-04T21:42:28.591910Z",
     "shell.execute_reply": "2025-05-04T21:42:28.591505Z",
     "shell.execute_reply.started": "2025-05-04T21:42:28.581326Z"
    }
   },
   "outputs": [],
   "source": [
    "print(butler.registry.getDatasetType(datasettype).dimensions)\n",
    "print(where_clause_instrument)"
   ]
  },
  {
   "cell_type": "code",
   "execution_count": null,
   "id": "5620c35c-e25d-4dc8-bf07-e9c60f9421df",
   "metadata": {
    "execution": {
     "iopub.execute_input": "2025-05-04T21:42:28.592500Z",
     "iopub.status.busy": "2025-05-04T21:42:28.592374Z",
     "iopub.status.idle": "2025-05-04T21:42:28.690066Z",
     "shell.execute_reply": "2025-05-04T21:42:28.689550Z",
     "shell.execute_reply.started": "2025-05-04T21:42:28.592488Z"
    }
   },
   "outputs": [],
   "source": [
    "dataset_refs = list(\n",
    "    butler.registry.queryDatasets(\n",
    "        datasettype, collections=collection_validation, where=where_clause_instrument\n",
    "    )\n",
    ")\n",
    "# Récupère un des refs valides\n",
    "Nrefs = len(dataset_refs)\n",
    "print(f\"Number of visitTables : {Nrefs}\")\n",
    "ref = dataset_refs[0]\n",
    "t = butler.get(ref)\n",
    "Nvis = len(t)\n",
    "# del t\n",
    "# gc.collect()\n",
    "print(f\"Total Number of visits {Nvis}\")"
   ]
  },
  {
   "cell_type": "code",
   "execution_count": null,
   "id": "0b56d815-654a-42fd-9407-0f204bdd42e2",
   "metadata": {
    "execution": {
     "iopub.execute_input": "2025-05-04T21:42:28.690761Z",
     "iopub.status.busy": "2025-05-04T21:42:28.690614Z",
     "iopub.status.idle": "2025-05-04T21:42:28.749114Z",
     "shell.execute_reply": "2025-05-04T21:42:28.748621Z",
     "shell.execute_reply.started": "2025-05-04T21:42:28.690739Z"
    }
   },
   "outputs": [],
   "source": [
    "if FLAG_DUMP_VISITTABLEECOLUMNS:\n",
    "    t_columns = list(butler.get(ref).columns)\n",
    "    print(t_columns)"
   ]
  },
  {
   "cell_type": "code",
   "execution_count": null,
   "id": "639a0e0a-8227-4ed4-8083-145d244f2127",
   "metadata": {
    "execution": {
     "iopub.execute_input": "2025-05-04T21:42:28.749826Z",
     "iopub.status.busy": "2025-05-04T21:42:28.749679Z",
     "iopub.status.idle": "2025-05-04T21:42:28.752172Z",
     "shell.execute_reply": "2025-05-04T21:42:28.751821Z",
     "shell.execute_reply.started": "2025-05-04T21:42:28.749812Z"
    }
   },
   "outputs": [],
   "source": [
    "df_visits = t"
   ]
  },
  {
   "cell_type": "code",
   "execution_count": null,
   "id": "7b36869a-4425-42a0-8536-0b8634813262",
   "metadata": {
    "execution": {
     "iopub.execute_input": "2025-05-04T21:42:28.752960Z",
     "iopub.status.busy": "2025-05-04T21:42:28.752610Z",
     "iopub.status.idle": "2025-05-04T21:42:28.796165Z",
     "shell.execute_reply": "2025-05-04T21:42:28.795767Z",
     "shell.execute_reply.started": "2025-05-04T21:42:28.752947Z"
    }
   },
   "outputs": [],
   "source": [
    "df_visits.head()"
   ]
  },
  {
   "cell_type": "code",
   "execution_count": null,
   "id": "e8067d79-51f0-48a8-91a4-f6bb328fc694",
   "metadata": {
    "execution": {
     "iopub.execute_input": "2025-05-04T21:42:28.796791Z",
     "iopub.status.busy": "2025-05-04T21:42:28.796656Z",
     "iopub.status.idle": "2025-05-04T21:42:28.809384Z",
     "shell.execute_reply": "2025-05-04T21:42:28.808992Z",
     "shell.execute_reply.started": "2025-05-04T21:42:28.796777Z"
    }
   },
   "outputs": [],
   "source": [
    "if FLAG_COMPUTE_VISITSTRACTSPATCHS:\n",
    "    # Takes Very long time to compute.\n",
    "    # It is better to filter out visits that does not belong to the selected tract patch as shown below\n",
    "    df_visits_tractspatches = assign_tract_patch(df_visits, skymap)"
   ]
  },
  {
   "cell_type": "markdown",
   "id": "d42d2e70-d372-47a9-aef7-93a3a37d9114",
   "metadata": {},
   "source": [
    "### select visits in selected Tract and Patch \n",
    "\n",
    "- just need visits ra and dec coordinates to filter those visits in the tract-patch."
   ]
  },
  {
   "cell_type": "code",
   "execution_count": null,
   "id": "f331b267-6f82-4d7e-9101-a21143263254",
   "metadata": {
    "execution": {
     "iopub.execute_input": "2025-05-04T21:42:28.812427Z",
     "iopub.status.busy": "2025-05-04T21:42:28.812218Z",
     "iopub.status.idle": "2025-05-04T21:42:28.886510Z",
     "shell.execute_reply": "2025-05-04T21:42:28.886044Z",
     "shell.execute_reply.started": "2025-05-04T21:42:28.812414Z"
    }
   },
   "outputs": [],
   "source": [
    "df_visits_in_patch = select_visits_in_patch(df_visits, tract_info, patch_info)"
   ]
  },
  {
   "cell_type": "code",
   "execution_count": null,
   "id": "ca6a5890-948b-4966-bae1-f9ec6cf946cb",
   "metadata": {
    "execution": {
     "iopub.execute_input": "2025-05-04T21:42:28.887161Z",
     "iopub.status.busy": "2025-05-04T21:42:28.887023Z",
     "iopub.status.idle": "2025-05-04T21:42:28.898781Z",
     "shell.execute_reply": "2025-05-04T21:42:28.898419Z",
     "shell.execute_reply.started": "2025-05-04T21:42:28.887148Z"
    }
   },
   "outputs": [],
   "source": [
    "df_visits_in_patch"
   ]
  },
  {
   "cell_type": "markdown",
   "id": "28e597fa-9f45-45f8-8ddd-b62354513fc2",
   "metadata": {},
   "source": [
    "### Keep the list in memory"
   ]
  },
  {
   "cell_type": "code",
   "execution_count": null,
   "id": "45feda65-3aec-4ee8-ad10-7de3f1b5d068",
   "metadata": {
    "execution": {
     "iopub.execute_input": "2025-05-04T21:42:28.899328Z",
     "iopub.status.busy": "2025-05-04T21:42:28.899198Z",
     "iopub.status.idle": "2025-05-04T21:42:28.905731Z",
     "shell.execute_reply": "2025-05-04T21:42:28.905390Z",
     "shell.execute_reply.started": "2025-05-04T21:42:28.899314Z"
    }
   },
   "outputs": [],
   "source": [
    "visitLists_sel = df_visits_in_patch.visitId.values"
   ]
  },
  {
   "cell_type": "code",
   "execution_count": null,
   "id": "77f95a7b-51d9-4d12-9880-b5ad5715a942",
   "metadata": {
    "execution": {
     "iopub.execute_input": "2025-05-04T21:42:28.906222Z",
     "iopub.status.busy": "2025-05-04T21:42:28.906092Z",
     "iopub.status.idle": "2025-05-04T21:42:28.920036Z",
     "shell.execute_reply": "2025-05-04T21:42:28.919674Z",
     "shell.execute_reply.started": "2025-05-04T21:42:28.906208Z"
    }
   },
   "outputs": [],
   "source": [
    "print(f\"Number of selected visits in  \")"
   ]
  },
  {
   "cell_type": "markdown",
   "id": "6ea80a44-0d61-4894-bffd-e100513dcabf",
   "metadata": {},
   "source": [
    "## Get the selected sources"
   ]
  },
  {
   "cell_type": "code",
   "execution_count": null,
   "id": "2b14d237-5517-4d88-83fb-7b74b4533365",
   "metadata": {
    "execution": {
     "iopub.execute_input": "2025-05-04T21:42:28.920719Z",
     "iopub.status.busy": "2025-05-04T21:42:28.920455Z",
     "iopub.status.idle": "2025-05-04T21:42:28.931883Z",
     "shell.execute_reply": "2025-05-04T21:42:28.931531Z",
     "shell.execute_reply.started": "2025-05-04T21:42:28.920696Z"
    }
   },
   "outputs": [],
   "source": [
    "datasettype = \"sourceTable_visit\""
   ]
  },
  {
   "cell_type": "code",
   "execution_count": null,
   "id": "29483b2c-bef9-4285-8e5e-b743517b987e",
   "metadata": {
    "execution": {
     "iopub.execute_input": "2025-05-04T21:42:28.932513Z",
     "iopub.status.busy": "2025-05-04T21:42:28.932382Z",
     "iopub.status.idle": "2025-05-04T21:42:28.956078Z",
     "shell.execute_reply": "2025-05-04T21:42:28.955357Z",
     "shell.execute_reply.started": "2025-05-04T21:42:28.932500Z"
    }
   },
   "outputs": [],
   "source": [
    "Nvis_sel = len(visitLists_sel)\n",
    "print(f\"Number of visits {Nvis_sel} in tract {tractNbSel} and patch {patchNbSel}\")\n",
    "print(visitLists_sel)"
   ]
  },
  {
   "cell_type": "code",
   "execution_count": null,
   "id": "68056b5e-e7b1-4f78-9a37-621901383469",
   "metadata": {
    "execution": {
     "iopub.execute_input": "2025-05-04T21:42:28.956913Z",
     "iopub.status.busy": "2025-05-04T21:42:28.956720Z",
     "iopub.status.idle": "2025-05-04T21:42:28.974234Z",
     "shell.execute_reply": "2025-05-04T21:42:28.973834Z",
     "shell.execute_reply.started": "2025-05-04T21:42:28.956898Z"
    }
   },
   "outputs": [],
   "source": [
    "visit_sel = visitLists_sel[0]\n",
    "butler.registry.expandDataId(instrument=instrument, visit=visit_sel)"
   ]
  },
  {
   "cell_type": "code",
   "execution_count": null,
   "id": "34760f0d-6859-482a-b940-212aac828d24",
   "metadata": {
    "execution": {
     "iopub.execute_input": "2025-05-04T21:42:28.974876Z",
     "iopub.status.busy": "2025-05-04T21:42:28.974727Z",
     "iopub.status.idle": "2025-05-04T21:42:28.980585Z",
     "shell.execute_reply": "2025-05-04T21:42:28.980198Z",
     "shell.execute_reply.started": "2025-05-04T21:42:28.974860Z"
    }
   },
   "outputs": [],
   "source": [
    "def load_sourceTables_for_visits(butler, datasettype, instrument, visit_ids):\n",
    "    dfs = []\n",
    "    for visit in visit_ids:\n",
    "        refs = list(\n",
    "            butler.registry.queryDatasets(\n",
    "                datasetType=datasettype, dataId={\"instrument\": instrument, \"visit\": visit}, findFirst=True\n",
    "            )\n",
    "        )\n",
    "        if refs:\n",
    "            df = butler.get(refs[0])\n",
    "            df[\"visit\"] = visit\n",
    "            dfs.append(df)\n",
    "    if dfs:\n",
    "        return pd.concat(dfs, ignore_index=True)\n",
    "    else:\n",
    "        return pd.DataFrame()"
   ]
  },
  {
   "cell_type": "code",
   "execution_count": null,
   "id": "21cdca00-271b-4c69-8253-a9d3cc05d4dd",
   "metadata": {
    "execution": {
     "iopub.execute_input": "2025-05-04T21:42:28.981209Z",
     "iopub.status.busy": "2025-05-04T21:42:28.981070Z",
     "iopub.status.idle": "2025-05-04T21:42:28.993294Z",
     "shell.execute_reply": "2025-05-04T21:42:28.992924Z",
     "shell.execute_reply.started": "2025-05-04T21:42:28.981193Z"
    }
   },
   "outputs": [],
   "source": [
    "# dt = butler.registry.getDatasetType(\"src\")\n",
    "# print(dt.dimensions)"
   ]
  },
  {
   "cell_type": "code",
   "execution_count": null,
   "id": "d73fbbfd-133b-458d-a0df-bf6e64b0d5eb",
   "metadata": {
    "execution": {
     "iopub.execute_input": "2025-05-04T21:42:28.993887Z",
     "iopub.status.busy": "2025-05-04T21:42:28.993742Z",
     "iopub.status.idle": "2025-05-04T21:42:29.002525Z",
     "shell.execute_reply": "2025-05-04T21:42:29.002162Z",
     "shell.execute_reply.started": "2025-05-04T21:42:28.993871Z"
    }
   },
   "outputs": [],
   "source": [
    "# crash\n",
    "# print(f\"Fetch the {datasettype} for each visit in the list\")\n",
    "# df_all_sources = load_sourceTables_for_visits(butler, datasettype,instrument, visitLists_sel)"
   ]
  },
  {
   "cell_type": "code",
   "execution_count": null,
   "id": "0810b0cf-626c-4b9c-85b8-1569666a5b62",
   "metadata": {
    "execution": {
     "iopub.execute_input": "2025-05-04T21:42:29.003089Z",
     "iopub.status.busy": "2025-05-04T21:42:29.002953Z",
     "iopub.status.idle": "2025-05-04T21:42:29.008637Z",
     "shell.execute_reply": "2025-05-04T21:42:29.008283Z",
     "shell.execute_reply.started": "2025-05-04T21:42:29.003075Z"
    }
   },
   "outputs": [],
   "source": [
    "# df_all_sources"
   ]
  },
  {
   "cell_type": "code",
   "execution_count": null,
   "id": "dba69620-aa12-4a2a-a53c-85dea8f2858e",
   "metadata": {
    "execution": {
     "iopub.execute_input": "2025-05-04T21:42:29.009358Z",
     "iopub.status.busy": "2025-05-04T21:42:29.009094Z",
     "iopub.status.idle": "2025-05-04T21:42:29.022375Z",
     "shell.execute_reply": "2025-05-04T21:42:29.021982Z",
     "shell.execute_reply.started": "2025-05-04T21:42:29.009342Z"
    }
   },
   "outputs": [],
   "source": [
    "def save_sources_for_visit(butler, datasettype, visit, instrument, output_dir):\n",
    "    all_sources = []\n",
    "\n",
    "    try:\n",
    "        refs = list(\n",
    "            butler.registry.queryDatasets(\n",
    "                datasetType=datasettype, dataId={\"instrument\": instrument, \"visit\": visit}, findFirst=True\n",
    "            )\n",
    "        )\n",
    "        if refs:\n",
    "            df = butler.get(refs[0])\n",
    "            df[\"visit\"] = visit\n",
    "\n",
    "        all_sources.append(df)\n",
    "\n",
    "    except Exception as inst:\n",
    "        print(type(inst))  # the exception type\n",
    "        print(inst.args)  # arguments stored in .args\n",
    "        return\n",
    "\n",
    "    if all_sources:\n",
    "        # Fusionner toutes les sources\n",
    "        sources_df = pd.concat(all_sources, ignore_index=True)\n",
    "\n",
    "        # clean columns with Nans\n",
    "        sources_df.dropna(axis=1, how=\"all\", inplace=True)\n",
    "        # keep primary source\n",
    "        sources_df = sources_df[sources_df.parentSourceId == 0]\n",
    "\n",
    "        # cut band sources in low SNR\n",
    "        sources_df[\"calibSNR\"] = sources_df[\"calibFlux\"] / sources_df[\"calibFluxErr\"]\n",
    "        sources_df = sources_df[sources_df[\"calibSNR\"] >= 5]\n",
    "\n",
    "        # compute Magnitude\n",
    "        sources_df[\"calibMag\"] = nJy_to_ab_mag(sources_df[\"calibFlux\"])\n",
    "        sources_df[\"calibMagErr\"] = nJy_err_to_ab_err(sources_df[\"calibFlux\"], sources_df[\"calibFluxErr\"])\n",
    "\n",
    "        # drop rows-sources with zero mag\n",
    "        sources_df = sources_df[sources_df[\"calibMag\"] != 0].dropna(subset=[\"calibMag\"])\n",
    "\n",
    "        # Sauvegarder dans un fichier Parquet\n",
    "        file_path = f\"{output_dir}/src_visit_{visit}.parquet\"\n",
    "        sources_df.to_parquet(file_path, index=False)\n",
    "        print(f\"Sources for visit {visit} saved to {file_path}\")\n",
    "        return file_path\n",
    "    else:\n",
    "        print(f\"No sources found for visit {visit}\")"
   ]
  },
  {
   "cell_type": "markdown",
   "id": "921525fa-7940-4264-9c06-362c324a3940",
   "metadata": {},
   "source": [
    "### Manage output sources in parquet file"
   ]
  },
  {
   "cell_type": "code",
   "execution_count": null,
   "id": "10e9f7d8-a675-491b-a2d5-fb4fdce92bd9",
   "metadata": {
    "execution": {
     "iopub.execute_input": "2025-05-04T21:42:29.023004Z",
     "iopub.status.busy": "2025-05-04T21:42:29.022866Z",
     "iopub.status.idle": "2025-05-04T21:42:29.033184Z",
     "shell.execute_reply": "2025-05-04T21:42:29.032824Z",
     "shell.execute_reply.started": "2025-05-04T21:42:29.022990Z"
    }
   },
   "outputs": [],
   "source": [
    "outputdir_sources = f\"output_{instrument}_field{keyfield}_t{tractNbSel}_p{patchNbSel}_{datasettype}\"\n",
    "os.makedirs(outputdir_sources, exist_ok=True)"
   ]
  },
  {
   "cell_type": "code",
   "execution_count": null,
   "id": "9d47ef22-11ad-4b16-b2ea-c5bb50de6a62",
   "metadata": {
    "execution": {
     "iopub.execute_input": "2025-05-04T21:42:29.033715Z",
     "iopub.status.busy": "2025-05-04T21:42:29.033585Z",
     "iopub.status.idle": "2025-05-04T21:43:11.864081Z",
     "shell.execute_reply": "2025-05-04T21:43:11.863545Z",
     "shell.execute_reply.started": "2025-05-04T21:42:29.033701Z"
    }
   },
   "outputs": [],
   "source": [
    "all_outputfiles = []\n",
    "for visit in visitLists_sel:\n",
    "    outputfile = save_sources_for_visit(butler, datasettype, visit, instrument, outputdir_sources)\n",
    "    all_outputfiles.append(outputfile)"
   ]
  },
  {
   "cell_type": "code",
   "execution_count": null,
   "id": "18c756f3-add1-414d-a4e3-87c14291d07a",
   "metadata": {
    "execution": {
     "iopub.execute_input": "2025-05-04T21:43:11.864803Z",
     "iopub.status.busy": "2025-05-04T21:43:11.864650Z",
     "iopub.status.idle": "2025-05-04T21:43:11.895955Z",
     "shell.execute_reply": "2025-05-04T21:43:11.895496Z",
     "shell.execute_reply.started": "2025-05-04T21:43:11.864787Z"
    }
   },
   "outputs": [],
   "source": [
    "outputfile = all_outputfiles[0]\n",
    "df = pd.read_parquet(outputfile)"
   ]
  },
  {
   "cell_type": "code",
   "execution_count": null,
   "id": "3cfa0404-3fc1-470c-9830-b6076f6c5dbb",
   "metadata": {
    "execution": {
     "iopub.execute_input": "2025-05-04T21:43:11.896628Z",
     "iopub.status.busy": "2025-05-04T21:43:11.896489Z",
     "iopub.status.idle": "2025-05-04T21:43:11.899159Z",
     "shell.execute_reply": "2025-05-04T21:43:11.898774Z",
     "shell.execute_reply.started": "2025-05-04T21:43:11.896615Z"
    }
   },
   "outputs": [],
   "source": [
    "print(list(df.columns))"
   ]
  },
  {
   "cell_type": "code",
   "execution_count": null,
   "id": "cefdded6-2f61-4870-826a-3218873d259d",
   "metadata": {},
   "outputs": [],
   "source": []
  }
 ],
 "metadata": {
  "kernelspec": {
   "display_name": "LSST",
   "language": "python",
   "name": "lsst"
  },
  "language_info": {
   "codemirror_mode": {
    "name": "ipython",
    "version": 3
   },
   "file_extension": ".py",
   "mimetype": "text/x-python",
   "name": "python",
   "nbconvert_exporter": "python",
   "pygments_lexer": "ipython3",
   "version": "3.12.9"
  }
 },
 "nbformat": 4,
 "nbformat_minor": 5
}
