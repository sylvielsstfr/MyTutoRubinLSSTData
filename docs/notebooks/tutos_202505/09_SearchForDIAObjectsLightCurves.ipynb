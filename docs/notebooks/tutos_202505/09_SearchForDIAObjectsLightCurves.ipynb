{
 "cells": [
  {
   "cell_type": "markdown",
   "id": "adda26b1-7594-48da-94d2-6722bd71353c",
   "metadata": {},
   "source": [
    "## Tuto to find The DIA sources and DIA Objects in LSSTComCam"
   ]
  },
  {
   "cell_type": "markdown",
   "id": "1f276e2d-e5e1-4b30-bf3c-4ea950073fad",
   "metadata": {
    "execution": {
     "iopub.execute_input": "2025-04-29T08:48:57.989253Z",
     "iopub.status.busy": "2025-04-29T08:48:57.988923Z",
     "iopub.status.idle": "2025-04-29T08:48:57.993268Z",
     "shell.execute_reply": "2025-04-29T08:48:57.992764Z",
     "shell.execute_reply.started": "2025-04-29T08:48:57.989226Z"
    }
   },
   "source": [
    "- author : Sylvie Dagoret-Campagne\n",
    "- affiliation : IJCLab/IN2P3/CNRS\n",
    "- member : DESC, rubin-inkind\n",
    "- creation date : 2025-05-02\n",
    "- last update : 2025-05-02"
   ]
  },
  {
   "cell_type": "markdown",
   "id": "81c11161-2bd4-4317-812a-f246f3f70d81",
   "metadata": {},
   "source": [
    "# Note on work done on LSSTComCam Commissioning : https://sitcomtn-149.lsst.io/\n",
    "# Note Data Product definition Document : https://lse-163.lsst.io/"
   ]
  },
  {
   "cell_type": "code",
   "execution_count": null,
   "id": "72f36e25-589c-4a8c-865f-8b51f5f35270",
   "metadata": {
    "execution": {
     "iopub.execute_input": "2025-05-02T18:57:41.702877Z",
     "iopub.status.busy": "2025-05-02T18:57:41.702756Z",
     "iopub.status.idle": "2025-05-02T18:57:42.758011Z",
     "shell.execute_reply": "2025-05-02T18:57:42.757532Z",
     "shell.execute_reply.started": "2025-05-02T18:57:41.702863Z"
    }
   },
   "outputs": [],
   "source": [
    "import sys\n",
    "import matplotlib.pyplot as plt\n",
    "import lsst.afw.display as afwDisplay\n",
    "import numpy as np\n",
    "import pandas as pd\n",
    "from astropy.time import Time\n",
    "# %matplotlib widget"
   ]
  },
  {
   "cell_type": "code",
   "execution_count": null,
   "id": "dc81ee07-7bfe-45c3-a8ea-72cc80b7abc7",
   "metadata": {
    "execution": {
     "iopub.execute_input": "2025-05-02T18:57:42.760167Z",
     "iopub.status.busy": "2025-05-02T18:57:42.760030Z",
     "iopub.status.idle": "2025-05-02T18:57:42.817797Z",
     "shell.execute_reply": "2025-05-02T18:57:42.817290Z",
     "shell.execute_reply.started": "2025-05-02T18:57:42.760152Z"
    }
   },
   "outputs": [],
   "source": [
    "afwDisplay.setDefaultBackend(\"firefly\")"
   ]
  },
  {
   "cell_type": "code",
   "execution_count": null,
   "id": "42897fba-1ca4-4f20-837d-bd7478ac4548",
   "metadata": {
    "execution": {
     "iopub.execute_input": "2025-05-02T18:57:42.819818Z",
     "iopub.status.busy": "2025-05-02T18:57:42.819682Z",
     "iopub.status.idle": "2025-05-02T18:57:42.844059Z",
     "shell.execute_reply": "2025-05-02T18:57:42.843675Z",
     "shell.execute_reply.started": "2025-05-02T18:57:42.819804Z"
    }
   },
   "outputs": [],
   "source": [
    "import lsst.geom as geom\n",
    "from lsst.geom import SpherePoint, Point2D, Point2I, degrees\n",
    "from lsst.skymap import PatchInfo, Index2D"
   ]
  },
  {
   "cell_type": "code",
   "execution_count": null,
   "id": "f2580923-bf82-4204-a50d-c64eb56b9f06",
   "metadata": {
    "execution": {
     "iopub.execute_input": "2025-05-02T18:57:42.845817Z",
     "iopub.status.busy": "2025-05-02T18:57:42.845683Z",
     "iopub.status.idle": "2025-05-02T18:57:42.848206Z",
     "shell.execute_reply": "2025-05-02T18:57:42.847814Z",
     "shell.execute_reply.started": "2025-05-02T18:57:42.845804Z"
    }
   },
   "outputs": [],
   "source": [
    "plt.rcParams[\"figure.figsize\"] = (10, 6)\n",
    "plt.rcParams[\"axes.labelsize\"] = \"x-large\"\n",
    "plt.rcParams[\"axes.titlesize\"] = \"x-large\"\n",
    "plt.rcParams[\"xtick.labelsize\"] = \"x-large\"\n",
    "plt.rcParams[\"ytick.labelsize\"] = \"x-large\""
   ]
  },
  {
   "cell_type": "code",
   "execution_count": null,
   "id": "d47f09df-7496-431c-b4ae-4fb75a3c6ef9",
   "metadata": {
    "execution": {
     "iopub.execute_input": "2025-05-02T18:57:42.848784Z",
     "iopub.status.busy": "2025-05-02T18:57:42.848648Z",
     "iopub.status.idle": "2025-05-02T18:57:42.858049Z",
     "shell.execute_reply": "2025-05-02T18:57:42.857673Z",
     "shell.execute_reply.started": "2025-05-02T18:57:42.848771Z"
    }
   },
   "outputs": [],
   "source": [
    "import gc"
   ]
  },
  {
   "cell_type": "code",
   "execution_count": null,
   "id": "1a1a267b-58c7-468a-a336-2c8def253a79",
   "metadata": {
    "execution": {
     "iopub.execute_input": "2025-05-02T18:57:42.858710Z",
     "iopub.status.busy": "2025-05-02T18:57:42.858569Z",
     "iopub.status.idle": "2025-05-02T18:57:42.870228Z",
     "shell.execute_reply": "2025-05-02T18:57:42.869864Z",
     "shell.execute_reply.started": "2025-05-02T18:57:42.858687Z"
    }
   },
   "outputs": [],
   "source": [
    "import traceback"
   ]
  },
  {
   "cell_type": "code",
   "execution_count": null,
   "id": "ede21bda-146f-4c77-aa40-edf2debfbfc0",
   "metadata": {
    "execution": {
     "iopub.execute_input": "2025-05-02T18:57:42.870775Z",
     "iopub.status.busy": "2025-05-02T18:57:42.870642Z",
     "iopub.status.idle": "2025-05-02T18:57:43.812786Z",
     "shell.execute_reply": "2025-05-02T18:57:43.812265Z",
     "shell.execute_reply.started": "2025-05-02T18:57:42.870763Z"
    }
   },
   "outputs": [],
   "source": [
    "# Define butler\n",
    "from lsst.daf.butler import Butler"
   ]
  },
  {
   "cell_type": "code",
   "execution_count": null,
   "id": "c7ab7fe3-285d-48c2-973a-2dde9d0a7faa",
   "metadata": {
    "execution": {
     "iopub.execute_input": "2025-05-02T18:57:43.813505Z",
     "iopub.status.busy": "2025-05-02T18:57:43.813365Z",
     "iopub.status.idle": "2025-05-02T18:57:44.509823Z",
     "shell.execute_reply": "2025-05-02T18:57:44.509227Z",
     "shell.execute_reply.started": "2025-05-02T18:57:43.813491Z"
    }
   },
   "outputs": [],
   "source": [
    "!eups list lsst_distrib"
   ]
  },
  {
   "cell_type": "code",
   "execution_count": null,
   "id": "94c38b62-90f8-4894-94f9-203dd4e03193",
   "metadata": {
    "execution": {
     "iopub.execute_input": "2025-05-02T18:57:44.510678Z",
     "iopub.status.busy": "2025-05-02T18:57:44.510524Z",
     "iopub.status.idle": "2025-05-02T18:57:44.513934Z",
     "shell.execute_reply": "2025-05-02T18:57:44.513546Z",
     "shell.execute_reply.started": "2025-05-02T18:57:44.510661Z"
    }
   },
   "outputs": [],
   "source": [
    "def nJy_to_ab_mag(f_njy):\n",
    "    \"\"\"Convert flux in nanojanskys to AB magnitude.\"\"\"\n",
    "    if f_njy > 0:\n",
    "        return -2.5 * np.log10(f_njy) + 31.4\n",
    "    else:\n",
    "        return 0.0\n",
    "\n",
    "\n",
    "def ab_mag_to_nJy(mag_ab):\n",
    "    \"\"\"Convert AB magnitude to flux in nanojanskys.\"\"\"\n",
    "    return 10 ** ((31.4 - mag_ab) / 2.5)"
   ]
  },
  {
   "cell_type": "markdown",
   "id": "7e369002-01db-40e2-a7b7-036072114e6a",
   "metadata": {},
   "source": [
    "## RubinTV, Campaigns , quicklook\n",
    "- RubinTV : https://usdf-rsp.slac.stanford.edu/rubintv/summit-usdf/lsstcam\n",
    "- https://rubinobs.atlassian.net/wiki/spaces/LSSTCOM/pages/467370016/LSSTCam+Commissioning+Planning\n",
    "- LSSTCam DM campaign : https://rubinobs.atlassian.net/wiki/spaces/DM/pages/48834013/Campaigns#1.1.2.-LSSTCam-Nightly-Validation-Pipeline\n",
    "- Check campaign also here  https://rubinobs.atlassian.net/wiki/pages/diffpagesbyversion.action?pageId=48834013&selectedPageVersions=145%2C143\n",
    "- fov-quicklook : https://usdf-rsp-dev.slac.stanford.edu/fov-quicklook/"
   ]
  },
  {
   "cell_type": "markdown",
   "id": "4ce495c8-71a6-4846-86fc-5715e13348ab",
   "metadata": {},
   "source": [
    "## Configuration"
   ]
  },
  {
   "cell_type": "code",
   "execution_count": null,
   "id": "91e7b166-6245-4e54-8cb1-21f34fbba78f",
   "metadata": {
    "execution": {
     "iopub.execute_input": "2025-05-02T18:57:44.514498Z",
     "iopub.status.busy": "2025-05-02T18:57:44.514372Z",
     "iopub.status.idle": "2025-05-02T18:57:44.524494Z",
     "shell.execute_reply": "2025-05-02T18:57:44.524061Z",
     "shell.execute_reply.started": "2025-05-02T18:57:44.514486Z"
    }
   },
   "outputs": [],
   "source": [
    "FLAG_DUMP_COLLECTIONS = False\n",
    "FLAG_DUMP_DATASETS = False\n",
    "FLAG_DUMP_OBJECTSTABLECOLUMNS = True\n",
    "FLAG_CUT_OBJECTSMAG = True"
   ]
  },
  {
   "cell_type": "code",
   "execution_count": null,
   "id": "afa18100-1d14-4201-9ed9-efa38a047ed8",
   "metadata": {
    "execution": {
     "iopub.execute_input": "2025-05-02T18:57:44.525135Z",
     "iopub.status.busy": "2025-05-02T18:57:44.524999Z",
     "iopub.status.idle": "2025-05-02T18:57:44.534379Z",
     "shell.execute_reply": "2025-05-02T18:57:44.533990Z",
     "shell.execute_reply.started": "2025-05-02T18:57:44.525123Z"
    }
   },
   "outputs": [],
   "source": [
    "MAGCUT = 24.0\n",
    "NDIACUT = 100"
   ]
  },
  {
   "cell_type": "code",
   "execution_count": null,
   "id": "566b4b6f-68ac-472f-9a14-9645d06d291a",
   "metadata": {
    "execution": {
     "iopub.execute_input": "2025-05-02T18:57:44.534962Z",
     "iopub.status.busy": "2025-05-02T18:57:44.534831Z",
     "iopub.status.idle": "2025-05-02T18:57:44.544070Z",
     "shell.execute_reply": "2025-05-02T18:57:44.543717Z",
     "shell.execute_reply.started": "2025-05-02T18:57:44.534949Z"
    }
   },
   "outputs": [],
   "source": [
    "all_bands = [\"u\", \"g\", \"r\", \"i\", \"z\", \"y\"]\n",
    "band_to_col = dict(u=\"b\", g=\"g\", r=\"r\", i=\"orange\", z=\"grey\", y=\"k\")\n",
    "all_bands_colors = [\"blue\", \"green\", \"red\", \"orange\", \"yellow\", \"purple\"]"
   ]
  },
  {
   "cell_type": "markdown",
   "id": "29bdd60b-f237-4a90-8aee-95f83091a5c8",
   "metadata": {},
   "source": [
    "### Choose instrument"
   ]
  },
  {
   "cell_type": "code",
   "execution_count": null,
   "id": "66ff700b-a6ab-4b6d-ab28-dfadf54fdd9f",
   "metadata": {
    "execution": {
     "iopub.execute_input": "2025-05-02T18:57:44.544610Z",
     "iopub.status.busy": "2025-05-02T18:57:44.544486Z",
     "iopub.status.idle": "2025-05-02T18:57:44.551984Z",
     "shell.execute_reply": "2025-05-02T18:57:44.551618Z",
     "shell.execute_reply.started": "2025-05-02T18:57:44.544599Z"
    }
   },
   "outputs": [],
   "source": [
    "# instrument = \"LSSTCam\"\n",
    "\n",
    "# We focus here on sky fields oberved by LSSTComCam, so we select this camera\n",
    "instrument = \"LSSTComCam\""
   ]
  },
  {
   "cell_type": "markdown",
   "id": "6a07464c-6f2e-4015-8ea6-1fbc5698c1dd",
   "metadata": {},
   "source": [
    "### Choose options"
   ]
  },
  {
   "cell_type": "markdown",
   "id": "29fc15af-ca3f-4c38-99ec-433e84dae8a2",
   "metadata": {},
   "source": [
    "### For LSSTCam : RubinTV, Campaigns , quicklook\n",
    "- RubinTV : https://usdf-rsp.slac.stanford.edu/rubintv/summit-usdf/lsstcam\n",
    "- https://rubinobs.atlassian.net/wiki/spaces/LSSTCOM/pages/467370016/LSSTCam+Commissioning+Planning\n",
    "- LSSTCam DM campaign : https://rubinobs.atlassian.net/wiki/spaces/DM/pages/48834013/Campaigns#1.1.2.-LSSTCam-Nightly-Validation-Pipeline\n",
    "- Check campaign also here  https://rubinobs.atlassian.net/wiki/pages/diffpagesbyversion.action?pageId=48834013&selectedPageVersions=145%2C143\n",
    "- fov-quicklook : https://usdf-rsp-dev.slac.stanford.edu/fov-quicklook/"
   ]
  },
  {
   "cell_type": "markdown",
   "id": "5542de7d-695e-4256-b765-28b902b02adc",
   "metadata": {},
   "source": [
    "### For LSSTComCam check here : \n",
    "- Check here the collection available : https://rubinobs.atlassian.net/wiki/spaces/DM/pages/226656354/LSSTComCam+Intermittent+Cumulative+DRP+Runs"
   ]
  },
  {
   "cell_type": "code",
   "execution_count": null,
   "id": "eacb14b0-183c-4dcd-ba59-64c7ca3efcd3",
   "metadata": {
    "execution": {
     "iopub.execute_input": "2025-05-02T18:57:44.552571Z",
     "iopub.status.busy": "2025-05-02T18:57:44.552445Z",
     "iopub.status.idle": "2025-05-02T18:57:44.560812Z",
     "shell.execute_reply": "2025-05-02T18:57:44.560448Z",
     "shell.execute_reply.started": "2025-05-02T18:57:44.552559Z"
    }
   },
   "outputs": [],
   "source": [
    "if instrument == \"LSSTCam\":\n",
    "    repo = \"/repo/embargo\"\n",
    "    instrument = \"LSSTCam\"\n",
    "    collection_validation = instrument + \"/runs/nightlyValidation\"\n",
    "    # collection_quicklook   = instrument + '/runs/quickLookTesting'\n",
    "    collection_validation = os.path.join(collection_validation, \"20250416/d_2025_04_15/DM-50157\")\n",
    "    date_start = 20250415\n",
    "    date_selection = 20250416\n",
    "    where_clause = \"instrument = '\" + f\"{instrument}\" + \"'\"\n",
    "    where_clause_date = where_clause + f\"and day_obs >= {date_start}\"\n",
    "    skymapName = \"lsst_cells_v1\"\n",
    "    BANDSEL = \"i\"\n",
    "\n",
    "elif instrument == \"LSSTComCam\":\n",
    "    repo = \"/repo/main\"\n",
    "    collection_validation = \"LSSTComCam/runs/DRP/DP1/w_2025_10/DM-49359\"  # work 2025-05-01\n",
    "    # collection_validation = \"LSSTComCam/runs/DRP/DP1/w_2025_17/DM-50530\" #updated 2025-05-02\n",
    "    date_start = 20241024\n",
    "    date_selection = 20241211\n",
    "    skymapName = \"lsst_cells_v1\"\n",
    "    where_clause = \"instrument = '\" + instrument + \"'\"\n",
    "    where_clause_date = where_clause + f\"and day_obs >= {date_start}\"\n",
    "\n",
    "    NDET = 9\n",
    "    TRACTSEL = 5063\n",
    "    BANDSEL = \"i\""
   ]
  },
  {
   "cell_type": "code",
   "execution_count": null,
   "id": "82535307-9253-4f06-b82a-956efd0217c9",
   "metadata": {
    "execution": {
     "iopub.execute_input": "2025-05-02T18:57:44.561375Z",
     "iopub.status.busy": "2025-05-02T18:57:44.561251Z",
     "iopub.status.idle": "2025-05-02T18:57:44.570561Z",
     "shell.execute_reply": "2025-05-02T18:57:44.570217Z",
     "shell.execute_reply.started": "2025-05-02T18:57:44.561364Z"
    }
   },
   "outputs": [],
   "source": [
    "collectionStr = collection_validation.replace(\"/\", \"_\")"
   ]
  },
  {
   "cell_type": "markdown",
   "id": "e77a39ca-c34f-4097-8a11-c40a121a82e9",
   "metadata": {},
   "source": [
    "## Access to Butler registry"
   ]
  },
  {
   "cell_type": "code",
   "execution_count": null,
   "id": "8726b7e4-94b7-48ac-92f8-447b34b7a59e",
   "metadata": {
    "execution": {
     "iopub.execute_input": "2025-05-02T18:57:44.571264Z",
     "iopub.status.busy": "2025-05-02T18:57:44.571002Z",
     "iopub.status.idle": "2025-05-02T18:57:44.979086Z",
     "shell.execute_reply": "2025-05-02T18:57:44.978541Z",
     "shell.execute_reply.started": "2025-05-02T18:57:44.571250Z"
    }
   },
   "outputs": [],
   "source": [
    "# Initialize the butler repo:\n",
    "butler = Butler(repo, collections=collection_validation)\n",
    "registry = butler.registry"
   ]
  },
  {
   "cell_type": "markdown",
   "id": "a82d1397-cd01-45d3-9f39-8b4f6bcbb21f",
   "metadata": {},
   "source": [
    "## Create a skymap object and Camera"
   ]
  },
  {
   "cell_type": "code",
   "execution_count": null,
   "id": "2a570834-a5dc-43b8-a0d3-af71a5b2706c",
   "metadata": {
    "execution": {
     "iopub.execute_input": "2025-05-02T18:57:44.979763Z",
     "iopub.status.busy": "2025-05-02T18:57:44.979616Z",
     "iopub.status.idle": "2025-05-02T18:57:45.329695Z",
     "shell.execute_reply": "2025-05-02T18:57:45.329181Z",
     "shell.execute_reply.started": "2025-05-02T18:57:44.979749Z"
    }
   },
   "outputs": [],
   "source": [
    "skymap = butler.get(\"skyMap\", skymap=skymapName, collections=collection_validation)"
   ]
  },
  {
   "cell_type": "code",
   "execution_count": null,
   "id": "8870762e-6e5d-4a6d-b101-1783285b1935",
   "metadata": {
    "execution": {
     "iopub.execute_input": "2025-05-02T18:57:45.330527Z",
     "iopub.status.busy": "2025-05-02T18:57:45.330381Z",
     "iopub.status.idle": "2025-05-02T18:57:45.831305Z",
     "shell.execute_reply": "2025-05-02T18:57:45.830786Z",
     "shell.execute_reply.started": "2025-05-02T18:57:45.330513Z"
    }
   },
   "outputs": [],
   "source": [
    "camera = butler.get(\"camera\", collections=collection_validation, instrument=instrument)"
   ]
  },
  {
   "cell_type": "markdown",
   "id": "f0e61f09-1f15-4f29-9555-d4015b09c5cc",
   "metadata": {},
   "source": [
    "## Query for collections in Butler\n",
    "\n",
    "- remove user collections\n",
    "- remove calibration products"
   ]
  },
  {
   "cell_type": "code",
   "execution_count": null,
   "id": "55edfcaa-96c0-49dc-827c-0167a0b6f731",
   "metadata": {
    "execution": {
     "iopub.execute_input": "2025-05-02T18:57:45.832066Z",
     "iopub.status.busy": "2025-05-02T18:57:45.831921Z",
     "iopub.status.idle": "2025-05-02T18:57:45.834773Z",
     "shell.execute_reply": "2025-05-02T18:57:45.834394Z",
     "shell.execute_reply.started": "2025-05-02T18:57:45.832051Z"
    }
   },
   "outputs": [],
   "source": [
    "# mostly setup for LSSTCam\n",
    "if FLAG_DUMP_COLLECTIONS:\n",
    "    for _ in sorted(registry.queryCollections(expression=instrument + \"/*\")):\n",
    "        if \"/calib/\" not in _ and \"u/\" not in _:\n",
    "            print(_)"
   ]
  },
  {
   "cell_type": "markdown",
   "id": "3ff90940-a996-4174-97b4-beb8895ae7a4",
   "metadata": {},
   "source": [
    "## Query for the dataset types in the Butler\n",
    "\n",
    "- Refer to the Data Product definition Document to know about the definition of datasets\n",
    "- https://www.lsst.org/about/dm/data-products\n",
    "- https://lse-163.lsst.io/\n",
    "- https://docushare.lsst.org/docushare/dsweb/Get/LSE-163"
   ]
  },
  {
   "cell_type": "code",
   "execution_count": null,
   "id": "f06e34b6-0f25-4047-9859-a34ec32e268d",
   "metadata": {
    "execution": {
     "iopub.execute_input": "2025-05-02T18:57:45.835524Z",
     "iopub.status.busy": "2025-05-02T18:57:45.835209Z",
     "iopub.status.idle": "2025-05-02T18:57:45.846049Z",
     "shell.execute_reply": "2025-05-02T18:57:45.845566Z",
     "shell.execute_reply.started": "2025-05-02T18:57:45.835510Z"
    }
   },
   "outputs": [],
   "source": [
    "if FLAG_DUMP_DATASETS:\n",
    "    for datasetType in registry.queryDatasetTypes():\n",
    "        if registry.queryDatasets(datasetType, collections=collection_validation).any(\n",
    "            execute=False, exact=False\n",
    "        ):\n",
    "            # Limit search results to the data products\n",
    "            if (\n",
    "                (\"_config\" not in datasetType.name)\n",
    "                and (\"_log\" not in datasetType.name)\n",
    "                and (\"_metadata\" not in datasetType.name)\n",
    "                and (\"_resource_usage\" not in datasetType.name)\n",
    "                and (\"Plot\" not in datasetType.name)\n",
    "                and (\"Metric\" not in datasetType.name)\n",
    "                and (\"metric\" not in datasetType.name)\n",
    "            ):\n",
    "                if \"object\" in datasetType.name or \"Obj\" in datasetType.name:\n",
    "                    print(datasetType)\n",
    "                if \"source\" in datasetType.name or \"Source\" in datasetType.name:\n",
    "                    print(datasetType)"
   ]
  },
  {
   "cell_type": "markdown",
   "id": "7c72ff5d-4c76-47bd-a8eb-c87c60874155",
   "metadata": {},
   "source": [
    "### Thus Selection of Datasets \n",
    "\n",
    "    DatasetType('diaSourceTable_tract', {skymap, tract}, DataFrame)\n",
    "    DatasetType('diaObjectTable_tract', {skymap, tract}, DataFrame)\n",
    "    DatasetType('forcedSourceOnDiaObjectTable', {skymap, tract, patch}, DataFrame)\n",
    "    DatasetType('forcedSourceOnDiaObjectTable', {skymap, tract, patch}, DataFrame)"
   ]
  },
  {
   "cell_type": "markdown",
   "id": "f78111e1-238c-4641-b3c1-0faebbbb89b1",
   "metadata": {},
   "source": [
    "## Selection of Region of interest"
   ]
  },
  {
   "cell_type": "code",
   "execution_count": null,
   "id": "6d0b6ebe-24c0-4046-9657-7187929a5f9a",
   "metadata": {
    "execution": {
     "iopub.execute_input": "2025-05-02T18:57:45.846634Z",
     "iopub.status.busy": "2025-05-02T18:57:45.846502Z",
     "iopub.status.idle": "2025-05-02T18:57:45.857573Z",
     "shell.execute_reply": "2025-05-02T18:57:45.857156Z",
     "shell.execute_reply.started": "2025-05-02T18:57:45.846622Z"
    }
   },
   "outputs": [],
   "source": [
    "lsstcomcam_targets = {}\n",
    "lsstcomcam_targets[\"47 Tuc\"] = {\"field_name\": \"47 Tuc Globular Cluster\", \"ra\": 6.02, \"dec\": -72.08}\n",
    "lsstcomcam_targets[\"Rubin SV 38 7\"] = {\"field_name\": \"Low Ecliptic Latitude Field\", \"ra\": 37.86, \"dec\": 6.98}\n",
    "lsstcomcam_targets[\"Fornax dSph\"] = {\n",
    "    \"field_name\": \"Fornax Dwarf Spheroidal Galaxy\",\n",
    "    \"ra\": 40.0,\n",
    "    \"dec\": -34.45,\n",
    "}\n",
    "lsstcomcam_targets[\"ECDFS\"] = {\"field_name\": \"Extended Chandra Deep Field South\", \"ra\": 53.13, \"dec\": -28.10}\n",
    "lsstcomcam_targets[\"EDFS\"] = {\"field_name\": \"Euclid Deep Field South\", \"ra\": 59.10, \"dec\": -48.73}\n",
    "lsstcomcam_targets[\"Rubin SV 95 -25\"] = {\n",
    "    \"field_name\": \"Low Galactic Latitude Field\",\n",
    "    \"ra\": 95.00,\n",
    "    \"dec\": -25.0,\n",
    "}\n",
    "lsstcomcam_targets[\"Seagull\"] = {\"field_name\": \"Seagull Nebula\", \"ra\": 106.23, \"dec\": -10.51}"
   ]
  },
  {
   "cell_type": "code",
   "execution_count": null,
   "id": "2fdc2905-3fd5-485e-a66b-56927d3de02f",
   "metadata": {
    "execution": {
     "iopub.execute_input": "2025-05-02T18:57:45.858298Z",
     "iopub.status.busy": "2025-05-02T18:57:45.858039Z",
     "iopub.status.idle": "2025-05-02T18:57:45.866342Z",
     "shell.execute_reply": "2025-05-02T18:57:45.865998Z",
     "shell.execute_reply.started": "2025-05-02T18:57:45.858284Z"
    }
   },
   "outputs": [],
   "source": [
    "# the_target = lsstcomcam_targets[\"Seagull\"]\n",
    "# the_target = lsstcomcam_targets[\"47 Tuc\"] # bad\n",
    "# the_target = lsstcomcam_targets[\"Fornax dSph\"]\n",
    "# the_target = lsstcomcam_targets[\"ECDFS\"]\n",
    "\n",
    "\n",
    "# key = \"Seagull\"\n",
    "# key = \"Fornax dSph\"\n",
    "key = \"ECDFS\"\n",
    "# key = \"EDFS\"\n",
    "# key = \"47 Tuc\"\n",
    "# key = \"Rubin SV 38 7\"\n",
    "# key = \"Rubin SV 95 -25\"\n",
    "\n",
    "\n",
    "the_target = lsstcomcam_targets[key]\n",
    "target_ra = the_target[\"ra\"]\n",
    "target_dec = the_target[\"dec\"]\n",
    "target_title = (\n",
    "    the_target[\"field_name\"] + f\" band  {BANDSEL} \" + f\" (ra,dec) = ({target_ra:.2f},{target_dec:.2f}) \"\n",
    ")\n",
    "target_point = SpherePoint(target_ra, target_dec, degrees)"
   ]
  },
  {
   "cell_type": "markdown",
   "id": "5097cdde-6283-4499-aaaa-57e799bdd53a",
   "metadata": {},
   "source": [
    "## Get list of tracts from the objectTable_tract"
   ]
  },
  {
   "cell_type": "code",
   "execution_count": null,
   "id": "ffbafbad-8059-4db6-9c13-d41716c1ab7e",
   "metadata": {
    "execution": {
     "iopub.execute_input": "2025-05-02T18:57:45.869744Z",
     "iopub.status.busy": "2025-05-02T18:57:45.869477Z",
     "iopub.status.idle": "2025-05-02T18:57:45.876061Z",
     "shell.execute_reply": "2025-05-02T18:57:45.875718Z",
     "shell.execute_reply.started": "2025-05-02T18:57:45.869730Z"
    }
   },
   "outputs": [],
   "source": [
    "datasettype = \"diaObjectTable_tract\""
   ]
  },
  {
   "cell_type": "code",
   "execution_count": null,
   "id": "3560cdd4-3d7e-4325-a3f5-07a0d70a8360",
   "metadata": {
    "execution": {
     "iopub.execute_input": "2025-05-02T18:57:45.876604Z",
     "iopub.status.busy": "2025-05-02T18:57:45.876478Z",
     "iopub.status.idle": "2025-05-02T18:57:45.883398Z",
     "shell.execute_reply": "2025-05-02T18:57:45.882981Z",
     "shell.execute_reply.started": "2025-05-02T18:57:45.876591Z"
    }
   },
   "outputs": [],
   "source": [
    "# Find the dimension\n",
    "print(butler.registry.getDatasetType(datasettype).dimensions)"
   ]
  },
  {
   "cell_type": "code",
   "execution_count": null,
   "id": "e07d2107-8c9e-485e-89bc-ec6e52fa10f4",
   "metadata": {
    "execution": {
     "iopub.execute_input": "2025-05-02T18:57:45.883980Z",
     "iopub.status.busy": "2025-05-02T18:57:45.883851Z",
     "iopub.status.idle": "2025-05-02T18:57:45.958844Z",
     "shell.execute_reply": "2025-05-02T18:57:45.958409Z",
     "shell.execute_reply.started": "2025-05-02T18:57:45.883968Z"
    }
   },
   "outputs": [],
   "source": [
    "therefs = butler.registry.queryDatasets(datasettype, collections=collection_validation)\n",
    "tractsId_list = np.unique([ref.dataId[\"tract\"] for ref in therefs])\n",
    "tractsId_list = sorted(tractsId_list)\n",
    "print(tractsId_list)"
   ]
  },
  {
   "cell_type": "markdown",
   "id": "f060f57d-ac96-4ec7-8a94-f760e118248a",
   "metadata": {},
   "source": [
    "## Find the Tract and Patch of the region of interest\n",
    "\n",
    "- tract in tractNbSel\n",
    "- patch in patchNbSel"
   ]
  },
  {
   "cell_type": "code",
   "execution_count": null,
   "id": "ea99cc96-a0bf-4dec-9418-895e5569688b",
   "metadata": {
    "execution": {
     "iopub.execute_input": "2025-05-02T18:57:45.959465Z",
     "iopub.status.busy": "2025-05-02T18:57:45.959329Z",
     "iopub.status.idle": "2025-05-02T18:57:45.964916Z",
     "shell.execute_reply": "2025-05-02T18:57:45.964531Z",
     "shell.execute_reply.started": "2025-05-02T18:57:45.959452Z"
    }
   },
   "outputs": [],
   "source": [
    "tract_info = skymap.findTract(target_point)\n",
    "patch_info = tract_info.findPatch(target_point)\n",
    "bbox = patch_info.getOuterBBox()\n",
    "\n",
    "print(\"Patch bounding box:\", bbox)\n",
    "\n",
    "print(\"Tract ID :\", tract_info.getId())\n",
    "tractNbSel = tract_info.getId()\n",
    "\n",
    "print(\"Patch Index :\", patch_info.getIndex(), \" , \", patch_info.getSequentialIndex())  # (x, y)\n",
    "print(\"Bounding Box\", bbox)\n",
    "\n",
    "patchNbSel = patch_info.getSequentialIndex()"
   ]
  },
  {
   "cell_type": "code",
   "execution_count": null,
   "id": "e1df364f-89a7-4a94-9541-89a05d75004c",
   "metadata": {
    "execution": {
     "iopub.execute_input": "2025-05-02T18:57:45.965472Z",
     "iopub.status.busy": "2025-05-02T18:57:45.965347Z",
     "iopub.status.idle": "2025-05-02T18:57:45.972923Z",
     "shell.execute_reply": "2025-05-02T18:57:45.972350Z",
     "shell.execute_reply.started": "2025-05-02T18:57:45.965459Z"
    }
   },
   "outputs": [],
   "source": [
    "dataId = {\"band\": BANDSEL, \"tract\": tractNbSel, \"patch\": patchNbSel, \"skymap\": skymapName}"
   ]
  },
  {
   "cell_type": "code",
   "execution_count": null,
   "id": "304c4c38-c69c-4e8f-90e5-50a8d20792cf",
   "metadata": {
    "execution": {
     "iopub.execute_input": "2025-05-02T18:57:45.973484Z",
     "iopub.status.busy": "2025-05-02T18:57:45.973357Z",
     "iopub.status.idle": "2025-05-02T18:57:45.983848Z",
     "shell.execute_reply": "2025-05-02T18:57:45.983494Z",
     "shell.execute_reply.started": "2025-05-02T18:57:45.973472Z"
    }
   },
   "outputs": [],
   "source": [
    "patch_info"
   ]
  },
  {
   "cell_type": "markdown",
   "id": "131ff71d-cee0-4141-ac33-c8f33758a584",
   "metadata": {},
   "source": [
    "## The Objects\n",
    "\n",
    "- Objects are extracted from object detection on deepcoadds\n",
    "- all bands are included "
   ]
  },
  {
   "cell_type": "code",
   "execution_count": null,
   "id": "da53ac66-c2fc-4b54-a19b-0e6d2def56a9",
   "metadata": {
    "execution": {
     "iopub.execute_input": "2025-05-02T18:57:45.984451Z",
     "iopub.status.busy": "2025-05-02T18:57:45.984323Z",
     "iopub.status.idle": "2025-05-02T18:57:45.993077Z",
     "shell.execute_reply": "2025-05-02T18:57:45.992717Z",
     "shell.execute_reply.started": "2025-05-02T18:57:45.984438Z"
    }
   },
   "outputs": [],
   "source": [
    "print(butler.registry.getDatasetType(datasettype).dimensions)"
   ]
  },
  {
   "cell_type": "code",
   "execution_count": null,
   "id": "3e6b671b-f1c2-48ce-97ea-1eef0fa56cca",
   "metadata": {
    "execution": {
     "iopub.execute_input": "2025-05-02T18:57:45.993601Z",
     "iopub.status.busy": "2025-05-02T18:57:45.993473Z",
     "iopub.status.idle": "2025-05-02T18:57:46.003912Z",
     "shell.execute_reply": "2025-05-02T18:57:46.003548Z",
     "shell.execute_reply.started": "2025-05-02T18:57:45.993590Z"
    }
   },
   "outputs": [],
   "source": [
    "# cannot add a filter on band\n",
    "where_clause = f\"skymap = '{skymapName}' AND tract = {tractNbSel} AND patch = {patchNbSel}\"\n",
    "print(where_clause)"
   ]
  },
  {
   "cell_type": "code",
   "execution_count": null,
   "id": "064b709e-fd22-453f-a89c-8feeb6a157c7",
   "metadata": {
    "execution": {
     "iopub.execute_input": "2025-05-02T18:57:46.004471Z",
     "iopub.status.busy": "2025-05-02T18:57:46.004343Z",
     "iopub.status.idle": "2025-05-02T18:57:46.531580Z",
     "shell.execute_reply": "2025-05-02T18:57:46.531072Z",
     "shell.execute_reply.started": "2025-05-02T18:57:46.004459Z"
    }
   },
   "outputs": [],
   "source": [
    "dataset_refs = list(\n",
    "    butler.registry.queryDatasets(datasettype, collections=collection_validation, where=where_clause)\n",
    ")\n",
    "# Récupère un des refs valides\n",
    "Nrefs = len(dataset_refs)\n",
    "print(f\"Number of DIAobjectTables : {Nrefs}\")\n",
    "ref = dataset_refs[0]\n",
    "t = butler.get(ref)\n",
    "\n",
    "Nobj = len(t)\n",
    "# del t\n",
    "# gc.collect()\n",
    "print(f\"Total Number of DIAobjects {Nobj}\")"
   ]
  },
  {
   "cell_type": "code",
   "execution_count": null,
   "id": "bec8a97c-78cc-4157-87ae-2e35515cce78",
   "metadata": {
    "execution": {
     "iopub.execute_input": "2025-05-02T18:57:46.532269Z",
     "iopub.status.busy": "2025-05-02T18:57:46.532127Z",
     "iopub.status.idle": "2025-05-02T18:57:46.607138Z",
     "shell.execute_reply": "2025-05-02T18:57:46.606725Z",
     "shell.execute_reply.started": "2025-05-02T18:57:46.532255Z"
    }
   },
   "outputs": [],
   "source": [
    "t"
   ]
  },
  {
   "cell_type": "markdown",
   "id": "584463e6-5694-4bfd-a5f3-c0021e8c64bc",
   "metadata": {
    "execution": {
     "iopub.execute_input": "2025-05-01T20:56:43.699655Z",
     "iopub.status.busy": "2025-05-01T20:56:43.699512Z",
     "iopub.status.idle": "2025-05-01T20:56:43.702758Z",
     "shell.execute_reply": "2025-05-01T20:56:43.702457Z",
     "shell.execute_reply.started": "2025-05-01T20:56:43.699640Z"
    }
   },
   "source": [
    "Oui, dans ce type de objectTable, les colonnes comme g_psfFlux, g_kronFlux, g_cModelFlux, etc., sont des flux calibrés (en nJy ou en unité de calibration interne du pipeline). Pour les convertir en magnitudes AB, tu peux utiliser la formule classique :"
   ]
  },
  {
   "cell_type": "code",
   "execution_count": null,
   "id": "069c5c04-af0c-47b3-893d-7c6ccf2c76a1",
   "metadata": {
    "execution": {
     "iopub.execute_input": "2025-05-02T18:57:46.607774Z",
     "iopub.status.busy": "2025-05-02T18:57:46.607625Z",
     "iopub.status.idle": "2025-05-02T18:57:46.943004Z",
     "shell.execute_reply": "2025-05-02T18:57:46.942486Z",
     "shell.execute_reply.started": "2025-05-02T18:57:46.607759Z"
    }
   },
   "outputs": [],
   "source": [
    "# Utilise ref.datasetType.name pour lister les colonnes disponibles\n",
    "if FLAG_DUMP_OBJECTSTABLECOLUMNS:\n",
    "    t_columns = list(butler.get(ref).columns)\n",
    "    print(t_columns)"
   ]
  },
  {
   "cell_type": "code",
   "execution_count": null,
   "id": "7c6648f9-6053-4343-aab6-56cb9648c599",
   "metadata": {
    "execution": {
     "iopub.execute_input": "2025-05-02T18:57:46.943663Z",
     "iopub.status.busy": "2025-05-02T18:57:46.943524Z",
     "iopub.status.idle": "2025-05-02T18:57:46.946023Z",
     "shell.execute_reply": "2025-05-02T18:57:46.945610Z",
     "shell.execute_reply.started": "2025-05-02T18:57:46.943649Z"
    }
   },
   "outputs": [],
   "source": [
    "# La constante 31.4 correspond à la conversion AB standard pour un flux exprimé en nanoJanskys (nJy).\n",
    "# À vérifier selon l’unité exacte utilisée par le pipeline sur ton RSP\n",
    "# (souvent c’est bien nJy, mais ça peut être autre chose si la calibration a été changée).\n",
    "# mag = -2.5 * np.log10(flux) + 31.4"
   ]
  },
  {
   "cell_type": "code",
   "execution_count": null,
   "id": "4763e932-3859-4092-8c9a-b3da80c74e4a",
   "metadata": {
    "execution": {
     "iopub.execute_input": "2025-05-02T18:57:46.946583Z",
     "iopub.status.busy": "2025-05-02T18:57:46.946457Z",
     "iopub.status.idle": "2025-05-02T18:57:47.022023Z",
     "shell.execute_reply": "2025-05-02T18:57:47.021454Z",
     "shell.execute_reply.started": "2025-05-02T18:57:46.946570Z"
    }
   },
   "outputs": [],
   "source": [
    "# Move the object id in the columns to keep memory of object id\n",
    "t = t.reset_index()"
   ]
  },
  {
   "cell_type": "code",
   "execution_count": null,
   "id": "ed5fc3ab-3740-41f2-973d-0f73beb23720",
   "metadata": {
    "execution": {
     "iopub.execute_input": "2025-05-02T18:57:47.022635Z",
     "iopub.status.busy": "2025-05-02T18:57:47.022504Z",
     "iopub.status.idle": "2025-05-02T18:57:47.112116Z",
     "shell.execute_reply": "2025-05-02T18:57:47.111632Z",
     "shell.execute_reply.started": "2025-05-02T18:57:47.022622Z"
    }
   },
   "outputs": [],
   "source": [
    "t"
   ]
  },
  {
   "cell_type": "markdown",
   "id": "2092392c-c9df-40c8-b2ef-d75e65a9e07c",
   "metadata": {},
   "source": [
    "## Extract info "
   ]
  },
  {
   "cell_type": "code",
   "execution_count": null,
   "id": "5f0642fb-c4ac-4a40-8d31-b1a931325e3d",
   "metadata": {
    "execution": {
     "iopub.execute_input": "2025-05-02T18:57:47.112786Z",
     "iopub.status.busy": "2025-05-02T18:57:47.112643Z",
     "iopub.status.idle": "2025-05-02T18:57:58.000319Z",
     "shell.execute_reply": "2025-05-02T18:57:57.999818Z",
     "shell.execute_reply.started": "2025-05-02T18:57:47.112773Z"
    }
   },
   "outputs": [],
   "source": [
    "# Check columns definitions in https://lse-163.lsst.io/\n",
    "all_radecTable = []\n",
    "\n",
    "for band in all_bands:\n",
    "    id_name = \"diaObjectId\"\n",
    "    coord_ra_name = \"ra\"\n",
    "    coord_dec_name = \"dec\"\n",
    "    nsources_name = \"nDiaSources\"\n",
    "    psfflux_name = f\"{band}_psfFluxMean\"\n",
    "    psfmag_name = f\"{band}_psfMagMean\"\n",
    "    df = t[[id_name, coord_ra_name, coord_dec_name, nsources_name, psfflux_name]]\n",
    "    # compute magnitude AB\n",
    "    # df[psfmag_name] = df[psfflux_name].apply(nJy_to_ab_mag)\n",
    "    # Apparemment il faut faire une copie de df sinon pandas rale\n",
    "\n",
    "    df_sub = df.copy()\n",
    "    df_sub[psfmag_name] = df_sub[psfflux_name].apply(nJy_to_ab_mag)\n",
    "    # select bright objects\n",
    "    if FLAG_CUT_OBJECTSMAG:\n",
    "        df_sub = df_sub[df_sub[psfmag_name] < MAGCUT]\n",
    "\n",
    "    df_sub = df_sub[df_sub[psfmag_name] > 0]\n",
    "\n",
    "    # check of object is in selected patch\n",
    "    all_flags = []\n",
    "    all_x = []\n",
    "    all_y = []\n",
    "    for index, row in df_sub.iterrows():\n",
    "        object_point = SpherePoint(row[coord_ra_name], row[coord_dec_name], degrees)\n",
    "        inTractFlag = tract_info.contains(object_point)\n",
    "        # Does not exist:\n",
    "        # inPatchFlag = patch_info.contains(object_point)\n",
    "\n",
    "        # the wcs from the tract\n",
    "        the_wcs = tract_info.getWcs()\n",
    "        # the bbox of the patch\n",
    "        the_bbox = patch_info.getOuterBBox()\n",
    "        # Convertir coordonnée céleste → pixel (coord tract + patch)\n",
    "        pixel = the_wcs.skyToPixel(object_point)\n",
    "        x_pix = Point2I(pixel).x\n",
    "        y_pix = Point2I(pixel).y\n",
    "        all_x.append(x_pix)\n",
    "        all_y.append(y_pix)\n",
    "        inPatchFlag = the_bbox.contains(Point2I(pixel))\n",
    "\n",
    "        all_flags.append(inPatchFlag)\n",
    "    df_sub[\"inPatch\"] = all_flags\n",
    "    df_sub[\"x\"] = all_x\n",
    "    df_sub[\"y\"] = all_y\n",
    "\n",
    "    # save table in the list\n",
    "    all_radecTable.append(df_sub)"
   ]
  },
  {
   "cell_type": "markdown",
   "id": "7621671f-d62f-49b9-a881-731d2aee4d73",
   "metadata": {},
   "source": [
    "## Ckeck position of sources of patch"
   ]
  },
  {
   "cell_type": "code",
   "execution_count": null,
   "id": "d0c28c92-6db5-42a3-b604-bbf53900aecc",
   "metadata": {
    "execution": {
     "iopub.execute_input": "2025-05-02T18:57:58.001001Z",
     "iopub.status.busy": "2025-05-02T18:57:58.000863Z",
     "iopub.status.idle": "2025-05-02T18:57:59.414376Z",
     "shell.execute_reply": "2025-05-02T18:57:59.413931Z",
     "shell.execute_reply.started": "2025-05-02T18:57:58.000987Z"
    }
   },
   "outputs": [],
   "source": [
    "fig, axis = plt.subplots(2, 3, figsize=(16, 6), sharex=True, sharey=True, layout=\"constrained\")\n",
    "\n",
    "axs = axis.flatten()\n",
    "\n",
    "for idx, ax in enumerate(axs):\n",
    "    band = all_bands[idx]\n",
    "    col = band_to_col[band]\n",
    "    t = all_radecTable[idx]\n",
    "    t.plot.scatter(x=coord_ra_name, y=coord_dec_name, ax=ax, color=\"cyan\", marker=\".\", s=1, lw=1, alpha=0.5)\n",
    "    t[t[\"inPatch\"]].plot.scatter(\n",
    "        x=coord_ra_name, y=coord_dec_name, ax=ax, color=col, marker=\".\", s=1, lw=1, label=band, alpha=1\n",
    "    )\n",
    "    ax.set_aspect(\"equal\")\n",
    "\n",
    "ax.invert_xaxis()\n",
    "plt.suptitle(\n",
    "    f\"DIA objects position in tract {tractNbSel} and patch {patchNbSel}\", fontsize=20, fontweight=\"bold\"\n",
    ")\n",
    "\n",
    "plt.show()"
   ]
  },
  {
   "cell_type": "markdown",
   "id": "8bbe1faa-df64-4c65-8b0e-de4061ee169a",
   "metadata": {},
   "source": [
    "## Number of sources per objects"
   ]
  },
  {
   "cell_type": "code",
   "execution_count": null,
   "id": "2a56a421-9cc3-4370-b7f6-4746c7c722ae",
   "metadata": {
    "execution": {
     "iopub.execute_input": "2025-05-02T18:57:59.415066Z",
     "iopub.status.busy": "2025-05-02T18:57:59.414910Z",
     "iopub.status.idle": "2025-05-02T18:57:59.813373Z",
     "shell.execute_reply": "2025-05-02T18:57:59.812905Z",
     "shell.execute_reply.started": "2025-05-02T18:57:59.415050Z"
    }
   },
   "outputs": [],
   "source": [
    "fig, ax = plt.subplots(1, 1, figsize=(8, 6))\n",
    "t[\"nDiaSources\"].hist(ax=ax, bins=100, histtype=\"step\", color=\"k\", range=(0, 800))\n",
    "ax.set_yscale(\"log\")\n",
    "ax.set_title(f\"Number of sources per DIA objects in tract {tractNbSel}\")\n",
    "plt.show()"
   ]
  },
  {
   "cell_type": "code",
   "execution_count": null,
   "id": "18869080-dee3-4609-a8e7-eed49f92eb03",
   "metadata": {
    "execution": {
     "iopub.execute_input": "2025-05-02T18:57:59.814050Z",
     "iopub.status.busy": "2025-05-02T18:57:59.813908Z",
     "iopub.status.idle": "2025-05-02T18:58:02.202143Z",
     "shell.execute_reply": "2025-05-02T18:58:02.201722Z",
     "shell.execute_reply.started": "2025-05-02T18:57:59.814036Z"
    }
   },
   "outputs": [],
   "source": [
    "fig, axs = plt.subplots(1, 2, figsize=(16, 6), sharex=True, sharey=True, layout=\"constrained\")\n",
    "\n",
    "ax1, ax2 = axs.flatten()\n",
    "\n",
    "for count, band in enumerate(all_bands):\n",
    "    nsources_name = \"nDiaSources\"\n",
    "    psfmag_name = f\"{band}_psfMagMean\"\n",
    "    col = band_to_col[band]\n",
    "    t = all_radecTable[count]\n",
    "    t.plot.scatter(\n",
    "        x=nsources_name, y=psfmag_name, ax=ax1, color=col, marker=\"o\", s=30, lw=3, label=band, alpha=0.5\n",
    "    )\n",
    "    ax1.set_title(f\"Magnitude per Nobs DIA objects in tract {tractNbSel}\")\n",
    "    t[t[\"inPatch\"]].plot.scatter(\n",
    "        x=nsources_name, y=psfmag_name, ax=ax2, color=col, marker=\"o\", s=30, lw=3, label=band, alpha=0.5\n",
    "    )\n",
    "    ax2.set_title(f\"Magnitude per Nobs DIA objects in tract {tractNbSel},patch {patchNbSel}\")\n",
    "\n",
    "plt.show()"
   ]
  },
  {
   "cell_type": "markdown",
   "id": "b7b28b4d-7f6f-402b-a2b2-c5f0fe50b58a",
   "metadata": {},
   "source": [
    "## Select above nDIASources> NDIACUT"
   ]
  },
  {
   "cell_type": "code",
   "execution_count": null,
   "id": "4124bd0b-390e-42f3-ada3-596f4bfb5283",
   "metadata": {
    "execution": {
     "iopub.execute_input": "2025-05-02T18:58:02.202811Z",
     "iopub.status.busy": "2025-05-02T18:58:02.202662Z",
     "iopub.status.idle": "2025-05-02T18:58:02.209089Z",
     "shell.execute_reply": "2025-05-02T18:58:02.208713Z",
     "shell.execute_reply.started": "2025-05-02T18:58:02.202796Z"
    }
   },
   "outputs": [],
   "source": [
    "all_radecTable_sel = []\n",
    "\n",
    "for count, band in enumerate(all_bands):\n",
    "    t = all_radecTable[count]\n",
    "    t = t[t[\"inPatch\"]]\n",
    "    t = t[t[nsources_name] > NDIACUT]\n",
    "    all_radecTable_sel.append(t)"
   ]
  },
  {
   "cell_type": "code",
   "execution_count": null,
   "id": "4e9e1518-54fe-4042-a49b-6788d4a52f89",
   "metadata": {
    "execution": {
     "iopub.execute_input": "2025-05-02T18:58:02.209669Z",
     "iopub.status.busy": "2025-05-02T18:58:02.209534Z",
     "iopub.status.idle": "2025-05-02T18:58:02.224202Z",
     "shell.execute_reply": "2025-05-02T18:58:02.223856Z",
     "shell.execute_reply.started": "2025-05-02T18:58:02.209656Z"
    }
   },
   "outputs": [],
   "source": [
    "t"
   ]
  },
  {
   "cell_type": "markdown",
   "id": "51e12740-9d06-4484-9532-1c0c95ab8f64",
   "metadata": {},
   "source": [
    "## Get Coadds and WCS"
   ]
  },
  {
   "cell_type": "code",
   "execution_count": null,
   "id": "151d8f26-3ae9-4fdc-9b59-1947c9a92316",
   "metadata": {
    "execution": {
     "iopub.execute_input": "2025-05-02T18:58:02.224766Z",
     "iopub.status.busy": "2025-05-02T18:58:02.224632Z",
     "iopub.status.idle": "2025-05-02T18:58:02.232620Z",
     "shell.execute_reply": "2025-05-02T18:58:02.232273Z",
     "shell.execute_reply.started": "2025-05-02T18:58:02.224754Z"
    }
   },
   "outputs": [],
   "source": [
    "all_dataIds = [\n",
    "    {\n",
    "        \"band\": band,\n",
    "        \"tract\": tractNbSel,\n",
    "        \"patch\": patchNbSel,\n",
    "        \"skymap\": skymapName,\n",
    "    }\n",
    "    for band in all_bands\n",
    "]"
   ]
  },
  {
   "cell_type": "code",
   "execution_count": null,
   "id": "05e47a4b-50a3-4abf-b23b-a0a0e39596ff",
   "metadata": {
    "execution": {
     "iopub.execute_input": "2025-05-02T18:58:02.233185Z",
     "iopub.status.busy": "2025-05-02T18:58:02.233055Z",
     "iopub.status.idle": "2025-05-02T18:58:15.289081Z",
     "shell.execute_reply": "2025-05-02T18:58:15.288578Z",
     "shell.execute_reply.started": "2025-05-02T18:58:02.233173Z"
    }
   },
   "outputs": [],
   "source": [
    "all_deepCoadds = []\n",
    "all_deepCoadds_wcs = []\n",
    "\n",
    "all_titles = []\n",
    "for idx, band in enumerate(all_bands):\n",
    "    the_band = band\n",
    "    the_dataId = all_dataIds[idx]\n",
    "    the_title = key + f\" band {the_band}\"\n",
    "    try:\n",
    "        coadd_exp = butler.get(\"deepCoadd_calexp\", the_dataId)\n",
    "        wcs = coadd_exp.getWcs()\n",
    "        psf = coadd_exp.getPsf()\n",
    "        all_deepCoadds.append(coadd_exp)\n",
    "        all_deepCoadds_wcs.append(wcs)\n",
    "        all_titles.append(the_title)\n",
    "\n",
    "    except Exception as inst:\n",
    "        print(f\"{key} :: catch Exception for band {band}\")\n",
    "        print(type(inst))  # the exception type\n",
    "        print(inst.args)  # arguments stored in .args\n",
    "        print(inst)  # __str_"
   ]
  },
  {
   "cell_type": "code",
   "execution_count": null,
   "id": "3905bf1d-0726-4458-ac1f-273dad386f64",
   "metadata": {
    "execution": {
     "iopub.execute_input": "2025-05-02T18:58:15.291980Z",
     "iopub.status.busy": "2025-05-02T18:58:15.291458Z",
     "iopub.status.idle": "2025-05-02T18:58:18.668912Z",
     "shell.execute_reply": "2025-05-02T18:58:18.668410Z",
     "shell.execute_reply.started": "2025-05-02T18:58:15.291964Z"
    }
   },
   "outputs": [],
   "source": [
    "N = len(all_deepCoadds)\n",
    "for count in range(N):\n",
    "    band = all_bands[count]\n",
    "    display = afwDisplay.Display(frame=count + 1)\n",
    "    # cannot succeed to show white stars on dark sky\n",
    "    display.setImageColormap(\"gray\")\n",
    "    display.scale(\"asinh\", \"zscale\")\n",
    "    display.mtv(all_deepCoadds[count].image, title=all_titles[count])\n",
    "\n",
    "    # work on targets\n",
    "    wcs = all_deepCoadds_wcs[count]\n",
    "    df = df = all_radecTable_sel[count]\n",
    "    x_name = \"x\"\n",
    "    y_name = \"y\"\n",
    "\n",
    "    with display.Buffering():\n",
    "        for index, row in df.iterrows():\n",
    "            xpix = row[x_name]\n",
    "            ypix = row[y_name]\n",
    "            display.dot(\"o\", xpix, ypix, size=50, ctype=all_bands_colors[count])"
   ]
  },
  {
   "cell_type": "code",
   "execution_count": null,
   "id": "5882f7b0-e965-45a3-9906-c5e68492d289",
   "metadata": {},
   "outputs": [],
   "source": []
  }
 ],
 "metadata": {
  "kernelspec": {
   "display_name": "LSST",
   "language": "python",
   "name": "lsst"
  },
  "language_info": {
   "codemirror_mode": {
    "name": "ipython",
    "version": 3
   },
   "file_extension": ".py",
   "mimetype": "text/x-python",
   "name": "python",
   "nbconvert_exporter": "python",
   "pygments_lexer": "ipython3",
   "version": "3.12.9"
  }
 },
 "nbformat": 4,
 "nbformat_minor": 5
}
