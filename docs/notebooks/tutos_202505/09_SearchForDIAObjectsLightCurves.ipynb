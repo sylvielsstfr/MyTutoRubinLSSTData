{
 "cells": [
  {
   "cell_type": "markdown",
   "id": "adda26b1-7594-48da-94d2-6722bd71353c",
   "metadata": {},
   "source": [
    "# Tuto to find The DIA sources and DIA Objects in LSSTComCam"
   ]
  },
  {
   "cell_type": "markdown",
   "id": "1f276e2d-e5e1-4b30-bf3c-4ea950073fad",
   "metadata": {
    "execution": {
     "iopub.execute_input": "2025-04-29T08:48:57.989253Z",
     "iopub.status.busy": "2025-04-29T08:48:57.988923Z",
     "iopub.status.idle": "2025-04-29T08:48:57.993268Z",
     "shell.execute_reply": "2025-04-29T08:48:57.992764Z",
     "shell.execute_reply.started": "2025-04-29T08:48:57.989226Z"
    }
   },
   "source": [
    "- author : Sylvie Dagoret-Campagne\n",
    "- affiliation : IJCLab/IN2P3/CNRS\n",
    "- member : DESC, rubin-inkind\n",
    "- creation date : 2025-05-02\n",
    "- last update : 2025-05-02"
   ]
  },
  {
   "cell_type": "markdown",
   "id": "81c11161-2bd4-4317-812a-f246f3f70d81",
   "metadata": {},
   "source": [
    "## Note on work done on LSSTComCam Commissioning : https://sitcomtn-149.lsst.io/\n",
    "## Note Data Product definition Document : https://lse-163.lsst.io/"
   ]
  },
  {
   "cell_type": "code",
   "execution_count": null,
   "id": "72f36e25-589c-4a8c-865f-8b51f5f35270",
   "metadata": {
    "execution": {
     "iopub.execute_input": "2025-05-02T21:41:40.487563Z",
     "iopub.status.busy": "2025-05-02T21:41:40.487231Z",
     "iopub.status.idle": "2025-05-02T21:41:41.523426Z",
     "shell.execute_reply": "2025-05-02T21:41:41.522989Z",
     "shell.execute_reply.started": "2025-05-02T21:41:40.487546Z"
    }
   },
   "outputs": [],
   "source": [
    "import sys\n",
    "import matplotlib.pyplot as plt\n",
    "import lsst.afw.display as afwDisplay\n",
    "import numpy as np\n",
    "import pandas as pd\n",
    "from astropy.time import Time\n",
    "# %matplotlib widget"
   ]
  },
  {
   "cell_type": "code",
   "execution_count": null,
   "id": "dc81ee07-7bfe-45c3-a8ea-72cc80b7abc7",
   "metadata": {
    "execution": {
     "iopub.execute_input": "2025-05-02T21:41:41.524202Z",
     "iopub.status.busy": "2025-05-02T21:41:41.523907Z",
     "iopub.status.idle": "2025-05-02T21:41:41.581847Z",
     "shell.execute_reply": "2025-05-02T21:41:41.581419Z",
     "shell.execute_reply.started": "2025-05-02T21:41:41.524185Z"
    }
   },
   "outputs": [],
   "source": [
    "afwDisplay.setDefaultBackend(\"firefly\")"
   ]
  },
  {
   "cell_type": "code",
   "execution_count": null,
   "id": "42897fba-1ca4-4f20-837d-bd7478ac4548",
   "metadata": {
    "execution": {
     "iopub.execute_input": "2025-05-02T21:41:41.582604Z",
     "iopub.status.busy": "2025-05-02T21:41:41.582329Z",
     "iopub.status.idle": "2025-05-02T21:41:41.606385Z",
     "shell.execute_reply": "2025-05-02T21:41:41.606043Z",
     "shell.execute_reply.started": "2025-05-02T21:41:41.582588Z"
    }
   },
   "outputs": [],
   "source": [
    "import lsst.geom as geom\n",
    "from lsst.geom import SpherePoint, Point2D, Point2I, degrees\n",
    "from lsst.skymap import PatchInfo, Index2D"
   ]
  },
  {
   "cell_type": "code",
   "execution_count": null,
   "id": "f2580923-bf82-4204-a50d-c64eb56b9f06",
   "metadata": {
    "execution": {
     "iopub.execute_input": "2025-05-02T21:41:41.606917Z",
     "iopub.status.busy": "2025-05-02T21:41:41.606788Z",
     "iopub.status.idle": "2025-05-02T21:41:41.609125Z",
     "shell.execute_reply": "2025-05-02T21:41:41.608789Z",
     "shell.execute_reply.started": "2025-05-02T21:41:41.606904Z"
    }
   },
   "outputs": [],
   "source": [
    "plt.rcParams[\"figure.figsize\"] = (10, 6)\n",
    "plt.rcParams[\"axes.labelsize\"] = \"x-large\"\n",
    "plt.rcParams[\"axes.titlesize\"] = \"x-large\"\n",
    "plt.rcParams[\"xtick.labelsize\"] = \"x-large\"\n",
    "plt.rcParams[\"ytick.labelsize\"] = \"x-large\""
   ]
  },
  {
   "cell_type": "code",
   "execution_count": null,
   "id": "d47f09df-7496-431c-b4ae-4fb75a3c6ef9",
   "metadata": {
    "execution": {
     "iopub.execute_input": "2025-05-02T21:41:41.609663Z",
     "iopub.status.busy": "2025-05-02T21:41:41.609534Z",
     "iopub.status.idle": "2025-05-02T21:41:41.618043Z",
     "shell.execute_reply": "2025-05-02T21:41:41.617708Z",
     "shell.execute_reply.started": "2025-05-02T21:41:41.609650Z"
    }
   },
   "outputs": [],
   "source": [
    "import gc"
   ]
  },
  {
   "cell_type": "code",
   "execution_count": null,
   "id": "1a1a267b-58c7-468a-a336-2c8def253a79",
   "metadata": {
    "execution": {
     "iopub.execute_input": "2025-05-02T21:41:41.618561Z",
     "iopub.status.busy": "2025-05-02T21:41:41.618434Z",
     "iopub.status.idle": "2025-05-02T21:41:41.625113Z",
     "shell.execute_reply": "2025-05-02T21:41:41.624785Z",
     "shell.execute_reply.started": "2025-05-02T21:41:41.618549Z"
    }
   },
   "outputs": [],
   "source": [
    "import traceback"
   ]
  },
  {
   "cell_type": "code",
   "execution_count": null,
   "id": "ede21bda-146f-4c77-aa40-edf2debfbfc0",
   "metadata": {
    "execution": {
     "iopub.execute_input": "2025-05-02T21:41:41.625653Z",
     "iopub.status.busy": "2025-05-02T21:41:41.625526Z",
     "iopub.status.idle": "2025-05-02T21:41:42.580765Z",
     "shell.execute_reply": "2025-05-02T21:41:42.580250Z",
     "shell.execute_reply.started": "2025-05-02T21:41:41.625640Z"
    }
   },
   "outputs": [],
   "source": [
    "# Define butler\n",
    "from lsst.daf.butler import Butler"
   ]
  },
  {
   "cell_type": "code",
   "execution_count": null,
   "id": "c7ab7fe3-285d-48c2-973a-2dde9d0a7faa",
   "metadata": {
    "execution": {
     "iopub.execute_input": "2025-05-02T21:41:42.581464Z",
     "iopub.status.busy": "2025-05-02T21:41:42.581319Z",
     "iopub.status.idle": "2025-05-02T21:41:43.243217Z",
     "shell.execute_reply": "2025-05-02T21:41:43.242620Z",
     "shell.execute_reply.started": "2025-05-02T21:41:42.581449Z"
    }
   },
   "outputs": [],
   "source": [
    "!eups list lsst_distrib"
   ]
  },
  {
   "cell_type": "code",
   "execution_count": null,
   "id": "94c38b62-90f8-4894-94f9-203dd4e03193",
   "metadata": {
    "execution": {
     "iopub.execute_input": "2025-05-02T21:41:43.244058Z",
     "iopub.status.busy": "2025-05-02T21:41:43.243897Z",
     "iopub.status.idle": "2025-05-02T21:41:43.247358Z",
     "shell.execute_reply": "2025-05-02T21:41:43.246991Z",
     "shell.execute_reply.started": "2025-05-02T21:41:43.244042Z"
    }
   },
   "outputs": [],
   "source": [
    "def nJy_to_ab_mag(f_njy):\n",
    "    \"\"\"Convert flux in nanojanskys to AB magnitude.\"\"\"\n",
    "    if f_njy > 0:\n",
    "        return -2.5 * np.log10(f_njy) + 31.4\n",
    "    else:\n",
    "        return 0.0\n",
    "\n",
    "\n",
    "def ab_mag_to_nJy(mag_ab):\n",
    "    \"\"\"Convert AB magnitude to flux in nanojanskys.\"\"\"\n",
    "    return 10 ** ((31.4 - mag_ab) / 2.5)"
   ]
  },
  {
   "cell_type": "markdown",
   "id": "7e369002-01db-40e2-a7b7-036072114e6a",
   "metadata": {},
   "source": [
    "## RubinTV, Campaigns , quicklook\n",
    "- RubinTV : https://usdf-rsp.slac.stanford.edu/rubintv/summit-usdf/lsstcam\n",
    "- https://rubinobs.atlassian.net/wiki/spaces/LSSTCOM/pages/467370016/LSSTCam+Commissioning+Planning\n",
    "- LSSTCam DM campaign : https://rubinobs.atlassian.net/wiki/spaces/DM/pages/48834013/Campaigns#1.1.2.-LSSTCam-Nightly-Validation-Pipeline\n",
    "- Check campaign also here  https://rubinobs.atlassian.net/wiki/pages/diffpagesbyversion.action?pageId=48834013&selectedPageVersions=145%2C143\n",
    "- fov-quicklook : https://usdf-rsp-dev.slac.stanford.edu/fov-quicklook/"
   ]
  },
  {
   "cell_type": "markdown",
   "id": "4ce495c8-71a6-4846-86fc-5715e13348ab",
   "metadata": {},
   "source": [
    "## Configuration"
   ]
  },
  {
   "cell_type": "code",
   "execution_count": null,
   "id": "91e7b166-6245-4e54-8cb1-21f34fbba78f",
   "metadata": {
    "execution": {
     "iopub.execute_input": "2025-05-02T21:41:43.247931Z",
     "iopub.status.busy": "2025-05-02T21:41:43.247801Z",
     "iopub.status.idle": "2025-05-02T21:41:43.255561Z",
     "shell.execute_reply": "2025-05-02T21:41:43.255140Z",
     "shell.execute_reply.started": "2025-05-02T21:41:43.247918Z"
    }
   },
   "outputs": [],
   "source": [
    "FLAG_DUMP_COLLECTIONS = False\n",
    "FLAG_DUMP_DATASETS = True\n",
    "FLAG_DUMP_OBJECTSTABLECOLUMNS = True\n",
    "FLAG_CUT_OBJECTSMAG = True"
   ]
  },
  {
   "cell_type": "code",
   "execution_count": null,
   "id": "afa18100-1d14-4201-9ed9-efa38a047ed8",
   "metadata": {
    "execution": {
     "iopub.execute_input": "2025-05-02T21:41:43.256114Z",
     "iopub.status.busy": "2025-05-02T21:41:43.255986Z",
     "iopub.status.idle": "2025-05-02T21:41:43.301814Z",
     "shell.execute_reply": "2025-05-02T21:41:43.301402Z",
     "shell.execute_reply.started": "2025-05-02T21:41:43.256102Z"
    }
   },
   "outputs": [],
   "source": [
    "MAGCUT = 24.0\n",
    "NDIACUT = 100"
   ]
  },
  {
   "cell_type": "code",
   "execution_count": null,
   "id": "566b4b6f-68ac-472f-9a14-9645d06d291a",
   "metadata": {
    "execution": {
     "iopub.execute_input": "2025-05-02T21:41:43.302372Z",
     "iopub.status.busy": "2025-05-02T21:41:43.302245Z",
     "iopub.status.idle": "2025-05-02T21:41:43.311810Z",
     "shell.execute_reply": "2025-05-02T21:41:43.311457Z",
     "shell.execute_reply.started": "2025-05-02T21:41:43.302360Z"
    }
   },
   "outputs": [],
   "source": [
    "all_bands = [\"u\", \"g\", \"r\", \"i\", \"z\", \"y\"]\n",
    "band_to_col = dict(u=\"b\", g=\"g\", r=\"r\", i=\"orange\", z=\"grey\", y=\"k\")\n",
    "all_bands_colors = [\"blue\", \"green\", \"red\", \"orange\", \"yellow\", \"purple\"]"
   ]
  },
  {
   "cell_type": "markdown",
   "id": "29bdd60b-f237-4a90-8aee-95f83091a5c8",
   "metadata": {},
   "source": [
    "### Choose instrument"
   ]
  },
  {
   "cell_type": "code",
   "execution_count": null,
   "id": "66ff700b-a6ab-4b6d-ab28-dfadf54fdd9f",
   "metadata": {
    "execution": {
     "iopub.execute_input": "2025-05-02T21:41:43.312518Z",
     "iopub.status.busy": "2025-05-02T21:41:43.312216Z",
     "iopub.status.idle": "2025-05-02T21:41:43.318242Z",
     "shell.execute_reply": "2025-05-02T21:41:43.317905Z",
     "shell.execute_reply.started": "2025-05-02T21:41:43.312504Z"
    }
   },
   "outputs": [],
   "source": [
    "# instrument = \"LSSTCam\"\n",
    "\n",
    "# We focus here on sky fields oberved by LSSTComCam, so we select this camera\n",
    "instrument = \"LSSTComCam\""
   ]
  },
  {
   "cell_type": "markdown",
   "id": "6a07464c-6f2e-4015-8ea6-1fbc5698c1dd",
   "metadata": {},
   "source": [
    "### Choose options"
   ]
  },
  {
   "cell_type": "markdown",
   "id": "29fc15af-ca3f-4c38-99ec-433e84dae8a2",
   "metadata": {},
   "source": [
    "### For LSSTCam : RubinTV, Campaigns , quicklook\n",
    "- RubinTV : https://usdf-rsp.slac.stanford.edu/rubintv/summit-usdf/lsstcam\n",
    "- https://rubinobs.atlassian.net/wiki/spaces/LSSTCOM/pages/467370016/LSSTCam+Commissioning+Planning\n",
    "- LSSTCam DM campaign : https://rubinobs.atlassian.net/wiki/spaces/DM/pages/48834013/Campaigns#1.1.2.-LSSTCam-Nightly-Validation-Pipeline\n",
    "- Check campaign also here  https://rubinobs.atlassian.net/wiki/pages/diffpagesbyversion.action?pageId=48834013&selectedPageVersions=145%2C143\n",
    "- fov-quicklook : https://usdf-rsp-dev.slac.stanford.edu/fov-quicklook/"
   ]
  },
  {
   "cell_type": "markdown",
   "id": "5542de7d-695e-4256-b765-28b902b02adc",
   "metadata": {},
   "source": [
    "### For LSSTComCam check here : \n",
    "- Check here the collection available : https://rubinobs.atlassian.net/wiki/spaces/DM/pages/226656354/LSSTComCam+Intermittent+Cumulative+DRP+Runs"
   ]
  },
  {
   "cell_type": "code",
   "execution_count": null,
   "id": "eacb14b0-183c-4dcd-ba59-64c7ca3efcd3",
   "metadata": {
    "execution": {
     "iopub.execute_input": "2025-05-02T21:41:43.319007Z",
     "iopub.status.busy": "2025-05-02T21:41:43.318671Z",
     "iopub.status.idle": "2025-05-02T21:41:43.331892Z",
     "shell.execute_reply": "2025-05-02T21:41:43.331491Z",
     "shell.execute_reply.started": "2025-05-02T21:41:43.318993Z"
    }
   },
   "outputs": [],
   "source": [
    "if instrument == \"LSSTCam\":\n",
    "    repo = \"/repo/embargo\"\n",
    "    instrument = \"LSSTCam\"\n",
    "    collection_validation = instrument + \"/runs/nightlyValidation\"\n",
    "    # collection_quicklook   = instrument + '/runs/quickLookTesting'\n",
    "    collection_validation = os.path.join(collection_validation, \"20250416/d_2025_04_15/DM-50157\")\n",
    "    date_start = 20250415\n",
    "    date_selection = 20250416\n",
    "    where_clause = \"instrument = '\" + f\"{instrument}\" + \"'\"\n",
    "    where_clause_date = where_clause + f\"and day_obs >= {date_start}\"\n",
    "    skymapName = \"lsst_cells_v1\"\n",
    "    BANDSEL = \"i\"\n",
    "\n",
    "elif instrument == \"LSSTComCam\":\n",
    "    repo = \"/repo/main\"\n",
    "    collection_validation = \"LSSTComCam/runs/DRP/DP1/w_2025_10/DM-49359\"  # work 2025-05-01\n",
    "    # collection_validation = \"LSSTComCam/runs/DRP/DP1/w_2025_17/DM-50530\" #updated 2025-05-02\n",
    "    date_start = 20241024\n",
    "    date_selection = 20241211\n",
    "    skymapName = \"lsst_cells_v1\"\n",
    "    where_clause = \"instrument = '\" + instrument + \"'\"\n",
    "    where_clause_date = where_clause + f\"and day_obs >= {date_start}\"\n",
    "\n",
    "    NDET = 9\n",
    "    TRACTSEL = 5063\n",
    "    BANDSEL = \"i\""
   ]
  },
  {
   "cell_type": "code",
   "execution_count": null,
   "id": "82535307-9253-4f06-b82a-956efd0217c9",
   "metadata": {
    "execution": {
     "iopub.execute_input": "2025-05-02T21:41:43.332401Z",
     "iopub.status.busy": "2025-05-02T21:41:43.332282Z",
     "iopub.status.idle": "2025-05-02T21:41:43.338181Z",
     "shell.execute_reply": "2025-05-02T21:41:43.337797Z",
     "shell.execute_reply.started": "2025-05-02T21:41:43.332389Z"
    }
   },
   "outputs": [],
   "source": [
    "collectionStr = collection_validation.replace(\"/\", \"_\")"
   ]
  },
  {
   "cell_type": "markdown",
   "id": "e77a39ca-c34f-4097-8a11-c40a121a82e9",
   "metadata": {},
   "source": [
    "## Access to Butler registry"
   ]
  },
  {
   "cell_type": "code",
   "execution_count": null,
   "id": "8726b7e4-94b7-48ac-92f8-447b34b7a59e",
   "metadata": {
    "execution": {
     "iopub.execute_input": "2025-05-02T21:41:43.338720Z",
     "iopub.status.busy": "2025-05-02T21:41:43.338591Z",
     "iopub.status.idle": "2025-05-02T21:41:43.748710Z",
     "shell.execute_reply": "2025-05-02T21:41:43.748195Z",
     "shell.execute_reply.started": "2025-05-02T21:41:43.338708Z"
    }
   },
   "outputs": [],
   "source": [
    "# Initialize the butler repo:\n",
    "butler = Butler(repo, collections=collection_validation)\n",
    "registry = butler.registry"
   ]
  },
  {
   "cell_type": "markdown",
   "id": "a82d1397-cd01-45d3-9f39-8b4f6bcbb21f",
   "metadata": {},
   "source": [
    "## Create a skymap object and Camera"
   ]
  },
  {
   "cell_type": "code",
   "execution_count": null,
   "id": "2a570834-a5dc-43b8-a0d3-af71a5b2706c",
   "metadata": {
    "execution": {
     "iopub.execute_input": "2025-05-02T21:41:43.749426Z",
     "iopub.status.busy": "2025-05-02T21:41:43.749284Z",
     "iopub.status.idle": "2025-05-02T21:41:44.099718Z",
     "shell.execute_reply": "2025-05-02T21:41:44.099223Z",
     "shell.execute_reply.started": "2025-05-02T21:41:43.749412Z"
    }
   },
   "outputs": [],
   "source": [
    "skymap = butler.get(\"skyMap\", skymap=skymapName, collections=collection_validation)"
   ]
  },
  {
   "cell_type": "code",
   "execution_count": null,
   "id": "8870762e-6e5d-4a6d-b101-1783285b1935",
   "metadata": {
    "execution": {
     "iopub.execute_input": "2025-05-02T21:41:44.103379Z",
     "iopub.status.busy": "2025-05-02T21:41:44.103237Z",
     "iopub.status.idle": "2025-05-02T21:41:44.615237Z",
     "shell.execute_reply": "2025-05-02T21:41:44.614726Z",
     "shell.execute_reply.started": "2025-05-02T21:41:44.103366Z"
    }
   },
   "outputs": [],
   "source": [
    "camera = butler.get(\"camera\", collections=collection_validation, instrument=instrument)"
   ]
  },
  {
   "cell_type": "markdown",
   "id": "f0e61f09-1f15-4f29-9555-d4015b09c5cc",
   "metadata": {},
   "source": [
    "## Query for collections in Butler\n",
    "\n",
    "- remove user collections\n",
    "- remove calibration products"
   ]
  },
  {
   "cell_type": "code",
   "execution_count": null,
   "id": "55edfcaa-96c0-49dc-827c-0167a0b6f731",
   "metadata": {
    "execution": {
     "iopub.execute_input": "2025-05-02T21:41:44.615875Z",
     "iopub.status.busy": "2025-05-02T21:41:44.615740Z",
     "iopub.status.idle": "2025-05-02T21:41:44.618450Z",
     "shell.execute_reply": "2025-05-02T21:41:44.618093Z",
     "shell.execute_reply.started": "2025-05-02T21:41:44.615861Z"
    }
   },
   "outputs": [],
   "source": [
    "# mostly setup for LSSTCam\n",
    "if FLAG_DUMP_COLLECTIONS:\n",
    "    for _ in sorted(registry.queryCollections(expression=instrument + \"/*\")):\n",
    "        if \"/calib/\" not in _ and \"u/\" not in _:\n",
    "            print(_)"
   ]
  },
  {
   "cell_type": "markdown",
   "id": "3ff90940-a996-4174-97b4-beb8895ae7a4",
   "metadata": {},
   "source": [
    "## Query for the dataset types in the Butler\n",
    "\n",
    "- Refer to the Data Product definition Document to know about the definition of datasets\n",
    "- https://www.lsst.org/about/dm/data-products\n",
    "- https://lse-163.lsst.io/\n",
    "- https://docushare.lsst.org/docushare/dsweb/Get/LSE-163"
   ]
  },
  {
   "cell_type": "code",
   "execution_count": null,
   "id": "f06e34b6-0f25-4047-9859-a34ec32e268d",
   "metadata": {
    "execution": {
     "iopub.execute_input": "2025-05-02T21:41:44.619007Z",
     "iopub.status.busy": "2025-05-02T21:41:44.618878Z",
     "iopub.status.idle": "2025-05-02T21:46:35.863795Z",
     "shell.execute_reply": "2025-05-02T21:46:35.863341Z",
     "shell.execute_reply.started": "2025-05-02T21:41:44.618994Z"
    }
   },
   "outputs": [],
   "source": [
    "if FLAG_DUMP_DATASETS:\n",
    "    for datasetType in registry.queryDatasetTypes():\n",
    "        if registry.queryDatasets(datasetType, collections=collection_validation).any(\n",
    "            execute=False, exact=False\n",
    "        ):\n",
    "            # Limit search results to the data products\n",
    "            if (\n",
    "                (\"_config\" not in datasetType.name)\n",
    "                and (\"_log\" not in datasetType.name)\n",
    "                and (\"_metadata\" not in datasetType.name)\n",
    "                and (\"_resource_usage\" not in datasetType.name)\n",
    "                and (\"Plot\" not in datasetType.name)\n",
    "                and (\"Metric\" not in datasetType.name)\n",
    "                and (\"metric\" not in datasetType.name)\n",
    "            ):\n",
    "                if \"object\" in datasetType.name or \"Obj\" in datasetType.name:\n",
    "                    print(datasetType)\n",
    "                if \"source\" in datasetType.name or \"Source\" in datasetType.name:\n",
    "                    print(datasetType)"
   ]
  },
  {
   "cell_type": "markdown",
   "id": "7c72ff5d-4c76-47bd-a8eb-c87c60874155",
   "metadata": {},
   "source": [
    "### Thus Selection of Datasets \n",
    "\n",
    "    DatasetType('diaSourceTable_tract', {skymap, tract}, DataFrame)\n",
    "    DatasetType('diaObjectTable_tract', {skymap, tract}, DataFrame)\n",
    "    DatasetType('forcedSourceOnDiaObjectTable', {skymap, tract, patch}, DataFrame)\n",
    "    DatasetType('forcedSourceOnDiaObjectTable', {skymap, tract, patch}, DataFrame)\n",
    "    DatasetType('mergedForcedSourceOnDiaObject', {band, instrument, skymap, day_obs, detector, physical_filter, tract, visit}, DataFrame)\n",
    "    DatasetType('forcedSourceTable', {skymap, tract, patch}, DataFrame)"
   ]
  },
  {
   "cell_type": "markdown",
   "id": "f78111e1-238c-4641-b3c1-0faebbbb89b1",
   "metadata": {},
   "source": [
    "## Selection of Region of interest"
   ]
  },
  {
   "cell_type": "code",
   "execution_count": null,
   "id": "6d0b6ebe-24c0-4046-9657-7187929a5f9a",
   "metadata": {
    "execution": {
     "iopub.execute_input": "2025-05-02T21:46:35.864476Z",
     "iopub.status.busy": "2025-05-02T21:46:35.864338Z",
     "iopub.status.idle": "2025-05-02T21:46:35.867812Z",
     "shell.execute_reply": "2025-05-02T21:46:35.867400Z",
     "shell.execute_reply.started": "2025-05-02T21:46:35.864462Z"
    }
   },
   "outputs": [],
   "source": [
    "lsstcomcam_targets = {}\n",
    "lsstcomcam_targets[\"47 Tuc\"] = {\"field_name\": \"47 Tuc Globular Cluster\", \"ra\": 6.02, \"dec\": -72.08}\n",
    "lsstcomcam_targets[\"Rubin SV 38 7\"] = {\"field_name\": \"Low Ecliptic Latitude Field\", \"ra\": 37.86, \"dec\": 6.98}\n",
    "lsstcomcam_targets[\"Fornax dSph\"] = {\n",
    "    \"field_name\": \"Fornax Dwarf Spheroidal Galaxy\",\n",
    "    \"ra\": 40.0,\n",
    "    \"dec\": -34.45,\n",
    "}\n",
    "lsstcomcam_targets[\"ECDFS\"] = {\"field_name\": \"Extended Chandra Deep Field South\", \"ra\": 53.13, \"dec\": -28.10}\n",
    "lsstcomcam_targets[\"EDFS\"] = {\"field_name\": \"Euclid Deep Field South\", \"ra\": 59.10, \"dec\": -48.73}\n",
    "lsstcomcam_targets[\"Rubin SV 95 -25\"] = {\n",
    "    \"field_name\": \"Low Galactic Latitude Field\",\n",
    "    \"ra\": 95.00,\n",
    "    \"dec\": -25.0,\n",
    "}\n",
    "lsstcomcam_targets[\"Seagull\"] = {\"field_name\": \"Seagull Nebula\", \"ra\": 106.23, \"dec\": -10.51}"
   ]
  },
  {
   "cell_type": "code",
   "execution_count": null,
   "id": "2fdc2905-3fd5-485e-a66b-56927d3de02f",
   "metadata": {
    "execution": {
     "iopub.execute_input": "2025-05-02T21:46:35.868326Z",
     "iopub.status.busy": "2025-05-02T21:46:35.868201Z",
     "iopub.status.idle": "2025-05-02T21:46:35.875939Z",
     "shell.execute_reply": "2025-05-02T21:46:35.875580Z",
     "shell.execute_reply.started": "2025-05-02T21:46:35.868313Z"
    }
   },
   "outputs": [],
   "source": [
    "# the_target = lsstcomcam_targets[\"Seagull\"]\n",
    "# the_target = lsstcomcam_targets[\"47 Tuc\"] # bad\n",
    "# the_target = lsstcomcam_targets[\"Fornax dSph\"]\n",
    "# the_target = lsstcomcam_targets[\"ECDFS\"]\n",
    "\n",
    "\n",
    "# key = \"Seagull\"\n",
    "# key = \"Fornax dSph\"\n",
    "key = \"ECDFS\"\n",
    "# key = \"EDFS\"\n",
    "# key = \"47 Tuc\"\n",
    "# key = \"Rubin SV 38 7\"\n",
    "# key = \"Rubin SV 95 -25\"\n",
    "\n",
    "\n",
    "the_target = lsstcomcam_targets[key]\n",
    "target_ra = the_target[\"ra\"]\n",
    "target_dec = the_target[\"dec\"]\n",
    "target_title = (\n",
    "    the_target[\"field_name\"] + f\" band  {BANDSEL} \" + f\" (ra,dec) = ({target_ra:.2f},{target_dec:.2f}) \"\n",
    ")\n",
    "target_point = SpherePoint(target_ra, target_dec, degrees)"
   ]
  },
  {
   "cell_type": "markdown",
   "id": "5097cdde-6283-4499-aaaa-57e799bdd53a",
   "metadata": {},
   "source": [
    "## Get list of tracts from the objectTable_tract"
   ]
  },
  {
   "cell_type": "code",
   "execution_count": null,
   "id": "ffbafbad-8059-4db6-9c13-d41716c1ab7e",
   "metadata": {
    "execution": {
     "iopub.execute_input": "2025-05-02T21:46:35.876472Z",
     "iopub.status.busy": "2025-05-02T21:46:35.876345Z",
     "iopub.status.idle": "2025-05-02T21:46:35.882238Z",
     "shell.execute_reply": "2025-05-02T21:46:35.881902Z",
     "shell.execute_reply.started": "2025-05-02T21:46:35.876460Z"
    }
   },
   "outputs": [],
   "source": [
    "datasettype = \"diaObjectTable_tract\""
   ]
  },
  {
   "cell_type": "code",
   "execution_count": null,
   "id": "3560cdd4-3d7e-4325-a3f5-07a0d70a8360",
   "metadata": {
    "execution": {
     "iopub.execute_input": "2025-05-02T21:46:35.882898Z",
     "iopub.status.busy": "2025-05-02T21:46:35.882624Z",
     "iopub.status.idle": "2025-05-02T21:46:35.889612Z",
     "shell.execute_reply": "2025-05-02T21:46:35.889270Z",
     "shell.execute_reply.started": "2025-05-02T21:46:35.882884Z"
    }
   },
   "outputs": [],
   "source": [
    "# Find the dimension\n",
    "print(butler.registry.getDatasetType(datasettype).dimensions)"
   ]
  },
  {
   "cell_type": "code",
   "execution_count": null,
   "id": "e07d2107-8c9e-485e-89bc-ec6e52fa10f4",
   "metadata": {
    "execution": {
     "iopub.execute_input": "2025-05-02T21:46:35.890144Z",
     "iopub.status.busy": "2025-05-02T21:46:35.890018Z",
     "iopub.status.idle": "2025-05-02T21:46:35.933203Z",
     "shell.execute_reply": "2025-05-02T21:46:35.932849Z",
     "shell.execute_reply.started": "2025-05-02T21:46:35.890131Z"
    }
   },
   "outputs": [],
   "source": [
    "therefs = butler.registry.queryDatasets(datasettype, collections=collection_validation)\n",
    "tractsId_list = np.unique([ref.dataId[\"tract\"] for ref in therefs])\n",
    "tractsId_list = sorted(tractsId_list)\n",
    "print(tractsId_list)"
   ]
  },
  {
   "cell_type": "markdown",
   "id": "f060f57d-ac96-4ec7-8a94-f760e118248a",
   "metadata": {},
   "source": [
    "## Find the Tract and Patch of the region of interest\n",
    "\n",
    "- tract in tractNbSel\n",
    "- patch in patchNbSel"
   ]
  },
  {
   "cell_type": "code",
   "execution_count": null,
   "id": "ea99cc96-a0bf-4dec-9418-895e5569688b",
   "metadata": {
    "execution": {
     "iopub.execute_input": "2025-05-02T21:46:35.933764Z",
     "iopub.status.busy": "2025-05-02T21:46:35.933626Z",
     "iopub.status.idle": "2025-05-02T21:46:35.939140Z",
     "shell.execute_reply": "2025-05-02T21:46:35.938718Z",
     "shell.execute_reply.started": "2025-05-02T21:46:35.933751Z"
    }
   },
   "outputs": [],
   "source": [
    "tract_info = skymap.findTract(target_point)\n",
    "patch_info = tract_info.findPatch(target_point)\n",
    "bbox = patch_info.getOuterBBox()\n",
    "\n",
    "print(\"Patch bounding box:\", bbox)\n",
    "\n",
    "print(\"Tract ID :\", tract_info.getId())\n",
    "tractNbSel = tract_info.getId()\n",
    "\n",
    "print(\"Patch Index :\", patch_info.getIndex(), \" , \", patch_info.getSequentialIndex())  # (x, y)\n",
    "print(\"Bounding Box\", bbox)\n",
    "\n",
    "patchNbSel = patch_info.getSequentialIndex()"
   ]
  },
  {
   "cell_type": "code",
   "execution_count": null,
   "id": "e1df364f-89a7-4a94-9541-89a05d75004c",
   "metadata": {
    "execution": {
     "iopub.execute_input": "2025-05-02T21:46:35.939715Z",
     "iopub.status.busy": "2025-05-02T21:46:35.939582Z",
     "iopub.status.idle": "2025-05-02T21:46:35.946199Z",
     "shell.execute_reply": "2025-05-02T21:46:35.945803Z",
     "shell.execute_reply.started": "2025-05-02T21:46:35.939696Z"
    }
   },
   "outputs": [],
   "source": [
    "dataId = {\"band\": BANDSEL, \"tract\": tractNbSel, \"patch\": patchNbSel, \"skymap\": skymapName}"
   ]
  },
  {
   "cell_type": "code",
   "execution_count": null,
   "id": "304c4c38-c69c-4e8f-90e5-50a8d20792cf",
   "metadata": {
    "execution": {
     "iopub.execute_input": "2025-05-02T21:46:35.946840Z",
     "iopub.status.busy": "2025-05-02T21:46:35.946709Z",
     "iopub.status.idle": "2025-05-02T21:46:35.956243Z",
     "shell.execute_reply": "2025-05-02T21:46:35.955890Z",
     "shell.execute_reply.started": "2025-05-02T21:46:35.946827Z"
    }
   },
   "outputs": [],
   "source": [
    "patch_info"
   ]
  },
  {
   "cell_type": "markdown",
   "id": "131ff71d-cee0-4141-ac33-c8f33758a584",
   "metadata": {},
   "source": [
    "## The Objects\n",
    "\n",
    "- Objects are extracted from object detection on deepcoadds\n",
    "- all bands are included "
   ]
  },
  {
   "cell_type": "code",
   "execution_count": null,
   "id": "da53ac66-c2fc-4b54-a19b-0e6d2def56a9",
   "metadata": {
    "execution": {
     "iopub.execute_input": "2025-05-02T21:46:35.956756Z",
     "iopub.status.busy": "2025-05-02T21:46:35.956621Z",
     "iopub.status.idle": "2025-05-02T21:46:36.006642Z",
     "shell.execute_reply": "2025-05-02T21:46:36.006222Z",
     "shell.execute_reply.started": "2025-05-02T21:46:35.956742Z"
    }
   },
   "outputs": [],
   "source": [
    "print(butler.registry.getDatasetType(datasettype).dimensions)"
   ]
  },
  {
   "cell_type": "code",
   "execution_count": null,
   "id": "3e6b671b-f1c2-48ce-97ea-1eef0fa56cca",
   "metadata": {
    "execution": {
     "iopub.execute_input": "2025-05-02T21:46:36.007339Z",
     "iopub.status.busy": "2025-05-02T21:46:36.007031Z",
     "iopub.status.idle": "2025-05-02T21:46:36.013409Z",
     "shell.execute_reply": "2025-05-02T21:46:36.013004Z",
     "shell.execute_reply.started": "2025-05-02T21:46:36.007325Z"
    }
   },
   "outputs": [],
   "source": [
    "# cannot add a filter on band\n",
    "where_clause = f\"skymap = '{skymapName}' AND tract = {tractNbSel} AND patch = {patchNbSel}\"\n",
    "print(where_clause)"
   ]
  },
  {
   "cell_type": "code",
   "execution_count": null,
   "id": "064b709e-fd22-453f-a89c-8feeb6a157c7",
   "metadata": {
    "execution": {
     "iopub.execute_input": "2025-05-02T21:46:36.013930Z",
     "iopub.status.busy": "2025-05-02T21:46:36.013799Z",
     "iopub.status.idle": "2025-05-02T21:46:36.583825Z",
     "shell.execute_reply": "2025-05-02T21:46:36.583346Z",
     "shell.execute_reply.started": "2025-05-02T21:46:36.013917Z"
    }
   },
   "outputs": [],
   "source": [
    "dataset_refs = list(\n",
    "    butler.registry.queryDatasets(datasettype, collections=collection_validation, where=where_clause)\n",
    ")\n",
    "# Récupère un des refs valides\n",
    "Nrefs = len(dataset_refs)\n",
    "print(f\"Number of DIAobjectTables : {Nrefs}\")\n",
    "ref = dataset_refs[0]\n",
    "t = butler.get(ref)\n",
    "\n",
    "Nobj = len(t)\n",
    "# del t\n",
    "# gc.collect()\n",
    "print(f\"Total Number of DIAobjects {Nobj}\")"
   ]
  },
  {
   "cell_type": "code",
   "execution_count": null,
   "id": "bec8a97c-78cc-4157-87ae-2e35515cce78",
   "metadata": {
    "execution": {
     "iopub.execute_input": "2025-05-02T21:46:36.584465Z",
     "iopub.status.busy": "2025-05-02T21:46:36.584328Z",
     "iopub.status.idle": "2025-05-02T21:46:36.661839Z",
     "shell.execute_reply": "2025-05-02T21:46:36.661431Z",
     "shell.execute_reply.started": "2025-05-02T21:46:36.584451Z"
    }
   },
   "outputs": [],
   "source": [
    "t"
   ]
  },
  {
   "cell_type": "markdown",
   "id": "584463e6-5694-4bfd-a5f3-c0021e8c64bc",
   "metadata": {
    "execution": {
     "iopub.execute_input": "2025-05-01T20:56:43.699655Z",
     "iopub.status.busy": "2025-05-01T20:56:43.699512Z",
     "iopub.status.idle": "2025-05-01T20:56:43.702758Z",
     "shell.execute_reply": "2025-05-01T20:56:43.702457Z",
     "shell.execute_reply.started": "2025-05-01T20:56:43.699640Z"
    }
   },
   "source": [
    "Oui, dans ce type de objectTable, les colonnes comme g_psfFlux, g_kronFlux, g_cModelFlux, etc., sont des flux calibrés (en nJy ou en unité de calibration interne du pipeline). Pour les convertir en magnitudes AB, tu peux utiliser la formule classique :"
   ]
  },
  {
   "cell_type": "code",
   "execution_count": null,
   "id": "069c5c04-af0c-47b3-893d-7c6ccf2c76a1",
   "metadata": {
    "execution": {
     "iopub.execute_input": "2025-05-02T21:46:36.662431Z",
     "iopub.status.busy": "2025-05-02T21:46:36.662295Z",
     "iopub.status.idle": "2025-05-02T21:46:37.013143Z",
     "shell.execute_reply": "2025-05-02T21:46:37.012627Z",
     "shell.execute_reply.started": "2025-05-02T21:46:36.662417Z"
    }
   },
   "outputs": [],
   "source": [
    "# Utilise ref.datasetType.name pour lister les colonnes disponibles\n",
    "if FLAG_DUMP_OBJECTSTABLECOLUMNS:\n",
    "    t_columns = list(butler.get(ref).columns)\n",
    "    print(t_columns)"
   ]
  },
  {
   "cell_type": "code",
   "execution_count": null,
   "id": "7c6648f9-6053-4343-aab6-56cb9648c599",
   "metadata": {
    "execution": {
     "iopub.execute_input": "2025-05-02T21:46:37.013765Z",
     "iopub.status.busy": "2025-05-02T21:46:37.013622Z",
     "iopub.status.idle": "2025-05-02T21:46:37.016147Z",
     "shell.execute_reply": "2025-05-02T21:46:37.015717Z",
     "shell.execute_reply.started": "2025-05-02T21:46:37.013751Z"
    }
   },
   "outputs": [],
   "source": [
    "# La constante 31.4 correspond à la conversion AB standard pour un flux exprimé en nanoJanskys (nJy).\n",
    "# À vérifier selon l’unité exacte utilisée par le pipeline sur ton RSP\n",
    "# (souvent c’est bien nJy, mais ça peut être autre chose si la calibration a été changée).\n",
    "# mag = -2.5 * np.log10(flux) + 31.4"
   ]
  },
  {
   "cell_type": "code",
   "execution_count": null,
   "id": "4763e932-3859-4092-8c9a-b3da80c74e4a",
   "metadata": {
    "execution": {
     "iopub.execute_input": "2025-05-02T21:46:37.016806Z",
     "iopub.status.busy": "2025-05-02T21:46:37.016566Z",
     "iopub.status.idle": "2025-05-02T21:46:37.094211Z",
     "shell.execute_reply": "2025-05-02T21:46:37.093728Z",
     "shell.execute_reply.started": "2025-05-02T21:46:37.016792Z"
    }
   },
   "outputs": [],
   "source": [
    "# Move the object id in the columns to keep memory of object id\n",
    "t = t.reset_index()"
   ]
  },
  {
   "cell_type": "code",
   "execution_count": null,
   "id": "ed5fc3ab-3740-41f2-973d-0f73beb23720",
   "metadata": {
    "execution": {
     "iopub.execute_input": "2025-05-02T21:46:37.094868Z",
     "iopub.status.busy": "2025-05-02T21:46:37.094736Z",
     "iopub.status.idle": "2025-05-02T21:46:37.181265Z",
     "shell.execute_reply": "2025-05-02T21:46:37.180808Z",
     "shell.execute_reply.started": "2025-05-02T21:46:37.094855Z"
    }
   },
   "outputs": [],
   "source": [
    "t"
   ]
  },
  {
   "cell_type": "markdown",
   "id": "2092392c-c9df-40c8-b2ef-d75e65a9e07c",
   "metadata": {},
   "source": [
    "## Extract info "
   ]
  },
  {
   "cell_type": "code",
   "execution_count": null,
   "id": "5f0642fb-c4ac-4a40-8d31-b1a931325e3d",
   "metadata": {
    "execution": {
     "iopub.execute_input": "2025-05-02T21:46:37.181921Z",
     "iopub.status.busy": "2025-05-02T21:46:37.181788Z",
     "iopub.status.idle": "2025-05-02T21:46:47.992309Z",
     "shell.execute_reply": "2025-05-02T21:46:47.991662Z",
     "shell.execute_reply.started": "2025-05-02T21:46:37.181907Z"
    }
   },
   "outputs": [],
   "source": [
    "# Check columns definitions in https://lse-163.lsst.io/\n",
    "all_radecTable = []\n",
    "\n",
    "for band in all_bands:\n",
    "    id_name = \"diaObjectId\"\n",
    "    coord_ra_name = \"ra\"\n",
    "    coord_dec_name = \"dec\"\n",
    "    nsources_name = \"nDiaSources\"\n",
    "    psfflux_name = f\"{band}_psfFluxMean\"\n",
    "    psfmag_name = f\"{band}_psfMagMean\"\n",
    "    df = t[[id_name, coord_ra_name, coord_dec_name, nsources_name, psfflux_name]]\n",
    "    # compute magnitude AB\n",
    "    # df[psfmag_name] = df[psfflux_name].apply(nJy_to_ab_mag)\n",
    "    # Apparemment il faut faire une copie de df sinon pandas rale\n",
    "\n",
    "    df_sub = df.copy()\n",
    "    df_sub[psfmag_name] = df_sub[psfflux_name].apply(nJy_to_ab_mag)\n",
    "    # select bright objects\n",
    "    if FLAG_CUT_OBJECTSMAG:\n",
    "        df_sub = df_sub[df_sub[psfmag_name] < MAGCUT]\n",
    "\n",
    "    df_sub = df_sub[df_sub[psfmag_name] > 0]\n",
    "\n",
    "    # check of object is in selected patch\n",
    "    all_flags = []\n",
    "    all_x = []\n",
    "    all_y = []\n",
    "    for index, row in df_sub.iterrows():\n",
    "        object_point = SpherePoint(row[coord_ra_name], row[coord_dec_name], degrees)\n",
    "        inTractFlag = tract_info.contains(object_point)\n",
    "        # Does not exist:\n",
    "        # inPatchFlag = patch_info.contains(object_point)\n",
    "\n",
    "        # the wcs from the tract\n",
    "        the_wcs = tract_info.getWcs()\n",
    "        # the bbox of the patch\n",
    "        the_bbox = patch_info.getOuterBBox()\n",
    "        # Convertir coordonnée céleste → pixel (coord tract + patch)\n",
    "        pixel = the_wcs.skyToPixel(object_point)\n",
    "        x_pix = Point2I(pixel).x\n",
    "        y_pix = Point2I(pixel).y\n",
    "        all_x.append(x_pix)\n",
    "        all_y.append(y_pix)\n",
    "        inPatchFlag = the_bbox.contains(Point2I(pixel))\n",
    "\n",
    "        all_flags.append(inPatchFlag)\n",
    "    df_sub[\"inPatch\"] = all_flags\n",
    "    df_sub[\"x\"] = all_x\n",
    "    df_sub[\"y\"] = all_y\n",
    "\n",
    "    # save table in the list\n",
    "    all_radecTable.append(df_sub)"
   ]
  },
  {
   "cell_type": "markdown",
   "id": "7621671f-d62f-49b9-a881-731d2aee4d73",
   "metadata": {},
   "source": [
    "## Check position of sources of patch"
   ]
  },
  {
   "cell_type": "code",
   "execution_count": null,
   "id": "d0c28c92-6db5-42a3-b604-bbf53900aecc",
   "metadata": {
    "execution": {
     "iopub.execute_input": "2025-05-02T21:46:47.993053Z",
     "iopub.status.busy": "2025-05-02T21:46:47.992901Z",
     "iopub.status.idle": "2025-05-02T21:46:49.400658Z",
     "shell.execute_reply": "2025-05-02T21:46:49.400115Z",
     "shell.execute_reply.started": "2025-05-02T21:46:47.993037Z"
    }
   },
   "outputs": [],
   "source": [
    "fig, axis = plt.subplots(2, 3, figsize=(16, 6), sharex=True, sharey=True, layout=\"constrained\")\n",
    "\n",
    "axs = axis.flatten()\n",
    "\n",
    "for idx, ax in enumerate(axs):\n",
    "    band = all_bands[idx]\n",
    "    col = band_to_col[band]\n",
    "    t = all_radecTable[idx]\n",
    "    t.plot.scatter(x=coord_ra_name, y=coord_dec_name, ax=ax, color=\"cyan\", marker=\".\", s=1, lw=1, alpha=0.5)\n",
    "    t[t[\"inPatch\"]].plot.scatter(\n",
    "        x=coord_ra_name, y=coord_dec_name, ax=ax, color=col, marker=\".\", s=1, lw=1, label=band, alpha=1\n",
    "    )\n",
    "    ax.set_aspect(\"equal\")\n",
    "\n",
    "ax.invert_xaxis()\n",
    "plt.suptitle(\n",
    "    f\"DIA objects position in tract {tractNbSel} and patch {patchNbSel}\", fontsize=20, fontweight=\"bold\"\n",
    ")\n",
    "\n",
    "plt.show()"
   ]
  },
  {
   "cell_type": "markdown",
   "id": "8bbe1faa-df64-4c65-8b0e-de4061ee169a",
   "metadata": {},
   "source": [
    "## Number of sources per objects"
   ]
  },
  {
   "cell_type": "code",
   "execution_count": null,
   "id": "2a56a421-9cc3-4370-b7f6-4746c7c722ae",
   "metadata": {
    "execution": {
     "iopub.execute_input": "2025-05-02T21:46:49.401419Z",
     "iopub.status.busy": "2025-05-02T21:46:49.401274Z",
     "iopub.status.idle": "2025-05-02T21:46:49.641499Z",
     "shell.execute_reply": "2025-05-02T21:46:49.641025Z",
     "shell.execute_reply.started": "2025-05-02T21:46:49.401404Z"
    }
   },
   "outputs": [],
   "source": [
    "fig, ax = plt.subplots(1, 1, figsize=(8, 6))\n",
    "t[\"nDiaSources\"].hist(ax=ax, bins=100, histtype=\"step\", color=\"k\", range=(0, 800))\n",
    "ax.set_yscale(\"log\")\n",
    "ax.set_title(f\"Number of sources per DIA objects in tract {tractNbSel}\")\n",
    "plt.show()"
   ]
  },
  {
   "cell_type": "code",
   "execution_count": null,
   "id": "18869080-dee3-4609-a8e7-eed49f92eb03",
   "metadata": {
    "execution": {
     "iopub.execute_input": "2025-05-02T21:46:49.642132Z",
     "iopub.status.busy": "2025-05-02T21:46:49.641996Z",
     "iopub.status.idle": "2025-05-02T21:46:52.063960Z",
     "shell.execute_reply": "2025-05-02T21:46:52.063493Z",
     "shell.execute_reply.started": "2025-05-02T21:46:49.642118Z"
    }
   },
   "outputs": [],
   "source": [
    "fig, axs = plt.subplots(1, 2, figsize=(16, 6), sharex=True, sharey=True, layout=\"constrained\")\n",
    "\n",
    "ax1, ax2 = axs.flatten()\n",
    "\n",
    "for count, band in enumerate(all_bands):\n",
    "    nsources_name = \"nDiaSources\"\n",
    "    psfmag_name = f\"{band}_psfMagMean\"\n",
    "    col = band_to_col[band]\n",
    "    t = all_radecTable[count]\n",
    "    t.plot.scatter(\n",
    "        x=nsources_name, y=psfmag_name, ax=ax1, color=col, marker=\"o\", s=30, lw=3, label=band, alpha=0.5\n",
    "    )\n",
    "    ax1.set_title(f\"Magnitude per Nobs DIA objects in tract {tractNbSel}\")\n",
    "    t[t[\"inPatch\"]].plot.scatter(\n",
    "        x=nsources_name, y=psfmag_name, ax=ax2, color=col, marker=\"o\", s=30, lw=3, label=band, alpha=0.5\n",
    "    )\n",
    "    ax2.set_title(f\"Magnitude per Nobs DIA objects in tract {tractNbSel},patch {patchNbSel}\")\n",
    "\n",
    "plt.show()"
   ]
  },
  {
   "cell_type": "markdown",
   "id": "b7b28b4d-7f6f-402b-a2b2-c5f0fe50b58a",
   "metadata": {},
   "source": [
    "## Select above nDIASources> NDIACUT"
   ]
  },
  {
   "cell_type": "code",
   "execution_count": null,
   "id": "4124bd0b-390e-42f3-ada3-596f4bfb5283",
   "metadata": {
    "execution": {
     "iopub.execute_input": "2025-05-02T21:46:52.064642Z",
     "iopub.status.busy": "2025-05-02T21:46:52.064499Z",
     "iopub.status.idle": "2025-05-02T21:46:52.071297Z",
     "shell.execute_reply": "2025-05-02T21:46:52.070866Z",
     "shell.execute_reply.started": "2025-05-02T21:46:52.064628Z"
    }
   },
   "outputs": [],
   "source": [
    "all_radecTable_sel = []\n",
    "\n",
    "for count, band in enumerate(all_bands):\n",
    "    t = all_radecTable[count]\n",
    "    t = t[t[\"inPatch\"]]\n",
    "    t = t[t[nsources_name] > NDIACUT]\n",
    "    all_radecTable_sel.append(t)"
   ]
  },
  {
   "cell_type": "code",
   "execution_count": null,
   "id": "4e9e1518-54fe-4042-a49b-6788d4a52f89",
   "metadata": {
    "execution": {
     "iopub.execute_input": "2025-05-02T21:46:52.071929Z",
     "iopub.status.busy": "2025-05-02T21:46:52.071796Z",
     "iopub.status.idle": "2025-05-02T21:46:52.085085Z",
     "shell.execute_reply": "2025-05-02T21:46:52.084697Z",
     "shell.execute_reply.started": "2025-05-02T21:46:52.071916Z"
    }
   },
   "outputs": [],
   "source": [
    "t"
   ]
  },
  {
   "cell_type": "markdown",
   "id": "51e12740-9d06-4484-9532-1c0c95ab8f64",
   "metadata": {},
   "source": [
    "## Get Coadds and WCS"
   ]
  },
  {
   "cell_type": "code",
   "execution_count": null,
   "id": "151d8f26-3ae9-4fdc-9b59-1947c9a92316",
   "metadata": {
    "execution": {
     "iopub.execute_input": "2025-05-02T21:46:52.085655Z",
     "iopub.status.busy": "2025-05-02T21:46:52.085527Z",
     "iopub.status.idle": "2025-05-02T21:46:52.091012Z",
     "shell.execute_reply": "2025-05-02T21:46:52.090622Z",
     "shell.execute_reply.started": "2025-05-02T21:46:52.085643Z"
    }
   },
   "outputs": [],
   "source": [
    "all_dataIds = [\n",
    "    {\n",
    "        \"band\": band,\n",
    "        \"tract\": tractNbSel,\n",
    "        \"patch\": patchNbSel,\n",
    "        \"skymap\": skymapName,\n",
    "    }\n",
    "    for band in all_bands\n",
    "]"
   ]
  },
  {
   "cell_type": "code",
   "execution_count": null,
   "id": "05e47a4b-50a3-4abf-b23b-a0a0e39596ff",
   "metadata": {
    "execution": {
     "iopub.execute_input": "2025-05-02T21:46:52.091606Z",
     "iopub.status.busy": "2025-05-02T21:46:52.091475Z",
     "iopub.status.idle": "2025-05-02T21:47:05.346082Z",
     "shell.execute_reply": "2025-05-02T21:47:05.345590Z",
     "shell.execute_reply.started": "2025-05-02T21:46:52.091594Z"
    }
   },
   "outputs": [],
   "source": [
    "all_deepCoadds = []\n",
    "all_deepCoadds_wcs = []\n",
    "\n",
    "all_titles = []\n",
    "for idx, band in enumerate(all_bands):\n",
    "    the_band = band\n",
    "    the_dataId = all_dataIds[idx]\n",
    "    the_title = key + f\" band {the_band}\"\n",
    "    try:\n",
    "        coadd_exp = butler.get(\"deepCoadd_calexp\", the_dataId)\n",
    "        wcs = coadd_exp.getWcs()\n",
    "        psf = coadd_exp.getPsf()\n",
    "        all_deepCoadds.append(coadd_exp)\n",
    "        all_deepCoadds_wcs.append(wcs)\n",
    "        all_titles.append(the_title)\n",
    "\n",
    "    except Exception as inst:\n",
    "        print(f\"{key} :: catch Exception for band {band}\")\n",
    "        print(type(inst))  # the exception type\n",
    "        print(inst.args)  # arguments stored in .args\n",
    "        print(inst)  # __str_"
   ]
  },
  {
   "cell_type": "code",
   "execution_count": null,
   "id": "3905bf1d-0726-4458-ac1f-273dad386f64",
   "metadata": {
    "execution": {
     "iopub.execute_input": "2025-05-02T21:47:05.348878Z",
     "iopub.status.busy": "2025-05-02T21:47:05.348322Z",
     "iopub.status.idle": "2025-05-02T21:47:08.441477Z",
     "shell.execute_reply": "2025-05-02T21:47:08.440906Z",
     "shell.execute_reply.started": "2025-05-02T21:47:05.348861Z"
    }
   },
   "outputs": [],
   "source": [
    "N = len(all_deepCoadds)\n",
    "for count in range(N):\n",
    "    band = all_bands[count]\n",
    "    display = afwDisplay.Display(frame=count + 1)\n",
    "    # cannot succeed to show white stars on dark sky\n",
    "    display.setImageColormap(\"gray\")\n",
    "    display.scale(\"asinh\", \"zscale\")\n",
    "    display.mtv(all_deepCoadds[count].image, title=all_titles[count])\n",
    "\n",
    "    # work on targets\n",
    "    wcs = all_deepCoadds_wcs[count]\n",
    "    df = all_radecTable_sel[count]\n",
    "    x_name = \"x\"\n",
    "    y_name = \"y\"\n",
    "\n",
    "    with display.Buffering():\n",
    "        for index, row in df.iterrows():\n",
    "            xpix = row[x_name]\n",
    "            ypix = row[y_name]\n",
    "            display.dot(\"o\", xpix, ypix, size=50, ctype=all_bands_colors[count])"
   ]
  },
  {
   "cell_type": "markdown",
   "id": "989ddeca-482b-4ae0-8d38-d1aa1cfb82f6",
   "metadata": {},
   "source": [
    "## Objects Ids\n",
    "\n",
    "Make list of dictionnary of objects numbers"
   ]
  },
  {
   "cell_type": "code",
   "execution_count": null,
   "id": "720f46cf-6d3c-43cd-b05a-bab9c60e9d1c",
   "metadata": {
    "execution": {
     "iopub.execute_input": "2025-05-02T21:47:08.442177Z",
     "iopub.status.busy": "2025-05-02T21:47:08.442035Z",
     "iopub.status.idle": "2025-05-02T21:47:08.446301Z",
     "shell.execute_reply": "2025-05-02T21:47:08.445897Z",
     "shell.execute_reply.started": "2025-05-02T21:47:08.442162Z"
    }
   },
   "outputs": [],
   "source": [
    "listOfObjIds = []\n",
    "dictOfObjIds = {}\n",
    "for count, band in enumerate(all_bands):\n",
    "    t = all_radecTable_sel[count]\n",
    "    obj_ids = np.sort(t[id_name].values)\n",
    "    n = len(obj_ids)\n",
    "    listOfObjIds.append(obj_ids)\n",
    "    dictOfObjIds[band] = obj_ids\n",
    "    print(f\"band {band} nobj = {n} : \", obj_ids)"
   ]
  },
  {
   "cell_type": "code",
   "execution_count": null,
   "id": "59053a6e-ed9a-4072-9140-5c3dd761a82f",
   "metadata": {
    "execution": {
     "iopub.execute_input": "2025-05-02T21:47:08.446887Z",
     "iopub.status.busy": "2025-05-02T21:47:08.446754Z",
     "iopub.status.idle": "2025-05-02T21:47:08.459524Z",
     "shell.execute_reply": "2025-05-02T21:47:08.459180Z",
     "shell.execute_reply.started": "2025-05-02T21:47:08.446874Z"
    }
   },
   "outputs": [],
   "source": [
    "all_diaobj_ids = np.unique(np.sort(np.concat(listOfObjIds)))\n",
    "all_diaobj_ids"
   ]
  },
  {
   "cell_type": "markdown",
   "id": "9b2e32a0-e683-407b-aac1-a1dc6a56943c",
   "metadata": {},
   "source": [
    "## Find Sources associated to the DIA object selected"
   ]
  },
  {
   "cell_type": "code",
   "execution_count": null,
   "id": "960548c0-00e8-40d9-87ba-6dee073df924",
   "metadata": {
    "execution": {
     "iopub.execute_input": "2025-05-02T21:47:08.460073Z",
     "iopub.status.busy": "2025-05-02T21:47:08.459947Z",
     "iopub.status.idle": "2025-05-02T21:47:08.496144Z",
     "shell.execute_reply": "2025-05-02T21:47:08.495717Z",
     "shell.execute_reply.started": "2025-05-02T21:47:08.460060Z"
    }
   },
   "outputs": [],
   "source": [
    "datasettype = \"diaSourceTable_tract\""
   ]
  },
  {
   "cell_type": "code",
   "execution_count": null,
   "id": "cf18b4a9-eda0-4b46-89be-15de39a69693",
   "metadata": {
    "execution": {
     "iopub.execute_input": "2025-05-02T21:47:08.496753Z",
     "iopub.status.busy": "2025-05-02T21:47:08.496615Z",
     "iopub.status.idle": "2025-05-02T21:47:09.076066Z",
     "shell.execute_reply": "2025-05-02T21:47:09.075432Z",
     "shell.execute_reply.started": "2025-05-02T21:47:08.496740Z"
    }
   },
   "outputs": [],
   "source": [
    "dataset_refs = list(\n",
    "    butler.registry.queryDatasets(datasettype, collections=collection_validation, where=where_clause)\n",
    ")\n",
    "# Récupère un des refs valides\n",
    "Nrefs = len(dataset_refs)\n",
    "print(f\"Number of DIAsourceTables : {Nrefs}\")\n",
    "ref = dataset_refs[0]\n",
    "t = butler.get(ref)\n",
    "\n",
    "Nsrc = len(t)\n",
    "# del t\n",
    "# gc.collect()\n",
    "print(f\"Total Number of DIAsouurces {Nsrc}\")"
   ]
  },
  {
   "cell_type": "code",
   "execution_count": null,
   "id": "25b67227-9de9-42bf-818b-8951a24c0b2a",
   "metadata": {
    "execution": {
     "iopub.execute_input": "2025-05-02T21:47:09.076775Z",
     "iopub.status.busy": "2025-05-02T21:47:09.076629Z",
     "iopub.status.idle": "2025-05-02T21:47:09.089554Z",
     "shell.execute_reply": "2025-05-02T21:47:09.089059Z",
     "shell.execute_reply.started": "2025-05-02T21:47:09.076761Z"
    }
   },
   "outputs": [],
   "source": [
    "t.head()"
   ]
  },
  {
   "cell_type": "markdown",
   "id": "8af1ac4e-cb8f-4be9-8179-02508ddb49b1",
   "metadata": {},
   "source": [
    "### Make lists of sources for each objects"
   ]
  },
  {
   "cell_type": "code",
   "execution_count": null,
   "id": "f80ca54e-0b91-4225-8656-bca6a61faa8b",
   "metadata": {
    "execution": {
     "iopub.execute_input": "2025-05-02T21:47:09.090387Z",
     "iopub.status.busy": "2025-05-02T21:47:09.090094Z",
     "iopub.status.idle": "2025-05-02T21:47:09.127502Z",
     "shell.execute_reply": "2025-05-02T21:47:09.126980Z",
     "shell.execute_reply.started": "2025-05-02T21:47:09.090372Z"
    }
   },
   "outputs": [],
   "source": [
    "all_objsrc = []\n",
    "\n",
    "for diaobj_id in all_diaobj_ids:\n",
    "    t_sel = t[t.diaObjectId == diaobj_id]\n",
    "    all_objsrc.append(t_sel)"
   ]
  },
  {
   "cell_type": "code",
   "execution_count": null,
   "id": "6fb08847-8bb2-4b66-acb3-f72a9e8cd260",
   "metadata": {
    "execution": {
     "iopub.execute_input": "2025-05-02T21:47:09.128234Z",
     "iopub.status.busy": "2025-05-02T21:47:09.128095Z",
     "iopub.status.idle": "2025-05-02T21:47:09.130980Z",
     "shell.execute_reply": "2025-05-02T21:47:09.130592Z",
     "shell.execute_reply.started": "2025-05-02T21:47:09.128220Z"
    }
   },
   "outputs": [],
   "source": [
    "print(list(all_objsrc[0].columns))"
   ]
  },
  {
   "cell_type": "code",
   "execution_count": null,
   "id": "863cd224-6337-4380-b245-e980e85ff820",
   "metadata": {
    "execution": {
     "iopub.execute_input": "2025-05-02T21:47:09.131529Z",
     "iopub.status.busy": "2025-05-02T21:47:09.131398Z",
     "iopub.status.idle": "2025-05-02T21:47:09.760006Z",
     "shell.execute_reply": "2025-05-02T21:47:09.759516Z",
     "shell.execute_reply.started": "2025-05-02T21:47:09.131516Z"
    }
   },
   "outputs": [],
   "source": [
    "# release memory used by the source table\n",
    "del t\n",
    "gc.collect()"
   ]
  },
  {
   "cell_type": "code",
   "execution_count": null,
   "id": "0f91916d-a385-4991-812a-ddca3e6ec4cf",
   "metadata": {
    "execution": {
     "iopub.execute_input": "2025-05-02T21:47:09.760826Z",
     "iopub.status.busy": "2025-05-02T21:47:09.760672Z",
     "iopub.status.idle": "2025-05-02T21:47:09.774034Z",
     "shell.execute_reply": "2025-05-02T21:47:09.773634Z",
     "shell.execute_reply.started": "2025-05-02T21:47:09.760810Z"
    }
   },
   "outputs": [],
   "source": [
    "all_objsrc[0][\n",
    "    [\n",
    "        \"apFlux\",\n",
    "        \"apFluxErr\",\n",
    "        \"snr\",\n",
    "        \"psfFlux\",\n",
    "        \"psfFluxErr\",\n",
    "        \"band\",\n",
    "        \"midpointMjdTai\",\n",
    "        \"diaObjectId\",\n",
    "        \"ssObjectId\",\n",
    "        \"parentDiaSourceId\",\n",
    "    ]\n",
    "]"
   ]
  },
  {
   "cell_type": "code",
   "execution_count": null,
   "id": "f4035ff8-39cb-4b2e-8d25-3324999de23c",
   "metadata": {
    "execution": {
     "iopub.execute_input": "2025-05-02T21:47:09.774583Z",
     "iopub.status.busy": "2025-05-02T21:47:09.774455Z",
     "iopub.status.idle": "2025-05-02T21:47:09.780650Z",
     "shell.execute_reply": "2025-05-02T21:47:09.780273Z",
     "shell.execute_reply.started": "2025-05-02T21:47:09.774569Z"
    }
   },
   "outputs": [],
   "source": [
    "def remove_outliers_iqr(x, y, yerr, factor=1.5):\n",
    "    q1, q3 = np.percentile(y, [25, 75])\n",
    "    iqr = q3 - q1\n",
    "    low, high = q1 - factor * iqr, q3 + factor * iqr\n",
    "    mask = (y >= low) & (y <= high)\n",
    "    return x[mask], y[mask], yerr[mask]"
   ]
  },
  {
   "cell_type": "code",
   "execution_count": null,
   "id": "410f4426-6218-412e-8610-dfbea8052437",
   "metadata": {
    "execution": {
     "iopub.execute_input": "2025-05-02T21:47:09.781280Z",
     "iopub.status.busy": "2025-05-02T21:47:09.781152Z",
     "iopub.status.idle": "2025-05-02T21:47:13.448359Z",
     "shell.execute_reply": "2025-05-02T21:47:13.447922Z",
     "shell.execute_reply.started": "2025-05-02T21:47:09.781267Z"
    }
   },
   "outputs": [],
   "source": [
    "flux_name = \"apFlux\"\n",
    "fluxerr_name = flux_name + \"Err\"\n",
    "\n",
    "for idx_obj, diaobj_id in enumerate(all_diaobj_ids):\n",
    "    ts = all_objsrc[idx_obj]\n",
    "    fig, ax = plt.subplots(1, 1, figsize=(16, 3))\n",
    "    title = f\"{idx_obj}) {datasettype} for DiaObject = {diaobj_id} in tract {tractNbSel},patch {patchNbSel}\"\n",
    "\n",
    "    for ib, band in enumerate(all_bands):\n",
    "        if diaobj_id in dictOfObjIds[band]:\n",
    "            tsb = ts[ts[\"band\"] == band]\n",
    "            # print(f\"object {diaobj_id} in band {band}\")\n",
    "            x = tsb[\"midpointMjdTai\"].values + 0.2 * ib\n",
    "            y = tsb[flux_name].values\n",
    "            yerr = tsb[fluxerr_name].values\n",
    "            # remove outliers\n",
    "            x, y, yerr = remove_outliers_iqr(x, y, yerr)\n",
    "\n",
    "            ax.errorbar(\n",
    "                x,\n",
    "                y,\n",
    "                yerr=yerr,\n",
    "                marker=\"o\",\n",
    "                lw=0,\n",
    "                mfc=band_to_col[band],\n",
    "                mec=band_to_col[band],\n",
    "                ecolor=band_to_col[band],\n",
    "                label=band,\n",
    "            )\n",
    "    ax.legend()\n",
    "    ax.set_xlabel(\"mjd\")\n",
    "    ax.set_ylabel(flux_name)\n",
    "    ax.set_title(title)\n",
    "    # ax.set_yscale(\"symlog\")"
   ]
  },
  {
   "cell_type": "markdown",
   "id": "dd37a80a-f652-4100-b91b-8b31355a3cfc",
   "metadata": {},
   "source": [
    "## Find Forced Sources on DiaObjects"
   ]
  },
  {
   "cell_type": "code",
   "execution_count": null,
   "id": "38f72554-7cf0-40b2-8d91-b0520b859a27",
   "metadata": {
    "execution": {
     "iopub.execute_input": "2025-05-02T21:49:48.199797Z",
     "iopub.status.busy": "2025-05-02T21:49:48.199574Z",
     "iopub.status.idle": "2025-05-02T21:49:48.202534Z",
     "shell.execute_reply": "2025-05-02T21:49:48.202122Z",
     "shell.execute_reply.started": "2025-05-02T21:49:48.199780Z"
    }
   },
   "outputs": [],
   "source": [
    "datasettype = \"forcedSourceOnDiaObjectTable\"\n",
    "# datasettype = \"mergedForcedSourceOnDiaObject\""
   ]
  },
  {
   "cell_type": "code",
   "execution_count": null,
   "id": "28b67ce1-8f06-43d4-9021-3ce42a0f06f5",
   "metadata": {
    "execution": {
     "iopub.execute_input": "2025-05-02T21:49:50.044483Z",
     "iopub.status.busy": "2025-05-02T21:49:50.043815Z",
     "iopub.status.idle": "2025-05-02T21:49:54.681710Z",
     "shell.execute_reply": "2025-05-02T21:49:54.681194Z",
     "shell.execute_reply.started": "2025-05-02T21:49:50.044462Z"
    }
   },
   "outputs": [],
   "source": [
    "dataset_refs = list(\n",
    "    butler.registry.queryDatasets(datasettype, collections=collection_validation, where=where_clause)\n",
    ")\n",
    "# Récupère un des refs valides\n",
    "Nrefs = len(dataset_refs)\n",
    "print(f\"Number of Foorced DIAsourceTables : {Nrefs}\")\n",
    "ref = dataset_refs[0]\n",
    "t = butler.get(ref)\n",
    "\n",
    "Nsrc = len(t)\n",
    "# del t\n",
    "# gc.collect()\n",
    "print(f\"Total Number of Forced DIAsources {Nsrc}\")"
   ]
  },
  {
   "cell_type": "code",
   "execution_count": null,
   "id": "499e7eee-3452-4169-8c1e-37d22d9f27c0",
   "metadata": {
    "execution": {
     "iopub.execute_input": "2025-05-02T22:06:20.839797Z",
     "iopub.status.busy": "2025-05-02T22:06:20.839456Z",
     "iopub.status.idle": "2025-05-02T22:06:20.842708Z",
     "shell.execute_reply": "2025-05-02T22:06:20.842307Z",
     "shell.execute_reply.started": "2025-05-02T22:06:20.839779Z"
    }
   },
   "outputs": [],
   "source": [
    "print(list(t.columns))"
   ]
  },
  {
   "cell_type": "markdown",
   "id": "98a7cc8b-c48a-4d93-819b-6a2c15b01a37",
   "metadata": {},
   "source": [
    "- Il faut trouver le temps associé à une visite comme dans mon notebook : https://github.com/sylvielsstfr/mySIT-COM2025/blob/main/notebooks/2025-04-LSSTComCam/2025-04-21-SearchAGNInLSSTComCamSources.ipynb"
   ]
  },
  {
   "cell_type": "markdown",
   "id": "12c912a6-264c-4865-9a5a-0ea1386d2541",
   "metadata": {},
   "source": [
    "### Make lists of forced sources for each objects"
   ]
  },
  {
   "cell_type": "code",
   "execution_count": null,
   "id": "73f2d0e5-3573-4ce6-a7e4-2130c1ef1435",
   "metadata": {
    "execution": {
     "iopub.execute_input": "2025-05-02T21:47:18.149030Z",
     "iopub.status.busy": "2025-05-02T21:47:18.148900Z",
     "iopub.status.idle": "2025-05-02T21:47:18.591006Z",
     "shell.execute_reply": "2025-05-02T21:47:18.590405Z",
     "shell.execute_reply.started": "2025-05-02T21:47:18.149017Z"
    }
   },
   "outputs": [],
   "source": [
    "all_objfsrc = []\n",
    "\n",
    "for diaobj_id in all_diaobj_ids:\n",
    "    t_sel = t[t.diaObjectId == diaobj_id]\n",
    "    all_objfsrc.append(t_sel)"
   ]
  },
  {
   "cell_type": "code",
   "execution_count": null,
   "id": "80d33c08-3b05-4a30-88a9-c4dd0dd3d514",
   "metadata": {
    "execution": {
     "iopub.status.busy": "2025-05-02T21:47:18.591816Z",
     "iopub.status.idle": "2025-05-02T21:47:18.591991Z",
     "shell.execute_reply": "2025-05-02T21:47:18.591908Z",
     "shell.execute_reply.started": "2025-05-02T21:47:18.591900Z"
    }
   },
   "outputs": [],
   "source": [
    "print(list(all_objfsrc[0].columns))"
   ]
  },
  {
   "cell_type": "code",
   "execution_count": null,
   "id": "b8f3e937-3691-4e33-95cd-86a63eea2c03",
   "metadata": {
    "execution": {
     "iopub.status.busy": "2025-05-02T21:47:18.592539Z",
     "iopub.status.idle": "2025-05-02T21:47:18.592714Z",
     "shell.execute_reply": "2025-05-02T21:47:18.592627Z",
     "shell.execute_reply.started": "2025-05-02T21:47:18.592619Z"
    }
   },
   "outputs": [],
   "source": [
    "# release memory used by the source table\n",
    "del t\n",
    "gc.collect()"
   ]
  },
  {
   "cell_type": "code",
   "execution_count": null,
   "id": "a52966b3-3ee8-45ed-9097-1d1e3c80ca55",
   "metadata": {
    "execution": {
     "iopub.status.busy": "2025-05-02T21:47:18.593379Z",
     "iopub.status.idle": "2025-05-02T21:47:18.593541Z",
     "shell.execute_reply": "2025-05-02T21:47:18.593461Z",
     "shell.execute_reply.started": "2025-05-02T21:47:18.593454Z"
    }
   },
   "outputs": [],
   "source": [
    "all_objfsrc[0][\n",
    "    [\n",
    "        \"apFlux\",\n",
    "        \"apFluxErr\",\n",
    "        \"snr\",\n",
    "        \"psfFlux\",\n",
    "        \"psfFluxErr\",\n",
    "        \"band\",\n",
    "        \"midpointMjdTai\",\n",
    "        \"diaObjectId\",\n",
    "        \"ssObjectId\",\n",
    "        \"parentDiaSourceId\",\n",
    "    ]\n",
    "]"
   ]
  },
  {
   "cell_type": "code",
   "execution_count": null,
   "id": "d9416455-e1cc-431c-a1c4-a2a5d88981b4",
   "metadata": {},
   "outputs": [],
   "source": []
  }
 ],
 "metadata": {
  "kernelspec": {
   "display_name": "LSST",
   "language": "python",
   "name": "lsst"
  },
  "language_info": {
   "codemirror_mode": {
    "name": "ipython",
    "version": 3
   },
   "file_extension": ".py",
   "mimetype": "text/x-python",
   "name": "python",
   "nbconvert_exporter": "python",
   "pygments_lexer": "ipython3",
   "version": "3.12.9"
  }
 },
 "nbformat": 4,
 "nbformat_minor": 5
}
