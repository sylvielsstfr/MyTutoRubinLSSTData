{
 "cells": [
  {
   "cell_type": "markdown",
   "id": "adda26b1-7594-48da-94d2-6722bd71353c",
   "metadata": {},
   "source": [
    "# Tuto to Read The sources and Visits and Objects in LSSTComCam"
   ]
  },
  {
   "cell_type": "markdown",
   "id": "1f276e2d-e5e1-4b30-bf3c-4ea950073fad",
   "metadata": {
    "execution": {
     "iopub.execute_input": "2025-04-29T08:48:57.989253Z",
     "iopub.status.busy": "2025-04-29T08:48:57.988923Z",
     "iopub.status.idle": "2025-04-29T08:48:57.993268Z",
     "shell.execute_reply": "2025-04-29T08:48:57.992764Z",
     "shell.execute_reply.started": "2025-04-29T08:48:57.989226Z"
    }
   },
   "source": [
    "- author : Sylvie Dagoret-Campagne\n",
    "- affiliation : IJCLab/IN2P3/CNRS\n",
    "- member : DESC, rubin-inkind\n",
    "- creation date : 2025-05-03\n",
    "- last update : 2025-05-03"
   ]
  },
  {
   "cell_type": "markdown",
   "id": "81c11161-2bd4-4317-812a-f246f3f70d81",
   "metadata": {},
   "source": [
    "## Note on work done on LSSTComCam Commissioning : https://sitcomtn-149.lsst.io/\n",
    "## Note Data Product definition Document : https://lse-163.lsst.io/"
   ]
  },
  {
   "cell_type": "code",
   "execution_count": null,
   "id": "72f36e25-589c-4a8c-865f-8b51f5f35270",
   "metadata": {
    "execution": {
     "iopub.execute_input": "2025-05-03T14:59:08.599358Z",
     "iopub.status.busy": "2025-05-03T14:59:08.599240Z",
     "iopub.status.idle": "2025-05-03T14:59:09.654525Z",
     "shell.execute_reply": "2025-05-03T14:59:09.654003Z",
     "shell.execute_reply.started": "2025-05-03T14:59:08.599343Z"
    }
   },
   "outputs": [],
   "source": [
    "import sys, os, glob\n",
    "import matplotlib.pyplot as plt\n",
    "import lsst.afw.display as afwDisplay\n",
    "import numpy as np\n",
    "import pandas as pd\n",
    "from astropy.time import Time\n",
    "# %matplotlib widget"
   ]
  },
  {
   "cell_type": "code",
   "execution_count": null,
   "id": "42897fba-1ca4-4f20-837d-bd7478ac4548",
   "metadata": {
    "execution": {
     "iopub.execute_input": "2025-05-03T14:59:09.656921Z",
     "iopub.status.busy": "2025-05-03T14:59:09.656784Z",
     "iopub.status.idle": "2025-05-03T14:59:09.684711Z",
     "shell.execute_reply": "2025-05-03T14:59:09.684264Z",
     "shell.execute_reply.started": "2025-05-03T14:59:09.656905Z"
    }
   },
   "outputs": [],
   "source": [
    "import lsst.geom as geom\n",
    "from lsst.geom import SpherePoint, degrees, Point2D, Point2I\n",
    "from lsst.skymap import PatchInfo, Index2D"
   ]
  },
  {
   "cell_type": "code",
   "execution_count": null,
   "id": "f2580923-bf82-4204-a50d-c64eb56b9f06",
   "metadata": {
    "execution": {
     "iopub.execute_input": "2025-05-03T14:59:09.685417Z",
     "iopub.status.busy": "2025-05-03T14:59:09.685262Z",
     "iopub.status.idle": "2025-05-03T14:59:09.688044Z",
     "shell.execute_reply": "2025-05-03T14:59:09.687654Z",
     "shell.execute_reply.started": "2025-05-03T14:59:09.685400Z"
    }
   },
   "outputs": [],
   "source": [
    "plt.rcParams[\"figure.figsize\"] = (10, 6)\n",
    "plt.rcParams[\"axes.labelsize\"] = \"x-large\"\n",
    "plt.rcParams[\"axes.titlesize\"] = \"x-large\"\n",
    "plt.rcParams[\"xtick.labelsize\"] = \"x-large\"\n",
    "plt.rcParams[\"ytick.labelsize\"] = \"x-large\""
   ]
  },
  {
   "cell_type": "code",
   "execution_count": null,
   "id": "d47f09df-7496-431c-b4ae-4fb75a3c6ef9",
   "metadata": {
    "execution": {
     "iopub.execute_input": "2025-05-03T14:59:09.688832Z",
     "iopub.status.busy": "2025-05-03T14:59:09.688507Z",
     "iopub.status.idle": "2025-05-03T14:59:09.808696Z",
     "shell.execute_reply": "2025-05-03T14:59:09.808282Z",
     "shell.execute_reply.started": "2025-05-03T14:59:09.688817Z"
    }
   },
   "outputs": [],
   "source": [
    "import gc"
   ]
  },
  {
   "cell_type": "code",
   "execution_count": null,
   "id": "1a1a267b-58c7-468a-a336-2c8def253a79",
   "metadata": {
    "execution": {
     "iopub.execute_input": "2025-05-03T14:59:09.809279Z",
     "iopub.status.busy": "2025-05-03T14:59:09.809150Z",
     "iopub.status.idle": "2025-05-03T14:59:09.820121Z",
     "shell.execute_reply": "2025-05-03T14:59:09.819748Z",
     "shell.execute_reply.started": "2025-05-03T14:59:09.809266Z"
    }
   },
   "outputs": [],
   "source": [
    "import traceback"
   ]
  },
  {
   "cell_type": "code",
   "execution_count": null,
   "id": "ede21bda-146f-4c77-aa40-edf2debfbfc0",
   "metadata": {
    "execution": {
     "iopub.execute_input": "2025-05-03T14:59:09.820734Z",
     "iopub.status.busy": "2025-05-03T14:59:09.820607Z",
     "iopub.status.idle": "2025-05-03T14:59:10.795753Z",
     "shell.execute_reply": "2025-05-03T14:59:10.795252Z",
     "shell.execute_reply.started": "2025-05-03T14:59:09.820722Z"
    }
   },
   "outputs": [],
   "source": [
    "# Define butler\n",
    "from lsst.daf.butler import Butler"
   ]
  },
  {
   "cell_type": "code",
   "execution_count": null,
   "id": "c7ab7fe3-285d-48c2-973a-2dde9d0a7faa",
   "metadata": {
    "execution": {
     "iopub.execute_input": "2025-05-03T14:59:10.796441Z",
     "iopub.status.busy": "2025-05-03T14:59:10.796298Z",
     "iopub.status.idle": "2025-05-03T14:59:11.476419Z",
     "shell.execute_reply": "2025-05-03T14:59:11.475832Z",
     "shell.execute_reply.started": "2025-05-03T14:59:10.796427Z"
    }
   },
   "outputs": [],
   "source": [
    "!eups list lsst_distrib"
   ]
  },
  {
   "cell_type": "code",
   "execution_count": null,
   "id": "dbe3a976-0df1-4b45-8774-fd985a847821",
   "metadata": {
    "execution": {
     "iopub.execute_input": "2025-05-03T14:59:11.477299Z",
     "iopub.status.busy": "2025-05-03T14:59:11.477144Z",
     "iopub.status.idle": "2025-05-03T14:59:11.481508Z",
     "shell.execute_reply": "2025-05-03T14:59:11.481088Z",
     "shell.execute_reply.started": "2025-05-03T14:59:11.477282Z"
    }
   },
   "outputs": [],
   "source": [
    "def select_visits_in_patch(df, tractInfo, patchInfo):\n",
    "    \"\"\"\n",
    "    Sélectionne les lignes du DataFrame correspondant à des visites dans un patch donné.\n",
    "\n",
    "    Paramètres\n",
    "    ----------\n",
    "    df : pandas.DataFrame\n",
    "        Doit contenir les colonnes 'ra' et 'dec' en degrés.\n",
    "    tractInfo : lsst.skymap.TractInfo\n",
    "    patchInfo : lsst.skymap.PatchInfo\n",
    "\n",
    "    Retourne\n",
    "    --------\n",
    "    df_filtered : pandas.DataFrame\n",
    "        Les lignes du DataFrame dont les RA/Dec sont dans le patch spécifié.\n",
    "    \"\"\"\n",
    "    wcs = tractInfo.getWcs()\n",
    "    bbox = patchInfo.getOuterBBox()\n",
    "\n",
    "    def is_inside_patch(ra, dec):\n",
    "        coord = SpherePoint(ra * degrees, dec * degrees)\n",
    "        if not tractInfo.contains(coord):\n",
    "            return False\n",
    "        pix = wcs.skyToPixel(coord)\n",
    "        return bbox.contains(Point2I(pix))\n",
    "\n",
    "    mask = df.apply(lambda row: is_inside_patch(row[\"ra\"], row[\"dec\"]), axis=1)\n",
    "    return df[mask].copy()"
   ]
  },
  {
   "cell_type": "code",
   "execution_count": null,
   "id": "b207720f-9aaf-40d0-b572-c582cddb35d6",
   "metadata": {
    "execution": {
     "iopub.execute_input": "2025-05-03T14:59:11.482118Z",
     "iopub.status.busy": "2025-05-03T14:59:11.481983Z",
     "iopub.status.idle": "2025-05-03T14:59:11.493337Z",
     "shell.execute_reply": "2025-05-03T14:59:11.492961Z",
     "shell.execute_reply.started": "2025-05-03T14:59:11.482105Z"
    }
   },
   "outputs": [],
   "source": [
    "# Tested but long\n",
    "def assign_tract_patch(df, skyMap):\n",
    "    \"\"\"\n",
    "    Attribue (tract, patch) à chaque ligne d’un DataFrame selon ses coordonnées célestes.\n",
    "\n",
    "    Paramètres\n",
    "    ----------\n",
    "    df : pandas.DataFrame\n",
    "        Doit contenir les colonnes 'ra' et 'dec' (en degrés).\n",
    "    skyMap : lsst.skymap.SkyMap\n",
    "        Obtenu via butler.get(\"skyMap\")\n",
    "\n",
    "    Retour\n",
    "    ------\n",
    "    df_result : pandas.DataFrame\n",
    "        DataFrame original avec deux colonnes supplémentaires :\n",
    "        'tract' et 'patch' (tuple (x, y) ou None si hors carte).\n",
    "    \"\"\"\n",
    "\n",
    "    def find_tract_patch(ra, dec):\n",
    "        coord = SpherePoint(ra * degrees, dec * degrees)\n",
    "        for tractInfo in skyMap:\n",
    "            if tractInfo.contains(coord):\n",
    "                wcs = tractInfo.getWcs()\n",
    "                pix = wcs.skyToPixel(coord)\n",
    "                point = Point2I(pix)\n",
    "                for patchInfo in tractInfo:\n",
    "                    if patchInfo.getOuterBBox().contains(point):\n",
    "                        return tractInfo.getId(), patchInfo.getSequentialIndex()\n",
    "        return None, None\n",
    "\n",
    "    results = df.apply(lambda row: find_tract_patch(row[\"ra\"], row[\"dec\"]), axis=1)\n",
    "    df[[\"tract\", \"patch\"]] = pd.DataFrame(results.tolist(), index=df.index)\n",
    "    return df"
   ]
  },
  {
   "cell_type": "code",
   "execution_count": null,
   "id": "c537827d-6be7-47ef-8363-5e85cb2cde5f",
   "metadata": {
    "execution": {
     "iopub.execute_input": "2025-05-03T14:59:11.493912Z",
     "iopub.status.busy": "2025-05-03T14:59:11.493784Z",
     "iopub.status.idle": "2025-05-03T14:59:11.502307Z",
     "shell.execute_reply": "2025-05-03T14:59:11.501938Z",
     "shell.execute_reply.started": "2025-05-03T14:59:11.493900Z"
    }
   },
   "outputs": [],
   "source": [
    "# Not tested\n",
    "def filter_in_patch_vectorized(df, tractInfo, patchInfo):\n",
    "    \"\"\"\n",
    "    Sélection rapide (vectorisée) d’un sous-ensemble RA/Dec inclus dans un patch donné.\n",
    "\n",
    "    Attention : plus rapide, mais approximatif si les coordonnées sont très en bordure.\n",
    "\n",
    "    Paramètres\n",
    "    ----------\n",
    "    df : pandas.DataFrame avec colonnes 'ra', 'dec'\n",
    "    tractInfo : TractInfo\n",
    "    patchInfo : PatchInfo\n",
    "\n",
    "    Retour\n",
    "    ------\n",
    "    df_filtered : pandas.DataFrame\n",
    "    \"\"\"\n",
    "    wcs = tractInfo.getWcs()\n",
    "    bbox = patchInfo.getOuterBBox()\n",
    "\n",
    "    # Conversion RA/Dec → radians\n",
    "    ra_rad = np.deg2rad(df[\"ra\"].values)\n",
    "    dec_rad = np.deg2rad(df[\"dec\"].values)\n",
    "\n",
    "    # Conversion → Point2D (skyToPixel produit Point2D, pas Point2I)\n",
    "    pix_x = []\n",
    "    pix_y = []\n",
    "    for ra, dec in zip(ra_rad, dec_rad):\n",
    "        sp = SpherePoint(ra, dec)\n",
    "        pix = wcs.skyToPixel(sp)\n",
    "        pix_x.append(pix.getX())\n",
    "        pix_y.append(pix.getY())\n",
    "\n",
    "    pix_x = np.array(pix_x)\n",
    "    pix_y = np.array(pix_y)\n",
    "\n",
    "    # BBox (xmin, xmax, ymin, ymax)\n",
    "    xmin, xmax = bbox.getMinX(), bbox.getMaxX()\n",
    "    ymin, ymax = bbox.getMinY(), bbox.getMaxY()\n",
    "\n",
    "    # Masque vectoriel\n",
    "    mask = (pix_x >= xmin) & (pix_x <= xmax) & (pix_y >= ymin) & (pix_y <= ymax)\n",
    "\n",
    "    return df[mask].copy()"
   ]
  },
  {
   "cell_type": "markdown",
   "id": "7e369002-01db-40e2-a7b7-036072114e6a",
   "metadata": {},
   "source": [
    "## RubinTV, Campaigns , quicklook\n",
    "- RubinTV : https://usdf-rsp.slac.stanford.edu/rubintv/summit-usdf/lsstcam\n",
    "- https://rubinobs.atlassian.net/wiki/spaces/LSSTCOM/pages/467370016/LSSTCam+Commissioning+Planning\n",
    "- LSSTCam DM campaign : https://rubinobs.atlassian.net/wiki/spaces/DM/pages/48834013/Campaigns#1.1.2.-LSSTCam-Nightly-Validation-Pipeline\n",
    "- Check campaign also here  https://rubinobs.atlassian.net/wiki/pages/diffpagesbyversion.action?pageId=48834013&selectedPageVersions=145%2C143\n",
    "- fov-quicklook : https://usdf-rsp-dev.slac.stanford.edu/fov-quicklook/"
   ]
  },
  {
   "cell_type": "markdown",
   "id": "4ce495c8-71a6-4846-86fc-5715e13348ab",
   "metadata": {},
   "source": [
    "## Configuration"
   ]
  },
  {
   "cell_type": "code",
   "execution_count": null,
   "id": "91e7b166-6245-4e54-8cb1-21f34fbba78f",
   "metadata": {
    "execution": {
     "iopub.execute_input": "2025-05-03T14:59:11.503066Z",
     "iopub.status.busy": "2025-05-03T14:59:11.502742Z",
     "iopub.status.idle": "2025-05-03T14:59:11.515320Z",
     "shell.execute_reply": "2025-05-03T14:59:11.514908Z",
     "shell.execute_reply.started": "2025-05-03T14:59:11.503053Z"
    }
   },
   "outputs": [],
   "source": [
    "FLAG_DUMP_COLLECTIONS = False\n",
    "FLAG_DUMP_DATASETS = False\n",
    "FLAG_DUMP_OBJECTSTABLECOLUMNS = False\n",
    "FLAG_DUMP_VISITTABLEECOLUMNS = False\n",
    "FLAG_COMPUTE_VISITSTRACTSPATCHS = False"
   ]
  },
  {
   "cell_type": "code",
   "execution_count": null,
   "id": "566b4b6f-68ac-472f-9a14-9645d06d291a",
   "metadata": {
    "execution": {
     "iopub.execute_input": "2025-05-03T14:59:11.515840Z",
     "iopub.status.busy": "2025-05-03T14:59:11.515716Z",
     "iopub.status.idle": "2025-05-03T14:59:11.527040Z",
     "shell.execute_reply": "2025-05-03T14:59:11.526703Z",
     "shell.execute_reply.started": "2025-05-03T14:59:11.515828Z"
    }
   },
   "outputs": [],
   "source": [
    "all_bands = [\"u\", \"g\", \"r\", \"i\", \"z\", \"y\"]"
   ]
  },
  {
   "cell_type": "markdown",
   "id": "29bdd60b-f237-4a90-8aee-95f83091a5c8",
   "metadata": {},
   "source": [
    "### Choose instrument"
   ]
  },
  {
   "cell_type": "code",
   "execution_count": null,
   "id": "66ff700b-a6ab-4b6d-ab28-dfadf54fdd9f",
   "metadata": {
    "execution": {
     "iopub.execute_input": "2025-05-03T14:59:11.527575Z",
     "iopub.status.busy": "2025-05-03T14:59:11.527446Z",
     "iopub.status.idle": "2025-05-03T14:59:11.543054Z",
     "shell.execute_reply": "2025-05-03T14:59:11.542716Z",
     "shell.execute_reply.started": "2025-05-03T14:59:11.527563Z"
    }
   },
   "outputs": [],
   "source": [
    "# instrument = \"LSSTCam\"\n",
    "\n",
    "# We focus here on sky fields oberved by LSSTComCam, so we select this camera\n",
    "instrument = \"LSSTComCam\""
   ]
  },
  {
   "cell_type": "markdown",
   "id": "6a07464c-6f2e-4015-8ea6-1fbc5698c1dd",
   "metadata": {},
   "source": [
    "### Choose options"
   ]
  },
  {
   "cell_type": "markdown",
   "id": "29fc15af-ca3f-4c38-99ec-433e84dae8a2",
   "metadata": {},
   "source": [
    "### For LSSTCam : RubinTV, Campaigns , quicklook\n",
    "- RubinTV : https://usdf-rsp.slac.stanford.edu/rubintv/summit-usdf/lsstcam\n",
    "- https://rubinobs.atlassian.net/wiki/spaces/LSSTCOM/pages/467370016/LSSTCam+Commissioning+Planning\n",
    "- LSSTCam DM campaign : https://rubinobs.atlassian.net/wiki/spaces/DM/pages/48834013/Campaigns#1.1.2.-LSSTCam-Nightly-Validation-Pipeline\n",
    "- Check campaign also here  https://rubinobs.atlassian.net/wiki/pages/diffpagesbyversion.action?pageId=48834013&selectedPageVersions=145%2C143\n",
    "- fov-quicklook : https://usdf-rsp-dev.slac.stanford.edu/fov-quicklook/"
   ]
  },
  {
   "cell_type": "markdown",
   "id": "5542de7d-695e-4256-b765-28b902b02adc",
   "metadata": {},
   "source": [
    "### For LSSTComCam check here : \n",
    "- Check here the collection available : https://rubinobs.atlassian.net/wiki/spaces/DM/pages/226656354/LSSTComCam+Intermittent+Cumulative+DRP+Runs"
   ]
  },
  {
   "cell_type": "code",
   "execution_count": null,
   "id": "eacb14b0-183c-4dcd-ba59-64c7ca3efcd3",
   "metadata": {
    "execution": {
     "iopub.execute_input": "2025-05-03T14:59:11.543719Z",
     "iopub.status.busy": "2025-05-03T14:59:11.543593Z",
     "iopub.status.idle": "2025-05-03T14:59:11.563857Z",
     "shell.execute_reply": "2025-05-03T14:59:11.563459Z",
     "shell.execute_reply.started": "2025-05-03T14:59:11.543707Z"
    }
   },
   "outputs": [],
   "source": [
    "if instrument == \"LSSTCam\":\n",
    "    repo = \"/repo/embargo\"\n",
    "    instrument = \"LSSTCam\"\n",
    "    collection_validation = instrument + \"/runs/nightlyValidation\"\n",
    "    # collection_quicklook   = instrument + '/runs/quickLookTesting'\n",
    "    collection_validation = os.path.join(collection_validation, \"20250416/d_2025_04_15/DM-50157\")\n",
    "    date_start = 20250415\n",
    "    date_selection = 20250416\n",
    "    where_clause = \"instrument = '\" + f\"{instrument}\" + \"'\"\n",
    "    where_clause_instrument = \"instrument = '\" + instrument + \"'\"\n",
    "    where_clause_date = where_clause + f\"and day_obs >= {date_start}\"\n",
    "    skymapName = \"lsst_cells_v1\"\n",
    "    BANDSEL = \"i\"\n",
    "\n",
    "elif instrument == \"LSSTComCam\":\n",
    "    repo = \"/repo/main\"\n",
    "    collection_validation = \"LSSTComCam/runs/DRP/DP1/w_2025_10/DM-49359\"  # work 2025-05-01\n",
    "    # collection_validation = \"LSSTComCam/runs/DRP/DP1/w_2025_17/DM-50530\" #updated 2025-05-02\n",
    "    date_start = 20241024\n",
    "    date_selection = 20241211\n",
    "    skymapName = \"lsst_cells_v1\"\n",
    "    where_clause = \"instrument = '\" + instrument + \"'\"\n",
    "    where_clause_instrument = \"instrument = '\" + instrument + \"'\"\n",
    "    where_clause_date = where_clause + f\"and day_obs >= {date_start}\"\n",
    "\n",
    "    NDET = 9\n",
    "    TRACTSEL = 5063\n",
    "    BANDSEL = \"i\""
   ]
  },
  {
   "cell_type": "code",
   "execution_count": null,
   "id": "82535307-9253-4f06-b82a-956efd0217c9",
   "metadata": {
    "execution": {
     "iopub.execute_input": "2025-05-03T14:59:11.564390Z",
     "iopub.status.busy": "2025-05-03T14:59:11.564272Z",
     "iopub.status.idle": "2025-05-03T14:59:11.581186Z",
     "shell.execute_reply": "2025-05-03T14:59:11.580788Z",
     "shell.execute_reply.started": "2025-05-03T14:59:11.564378Z"
    }
   },
   "outputs": [],
   "source": [
    "collectionStr = collection_validation.replace(\"/\", \"_\")"
   ]
  },
  {
   "cell_type": "markdown",
   "id": "e77a39ca-c34f-4097-8a11-c40a121a82e9",
   "metadata": {},
   "source": [
    "## Access to Butler registry"
   ]
  },
  {
   "cell_type": "code",
   "execution_count": null,
   "id": "8726b7e4-94b7-48ac-92f8-447b34b7a59e",
   "metadata": {
    "execution": {
     "iopub.execute_input": "2025-05-03T14:59:11.581771Z",
     "iopub.status.busy": "2025-05-03T14:59:11.581649Z",
     "iopub.status.idle": "2025-05-03T14:59:11.961633Z",
     "shell.execute_reply": "2025-05-03T14:59:11.961103Z",
     "shell.execute_reply.started": "2025-05-03T14:59:11.581759Z"
    }
   },
   "outputs": [],
   "source": [
    "# Initialize the butler repo:\n",
    "butler = Butler(repo, collections=collection_validation)\n",
    "registry = butler.registry"
   ]
  },
  {
   "cell_type": "markdown",
   "id": "a82d1397-cd01-45d3-9f39-8b4f6bcbb21f",
   "metadata": {},
   "source": [
    "## Create a skymap object and Camera"
   ]
  },
  {
   "cell_type": "code",
   "execution_count": null,
   "id": "2a570834-a5dc-43b8-a0d3-af71a5b2706c",
   "metadata": {
    "execution": {
     "iopub.execute_input": "2025-05-03T14:59:11.962325Z",
     "iopub.status.busy": "2025-05-03T14:59:11.962182Z",
     "iopub.status.idle": "2025-05-03T14:59:12.384481Z",
     "shell.execute_reply": "2025-05-03T14:59:12.383997Z",
     "shell.execute_reply.started": "2025-05-03T14:59:11.962310Z"
    }
   },
   "outputs": [],
   "source": [
    "skymap = butler.get(\"skyMap\", skymap=skymapName, collections=collection_validation)"
   ]
  },
  {
   "cell_type": "code",
   "execution_count": null,
   "id": "8870762e-6e5d-4a6d-b101-1783285b1935",
   "metadata": {
    "execution": {
     "iopub.execute_input": "2025-05-03T14:59:12.385142Z",
     "iopub.status.busy": "2025-05-03T14:59:12.385002Z",
     "iopub.status.idle": "2025-05-03T14:59:12.885055Z",
     "shell.execute_reply": "2025-05-03T14:59:12.884571Z",
     "shell.execute_reply.started": "2025-05-03T14:59:12.385128Z"
    }
   },
   "outputs": [],
   "source": [
    "camera = butler.get(\"camera\", collections=collection_validation, instrument=instrument)"
   ]
  },
  {
   "cell_type": "markdown",
   "id": "f0e61f09-1f15-4f29-9555-d4015b09c5cc",
   "metadata": {},
   "source": [
    "## Query for collections in Butler\n",
    "\n",
    "- remove user collections\n",
    "- remove calibration products"
   ]
  },
  {
   "cell_type": "code",
   "execution_count": null,
   "id": "55edfcaa-96c0-49dc-827c-0167a0b6f731",
   "metadata": {
    "execution": {
     "iopub.execute_input": "2025-05-03T14:59:12.888602Z",
     "iopub.status.busy": "2025-05-03T14:59:12.888456Z",
     "iopub.status.idle": "2025-05-03T14:59:12.891352Z",
     "shell.execute_reply": "2025-05-03T14:59:12.890944Z",
     "shell.execute_reply.started": "2025-05-03T14:59:12.888588Z"
    }
   },
   "outputs": [],
   "source": [
    "# mostly setup for LSSTCam\n",
    "if FLAG_DUMP_COLLECTIONS:\n",
    "    for _ in sorted(registry.queryCollections(expression=instrument + \"/*\")):\n",
    "        if \"/calib/\" not in _ and \"u/\" not in _:\n",
    "            print(_)"
   ]
  },
  {
   "cell_type": "markdown",
   "id": "3ff90940-a996-4174-97b4-beb8895ae7a4",
   "metadata": {},
   "source": [
    "## Query for the dataset types in the Butler\n",
    "\n",
    "- Refer to the Data Product definition Document to know about the definition of datasets\n",
    "- https://www.lsst.org/about/dm/data-products\n",
    "- https://lse-163.lsst.io/\n",
    "- https://docushare.lsst.org/docushare/dsweb/Get/LSE-163"
   ]
  },
  {
   "cell_type": "code",
   "execution_count": null,
   "id": "4c411a6c-6a67-437e-86d6-720e4d5a4a4b",
   "metadata": {
    "execution": {
     "iopub.execute_input": "2025-05-03T14:59:12.891924Z",
     "iopub.status.busy": "2025-05-03T14:59:12.891794Z",
     "iopub.status.idle": "2025-05-03T14:59:12.916008Z",
     "shell.execute_reply": "2025-05-03T14:59:12.915601Z",
     "shell.execute_reply.started": "2025-05-03T14:59:12.891912Z"
    }
   },
   "outputs": [],
   "source": [
    "if FLAG_DUMP_DATASETS:\n",
    "    for datasetType in registry.queryDatasetTypes():\n",
    "        if registry.queryDatasets(datasetType, collections=collection_validation).any(\n",
    "            execute=False, exact=False\n",
    "        ):\n",
    "            # Limit search results to the data products\n",
    "            if (\n",
    "                (\"_config\" not in datasetType.name)\n",
    "                and (\"_log\" not in datasetType.name)\n",
    "                and (\"_metadata\" not in datasetType.name)\n",
    "                and (\"_resource_usage\" not in datasetType.name)\n",
    "                and (\"Plot\" not in datasetType.name)\n",
    "                and (\"Metric\" not in datasetType.name)\n",
    "                and (\"metric\" not in datasetType.name)\n",
    "            ):\n",
    "                if \"object\" in datasetType.name or \"Obj\" in datasetType.name:\n",
    "                    print(datasetType)\n",
    "                if \"source\" in datasetType.name or \"Source\" in datasetType.name:\n",
    "                    print(datasetType)\n",
    "                if \"visit\" in datasetType.name or \"Visit\" in datasetType.name:\n",
    "                    print(datasetType)"
   ]
  },
  {
   "cell_type": "markdown",
   "id": "f78111e1-238c-4641-b3c1-0faebbbb89b1",
   "metadata": {},
   "source": [
    "## Region of interest"
   ]
  },
  {
   "cell_type": "code",
   "execution_count": null,
   "id": "6d0b6ebe-24c0-4046-9657-7187929a5f9a",
   "metadata": {
    "execution": {
     "iopub.execute_input": "2025-05-03T14:59:12.916587Z",
     "iopub.status.busy": "2025-05-03T14:59:12.916454Z",
     "iopub.status.idle": "2025-05-03T14:59:12.927558Z",
     "shell.execute_reply": "2025-05-03T14:59:12.927175Z",
     "shell.execute_reply.started": "2025-05-03T14:59:12.916574Z"
    }
   },
   "outputs": [],
   "source": [
    "lsstcomcam_targets = {}\n",
    "lsstcomcam_targets[\"47 Tuc\"] = {\"field_name\": \"47 Tuc Globular Cluster\", \"ra\": 6.02, \"dec\": -72.08}\n",
    "lsstcomcam_targets[\"Rubin SV 38 7\"] = {\"field_name\": \"Low Ecliptic Latitude Field\", \"ra\": 37.86, \"dec\": 6.98}\n",
    "lsstcomcam_targets[\"Fornax dSph\"] = {\n",
    "    \"field_name\": \"Fornax Dwarf Spheroidal Galaxy\",\n",
    "    \"ra\": 40.0,\n",
    "    \"dec\": -34.45,\n",
    "}\n",
    "lsstcomcam_targets[\"ECDFS\"] = {\"field_name\": \"Extended Chandra Deep Field South\", \"ra\": 53.13, \"dec\": -28.10}\n",
    "lsstcomcam_targets[\"EDFS\"] = {\"field_name\": \"Euclid Deep Field South\", \"ra\": 59.10, \"dec\": -48.73}\n",
    "lsstcomcam_targets[\"Rubin SV 95 -25\"] = {\n",
    "    \"field_name\": \"Low Galactic Latitude Field\",\n",
    "    \"ra\": 95.00,\n",
    "    \"dec\": -25.0,\n",
    "}\n",
    "lsstcomcam_targets[\"Seagull\"] = {\"field_name\": \"Seagull Nebula\", \"ra\": 106.23, \"dec\": -10.51}"
   ]
  },
  {
   "cell_type": "code",
   "execution_count": null,
   "id": "2fdc2905-3fd5-485e-a66b-56927d3de02f",
   "metadata": {
    "execution": {
     "iopub.execute_input": "2025-05-03T14:59:12.928152Z",
     "iopub.status.busy": "2025-05-03T14:59:12.928016Z",
     "iopub.status.idle": "2025-05-03T14:59:12.945057Z",
     "shell.execute_reply": "2025-05-03T14:59:12.944706Z",
     "shell.execute_reply.started": "2025-05-03T14:59:12.928140Z"
    }
   },
   "outputs": [],
   "source": [
    "# the_target = lsstcomcam_targets[\"Seagull\"]\n",
    "# the_target = lsstcomcam_targets[\"47 Tuc\"] # bad\n",
    "# the_target = lsstcomcam_targets[\"Fornax dSph\"]\n",
    "# the_target = lsstcomcam_targets[\"ECDFS\"]\n",
    "\n",
    "\n",
    "# key = \"Seagull\"\n",
    "# key = \"Fornax dSph\"\n",
    "key = \"ECDFS\"\n",
    "# key = \"EDFS\"\n",
    "# key = \"47 Tuc\"\n",
    "# key = \"Rubin SV 38 7\"\n",
    "# key = \"Rubin SV 95 -25\"\n",
    "\n",
    "keyfield = \"\".join(key.split())\n",
    "\n",
    "the_target = lsstcomcam_targets[key]\n",
    "target_ra = the_target[\"ra\"]\n",
    "target_dec = the_target[\"dec\"]\n",
    "target_title = (\n",
    "    the_target[\"field_name\"] + f\" band  {BANDSEL} \" + f\" (ra,dec) = ({target_ra:.2f},{target_dec:.2f}) \"\n",
    ")\n",
    "target_point = SpherePoint(target_ra, target_dec, degrees)"
   ]
  },
  {
   "cell_type": "markdown",
   "id": "5097cdde-6283-4499-aaaa-57e799bdd53a",
   "metadata": {},
   "source": [
    "## Get list of tracts from the objectTable_tract"
   ]
  },
  {
   "cell_type": "code",
   "execution_count": null,
   "id": "3560cdd4-3d7e-4325-a3f5-07a0d70a8360",
   "metadata": {
    "execution": {
     "iopub.execute_input": "2025-05-03T14:59:12.945656Z",
     "iopub.status.busy": "2025-05-03T14:59:12.945526Z",
     "iopub.status.idle": "2025-05-03T14:59:12.961849Z",
     "shell.execute_reply": "2025-05-03T14:59:12.961442Z",
     "shell.execute_reply.started": "2025-05-03T14:59:12.945644Z"
    }
   },
   "outputs": [],
   "source": [
    "# Find the dimension\n",
    "print(butler.registry.getDatasetType(\"objectTable_tract\").dimensions)"
   ]
  },
  {
   "cell_type": "code",
   "execution_count": null,
   "id": "e07d2107-8c9e-485e-89bc-ec6e52fa10f4",
   "metadata": {
    "execution": {
     "iopub.execute_input": "2025-05-03T14:59:12.962442Z",
     "iopub.status.busy": "2025-05-03T14:59:12.962309Z",
     "iopub.status.idle": "2025-05-03T14:59:13.046990Z",
     "shell.execute_reply": "2025-05-03T14:59:13.046538Z",
     "shell.execute_reply.started": "2025-05-03T14:59:12.962428Z"
    }
   },
   "outputs": [],
   "source": [
    "datasettype = \"objectTable_tract\"\n",
    "therefs = butler.registry.queryDatasets(datasettype, collections=collection_validation)\n",
    "tractsId_list = np.unique([ref.dataId[\"tract\"] for ref in therefs])\n",
    "tractsId_list = sorted(tractsId_list)\n",
    "print(tractsId_list)"
   ]
  },
  {
   "cell_type": "markdown",
   "id": "f060f57d-ac96-4ec7-8a94-f760e118248a",
   "metadata": {},
   "source": [
    "## Find the Tract and Patch of the region of interest\n",
    "\n",
    "- tract in tractNbSel\n",
    "- patch in patchNbSel"
   ]
  },
  {
   "cell_type": "code",
   "execution_count": null,
   "id": "ea99cc96-a0bf-4dec-9418-895e5569688b",
   "metadata": {
    "execution": {
     "iopub.execute_input": "2025-05-03T14:59:13.047657Z",
     "iopub.status.busy": "2025-05-03T14:59:13.047519Z",
     "iopub.status.idle": "2025-05-03T14:59:13.053478Z",
     "shell.execute_reply": "2025-05-03T14:59:13.053095Z",
     "shell.execute_reply.started": "2025-05-03T14:59:13.047643Z"
    }
   },
   "outputs": [],
   "source": [
    "tract_info = skymap.findTract(target_point)\n",
    "patch_info = tract_info.findPatch(target_point)\n",
    "bbox = patch_info.getOuterBBox()\n",
    "\n",
    "print(\"Patch bounding box:\", bbox)\n",
    "\n",
    "print(\"Tract ID :\", tract_info.getId())\n",
    "tractNbSel = tract_info.getId()\n",
    "\n",
    "print(\"Patch Index :\", patch_info.getIndex(), \" , \", patch_info.getSequentialIndex())  # (x, y)\n",
    "print(\"Bounding Box\", bbox)\n",
    "\n",
    "patchNbSel = patch_info.getSequentialIndex()"
   ]
  },
  {
   "cell_type": "code",
   "execution_count": null,
   "id": "e1df364f-89a7-4a94-9541-89a05d75004c",
   "metadata": {
    "execution": {
     "iopub.execute_input": "2025-05-03T14:59:13.054027Z",
     "iopub.status.busy": "2025-05-03T14:59:13.053898Z",
     "iopub.status.idle": "2025-05-03T14:59:13.067522Z",
     "shell.execute_reply": "2025-05-03T14:59:13.067175Z",
     "shell.execute_reply.started": "2025-05-03T14:59:13.054014Z"
    }
   },
   "outputs": [],
   "source": [
    "dataId = {\"band\": BANDSEL, \"tract\": tractNbSel, \"patch\": patchNbSel, \"skymap\": skymapName}"
   ]
  },
  {
   "cell_type": "markdown",
   "id": "131ff71d-cee0-4141-ac33-c8f33758a584",
   "metadata": {},
   "source": [
    "## The Objects\n",
    "\n",
    "- Objects are extracted from object detection on deepcoadds\n",
    "- all bands are included "
   ]
  },
  {
   "cell_type": "code",
   "execution_count": null,
   "id": "da53ac66-c2fc-4b54-a19b-0e6d2def56a9",
   "metadata": {
    "execution": {
     "iopub.execute_input": "2025-05-03T14:59:13.068054Z",
     "iopub.status.busy": "2025-05-03T14:59:13.067925Z",
     "iopub.status.idle": "2025-05-03T14:59:13.079117Z",
     "shell.execute_reply": "2025-05-03T14:59:13.078752Z",
     "shell.execute_reply.started": "2025-05-03T14:59:13.068041Z"
    }
   },
   "outputs": [],
   "source": [
    "print(butler.registry.getDatasetType(\"objectTable\").dimensions)"
   ]
  },
  {
   "cell_type": "code",
   "execution_count": null,
   "id": "3e6b671b-f1c2-48ce-97ea-1eef0fa56cca",
   "metadata": {
    "execution": {
     "iopub.execute_input": "2025-05-03T14:59:13.079677Z",
     "iopub.status.busy": "2025-05-03T14:59:13.079551Z",
     "iopub.status.idle": "2025-05-03T14:59:13.089514Z",
     "shell.execute_reply": "2025-05-03T14:59:13.089166Z",
     "shell.execute_reply.started": "2025-05-03T14:59:13.079665Z"
    }
   },
   "outputs": [],
   "source": [
    "# cannot add a filter on band\n",
    "where_clause_skymap = f\"skymap = '{skymapName}' AND tract = {tractNbSel} AND patch = {patchNbSel}\"\n",
    "print(where_clause)"
   ]
  },
  {
   "cell_type": "code",
   "execution_count": null,
   "id": "064b709e-fd22-453f-a89c-8feeb6a157c7",
   "metadata": {
    "execution": {
     "iopub.execute_input": "2025-05-03T14:59:13.090043Z",
     "iopub.status.busy": "2025-05-03T14:59:13.089917Z",
     "iopub.status.idle": "2025-05-03T14:59:13.658649Z",
     "shell.execute_reply": "2025-05-03T14:59:13.658103Z",
     "shell.execute_reply.started": "2025-05-03T14:59:13.090030Z"
    }
   },
   "outputs": [],
   "source": [
    "dataset_refs = list(\n",
    "    butler.registry.queryDatasets(\"objectTable\", collections=collection_validation, where=where_clause_skymap)\n",
    ")\n",
    "# Récupère un des refs valides\n",
    "Nrefs = len(dataset_refs)\n",
    "print(f\"Number of objectTables : {Nrefs}\")\n",
    "ref = dataset_refs[0]\n",
    "t = butler.get(ref)\n",
    "Nobj = len(t)\n",
    "# del t\n",
    "# gc.collect()\n",
    "print(f\"Total Number of objects {Nobj}\")"
   ]
  },
  {
   "cell_type": "markdown",
   "id": "584463e6-5694-4bfd-a5f3-c0021e8c64bc",
   "metadata": {
    "execution": {
     "iopub.execute_input": "2025-05-01T20:56:43.699655Z",
     "iopub.status.busy": "2025-05-01T20:56:43.699512Z",
     "iopub.status.idle": "2025-05-01T20:56:43.702758Z",
     "shell.execute_reply": "2025-05-01T20:56:43.702457Z",
     "shell.execute_reply.started": "2025-05-01T20:56:43.699640Z"
    }
   },
   "source": [
    "Oui, dans ce type de objectTable, les colonnes comme g_psfFlux, g_kronFlux, g_cModelFlux, etc., sont des flux calibrés (en nJy ou en unité de calibration interne du pipeline). Pour les convertir en magnitudes AB, tu peux utiliser la formule classique :"
   ]
  },
  {
   "cell_type": "code",
   "execution_count": null,
   "id": "069c5c04-af0c-47b3-893d-7c6ccf2c76a1",
   "metadata": {
    "execution": {
     "iopub.execute_input": "2025-05-03T14:59:13.659384Z",
     "iopub.status.busy": "2025-05-03T14:59:13.659236Z",
     "iopub.status.idle": "2025-05-03T14:59:13.662010Z",
     "shell.execute_reply": "2025-05-03T14:59:13.661612Z",
     "shell.execute_reply.started": "2025-05-03T14:59:13.659368Z"
    }
   },
   "outputs": [],
   "source": [
    "# Utilise ref.datasetType.name pour lister les colonnes disponibles\n",
    "if FLAG_DUMP_OBJECTSTABLECOLUMNS:\n",
    "    t_columns = list(butler.get(ref).columns)\n",
    "    print(t_columns)"
   ]
  },
  {
   "cell_type": "code",
   "execution_count": null,
   "id": "7c6648f9-6053-4343-aab6-56cb9648c599",
   "metadata": {
    "execution": {
     "iopub.execute_input": "2025-05-03T14:59:13.662616Z",
     "iopub.status.busy": "2025-05-03T14:59:13.662488Z",
     "iopub.status.idle": "2025-05-03T14:59:13.676594Z",
     "shell.execute_reply": "2025-05-03T14:59:13.676193Z",
     "shell.execute_reply.started": "2025-05-03T14:59:13.662603Z"
    }
   },
   "outputs": [],
   "source": [
    "# La constante 31.4 correspond à la conversion AB standard pour un flux exprimé en nanoJanskys (nJy).\n",
    "# À vérifier selon l’unité exacte utilisée par le pipeline sur ton RSP\n",
    "# (souvent c’est bien nJy, mais ça peut être autre chose si la calibration a été changée).\n",
    "# mag = -2.5 * np.log10(flux) + 31.4"
   ]
  },
  {
   "cell_type": "markdown",
   "id": "b8b79b04-f91f-409c-b914-b9ec41347c6a",
   "metadata": {},
   "source": [
    "## Visits\n",
    "\n",
    "- Visits allows to make a link between a visit id and an observation time, the (ra,dec) of the telescope, the observation time and observation conditions such airmass, exposure time.\n",
    "- This allow us to make a selection of visits for which we can select the sources in the Tract-Patch selected"
   ]
  },
  {
   "cell_type": "code",
   "execution_count": null,
   "id": "6b5410a4-5e85-401f-938d-abfc1c1c9669",
   "metadata": {
    "execution": {
     "iopub.execute_input": "2025-05-03T14:59:13.677168Z",
     "iopub.status.busy": "2025-05-03T14:59:13.677032Z",
     "iopub.status.idle": "2025-05-03T14:59:13.694388Z",
     "shell.execute_reply": "2025-05-03T14:59:13.693921Z",
     "shell.execute_reply.started": "2025-05-03T14:59:13.677156Z"
    }
   },
   "outputs": [],
   "source": [
    "datasettype = \"visitTable\""
   ]
  },
  {
   "cell_type": "code",
   "execution_count": null,
   "id": "0a544046-a5d3-477a-a3ec-648b6e0d0599",
   "metadata": {
    "execution": {
     "iopub.execute_input": "2025-05-03T14:59:13.694947Z",
     "iopub.status.busy": "2025-05-03T14:59:13.694822Z",
     "iopub.status.idle": "2025-05-03T14:59:13.712653Z",
     "shell.execute_reply": "2025-05-03T14:59:13.712252Z",
     "shell.execute_reply.started": "2025-05-03T14:59:13.694934Z"
    }
   },
   "outputs": [],
   "source": [
    "print(butler.registry.getDatasetType(datasettype).dimensions)\n",
    "print(where_clause_instrument)"
   ]
  },
  {
   "cell_type": "code",
   "execution_count": null,
   "id": "5620c35c-e25d-4dc8-bf07-e9c60f9421df",
   "metadata": {
    "execution": {
     "iopub.execute_input": "2025-05-03T14:59:13.713220Z",
     "iopub.status.busy": "2025-05-03T14:59:13.713095Z",
     "iopub.status.idle": "2025-05-03T14:59:13.852397Z",
     "shell.execute_reply": "2025-05-03T14:59:13.851890Z",
     "shell.execute_reply.started": "2025-05-03T14:59:13.713206Z"
    }
   },
   "outputs": [],
   "source": [
    "dataset_refs = list(\n",
    "    butler.registry.queryDatasets(\n",
    "        datasettype, collections=collection_validation, where=where_clause_instrument\n",
    "    )\n",
    ")\n",
    "# Récupère un des refs valides\n",
    "Nrefs = len(dataset_refs)\n",
    "print(f\"Number of visitTables : {Nrefs}\")\n",
    "ref = dataset_refs[0]\n",
    "t = butler.get(ref)\n",
    "Nvis = len(t)\n",
    "# del t\n",
    "# gc.collect()\n",
    "print(f\"Total Number of visits {Nvis}\")"
   ]
  },
  {
   "cell_type": "code",
   "execution_count": null,
   "id": "0b56d815-654a-42fd-9407-0f204bdd42e2",
   "metadata": {
    "execution": {
     "iopub.execute_input": "2025-05-03T14:59:13.853065Z",
     "iopub.status.busy": "2025-05-03T14:59:13.852929Z",
     "iopub.status.idle": "2025-05-03T14:59:13.855607Z",
     "shell.execute_reply": "2025-05-03T14:59:13.855232Z",
     "shell.execute_reply.started": "2025-05-03T14:59:13.853051Z"
    }
   },
   "outputs": [],
   "source": [
    "if FLAG_DUMP_VISITTABLEECOLUMNS:\n",
    "    t_columns = list(butler.get(ref).columns)\n",
    "    print(t_columns)"
   ]
  },
  {
   "cell_type": "code",
   "execution_count": null,
   "id": "639a0e0a-8227-4ed4-8083-145d244f2127",
   "metadata": {
    "execution": {
     "iopub.execute_input": "2025-05-03T14:59:13.856151Z",
     "iopub.status.busy": "2025-05-03T14:59:13.856018Z",
     "iopub.status.idle": "2025-05-03T14:59:13.872528Z",
     "shell.execute_reply": "2025-05-03T14:59:13.872063Z",
     "shell.execute_reply.started": "2025-05-03T14:59:13.856138Z"
    }
   },
   "outputs": [],
   "source": [
    "df_visits = t"
   ]
  },
  {
   "cell_type": "code",
   "execution_count": null,
   "id": "7b36869a-4425-42a0-8536-0b8634813262",
   "metadata": {
    "execution": {
     "iopub.execute_input": "2025-05-03T14:59:13.873156Z",
     "iopub.status.busy": "2025-05-03T14:59:13.873024Z",
     "iopub.status.idle": "2025-05-03T14:59:13.900570Z",
     "shell.execute_reply": "2025-05-03T14:59:13.900175Z",
     "shell.execute_reply.started": "2025-05-03T14:59:13.873143Z"
    }
   },
   "outputs": [],
   "source": [
    "df_visits.head()"
   ]
  },
  {
   "cell_type": "code",
   "execution_count": null,
   "id": "e8067d79-51f0-48a8-91a4-f6bb328fc694",
   "metadata": {
    "execution": {
     "iopub.execute_input": "2025-05-03T14:59:13.901179Z",
     "iopub.status.busy": "2025-05-03T14:59:13.901036Z",
     "iopub.status.idle": "2025-05-03T14:59:13.919434Z",
     "shell.execute_reply": "2025-05-03T14:59:13.919065Z",
     "shell.execute_reply.started": "2025-05-03T14:59:13.901166Z"
    }
   },
   "outputs": [],
   "source": [
    "if FLAG_COMPUTE_VISITSTRACTSPATCHS:\n",
    "    # Takes Very long time to compute.\n",
    "    # It is better to filter out visits that does not belong to the selected tract patch as shown below\n",
    "    df_visits_tractspatches = assign_tract_patch(df_visits, skymap)"
   ]
  },
  {
   "cell_type": "markdown",
   "id": "d42d2e70-d372-47a9-aef7-93a3a37d9114",
   "metadata": {},
   "source": [
    "### select visits in selected Tract and Patch \n",
    "\n",
    "- just need visits ra and dec coordinates to filter those visits in the tract-patch."
   ]
  },
  {
   "cell_type": "code",
   "execution_count": null,
   "id": "f331b267-6f82-4d7e-9101-a21143263254",
   "metadata": {
    "execution": {
     "iopub.execute_input": "2025-05-03T14:59:13.919971Z",
     "iopub.status.busy": "2025-05-03T14:59:13.919840Z",
     "iopub.status.idle": "2025-05-03T14:59:14.000158Z",
     "shell.execute_reply": "2025-05-03T14:59:13.999730Z",
     "shell.execute_reply.started": "2025-05-03T14:59:13.919958Z"
    }
   },
   "outputs": [],
   "source": [
    "df_visits_in_patch = select_visits_in_patch(df_visits, tract_info, patch_info)"
   ]
  },
  {
   "cell_type": "code",
   "execution_count": null,
   "id": "ca6a5890-948b-4966-bae1-f9ec6cf946cb",
   "metadata": {
    "execution": {
     "iopub.execute_input": "2025-05-03T14:59:14.000725Z",
     "iopub.status.busy": "2025-05-03T14:59:14.000600Z",
     "iopub.status.idle": "2025-05-03T14:59:14.013171Z",
     "shell.execute_reply": "2025-05-03T14:59:14.012794Z",
     "shell.execute_reply.started": "2025-05-03T14:59:14.000712Z"
    }
   },
   "outputs": [],
   "source": [
    "df_visits"
   ]
  },
  {
   "cell_type": "markdown",
   "id": "28e597fa-9f45-45f8-8ddd-b62354513fc2",
   "metadata": {},
   "source": [
    "### Keep the list in memory"
   ]
  },
  {
   "cell_type": "code",
   "execution_count": null,
   "id": "45feda65-3aec-4ee8-ad10-7de3f1b5d068",
   "metadata": {
    "execution": {
     "iopub.execute_input": "2025-05-03T14:59:14.013719Z",
     "iopub.status.busy": "2025-05-03T14:59:14.013590Z",
     "iopub.status.idle": "2025-05-03T14:59:14.033834Z",
     "shell.execute_reply": "2025-05-03T14:59:14.033499Z",
     "shell.execute_reply.started": "2025-05-03T14:59:14.013707Z"
    }
   },
   "outputs": [],
   "source": [
    "visitLists_sel = df_visits.visitId.values"
   ]
  },
  {
   "cell_type": "markdown",
   "id": "6ea80a44-0d61-4894-bffd-e100513dcabf",
   "metadata": {},
   "source": [
    "## Get the selected sources"
   ]
  },
  {
   "cell_type": "code",
   "execution_count": null,
   "id": "2b14d237-5517-4d88-83fb-7b74b4533365",
   "metadata": {
    "execution": {
     "iopub.execute_input": "2025-05-03T14:59:14.034404Z",
     "iopub.status.busy": "2025-05-03T14:59:14.034254Z",
     "iopub.status.idle": "2025-05-03T14:59:14.046017Z",
     "shell.execute_reply": "2025-05-03T14:59:14.045669Z",
     "shell.execute_reply.started": "2025-05-03T14:59:14.034383Z"
    }
   },
   "outputs": [],
   "source": [
    "datasettype = \"sourceTable_visit\""
   ]
  },
  {
   "cell_type": "code",
   "execution_count": null,
   "id": "29483b2c-bef9-4285-8e5e-b743517b987e",
   "metadata": {
    "execution": {
     "iopub.execute_input": "2025-05-03T14:59:14.046545Z",
     "iopub.status.busy": "2025-05-03T14:59:14.046416Z",
     "iopub.status.idle": "2025-05-03T14:59:14.060024Z",
     "shell.execute_reply": "2025-05-03T14:59:14.059646Z",
     "shell.execute_reply.started": "2025-05-03T14:59:14.046532Z"
    }
   },
   "outputs": [],
   "source": [
    "Nvis_sel = len(visitLists_sel)\n",
    "print(f\"Number of visits {Nvis_sel}\")\n",
    "print(visitLists_sel)"
   ]
  },
  {
   "cell_type": "code",
   "execution_count": null,
   "id": "68056b5e-e7b1-4f78-9a37-621901383469",
   "metadata": {
    "execution": {
     "iopub.execute_input": "2025-05-03T14:59:14.060567Z",
     "iopub.status.busy": "2025-05-03T14:59:14.060444Z",
     "iopub.status.idle": "2025-05-03T14:59:14.112109Z",
     "shell.execute_reply": "2025-05-03T14:59:14.111734Z",
     "shell.execute_reply.started": "2025-05-03T14:59:14.060555Z"
    }
   },
   "outputs": [],
   "source": [
    "visit_sel = visitLists_sel[0]\n",
    "butler.registry.expandDataId(instrument=instrument, visit=visit_sel)"
   ]
  },
  {
   "cell_type": "code",
   "execution_count": null,
   "id": "34760f0d-6859-482a-b940-212aac828d24",
   "metadata": {
    "execution": {
     "iopub.execute_input": "2025-05-03T14:59:14.112663Z",
     "iopub.status.busy": "2025-05-03T14:59:14.112528Z",
     "iopub.status.idle": "2025-05-03T14:59:14.118396Z",
     "shell.execute_reply": "2025-05-03T14:59:14.118045Z",
     "shell.execute_reply.started": "2025-05-03T14:59:14.112650Z"
    }
   },
   "outputs": [],
   "source": [
    "def load_sourceTables_for_visits(butler, datasettype, instrument, visit_ids):\n",
    "    dfs = []\n",
    "    for visit in visit_ids:\n",
    "        refs = list(\n",
    "            butler.registry.queryDatasets(\n",
    "                datasetType=datasettype, dataId={\"instrument\": instrument, \"visit\": visit}, findFirst=True\n",
    "            )\n",
    "        )\n",
    "        if refs:\n",
    "            df = butler.get(refs[0])\n",
    "            df[\"visit\"] = visit\n",
    "            dfs.append(df)\n",
    "    if dfs:\n",
    "        return pd.concat(dfs, ignore_index=True)\n",
    "    else:\n",
    "        return pd.DataFrame()"
   ]
  },
  {
   "cell_type": "code",
   "execution_count": null,
   "id": "21cdca00-271b-4c69-8253-a9d3cc05d4dd",
   "metadata": {
    "execution": {
     "iopub.execute_input": "2025-05-03T14:59:14.118969Z",
     "iopub.status.busy": "2025-05-03T14:59:14.118837Z",
     "iopub.status.idle": "2025-05-03T14:59:14.127803Z",
     "shell.execute_reply": "2025-05-03T14:59:14.127457Z",
     "shell.execute_reply.started": "2025-05-03T14:59:14.118956Z"
    }
   },
   "outputs": [],
   "source": [
    "# dt = butler.registry.getDatasetType(\"src\")\n",
    "# print(dt.dimensions)"
   ]
  },
  {
   "cell_type": "code",
   "execution_count": null,
   "id": "d73fbbfd-133b-458d-a0df-bf6e64b0d5eb",
   "metadata": {
    "execution": {
     "iopub.execute_input": "2025-05-03T14:59:14.128343Z",
     "iopub.status.busy": "2025-05-03T14:59:14.128214Z",
     "iopub.status.idle": "2025-05-03T14:59:14.146347Z",
     "shell.execute_reply": "2025-05-03T14:59:14.145998Z",
     "shell.execute_reply.started": "2025-05-03T14:59:14.128329Z"
    }
   },
   "outputs": [],
   "source": [
    "# crash\n",
    "# print(f\"Fetch the {datasettype} for each visit in the list\")\n",
    "# df_all_sources = load_sourceTables_for_visits(butler, datasettype,instrument, visitLists_sel)"
   ]
  },
  {
   "cell_type": "code",
   "execution_count": null,
   "id": "0810b0cf-626c-4b9c-85b8-1569666a5b62",
   "metadata": {
    "execution": {
     "iopub.execute_input": "2025-05-03T14:59:14.146888Z",
     "iopub.status.busy": "2025-05-03T14:59:14.146763Z",
     "iopub.status.idle": "2025-05-03T14:59:14.154821Z",
     "shell.execute_reply": "2025-05-03T14:59:14.154479Z",
     "shell.execute_reply.started": "2025-05-03T14:59:14.146876Z"
    }
   },
   "outputs": [],
   "source": [
    "# df_all_sources"
   ]
  },
  {
   "cell_type": "markdown",
   "id": "921525fa-7940-4264-9c06-362c324a3940",
   "metadata": {},
   "source": [
    "### Manage input sources in parquet file"
   ]
  },
  {
   "cell_type": "code",
   "execution_count": null,
   "id": "10e9f7d8-a675-491b-a2d5-fb4fdce92bd9",
   "metadata": {
    "execution": {
     "iopub.execute_input": "2025-05-03T14:59:14.155377Z",
     "iopub.status.busy": "2025-05-03T14:59:14.155247Z",
     "iopub.status.idle": "2025-05-03T14:59:14.233648Z",
     "shell.execute_reply": "2025-05-03T14:59:14.233307Z",
     "shell.execute_reply.started": "2025-05-03T14:59:14.155363Z"
    }
   },
   "outputs": [],
   "source": [
    "outputdir_sources = f\"output_{instrument}_field{keyfield}_t{tractNbSel}_p{patchNbSel}_{datasettype}\"\n",
    "all_inputfiles = glob.glob(f\"{outputdir_sources}/*.parquet\")"
   ]
  },
  {
   "cell_type": "markdown",
   "id": "80e8f047-88fe-4854-a11c-99c5003c6953",
   "metadata": {},
   "source": [
    "#### Dump columns"
   ]
  },
  {
   "cell_type": "code",
   "execution_count": null,
   "id": "e763d840-77a6-436c-aecf-7b41c0756a6e",
   "metadata": {
    "execution": {
     "iopub.execute_input": "2025-05-03T15:00:44.998979Z",
     "iopub.status.busy": "2025-05-03T15:00:44.998767Z",
     "iopub.status.idle": "2025-05-03T15:00:45.017528Z",
     "shell.execute_reply": "2025-05-03T15:00:45.017092Z",
     "shell.execute_reply.started": "2025-05-03T15:00:44.998964Z"
    }
   },
   "outputs": [],
   "source": [
    "inputfile = all_inputfiles[0]\n",
    "df = pd.read_parquet(inputfile)"
   ]
  },
  {
   "cell_type": "code",
   "execution_count": null,
   "id": "cb376de0-bb30-4def-9c1e-a10a70783936",
   "metadata": {
    "execution": {
     "iopub.execute_input": "2025-05-03T15:01:09.172189Z",
     "iopub.status.busy": "2025-05-03T15:01:09.171852Z",
     "iopub.status.idle": "2025-05-03T15:01:09.175423Z",
     "shell.execute_reply": "2025-05-03T15:01:09.175005Z",
     "shell.execute_reply.started": "2025-05-03T15:01:09.172164Z"
    }
   },
   "outputs": [],
   "source": [
    "print(list(df.columns))"
   ]
  },
  {
   "cell_type": "markdown",
   "id": "31b60c40-b12d-403c-9ed9-78963c28d3a3",
   "metadata": {},
   "source": [
    "#### Read all sources"
   ]
  },
  {
   "cell_type": "code",
   "execution_count": null,
   "id": "f5c6c072-3dd8-424a-b5c1-ac86a06100cf",
   "metadata": {
    "execution": {
     "iopub.execute_input": "2025-05-03T14:59:23.752437Z",
     "iopub.status.busy": "2025-05-03T14:59:23.752187Z",
     "iopub.status.idle": "2025-05-03T14:59:34.028444Z",
     "shell.execute_reply": "2025-05-03T14:59:34.027858Z",
     "shell.execute_reply.started": "2025-05-03T14:59:23.752421Z"
    }
   },
   "outputs": [],
   "source": [
    "# Crash due to too big\n",
    "df_all = pd.concat([pd.read_parquet(f) for f in all_inputfiles], ignore_index=True)"
   ]
  },
  {
   "cell_type": "code",
   "execution_count": null,
   "id": "3f5d37d7-634a-4d8e-919b-3db759129ad5",
   "metadata": {
    "execution": {
     "iopub.execute_input": "2025-05-03T14:59:48.724053Z",
     "iopub.status.busy": "2025-05-03T14:59:48.723839Z",
     "iopub.status.idle": "2025-05-03T14:59:49.580515Z",
     "shell.execute_reply": "2025-05-03T14:59:49.580093Z",
     "shell.execute_reply.started": "2025-05-03T14:59:48.724038Z"
    }
   },
   "outputs": [],
   "source": [
    "df_all"
   ]
  },
  {
   "cell_type": "code",
   "execution_count": null,
   "id": "cefdded6-2f61-4870-826a-3218873d259d",
   "metadata": {
    "execution": {
     "iopub.execute_input": "2025-05-03T14:59:14.236984Z",
     "iopub.status.busy": "2025-05-03T14:59:14.236863Z",
     "iopub.status.idle": "2025-05-03T14:59:14.281226Z",
     "shell.execute_reply": "2025-05-03T14:59:14.280865Z",
     "shell.execute_reply.started": "2025-05-03T14:59:14.236972Z"
    }
   },
   "outputs": [],
   "source": []
  },
  {
   "cell_type": "code",
   "execution_count": null,
   "id": "17168d28-6b7c-4ab6-bda5-8d09d1d5b094",
   "metadata": {
    "execution": {
     "iopub.execute_input": "2025-05-03T14:59:14.281787Z",
     "iopub.status.busy": "2025-05-03T14:59:14.281655Z",
     "iopub.status.idle": "2025-05-03T14:59:14.296880Z",
     "shell.execute_reply": "2025-05-03T14:59:14.296479Z",
     "shell.execute_reply.started": "2025-05-03T14:59:14.281774Z"
    }
   },
   "outputs": [],
   "source": []
  },
  {
   "cell_type": "code",
   "execution_count": null,
   "id": "1f53e57a-e434-4e51-b569-5e7238da797c",
   "metadata": {
    "execution": {
     "iopub.execute_input": "2025-05-03T14:59:14.297567Z",
     "iopub.status.busy": "2025-05-03T14:59:14.297430Z",
     "iopub.status.idle": "2025-05-03T14:59:14.300273Z",
     "shell.execute_reply": "2025-05-03T14:59:14.299900Z",
     "shell.execute_reply.started": "2025-05-03T14:59:14.297554Z"
    }
   },
   "outputs": [],
   "source": []
  },
  {
   "cell_type": "code",
   "execution_count": null,
   "id": "1589e6e6-27d3-42aa-aa70-7dc220f1d4cb",
   "metadata": {},
   "outputs": [],
   "source": []
  }
 ],
 "metadata": {
  "kernelspec": {
   "display_name": "LSST",
   "language": "python",
   "name": "lsst"
  },
  "language_info": {
   "codemirror_mode": {
    "name": "ipython",
    "version": 3
   },
   "file_extension": ".py",
   "mimetype": "text/x-python",
   "name": "python",
   "nbconvert_exporter": "python",
   "pygments_lexer": "ipython3",
   "version": "3.12.9"
  }
 },
 "nbformat": 4,
 "nbformat_minor": 5
}
