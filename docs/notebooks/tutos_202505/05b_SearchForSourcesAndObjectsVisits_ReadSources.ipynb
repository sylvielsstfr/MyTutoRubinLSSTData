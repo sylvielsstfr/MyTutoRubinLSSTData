{
 "cells": [
  {
   "cell_type": "markdown",
   "id": "adda26b1-7594-48da-94d2-6722bd71353c",
   "metadata": {},
   "source": [
    "# Tuto to Read The sources and Visits and Objects in LSSTComCam"
   ]
  },
  {
   "cell_type": "markdown",
   "id": "1f276e2d-e5e1-4b30-bf3c-4ea950073fad",
   "metadata": {
    "execution": {
     "iopub.execute_input": "2025-04-29T08:48:57.989253Z",
     "iopub.status.busy": "2025-04-29T08:48:57.988923Z",
     "iopub.status.idle": "2025-04-29T08:48:57.993268Z",
     "shell.execute_reply": "2025-04-29T08:48:57.992764Z",
     "shell.execute_reply.started": "2025-04-29T08:48:57.989226Z"
    }
   },
   "source": [
    "- author : Sylvie Dagoret-Campagne\n",
    "- affiliation : IJCLab/IN2P3/CNRS\n",
    "- member : DESC, rubin-inkind\n",
    "- creation date : 2025-05-03\n",
    "- last update : 2025-05-03"
   ]
  },
  {
   "cell_type": "markdown",
   "id": "81c11161-2bd4-4317-812a-f246f3f70d81",
   "metadata": {},
   "source": [
    "## Note on work done on LSSTComCam Commissioning : https://sitcomtn-149.lsst.io/\n",
    "## Note Data Product definition Document : https://lse-163.lsst.io/"
   ]
  },
  {
   "cell_type": "code",
   "execution_count": null,
   "id": "72f36e25-589c-4a8c-865f-8b51f5f35270",
   "metadata": {
    "execution": {
     "iopub.execute_input": "2025-05-03T18:58:07.421279Z",
     "iopub.status.busy": "2025-05-03T18:58:07.421150Z",
     "iopub.status.idle": "2025-05-03T18:58:08.464167Z",
     "shell.execute_reply": "2025-05-03T18:58:08.463698Z",
     "shell.execute_reply.started": "2025-05-03T18:58:07.421263Z"
    }
   },
   "outputs": [],
   "source": [
    "import sys, os, glob\n",
    "import matplotlib.pyplot as plt\n",
    "import lsst.afw.display as afwDisplay\n",
    "import numpy as np\n",
    "import pandas as pd\n",
    "from astropy.time import Time\n",
    "# %matplotlib widget"
   ]
  },
  {
   "cell_type": "code",
   "execution_count": null,
   "id": "42897fba-1ca4-4f20-837d-bd7478ac4548",
   "metadata": {
    "execution": {
     "iopub.execute_input": "2025-05-03T18:58:08.466246Z",
     "iopub.status.busy": "2025-05-03T18:58:08.466120Z",
     "iopub.status.idle": "2025-05-03T18:58:08.490428Z",
     "shell.execute_reply": "2025-05-03T18:58:08.490027Z",
     "shell.execute_reply.started": "2025-05-03T18:58:08.466232Z"
    }
   },
   "outputs": [],
   "source": [
    "import lsst.geom as geom\n",
    "from lsst.geom import SpherePoint, degrees, Point2D, Point2I\n",
    "from lsst.skymap import PatchInfo, Index2D"
   ]
  },
  {
   "cell_type": "code",
   "execution_count": null,
   "id": "f2580923-bf82-4204-a50d-c64eb56b9f06",
   "metadata": {
    "execution": {
     "iopub.execute_input": "2025-05-03T18:58:08.491004Z",
     "iopub.status.busy": "2025-05-03T18:58:08.490871Z",
     "iopub.status.idle": "2025-05-03T18:58:08.493504Z",
     "shell.execute_reply": "2025-05-03T18:58:08.493140Z",
     "shell.execute_reply.started": "2025-05-03T18:58:08.490990Z"
    }
   },
   "outputs": [],
   "source": [
    "plt.rcParams[\"figure.figsize\"] = (10, 6)\n",
    "plt.rcParams[\"axes.labelsize\"] = \"x-large\"\n",
    "plt.rcParams[\"axes.titlesize\"] = \"x-large\"\n",
    "plt.rcParams[\"xtick.labelsize\"] = \"x-large\"\n",
    "plt.rcParams[\"ytick.labelsize\"] = \"x-large\""
   ]
  },
  {
   "cell_type": "code",
   "execution_count": null,
   "id": "d47f09df-7496-431c-b4ae-4fb75a3c6ef9",
   "metadata": {
    "execution": {
     "iopub.execute_input": "2025-05-03T18:58:08.494020Z",
     "iopub.status.busy": "2025-05-03T18:58:08.493896Z",
     "iopub.status.idle": "2025-05-03T18:58:08.500150Z",
     "shell.execute_reply": "2025-05-03T18:58:08.499793Z",
     "shell.execute_reply.started": "2025-05-03T18:58:08.494007Z"
    }
   },
   "outputs": [],
   "source": [
    "import gc"
   ]
  },
  {
   "cell_type": "code",
   "execution_count": null,
   "id": "1a1a267b-58c7-468a-a336-2c8def253a79",
   "metadata": {
    "execution": {
     "iopub.execute_input": "2025-05-03T18:58:08.500634Z",
     "iopub.status.busy": "2025-05-03T18:58:08.500507Z",
     "iopub.status.idle": "2025-05-03T18:58:08.507398Z",
     "shell.execute_reply": "2025-05-03T18:58:08.507045Z",
     "shell.execute_reply.started": "2025-05-03T18:58:08.500620Z"
    }
   },
   "outputs": [],
   "source": [
    "import traceback"
   ]
  },
  {
   "cell_type": "code",
   "execution_count": null,
   "id": "ede21bda-146f-4c77-aa40-edf2debfbfc0",
   "metadata": {
    "execution": {
     "iopub.execute_input": "2025-05-03T18:58:08.507913Z",
     "iopub.status.busy": "2025-05-03T18:58:08.507788Z",
     "iopub.status.idle": "2025-05-03T18:58:09.474457Z",
     "shell.execute_reply": "2025-05-03T18:58:09.474026Z",
     "shell.execute_reply.started": "2025-05-03T18:58:08.507899Z"
    }
   },
   "outputs": [],
   "source": [
    "# Define butler\n",
    "from lsst.daf.butler import Butler"
   ]
  },
  {
   "cell_type": "code",
   "execution_count": null,
   "id": "c7ab7fe3-285d-48c2-973a-2dde9d0a7faa",
   "metadata": {
    "execution": {
     "iopub.execute_input": "2025-05-03T18:58:09.475065Z",
     "iopub.status.busy": "2025-05-03T18:58:09.474927Z",
     "iopub.status.idle": "2025-05-03T18:58:10.134899Z",
     "shell.execute_reply": "2025-05-03T18:58:10.134406Z",
     "shell.execute_reply.started": "2025-05-03T18:58:09.475051Z"
    }
   },
   "outputs": [],
   "source": [
    "!eups list lsst_distrib"
   ]
  },
  {
   "cell_type": "code",
   "execution_count": null,
   "id": "e5e6fab3-5cc8-4022-aedc-6d15f42f6dff",
   "metadata": {
    "execution": {
     "iopub.execute_input": "2025-05-03T18:58:10.135683Z",
     "iopub.status.busy": "2025-05-03T18:58:10.135529Z",
     "iopub.status.idle": "2025-05-03T18:58:10.139253Z",
     "shell.execute_reply": "2025-05-03T18:58:10.138879Z",
     "shell.execute_reply.started": "2025-05-03T18:58:10.135665Z"
    }
   },
   "outputs": [],
   "source": [
    "def nJy_to_ab_mag(f_njy):\n",
    "    \"\"\"Convert flux in nanojanskys to AB magnitude.\"\"\"\n",
    "    if f_njy > 0:\n",
    "        return -2.5 * np.log10(f_njy) + 31.4\n",
    "    else:\n",
    "        return 0.0\n",
    "\n",
    "\n",
    "def ab_mag_to_nJy(mag_ab):\n",
    "    \"\"\"Convert AB magnitude to flux in nanojanskys.\"\"\"\n",
    "    return 10 ** ((31.4 - mag_ab) / 2.5)"
   ]
  },
  {
   "cell_type": "code",
   "execution_count": null,
   "id": "dbe3a976-0df1-4b45-8774-fd985a847821",
   "metadata": {
    "execution": {
     "iopub.execute_input": "2025-05-03T18:58:10.139778Z",
     "iopub.status.busy": "2025-05-03T18:58:10.139650Z",
     "iopub.status.idle": "2025-05-03T18:58:10.148801Z",
     "shell.execute_reply": "2025-05-03T18:58:10.148495Z",
     "shell.execute_reply.started": "2025-05-03T18:58:10.139765Z"
    }
   },
   "outputs": [],
   "source": [
    "def select_visits_in_patch(df, tractInfo, patchInfo):\n",
    "    \"\"\"\n",
    "    Sélectionne les lignes du DataFrame correspondant à des visites dans un patch donné.\n",
    "\n",
    "    Paramètres\n",
    "    ----------\n",
    "    df : pandas.DataFrame\n",
    "        Doit contenir les colonnes 'ra' et 'dec' en degrés.\n",
    "    tractInfo : lsst.skymap.TractInfo\n",
    "    patchInfo : lsst.skymap.PatchInfo\n",
    "\n",
    "    Retourne\n",
    "    --------\n",
    "    df_filtered : pandas.DataFrame\n",
    "        Les lignes du DataFrame dont les RA/Dec sont dans le patch spécifié.\n",
    "    \"\"\"\n",
    "    wcs = tractInfo.getWcs()\n",
    "    bbox = patchInfo.getOuterBBox()\n",
    "\n",
    "    def is_inside_patch(ra, dec):\n",
    "        coord = SpherePoint(ra * degrees, dec * degrees)\n",
    "        if not tractInfo.contains(coord):\n",
    "            return False\n",
    "        pix = wcs.skyToPixel(coord)\n",
    "        return bbox.contains(Point2I(pix))\n",
    "\n",
    "    mask = df.apply(lambda row: is_inside_patch(row[\"ra\"], row[\"dec\"]), axis=1)\n",
    "    return df[mask].copy()"
   ]
  },
  {
   "cell_type": "code",
   "execution_count": null,
   "id": "b207720f-9aaf-40d0-b572-c582cddb35d6",
   "metadata": {
    "execution": {
     "iopub.execute_input": "2025-05-03T18:58:10.149339Z",
     "iopub.status.busy": "2025-05-03T18:58:10.149217Z",
     "iopub.status.idle": "2025-05-03T18:58:10.156573Z",
     "shell.execute_reply": "2025-05-03T18:58:10.156208Z",
     "shell.execute_reply.started": "2025-05-03T18:58:10.149327Z"
    }
   },
   "outputs": [],
   "source": [
    "# Tested but long\n",
    "def assign_tract_patch(df, skyMap):\n",
    "    \"\"\"\n",
    "    Attribue (tract, patch) à chaque ligne d’un DataFrame selon ses coordonnées célestes.\n",
    "\n",
    "    Paramètres\n",
    "    ----------\n",
    "    df : pandas.DataFrame\n",
    "        Doit contenir les colonnes 'ra' et 'dec' (en degrés).\n",
    "    skyMap : lsst.skymap.SkyMap\n",
    "        Obtenu via butler.get(\"skyMap\")\n",
    "\n",
    "    Retour\n",
    "    ------\n",
    "    df_result : pandas.DataFrame\n",
    "        DataFrame original avec deux colonnes supplémentaires :\n",
    "        'tract' et 'patch' (tuple (x, y) ou None si hors carte).\n",
    "    \"\"\"\n",
    "\n",
    "    def find_tract_patch(ra, dec):\n",
    "        coord = SpherePoint(ra * degrees, dec * degrees)\n",
    "        for tractInfo in skyMap:\n",
    "            if tractInfo.contains(coord):\n",
    "                wcs = tractInfo.getWcs()\n",
    "                pix = wcs.skyToPixel(coord)\n",
    "                point = Point2I(pix)\n",
    "                for patchInfo in tractInfo:\n",
    "                    if patchInfo.getOuterBBox().contains(point):\n",
    "                        return tractInfo.getId(), patchInfo.getSequentialIndex()\n",
    "        return None, None\n",
    "\n",
    "    results = df.apply(lambda row: find_tract_patch(row[\"ra\"], row[\"dec\"]), axis=1)\n",
    "    df[[\"tract\", \"patch\"]] = pd.DataFrame(results.tolist(), index=df.index)\n",
    "    return df"
   ]
  },
  {
   "cell_type": "code",
   "execution_count": null,
   "id": "c537827d-6be7-47ef-8363-5e85cb2cde5f",
   "metadata": {
    "execution": {
     "iopub.execute_input": "2025-05-03T18:58:10.157272Z",
     "iopub.status.busy": "2025-05-03T18:58:10.156986Z",
     "iopub.status.idle": "2025-05-03T18:58:10.163922Z",
     "shell.execute_reply": "2025-05-03T18:58:10.163610Z",
     "shell.execute_reply.started": "2025-05-03T18:58:10.157258Z"
    }
   },
   "outputs": [],
   "source": [
    "# Not tested\n",
    "def filter_in_patch_vectorized(df, tractInfo, patchInfo):\n",
    "    \"\"\"\n",
    "    Sélection rapide (vectorisée) d’un sous-ensemble RA/Dec inclus dans un patch donné.\n",
    "\n",
    "    Attention : plus rapide, mais approximatif si les coordonnées sont très en bordure.\n",
    "\n",
    "    Paramètres\n",
    "    ----------\n",
    "    df : pandas.DataFrame avec colonnes 'ra', 'dec'\n",
    "    tractInfo : TractInfo\n",
    "    patchInfo : PatchInfo\n",
    "\n",
    "    Retour\n",
    "    ------\n",
    "    df_filtered : pandas.DataFrame\n",
    "    \"\"\"\n",
    "    wcs = tractInfo.getWcs()\n",
    "    bbox = patchInfo.getOuterBBox()\n",
    "\n",
    "    # Conversion RA/Dec → radians\n",
    "    ra_rad = np.deg2rad(df[\"ra\"].values)\n",
    "    dec_rad = np.deg2rad(df[\"dec\"].values)\n",
    "\n",
    "    # Conversion → Point2D (skyToPixel produit Point2D, pas Point2I)\n",
    "    pix_x = []\n",
    "    pix_y = []\n",
    "    for ra, dec in zip(ra_rad, dec_rad):\n",
    "        sp = SpherePoint(ra, dec)\n",
    "        pix = wcs.skyToPixel(sp)\n",
    "        pix_x.append(pix.getX())\n",
    "        pix_y.append(pix.getY())\n",
    "\n",
    "    pix_x = np.array(pix_x)\n",
    "    pix_y = np.array(pix_y)\n",
    "\n",
    "    # BBox (xmin, xmax, ymin, ymax)\n",
    "    xmin, xmax = bbox.getMinX(), bbox.getMaxX()\n",
    "    ymin, ymax = bbox.getMinY(), bbox.getMaxY()\n",
    "\n",
    "    # Masque vectoriel\n",
    "    mask = (pix_x >= xmin) & (pix_x <= xmax) & (pix_y >= ymin) & (pix_y <= ymax)\n",
    "\n",
    "    return df[mask].copy()"
   ]
  },
  {
   "cell_type": "markdown",
   "id": "7e369002-01db-40e2-a7b7-036072114e6a",
   "metadata": {},
   "source": [
    "## RubinTV, Campaigns , quicklook\n",
    "- RubinTV : https://usdf-rsp.slac.stanford.edu/rubintv/summit-usdf/lsstcam\n",
    "- https://rubinobs.atlassian.net/wiki/spaces/LSSTCOM/pages/467370016/LSSTCam+Commissioning+Planning\n",
    "- LSSTCam DM campaign : https://rubinobs.atlassian.net/wiki/spaces/DM/pages/48834013/Campaigns#1.1.2.-LSSTCam-Nightly-Validation-Pipeline\n",
    "- Check campaign also here  https://rubinobs.atlassian.net/wiki/pages/diffpagesbyversion.action?pageId=48834013&selectedPageVersions=145%2C143\n",
    "- fov-quicklook : https://usdf-rsp-dev.slac.stanford.edu/fov-quicklook/"
   ]
  },
  {
   "cell_type": "markdown",
   "id": "4ce495c8-71a6-4846-86fc-5715e13348ab",
   "metadata": {},
   "source": [
    "## Configuration"
   ]
  },
  {
   "cell_type": "code",
   "execution_count": null,
   "id": "91e7b166-6245-4e54-8cb1-21f34fbba78f",
   "metadata": {
    "execution": {
     "iopub.execute_input": "2025-05-03T18:58:10.164670Z",
     "iopub.status.busy": "2025-05-03T18:58:10.164325Z",
     "iopub.status.idle": "2025-05-03T18:58:10.170216Z",
     "shell.execute_reply": "2025-05-03T18:58:10.169907Z",
     "shell.execute_reply.started": "2025-05-03T18:58:10.164655Z"
    }
   },
   "outputs": [],
   "source": [
    "FLAG_DUMP_COLLECTIONS = False\n",
    "FLAG_DUMP_DATASETS = False\n",
    "FLAG_DUMP_OBJECTSTABLECOLUMNS = False\n",
    "FLAG_CUT_OBJECTSMAG = True\n",
    "FLAG_DUMP_VISITTABLEECOLUMNS = False\n",
    "FLAG_COMPUTE_VISITSTRACTSPATCHS = False"
   ]
  },
  {
   "cell_type": "code",
   "execution_count": null,
   "id": "27fbb224-209b-42ba-8d66-9c7d7463173a",
   "metadata": {
    "execution": {
     "iopub.execute_input": "2025-05-03T18:58:10.170700Z",
     "iopub.status.busy": "2025-05-03T18:58:10.170576Z",
     "iopub.status.idle": "2025-05-03T18:58:10.180599Z",
     "shell.execute_reply": "2025-05-03T18:58:10.180307Z",
     "shell.execute_reply.started": "2025-05-03T18:58:10.170688Z"
    }
   },
   "outputs": [],
   "source": [
    "MAGCUT = 20.0"
   ]
  },
  {
   "cell_type": "code",
   "execution_count": null,
   "id": "566b4b6f-68ac-472f-9a14-9645d06d291a",
   "metadata": {
    "execution": {
     "iopub.execute_input": "2025-05-03T18:58:10.181078Z",
     "iopub.status.busy": "2025-05-03T18:58:10.180948Z",
     "iopub.status.idle": "2025-05-03T18:58:10.187204Z",
     "shell.execute_reply": "2025-05-03T18:58:10.186896Z",
     "shell.execute_reply.started": "2025-05-03T18:58:10.181059Z"
    }
   },
   "outputs": [],
   "source": [
    "all_bands = [\"u\", \"g\", \"r\", \"i\", \"z\", \"y\"]\n",
    "all_bands_colors = [\"blue\", \"green\", \"red\", \"orange\", \"yellow\", \"purple\"]"
   ]
  },
  {
   "cell_type": "markdown",
   "id": "29bdd60b-f237-4a90-8aee-95f83091a5c8",
   "metadata": {},
   "source": [
    "### Choose instrument"
   ]
  },
  {
   "cell_type": "code",
   "execution_count": null,
   "id": "66ff700b-a6ab-4b6d-ab28-dfadf54fdd9f",
   "metadata": {
    "execution": {
     "iopub.execute_input": "2025-05-03T18:58:10.187916Z",
     "iopub.status.busy": "2025-05-03T18:58:10.187559Z",
     "iopub.status.idle": "2025-05-03T18:58:10.193370Z",
     "shell.execute_reply": "2025-05-03T18:58:10.193087Z",
     "shell.execute_reply.started": "2025-05-03T18:58:10.187903Z"
    }
   },
   "outputs": [],
   "source": [
    "# instrument = \"LSSTCam\"\n",
    "\n",
    "# We focus here on sky fields oberved by LSSTComCam, so we select this camera\n",
    "instrument = \"LSSTComCam\""
   ]
  },
  {
   "cell_type": "markdown",
   "id": "6a07464c-6f2e-4015-8ea6-1fbc5698c1dd",
   "metadata": {},
   "source": [
    "### Choose options"
   ]
  },
  {
   "cell_type": "markdown",
   "id": "29fc15af-ca3f-4c38-99ec-433e84dae8a2",
   "metadata": {},
   "source": [
    "### For LSSTCam : RubinTV, Campaigns , quicklook\n",
    "- RubinTV : https://usdf-rsp.slac.stanford.edu/rubintv/summit-usdf/lsstcam\n",
    "- https://rubinobs.atlassian.net/wiki/spaces/LSSTCOM/pages/467370016/LSSTCam+Commissioning+Planning\n",
    "- LSSTCam DM campaign : https://rubinobs.atlassian.net/wiki/spaces/DM/pages/48834013/Campaigns#1.1.2.-LSSTCam-Nightly-Validation-Pipeline\n",
    "- Check campaign also here  https://rubinobs.atlassian.net/wiki/pages/diffpagesbyversion.action?pageId=48834013&selectedPageVersions=145%2C143\n",
    "- fov-quicklook : https://usdf-rsp-dev.slac.stanford.edu/fov-quicklook/"
   ]
  },
  {
   "cell_type": "markdown",
   "id": "5542de7d-695e-4256-b765-28b902b02adc",
   "metadata": {},
   "source": [
    "### For LSSTComCam check here : \n",
    "- Check here the collection available : https://rubinobs.atlassian.net/wiki/spaces/DM/pages/226656354/LSSTComCam+Intermittent+Cumulative+DRP+Runs"
   ]
  },
  {
   "cell_type": "code",
   "execution_count": null,
   "id": "eacb14b0-183c-4dcd-ba59-64c7ca3efcd3",
   "metadata": {
    "execution": {
     "iopub.execute_input": "2025-05-03T18:58:10.193841Z",
     "iopub.status.busy": "2025-05-03T18:58:10.193723Z",
     "iopub.status.idle": "2025-05-03T18:58:10.200378Z",
     "shell.execute_reply": "2025-05-03T18:58:10.200089Z",
     "shell.execute_reply.started": "2025-05-03T18:58:10.193828Z"
    }
   },
   "outputs": [],
   "source": [
    "if instrument == \"LSSTCam\":\n",
    "    repo = \"/repo/embargo\"\n",
    "    instrument = \"LSSTCam\"\n",
    "    collection_validation = instrument + \"/runs/nightlyValidation\"\n",
    "    # collection_quicklook   = instrument + '/runs/quickLookTesting'\n",
    "    collection_validation = os.path.join(collection_validation, \"20250416/d_2025_04_15/DM-50157\")\n",
    "    date_start = 20250415\n",
    "    date_selection = 20250416\n",
    "    where_clause = \"instrument = '\" + f\"{instrument}\" + \"'\"\n",
    "    where_clause_instrument = \"instrument = '\" + instrument + \"'\"\n",
    "    where_clause_date = where_clause + f\"and day_obs >= {date_start}\"\n",
    "    skymapName = \"lsst_cells_v1\"\n",
    "    BANDSEL = \"i\"\n",
    "\n",
    "elif instrument == \"LSSTComCam\":\n",
    "    repo = \"/repo/main\"\n",
    "    collection_validation = \"LSSTComCam/runs/DRP/DP1/w_2025_10/DM-49359\"  # work 2025-05-01\n",
    "    # collection_validation = \"LSSTComCam/runs/DRP/DP1/w_2025_17/DM-50530\" #updated 2025-05-02\n",
    "    date_start = 20241024\n",
    "    date_selection = 20241211\n",
    "    skymapName = \"lsst_cells_v1\"\n",
    "    where_clause = \"instrument = '\" + instrument + \"'\"\n",
    "    where_clause_instrument = \"instrument = '\" + instrument + \"'\"\n",
    "    where_clause_date = where_clause + f\"and day_obs >= {date_start}\"\n",
    "\n",
    "    NDET = 9\n",
    "    TRACTSEL = 5063\n",
    "    BANDSEL = \"i\""
   ]
  },
  {
   "cell_type": "code",
   "execution_count": null,
   "id": "82535307-9253-4f06-b82a-956efd0217c9",
   "metadata": {
    "execution": {
     "iopub.execute_input": "2025-05-03T18:58:10.200842Z",
     "iopub.status.busy": "2025-05-03T18:58:10.200726Z",
     "iopub.status.idle": "2025-05-03T18:58:10.206369Z",
     "shell.execute_reply": "2025-05-03T18:58:10.206086Z",
     "shell.execute_reply.started": "2025-05-03T18:58:10.200830Z"
    }
   },
   "outputs": [],
   "source": [
    "collectionStr = collection_validation.replace(\"/\", \"_\")"
   ]
  },
  {
   "cell_type": "markdown",
   "id": "e77a39ca-c34f-4097-8a11-c40a121a82e9",
   "metadata": {},
   "source": [
    "## Access to Butler registry"
   ]
  },
  {
   "cell_type": "code",
   "execution_count": null,
   "id": "8726b7e4-94b7-48ac-92f8-447b34b7a59e",
   "metadata": {
    "execution": {
     "iopub.execute_input": "2025-05-03T18:58:10.206829Z",
     "iopub.status.busy": "2025-05-03T18:58:10.206713Z",
     "iopub.status.idle": "2025-05-03T18:58:10.598099Z",
     "shell.execute_reply": "2025-05-03T18:58:10.597500Z",
     "shell.execute_reply.started": "2025-05-03T18:58:10.206817Z"
    }
   },
   "outputs": [],
   "source": [
    "# Initialize the butler repo:\n",
    "butler = Butler(repo, collections=collection_validation)\n",
    "registry = butler.registry"
   ]
  },
  {
   "cell_type": "markdown",
   "id": "a82d1397-cd01-45d3-9f39-8b4f6bcbb21f",
   "metadata": {},
   "source": [
    "## Create a skymap object and Camera"
   ]
  },
  {
   "cell_type": "code",
   "execution_count": null,
   "id": "2a570834-a5dc-43b8-a0d3-af71a5b2706c",
   "metadata": {
    "execution": {
     "iopub.execute_input": "2025-05-03T18:58:10.603217Z",
     "iopub.status.busy": "2025-05-03T18:58:10.602918Z",
     "iopub.status.idle": "2025-05-03T18:58:10.947120Z",
     "shell.execute_reply": "2025-05-03T18:58:10.946626Z",
     "shell.execute_reply.started": "2025-05-03T18:58:10.603200Z"
    }
   },
   "outputs": [],
   "source": [
    "skymap = butler.get(\"skyMap\", skymap=skymapName, collections=collection_validation)"
   ]
  },
  {
   "cell_type": "code",
   "execution_count": null,
   "id": "8870762e-6e5d-4a6d-b101-1783285b1935",
   "metadata": {
    "execution": {
     "iopub.execute_input": "2025-05-03T18:58:10.947724Z",
     "iopub.status.busy": "2025-05-03T18:58:10.947594Z",
     "iopub.status.idle": "2025-05-03T18:58:11.475406Z",
     "shell.execute_reply": "2025-05-03T18:58:11.474900Z",
     "shell.execute_reply.started": "2025-05-03T18:58:10.947710Z"
    }
   },
   "outputs": [],
   "source": [
    "camera = butler.get(\"camera\", collections=collection_validation, instrument=instrument)"
   ]
  },
  {
   "cell_type": "markdown",
   "id": "f0e61f09-1f15-4f29-9555-d4015b09c5cc",
   "metadata": {},
   "source": [
    "## Query for collections in Butler\n",
    "\n",
    "- remove user collections\n",
    "- remove calibration products"
   ]
  },
  {
   "cell_type": "code",
   "execution_count": null,
   "id": "55edfcaa-96c0-49dc-827c-0167a0b6f731",
   "metadata": {
    "execution": {
     "iopub.execute_input": "2025-05-03T18:58:11.476216Z",
     "iopub.status.busy": "2025-05-03T18:58:11.475963Z",
     "iopub.status.idle": "2025-05-03T18:58:11.478841Z",
     "shell.execute_reply": "2025-05-03T18:58:11.478482Z",
     "shell.execute_reply.started": "2025-05-03T18:58:11.476200Z"
    }
   },
   "outputs": [],
   "source": [
    "# mostly setup for LSSTCam\n",
    "if FLAG_DUMP_COLLECTIONS:\n",
    "    for _ in sorted(registry.queryCollections(expression=instrument + \"/*\")):\n",
    "        if \"/calib/\" not in _ and \"u/\" not in _:\n",
    "            print(_)"
   ]
  },
  {
   "cell_type": "markdown",
   "id": "3ff90940-a996-4174-97b4-beb8895ae7a4",
   "metadata": {},
   "source": [
    "## Query for the dataset types in the Butler\n",
    "\n",
    "- Refer to the Data Product definition Document to know about the definition of datasets\n",
    "- https://www.lsst.org/about/dm/data-products\n",
    "- https://lse-163.lsst.io/\n",
    "- https://docushare.lsst.org/docushare/dsweb/Get/LSE-163"
   ]
  },
  {
   "cell_type": "code",
   "execution_count": null,
   "id": "4c411a6c-6a67-437e-86d6-720e4d5a4a4b",
   "metadata": {
    "execution": {
     "iopub.execute_input": "2025-05-03T18:58:11.479566Z",
     "iopub.status.busy": "2025-05-03T18:58:11.479313Z",
     "iopub.status.idle": "2025-05-03T18:58:11.486808Z",
     "shell.execute_reply": "2025-05-03T18:58:11.486398Z",
     "shell.execute_reply.started": "2025-05-03T18:58:11.479552Z"
    }
   },
   "outputs": [],
   "source": [
    "if FLAG_DUMP_DATASETS:\n",
    "    for datasetType in registry.queryDatasetTypes():\n",
    "        if registry.queryDatasets(datasetType, collections=collection_validation).any(\n",
    "            execute=False, exact=False\n",
    "        ):\n",
    "            # Limit search results to the data products\n",
    "            if (\n",
    "                (\"_config\" not in datasetType.name)\n",
    "                and (\"_log\" not in datasetType.name)\n",
    "                and (\"_metadata\" not in datasetType.name)\n",
    "                and (\"_resource_usage\" not in datasetType.name)\n",
    "                and (\"Plot\" not in datasetType.name)\n",
    "                and (\"Metric\" not in datasetType.name)\n",
    "                and (\"metric\" not in datasetType.name)\n",
    "            ):\n",
    "                if \"object\" in datasetType.name or \"Obj\" in datasetType.name:\n",
    "                    print(datasetType)\n",
    "                if \"source\" in datasetType.name or \"Source\" in datasetType.name:\n",
    "                    print(datasetType)\n",
    "                if \"visit\" in datasetType.name or \"Visit\" in datasetType.name:\n",
    "                    print(datasetType)"
   ]
  },
  {
   "cell_type": "markdown",
   "id": "f78111e1-238c-4641-b3c1-0faebbbb89b1",
   "metadata": {},
   "source": [
    "## Region of interest"
   ]
  },
  {
   "cell_type": "code",
   "execution_count": null,
   "id": "6d0b6ebe-24c0-4046-9657-7187929a5f9a",
   "metadata": {
    "execution": {
     "iopub.execute_input": "2025-05-03T18:58:11.487515Z",
     "iopub.status.busy": "2025-05-03T18:58:11.487271Z",
     "iopub.status.idle": "2025-05-03T18:58:11.495642Z",
     "shell.execute_reply": "2025-05-03T18:58:11.495237Z",
     "shell.execute_reply.started": "2025-05-03T18:58:11.487501Z"
    }
   },
   "outputs": [],
   "source": [
    "lsstcomcam_targets = {}\n",
    "lsstcomcam_targets[\"47 Tuc\"] = {\"field_name\": \"47 Tuc Globular Cluster\", \"ra\": 6.02, \"dec\": -72.08}\n",
    "lsstcomcam_targets[\"Rubin SV 38 7\"] = {\"field_name\": \"Low Ecliptic Latitude Field\", \"ra\": 37.86, \"dec\": 6.98}\n",
    "lsstcomcam_targets[\"Fornax dSph\"] = {\n",
    "    \"field_name\": \"Fornax Dwarf Spheroidal Galaxy\",\n",
    "    \"ra\": 40.0,\n",
    "    \"dec\": -34.45,\n",
    "}\n",
    "lsstcomcam_targets[\"ECDFS\"] = {\"field_name\": \"Extended Chandra Deep Field South\", \"ra\": 53.13, \"dec\": -28.10}\n",
    "lsstcomcam_targets[\"EDFS\"] = {\"field_name\": \"Euclid Deep Field South\", \"ra\": 59.10, \"dec\": -48.73}\n",
    "lsstcomcam_targets[\"Rubin SV 95 -25\"] = {\n",
    "    \"field_name\": \"Low Galactic Latitude Field\",\n",
    "    \"ra\": 95.00,\n",
    "    \"dec\": -25.0,\n",
    "}\n",
    "lsstcomcam_targets[\"Seagull\"] = {\"field_name\": \"Seagull Nebula\", \"ra\": 106.23, \"dec\": -10.51}"
   ]
  },
  {
   "cell_type": "code",
   "execution_count": null,
   "id": "2fdc2905-3fd5-485e-a66b-56927d3de02f",
   "metadata": {
    "execution": {
     "iopub.execute_input": "2025-05-03T18:58:11.496364Z",
     "iopub.status.busy": "2025-05-03T18:58:11.496110Z",
     "iopub.status.idle": "2025-05-03T18:58:11.502359Z",
     "shell.execute_reply": "2025-05-03T18:58:11.502008Z",
     "shell.execute_reply.started": "2025-05-03T18:58:11.496349Z"
    }
   },
   "outputs": [],
   "source": [
    "# the_target = lsstcomcam_targets[\"Seagull\"]\n",
    "# the_target = lsstcomcam_targets[\"47 Tuc\"] # bad\n",
    "# the_target = lsstcomcam_targets[\"Fornax dSph\"]\n",
    "# the_target = lsstcomcam_targets[\"ECDFS\"]\n",
    "\n",
    "\n",
    "# key = \"Seagull\"\n",
    "# key = \"Fornax dSph\"\n",
    "key = \"ECDFS\"\n",
    "# key = \"EDFS\"\n",
    "# key = \"47 Tuc\"\n",
    "# key = \"Rubin SV 38 7\"\n",
    "# key = \"Rubin SV 95 -25\"\n",
    "\n",
    "keyfield = \"\".join(key.split())\n",
    "\n",
    "the_target = lsstcomcam_targets[key]\n",
    "target_ra = the_target[\"ra\"]\n",
    "target_dec = the_target[\"dec\"]\n",
    "target_title = (\n",
    "    the_target[\"field_name\"] + f\" band  {BANDSEL} \" + f\" (ra,dec) = ({target_ra:.2f},{target_dec:.2f}) \"\n",
    ")\n",
    "target_point = SpherePoint(target_ra, target_dec, degrees)"
   ]
  },
  {
   "cell_type": "markdown",
   "id": "5097cdde-6283-4499-aaaa-57e799bdd53a",
   "metadata": {},
   "source": [
    "## Get list of tracts from the objectTable_tract"
   ]
  },
  {
   "cell_type": "code",
   "execution_count": null,
   "id": "3560cdd4-3d7e-4325-a3f5-07a0d70a8360",
   "metadata": {
    "execution": {
     "iopub.execute_input": "2025-05-03T18:58:11.503033Z",
     "iopub.status.busy": "2025-05-03T18:58:11.502787Z",
     "iopub.status.idle": "2025-05-03T18:58:11.509878Z",
     "shell.execute_reply": "2025-05-03T18:58:11.509461Z",
     "shell.execute_reply.started": "2025-05-03T18:58:11.503019Z"
    }
   },
   "outputs": [],
   "source": [
    "# Find the dimension\n",
    "print(butler.registry.getDatasetType(\"objectTable_tract\").dimensions)"
   ]
  },
  {
   "cell_type": "code",
   "execution_count": null,
   "id": "e07d2107-8c9e-485e-89bc-ec6e52fa10f4",
   "metadata": {
    "execution": {
     "iopub.execute_input": "2025-05-03T18:58:11.510695Z",
     "iopub.status.busy": "2025-05-03T18:58:11.510332Z",
     "iopub.status.idle": "2025-05-03T18:58:11.591085Z",
     "shell.execute_reply": "2025-05-03T18:58:11.590637Z",
     "shell.execute_reply.started": "2025-05-03T18:58:11.510681Z"
    }
   },
   "outputs": [],
   "source": [
    "datasettype = \"objectTable_tract\"\n",
    "therefs = butler.registry.queryDatasets(datasettype, collections=collection_validation)\n",
    "tractsId_list = np.unique([ref.dataId[\"tract\"] for ref in therefs])\n",
    "tractsId_list = sorted(tractsId_list)\n",
    "print(tractsId_list)"
   ]
  },
  {
   "cell_type": "markdown",
   "id": "f060f57d-ac96-4ec7-8a94-f760e118248a",
   "metadata": {},
   "source": [
    "## Find the Tract and Patch of the region of interest\n",
    "\n",
    "- tract in tractNbSel\n",
    "- patch in patchNbSel"
   ]
  },
  {
   "cell_type": "code",
   "execution_count": null,
   "id": "ea99cc96-a0bf-4dec-9418-895e5569688b",
   "metadata": {
    "execution": {
     "iopub.execute_input": "2025-05-03T18:58:11.591714Z",
     "iopub.status.busy": "2025-05-03T18:58:11.591580Z",
     "iopub.status.idle": "2025-05-03T18:58:11.597146Z",
     "shell.execute_reply": "2025-05-03T18:58:11.596714Z",
     "shell.execute_reply.started": "2025-05-03T18:58:11.591700Z"
    }
   },
   "outputs": [],
   "source": [
    "tract_info = skymap.findTract(target_point)\n",
    "patch_info = tract_info.findPatch(target_point)\n",
    "bbox = patch_info.getOuterBBox()\n",
    "\n",
    "print(\"Patch bounding box:\", bbox)\n",
    "\n",
    "print(\"Tract ID :\", tract_info.getId())\n",
    "tractNbSel = tract_info.getId()\n",
    "\n",
    "print(\"Patch Index :\", patch_info.getIndex(), \" , \", patch_info.getSequentialIndex())  # (x, y)\n",
    "print(\"Bounding Box\", bbox)\n",
    "\n",
    "patchNbSel = patch_info.getSequentialIndex()"
   ]
  },
  {
   "cell_type": "code",
   "execution_count": null,
   "id": "e1df364f-89a7-4a94-9541-89a05d75004c",
   "metadata": {
    "execution": {
     "iopub.execute_input": "2025-05-03T18:58:11.597705Z",
     "iopub.status.busy": "2025-05-03T18:58:11.597578Z",
     "iopub.status.idle": "2025-05-03T18:58:11.603805Z",
     "shell.execute_reply": "2025-05-03T18:58:11.603406Z",
     "shell.execute_reply.started": "2025-05-03T18:58:11.597692Z"
    }
   },
   "outputs": [],
   "source": [
    "dataId = {\"band\": BANDSEL, \"tract\": tractNbSel, \"patch\": patchNbSel, \"skymap\": skymapName}"
   ]
  },
  {
   "cell_type": "markdown",
   "id": "131ff71d-cee0-4141-ac33-c8f33758a584",
   "metadata": {},
   "source": [
    "## The Objects\n",
    "\n",
    "- Objects are extracted from object detection on deepcoadds\n",
    "- all bands are included "
   ]
  },
  {
   "cell_type": "code",
   "execution_count": null,
   "id": "da53ac66-c2fc-4b54-a19b-0e6d2def56a9",
   "metadata": {
    "execution": {
     "iopub.execute_input": "2025-05-03T18:58:11.604401Z",
     "iopub.status.busy": "2025-05-03T18:58:11.604271Z",
     "iopub.status.idle": "2025-05-03T18:58:11.611062Z",
     "shell.execute_reply": "2025-05-03T18:58:11.610654Z",
     "shell.execute_reply.started": "2025-05-03T18:58:11.604388Z"
    }
   },
   "outputs": [],
   "source": [
    "print(butler.registry.getDatasetType(\"objectTable\").dimensions)"
   ]
  },
  {
   "cell_type": "code",
   "execution_count": null,
   "id": "3e6b671b-f1c2-48ce-97ea-1eef0fa56cca",
   "metadata": {
    "execution": {
     "iopub.execute_input": "2025-05-03T18:58:11.611653Z",
     "iopub.status.busy": "2025-05-03T18:58:11.611524Z",
     "iopub.status.idle": "2025-05-03T18:58:11.617873Z",
     "shell.execute_reply": "2025-05-03T18:58:11.617457Z",
     "shell.execute_reply.started": "2025-05-03T18:58:11.611640Z"
    }
   },
   "outputs": [],
   "source": [
    "# cannot add a filter on band\n",
    "where_clause_skymap = f\"skymap = '{skymapName}' AND tract = {tractNbSel} AND patch = {patchNbSel}\"\n",
    "print(where_clause)"
   ]
  },
  {
   "cell_type": "code",
   "execution_count": null,
   "id": "064b709e-fd22-453f-a89c-8feeb6a157c7",
   "metadata": {
    "execution": {
     "iopub.execute_input": "2025-05-03T18:58:11.618465Z",
     "iopub.status.busy": "2025-05-03T18:58:11.618340Z",
     "iopub.status.idle": "2025-05-03T18:58:12.094608Z",
     "shell.execute_reply": "2025-05-03T18:58:12.094103Z",
     "shell.execute_reply.started": "2025-05-03T18:58:11.618453Z"
    }
   },
   "outputs": [],
   "source": [
    "dataset_refs = list(\n",
    "    butler.registry.queryDatasets(\"objectTable\", collections=collection_validation, where=where_clause_skymap)\n",
    ")\n",
    "# Récupère un des refs valides\n",
    "Nrefs = len(dataset_refs)\n",
    "print(f\"Number of objectTables : {Nrefs}\")\n",
    "ref = dataset_refs[0]\n",
    "t = butler.get(ref)\n",
    "Nobj = len(t)\n",
    "# del t\n",
    "# gc.collect()\n",
    "print(f\"Total Number of objects {Nobj}\")"
   ]
  },
  {
   "cell_type": "markdown",
   "id": "584463e6-5694-4bfd-a5f3-c0021e8c64bc",
   "metadata": {
    "execution": {
     "iopub.execute_input": "2025-05-01T20:56:43.699655Z",
     "iopub.status.busy": "2025-05-01T20:56:43.699512Z",
     "iopub.status.idle": "2025-05-01T20:56:43.702758Z",
     "shell.execute_reply": "2025-05-01T20:56:43.702457Z",
     "shell.execute_reply.started": "2025-05-01T20:56:43.699640Z"
    }
   },
   "source": [
    "Oui, dans ce type de objectTable, les colonnes comme g_psfFlux, g_kronFlux, g_cModelFlux, etc., sont des flux calibrés (en nJy ou en unité de calibration interne du pipeline). Pour les convertir en magnitudes AB, tu peux utiliser la formule classique :"
   ]
  },
  {
   "cell_type": "code",
   "execution_count": null,
   "id": "069c5c04-af0c-47b3-893d-7c6ccf2c76a1",
   "metadata": {
    "execution": {
     "iopub.execute_input": "2025-05-03T18:58:12.095312Z",
     "iopub.status.busy": "2025-05-03T18:58:12.095166Z",
     "iopub.status.idle": "2025-05-03T18:58:12.097735Z",
     "shell.execute_reply": "2025-05-03T18:58:12.097386Z",
     "shell.execute_reply.started": "2025-05-03T18:58:12.095298Z"
    }
   },
   "outputs": [],
   "source": [
    "# Utilise ref.datasetType.name pour lister les colonnes disponibles\n",
    "if FLAG_DUMP_OBJECTSTABLECOLUMNS:\n",
    "    t_columns = list(butler.get(ref).columns)\n",
    "    print(t_columns)"
   ]
  },
  {
   "cell_type": "code",
   "execution_count": null,
   "id": "7c6648f9-6053-4343-aab6-56cb9648c599",
   "metadata": {
    "execution": {
     "iopub.execute_input": "2025-05-03T18:58:12.098316Z",
     "iopub.status.busy": "2025-05-03T18:58:12.098188Z",
     "iopub.status.idle": "2025-05-03T18:58:12.104422Z",
     "shell.execute_reply": "2025-05-03T18:58:12.104016Z",
     "shell.execute_reply.started": "2025-05-03T18:58:12.098304Z"
    }
   },
   "outputs": [],
   "source": [
    "# La constante 31.4 correspond à la conversion AB standard pour un flux exprimé en nanoJanskys (nJy).\n",
    "# À vérifier selon l’unité exacte utilisée par le pipeline sur ton RSP\n",
    "# (souvent c’est bien nJy, mais ça peut être autre chose si la calibration a été changée).\n",
    "# mag = -2.5 * np.log10(flux) + 31.4"
   ]
  },
  {
   "cell_type": "markdown",
   "id": "35e44f9d-46b0-4f93-b392-b587b5d5dc77",
   "metadata": {},
   "source": [
    "## Extract the per-band tables of coordinates"
   ]
  },
  {
   "cell_type": "code",
   "execution_count": null,
   "id": "d5e1661f-e0e3-4842-bd67-4c7fe8ee9147",
   "metadata": {
    "execution": {
     "iopub.execute_input": "2025-05-03T18:58:12.105016Z",
     "iopub.status.busy": "2025-05-03T18:58:12.104886Z",
     "iopub.status.idle": "2025-05-03T18:58:12.155054Z",
     "shell.execute_reply": "2025-05-03T18:58:12.154589Z",
     "shell.execute_reply.started": "2025-05-03T18:58:12.105001Z"
    }
   },
   "outputs": [],
   "source": [
    "# Check columns definitions in https://lse-163.lsst.io/\n",
    "all_radecTable = []\n",
    "\n",
    "for band in all_bands:\n",
    "    id_name = \"objectId\"\n",
    "    id_parentname = \"parentObjectId\"\n",
    "    x_name = f\"{band}_centroid_x\"\n",
    "    y_name = f\"{band}_centroid_y\"\n",
    "    coord_ra_name = \"coord_ra\"\n",
    "    coord_dec_name = \"coord_dec\"\n",
    "    ra_name = f\"{band}_ra\"\n",
    "    dec_name = f\"{band}_dec\"\n",
    "    decl_name = f\"{band}_decl\"\n",
    "    raerr_name = f\"{band}_raErr\"\n",
    "    decerr_name = f\"{band}_decErr\"\n",
    "    extendedness_name = f\"{band}_extendedness\"\n",
    "    blendness_name = f\"{band}_blendedness\"\n",
    "    psfflux_name = f\"{band}_psfFlux\"\n",
    "    psfmag_name = f\"{band}_psfMag\"\n",
    "    psfflux_free_name = f\"{band}_free_psfFlux\"\n",
    "    df = t[\n",
    "        [\n",
    "            id_name,\n",
    "            id_parentname,\n",
    "            x_name,\n",
    "            y_name,\n",
    "            coord_ra_name,\n",
    "            coord_dec_name,\n",
    "            ra_name,\n",
    "            dec_name,\n",
    "            raerr_name,\n",
    "            decerr_name,\n",
    "            decl_name,\n",
    "            extendedness_name,\n",
    "            blendness_name,\n",
    "            psfflux_name,\n",
    "        ]\n",
    "    ]\n",
    "\n",
    "    # select primary objects\n",
    "    df_sel = (df[df[id_parentname] == 0]).drop([id_parentname], axis=1)\n",
    "    # compute magnitude AB\n",
    "    df_sel[psfmag_name] = df_sel[psfflux_name].apply(nJy_to_ab_mag)\n",
    "    # drop bad magnitudes\n",
    "    df_sel = df_sel[df_sel[psfmag_name] != 0.0]\n",
    "    # drop the fluxes\n",
    "    df_sel = df_sel.drop([psfflux_name], axis=1)\n",
    "\n",
    "    # select bright objects\n",
    "    if FLAG_CUT_OBJECTSMAG:\n",
    "        df_sel = df_sel[df_sel[psfmag_name] < MAGCUT]\n",
    "\n",
    "    # save table in the list\n",
    "    all_radecTable.append(df_sel)"
   ]
  },
  {
   "cell_type": "code",
   "execution_count": null,
   "id": "e1e4d330-6efc-498d-8123-ebb0bffeeefc",
   "metadata": {
    "execution": {
     "iopub.execute_input": "2025-05-03T18:58:12.155770Z",
     "iopub.status.busy": "2025-05-03T18:58:12.155628Z",
     "iopub.status.idle": "2025-05-03T18:58:12.158687Z",
     "shell.execute_reply": "2025-05-03T18:58:12.158277Z",
     "shell.execute_reply.started": "2025-05-03T18:58:12.155756Z"
    }
   },
   "outputs": [],
   "source": [
    "for idx, band in enumerate(all_bands):\n",
    "    df_obj = all_radecTable[idx]\n",
    "    n = len(df_obj)\n",
    "    print(f\"Number of objects in band {band} : {n}\")"
   ]
  },
  {
   "cell_type": "markdown",
   "id": "b8b79b04-f91f-409c-b914-b9ec41347c6a",
   "metadata": {},
   "source": [
    "## Visits\n",
    "\n",
    "- Visits allows to make a link between a visit id and an observation time, the (ra,dec) of the telescope, the observation time and observation conditions such airmass, exposure time.\n",
    "- This allow us to make a selection of visits for which we can select the sources in the Tract-Patch selected"
   ]
  },
  {
   "cell_type": "code",
   "execution_count": null,
   "id": "6b5410a4-5e85-401f-938d-abfc1c1c9669",
   "metadata": {
    "execution": {
     "iopub.execute_input": "2025-05-03T18:58:12.159270Z",
     "iopub.status.busy": "2025-05-03T18:58:12.159143Z",
     "iopub.status.idle": "2025-05-03T18:58:12.165148Z",
     "shell.execute_reply": "2025-05-03T18:58:12.164775Z",
     "shell.execute_reply.started": "2025-05-03T18:58:12.159257Z"
    }
   },
   "outputs": [],
   "source": [
    "datasettype = \"visitTable\""
   ]
  },
  {
   "cell_type": "code",
   "execution_count": null,
   "id": "0a544046-a5d3-477a-a3ec-648b6e0d0599",
   "metadata": {
    "execution": {
     "iopub.execute_input": "2025-05-03T18:58:12.165680Z",
     "iopub.status.busy": "2025-05-03T18:58:12.165554Z",
     "iopub.status.idle": "2025-05-03T18:58:12.172731Z",
     "shell.execute_reply": "2025-05-03T18:58:12.172331Z",
     "shell.execute_reply.started": "2025-05-03T18:58:12.165668Z"
    }
   },
   "outputs": [],
   "source": [
    "print(butler.registry.getDatasetType(datasettype).dimensions)\n",
    "print(where_clause_instrument)"
   ]
  },
  {
   "cell_type": "code",
   "execution_count": null,
   "id": "5620c35c-e25d-4dc8-bf07-e9c60f9421df",
   "metadata": {
    "execution": {
     "iopub.execute_input": "2025-05-03T18:58:12.173396Z",
     "iopub.status.busy": "2025-05-03T18:58:12.173269Z",
     "iopub.status.idle": "2025-05-03T18:58:12.270948Z",
     "shell.execute_reply": "2025-05-03T18:58:12.270423Z",
     "shell.execute_reply.started": "2025-05-03T18:58:12.173384Z"
    }
   },
   "outputs": [],
   "source": [
    "dataset_refs = list(\n",
    "    butler.registry.queryDatasets(\n",
    "        datasettype, collections=collection_validation, where=where_clause_instrument\n",
    "    )\n",
    ")\n",
    "# Récupère un des refs valides\n",
    "Nrefs = len(dataset_refs)\n",
    "print(f\"Number of visitTables : {Nrefs}\")\n",
    "ref = dataset_refs[0]\n",
    "t = butler.get(ref)\n",
    "Nvis = len(t)\n",
    "# del t\n",
    "# gc.collect()\n",
    "print(f\"Total Number of visits {Nvis}\")"
   ]
  },
  {
   "cell_type": "code",
   "execution_count": null,
   "id": "0b56d815-654a-42fd-9407-0f204bdd42e2",
   "metadata": {
    "execution": {
     "iopub.execute_input": "2025-05-03T18:58:12.271646Z",
     "iopub.status.busy": "2025-05-03T18:58:12.271506Z",
     "iopub.status.idle": "2025-05-03T18:58:12.274018Z",
     "shell.execute_reply": "2025-05-03T18:58:12.273611Z",
     "shell.execute_reply.started": "2025-05-03T18:58:12.271631Z"
    }
   },
   "outputs": [],
   "source": [
    "if FLAG_DUMP_VISITTABLEECOLUMNS:\n",
    "    t_columns = list(butler.get(ref).columns)\n",
    "    print(t_columns)"
   ]
  },
  {
   "cell_type": "code",
   "execution_count": null,
   "id": "639a0e0a-8227-4ed4-8083-145d244f2127",
   "metadata": {
    "execution": {
     "iopub.execute_input": "2025-05-03T18:58:12.274613Z",
     "iopub.status.busy": "2025-05-03T18:58:12.274480Z",
     "iopub.status.idle": "2025-05-03T18:58:12.281486Z",
     "shell.execute_reply": "2025-05-03T18:58:12.281089Z",
     "shell.execute_reply.started": "2025-05-03T18:58:12.274600Z"
    }
   },
   "outputs": [],
   "source": [
    "df_visits = t"
   ]
  },
  {
   "cell_type": "code",
   "execution_count": null,
   "id": "7b36869a-4425-42a0-8536-0b8634813262",
   "metadata": {
    "execution": {
     "iopub.execute_input": "2025-05-03T18:58:12.282048Z",
     "iopub.status.busy": "2025-05-03T18:58:12.281922Z",
     "iopub.status.idle": "2025-05-03T18:58:12.300974Z",
     "shell.execute_reply": "2025-05-03T18:58:12.300556Z",
     "shell.execute_reply.started": "2025-05-03T18:58:12.282035Z"
    }
   },
   "outputs": [],
   "source": [
    "df_visits.head()"
   ]
  },
  {
   "cell_type": "code",
   "execution_count": null,
   "id": "e8067d79-51f0-48a8-91a4-f6bb328fc694",
   "metadata": {
    "execution": {
     "iopub.execute_input": "2025-05-03T18:58:12.301594Z",
     "iopub.status.busy": "2025-05-03T18:58:12.301463Z",
     "iopub.status.idle": "2025-05-03T18:58:12.303697Z",
     "shell.execute_reply": "2025-05-03T18:58:12.303349Z",
     "shell.execute_reply.started": "2025-05-03T18:58:12.301581Z"
    }
   },
   "outputs": [],
   "source": [
    "if FLAG_COMPUTE_VISITSTRACTSPATCHS:\n",
    "    # Takes Very long time to compute.\n",
    "    # It is better to filter out visits that does not belong to the selected tract patch as shown below\n",
    "    df_visits_tractspatches = assign_tract_patch(df_visits, skymap)"
   ]
  },
  {
   "cell_type": "markdown",
   "id": "d42d2e70-d372-47a9-aef7-93a3a37d9114",
   "metadata": {},
   "source": [
    "### select visits in selected Tract and Patch \n",
    "\n",
    "- just need visits ra and dec coordinates to filter those visits in the tract-patch."
   ]
  },
  {
   "cell_type": "code",
   "execution_count": null,
   "id": "f331b267-6f82-4d7e-9101-a21143263254",
   "metadata": {
    "execution": {
     "iopub.execute_input": "2025-05-03T18:58:12.304238Z",
     "iopub.status.busy": "2025-05-03T18:58:12.304114Z",
     "iopub.status.idle": "2025-05-03T18:58:12.370874Z",
     "shell.execute_reply": "2025-05-03T18:58:12.370462Z",
     "shell.execute_reply.started": "2025-05-03T18:58:12.304226Z"
    }
   },
   "outputs": [],
   "source": [
    "df_visits_in_patch = select_visits_in_patch(df_visits, tract_info, patch_info)"
   ]
  },
  {
   "cell_type": "code",
   "execution_count": null,
   "id": "ca6a5890-948b-4966-bae1-f9ec6cf946cb",
   "metadata": {
    "execution": {
     "iopub.execute_input": "2025-05-03T18:58:12.371476Z",
     "iopub.status.busy": "2025-05-03T18:58:12.371346Z",
     "iopub.status.idle": "2025-05-03T18:58:12.383215Z",
     "shell.execute_reply": "2025-05-03T18:58:12.382858Z",
     "shell.execute_reply.started": "2025-05-03T18:58:12.371464Z"
    }
   },
   "outputs": [],
   "source": [
    "df_visits_in_patch"
   ]
  },
  {
   "cell_type": "markdown",
   "id": "28e597fa-9f45-45f8-8ddd-b62354513fc2",
   "metadata": {},
   "source": [
    "### Keep the list in memory"
   ]
  },
  {
   "cell_type": "code",
   "execution_count": null,
   "id": "45feda65-3aec-4ee8-ad10-7de3f1b5d068",
   "metadata": {
    "execution": {
     "iopub.execute_input": "2025-05-03T18:58:12.383753Z",
     "iopub.status.busy": "2025-05-03T18:58:12.383628Z",
     "iopub.status.idle": "2025-05-03T18:58:12.389502Z",
     "shell.execute_reply": "2025-05-03T18:58:12.389162Z",
     "shell.execute_reply.started": "2025-05-03T18:58:12.383740Z"
    }
   },
   "outputs": [],
   "source": [
    "visitLists_sel = df_visits_in_patch.visitId.values"
   ]
  },
  {
   "cell_type": "markdown",
   "id": "6ea80a44-0d61-4894-bffd-e100513dcabf",
   "metadata": {},
   "source": [
    "## Get the selected sources"
   ]
  },
  {
   "cell_type": "code",
   "execution_count": null,
   "id": "2b14d237-5517-4d88-83fb-7b74b4533365",
   "metadata": {
    "execution": {
     "iopub.execute_input": "2025-05-03T18:58:12.390079Z",
     "iopub.status.busy": "2025-05-03T18:58:12.389942Z",
     "iopub.status.idle": "2025-05-03T18:58:12.396348Z",
     "shell.execute_reply": "2025-05-03T18:58:12.395940Z",
     "shell.execute_reply.started": "2025-05-03T18:58:12.390059Z"
    }
   },
   "outputs": [],
   "source": [
    "datasettype = \"sourceTable_visit\""
   ]
  },
  {
   "cell_type": "code",
   "execution_count": null,
   "id": "29483b2c-bef9-4285-8e5e-b743517b987e",
   "metadata": {
    "execution": {
     "iopub.execute_input": "2025-05-03T18:58:12.396902Z",
     "iopub.status.busy": "2025-05-03T18:58:12.396776Z",
     "iopub.status.idle": "2025-05-03T18:58:12.404219Z",
     "shell.execute_reply": "2025-05-03T18:58:12.403850Z",
     "shell.execute_reply.started": "2025-05-03T18:58:12.396889Z"
    }
   },
   "outputs": [],
   "source": [
    "Nvis_sel = len(visitLists_sel)\n",
    "print(f\"Number of visits {Nvis_sel}\")\n",
    "print(visitLists_sel)"
   ]
  },
  {
   "cell_type": "code",
   "execution_count": null,
   "id": "68056b5e-e7b1-4f78-9a37-621901383469",
   "metadata": {
    "execution": {
     "iopub.execute_input": "2025-05-03T18:58:12.404749Z",
     "iopub.status.busy": "2025-05-03T18:58:12.404625Z",
     "iopub.status.idle": "2025-05-03T18:58:12.417918Z",
     "shell.execute_reply": "2025-05-03T18:58:12.417571Z",
     "shell.execute_reply.started": "2025-05-03T18:58:12.404737Z"
    }
   },
   "outputs": [],
   "source": [
    "visit_sel = visitLists_sel[0]\n",
    "butler.registry.expandDataId(instrument=instrument, visit=visit_sel)"
   ]
  },
  {
   "cell_type": "code",
   "execution_count": null,
   "id": "34760f0d-6859-482a-b940-212aac828d24",
   "metadata": {
    "execution": {
     "iopub.execute_input": "2025-05-03T18:58:12.418480Z",
     "iopub.status.busy": "2025-05-03T18:58:12.418353Z",
     "iopub.status.idle": "2025-05-03T18:58:12.421256Z",
     "shell.execute_reply": "2025-05-03T18:58:12.420902Z",
     "shell.execute_reply.started": "2025-05-03T18:58:12.418468Z"
    }
   },
   "outputs": [],
   "source": [
    "def load_sourceTables_for_visits(butler, datasettype, instrument, visit_ids):\n",
    "    dfs = []\n",
    "    for visit in visit_ids:\n",
    "        refs = list(\n",
    "            butler.registry.queryDatasets(\n",
    "                datasetType=datasettype, dataId={\"instrument\": instrument, \"visit\": visit}, findFirst=True\n",
    "            )\n",
    "        )\n",
    "        if refs:\n",
    "            df = butler.get(refs[0])\n",
    "            df[\"visit\"] = visit\n",
    "            dfs.append(df)\n",
    "    if dfs:\n",
    "        return pd.concat(dfs, ignore_index=True)\n",
    "    else:\n",
    "        return pd.DataFrame()"
   ]
  },
  {
   "cell_type": "code",
   "execution_count": null,
   "id": "21cdca00-271b-4c69-8253-a9d3cc05d4dd",
   "metadata": {
    "execution": {
     "iopub.execute_input": "2025-05-03T18:58:12.421798Z",
     "iopub.status.busy": "2025-05-03T18:58:12.421670Z",
     "iopub.status.idle": "2025-05-03T18:58:12.427497Z",
     "shell.execute_reply": "2025-05-03T18:58:12.427161Z",
     "shell.execute_reply.started": "2025-05-03T18:58:12.421785Z"
    }
   },
   "outputs": [],
   "source": [
    "# dt = butler.registry.getDatasetType(\"src\")\n",
    "# print(dt.dimensions)"
   ]
  },
  {
   "cell_type": "code",
   "execution_count": null,
   "id": "d73fbbfd-133b-458d-a0df-bf6e64b0d5eb",
   "metadata": {
    "execution": {
     "iopub.execute_input": "2025-05-03T18:58:12.427996Z",
     "iopub.status.busy": "2025-05-03T18:58:12.427873Z",
     "iopub.status.idle": "2025-05-03T18:58:12.434665Z",
     "shell.execute_reply": "2025-05-03T18:58:12.434319Z",
     "shell.execute_reply.started": "2025-05-03T18:58:12.427983Z"
    }
   },
   "outputs": [],
   "source": [
    "# crash\n",
    "# print(f\"Fetch the {datasettype} for each visit in the list\")\n",
    "# df_all_sources = load_sourceTables_for_visits(butler, datasettype,instrument, visitLists_sel)"
   ]
  },
  {
   "cell_type": "code",
   "execution_count": null,
   "id": "0810b0cf-626c-4b9c-85b8-1569666a5b62",
   "metadata": {
    "execution": {
     "iopub.execute_input": "2025-05-03T18:58:12.435208Z",
     "iopub.status.busy": "2025-05-03T18:58:12.435078Z",
     "iopub.status.idle": "2025-05-03T18:58:12.441957Z",
     "shell.execute_reply": "2025-05-03T18:58:12.441605Z",
     "shell.execute_reply.started": "2025-05-03T18:58:12.435195Z"
    }
   },
   "outputs": [],
   "source": [
    "# df_all_sources"
   ]
  },
  {
   "cell_type": "markdown",
   "id": "921525fa-7940-4264-9c06-362c324a3940",
   "metadata": {},
   "source": [
    "### Manage input sources in parquet file"
   ]
  },
  {
   "cell_type": "code",
   "execution_count": null,
   "id": "10e9f7d8-a675-491b-a2d5-fb4fdce92bd9",
   "metadata": {
    "execution": {
     "iopub.execute_input": "2025-05-03T18:58:12.442505Z",
     "iopub.status.busy": "2025-05-03T18:58:12.442379Z",
     "iopub.status.idle": "2025-05-03T18:58:12.451027Z",
     "shell.execute_reply": "2025-05-03T18:58:12.450681Z",
     "shell.execute_reply.started": "2025-05-03T18:58:12.442492Z"
    }
   },
   "outputs": [],
   "source": [
    "outputdir_sources = f\"output_{instrument}_field{keyfield}_t{tractNbSel}_p{patchNbSel}_{datasettype}\"\n",
    "all_inputfiles = glob.glob(f\"{outputdir_sources}/*.parquet\")"
   ]
  },
  {
   "cell_type": "markdown",
   "id": "80e8f047-88fe-4854-a11c-99c5003c6953",
   "metadata": {},
   "source": [
    "#### Dump columns"
   ]
  },
  {
   "cell_type": "code",
   "execution_count": null,
   "id": "e763d840-77a6-436c-aecf-7b41c0756a6e",
   "metadata": {
    "execution": {
     "iopub.execute_input": "2025-05-03T18:58:12.451832Z",
     "iopub.status.busy": "2025-05-03T18:58:12.451462Z",
     "iopub.status.idle": "2025-05-03T18:58:12.479257Z",
     "shell.execute_reply": "2025-05-03T18:58:12.478878Z",
     "shell.execute_reply.started": "2025-05-03T18:58:12.451817Z"
    }
   },
   "outputs": [],
   "source": [
    "inputfile = all_inputfiles[0]\n",
    "df = pd.read_parquet(inputfile)"
   ]
  },
  {
   "cell_type": "code",
   "execution_count": null,
   "id": "cb376de0-bb30-4def-9c1e-a10a70783936",
   "metadata": {
    "execution": {
     "iopub.execute_input": "2025-05-03T18:58:12.479789Z",
     "iopub.status.busy": "2025-05-03T18:58:12.479664Z",
     "iopub.status.idle": "2025-05-03T18:58:12.482262Z",
     "shell.execute_reply": "2025-05-03T18:58:12.481896Z",
     "shell.execute_reply.started": "2025-05-03T18:58:12.479777Z"
    }
   },
   "outputs": [],
   "source": [
    "print(list(df.columns))"
   ]
  },
  {
   "cell_type": "markdown",
   "id": "31b60c40-b12d-403c-9ed9-78963c28d3a3",
   "metadata": {},
   "source": [
    "#### Read all sources"
   ]
  },
  {
   "cell_type": "code",
   "execution_count": null,
   "id": "f5c6c072-3dd8-424a-b5c1-ac86a06100cf",
   "metadata": {
    "execution": {
     "iopub.execute_input": "2025-05-03T18:58:12.483011Z",
     "iopub.status.busy": "2025-05-03T18:58:12.482684Z",
     "iopub.status.idle": "2025-05-03T18:58:19.075870Z",
     "shell.execute_reply": "2025-05-03T18:58:19.075328Z",
     "shell.execute_reply.started": "2025-05-03T18:58:12.482996Z"
    }
   },
   "outputs": [],
   "source": [
    "# Crash due to too big\n",
    "df_all_src = pd.concat([pd.read_parquet(f) for f in all_inputfiles], ignore_index=True)"
   ]
  },
  {
   "cell_type": "code",
   "execution_count": null,
   "id": "3f5d37d7-634a-4d8e-919b-3db759129ad5",
   "metadata": {
    "execution": {
     "iopub.execute_input": "2025-05-03T18:58:19.076605Z",
     "iopub.status.busy": "2025-05-03T18:58:19.076460Z",
     "iopub.status.idle": "2025-05-03T18:58:19.441175Z",
     "shell.execute_reply": "2025-05-03T18:58:19.440696Z",
     "shell.execute_reply.started": "2025-05-03T18:58:19.076590Z"
    }
   },
   "outputs": [],
   "source": [
    "df_all_src"
   ]
  },
  {
   "cell_type": "code",
   "execution_count": null,
   "id": "cefdded6-2f61-4870-826a-3218873d259d",
   "metadata": {
    "execution": {
     "iopub.execute_input": "2025-05-03T18:58:19.441850Z",
     "iopub.status.busy": "2025-05-03T18:58:19.441713Z",
     "iopub.status.idle": "2025-05-03T18:58:19.450405Z",
     "shell.execute_reply": "2025-05-03T18:58:19.449902Z",
     "shell.execute_reply.started": "2025-05-03T18:58:19.441836Z"
    }
   },
   "outputs": [],
   "source": [
    "df_src_onevisit = df_all_src[(df_all_src.visit == visit_sel)]"
   ]
  },
  {
   "cell_type": "code",
   "execution_count": null,
   "id": "17168d28-6b7c-4ab6-bda5-8d09d1d5b094",
   "metadata": {
    "execution": {
     "iopub.execute_input": "2025-05-03T18:58:19.451138Z",
     "iopub.status.busy": "2025-05-03T18:58:19.450995Z",
     "iopub.status.idle": "2025-05-03T18:58:19.469853Z",
     "shell.execute_reply": "2025-05-03T18:58:19.469444Z",
     "shell.execute_reply.started": "2025-05-03T18:58:19.451125Z"
    }
   },
   "outputs": [],
   "source": [
    "df_src_onevisit"
   ]
  },
  {
   "cell_type": "code",
   "execution_count": null,
   "id": "1f53e57a-e434-4e51-b569-5e7238da797c",
   "metadata": {
    "execution": {
     "iopub.execute_input": "2025-05-03T18:58:19.470451Z",
     "iopub.status.busy": "2025-05-03T18:58:19.470321Z",
     "iopub.status.idle": "2025-05-03T18:58:19.478186Z",
     "shell.execute_reply": "2025-05-03T18:58:19.477825Z",
     "shell.execute_reply.started": "2025-05-03T18:58:19.470439Z"
    }
   },
   "outputs": [],
   "source": [
    "df_src_onevisit[[\"coord_ra\", \"ra\", \"coord_dec\", \"dec\"]].aggregate([\"mean\", \"std\"], axis=0)"
   ]
  },
  {
   "cell_type": "code",
   "execution_count": null,
   "id": "1589e6e6-27d3-42aa-aa70-7dc220f1d4cb",
   "metadata": {
    "execution": {
     "iopub.execute_input": "2025-05-03T18:58:19.478775Z",
     "iopub.status.busy": "2025-05-03T18:58:19.478647Z",
     "iopub.status.idle": "2025-05-03T18:58:19.483817Z",
     "shell.execute_reply": "2025-05-03T18:58:19.483411Z",
     "shell.execute_reply.started": "2025-05-03T18:58:19.478762Z"
    }
   },
   "outputs": [],
   "source": [
    "# fig,(ax1,ax2) = plt.subplots(1,2,figsize=(16,5))\n",
    "# df_src_onevisit[\"dra\"].hist(ax=ax1,bins=50,range=(-0.001,0.001))\n",
    "# df_src_onevisit[\"ddec\"].hist(ax=ax2,bins=50,range=(-0.001,0.001))"
   ]
  },
  {
   "cell_type": "markdown",
   "id": "d02be837-ddb2-4f5a-ab7d-bb46e82c80c0",
   "metadata": {},
   "source": [
    "- coord_ra = ra\n",
    "- coord_dec = dec"
   ]
  },
  {
   "cell_type": "code",
   "execution_count": null,
   "id": "55fb9147-5c45-4f55-b0fd-808be4dbc036",
   "metadata": {
    "execution": {
     "iopub.execute_input": "2025-05-03T18:58:19.484397Z",
     "iopub.status.busy": "2025-05-03T18:58:19.484272Z",
     "iopub.status.idle": "2025-05-03T18:58:19.498091Z",
     "shell.execute_reply": "2025-05-03T18:58:19.497733Z",
     "shell.execute_reply.started": "2025-05-03T18:58:19.484384Z"
    }
   },
   "outputs": [],
   "source": [
    "df_src_onevisit[\n",
    "    [\"calibFlux\", \"psfFlux\", \"ap12Flux\", \"ap17Flux\", \"ap25Flux\", \"ap35Flux\", \"calibMag\", \"calibMagErr\"]\n",
    "]"
   ]
  },
  {
   "cell_type": "code",
   "execution_count": null,
   "id": "7dad4df2-7344-4023-9438-16651ff81063",
   "metadata": {
    "execution": {
     "iopub.execute_input": "2025-05-03T18:58:19.498642Z",
     "iopub.status.busy": "2025-05-03T18:58:19.498513Z",
     "iopub.status.idle": "2025-05-03T18:58:21.039430Z",
     "shell.execute_reply": "2025-05-03T18:58:21.038723Z",
     "shell.execute_reply.started": "2025-05-03T18:58:19.498629Z"
    }
   },
   "outputs": [],
   "source": [
    "fig, ax = plt.subplots(1, 1, figsize=(6, 4))\n",
    "\n",
    "for ib, band in enumerate(all_bands):\n",
    "    color = all_bands_colors[ib]\n",
    "    df = df_all_src[df_all_src[\"band\"] == band]\n",
    "    df[\"calibMag\"].hist(ax=ax, bins=50, histtype=\"step\", color=color, label=band)\n",
    "ax.legend()\n",
    "ax.set_yscale(\"log\")\n",
    "ax.set_xlabel(\"calibMag\")\n",
    "ax.set_title(f\"Magnitude of sources in (tract,patch) = ({tractNbSel},{patchNbSel})\")\n",
    "plt.show()"
   ]
  },
  {
   "cell_type": "code",
   "execution_count": null,
   "id": "9be60698-2f42-4ed5-aea9-6fca7a3ebd29",
   "metadata": {
    "execution": {
     "iopub.execute_input": "2025-05-03T19:02:34.615862Z",
     "iopub.status.busy": "2025-05-03T19:02:34.615538Z",
     "iopub.status.idle": "2025-05-03T19:02:44.220943Z",
     "shell.execute_reply": "2025-05-03T19:02:44.220481Z",
     "shell.execute_reply.started": "2025-05-03T19:02:34.615846Z"
    }
   },
   "outputs": [],
   "source": [
    "fig, ax = plt.subplots(1, 1, figsize=(6, 6))\n",
    "for ib, band in enumerate(all_bands):\n",
    "    color = all_bands_colors[ib]\n",
    "    df = df_all_src[df_all_src[\"band\"] == band]\n",
    "    df.plot.scatter(x=\"calibMag\", y=\"calibMagErr\", ax=ax, marker=\".\", s=10, c=color, label=band, alpha=0.5)\n",
    "    # produce a crash\n",
    "ax.legend()\n",
    "ax.set_xlabel(\"calibMag\")\n",
    "ax.set_ylabel(\"calibMagErr\")\n",
    "ax.set_title(f\"Magnitude of sources in (tract,patch) = ({tractNbSel},{patchNbSel})\")\n",
    "ax.set_aspect(\"auto\")\n",
    "plt.show()"
   ]
  },
  {
   "cell_type": "code",
   "execution_count": null,
   "id": "fe6351b6-9d91-45a9-884f-8a7ee4bc64a0",
   "metadata": {},
   "outputs": [],
   "source": []
  },
  {
   "cell_type": "code",
   "execution_count": null,
   "id": "ee50b811-d25f-4a69-9485-54fa62e93bcb",
   "metadata": {},
   "outputs": [],
   "source": []
  }
 ],
 "metadata": {
  "kernelspec": {
   "display_name": "LSST",
   "language": "python",
   "name": "lsst"
  },
  "language_info": {
   "codemirror_mode": {
    "name": "ipython",
    "version": 3
   },
   "file_extension": ".py",
   "mimetype": "text/x-python",
   "name": "python",
   "nbconvert_exporter": "python",
   "pygments_lexer": "ipython3",
   "version": "3.12.9"
  }
 },
 "nbformat": 4,
 "nbformat_minor": 5
}
