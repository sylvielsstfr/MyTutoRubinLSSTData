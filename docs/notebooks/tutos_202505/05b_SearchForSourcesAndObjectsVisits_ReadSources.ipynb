{
 "cells": [
  {
   "cell_type": "markdown",
   "id": "adda26b1-7594-48da-94d2-6722bd71353c",
   "metadata": {},
   "source": [
    "# Tuto to Read The sources and Visits and Objects in LSSTComCam and draw light curves"
   ]
  },
  {
   "cell_type": "markdown",
   "id": "1f276e2d-e5e1-4b30-bf3c-4ea950073fad",
   "metadata": {
    "execution": {
     "iopub.execute_input": "2025-04-29T08:48:57.989253Z",
     "iopub.status.busy": "2025-04-29T08:48:57.988923Z",
     "iopub.status.idle": "2025-04-29T08:48:57.993268Z",
     "shell.execute_reply": "2025-04-29T08:48:57.992764Z",
     "shell.execute_reply.started": "2025-04-29T08:48:57.989226Z"
    }
   },
   "source": [
    "- author : Sylvie Dagoret-Campagne\n",
    "- affiliation : IJCLab/IN2P3/CNRS\n",
    "- member : DESC, rubin-inkind\n",
    "- creation date : 2025-05-03\n",
    "- last update : 2025-05-03"
   ]
  },
  {
   "cell_type": "markdown",
   "id": "81c11161-2bd4-4317-812a-f246f3f70d81",
   "metadata": {},
   "source": [
    "## Note on work done on LSSTComCam Commissioning : https://sitcomtn-149.lsst.io/\n",
    "## Note Data Product definition Document : https://lse-163.lsst.io/"
   ]
  },
  {
   "cell_type": "code",
   "execution_count": null,
   "id": "72f36e25-589c-4a8c-865f-8b51f5f35270",
   "metadata": {
    "execution": {
     "iopub.execute_input": "2025-05-03T20:58:48.644029Z",
     "iopub.status.busy": "2025-05-03T20:58:48.643900Z",
     "iopub.status.idle": "2025-05-03T20:58:49.702062Z",
     "shell.execute_reply": "2025-05-03T20:58:49.701590Z",
     "shell.execute_reply.started": "2025-05-03T20:58:48.644013Z"
    }
   },
   "outputs": [],
   "source": [
    "import sys, os, glob\n",
    "import matplotlib.pyplot as plt\n",
    "import lsst.afw.display as afwDisplay\n",
    "import numpy as np\n",
    "import pandas as pd\n",
    "from astropy.time import Time\n",
    "# %matplotlib widget"
   ]
  },
  {
   "cell_type": "code",
   "execution_count": null,
   "id": "42897fba-1ca4-4f20-837d-bd7478ac4548",
   "metadata": {
    "execution": {
     "iopub.execute_input": "2025-05-03T20:58:49.702973Z",
     "iopub.status.busy": "2025-05-03T20:58:49.702612Z",
     "iopub.status.idle": "2025-05-03T20:58:49.728134Z",
     "shell.execute_reply": "2025-05-03T20:58:49.727712Z",
     "shell.execute_reply.started": "2025-05-03T20:58:49.702952Z"
    }
   },
   "outputs": [],
   "source": [
    "import lsst.geom as geom\n",
    "from lsst.geom import SpherePoint, degrees, Point2D, Point2I\n",
    "from lsst.skymap import PatchInfo, Index2D"
   ]
  },
  {
   "cell_type": "code",
   "execution_count": null,
   "id": "f2580923-bf82-4204-a50d-c64eb56b9f06",
   "metadata": {
    "execution": {
     "iopub.execute_input": "2025-05-03T20:58:49.728889Z",
     "iopub.status.busy": "2025-05-03T20:58:49.728656Z",
     "iopub.status.idle": "2025-05-03T20:58:49.731469Z",
     "shell.execute_reply": "2025-05-03T20:58:49.731088Z",
     "shell.execute_reply.started": "2025-05-03T20:58:49.728873Z"
    }
   },
   "outputs": [],
   "source": [
    "plt.rcParams[\"figure.figsize\"] = (10, 6)\n",
    "plt.rcParams[\"axes.labelsize\"] = \"x-large\"\n",
    "plt.rcParams[\"axes.titlesize\"] = \"x-large\"\n",
    "plt.rcParams[\"xtick.labelsize\"] = \"x-large\"\n",
    "plt.rcParams[\"ytick.labelsize\"] = \"x-large\""
   ]
  },
  {
   "cell_type": "code",
   "execution_count": null,
   "id": "d47f09df-7496-431c-b4ae-4fb75a3c6ef9",
   "metadata": {
    "execution": {
     "iopub.execute_input": "2025-05-03T20:58:49.732031Z",
     "iopub.status.busy": "2025-05-03T20:58:49.731893Z",
     "iopub.status.idle": "2025-05-03T20:58:49.742867Z",
     "shell.execute_reply": "2025-05-03T20:58:49.742234Z",
     "shell.execute_reply.started": "2025-05-03T20:58:49.732018Z"
    }
   },
   "outputs": [],
   "source": [
    "import gc"
   ]
  },
  {
   "cell_type": "code",
   "execution_count": null,
   "id": "1a1a267b-58c7-468a-a336-2c8def253a79",
   "metadata": {
    "execution": {
     "iopub.execute_input": "2025-05-03T20:58:49.743835Z",
     "iopub.status.busy": "2025-05-03T20:58:49.743639Z",
     "iopub.status.idle": "2025-05-03T20:58:49.755620Z",
     "shell.execute_reply": "2025-05-03T20:58:49.755219Z",
     "shell.execute_reply.started": "2025-05-03T20:58:49.743813Z"
    }
   },
   "outputs": [],
   "source": [
    "import traceback"
   ]
  },
  {
   "cell_type": "code",
   "execution_count": null,
   "id": "ede21bda-146f-4c77-aa40-edf2debfbfc0",
   "metadata": {
    "execution": {
     "iopub.execute_input": "2025-05-03T20:58:49.756187Z",
     "iopub.status.busy": "2025-05-03T20:58:49.756038Z",
     "iopub.status.idle": "2025-05-03T20:58:50.750858Z",
     "shell.execute_reply": "2025-05-03T20:58:50.750338Z",
     "shell.execute_reply.started": "2025-05-03T20:58:49.756172Z"
    }
   },
   "outputs": [],
   "source": [
    "# Define butler\n",
    "from lsst.daf.butler import Butler"
   ]
  },
  {
   "cell_type": "code",
   "execution_count": null,
   "id": "c7ab7fe3-285d-48c2-973a-2dde9d0a7faa",
   "metadata": {
    "execution": {
     "iopub.execute_input": "2025-05-03T20:58:50.751530Z",
     "iopub.status.busy": "2025-05-03T20:58:50.751388Z",
     "iopub.status.idle": "2025-05-03T20:58:51.429222Z",
     "shell.execute_reply": "2025-05-03T20:58:51.428650Z",
     "shell.execute_reply.started": "2025-05-03T20:58:50.751515Z"
    }
   },
   "outputs": [],
   "source": [
    "!eups list lsst_distrib"
   ]
  },
  {
   "cell_type": "code",
   "execution_count": null,
   "id": "e5e6fab3-5cc8-4022-aedc-6d15f42f6dff",
   "metadata": {
    "execution": {
     "iopub.execute_input": "2025-05-03T20:58:51.430066Z",
     "iopub.status.busy": "2025-05-03T20:58:51.429910Z",
     "iopub.status.idle": "2025-05-03T20:58:51.433209Z",
     "shell.execute_reply": "2025-05-03T20:58:51.432838Z",
     "shell.execute_reply.started": "2025-05-03T20:58:51.430049Z"
    }
   },
   "outputs": [],
   "source": [
    "def nJy_to_ab_mag(f_njy):\n",
    "    \"\"\"Convert flux in nanojanskys to AB magnitude.\"\"\"\n",
    "    if f_njy > 0:\n",
    "        return -2.5 * np.log10(f_njy) + 31.4\n",
    "    else:\n",
    "        return 0.0\n",
    "\n",
    "\n",
    "def ab_mag_to_nJy(mag_ab):\n",
    "    \"\"\"Convert AB magnitude to flux in nanojanskys.\"\"\"\n",
    "    return 10 ** ((31.4 - mag_ab) / 2.5)"
   ]
  },
  {
   "cell_type": "code",
   "execution_count": null,
   "id": "dbe3a976-0df1-4b45-8774-fd985a847821",
   "metadata": {
    "execution": {
     "iopub.execute_input": "2025-05-03T20:58:51.433794Z",
     "iopub.status.busy": "2025-05-03T20:58:51.433663Z",
     "iopub.status.idle": "2025-05-03T20:58:51.444341Z",
     "shell.execute_reply": "2025-05-03T20:58:51.443984Z",
     "shell.execute_reply.started": "2025-05-03T20:58:51.433782Z"
    }
   },
   "outputs": [],
   "source": [
    "def select_visits_in_patch(df, tractInfo, patchInfo):\n",
    "    \"\"\"\n",
    "    Sélectionne les lignes du DataFrame correspondant à des visites dans un patch donné.\n",
    "\n",
    "    Paramètres\n",
    "    ----------\n",
    "    df : pandas.DataFrame\n",
    "        Doit contenir les colonnes 'ra' et 'dec' en degrés.\n",
    "    tractInfo : lsst.skymap.TractInfo\n",
    "    patchInfo : lsst.skymap.PatchInfo\n",
    "\n",
    "    Retourne\n",
    "    --------\n",
    "    df_filtered : pandas.DataFrame\n",
    "        Les lignes du DataFrame dont les RA/Dec sont dans le patch spécifié.\n",
    "    \"\"\"\n",
    "    wcs = tractInfo.getWcs()\n",
    "    bbox = patchInfo.getOuterBBox()\n",
    "\n",
    "    def is_inside_patch(ra, dec):\n",
    "        coord = SpherePoint(ra * degrees, dec * degrees)\n",
    "        if not tractInfo.contains(coord):\n",
    "            return False\n",
    "        pix = wcs.skyToPixel(coord)\n",
    "        return bbox.contains(Point2I(pix))\n",
    "\n",
    "    mask = df.apply(lambda row: is_inside_patch(row[\"ra\"], row[\"dec\"]), axis=1)\n",
    "    return df[mask].copy()"
   ]
  },
  {
   "cell_type": "code",
   "execution_count": null,
   "id": "b207720f-9aaf-40d0-b572-c582cddb35d6",
   "metadata": {
    "execution": {
     "iopub.execute_input": "2025-05-03T20:58:51.444914Z",
     "iopub.status.busy": "2025-05-03T20:58:51.444789Z",
     "iopub.status.idle": "2025-05-03T20:58:51.456530Z",
     "shell.execute_reply": "2025-05-03T20:58:51.456148Z",
     "shell.execute_reply.started": "2025-05-03T20:58:51.444902Z"
    }
   },
   "outputs": [],
   "source": [
    "# Tested but long\n",
    "def assign_tract_patch(df, skyMap):\n",
    "    \"\"\"\n",
    "    Attribue (tract, patch) à chaque ligne d’un DataFrame selon ses coordonnées célestes.\n",
    "\n",
    "    Paramètres\n",
    "    ----------\n",
    "    df : pandas.DataFrame\n",
    "        Doit contenir les colonnes 'ra' et 'dec' (en degrés).\n",
    "    skyMap : lsst.skymap.SkyMap\n",
    "        Obtenu via butler.get(\"skyMap\")\n",
    "\n",
    "    Retour\n",
    "    ------\n",
    "    df_result : pandas.DataFrame\n",
    "        DataFrame original avec deux colonnes supplémentaires :\n",
    "        'tract' et 'patch' (tuple (x, y) ou None si hors carte).\n",
    "    \"\"\"\n",
    "\n",
    "    def find_tract_patch(ra, dec):\n",
    "        coord = SpherePoint(ra * degrees, dec * degrees)\n",
    "        for tractInfo in skyMap:\n",
    "            if tractInfo.contains(coord):\n",
    "                wcs = tractInfo.getWcs()\n",
    "                pix = wcs.skyToPixel(coord)\n",
    "                point = Point2I(pix)\n",
    "                for patchInfo in tractInfo:\n",
    "                    if patchInfo.getOuterBBox().contains(point):\n",
    "                        return tractInfo.getId(), patchInfo.getSequentialIndex()\n",
    "        return None, None\n",
    "\n",
    "    results = df.apply(lambda row: find_tract_patch(row[\"ra\"], row[\"dec\"]), axis=1)\n",
    "    df[[\"tract\", \"patch\"]] = pd.DataFrame(results.tolist(), index=df.index)\n",
    "    return df"
   ]
  },
  {
   "cell_type": "code",
   "execution_count": null,
   "id": "c537827d-6be7-47ef-8363-5e85cb2cde5f",
   "metadata": {
    "execution": {
     "iopub.execute_input": "2025-05-03T20:58:51.457141Z",
     "iopub.status.busy": "2025-05-03T20:58:51.457009Z",
     "iopub.status.idle": "2025-05-03T20:58:51.466305Z",
     "shell.execute_reply": "2025-05-03T20:58:51.465943Z",
     "shell.execute_reply.started": "2025-05-03T20:58:51.457128Z"
    }
   },
   "outputs": [],
   "source": [
    "# Not tested\n",
    "def filter_in_patch_vectorized(df, tractInfo, patchInfo):\n",
    "    \"\"\"\n",
    "    Sélection rapide (vectorisée) d’un sous-ensemble RA/Dec inclus dans un patch donné.\n",
    "\n",
    "    Attention : plus rapide, mais approximatif si les coordonnées sont très en bordure.\n",
    "\n",
    "    Paramètres\n",
    "    ----------\n",
    "    df : pandas.DataFrame avec colonnes 'ra', 'dec'\n",
    "    tractInfo : TractInfo\n",
    "    patchInfo : PatchInfo\n",
    "\n",
    "    Retour\n",
    "    ------\n",
    "    df_filtered : pandas.DataFrame\n",
    "    \"\"\"\n",
    "    wcs = tractInfo.getWcs()\n",
    "    bbox = patchInfo.getOuterBBox()\n",
    "\n",
    "    # Conversion RA/Dec → radians\n",
    "    ra_rad = np.deg2rad(df[\"ra\"].values)\n",
    "    dec_rad = np.deg2rad(df[\"dec\"].values)\n",
    "\n",
    "    # Conversion → Point2D (skyToPixel produit Point2D, pas Point2I)\n",
    "    pix_x = []\n",
    "    pix_y = []\n",
    "    for ra, dec in zip(ra_rad, dec_rad):\n",
    "        sp = SpherePoint(ra, dec)\n",
    "        pix = wcs.skyToPixel(sp)\n",
    "        pix_x.append(pix.getX())\n",
    "        pix_y.append(pix.getY())\n",
    "\n",
    "    pix_x = np.array(pix_x)\n",
    "    pix_y = np.array(pix_y)\n",
    "\n",
    "    # BBox (xmin, xmax, ymin, ymax)\n",
    "    xmin, xmax = bbox.getMinX(), bbox.getMaxX()\n",
    "    ymin, ymax = bbox.getMinY(), bbox.getMaxY()\n",
    "\n",
    "    # Masque vectoriel\n",
    "    mask = (pix_x >= xmin) & (pix_x <= xmax) & (pix_y >= ymin) & (pix_y <= ymax)\n",
    "\n",
    "    return df[mask].copy()"
   ]
  },
  {
   "cell_type": "markdown",
   "id": "7e369002-01db-40e2-a7b7-036072114e6a",
   "metadata": {},
   "source": [
    "## RubinTV, Campaigns , quicklook\n",
    "- RubinTV : https://usdf-rsp.slac.stanford.edu/rubintv/summit-usdf/lsstcam\n",
    "- https://rubinobs.atlassian.net/wiki/spaces/LSSTCOM/pages/467370016/LSSTCam+Commissioning+Planning\n",
    "- LSSTCam DM campaign : https://rubinobs.atlassian.net/wiki/spaces/DM/pages/48834013/Campaigns#1.1.2.-LSSTCam-Nightly-Validation-Pipeline\n",
    "- Check campaign also here  https://rubinobs.atlassian.net/wiki/pages/diffpagesbyversion.action?pageId=48834013&selectedPageVersions=145%2C143\n",
    "- fov-quicklook : https://usdf-rsp-dev.slac.stanford.edu/fov-quicklook/"
   ]
  },
  {
   "cell_type": "markdown",
   "id": "4ce495c8-71a6-4846-86fc-5715e13348ab",
   "metadata": {},
   "source": [
    "## Configuration"
   ]
  },
  {
   "cell_type": "code",
   "execution_count": null,
   "id": "91e7b166-6245-4e54-8cb1-21f34fbba78f",
   "metadata": {
    "execution": {
     "iopub.execute_input": "2025-05-03T20:58:51.466858Z",
     "iopub.status.busy": "2025-05-03T20:58:51.466733Z",
     "iopub.status.idle": "2025-05-03T20:58:51.478906Z",
     "shell.execute_reply": "2025-05-03T20:58:51.478486Z",
     "shell.execute_reply.started": "2025-05-03T20:58:51.466846Z"
    }
   },
   "outputs": [],
   "source": [
    "FLAG_DUMP_COLLECTIONS = False\n",
    "FLAG_DUMP_DATASETS = False\n",
    "FLAG_DUMP_OBJECTSTABLECOLUMNS = False\n",
    "FLAG_CUT_OBJECTSMAG = True\n",
    "FLAG_DUMP_VISITTABLEECOLUMNS = False\n",
    "FLAG_COMPUTE_VISITSTRACTSPATCHS = False"
   ]
  },
  {
   "cell_type": "code",
   "execution_count": null,
   "id": "27fbb224-209b-42ba-8d66-9c7d7463173a",
   "metadata": {
    "execution": {
     "iopub.execute_input": "2025-05-03T20:58:51.479522Z",
     "iopub.status.busy": "2025-05-03T20:58:51.479390Z",
     "iopub.status.idle": "2025-05-03T20:58:51.487339Z",
     "shell.execute_reply": "2025-05-03T20:58:51.486997Z",
     "shell.execute_reply.started": "2025-05-03T20:58:51.479509Z"
    }
   },
   "outputs": [],
   "source": [
    "MAGCUT = 15.0"
   ]
  },
  {
   "cell_type": "code",
   "execution_count": null,
   "id": "566b4b6f-68ac-472f-9a14-9645d06d291a",
   "metadata": {
    "execution": {
     "iopub.execute_input": "2025-05-03T20:58:51.487863Z",
     "iopub.status.busy": "2025-05-03T20:58:51.487743Z",
     "iopub.status.idle": "2025-05-03T20:58:51.499102Z",
     "shell.execute_reply": "2025-05-03T20:58:51.498600Z",
     "shell.execute_reply.started": "2025-05-03T20:58:51.487850Z"
    }
   },
   "outputs": [],
   "source": [
    "all_bands = [\"u\", \"g\", \"r\", \"i\", \"z\", \"y\"]\n",
    "all_bands_colors = [\"blue\", \"green\", \"red\", \"orange\", \"yellow\", \"purple\"]"
   ]
  },
  {
   "cell_type": "markdown",
   "id": "29bdd60b-f237-4a90-8aee-95f83091a5c8",
   "metadata": {},
   "source": [
    "### Choose instrument"
   ]
  },
  {
   "cell_type": "code",
   "execution_count": null,
   "id": "66ff700b-a6ab-4b6d-ab28-dfadf54fdd9f",
   "metadata": {
    "execution": {
     "iopub.execute_input": "2025-05-03T20:58:51.499760Z",
     "iopub.status.busy": "2025-05-03T20:58:51.499621Z",
     "iopub.status.idle": "2025-05-03T20:58:51.506861Z",
     "shell.execute_reply": "2025-05-03T20:58:51.506497Z",
     "shell.execute_reply.started": "2025-05-03T20:58:51.499746Z"
    }
   },
   "outputs": [],
   "source": [
    "# instrument = \"LSSTCam\"\n",
    "\n",
    "# We focus here on sky fields oberved by LSSTComCam, so we select this camera\n",
    "instrument = \"LSSTComCam\""
   ]
  },
  {
   "cell_type": "markdown",
   "id": "6a07464c-6f2e-4015-8ea6-1fbc5698c1dd",
   "metadata": {},
   "source": [
    "### Choose options"
   ]
  },
  {
   "cell_type": "markdown",
   "id": "29fc15af-ca3f-4c38-99ec-433e84dae8a2",
   "metadata": {},
   "source": [
    "### For LSSTCam : RubinTV, Campaigns , quicklook\n",
    "- RubinTV : https://usdf-rsp.slac.stanford.edu/rubintv/summit-usdf/lsstcam\n",
    "- https://rubinobs.atlassian.net/wiki/spaces/LSSTCOM/pages/467370016/LSSTCam+Commissioning+Planning\n",
    "- LSSTCam DM campaign : https://rubinobs.atlassian.net/wiki/spaces/DM/pages/48834013/Campaigns#1.1.2.-LSSTCam-Nightly-Validation-Pipeline\n",
    "- Check campaign also here  https://rubinobs.atlassian.net/wiki/pages/diffpagesbyversion.action?pageId=48834013&selectedPageVersions=145%2C143\n",
    "- fov-quicklook : https://usdf-rsp-dev.slac.stanford.edu/fov-quicklook/"
   ]
  },
  {
   "cell_type": "markdown",
   "id": "5542de7d-695e-4256-b765-28b902b02adc",
   "metadata": {},
   "source": [
    "### For LSSTComCam check here : \n",
    "- Check here the collection available : https://rubinobs.atlassian.net/wiki/spaces/DM/pages/226656354/LSSTComCam+Intermittent+Cumulative+DRP+Runs"
   ]
  },
  {
   "cell_type": "code",
   "execution_count": null,
   "id": "eacb14b0-183c-4dcd-ba59-64c7ca3efcd3",
   "metadata": {
    "execution": {
     "iopub.execute_input": "2025-05-03T20:58:51.507479Z",
     "iopub.status.busy": "2025-05-03T20:58:51.507347Z",
     "iopub.status.idle": "2025-05-03T20:58:51.515090Z",
     "shell.execute_reply": "2025-05-03T20:58:51.514743Z",
     "shell.execute_reply.started": "2025-05-03T20:58:51.507467Z"
    }
   },
   "outputs": [],
   "source": [
    "if instrument == \"LSSTCam\":\n",
    "    repo = \"/repo/embargo\"\n",
    "    instrument = \"LSSTCam\"\n",
    "    collection_validation = instrument + \"/runs/nightlyValidation\"\n",
    "    # collection_quicklook   = instrument + '/runs/quickLookTesting'\n",
    "    collection_validation = os.path.join(collection_validation, \"20250416/d_2025_04_15/DM-50157\")\n",
    "    date_start = 20250415\n",
    "    date_selection = 20250416\n",
    "    where_clause = \"instrument = '\" + f\"{instrument}\" + \"'\"\n",
    "    where_clause_instrument = \"instrument = '\" + instrument + \"'\"\n",
    "    where_clause_date = where_clause + f\"and day_obs >= {date_start}\"\n",
    "    skymapName = \"lsst_cells_v1\"\n",
    "    BANDSEL = \"i\"\n",
    "\n",
    "elif instrument == \"LSSTComCam\":\n",
    "    repo = \"/repo/main\"\n",
    "    collection_validation = \"LSSTComCam/runs/DRP/DP1/w_2025_10/DM-49359\"  # work 2025-05-01\n",
    "    # collection_validation = \"LSSTComCam/runs/DRP/DP1/w_2025_17/DM-50530\" #updated 2025-05-02\n",
    "    date_start = 20241024\n",
    "    date_selection = 20241211\n",
    "    skymapName = \"lsst_cells_v1\"\n",
    "    where_clause = \"instrument = '\" + instrument + \"'\"\n",
    "    where_clause_instrument = \"instrument = '\" + instrument + \"'\"\n",
    "    where_clause_date = where_clause + f\"and day_obs >= {date_start}\"\n",
    "\n",
    "    NDET = 9\n",
    "    TRACTSEL = 5063\n",
    "    BANDSEL = \"i\""
   ]
  },
  {
   "cell_type": "code",
   "execution_count": null,
   "id": "82535307-9253-4f06-b82a-956efd0217c9",
   "metadata": {
    "execution": {
     "iopub.execute_input": "2025-05-03T20:58:51.515792Z",
     "iopub.status.busy": "2025-05-03T20:58:51.515663Z",
     "iopub.status.idle": "2025-05-03T20:58:51.525395Z",
     "shell.execute_reply": "2025-05-03T20:58:51.525007Z",
     "shell.execute_reply.started": "2025-05-03T20:58:51.515780Z"
    }
   },
   "outputs": [],
   "source": [
    "collectionStr = collection_validation.replace(\"/\", \"_\")"
   ]
  },
  {
   "cell_type": "markdown",
   "id": "e77a39ca-c34f-4097-8a11-c40a121a82e9",
   "metadata": {},
   "source": [
    "## Access to Butler registry"
   ]
  },
  {
   "cell_type": "code",
   "execution_count": null,
   "id": "8726b7e4-94b7-48ac-92f8-447b34b7a59e",
   "metadata": {
    "execution": {
     "iopub.execute_input": "2025-05-03T20:58:51.526109Z",
     "iopub.status.busy": "2025-05-03T20:58:51.525858Z",
     "iopub.status.idle": "2025-05-03T20:58:51.913394Z",
     "shell.execute_reply": "2025-05-03T20:58:51.912939Z",
     "shell.execute_reply.started": "2025-05-03T20:58:51.526095Z"
    }
   },
   "outputs": [],
   "source": [
    "# Initialize the butler repo:\n",
    "butler = Butler(repo, collections=collection_validation)\n",
    "registry = butler.registry"
   ]
  },
  {
   "cell_type": "markdown",
   "id": "a82d1397-cd01-45d3-9f39-8b4f6bcbb21f",
   "metadata": {},
   "source": [
    "## Create a skymap object and Camera"
   ]
  },
  {
   "cell_type": "code",
   "execution_count": null,
   "id": "2a570834-a5dc-43b8-a0d3-af71a5b2706c",
   "metadata": {
    "execution": {
     "iopub.execute_input": "2025-05-03T20:58:51.914011Z",
     "iopub.status.busy": "2025-05-03T20:58:51.913866Z",
     "iopub.status.idle": "2025-05-03T20:58:52.267329Z",
     "shell.execute_reply": "2025-05-03T20:58:52.266827Z",
     "shell.execute_reply.started": "2025-05-03T20:58:51.913995Z"
    }
   },
   "outputs": [],
   "source": [
    "skymap = butler.get(\"skyMap\", skymap=skymapName, collections=collection_validation)"
   ]
  },
  {
   "cell_type": "code",
   "execution_count": null,
   "id": "8870762e-6e5d-4a6d-b101-1783285b1935",
   "metadata": {
    "execution": {
     "iopub.execute_input": "2025-05-03T20:58:52.271944Z",
     "iopub.status.busy": "2025-05-03T20:58:52.271801Z",
     "iopub.status.idle": "2025-05-03T20:58:52.794755Z",
     "shell.execute_reply": "2025-05-03T20:58:52.794365Z",
     "shell.execute_reply.started": "2025-05-03T20:58:52.271930Z"
    }
   },
   "outputs": [],
   "source": [
    "camera = butler.get(\"camera\", collections=collection_validation, instrument=instrument)"
   ]
  },
  {
   "cell_type": "markdown",
   "id": "f0e61f09-1f15-4f29-9555-d4015b09c5cc",
   "metadata": {},
   "source": [
    "## Query for collections in Butler\n",
    "\n",
    "- remove user collections\n",
    "- remove calibration products"
   ]
  },
  {
   "cell_type": "code",
   "execution_count": null,
   "id": "55edfcaa-96c0-49dc-827c-0167a0b6f731",
   "metadata": {
    "execution": {
     "iopub.execute_input": "2025-05-03T20:58:52.795314Z",
     "iopub.status.busy": "2025-05-03T20:58:52.795175Z",
     "iopub.status.idle": "2025-05-03T20:58:52.797976Z",
     "shell.execute_reply": "2025-05-03T20:58:52.797663Z",
     "shell.execute_reply.started": "2025-05-03T20:58:52.795299Z"
    }
   },
   "outputs": [],
   "source": [
    "# mostly setup for LSSTCam\n",
    "if FLAG_DUMP_COLLECTIONS:\n",
    "    for _ in sorted(registry.queryCollections(expression=instrument + \"/*\")):\n",
    "        if \"/calib/\" not in _ and \"u/\" not in _:\n",
    "            print(_)"
   ]
  },
  {
   "cell_type": "markdown",
   "id": "3ff90940-a996-4174-97b4-beb8895ae7a4",
   "metadata": {},
   "source": [
    "## Query for the dataset types in the Butler\n",
    "\n",
    "- Refer to the Data Product definition Document to know about the definition of datasets\n",
    "- https://www.lsst.org/about/dm/data-products\n",
    "- https://lse-163.lsst.io/\n",
    "- https://docushare.lsst.org/docushare/dsweb/Get/LSE-163"
   ]
  },
  {
   "cell_type": "code",
   "execution_count": null,
   "id": "4c411a6c-6a67-437e-86d6-720e4d5a4a4b",
   "metadata": {
    "execution": {
     "iopub.execute_input": "2025-05-03T20:58:52.798502Z",
     "iopub.status.busy": "2025-05-03T20:58:52.798370Z",
     "iopub.status.idle": "2025-05-03T20:58:52.806514Z",
     "shell.execute_reply": "2025-05-03T20:58:52.806201Z",
     "shell.execute_reply.started": "2025-05-03T20:58:52.798489Z"
    }
   },
   "outputs": [],
   "source": [
    "if FLAG_DUMP_DATASETS:\n",
    "    for datasetType in registry.queryDatasetTypes():\n",
    "        if registry.queryDatasets(datasetType, collections=collection_validation).any(\n",
    "            execute=False, exact=False\n",
    "        ):\n",
    "            # Limit search results to the data products\n",
    "            if (\n",
    "                (\"_config\" not in datasetType.name)\n",
    "                and (\"_log\" not in datasetType.name)\n",
    "                and (\"_metadata\" not in datasetType.name)\n",
    "                and (\"_resource_usage\" not in datasetType.name)\n",
    "                and (\"Plot\" not in datasetType.name)\n",
    "                and (\"Metric\" not in datasetType.name)\n",
    "                and (\"metric\" not in datasetType.name)\n",
    "            ):\n",
    "                if \"object\" in datasetType.name or \"Obj\" in datasetType.name:\n",
    "                    print(datasetType)\n",
    "                if \"source\" in datasetType.name or \"Source\" in datasetType.name:\n",
    "                    print(datasetType)\n",
    "                if \"visit\" in datasetType.name or \"Visit\" in datasetType.name:\n",
    "                    print(datasetType)"
   ]
  },
  {
   "cell_type": "markdown",
   "id": "f78111e1-238c-4641-b3c1-0faebbbb89b1",
   "metadata": {},
   "source": [
    "## Region of interest"
   ]
  },
  {
   "cell_type": "code",
   "execution_count": null,
   "id": "6d0b6ebe-24c0-4046-9657-7187929a5f9a",
   "metadata": {
    "execution": {
     "iopub.execute_input": "2025-05-03T20:58:52.806997Z",
     "iopub.status.busy": "2025-05-03T20:58:52.806870Z",
     "iopub.status.idle": "2025-05-03T20:58:52.818338Z",
     "shell.execute_reply": "2025-05-03T20:58:52.818042Z",
     "shell.execute_reply.started": "2025-05-03T20:58:52.806983Z"
    }
   },
   "outputs": [],
   "source": [
    "lsstcomcam_targets = {}\n",
    "lsstcomcam_targets[\"47 Tuc\"] = {\"field_name\": \"47 Tuc Globular Cluster\", \"ra\": 6.02, \"dec\": -72.08}\n",
    "lsstcomcam_targets[\"Rubin SV 38 7\"] = {\"field_name\": \"Low Ecliptic Latitude Field\", \"ra\": 37.86, \"dec\": 6.98}\n",
    "lsstcomcam_targets[\"Fornax dSph\"] = {\n",
    "    \"field_name\": \"Fornax Dwarf Spheroidal Galaxy\",\n",
    "    \"ra\": 40.0,\n",
    "    \"dec\": -34.45,\n",
    "}\n",
    "lsstcomcam_targets[\"ECDFS\"] = {\"field_name\": \"Extended Chandra Deep Field South\", \"ra\": 53.13, \"dec\": -28.10}\n",
    "lsstcomcam_targets[\"EDFS\"] = {\"field_name\": \"Euclid Deep Field South\", \"ra\": 59.10, \"dec\": -48.73}\n",
    "lsstcomcam_targets[\"Rubin SV 95 -25\"] = {\n",
    "    \"field_name\": \"Low Galactic Latitude Field\",\n",
    "    \"ra\": 95.00,\n",
    "    \"dec\": -25.0,\n",
    "}\n",
    "lsstcomcam_targets[\"Seagull\"] = {\"field_name\": \"Seagull Nebula\", \"ra\": 106.23, \"dec\": -10.51}"
   ]
  },
  {
   "cell_type": "code",
   "execution_count": null,
   "id": "2fdc2905-3fd5-485e-a66b-56927d3de02f",
   "metadata": {
    "execution": {
     "iopub.execute_input": "2025-05-03T20:58:52.818827Z",
     "iopub.status.busy": "2025-05-03T20:58:52.818704Z",
     "iopub.status.idle": "2025-05-03T20:58:52.828393Z",
     "shell.execute_reply": "2025-05-03T20:58:52.828090Z",
     "shell.execute_reply.started": "2025-05-03T20:58:52.818815Z"
    }
   },
   "outputs": [],
   "source": [
    "# the_target = lsstcomcam_targets[\"Seagull\"]\n",
    "# the_target = lsstcomcam_targets[\"47 Tuc\"] # bad\n",
    "# the_target = lsstcomcam_targets[\"Fornax dSph\"]\n",
    "# the_target = lsstcomcam_targets[\"ECDFS\"]\n",
    "\n",
    "\n",
    "# key = \"Seagull\"\n",
    "# key = \"Fornax dSph\"\n",
    "key = \"ECDFS\"\n",
    "# key = \"EDFS\"\n",
    "# key = \"47 Tuc\"\n",
    "# key = \"Rubin SV 38 7\"\n",
    "# key = \"Rubin SV 95 -25\"\n",
    "\n",
    "keyfield = \"\".join(key.split())\n",
    "\n",
    "the_target = lsstcomcam_targets[key]\n",
    "target_ra = the_target[\"ra\"]\n",
    "target_dec = the_target[\"dec\"]\n",
    "target_title = (\n",
    "    the_target[\"field_name\"] + f\" band  {BANDSEL} \" + f\" (ra,dec) = ({target_ra:.2f},{target_dec:.2f}) \"\n",
    ")\n",
    "target_point = SpherePoint(target_ra, target_dec, degrees)"
   ]
  },
  {
   "cell_type": "markdown",
   "id": "5097cdde-6283-4499-aaaa-57e799bdd53a",
   "metadata": {},
   "source": [
    "## Get list of tracts from the objectTable_tract"
   ]
  },
  {
   "cell_type": "code",
   "execution_count": null,
   "id": "3560cdd4-3d7e-4325-a3f5-07a0d70a8360",
   "metadata": {
    "execution": {
     "iopub.execute_input": "2025-05-03T20:58:52.828867Z",
     "iopub.status.busy": "2025-05-03T20:58:52.828746Z",
     "iopub.status.idle": "2025-05-03T20:58:52.836756Z",
     "shell.execute_reply": "2025-05-03T20:58:52.836450Z",
     "shell.execute_reply.started": "2025-05-03T20:58:52.828855Z"
    }
   },
   "outputs": [],
   "source": [
    "# Find the dimension\n",
    "print(butler.registry.getDatasetType(\"objectTable_tract\").dimensions)"
   ]
  },
  {
   "cell_type": "code",
   "execution_count": null,
   "id": "e07d2107-8c9e-485e-89bc-ec6e52fa10f4",
   "metadata": {
    "execution": {
     "iopub.execute_input": "2025-05-03T20:58:52.837271Z",
     "iopub.status.busy": "2025-05-03T20:58:52.837144Z",
     "iopub.status.idle": "2025-05-03T20:58:52.919440Z",
     "shell.execute_reply": "2025-05-03T20:58:52.919089Z",
     "shell.execute_reply.started": "2025-05-03T20:58:52.837258Z"
    }
   },
   "outputs": [],
   "source": [
    "datasettype = \"objectTable_tract\"\n",
    "therefs = butler.registry.queryDatasets(datasettype, collections=collection_validation)\n",
    "tractsId_list = np.unique([ref.dataId[\"tract\"] for ref in therefs])\n",
    "tractsId_list = sorted(tractsId_list)\n",
    "print(tractsId_list)"
   ]
  },
  {
   "cell_type": "markdown",
   "id": "f060f57d-ac96-4ec7-8a94-f760e118248a",
   "metadata": {},
   "source": [
    "## Find the Tract and Patch of the region of interest\n",
    "\n",
    "- tract in tractNbSel\n",
    "- patch in patchNbSel"
   ]
  },
  {
   "cell_type": "code",
   "execution_count": null,
   "id": "ea99cc96-a0bf-4dec-9418-895e5569688b",
   "metadata": {
    "execution": {
     "iopub.execute_input": "2025-05-03T20:58:52.919968Z",
     "iopub.status.busy": "2025-05-03T20:58:52.919835Z",
     "iopub.status.idle": "2025-05-03T20:58:52.925291Z",
     "shell.execute_reply": "2025-05-03T20:58:52.924910Z",
     "shell.execute_reply.started": "2025-05-03T20:58:52.919953Z"
    }
   },
   "outputs": [],
   "source": [
    "tract_info = skymap.findTract(target_point)\n",
    "patch_info = tract_info.findPatch(target_point)\n",
    "bbox = patch_info.getOuterBBox()\n",
    "\n",
    "print(\"Patch bounding box:\", bbox)\n",
    "\n",
    "print(\"Tract ID :\", tract_info.getId())\n",
    "tractNbSel = tract_info.getId()\n",
    "\n",
    "print(\"Patch Index :\", patch_info.getIndex(), \" , \", patch_info.getSequentialIndex())  # (x, y)\n",
    "print(\"Bounding Box\", bbox)\n",
    "\n",
    "patchNbSel = patch_info.getSequentialIndex()"
   ]
  },
  {
   "cell_type": "code",
   "execution_count": null,
   "id": "e1df364f-89a7-4a94-9541-89a05d75004c",
   "metadata": {
    "execution": {
     "iopub.execute_input": "2025-05-03T20:58:52.925814Z",
     "iopub.status.busy": "2025-05-03T20:58:52.925682Z",
     "iopub.status.idle": "2025-05-03T20:58:52.933399Z",
     "shell.execute_reply": "2025-05-03T20:58:52.933086Z",
     "shell.execute_reply.started": "2025-05-03T20:58:52.925800Z"
    }
   },
   "outputs": [],
   "source": [
    "dataId = {\"band\": BANDSEL, \"tract\": tractNbSel, \"patch\": patchNbSel, \"skymap\": skymapName}"
   ]
  },
  {
   "cell_type": "markdown",
   "id": "131ff71d-cee0-4141-ac33-c8f33758a584",
   "metadata": {},
   "source": [
    "## The Objects\n",
    "\n",
    "- Objects are extracted from object detection on deepcoadds\n",
    "- all bands are included "
   ]
  },
  {
   "cell_type": "code",
   "execution_count": null,
   "id": "da53ac66-c2fc-4b54-a19b-0e6d2def56a9",
   "metadata": {
    "execution": {
     "iopub.execute_input": "2025-05-03T20:58:52.933906Z",
     "iopub.status.busy": "2025-05-03T20:58:52.933776Z",
     "iopub.status.idle": "2025-05-03T20:58:52.941288Z",
     "shell.execute_reply": "2025-05-03T20:58:52.940738Z",
     "shell.execute_reply.started": "2025-05-03T20:58:52.933892Z"
    }
   },
   "outputs": [],
   "source": [
    "print(butler.registry.getDatasetType(\"objectTable\").dimensions)"
   ]
  },
  {
   "cell_type": "code",
   "execution_count": null,
   "id": "3e6b671b-f1c2-48ce-97ea-1eef0fa56cca",
   "metadata": {
    "execution": {
     "iopub.execute_input": "2025-05-03T20:58:52.941832Z",
     "iopub.status.busy": "2025-05-03T20:58:52.941703Z",
     "iopub.status.idle": "2025-05-03T20:58:52.948471Z",
     "shell.execute_reply": "2025-05-03T20:58:52.948146Z",
     "shell.execute_reply.started": "2025-05-03T20:58:52.941819Z"
    }
   },
   "outputs": [],
   "source": [
    "# cannot add a filter on band\n",
    "where_clause_skymap = f\"skymap = '{skymapName}' AND tract = {tractNbSel} AND patch = {patchNbSel}\"\n",
    "print(where_clause)"
   ]
  },
  {
   "cell_type": "code",
   "execution_count": null,
   "id": "064b709e-fd22-453f-a89c-8feeb6a157c7",
   "metadata": {
    "execution": {
     "iopub.execute_input": "2025-05-03T20:58:52.948986Z",
     "iopub.status.busy": "2025-05-03T20:58:52.948851Z",
     "iopub.status.idle": "2025-05-03T20:58:53.512314Z",
     "shell.execute_reply": "2025-05-03T20:58:53.511870Z",
     "shell.execute_reply.started": "2025-05-03T20:58:52.948972Z"
    }
   },
   "outputs": [],
   "source": [
    "dataset_refs = list(\n",
    "    butler.registry.queryDatasets(\"objectTable\", collections=collection_validation, where=where_clause_skymap)\n",
    ")\n",
    "# Récupère un des refs valides\n",
    "Nrefs = len(dataset_refs)\n",
    "print(f\"Number of objectTables : {Nrefs}\")\n",
    "ref = dataset_refs[0]\n",
    "t = butler.get(ref)\n",
    "Nobj = len(t)\n",
    "# del t\n",
    "# gc.collect()\n",
    "print(f\"Total Number of objects {Nobj}\")"
   ]
  },
  {
   "cell_type": "markdown",
   "id": "584463e6-5694-4bfd-a5f3-c0021e8c64bc",
   "metadata": {
    "execution": {
     "iopub.execute_input": "2025-05-01T20:56:43.699655Z",
     "iopub.status.busy": "2025-05-01T20:56:43.699512Z",
     "iopub.status.idle": "2025-05-01T20:56:43.702758Z",
     "shell.execute_reply": "2025-05-01T20:56:43.702457Z",
     "shell.execute_reply.started": "2025-05-01T20:56:43.699640Z"
    }
   },
   "source": [
    "Oui, dans ce type de objectTable, les colonnes comme g_psfFlux, g_kronFlux, g_cModelFlux, etc., sont des flux calibrés (en nJy ou en unité de calibration interne du pipeline). Pour les convertir en magnitudes AB, tu peux utiliser la formule classique :"
   ]
  },
  {
   "cell_type": "code",
   "execution_count": null,
   "id": "069c5c04-af0c-47b3-893d-7c6ccf2c76a1",
   "metadata": {
    "execution": {
     "iopub.execute_input": "2025-05-03T20:58:53.513114Z",
     "iopub.status.busy": "2025-05-03T20:58:53.512819Z",
     "iopub.status.idle": "2025-05-03T20:58:53.515570Z",
     "shell.execute_reply": "2025-05-03T20:58:53.515234Z",
     "shell.execute_reply.started": "2025-05-03T20:58:53.513097Z"
    }
   },
   "outputs": [],
   "source": [
    "# Utilise ref.datasetType.name pour lister les colonnes disponibles\n",
    "if FLAG_DUMP_OBJECTSTABLECOLUMNS:\n",
    "    t_columns = list(butler.get(ref).columns)\n",
    "    print(t_columns)"
   ]
  },
  {
   "cell_type": "code",
   "execution_count": null,
   "id": "7c6648f9-6053-4343-aab6-56cb9648c599",
   "metadata": {
    "execution": {
     "iopub.execute_input": "2025-05-03T20:58:53.516115Z",
     "iopub.status.busy": "2025-05-03T20:58:53.515962Z",
     "iopub.status.idle": "2025-05-03T20:58:53.532257Z",
     "shell.execute_reply": "2025-05-03T20:58:53.531896Z",
     "shell.execute_reply.started": "2025-05-03T20:58:53.516099Z"
    }
   },
   "outputs": [],
   "source": [
    "# La constante 31.4 correspond à la conversion AB standard pour un flux exprimé en nanoJanskys (nJy).\n",
    "# À vérifier selon l’unité exacte utilisée par le pipeline sur ton RSP\n",
    "# (souvent c’est bien nJy, mais ça peut être autre chose si la calibration a été changée).\n",
    "# mag = -2.5 * np.log10(flux) + 31.4"
   ]
  },
  {
   "cell_type": "markdown",
   "id": "35e44f9d-46b0-4f93-b392-b587b5d5dc77",
   "metadata": {},
   "source": [
    "## Extract the per-band tables of coordinates"
   ]
  },
  {
   "cell_type": "code",
   "execution_count": null,
   "id": "d5e1661f-e0e3-4842-bd67-4c7fe8ee9147",
   "metadata": {
    "execution": {
     "iopub.execute_input": "2025-05-03T20:58:53.532854Z",
     "iopub.status.busy": "2025-05-03T20:58:53.532699Z",
     "iopub.status.idle": "2025-05-03T20:58:53.582741Z",
     "shell.execute_reply": "2025-05-03T20:58:53.582340Z",
     "shell.execute_reply.started": "2025-05-03T20:58:53.532836Z"
    }
   },
   "outputs": [],
   "source": [
    "# Check columns definitions in https://lse-163.lsst.io/\n",
    "all_radecTable = []\n",
    "\n",
    "for band in all_bands:\n",
    "    id_name = \"objectId\"\n",
    "    id_parentname = \"parentObjectId\"\n",
    "    x_name = f\"{band}_centroid_x\"\n",
    "    y_name = f\"{band}_centroid_y\"\n",
    "    coord_ra_name = \"coord_ra\"\n",
    "    coord_dec_name = \"coord_dec\"\n",
    "    ra_name = f\"{band}_ra\"\n",
    "    dec_name = f\"{band}_dec\"\n",
    "    decl_name = f\"{band}_decl\"\n",
    "    raerr_name = f\"{band}_raErr\"\n",
    "    decerr_name = f\"{band}_decErr\"\n",
    "    extendedness_name = f\"{band}_extendedness\"\n",
    "    blendness_name = f\"{band}_blendedness\"\n",
    "    psfflux_name = f\"{band}_psfFlux\"\n",
    "    psfmag_name = f\"{band}_psfMag\"\n",
    "    psfflux_free_name = f\"{band}_free_psfFlux\"\n",
    "    df = t[\n",
    "        [\n",
    "            id_name,\n",
    "            id_parentname,\n",
    "            x_name,\n",
    "            y_name,\n",
    "            coord_ra_name,\n",
    "            coord_dec_name,\n",
    "            ra_name,\n",
    "            dec_name,\n",
    "            raerr_name,\n",
    "            decerr_name,\n",
    "            decl_name,\n",
    "            extendedness_name,\n",
    "            blendness_name,\n",
    "            psfflux_name,\n",
    "        ]\n",
    "    ]\n",
    "\n",
    "    # select primary objects\n",
    "    df_sel = (df[df[id_parentname] == 0]).drop([id_parentname], axis=1)\n",
    "    # compute magnitude AB\n",
    "\n",
    "    df_sel[psfmag_name] = df_sel[psfflux_name].apply(nJy_to_ab_mag)\n",
    "\n",
    "    # drop bad magnitudes\n",
    "    df_sel = df_sel[df_sel[psfmag_name] != 0.0]\n",
    "    # drop the fluxes\n",
    "    df_sel = df_sel.drop([psfflux_name], axis=1)\n",
    "\n",
    "    # select bright objects\n",
    "    if FLAG_CUT_OBJECTSMAG:\n",
    "        df_sel = df_sel[df_sel[psfmag_name] < MAGCUT]\n",
    "\n",
    "    # save table in the list\n",
    "    all_radecTable.append(df_sel)"
   ]
  },
  {
   "cell_type": "code",
   "execution_count": null,
   "id": "e1e4d330-6efc-498d-8123-ebb0bffeeefc",
   "metadata": {
    "execution": {
     "iopub.execute_input": "2025-05-03T20:58:53.583368Z",
     "iopub.status.busy": "2025-05-03T20:58:53.583223Z",
     "iopub.status.idle": "2025-05-03T20:58:53.585965Z",
     "shell.execute_reply": "2025-05-03T20:58:53.585643Z",
     "shell.execute_reply.started": "2025-05-03T20:58:53.583353Z"
    }
   },
   "outputs": [],
   "source": [
    "for idx, band in enumerate(all_bands):\n",
    "    df_obj = all_radecTable[idx]\n",
    "    n = len(df_obj)\n",
    "    print(f\"Number of objects in band {band} : {n}\")"
   ]
  },
  {
   "cell_type": "code",
   "execution_count": null,
   "id": "1a5553cf-d3eb-4ead-8037-59a398c87577",
   "metadata": {
    "execution": {
     "iopub.execute_input": "2025-05-03T20:58:53.586481Z",
     "iopub.status.busy": "2025-05-03T20:58:53.586341Z",
     "iopub.status.idle": "2025-05-03T20:58:53.604002Z",
     "shell.execute_reply": "2025-05-03T20:58:53.603694Z",
     "shell.execute_reply.started": "2025-05-03T20:58:53.586465Z"
    }
   },
   "outputs": [],
   "source": [
    "df_obj"
   ]
  },
  {
   "cell_type": "markdown",
   "id": "b8b79b04-f91f-409c-b914-b9ec41347c6a",
   "metadata": {},
   "source": [
    "## Visits\n",
    "\n",
    "- Visits allows to make a link between a visit id and an observation time, the (ra,dec) of the telescope, the observation time and observation conditions such airmass, exposure time.\n",
    "- This allow us to make a selection of visits for which we can select the sources in the Tract-Patch selected"
   ]
  },
  {
   "cell_type": "code",
   "execution_count": null,
   "id": "6b5410a4-5e85-401f-938d-abfc1c1c9669",
   "metadata": {
    "execution": {
     "iopub.execute_input": "2025-05-03T20:58:53.604509Z",
     "iopub.status.busy": "2025-05-03T20:58:53.604375Z",
     "iopub.status.idle": "2025-05-03T20:58:53.606378Z",
     "shell.execute_reply": "2025-05-03T20:58:53.606065Z",
     "shell.execute_reply.started": "2025-05-03T20:58:53.604495Z"
    }
   },
   "outputs": [],
   "source": [
    "datasettype = \"visitTable\""
   ]
  },
  {
   "cell_type": "code",
   "execution_count": null,
   "id": "0a544046-a5d3-477a-a3ec-648b6e0d0599",
   "metadata": {
    "execution": {
     "iopub.execute_input": "2025-05-03T20:58:53.606865Z",
     "iopub.status.busy": "2025-05-03T20:58:53.606739Z",
     "iopub.status.idle": "2025-05-03T20:58:53.613595Z",
     "shell.execute_reply": "2025-05-03T20:58:53.613299Z",
     "shell.execute_reply.started": "2025-05-03T20:58:53.606852Z"
    }
   },
   "outputs": [],
   "source": [
    "print(butler.registry.getDatasetType(datasettype).dimensions)\n",
    "print(where_clause_instrument)"
   ]
  },
  {
   "cell_type": "code",
   "execution_count": null,
   "id": "5620c35c-e25d-4dc8-bf07-e9c60f9421df",
   "metadata": {
    "execution": {
     "iopub.execute_input": "2025-05-03T20:58:53.614093Z",
     "iopub.status.busy": "2025-05-03T20:58:53.613960Z",
     "iopub.status.idle": "2025-05-03T20:58:53.743038Z",
     "shell.execute_reply": "2025-05-03T20:58:53.742704Z",
     "shell.execute_reply.started": "2025-05-03T20:58:53.614080Z"
    }
   },
   "outputs": [],
   "source": [
    "dataset_refs = list(\n",
    "    butler.registry.queryDatasets(\n",
    "        datasettype, collections=collection_validation, where=where_clause_instrument\n",
    "    )\n",
    ")\n",
    "# Récupère un des refs valides\n",
    "Nrefs = len(dataset_refs)\n",
    "print(f\"Number of visitTables : {Nrefs}\")\n",
    "ref = dataset_refs[0]\n",
    "t = butler.get(ref)\n",
    "Nvis = len(t)\n",
    "# del t\n",
    "# gc.collect()\n",
    "print(f\"Total Number of visits {Nvis}\")"
   ]
  },
  {
   "cell_type": "code",
   "execution_count": null,
   "id": "0b56d815-654a-42fd-9407-0f204bdd42e2",
   "metadata": {
    "execution": {
     "iopub.execute_input": "2025-05-03T20:58:53.743600Z",
     "iopub.status.busy": "2025-05-03T20:58:53.743467Z",
     "iopub.status.idle": "2025-05-03T20:58:53.745644Z",
     "shell.execute_reply": "2025-05-03T20:58:53.745351Z",
     "shell.execute_reply.started": "2025-05-03T20:58:53.743586Z"
    }
   },
   "outputs": [],
   "source": [
    "if FLAG_DUMP_VISITTABLEECOLUMNS:\n",
    "    t_columns = list(butler.get(ref).columns)\n",
    "    print(t_columns)"
   ]
  },
  {
   "cell_type": "code",
   "execution_count": null,
   "id": "639a0e0a-8227-4ed4-8083-145d244f2127",
   "metadata": {
    "execution": {
     "iopub.execute_input": "2025-05-03T20:58:53.746096Z",
     "iopub.status.busy": "2025-05-03T20:58:53.745964Z",
     "iopub.status.idle": "2025-05-03T20:58:53.757676Z",
     "shell.execute_reply": "2025-05-03T20:58:53.757389Z",
     "shell.execute_reply.started": "2025-05-03T20:58:53.746083Z"
    }
   },
   "outputs": [],
   "source": [
    "df_visits = t"
   ]
  },
  {
   "cell_type": "code",
   "execution_count": null,
   "id": "7b36869a-4425-42a0-8536-0b8634813262",
   "metadata": {
    "execution": {
     "iopub.execute_input": "2025-05-03T20:58:53.758152Z",
     "iopub.status.busy": "2025-05-03T20:58:53.758022Z",
     "iopub.status.idle": "2025-05-03T20:58:53.771526Z",
     "shell.execute_reply": "2025-05-03T20:58:53.771244Z",
     "shell.execute_reply.started": "2025-05-03T20:58:53.758138Z"
    }
   },
   "outputs": [],
   "source": [
    "df_visits.head()"
   ]
  },
  {
   "cell_type": "code",
   "execution_count": null,
   "id": "e8067d79-51f0-48a8-91a4-f6bb328fc694",
   "metadata": {
    "execution": {
     "iopub.execute_input": "2025-05-03T20:58:53.771984Z",
     "iopub.status.busy": "2025-05-03T20:58:53.771861Z",
     "iopub.status.idle": "2025-05-03T20:58:53.776092Z",
     "shell.execute_reply": "2025-05-03T20:58:53.775799Z",
     "shell.execute_reply.started": "2025-05-03T20:58:53.771972Z"
    }
   },
   "outputs": [],
   "source": [
    "if FLAG_COMPUTE_VISITSTRACTSPATCHS:\n",
    "    # Takes Very long time to compute.\n",
    "    # It is better to filter out visits that does not belong to the selected tract patch as shown below\n",
    "    df_visits_tractspatches = assign_tract_patch(df_visits, skymap)"
   ]
  },
  {
   "cell_type": "markdown",
   "id": "d42d2e70-d372-47a9-aef7-93a3a37d9114",
   "metadata": {},
   "source": [
    "### select visits in selected Tract and Patch \n",
    "\n",
    "- just need visits ra and dec coordinates to filter those visits in the tract-patch."
   ]
  },
  {
   "cell_type": "code",
   "execution_count": null,
   "id": "f331b267-6f82-4d7e-9101-a21143263254",
   "metadata": {
    "execution": {
     "iopub.execute_input": "2025-05-03T20:58:53.776571Z",
     "iopub.status.busy": "2025-05-03T20:58:53.776449Z",
     "iopub.status.idle": "2025-05-03T20:58:53.850549Z",
     "shell.execute_reply": "2025-05-03T20:58:53.850101Z",
     "shell.execute_reply.started": "2025-05-03T20:58:53.776559Z"
    }
   },
   "outputs": [],
   "source": [
    "df_visits_in_patch = select_visits_in_patch(df_visits, tract_info, patch_info)"
   ]
  },
  {
   "cell_type": "code",
   "execution_count": null,
   "id": "ca6a5890-948b-4966-bae1-f9ec6cf946cb",
   "metadata": {
    "execution": {
     "iopub.execute_input": "2025-05-03T20:58:53.851449Z",
     "iopub.status.busy": "2025-05-03T20:58:53.851101Z",
     "iopub.status.idle": "2025-05-03T20:58:53.865791Z",
     "shell.execute_reply": "2025-05-03T20:58:53.865472Z",
     "shell.execute_reply.started": "2025-05-03T20:58:53.851422Z"
    }
   },
   "outputs": [],
   "source": [
    "df_visits_in_patch"
   ]
  },
  {
   "cell_type": "markdown",
   "id": "28e597fa-9f45-45f8-8ddd-b62354513fc2",
   "metadata": {},
   "source": [
    "### Keep the list in memory"
   ]
  },
  {
   "cell_type": "code",
   "execution_count": null,
   "id": "45feda65-3aec-4ee8-ad10-7de3f1b5d068",
   "metadata": {
    "execution": {
     "iopub.execute_input": "2025-05-03T20:58:53.866348Z",
     "iopub.status.busy": "2025-05-03T20:58:53.866209Z",
     "iopub.status.idle": "2025-05-03T20:58:53.904387Z",
     "shell.execute_reply": "2025-05-03T20:58:53.904082Z",
     "shell.execute_reply.started": "2025-05-03T20:58:53.866333Z"
    }
   },
   "outputs": [],
   "source": [
    "visitLists_sel = df_visits_in_patch.visitId.values"
   ]
  },
  {
   "cell_type": "markdown",
   "id": "6ea80a44-0d61-4894-bffd-e100513dcabf",
   "metadata": {},
   "source": [
    "## Get the selected sources"
   ]
  },
  {
   "cell_type": "code",
   "execution_count": null,
   "id": "2b14d237-5517-4d88-83fb-7b74b4533365",
   "metadata": {
    "execution": {
     "iopub.execute_input": "2025-05-03T20:58:53.904852Z",
     "iopub.status.busy": "2025-05-03T20:58:53.904725Z",
     "iopub.status.idle": "2025-05-03T20:58:53.914984Z",
     "shell.execute_reply": "2025-05-03T20:58:53.914696Z",
     "shell.execute_reply.started": "2025-05-03T20:58:53.904839Z"
    }
   },
   "outputs": [],
   "source": [
    "datasettype = \"sourceTable_visit\""
   ]
  },
  {
   "cell_type": "code",
   "execution_count": null,
   "id": "29483b2c-bef9-4285-8e5e-b743517b987e",
   "metadata": {
    "execution": {
     "iopub.execute_input": "2025-05-03T20:58:53.915579Z",
     "iopub.status.busy": "2025-05-03T20:58:53.915343Z",
     "iopub.status.idle": "2025-05-03T20:58:53.925103Z",
     "shell.execute_reply": "2025-05-03T20:58:53.924799Z",
     "shell.execute_reply.started": "2025-05-03T20:58:53.915565Z"
    }
   },
   "outputs": [],
   "source": [
    "Nvis_sel = len(visitLists_sel)\n",
    "print(f\"Number of visits {Nvis_sel}\")\n",
    "print(visitLists_sel)"
   ]
  },
  {
   "cell_type": "code",
   "execution_count": null,
   "id": "68056b5e-e7b1-4f78-9a37-621901383469",
   "metadata": {
    "execution": {
     "iopub.execute_input": "2025-05-03T20:58:53.925579Z",
     "iopub.status.busy": "2025-05-03T20:58:53.925457Z",
     "iopub.status.idle": "2025-05-03T20:58:53.944385Z",
     "shell.execute_reply": "2025-05-03T20:58:53.944086Z",
     "shell.execute_reply.started": "2025-05-03T20:58:53.925567Z"
    }
   },
   "outputs": [],
   "source": [
    "visit_sel = visitLists_sel[0]\n",
    "butler.registry.expandDataId(instrument=instrument, visit=visit_sel)"
   ]
  },
  {
   "cell_type": "code",
   "execution_count": null,
   "id": "34760f0d-6859-482a-b940-212aac828d24",
   "metadata": {
    "execution": {
     "iopub.execute_input": "2025-05-03T20:58:53.944983Z",
     "iopub.status.busy": "2025-05-03T20:58:53.944858Z",
     "iopub.status.idle": "2025-05-03T20:58:53.947631Z",
     "shell.execute_reply": "2025-05-03T20:58:53.947332Z",
     "shell.execute_reply.started": "2025-05-03T20:58:53.944970Z"
    }
   },
   "outputs": [],
   "source": [
    "def load_sourceTables_for_visits(butler, datasettype, instrument, visit_ids):\n",
    "    dfs = []\n",
    "    for visit in visit_ids:\n",
    "        refs = list(\n",
    "            butler.registry.queryDatasets(\n",
    "                datasetType=datasettype, dataId={\"instrument\": instrument, \"visit\": visit}, findFirst=True\n",
    "            )\n",
    "        )\n",
    "        if refs:\n",
    "            df = butler.get(refs[0])\n",
    "            df[\"visit\"] = visit\n",
    "            dfs.append(df)\n",
    "    if dfs:\n",
    "        return pd.concat(dfs, ignore_index=True)\n",
    "    else:\n",
    "        return pd.DataFrame()"
   ]
  },
  {
   "cell_type": "code",
   "execution_count": null,
   "id": "21cdca00-271b-4c69-8253-a9d3cc05d4dd",
   "metadata": {
    "execution": {
     "iopub.execute_input": "2025-05-03T20:58:53.948206Z",
     "iopub.status.busy": "2025-05-03T20:58:53.948078Z",
     "iopub.status.idle": "2025-05-03T20:58:53.958025Z",
     "shell.execute_reply": "2025-05-03T20:58:53.957742Z",
     "shell.execute_reply.started": "2025-05-03T20:58:53.948193Z"
    }
   },
   "outputs": [],
   "source": [
    "# dt = butler.registry.getDatasetType(\"src\")\n",
    "# print(dt.dimensions)"
   ]
  },
  {
   "cell_type": "code",
   "execution_count": null,
   "id": "d73fbbfd-133b-458d-a0df-bf6e64b0d5eb",
   "metadata": {
    "execution": {
     "iopub.execute_input": "2025-05-03T20:58:53.958497Z",
     "iopub.status.busy": "2025-05-03T20:58:53.958376Z",
     "iopub.status.idle": "2025-05-03T20:58:53.968083Z",
     "shell.execute_reply": "2025-05-03T20:58:53.967789Z",
     "shell.execute_reply.started": "2025-05-03T20:58:53.958485Z"
    }
   },
   "outputs": [],
   "source": [
    "# crash\n",
    "# print(f\"Fetch the {datasettype} for each visit in the list\")\n",
    "# df_all_sources = load_sourceTables_for_visits(butler, datasettype,instrument, visitLists_sel)"
   ]
  },
  {
   "cell_type": "code",
   "execution_count": null,
   "id": "0810b0cf-626c-4b9c-85b8-1569666a5b62",
   "metadata": {
    "execution": {
     "iopub.execute_input": "2025-05-03T20:58:53.968550Z",
     "iopub.status.busy": "2025-05-03T20:58:53.968429Z",
     "iopub.status.idle": "2025-05-03T20:58:53.986112Z",
     "shell.execute_reply": "2025-05-03T20:58:53.985831Z",
     "shell.execute_reply.started": "2025-05-03T20:58:53.968538Z"
    }
   },
   "outputs": [],
   "source": [
    "# df_all_sources"
   ]
  },
  {
   "cell_type": "markdown",
   "id": "921525fa-7940-4264-9c06-362c324a3940",
   "metadata": {},
   "source": [
    "### Manage input sources in parquet file"
   ]
  },
  {
   "cell_type": "code",
   "execution_count": null,
   "id": "10e9f7d8-a675-491b-a2d5-fb4fdce92bd9",
   "metadata": {
    "execution": {
     "iopub.execute_input": "2025-05-03T20:58:53.986562Z",
     "iopub.status.busy": "2025-05-03T20:58:53.986445Z",
     "iopub.status.idle": "2025-05-03T20:58:53.994319Z",
     "shell.execute_reply": "2025-05-03T20:58:53.994016Z",
     "shell.execute_reply.started": "2025-05-03T20:58:53.986550Z"
    }
   },
   "outputs": [],
   "source": [
    "outputdir_sources = f\"output_{instrument}_field{keyfield}_t{tractNbSel}_p{patchNbSel}_{datasettype}\"\n",
    "all_inputfiles = glob.glob(f\"{outputdir_sources}/*.parquet\")"
   ]
  },
  {
   "cell_type": "markdown",
   "id": "80e8f047-88fe-4854-a11c-99c5003c6953",
   "metadata": {},
   "source": [
    "#### Dump columns"
   ]
  },
  {
   "cell_type": "code",
   "execution_count": null,
   "id": "e763d840-77a6-436c-aecf-7b41c0756a6e",
   "metadata": {
    "execution": {
     "iopub.execute_input": "2025-05-03T20:58:53.994779Z",
     "iopub.status.busy": "2025-05-03T20:58:53.994659Z",
     "iopub.status.idle": "2025-05-03T20:58:54.021232Z",
     "shell.execute_reply": "2025-05-03T20:58:54.020919Z",
     "shell.execute_reply.started": "2025-05-03T20:58:53.994767Z"
    }
   },
   "outputs": [],
   "source": [
    "inputfile = all_inputfiles[0]\n",
    "df = pd.read_parquet(inputfile)"
   ]
  },
  {
   "cell_type": "code",
   "execution_count": null,
   "id": "cb376de0-bb30-4def-9c1e-a10a70783936",
   "metadata": {
    "execution": {
     "iopub.execute_input": "2025-05-03T20:58:54.021724Z",
     "iopub.status.busy": "2025-05-03T20:58:54.021599Z",
     "iopub.status.idle": "2025-05-03T20:58:54.023837Z",
     "shell.execute_reply": "2025-05-03T20:58:54.023554Z",
     "shell.execute_reply.started": "2025-05-03T20:58:54.021712Z"
    }
   },
   "outputs": [],
   "source": [
    "print(list(df.columns))"
   ]
  },
  {
   "cell_type": "markdown",
   "id": "31b60c40-b12d-403c-9ed9-78963c28d3a3",
   "metadata": {},
   "source": [
    "#### Read all sources"
   ]
  },
  {
   "cell_type": "code",
   "execution_count": null,
   "id": "f5c6c072-3dd8-424a-b5c1-ac86a06100cf",
   "metadata": {
    "execution": {
     "iopub.execute_input": "2025-05-03T20:58:54.024319Z",
     "iopub.status.busy": "2025-05-03T20:58:54.024199Z",
     "iopub.status.idle": "2025-05-03T20:58:58.970929Z",
     "shell.execute_reply": "2025-05-03T20:58:58.970480Z",
     "shell.execute_reply.started": "2025-05-03T20:58:54.024307Z"
    }
   },
   "outputs": [],
   "source": [
    "# Crash due to too big\n",
    "df_all_src = pd.concat([pd.read_parquet(f) for f in all_inputfiles], ignore_index=True)"
   ]
  },
  {
   "cell_type": "code",
   "execution_count": null,
   "id": "3f5d37d7-634a-4d8e-919b-3db759129ad5",
   "metadata": {
    "execution": {
     "iopub.execute_input": "2025-05-03T20:58:58.971533Z",
     "iopub.status.busy": "2025-05-03T20:58:58.971399Z",
     "iopub.status.idle": "2025-05-03T20:58:59.363466Z",
     "shell.execute_reply": "2025-05-03T20:58:59.363077Z",
     "shell.execute_reply.started": "2025-05-03T20:58:58.971519Z"
    }
   },
   "outputs": [],
   "source": [
    "df_all_src"
   ]
  },
  {
   "cell_type": "code",
   "execution_count": null,
   "id": "cefdded6-2f61-4870-826a-3218873d259d",
   "metadata": {
    "execution": {
     "iopub.execute_input": "2025-05-03T20:58:59.364050Z",
     "iopub.status.busy": "2025-05-03T20:58:59.363916Z",
     "iopub.status.idle": "2025-05-03T20:58:59.372322Z",
     "shell.execute_reply": "2025-05-03T20:58:59.371905Z",
     "shell.execute_reply.started": "2025-05-03T20:58:59.364035Z"
    }
   },
   "outputs": [],
   "source": [
    "df_src_onevisit = df_all_src[(df_all_src.visit == visit_sel)]"
   ]
  },
  {
   "cell_type": "code",
   "execution_count": null,
   "id": "17168d28-6b7c-4ab6-bda5-8d09d1d5b094",
   "metadata": {
    "execution": {
     "iopub.execute_input": "2025-05-03T20:58:59.372904Z",
     "iopub.status.busy": "2025-05-03T20:58:59.372772Z",
     "iopub.status.idle": "2025-05-03T20:58:59.429975Z",
     "shell.execute_reply": "2025-05-03T20:58:59.429665Z",
     "shell.execute_reply.started": "2025-05-03T20:58:59.372890Z"
    }
   },
   "outputs": [],
   "source": [
    "df_src_onevisit"
   ]
  },
  {
   "cell_type": "code",
   "execution_count": null,
   "id": "1f53e57a-e434-4e51-b569-5e7238da797c",
   "metadata": {
    "execution": {
     "iopub.execute_input": "2025-05-03T20:58:59.430482Z",
     "iopub.status.busy": "2025-05-03T20:58:59.430357Z",
     "iopub.status.idle": "2025-05-03T20:58:59.437706Z",
     "shell.execute_reply": "2025-05-03T20:58:59.437423Z",
     "shell.execute_reply.started": "2025-05-03T20:58:59.430469Z"
    }
   },
   "outputs": [],
   "source": [
    "df_src_onevisit[[\"coord_ra\", \"ra\", \"coord_dec\", \"dec\"]].aggregate([\"mean\", \"std\"], axis=0)"
   ]
  },
  {
   "cell_type": "code",
   "execution_count": null,
   "id": "1589e6e6-27d3-42aa-aa70-7dc220f1d4cb",
   "metadata": {
    "execution": {
     "iopub.execute_input": "2025-05-03T20:58:59.438206Z",
     "iopub.status.busy": "2025-05-03T20:58:59.438078Z",
     "iopub.status.idle": "2025-05-03T20:58:59.442137Z",
     "shell.execute_reply": "2025-05-03T20:58:59.441795Z",
     "shell.execute_reply.started": "2025-05-03T20:58:59.438193Z"
    }
   },
   "outputs": [],
   "source": [
    "# fig,(ax1,ax2) = plt.subplots(1,2,figsize=(16,5))\n",
    "# df_src_onevisit[\"dra\"].hist(ax=ax1,bins=50,range=(-0.001,0.001))\n",
    "# df_src_onevisit[\"ddec\"].hist(ax=ax2,bins=50,range=(-0.001,0.001))"
   ]
  },
  {
   "cell_type": "markdown",
   "id": "d02be837-ddb2-4f5a-ab7d-bb46e82c80c0",
   "metadata": {},
   "source": [
    "- coord_ra = ra\n",
    "- coord_dec = dec"
   ]
  },
  {
   "cell_type": "code",
   "execution_count": null,
   "id": "55fb9147-5c45-4f55-b0fd-808be4dbc036",
   "metadata": {
    "execution": {
     "iopub.execute_input": "2025-05-03T20:58:59.442659Z",
     "iopub.status.busy": "2025-05-03T20:58:59.442529Z",
     "iopub.status.idle": "2025-05-03T20:58:59.456499Z",
     "shell.execute_reply": "2025-05-03T20:58:59.456189Z",
     "shell.execute_reply.started": "2025-05-03T20:58:59.442646Z"
    }
   },
   "outputs": [],
   "source": [
    "df_src_onevisit[\n",
    "    [\"calibFlux\", \"psfFlux\", \"ap12Flux\", \"ap17Flux\", \"ap25Flux\", \"ap35Flux\", \"calibMag\", \"calibMagErr\"]\n",
    "]"
   ]
  },
  {
   "cell_type": "code",
   "execution_count": null,
   "id": "7dad4df2-7344-4023-9438-16651ff81063",
   "metadata": {
    "execution": {
     "iopub.execute_input": "2025-05-03T20:58:59.456995Z",
     "iopub.status.busy": "2025-05-03T20:58:59.456868Z",
     "iopub.status.idle": "2025-05-03T20:59:01.049646Z",
     "shell.execute_reply": "2025-05-03T20:59:01.049259Z",
     "shell.execute_reply.started": "2025-05-03T20:58:59.456982Z"
    }
   },
   "outputs": [],
   "source": [
    "fig, ax = plt.subplots(1, 1, figsize=(6, 4))\n",
    "\n",
    "for ib, band in enumerate(all_bands):\n",
    "    color = all_bands_colors[ib]\n",
    "    df = df_all_src[df_all_src[\"band\"] == band]\n",
    "    df[\"calibMag\"].hist(ax=ax, bins=50, histtype=\"step\", color=color, label=band)\n",
    "ax.legend()\n",
    "ax.set_yscale(\"log\")\n",
    "ax.set_xlabel(\"calibMag\")\n",
    "ax.set_title(f\"Magnitude of sources in (tract,patch) = ({tractNbSel},{patchNbSel})\")\n",
    "plt.show()"
   ]
  },
  {
   "cell_type": "code",
   "execution_count": null,
   "id": "9be60698-2f42-4ed5-aea9-6fca7a3ebd29",
   "metadata": {
    "execution": {
     "iopub.execute_input": "2025-05-03T20:59:01.050250Z",
     "iopub.status.busy": "2025-05-03T20:59:01.050110Z",
     "iopub.status.idle": "2025-05-03T20:59:10.784948Z",
     "shell.execute_reply": "2025-05-03T20:59:10.784518Z",
     "shell.execute_reply.started": "2025-05-03T20:59:01.050235Z"
    }
   },
   "outputs": [],
   "source": [
    "fig, ax = plt.subplots(1, 1, figsize=(6, 6))\n",
    "for ib, band in enumerate(all_bands):\n",
    "    color = all_bands_colors[ib]\n",
    "    df = df_all_src[df_all_src[\"band\"] == band]\n",
    "    df.plot.scatter(x=\"calibMag\", y=\"calibMagErr\", ax=ax, marker=\".\", s=10, c=color, label=band, alpha=0.5)\n",
    "    # produce a crash\n",
    "ax.legend()\n",
    "ax.set_xlabel(\"calibMag\")\n",
    "ax.set_ylabel(\"calibMagErr\")\n",
    "ax.set_title(f\"Magnitude of sources in (tract,patch) = ({tractNbSel},{patchNbSel})\")\n",
    "ax.set_aspect(\"auto\")\n",
    "plt.show()"
   ]
  },
  {
   "cell_type": "markdown",
   "id": "b03df1d7-051f-477f-aec4-7c09c1577737",
   "metadata": {},
   "source": [
    "## Extract a light curve from a selected object"
   ]
  },
  {
   "cell_type": "code",
   "execution_count": null,
   "id": "ee50b811-d25f-4a69-9485-54fa62e93bcb",
   "metadata": {
    "execution": {
     "iopub.execute_input": "2025-05-03T20:59:10.785616Z",
     "iopub.status.busy": "2025-05-03T20:59:10.785473Z",
     "iopub.status.idle": "2025-05-03T20:59:10.788680Z",
     "shell.execute_reply": "2025-05-03T20:59:10.788320Z",
     "shell.execute_reply.started": "2025-05-03T20:59:10.785602Z"
    }
   },
   "outputs": [],
   "source": [
    "band_sel = \"g\"\n",
    "ib_sel = 1\n",
    "# ib_sel = 2\n",
    "\n",
    "df_obj = all_radecTable[ib_sel]\n",
    "n = len(df_obj)\n",
    "print(f\"Number of objects in band {band_sel} : {n}\")\n",
    "\n",
    "ra_name = f\"{band_sel}_ra\"\n",
    "dec_name = f\"{band_sel}_dec\""
   ]
  },
  {
   "cell_type": "code",
   "execution_count": null,
   "id": "d09aad9f-791f-4bfe-b128-1fa07962d5eb",
   "metadata": {
    "execution": {
     "iopub.execute_input": "2025-05-03T20:59:10.789239Z",
     "iopub.status.busy": "2025-05-03T20:59:10.789103Z",
     "iopub.status.idle": "2025-05-03T20:59:10.805382Z",
     "shell.execute_reply": "2025-05-03T20:59:10.805027Z",
     "shell.execute_reply.started": "2025-05-03T20:59:10.789226Z"
    }
   },
   "outputs": [],
   "source": [
    "df_obj.head()"
   ]
  },
  {
   "cell_type": "code",
   "execution_count": null,
   "id": "02e53329-3ff0-4861-a791-f37b258151be",
   "metadata": {
    "execution": {
     "iopub.execute_input": "2025-05-03T20:59:10.805896Z",
     "iopub.status.busy": "2025-05-03T20:59:10.805769Z",
     "iopub.status.idle": "2025-05-03T20:59:11.195584Z",
     "shell.execute_reply": "2025-05-03T20:59:11.194969Z",
     "shell.execute_reply.started": "2025-05-03T20:59:10.805883Z"
    }
   },
   "outputs": [],
   "source": [
    "# obj_idx = 1 # Good\n",
    "# obj_idx = 4  # Good\n",
    "# obj_idx = 5  # Good\n",
    "# obj_idx = 6  # Good\n",
    "obj_idx = 7  # Good\n",
    "df_obj.iloc[obj_idx]"
   ]
  },
  {
   "cell_type": "code",
   "execution_count": null,
   "id": "8cd721cc-8385-4e57-8082-d02a52086da6",
   "metadata": {
    "execution": {
     "iopub.status.busy": "2025-05-03T20:59:11.195966Z",
     "iopub.status.idle": "2025-05-03T20:59:11.196147Z",
     "shell.execute_reply": "2025-05-03T20:59:11.196058Z",
     "shell.execute_reply.started": "2025-05-03T20:59:11.196049Z"
    }
   },
   "outputs": [],
   "source": [
    "from astropy.coordinates import SkyCoord\n",
    "import astropy.units as u\n",
    "\n",
    "# Coordonnées du centre du cône (en degrés)\n",
    "ra_center = df_obj.iloc[obj_idx][ra_name]\n",
    "dec_center = df_obj.iloc[obj_idx][dec_name]\n",
    "radius_deg = 0.002  # rayon du cône en degrés\n",
    "print(ra_center, dec_center)\n",
    "\n",
    "# SkyCoord du centre\n",
    "center = SkyCoord(ra=ra_center * u.deg, dec=dec_center * u.deg)"
   ]
  },
  {
   "cell_type": "code",
   "execution_count": null,
   "id": "4b7826ea-a009-4163-9c5f-9dd3b02b3137",
   "metadata": {
    "execution": {
     "iopub.status.busy": "2025-05-03T20:59:11.196790Z",
     "iopub.status.idle": "2025-05-03T20:59:11.196955Z",
     "shell.execute_reply": "2025-05-03T20:59:11.196879Z",
     "shell.execute_reply.started": "2025-05-03T20:59:11.196871Z"
    }
   },
   "outputs": [],
   "source": [
    "5 / 3600"
   ]
  },
  {
   "cell_type": "code",
   "execution_count": null,
   "id": "8746feed-a927-4a14-9790-0aae6eeffd09",
   "metadata": {
    "execution": {
     "iopub.status.busy": "2025-05-03T20:59:11.197641Z",
     "iopub.status.idle": "2025-05-03T20:59:11.197810Z",
     "shell.execute_reply": "2025-05-03T20:59:11.197729Z",
     "shell.execute_reply.started": "2025-05-03T20:59:11.197721Z"
    }
   },
   "outputs": [],
   "source": [
    "df_src_sel = df_all_src[df_all_src[\"band\"] == band_sel]"
   ]
  },
  {
   "cell_type": "code",
   "execution_count": null,
   "id": "bee5afb7-2f99-48d0-9abe-905dd04211ae",
   "metadata": {
    "execution": {
     "iopub.status.busy": "2025-05-03T20:59:11.198233Z",
     "iopub.status.idle": "2025-05-03T20:59:11.198393Z",
     "shell.execute_reply": "2025-05-03T20:59:11.198318Z",
     "shell.execute_reply.started": "2025-05-03T20:59:11.198311Z"
    }
   },
   "outputs": [],
   "source": [
    "# SkyCoord des sources du DataFrame\n",
    "sources = SkyCoord(ra=df_src_sel[\"ra\"].values * u.deg, dec=df_src_sel[\"dec\"].values * u.deg)"
   ]
  },
  {
   "cell_type": "code",
   "execution_count": null,
   "id": "e81e6a8c-b003-47c5-b4b4-58e241916f87",
   "metadata": {
    "execution": {
     "iopub.status.busy": "2025-05-03T20:59:11.198832Z",
     "iopub.status.idle": "2025-05-03T20:59:11.198991Z",
     "shell.execute_reply": "2025-05-03T20:59:11.198916Z",
     "shell.execute_reply.started": "2025-05-03T20:59:11.198908Z"
    }
   },
   "outputs": [],
   "source": [
    "# Calcul de la séparation angulaire\n",
    "separations = sources.separation(center)"
   ]
  },
  {
   "cell_type": "code",
   "execution_count": null,
   "id": "3e1fcf3f-455e-4a58-a000-19cbf7240dd2",
   "metadata": {
    "execution": {
     "iopub.status.busy": "2025-05-03T20:59:11.199470Z",
     "iopub.status.idle": "2025-05-03T20:59:11.199628Z",
     "shell.execute_reply": "2025-05-03T20:59:11.199553Z",
     "shell.execute_reply.started": "2025-05-03T20:59:11.199546Z"
    }
   },
   "outputs": [],
   "source": [
    "plt.hist(separations.deg, bins=50);"
   ]
  },
  {
   "cell_type": "code",
   "execution_count": null,
   "id": "3aac3dab-c624-4b44-990d-e87cd89fbbed",
   "metadata": {
    "execution": {
     "iopub.status.busy": "2025-05-03T20:59:11.200152Z",
     "iopub.status.idle": "2025-05-03T20:59:11.200311Z",
     "shell.execute_reply": "2025-05-03T20:59:11.200236Z",
     "shell.execute_reply.started": "2025-05-03T20:59:11.200229Z"
    }
   },
   "outputs": [],
   "source": [
    "dfs_in_cone = df_src_sel[separations <= radius_deg * u.deg]"
   ]
  },
  {
   "cell_type": "code",
   "execution_count": null,
   "id": "583f6fbd-c5ff-40d8-8cfc-58e79b28a660",
   "metadata": {
    "execution": {
     "iopub.status.busy": "2025-05-03T20:59:11.200764Z",
     "iopub.status.idle": "2025-05-03T20:59:11.200920Z",
     "shell.execute_reply": "2025-05-03T20:59:11.200845Z",
     "shell.execute_reply.started": "2025-05-03T20:59:11.200838Z"
    }
   },
   "outputs": [],
   "source": [
    "dfs_in_cone"
   ]
  },
  {
   "cell_type": "code",
   "execution_count": null,
   "id": "2ab898ba-aad0-455d-bd18-f3c601582f7e",
   "metadata": {
    "execution": {
     "iopub.status.busy": "2025-05-03T20:59:11.201538Z",
     "iopub.status.idle": "2025-05-03T20:59:11.201701Z",
     "shell.execute_reply": "2025-05-03T20:59:11.201621Z",
     "shell.execute_reply.started": "2025-05-03T20:59:11.201614Z"
    }
   },
   "outputs": [],
   "source": [
    "plt.hist(dfs_in_cone[\"calibMag\"].values, bins=100);"
   ]
  },
  {
   "cell_type": "code",
   "execution_count": null,
   "id": "8057458f-2bef-4a0b-9f8f-3df6a2d3163e",
   "metadata": {
    "execution": {
     "iopub.status.busy": "2025-05-03T20:59:11.202109Z",
     "iopub.status.idle": "2025-05-03T20:59:11.202268Z",
     "shell.execute_reply": "2025-05-03T20:59:11.202194Z",
     "shell.execute_reply.started": "2025-05-03T20:59:11.202186Z"
    }
   },
   "outputs": [],
   "source": [
    "dfs_in_cone.visit"
   ]
  },
  {
   "cell_type": "code",
   "execution_count": null,
   "id": "0796e5b3-42be-4416-96ce-60dc494df252",
   "metadata": {
    "execution": {
     "iopub.status.busy": "2025-05-03T20:59:11.202732Z",
     "iopub.status.idle": "2025-05-03T20:59:11.202884Z",
     "shell.execute_reply": "2025-05-03T20:59:11.202812Z",
     "shell.execute_reply.started": "2025-05-03T20:59:11.202805Z"
    }
   },
   "outputs": [],
   "source": [
    "df_merged = pd.merge(dfs_in_cone, df_visits_in_patch, on=\"visit\", how=\"inner\")"
   ]
  },
  {
   "cell_type": "code",
   "execution_count": null,
   "id": "320d60bc-6bd9-4897-a7d0-3a340c139cd8",
   "metadata": {
    "execution": {
     "iopub.status.busy": "2025-05-03T20:59:11.203518Z",
     "iopub.status.idle": "2025-05-03T20:59:11.203679Z",
     "shell.execute_reply": "2025-05-03T20:59:11.203603Z",
     "shell.execute_reply.started": "2025-05-03T20:59:11.203596Z"
    }
   },
   "outputs": [],
   "source": [
    "df_merged"
   ]
  },
  {
   "cell_type": "code",
   "execution_count": null,
   "id": "12a23989-02bd-43e3-91ce-ccef2e53bc3c",
   "metadata": {
    "execution": {
     "iopub.status.busy": "2025-05-03T20:59:11.203995Z",
     "iopub.status.idle": "2025-05-03T20:59:11.204150Z",
     "shell.execute_reply": "2025-05-03T20:59:11.204078Z",
     "shell.execute_reply.started": "2025-05-03T20:59:11.204065Z"
    }
   },
   "outputs": [],
   "source": [
    "plt.scatter(df_merged.expMidptMJD, df_merged.calibMag)\n",
    "# plt.ylim(16.,17.)"
   ]
  },
  {
   "cell_type": "code",
   "execution_count": null,
   "id": "0a343482-ecd7-4610-8e3f-c1f2c431776f",
   "metadata": {},
   "outputs": [],
   "source": []
  }
 ],
 "metadata": {
  "kernelspec": {
   "display_name": "LSST",
   "language": "python",
   "name": "lsst"
  },
  "language_info": {
   "codemirror_mode": {
    "name": "ipython",
    "version": 3
   },
   "file_extension": ".py",
   "mimetype": "text/x-python",
   "name": "python",
   "nbconvert_exporter": "python",
   "pygments_lexer": "ipython3",
   "version": "3.12.9"
  }
 },
 "nbformat": 4,
 "nbformat_minor": 5
}
