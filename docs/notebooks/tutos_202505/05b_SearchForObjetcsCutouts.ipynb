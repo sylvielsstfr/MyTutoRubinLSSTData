{
 "cells": [
  {
   "cell_type": "markdown",
   "id": "adda26b1-7594-48da-94d2-6722bd71353c",
   "metadata": {},
   "source": [
    "# Tuto to find Objects and show cutouts in LSSTComCam"
   ]
  },
  {
   "cell_type": "markdown",
   "id": "1f276e2d-e5e1-4b30-bf3c-4ea950073fad",
   "metadata": {
    "execution": {
     "iopub.execute_input": "2025-04-29T08:48:57.989253Z",
     "iopub.status.busy": "2025-04-29T08:48:57.988923Z",
     "iopub.status.idle": "2025-04-29T08:48:57.993268Z",
     "shell.execute_reply": "2025-04-29T08:48:57.992764Z",
     "shell.execute_reply.started": "2025-04-29T08:48:57.989226Z"
    }
   },
   "source": [
    "- author : Sylvie Dagoret-Campagne\n",
    "- affiliation : IJCLab/IN2P3/CNRS\n",
    "- member : DESC, rubin-inkind\n",
    "- creation date : 2025-05-04\n",
    "- last update : 2025-05-04"
   ]
  },
  {
   "cell_type": "markdown",
   "id": "81c11161-2bd4-4317-812a-f246f3f70d81",
   "metadata": {},
   "source": [
    "## Note on work done on LSSTComCam Commissioning : https://sitcomtn-149.lsst.io/\n",
    "## Note Data Product definition Document : https://lse-163.lsst.io/"
   ]
  },
  {
   "cell_type": "code",
   "execution_count": null,
   "id": "72f36e25-589c-4a8c-865f-8b51f5f35270",
   "metadata": {
    "execution": {
     "iopub.execute_input": "2025-05-05T09:53:34.346714Z",
     "iopub.status.busy": "2025-05-05T09:53:34.346573Z",
     "iopub.status.idle": "2025-05-05T09:53:35.374939Z",
     "shell.execute_reply": "2025-05-05T09:53:35.374429Z",
     "shell.execute_reply.started": "2025-05-05T09:53:34.346691Z"
    }
   },
   "outputs": [],
   "source": [
    "import sys\n",
    "import matplotlib.pyplot as plt\n",
    "import lsst.afw.display as afwDisplay\n",
    "import numpy as np\n",
    "import pandas as pd\n",
    "from astropy.time import Time\n",
    "# %matplotlib widget"
   ]
  },
  {
   "cell_type": "code",
   "execution_count": null,
   "id": "da7eddda-b7a2-4c6f-904a-4078b7126033",
   "metadata": {
    "execution": {
     "iopub.execute_input": "2025-05-05T09:53:35.375823Z",
     "iopub.status.busy": "2025-05-05T09:53:35.375500Z",
     "iopub.status.idle": "2025-05-05T09:53:35.378339Z",
     "shell.execute_reply": "2025-05-05T09:53:35.377936Z",
     "shell.execute_reply.started": "2025-05-05T09:53:35.375807Z"
    }
   },
   "outputs": [],
   "source": [
    "from lsst.geom import Point2D, Point2I, Box2I, Extent2I\n",
    "from lsst.afw.image import ExposureF"
   ]
  },
  {
   "cell_type": "code",
   "execution_count": null,
   "id": "2c3f835a-ca1b-483f-81f7-28108f56d440",
   "metadata": {
    "execution": {
     "iopub.execute_input": "2025-05-05T09:53:35.378936Z",
     "iopub.status.busy": "2025-05-05T09:53:35.378804Z",
     "iopub.status.idle": "2025-05-05T09:53:35.440634Z",
     "shell.execute_reply": "2025-05-05T09:53:35.440168Z",
     "shell.execute_reply.started": "2025-05-05T09:53:35.378924Z"
    }
   },
   "outputs": [],
   "source": [
    "afwDisplay.setDefaultBackend(\"firefly\")"
   ]
  },
  {
   "cell_type": "code",
   "execution_count": null,
   "id": "42897fba-1ca4-4f20-837d-bd7478ac4548",
   "metadata": {
    "execution": {
     "iopub.execute_input": "2025-05-05T09:53:35.441439Z",
     "iopub.status.busy": "2025-05-05T09:53:35.441145Z",
     "iopub.status.idle": "2025-05-05T09:53:35.465708Z",
     "shell.execute_reply": "2025-05-05T09:53:35.465294Z",
     "shell.execute_reply.started": "2025-05-05T09:53:35.441425Z"
    }
   },
   "outputs": [],
   "source": [
    "import lsst.geom as geom\n",
    "from lsst.geom import SpherePoint, degrees, Point2D, Point2I, Extent2I\n",
    "from lsst.skymap import PatchInfo, Index2D"
   ]
  },
  {
   "cell_type": "code",
   "execution_count": null,
   "id": "f2580923-bf82-4204-a50d-c64eb56b9f06",
   "metadata": {
    "execution": {
     "iopub.execute_input": "2025-05-05T09:53:35.466328Z",
     "iopub.status.busy": "2025-05-05T09:53:35.466195Z",
     "iopub.status.idle": "2025-05-05T09:53:35.468667Z",
     "shell.execute_reply": "2025-05-05T09:53:35.468314Z",
     "shell.execute_reply.started": "2025-05-05T09:53:35.466314Z"
    }
   },
   "outputs": [],
   "source": [
    "plt.rcParams[\"figure.figsize\"] = (10, 6)\n",
    "plt.rcParams[\"axes.labelsize\"] = \"x-large\"\n",
    "plt.rcParams[\"axes.titlesize\"] = \"x-large\"\n",
    "plt.rcParams[\"xtick.labelsize\"] = \"x-large\"\n",
    "plt.rcParams[\"ytick.labelsize\"] = \"x-large\""
   ]
  },
  {
   "cell_type": "code",
   "execution_count": null,
   "id": "d47f09df-7496-431c-b4ae-4fb75a3c6ef9",
   "metadata": {
    "execution": {
     "iopub.execute_input": "2025-05-05T09:53:35.469345Z",
     "iopub.status.busy": "2025-05-05T09:53:35.469088Z",
     "iopub.status.idle": "2025-05-05T09:53:35.475924Z",
     "shell.execute_reply": "2025-05-05T09:53:35.475566Z",
     "shell.execute_reply.started": "2025-05-05T09:53:35.469332Z"
    }
   },
   "outputs": [],
   "source": [
    "import gc"
   ]
  },
  {
   "cell_type": "code",
   "execution_count": null,
   "id": "1a1a267b-58c7-468a-a336-2c8def253a79",
   "metadata": {
    "execution": {
     "iopub.execute_input": "2025-05-05T09:53:35.476678Z",
     "iopub.status.busy": "2025-05-05T09:53:35.476344Z",
     "iopub.status.idle": "2025-05-05T09:53:35.482732Z",
     "shell.execute_reply": "2025-05-05T09:53:35.482321Z",
     "shell.execute_reply.started": "2025-05-05T09:53:35.476663Z"
    }
   },
   "outputs": [],
   "source": [
    "import traceback"
   ]
  },
  {
   "cell_type": "code",
   "execution_count": null,
   "id": "ede21bda-146f-4c77-aa40-edf2debfbfc0",
   "metadata": {
    "execution": {
     "iopub.execute_input": "2025-05-05T09:53:35.483303Z",
     "iopub.status.busy": "2025-05-05T09:53:35.483178Z",
     "iopub.status.idle": "2025-05-05T09:53:36.431516Z",
     "shell.execute_reply": "2025-05-05T09:53:36.431014Z",
     "shell.execute_reply.started": "2025-05-05T09:53:35.483291Z"
    }
   },
   "outputs": [],
   "source": [
    "# Define butler\n",
    "from lsst.daf.butler import Butler"
   ]
  },
  {
   "cell_type": "code",
   "execution_count": null,
   "id": "c7ab7fe3-285d-48c2-973a-2dde9d0a7faa",
   "metadata": {
    "execution": {
     "iopub.execute_input": "2025-05-05T09:53:36.432197Z",
     "iopub.status.busy": "2025-05-05T09:53:36.432047Z",
     "iopub.status.idle": "2025-05-05T09:53:37.098742Z",
     "shell.execute_reply": "2025-05-05T09:53:37.098143Z",
     "shell.execute_reply.started": "2025-05-05T09:53:36.432181Z"
    }
   },
   "outputs": [],
   "source": [
    "!eups list lsst_distrib"
   ]
  },
  {
   "cell_type": "code",
   "execution_count": null,
   "id": "0cd350ad-7a29-415e-aabe-a837bf1c6998",
   "metadata": {
    "execution": {
     "iopub.execute_input": "2025-05-05T09:53:37.099615Z",
     "iopub.status.busy": "2025-05-05T09:53:37.099459Z",
     "iopub.status.idle": "2025-05-05T09:53:37.103613Z",
     "shell.execute_reply": "2025-05-05T09:53:37.103187Z",
     "shell.execute_reply.started": "2025-05-05T09:53:37.099598Z"
    }
   },
   "outputs": [],
   "source": [
    "def nJy_to_ab_mag(f_njy):\n",
    "    \"\"\"Convert scalar or array flux in nJy to AB magnitude.\"\"\"\n",
    "    f_njy = np.asarray(f_njy)\n",
    "    mag = np.full_like(f_njy, fill_value=np.nan, dtype=float)\n",
    "    mask = f_njy > 0\n",
    "    mag[mask] = -2.5 * np.log10(f_njy[mask]) + 31.4\n",
    "    return mag\n",
    "\n",
    "\n",
    "def nJy_err_to_ab_err(f_njy, f_err):\n",
    "    \"\"\"Propagate flux error to magnitude error.\"\"\"\n",
    "    f_njy = np.asarray(f_njy)\n",
    "    f_err = np.asarray(f_err)\n",
    "    mag_err = np.full_like(f_njy, fill_value=np.nan, dtype=float)\n",
    "    mask = (f_njy > 0) & (f_err > 0)\n",
    "    mag_err[mask] = (2.5 / np.log(10)) * (f_err[mask] / f_njy[mask])\n",
    "    return mag_err"
   ]
  },
  {
   "cell_type": "code",
   "execution_count": null,
   "id": "3196f32a-8f86-42d9-a1e9-9ccec528eb10",
   "metadata": {
    "execution": {
     "iopub.execute_input": "2025-05-05T09:53:37.104452Z",
     "iopub.status.busy": "2025-05-05T09:53:37.104109Z",
     "iopub.status.idle": "2025-05-05T09:53:37.112291Z",
     "shell.execute_reply": "2025-05-05T09:53:37.111821Z",
     "shell.execute_reply.started": "2025-05-05T09:53:37.104437Z"
    }
   },
   "outputs": [],
   "source": [
    "def ab_mag_to_nJy(mag_ab):\n",
    "    \"\"\"Convert AB magnitude to flux in nanojanskys.\"\"\"\n",
    "    return 10 ** ((31.4 - mag_ab) / 2.5)"
   ]
  },
  {
   "cell_type": "markdown",
   "id": "7e369002-01db-40e2-a7b7-036072114e6a",
   "metadata": {},
   "source": [
    "## RubinTV, Campaigns , quicklook\n",
    "- RubinTV : https://usdf-rsp.slac.stanford.edu/rubintv/summit-usdf/lsstcam\n",
    "- https://rubinobs.atlassian.net/wiki/spaces/LSSTCOM/pages/467370016/LSSTCam+Commissioning+Planning\n",
    "- LSSTCam DM campaign : https://rubinobs.atlassian.net/wiki/spaces/DM/pages/48834013/Campaigns#1.1.2.-LSSTCam-Nightly-Validation-Pipeline\n",
    "- Check campaign also here  https://rubinobs.atlassian.net/wiki/pages/diffpagesbyversion.action?pageId=48834013&selectedPageVersions=145%2C143\n",
    "- fov-quicklook : https://usdf-rsp-dev.slac.stanford.edu/fov-quicklook/"
   ]
  },
  {
   "cell_type": "markdown",
   "id": "4ce495c8-71a6-4846-86fc-5715e13348ab",
   "metadata": {},
   "source": [
    "## Configuration"
   ]
  },
  {
   "cell_type": "code",
   "execution_count": null,
   "id": "91e7b166-6245-4e54-8cb1-21f34fbba78f",
   "metadata": {
    "execution": {
     "iopub.execute_input": "2025-05-05T09:53:37.112895Z",
     "iopub.status.busy": "2025-05-05T09:53:37.112769Z",
     "iopub.status.idle": "2025-05-05T09:53:37.119333Z",
     "shell.execute_reply": "2025-05-05T09:53:37.118839Z",
     "shell.execute_reply.started": "2025-05-05T09:53:37.112883Z"
    }
   },
   "outputs": [],
   "source": [
    "FLAG_DUMP_COLLECTIONS = False\n",
    "FLAG_DUMP_DATASETS = False\n",
    "FLAG_DUMP_OBJECTSTABLECOLUMNS = False\n",
    "FLAG_CUT_OBJECTSMAG = True\n",
    "FLAG_CUT_OBJECTSSNR = True"
   ]
  },
  {
   "cell_type": "code",
   "execution_count": null,
   "id": "b0cd343d-97e1-4eca-90a8-8d1423c5333d",
   "metadata": {
    "execution": {
     "iopub.execute_input": "2025-05-05T09:53:37.119894Z",
     "iopub.status.busy": "2025-05-05T09:53:37.119768Z",
     "iopub.status.idle": "2025-05-05T09:53:37.126495Z",
     "shell.execute_reply": "2025-05-05T09:53:37.126068Z",
     "shell.execute_reply.started": "2025-05-05T09:53:37.119882Z"
    }
   },
   "outputs": [],
   "source": [
    "MAGCUT = 20.0\n",
    "SNRCUT = 5.0"
   ]
  },
  {
   "cell_type": "code",
   "execution_count": null,
   "id": "566b4b6f-68ac-472f-9a14-9645d06d291a",
   "metadata": {
    "execution": {
     "iopub.execute_input": "2025-05-05T09:53:37.127074Z",
     "iopub.status.busy": "2025-05-05T09:53:37.126948Z",
     "iopub.status.idle": "2025-05-05T09:53:37.133446Z",
     "shell.execute_reply": "2025-05-05T09:53:37.133034Z",
     "shell.execute_reply.started": "2025-05-05T09:53:37.127062Z"
    }
   },
   "outputs": [],
   "source": [
    "all_bands = [\"u\", \"g\", \"r\", \"i\", \"z\", \"y\"]\n",
    "all_bands_colors = [\"blue\", \"green\", \"red\", \"orange\", \"yellow\", \"purple\"]"
   ]
  },
  {
   "cell_type": "markdown",
   "id": "29bdd60b-f237-4a90-8aee-95f83091a5c8",
   "metadata": {},
   "source": [
    "### Choose instrument"
   ]
  },
  {
   "cell_type": "code",
   "execution_count": null,
   "id": "66ff700b-a6ab-4b6d-ab28-dfadf54fdd9f",
   "metadata": {
    "execution": {
     "iopub.execute_input": "2025-05-05T09:53:37.133980Z",
     "iopub.status.busy": "2025-05-05T09:53:37.133857Z",
     "iopub.status.idle": "2025-05-05T09:53:37.140796Z",
     "shell.execute_reply": "2025-05-05T09:53:37.140406Z",
     "shell.execute_reply.started": "2025-05-05T09:53:37.133969Z"
    }
   },
   "outputs": [],
   "source": [
    "# instrument = \"LSSTCam\"\n",
    "\n",
    "# We focus here on sky fields oberved by LSSTComCam, so we select this camera\n",
    "instrument = \"LSSTComCam\""
   ]
  },
  {
   "cell_type": "markdown",
   "id": "6a07464c-6f2e-4015-8ea6-1fbc5698c1dd",
   "metadata": {},
   "source": [
    "### Choose options"
   ]
  },
  {
   "cell_type": "markdown",
   "id": "29fc15af-ca3f-4c38-99ec-433e84dae8a2",
   "metadata": {},
   "source": [
    "### For LSSTCam : RubinTV, Campaigns , quicklook\n",
    "- RubinTV : https://usdf-rsp.slac.stanford.edu/rubintv/summit-usdf/lsstcam\n",
    "- https://rubinobs.atlassian.net/wiki/spaces/LSSTCOM/pages/467370016/LSSTCam+Commissioning+Planning\n",
    "- LSSTCam DM campaign : https://rubinobs.atlassian.net/wiki/spaces/DM/pages/48834013/Campaigns#1.1.2.-LSSTCam-Nightly-Validation-Pipeline\n",
    "- Check campaign also here  https://rubinobs.atlassian.net/wiki/pages/diffpagesbyversion.action?pageId=48834013&selectedPageVersions=145%2C143\n",
    "- fov-quicklook : https://usdf-rsp-dev.slac.stanford.edu/fov-quicklook/"
   ]
  },
  {
   "cell_type": "markdown",
   "id": "5542de7d-695e-4256-b765-28b902b02adc",
   "metadata": {},
   "source": [
    "### For LSSTComCam check here : \n",
    "- Check here the collection available : https://rubinobs.atlassian.net/wiki/spaces/DM/pages/226656354/LSSTComCam+Intermittent+Cumulative+DRP+Runs"
   ]
  },
  {
   "cell_type": "code",
   "execution_count": null,
   "id": "eacb14b0-183c-4dcd-ba59-64c7ca3efcd3",
   "metadata": {
    "execution": {
     "iopub.execute_input": "2025-05-05T09:53:37.141648Z",
     "iopub.status.busy": "2025-05-05T09:53:37.141305Z",
     "iopub.status.idle": "2025-05-05T09:53:37.148335Z",
     "shell.execute_reply": "2025-05-05T09:53:37.147848Z",
     "shell.execute_reply.started": "2025-05-05T09:53:37.141634Z"
    }
   },
   "outputs": [],
   "source": [
    "if instrument == \"LSSTCam\":\n",
    "    repo = \"/repo/embargo\"\n",
    "    instrument = \"LSSTCam\"\n",
    "    collection_validation = instrument + \"/runs/nightlyValidation\"\n",
    "    # collection_quicklook   = instrument + '/runs/quickLookTesting'\n",
    "    collection_validation = os.path.join(collection_validation, \"20250416/d_2025_04_15/DM-50157\")\n",
    "    date_start = 20250415\n",
    "    date_selection = 20250416\n",
    "    where_clause = \"instrument = '\" + f\"{instrument}\" + \"'\"\n",
    "    where_clause_date = where_clause + f\"and day_obs >= {date_start}\"\n",
    "    skymapName = \"lsst_cells_v1\"\n",
    "    BANDSEL = \"i\"\n",
    "\n",
    "elif instrument == \"LSSTComCam\":\n",
    "    repo = \"/repo/main\"\n",
    "    collection_validation = \"LSSTComCam/runs/DRP/DP1/w_2025_10/DM-49359\"  # work 2025-05-01\n",
    "    # collection_validation = \"LSSTComCam/runs/DRP/DP1/w_2025_17/DM-50530\" #updated 2025-05-02\n",
    "    date_start = 20241024\n",
    "    date_selection = 20241211\n",
    "    skymapName = \"lsst_cells_v1\"\n",
    "    where_clause = \"instrument = '\" + instrument + \"'\"\n",
    "    where_clause_date = where_clause + f\"and day_obs >= {date_start}\"\n",
    "\n",
    "    NDET = 9\n",
    "    TRACTSEL = 5063\n",
    "    BANDSEL = \"i\""
   ]
  },
  {
   "cell_type": "code",
   "execution_count": null,
   "id": "82535307-9253-4f06-b82a-956efd0217c9",
   "metadata": {
    "execution": {
     "iopub.execute_input": "2025-05-05T09:53:37.148893Z",
     "iopub.status.busy": "2025-05-05T09:53:37.148767Z",
     "iopub.status.idle": "2025-05-05T09:53:37.154885Z",
     "shell.execute_reply": "2025-05-05T09:53:37.154528Z",
     "shell.execute_reply.started": "2025-05-05T09:53:37.148881Z"
    }
   },
   "outputs": [],
   "source": [
    "collectionStr = collection_validation.replace(\"/\", \"_\")"
   ]
  },
  {
   "cell_type": "markdown",
   "id": "e77a39ca-c34f-4097-8a11-c40a121a82e9",
   "metadata": {},
   "source": [
    "## Access to Butler registry"
   ]
  },
  {
   "cell_type": "code",
   "execution_count": null,
   "id": "8726b7e4-94b7-48ac-92f8-447b34b7a59e",
   "metadata": {
    "execution": {
     "iopub.execute_input": "2025-05-05T09:53:37.155635Z",
     "iopub.status.busy": "2025-05-05T09:53:37.155310Z",
     "iopub.status.idle": "2025-05-05T09:53:37.567621Z",
     "shell.execute_reply": "2025-05-05T09:53:37.567089Z",
     "shell.execute_reply.started": "2025-05-05T09:53:37.155621Z"
    }
   },
   "outputs": [],
   "source": [
    "# Initialize the butler repo:\n",
    "butler = Butler(repo, collections=collection_validation)\n",
    "registry = butler.registry"
   ]
  },
  {
   "cell_type": "markdown",
   "id": "a82d1397-cd01-45d3-9f39-8b4f6bcbb21f",
   "metadata": {},
   "source": [
    "## Create a skymap object and Camera"
   ]
  },
  {
   "cell_type": "code",
   "execution_count": null,
   "id": "2a570834-a5dc-43b8-a0d3-af71a5b2706c",
   "metadata": {
    "execution": {
     "iopub.execute_input": "2025-05-05T09:53:37.568312Z",
     "iopub.status.busy": "2025-05-05T09:53:37.568175Z",
     "iopub.status.idle": "2025-05-05T09:53:37.940558Z",
     "shell.execute_reply": "2025-05-05T09:53:37.940006Z",
     "shell.execute_reply.started": "2025-05-05T09:53:37.568298Z"
    }
   },
   "outputs": [],
   "source": [
    "skymap = butler.get(\"skyMap\", skymap=skymapName, collections=collection_validation)"
   ]
  },
  {
   "cell_type": "code",
   "execution_count": null,
   "id": "8870762e-6e5d-4a6d-b101-1783285b1935",
   "metadata": {
    "execution": {
     "iopub.execute_input": "2025-05-05T09:53:37.941474Z",
     "iopub.status.busy": "2025-05-05T09:53:37.941145Z",
     "iopub.status.idle": "2025-05-05T09:53:38.437349Z",
     "shell.execute_reply": "2025-05-05T09:53:38.436800Z",
     "shell.execute_reply.started": "2025-05-05T09:53:37.941458Z"
    }
   },
   "outputs": [],
   "source": [
    "camera = butler.get(\"camera\", collections=collection_validation, instrument=instrument)"
   ]
  },
  {
   "cell_type": "markdown",
   "id": "f0e61f09-1f15-4f29-9555-d4015b09c5cc",
   "metadata": {},
   "source": [
    "## Query for collections in Butler\n",
    "\n",
    "- remove user collections\n",
    "- remove calibration products"
   ]
  },
  {
   "cell_type": "code",
   "execution_count": null,
   "id": "55edfcaa-96c0-49dc-827c-0167a0b6f731",
   "metadata": {
    "execution": {
     "iopub.execute_input": "2025-05-05T09:53:38.440732Z",
     "iopub.status.busy": "2025-05-05T09:53:38.440582Z",
     "iopub.status.idle": "2025-05-05T09:53:38.443231Z",
     "shell.execute_reply": "2025-05-05T09:53:38.442873Z",
     "shell.execute_reply.started": "2025-05-05T09:53:38.440718Z"
    }
   },
   "outputs": [],
   "source": [
    "# mostly setup for LSSTCam\n",
    "if FLAG_DUMP_COLLECTIONS:\n",
    "    for _ in sorted(registry.queryCollections(expression=instrument + \"/*\")):\n",
    "        if \"/calib/\" not in _ and \"u/\" not in _:\n",
    "            print(_)"
   ]
  },
  {
   "cell_type": "markdown",
   "id": "3ff90940-a996-4174-97b4-beb8895ae7a4",
   "metadata": {},
   "source": [
    "## Query for the dataset types in the Butler\n",
    "\n",
    "- Refer to the Data Product definition Document to know about the definition of datasets\n",
    "- https://www.lsst.org/about/dm/data-products\n",
    "- https://lse-163.lsst.io/\n",
    "- https://docushare.lsst.org/docushare/dsweb/Get/LSE-163"
   ]
  },
  {
   "cell_type": "code",
   "execution_count": null,
   "id": "f06e34b6-0f25-4047-9859-a34ec32e268d",
   "metadata": {
    "execution": {
     "iopub.execute_input": "2025-05-05T09:53:38.443854Z",
     "iopub.status.busy": "2025-05-05T09:53:38.443730Z",
     "iopub.status.idle": "2025-05-05T09:53:38.451013Z",
     "shell.execute_reply": "2025-05-05T09:53:38.450545Z",
     "shell.execute_reply.started": "2025-05-05T09:53:38.443842Z"
    }
   },
   "outputs": [],
   "source": [
    "if FLAG_DUMP_DATASETS:\n",
    "    for datasetType in registry.queryDatasetTypes():\n",
    "        if registry.queryDatasets(datasetType, collections=collection_validation).any(\n",
    "            execute=False, exact=False\n",
    "        ):\n",
    "            # Limit search results to the data products\n",
    "            if (\n",
    "                (\"_config\" not in datasetType.name)\n",
    "                and (\"_log\" not in datasetType.name)\n",
    "                and (\"_metadata\" not in datasetType.name)\n",
    "                and (\"_resource_usage\" not in datasetType.name)\n",
    "                and (\"Plot\" not in datasetType.name)\n",
    "                and (\"Metric\" not in datasetType.name)\n",
    "                and (\"metric\" not in datasetType.name)\n",
    "            ):\n",
    "                if \"object\" in datasetType.name or \"Obj\" in datasetType.name:\n",
    "                    print(datasetType)\n",
    "#                if \"source\" in datasetType.name or \"Source\" in datasetType.name:\n",
    "#                    print(datasetType)"
   ]
  },
  {
   "cell_type": "markdown",
   "id": "f78111e1-238c-4641-b3c1-0faebbbb89b1",
   "metadata": {},
   "source": [
    "## Region of interest"
   ]
  },
  {
   "cell_type": "code",
   "execution_count": null,
   "id": "6d0b6ebe-24c0-4046-9657-7187929a5f9a",
   "metadata": {
    "execution": {
     "iopub.execute_input": "2025-05-05T09:53:38.451991Z",
     "iopub.status.busy": "2025-05-05T09:53:38.451612Z",
     "iopub.status.idle": "2025-05-05T09:53:38.462351Z",
     "shell.execute_reply": "2025-05-05T09:53:38.461937Z",
     "shell.execute_reply.started": "2025-05-05T09:53:38.451971Z"
    }
   },
   "outputs": [],
   "source": [
    "lsstcomcam_targets = {}\n",
    "lsstcomcam_targets[\"47 Tuc\"] = {\"field_name\": \"47 Tuc Globular Cluster\", \"ra\": 6.02, \"dec\": -72.08}\n",
    "lsstcomcam_targets[\"Rubin SV 38 7\"] = {\"field_name\": \"Low Ecliptic Latitude Field\", \"ra\": 37.86, \"dec\": 6.98}\n",
    "lsstcomcam_targets[\"Fornax dSph\"] = {\n",
    "    \"field_name\": \"Fornax Dwarf Spheroidal Galaxy\",\n",
    "    \"ra\": 40.0,\n",
    "    \"dec\": -34.45,\n",
    "}\n",
    "lsstcomcam_targets[\"ECDFS\"] = {\"field_name\": \"Extended Chandra Deep Field South\", \"ra\": 53.13, \"dec\": -28.10}\n",
    "lsstcomcam_targets[\"EDFS\"] = {\"field_name\": \"Euclid Deep Field South\", \"ra\": 59.10, \"dec\": -48.73}\n",
    "lsstcomcam_targets[\"Rubin SV 95 -25\"] = {\n",
    "    \"field_name\": \"Low Galactic Latitude Field\",\n",
    "    \"ra\": 95.00,\n",
    "    \"dec\": -25.0,\n",
    "}\n",
    "lsstcomcam_targets[\"Seagull\"] = {\"field_name\": \"Seagull Nebula\", \"ra\": 106.23, \"dec\": -10.51}"
   ]
  },
  {
   "cell_type": "code",
   "execution_count": null,
   "id": "2fdc2905-3fd5-485e-a66b-56927d3de02f",
   "metadata": {
    "execution": {
     "iopub.execute_input": "2025-05-05T09:53:38.463119Z",
     "iopub.status.busy": "2025-05-05T09:53:38.462842Z",
     "iopub.status.idle": "2025-05-05T09:53:38.469069Z",
     "shell.execute_reply": "2025-05-05T09:53:38.468716Z",
     "shell.execute_reply.started": "2025-05-05T09:53:38.463103Z"
    }
   },
   "outputs": [],
   "source": [
    "# the_target = lsstcomcam_targets[\"Seagull\"]\n",
    "# the_target = lsstcomcam_targets[\"47 Tuc\"] # bad\n",
    "# the_target = lsstcomcam_targets[\"Fornax dSph\"]\n",
    "# the_target = lsstcomcam_targets[\"ECDFS\"]\n",
    "\n",
    "\n",
    "# key = \"Seagull\"\n",
    "# key = \"Fornax dSph\"\n",
    "key = \"ECDFS\"\n",
    "# key = \"EDFS\"\n",
    "# key = \"47 Tuc\"\n",
    "# key = \"Rubin SV 38 7\"\n",
    "# key = \"Rubin SV 95 -25\"\n",
    "keyfield = \"\".join(key.split())\n",
    "\n",
    "the_target = lsstcomcam_targets[key]\n",
    "target_ra = the_target[\"ra\"]\n",
    "target_dec = the_target[\"dec\"]\n",
    "target_title = (\n",
    "    the_target[\"field_name\"] + f\" band  {BANDSEL} \" + f\" (ra,dec) = ({target_ra:.2f},{target_dec:.2f}) \"\n",
    ")\n",
    "target_point = SpherePoint(target_ra, target_dec, degrees)"
   ]
  },
  {
   "cell_type": "markdown",
   "id": "5097cdde-6283-4499-aaaa-57e799bdd53a",
   "metadata": {},
   "source": [
    "## Get list of tracts from the objectTable_tract"
   ]
  },
  {
   "cell_type": "code",
   "execution_count": null,
   "id": "3560cdd4-3d7e-4325-a3f5-07a0d70a8360",
   "metadata": {
    "execution": {
     "iopub.execute_input": "2025-05-05T09:53:38.469726Z",
     "iopub.status.busy": "2025-05-05T09:53:38.469504Z",
     "iopub.status.idle": "2025-05-05T09:53:38.475669Z",
     "shell.execute_reply": "2025-05-05T09:53:38.475293Z",
     "shell.execute_reply.started": "2025-05-05T09:53:38.469712Z"
    }
   },
   "outputs": [],
   "source": [
    "# Find the dimension\n",
    "print(butler.registry.getDatasetType(\"objectTable_tract\").dimensions)"
   ]
  },
  {
   "cell_type": "code",
   "execution_count": null,
   "id": "e07d2107-8c9e-485e-89bc-ec6e52fa10f4",
   "metadata": {
    "execution": {
     "iopub.execute_input": "2025-05-05T09:53:38.476313Z",
     "iopub.status.busy": "2025-05-05T09:53:38.476102Z",
     "iopub.status.idle": "2025-05-05T09:53:38.556356Z",
     "shell.execute_reply": "2025-05-05T09:53:38.555929Z",
     "shell.execute_reply.started": "2025-05-05T09:53:38.476300Z"
    }
   },
   "outputs": [],
   "source": [
    "datasettype = \"objectTable_tract\"\n",
    "therefs = butler.registry.queryDatasets(datasettype, collections=collection_validation)\n",
    "tractsId_list = np.unique([ref.dataId[\"tract\"] for ref in therefs])\n",
    "tractsId_list = sorted(tractsId_list)\n",
    "print(tractsId_list)"
   ]
  },
  {
   "cell_type": "markdown",
   "id": "f060f57d-ac96-4ec7-8a94-f760e118248a",
   "metadata": {},
   "source": [
    "## Find the Tract and Patch of the region of interest\n",
    "\n",
    "- tract in tractNbSel\n",
    "- patch in patchNbSel"
   ]
  },
  {
   "cell_type": "code",
   "execution_count": null,
   "id": "ea99cc96-a0bf-4dec-9418-895e5569688b",
   "metadata": {
    "execution": {
     "iopub.execute_input": "2025-05-05T09:53:38.556986Z",
     "iopub.status.busy": "2025-05-05T09:53:38.556847Z",
     "iopub.status.idle": "2025-05-05T09:53:38.562238Z",
     "shell.execute_reply": "2025-05-05T09:53:38.561865Z",
     "shell.execute_reply.started": "2025-05-05T09:53:38.556972Z"
    }
   },
   "outputs": [],
   "source": [
    "tract_info = skymap.findTract(target_point)\n",
    "patch_info = tract_info.findPatch(target_point)\n",
    "bbox = patch_info.getOuterBBox()\n",
    "\n",
    "print(\"Patch bounding box:\", bbox)\n",
    "\n",
    "print(\"Tract ID :\", tract_info.getId())\n",
    "tractNbSel = tract_info.getId()\n",
    "\n",
    "print(\"Patch Index :\", patch_info.getIndex(), \" , \", patch_info.getSequentialIndex())  # (x, y)\n",
    "print(\"Bounding Box\", bbox)\n",
    "\n",
    "patchNbSel = patch_info.getSequentialIndex()"
   ]
  },
  {
   "cell_type": "code",
   "execution_count": null,
   "id": "e1df364f-89a7-4a94-9541-89a05d75004c",
   "metadata": {
    "execution": {
     "iopub.execute_input": "2025-05-05T09:53:38.562878Z",
     "iopub.status.busy": "2025-05-05T09:53:38.562659Z",
     "iopub.status.idle": "2025-05-05T09:53:38.568256Z",
     "shell.execute_reply": "2025-05-05T09:53:38.567913Z",
     "shell.execute_reply.started": "2025-05-05T09:53:38.562866Z"
    }
   },
   "outputs": [],
   "source": [
    "dataId = {\"band\": BANDSEL, \"tract\": tractNbSel, \"patch\": patchNbSel, \"skymap\": skymapName}"
   ]
  },
  {
   "cell_type": "markdown",
   "id": "131ff71d-cee0-4141-ac33-c8f33758a584",
   "metadata": {},
   "source": [
    "## The Objects\n",
    "\n",
    "- Objects are extracted from object detection on deepcoadds\n",
    "- all bands are included "
   ]
  },
  {
   "cell_type": "code",
   "execution_count": null,
   "id": "da53ac66-c2fc-4b54-a19b-0e6d2def56a9",
   "metadata": {
    "execution": {
     "iopub.execute_input": "2025-05-05T09:53:38.568895Z",
     "iopub.status.busy": "2025-05-05T09:53:38.568674Z",
     "iopub.status.idle": "2025-05-05T09:53:38.575489Z",
     "shell.execute_reply": "2025-05-05T09:53:38.575134Z",
     "shell.execute_reply.started": "2025-05-05T09:53:38.568883Z"
    }
   },
   "outputs": [],
   "source": [
    "print(butler.registry.getDatasetType(\"objectTable\").dimensions)"
   ]
  },
  {
   "cell_type": "code",
   "execution_count": null,
   "id": "3e6b671b-f1c2-48ce-97ea-1eef0fa56cca",
   "metadata": {
    "execution": {
     "iopub.execute_input": "2025-05-05T09:53:38.576048Z",
     "iopub.status.busy": "2025-05-05T09:53:38.575922Z",
     "iopub.status.idle": "2025-05-05T09:53:38.582541Z",
     "shell.execute_reply": "2025-05-05T09:53:38.582171Z",
     "shell.execute_reply.started": "2025-05-05T09:53:38.576036Z"
    }
   },
   "outputs": [],
   "source": [
    "# cannot add a filter on band\n",
    "where_clause = f\"skymap = '{skymapName}' AND tract = {tractNbSel} AND patch = {patchNbSel}\"\n",
    "print(where_clause)"
   ]
  },
  {
   "cell_type": "code",
   "execution_count": null,
   "id": "064b709e-fd22-453f-a89c-8feeb6a157c7",
   "metadata": {
    "execution": {
     "iopub.execute_input": "2025-05-05T09:53:38.583214Z",
     "iopub.status.busy": "2025-05-05T09:53:38.582960Z",
     "iopub.status.idle": "2025-05-05T09:53:39.083500Z",
     "shell.execute_reply": "2025-05-05T09:53:39.082953Z",
     "shell.execute_reply.started": "2025-05-05T09:53:38.583201Z"
    }
   },
   "outputs": [],
   "source": [
    "dataset_refs = list(\n",
    "    butler.registry.queryDatasets(\"objectTable\", collections=collection_validation, where=where_clause)\n",
    ")\n",
    "# Récupère un des refs valides\n",
    "Nrefs = len(dataset_refs)\n",
    "print(f\"Number of objectTables : {Nrefs}\")\n",
    "ref = dataset_refs[0]\n",
    "t = butler.get(ref)\n",
    "Nobj = len(t)\n",
    "# del t\n",
    "# gc.collect()\n",
    "print(f\"Total Number of objects {Nobj}\")"
   ]
  },
  {
   "cell_type": "markdown",
   "id": "584463e6-5694-4bfd-a5f3-c0021e8c64bc",
   "metadata": {
    "execution": {
     "iopub.execute_input": "2025-05-01T20:56:43.699655Z",
     "iopub.status.busy": "2025-05-01T20:56:43.699512Z",
     "iopub.status.idle": "2025-05-01T20:56:43.702758Z",
     "shell.execute_reply": "2025-05-01T20:56:43.702457Z",
     "shell.execute_reply.started": "2025-05-01T20:56:43.699640Z"
    }
   },
   "source": [
    "Oui, dans ce type de objectTable, les colonnes comme g_psfFlux, g_kronFlux, g_cModelFlux, etc., sont des flux calibrés (en nJy ou en unité de calibration interne du pipeline). Pour les convertir en magnitudes AB, tu peux utiliser la formule classique :"
   ]
  },
  {
   "cell_type": "code",
   "execution_count": null,
   "id": "069c5c04-af0c-47b3-893d-7c6ccf2c76a1",
   "metadata": {
    "execution": {
     "iopub.execute_input": "2025-05-05T09:53:39.084172Z",
     "iopub.status.busy": "2025-05-05T09:53:39.084031Z",
     "iopub.status.idle": "2025-05-05T09:53:39.086657Z",
     "shell.execute_reply": "2025-05-05T09:53:39.086254Z",
     "shell.execute_reply.started": "2025-05-05T09:53:39.084158Z"
    }
   },
   "outputs": [],
   "source": [
    "# Utilise ref.datasetType.name pour lister les colonnes disponibles\n",
    "if FLAG_DUMP_OBJECTSTABLECOLUMNS:\n",
    "    t_columns = list(butler.get(ref).columns)\n",
    "    print(t_columns)"
   ]
  },
  {
   "cell_type": "code",
   "execution_count": null,
   "id": "7c6648f9-6053-4343-aab6-56cb9648c599",
   "metadata": {
    "execution": {
     "iopub.execute_input": "2025-05-05T09:53:39.087232Z",
     "iopub.status.busy": "2025-05-05T09:53:39.087103Z",
     "iopub.status.idle": "2025-05-05T09:53:39.095101Z",
     "shell.execute_reply": "2025-05-05T09:53:39.094704Z",
     "shell.execute_reply.started": "2025-05-05T09:53:39.087219Z"
    }
   },
   "outputs": [],
   "source": [
    "# La constante 31.4 correspond à la conversion AB standard pour un flux exprimé en nanoJanskys (nJy).\n",
    "# À vérifier selon l’unité exacte utilisée par le pipeline sur ton RSP\n",
    "# (souvent c’est bien nJy, mais ça peut être autre chose si la calibration a été changée).\n",
    "# mag = -2.5 * np.log10(flux) + 31.4"
   ]
  },
  {
   "cell_type": "markdown",
   "id": "56ce3aca-2ec2-4083-b947-665ce5107500",
   "metadata": {},
   "source": [
    "## Extract the per-band tables of coordinates"
   ]
  },
  {
   "cell_type": "code",
   "execution_count": null,
   "id": "9b911b83-eb83-4f4a-8db4-0e9e7a4a4821",
   "metadata": {
    "execution": {
     "iopub.execute_input": "2025-05-05T09:53:39.095651Z",
     "iopub.status.busy": "2025-05-05T09:53:39.095528Z",
     "iopub.status.idle": "2025-05-05T09:53:39.273472Z",
     "shell.execute_reply": "2025-05-05T09:53:39.272947Z",
     "shell.execute_reply.started": "2025-05-05T09:53:39.095639Z"
    }
   },
   "outputs": [],
   "source": [
    "# Check columns definitions in https://lse-163.lsst.io/\n",
    "all_radecTable = []\n",
    "\n",
    "for band in all_bands:\n",
    "    id_name = \"objectId\"\n",
    "    id_parentname = \"parentObjectId\"\n",
    "    x_name = f\"{band}_centroid_x\"\n",
    "    y_name = f\"{band}_centroid_y\"\n",
    "    coord_ra_name = \"coord_ra\"\n",
    "    coord_dec_name = \"coord_dec\"\n",
    "    ra_name = f\"{band}_ra\"\n",
    "    dec_name = f\"{band}_dec\"\n",
    "    decl_name = f\"{band}_decl\"\n",
    "    raerr_name = f\"{band}_raErr\"\n",
    "    decerr_name = f\"{band}_decErr\"\n",
    "    extendedness_name = f\"{band}_extendedness\"\n",
    "    blendness_name = f\"{band}_blendedness\"\n",
    "    psfflux_name = f\"{band}_psfFlux\"\n",
    "    psffluxerr_name = f\"{band}_psfFluxErr\"\n",
    "    psfmag_name = f\"{band}_psfMag\"\n",
    "    psfmagerr_name = f\"{band}_psfMagErr\"\n",
    "    psfflux_free_name = f\"{band}_free_psfFlux\"\n",
    "    df = t[\n",
    "        [\n",
    "            id_name,\n",
    "            id_parentname,\n",
    "            x_name,\n",
    "            y_name,\n",
    "            coord_ra_name,\n",
    "            coord_dec_name,\n",
    "            ra_name,\n",
    "            dec_name,\n",
    "            raerr_name,\n",
    "            decerr_name,\n",
    "            decl_name,\n",
    "            extendedness_name,\n",
    "            blendness_name,\n",
    "            psfflux_name,\n",
    "            psffluxerr_name,\n",
    "        ]\n",
    "    ]\n",
    "\n",
    "    # select primary objects\n",
    "    df_sel = (df[df[id_parentname] == 0]).drop([id_parentname], axis=1)\n",
    "    # compute magnitude AB\n",
    "\n",
    "    df_sel[psfmag_name] = df_sel[psfflux_name].apply(nJy_to_ab_mag)\n",
    "    df_sel[psfmagerr_name] = nJy_err_to_ab_err(df_sel[psfflux_name], df_sel[psffluxerr_name])\n",
    "\n",
    "    # drop bad magnitudes\n",
    "    df_sel = df_sel[df_sel[psfmag_name] != 0.0]\n",
    "    # drop the fluxes\n",
    "    # df_sel = df_sel.drop([psfflux_name], axis=1)\n",
    "\n",
    "    # SNR\n",
    "    snr = df_sel[psfflux_name] / df_sel[psffluxerr_name]\n",
    "\n",
    "    if FLAG_CUT_OBJECTSSNR:\n",
    "        df_sel = df_sel[snr > SNRCUT]\n",
    "\n",
    "    # select bright objects\n",
    "    if FLAG_CUT_OBJECTSMAG:\n",
    "        df_sel = df_sel[df_sel[psfmag_name] < MAGCUT]\n",
    "\n",
    "    df_sel.reset_index(drop=True, inplace=True)\n",
    "\n",
    "    # save table in the list\n",
    "    all_radecTable.append(df_sel)"
   ]
  },
  {
   "cell_type": "code",
   "execution_count": null,
   "id": "b934f4bf-d6f0-442a-a223-7f9e8a564ed8",
   "metadata": {
    "execution": {
     "iopub.execute_input": "2025-05-05T09:53:39.274171Z",
     "iopub.status.busy": "2025-05-05T09:53:39.274032Z",
     "iopub.status.idle": "2025-05-05T09:53:39.276970Z",
     "shell.execute_reply": "2025-05-05T09:53:39.276591Z",
     "shell.execute_reply.started": "2025-05-05T09:53:39.274155Z"
    }
   },
   "outputs": [],
   "source": [
    "for idx, band in enumerate(all_bands):\n",
    "    df_obj = all_radecTable[idx]\n",
    "    n = len(df_obj)\n",
    "    print(f\"Number of objects in band {band} : {n}\")"
   ]
  },
  {
   "cell_type": "markdown",
   "id": "9ba40e1f-5ad1-430d-b73c-84b9e95ab43a",
   "metadata": {},
   "source": [
    "## Plot Magnitudes and errors"
   ]
  },
  {
   "cell_type": "code",
   "execution_count": null,
   "id": "a3120afa-8f97-49e0-ad56-99d674f956b9",
   "metadata": {
    "execution": {
     "iopub.execute_input": "2025-05-05T09:53:39.277505Z",
     "iopub.status.busy": "2025-05-05T09:53:39.277381Z",
     "iopub.status.idle": "2025-05-05T09:53:39.295253Z",
     "shell.execute_reply": "2025-05-05T09:53:39.294854Z",
     "shell.execute_reply.started": "2025-05-05T09:53:39.277492Z"
    }
   },
   "outputs": [],
   "source": [
    "df_obj"
   ]
  },
  {
   "cell_type": "code",
   "execution_count": null,
   "id": "773ae3fc-1d17-4ca7-94fe-904ac0470db8",
   "metadata": {
    "execution": {
     "iopub.execute_input": "2025-05-05T09:53:39.295835Z",
     "iopub.status.busy": "2025-05-05T09:53:39.295696Z",
     "iopub.status.idle": "2025-05-05T09:53:39.549125Z",
     "shell.execute_reply": "2025-05-05T09:53:39.548718Z",
     "shell.execute_reply.started": "2025-05-05T09:53:39.295821Z"
    }
   },
   "outputs": [],
   "source": [
    "fig, ax = plt.subplots(1, 1, figsize=(6, 4))\n",
    "\n",
    "for ib, band in enumerate(all_bands):\n",
    "    color = all_bands_colors[ib]\n",
    "    df = all_radecTable[ib]\n",
    "    psfmag_name = f\"{band}_psfMag\"\n",
    "    df[psfmag_name].hist(ax=ax, bins=50, histtype=\"step\", color=color, label=band)\n",
    "ax.legend()\n",
    "ax.set_yscale(\"log\")\n",
    "ax.set_xlabel(\"psfMag\")\n",
    "ax.set_title(f\"Magnitude of object in (tract,patch) = ({tractNbSel},{patchNbSel})\")\n",
    "plt.show()"
   ]
  },
  {
   "cell_type": "code",
   "execution_count": null,
   "id": "8ac0b8c1-d5fc-4be8-aa93-daf3e51fe7eb",
   "metadata": {
    "execution": {
     "iopub.execute_input": "2025-05-05T09:53:39.549926Z",
     "iopub.status.busy": "2025-05-05T09:53:39.549628Z",
     "iopub.status.idle": "2025-05-05T09:53:39.756197Z",
     "shell.execute_reply": "2025-05-05T09:53:39.755722Z",
     "shell.execute_reply.started": "2025-05-05T09:53:39.549911Z"
    }
   },
   "outputs": [],
   "source": [
    "fig, ax = plt.subplots(1, 1, figsize=(8, 6))\n",
    "for ib, band in enumerate(all_bands):\n",
    "    color = all_bands_colors[ib]\n",
    "    df = all_radecTable[ib]\n",
    "    psfmag_name = f\"{band}_psfMag\"\n",
    "    psfmagerr_name = f\"{band}_psfMagErr\"\n",
    "\n",
    "    df.plot.scatter(x=psfmag_name, y=psfmagerr_name, ax=ax, marker=\".\", s=10, c=color, label=band, alpha=0.5)\n",
    "    # produce a crash\n",
    "ax.legend()\n",
    "ax.set_xlabel(\"psfMag\")\n",
    "ax.set_ylabel(\"psfMagErr\")\n",
    "ax.set_title(f\"Magnitude of Objects in (tract,patch) = ({tractNbSel},{patchNbSel})\")\n",
    "ax.set_aspect(\"auto\")\n",
    "plt.show()"
   ]
  },
  {
   "cell_type": "markdown",
   "id": "36c8f265-6496-4404-9228-a9085320c1e8",
   "metadata": {},
   "source": [
    "## Plot cutouts"
   ]
  },
  {
   "cell_type": "code",
   "execution_count": null,
   "id": "67033777-2aa0-4e91-892c-7477d2c0d4b6",
   "metadata": {
    "execution": {
     "iopub.execute_input": "2025-05-05T09:53:39.756893Z",
     "iopub.status.busy": "2025-05-05T09:53:39.756751Z",
     "iopub.status.idle": "2025-05-05T09:53:39.761809Z",
     "shell.execute_reply": "2025-05-05T09:53:39.761430Z",
     "shell.execute_reply.started": "2025-05-05T09:53:39.756879Z"
    }
   },
   "outputs": [],
   "source": [
    "def extract_deepCoadd_cutout(\n",
    "    ra_deg,\n",
    "    dec_deg,\n",
    "    tractInfo,\n",
    "    patchInfo,\n",
    "    band,\n",
    "    butler,\n",
    "    skymapName,\n",
    "    cutout_size_pixels=200,\n",
    "    collection=collection_validation,\n",
    "):\n",
    "    \"\"\"\n",
    "    Extract a square cutout from a deepCoadd image centered on given sky coordinates.\n",
    "\n",
    "    Parameters\n",
    "    ----------\n",
    "    ra_deg : float\n",
    "        Right ascension in degrees.\n",
    "    dec_deg : float\n",
    "        Declination in degrees.\n",
    "    tractInfo : lsst.skymap.TractInfo\n",
    "        Tract information object (from SkyMap).\n",
    "    patchInfo : lsst.skymap.PatchInfo\n",
    "        Patch information object (from SkyMap).\n",
    "    band : str\n",
    "        Photometric band (e.g., 'i', 'r', 'g').\n",
    "    butler : lsst.daf.butler.Butler\n",
    "        Butler instance to access LSST data.\n",
    "    cutout_size_pixels : int, optional\n",
    "        Size of the cutout in pixels (square region), default is 200.\n",
    "    collection : str, optional\n",
    "        Name of the collection containing deepCoadd data.\n",
    "\n",
    "    Returns\n",
    "    -------\n",
    "    cutout : lsst.afw.image.ExposureF\n",
    "        The extracted image cutout.\n",
    "    wcs : lsst.afw.geom.SkyWcs\n",
    "        World Coordinate System associated with the cutout.\n",
    "    metadata : lsst.daf.base.PropertyList\n",
    "        FITS metadata header for the cutout image.\n",
    "    \"\"\"\n",
    "\n",
    "    # Build dataId for the deepCoadd image\n",
    "    tract = tractInfo.getId()\n",
    "    patch = patchInfo.getSequentialIndex()\n",
    "    dataId = dict(tract=tract, patch=patch, band=band, skymap=skymapName)\n",
    "\n",
    "    # Retrieve the deepCoadd exposure\n",
    "    exposure = butler.get(\"deepCoadd\", dataId=dataId, collections=collection)\n",
    "    image_bbox = exposure.getBBox()\n",
    "\n",
    "    # Convert sky coordinates (RA, Dec) to pixel coordinates using WCS\n",
    "    coord = SpherePoint(ra_deg, dec_deg, degrees)\n",
    "    wcs = exposure.getWcs()\n",
    "    pixel_center = wcs.skyToPixel(coord)\n",
    "\n",
    "    half_size = cutout_size_pixels // 2\n",
    "\n",
    "    # Centre du cutout\n",
    "    center_x = int(pixel_center.getX())\n",
    "    center_y = int(pixel_center.getY())\n",
    "\n",
    "    # Coordonnées du coin en bas à gauche\n",
    "    corner_x = max(center_x - half_size, image_bbox.getMinX())\n",
    "    corner_y = max(center_y - half_size, image_bbox.getMinY())\n",
    "\n",
    "    # Ne pas dépasser la taille max de l'image\n",
    "    corner_x = min(corner_x, image_bbox.getMaxX() - cutout_size_pixels)\n",
    "    corner_y = min(corner_y, image_bbox.getMaxY() - cutout_size_pixels)\n",
    "\n",
    "    # Define a square bounding box around the target pixel\n",
    "    # Création du BBox valide\n",
    "    corner = Point2I(corner_x, corner_y)\n",
    "    bbox = Box2I(corner, Extent2I(cutout_size_pixels, cutout_size_pixels))\n",
    "\n",
    "    # Extract the cutout from the original exposure\n",
    "    cutout = exposure.Factory(exposure, bbox, deep=True)\n",
    "\n",
    "    return cutout, cutout.getWcs(), cutout.getMetadata()"
   ]
  },
  {
   "cell_type": "markdown",
   "id": "0ffb7357-ee81-416b-81cb-65da7c94619f",
   "metadata": {},
   "source": [
    "### Select the band Here\n",
    "\n",
    "- select ib from 0 to 5"
   ]
  },
  {
   "cell_type": "code",
   "execution_count": null,
   "id": "6b9c8fa3-ed4e-4ce6-b3ac-dcfdccaee25a",
   "metadata": {
    "execution": {
     "iopub.execute_input": "2025-05-05T09:53:39.762494Z",
     "iopub.status.busy": "2025-05-05T09:53:39.762251Z",
     "iopub.status.idle": "2025-05-05T09:53:39.769590Z",
     "shell.execute_reply": "2025-05-05T09:53:39.769165Z",
     "shell.execute_reply.started": "2025-05-05T09:53:39.762480Z"
    }
   },
   "outputs": [],
   "source": [
    "ib = 5\n",
    "band = all_bands[ib]\n",
    "df_obj = all_radecTable[ib]\n",
    "NB = len(df_obj)\n",
    "print(f\"Number of objects in band {band} : {NB}\")"
   ]
  },
  {
   "cell_type": "code",
   "execution_count": null,
   "id": "311e5828-e3df-46b6-b79b-1f03d23ee0d5",
   "metadata": {
    "execution": {
     "iopub.execute_input": "2025-05-05T09:53:39.770304Z",
     "iopub.status.busy": "2025-05-05T09:53:39.770068Z",
     "iopub.status.idle": "2025-05-05T09:53:39.777236Z",
     "shell.execute_reply": "2025-05-05T09:53:39.776723Z",
     "shell.execute_reply.started": "2025-05-05T09:53:39.770291Z"
    }
   },
   "outputs": [],
   "source": [
    "id_name = \"objectId\"\n",
    "df_obj[id_name] = df_obj[id_name].astype(int)\n",
    "id_parentname = \"parentObjectId\"\n",
    "x_name = f\"{band}_centroid_x\"\n",
    "y_name = f\"{band}_centroid_y\"\n",
    "coord_ra_name = \"coord_ra\"\n",
    "coord_dec_name = \"coord_dec\"\n",
    "ra_name = f\"{band}_ra\"\n",
    "dec_name = f\"{band}_dec\""
   ]
  },
  {
   "cell_type": "code",
   "execution_count": null,
   "id": "93113d57-5f16-4419-9823-af12c77283ad",
   "metadata": {
    "execution": {
     "iopub.execute_input": "2025-05-05T09:53:39.777983Z",
     "iopub.status.busy": "2025-05-05T09:53:39.777746Z",
     "iopub.status.idle": "2025-05-05T09:55:07.575178Z",
     "shell.execute_reply": "2025-05-05T09:55:07.574653Z",
     "shell.execute_reply.started": "2025-05-05T09:53:39.777969Z"
    }
   },
   "outputs": [],
   "source": [
    "idx_obj = 0\n",
    "for row in df_obj.iterrows():\n",
    "    iframe = idx_obj + 1\n",
    "    id_obj = int(df_obj.iloc[idx_obj][id_name])\n",
    "    ra_obj = float(df_obj.iloc[idx_obj][ra_name])\n",
    "    dec_obj = float(df_obj.iloc[idx_obj][dec_name])\n",
    "    title_obj = f\"{idx_obj} {key} {band} {id_obj}\\n{ra_obj:.3f}, {dec_obj:.3f}\"\n",
    "\n",
    "    cutout, wcs, metadata = extract_deepCoadd_cutout(\n",
    "        ra_deg=ra_obj,\n",
    "        dec_deg=dec_obj,\n",
    "        tractInfo=tract_info,\n",
    "        patchInfo=patch_info,\n",
    "        band=band,\n",
    "        butler=butler,\n",
    "        skymapName=skymapName,\n",
    "    )\n",
    "\n",
    "    # Optionnel : nom unique si plusieurs affichages\n",
    "    display = afwDisplay.Display(frame=iframe)\n",
    "    # Affiche le cutout\n",
    "    display.mtv(cutout.image, title=title_obj)\n",
    "\n",
    "    # Show the\n",
    "    wcs = cutout.getWcs()\n",
    "    coord = SpherePoint(ra_obj, dec_obj, degrees)\n",
    "    pixel = wcs.skyToPixel(coord)  # donne un Point2D (x, y)\n",
    "\n",
    "    display.dot(\"+\", pixel.getX(), pixel.getY(), size=20, ctype=all_bands_colors[ib])\n",
    "    display.dot(\"o\", pixel.getX(), pixel.getY(), size=20, ctype=all_bands_colors[ib])\n",
    "\n",
    "    NY, NX = cutout.image.array.shape\n",
    "    display.dot(title_obj, NX * 0.3, NY * 0.8, size=5, ctype=\"red\")\n",
    "\n",
    "    idx_obj += 1"
   ]
  },
  {
   "cell_type": "code",
   "execution_count": null,
   "id": "c16792cc-767f-4e58-a2c8-d7401bf6ee27",
   "metadata": {
    "execution": {
     "iopub.execute_input": "2025-05-05T09:55:07.576303Z",
     "iopub.status.busy": "2025-05-05T09:55:07.575771Z",
     "iopub.status.idle": "2025-05-05T09:55:07.589602Z",
     "shell.execute_reply": "2025-05-05T09:55:07.589209Z",
     "shell.execute_reply.started": "2025-05-05T09:55:07.576284Z"
    }
   },
   "outputs": [],
   "source": [
    "df_obj"
   ]
  },
  {
   "cell_type": "code",
   "execution_count": null,
   "id": "a15d52c8-cb44-4544-b8e0-6eb84d8aab19",
   "metadata": {
    "execution": {
     "iopub.execute_input": "2025-05-05T09:55:07.590204Z",
     "iopub.status.busy": "2025-05-05T09:55:07.590063Z",
     "iopub.status.idle": "2025-05-05T09:55:07.600769Z",
     "shell.execute_reply": "2025-05-05T09:55:07.600298Z",
     "shell.execute_reply.started": "2025-05-05T09:55:07.590191Z"
    }
   },
   "outputs": [],
   "source": [
    "# df_obj.loc[54]"
   ]
  },
  {
   "cell_type": "code",
   "execution_count": null,
   "id": "aa0fd989-15c3-4746-909c-9d1e019f94a1",
   "metadata": {},
   "outputs": [],
   "source": []
  }
 ],
 "metadata": {
  "kernelspec": {
   "display_name": "LSST",
   "language": "python",
   "name": "lsst"
  },
  "language_info": {
   "codemirror_mode": {
    "name": "ipython",
    "version": 3
   },
   "file_extension": ".py",
   "mimetype": "text/x-python",
   "name": "python",
   "nbconvert_exporter": "python",
   "pygments_lexer": "ipython3",
   "version": "3.12.9"
  }
 },
 "nbformat": 4,
 "nbformat_minor": 5
}
