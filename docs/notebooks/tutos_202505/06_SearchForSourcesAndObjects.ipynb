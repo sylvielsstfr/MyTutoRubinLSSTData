{
 "cells": [
  {
   "cell_type": "markdown",
   "id": "adda26b1-7594-48da-94d2-6722bd71353c",
   "metadata": {},
   "source": [
    "## Tuto to find The sources and Objects in LSSTComCam"
   ]
  },
  {
   "cell_type": "markdown",
   "id": "1f276e2d-e5e1-4b30-bf3c-4ea950073fad",
   "metadata": {
    "execution": {
     "iopub.execute_input": "2025-04-29T08:48:57.989253Z",
     "iopub.status.busy": "2025-04-29T08:48:57.988923Z",
     "iopub.status.idle": "2025-04-29T08:48:57.993268Z",
     "shell.execute_reply": "2025-04-29T08:48:57.992764Z",
     "shell.execute_reply.started": "2025-04-29T08:48:57.989226Z"
    }
   },
   "source": [
    "- author : Sylvie Dagoret-Campagne\n",
    "- affiliation : IJCLab/IN2P3/CNRS\n",
    "- member : DESC, rubin-inkind\n",
    "- creation date : 2025-05-01\n",
    "- last update : 2025-05-02"
   ]
  },
  {
   "cell_type": "markdown",
   "id": "81c11161-2bd4-4317-812a-f246f3f70d81",
   "metadata": {},
   "source": [
    "# Note on work done on LSSTComCam Commissioning : https://sitcomtn-149.lsst.io/\n",
    "# Note Data Product definition Document : https://lse-163.lsst.io/"
   ]
  },
  {
   "cell_type": "code",
   "execution_count": null,
   "id": "72f36e25-589c-4a8c-865f-8b51f5f35270",
   "metadata": {
    "execution": {
     "iopub.execute_input": "2025-05-03T11:33:37.817949Z",
     "iopub.status.busy": "2025-05-03T11:33:37.817824Z",
     "iopub.status.idle": "2025-05-03T11:33:38.870897Z",
     "shell.execute_reply": "2025-05-03T11:33:38.870410Z",
     "shell.execute_reply.started": "2025-05-03T11:33:37.817934Z"
    }
   },
   "outputs": [],
   "source": [
    "import sys\n",
    "import matplotlib.pyplot as plt\n",
    "import lsst.afw.display as afwDisplay\n",
    "import numpy as np\n",
    "import pandas as pd\n",
    "from astropy.time import Time\n",
    "# %matplotlib widget"
   ]
  },
  {
   "cell_type": "code",
   "execution_count": null,
   "id": "42897fba-1ca4-4f20-837d-bd7478ac4548",
   "metadata": {
    "execution": {
     "iopub.execute_input": "2025-05-03T11:33:38.871759Z",
     "iopub.status.busy": "2025-05-03T11:33:38.871458Z",
     "iopub.status.idle": "2025-05-03T11:33:38.895860Z",
     "shell.execute_reply": "2025-05-03T11:33:38.895446Z",
     "shell.execute_reply.started": "2025-05-03T11:33:38.871743Z"
    }
   },
   "outputs": [],
   "source": [
    "import lsst.geom as geom\n",
    "from lsst.geom import SpherePoint, degrees\n",
    "from lsst.skymap import PatchInfo, Index2D"
   ]
  },
  {
   "cell_type": "code",
   "execution_count": null,
   "id": "f2580923-bf82-4204-a50d-c64eb56b9f06",
   "metadata": {
    "execution": {
     "iopub.execute_input": "2025-05-03T11:33:38.896463Z",
     "iopub.status.busy": "2025-05-03T11:33:38.896329Z",
     "iopub.status.idle": "2025-05-03T11:33:38.898942Z",
     "shell.execute_reply": "2025-05-03T11:33:38.898539Z",
     "shell.execute_reply.started": "2025-05-03T11:33:38.896450Z"
    }
   },
   "outputs": [],
   "source": [
    "plt.rcParams[\"figure.figsize\"] = (10, 6)\n",
    "plt.rcParams[\"axes.labelsize\"] = \"x-large\"\n",
    "plt.rcParams[\"axes.titlesize\"] = \"x-large\"\n",
    "plt.rcParams[\"xtick.labelsize\"] = \"x-large\"\n",
    "plt.rcParams[\"ytick.labelsize\"] = \"x-large\""
   ]
  },
  {
   "cell_type": "code",
   "execution_count": null,
   "id": "d47f09df-7496-431c-b4ae-4fb75a3c6ef9",
   "metadata": {
    "execution": {
     "iopub.execute_input": "2025-05-03T11:33:38.899575Z",
     "iopub.status.busy": "2025-05-03T11:33:38.899441Z",
     "iopub.status.idle": "2025-05-03T11:33:38.905386Z",
     "shell.execute_reply": "2025-05-03T11:33:38.904971Z",
     "shell.execute_reply.started": "2025-05-03T11:33:38.899562Z"
    }
   },
   "outputs": [],
   "source": [
    "import gc"
   ]
  },
  {
   "cell_type": "code",
   "execution_count": null,
   "id": "1a1a267b-58c7-468a-a336-2c8def253a79",
   "metadata": {
    "execution": {
     "iopub.execute_input": "2025-05-03T11:33:38.905932Z",
     "iopub.status.busy": "2025-05-03T11:33:38.905804Z",
     "iopub.status.idle": "2025-05-03T11:33:38.912378Z",
     "shell.execute_reply": "2025-05-03T11:33:38.912032Z",
     "shell.execute_reply.started": "2025-05-03T11:33:38.905918Z"
    }
   },
   "outputs": [],
   "source": [
    "import traceback"
   ]
  },
  {
   "cell_type": "code",
   "execution_count": null,
   "id": "ede21bda-146f-4c77-aa40-edf2debfbfc0",
   "metadata": {
    "execution": {
     "iopub.execute_input": "2025-05-03T11:33:38.913119Z",
     "iopub.status.busy": "2025-05-03T11:33:38.912788Z",
     "iopub.status.idle": "2025-05-03T11:33:39.859234Z",
     "shell.execute_reply": "2025-05-03T11:33:39.858705Z",
     "shell.execute_reply.started": "2025-05-03T11:33:38.913104Z"
    }
   },
   "outputs": [],
   "source": [
    "# Define butler\n",
    "from lsst.daf.butler import Butler"
   ]
  },
  {
   "cell_type": "code",
   "execution_count": null,
   "id": "c7ab7fe3-285d-48c2-973a-2dde9d0a7faa",
   "metadata": {
    "execution": {
     "iopub.execute_input": "2025-05-03T11:33:39.859911Z",
     "iopub.status.busy": "2025-05-03T11:33:39.859769Z",
     "iopub.status.idle": "2025-05-03T11:33:40.518564Z",
     "shell.execute_reply": "2025-05-03T11:33:40.517980Z",
     "shell.execute_reply.started": "2025-05-03T11:33:39.859896Z"
    }
   },
   "outputs": [],
   "source": [
    "!eups list lsst_distrib"
   ]
  },
  {
   "cell_type": "markdown",
   "id": "7e369002-01db-40e2-a7b7-036072114e6a",
   "metadata": {},
   "source": [
    "## RubinTV, Campaigns , quicklook\n",
    "- RubinTV : https://usdf-rsp.slac.stanford.edu/rubintv/summit-usdf/lsstcam\n",
    "- https://rubinobs.atlassian.net/wiki/spaces/LSSTCOM/pages/467370016/LSSTCam+Commissioning+Planning\n",
    "- LSSTCam DM campaign : https://rubinobs.atlassian.net/wiki/spaces/DM/pages/48834013/Campaigns#1.1.2.-LSSTCam-Nightly-Validation-Pipeline\n",
    "- Check campaign also here  https://rubinobs.atlassian.net/wiki/pages/diffpagesbyversion.action?pageId=48834013&selectedPageVersions=145%2C143\n",
    "- fov-quicklook : https://usdf-rsp-dev.slac.stanford.edu/fov-quicklook/"
   ]
  },
  {
   "cell_type": "markdown",
   "id": "4ce495c8-71a6-4846-86fc-5715e13348ab",
   "metadata": {},
   "source": [
    "## Configuration"
   ]
  },
  {
   "cell_type": "code",
   "execution_count": null,
   "id": "91e7b166-6245-4e54-8cb1-21f34fbba78f",
   "metadata": {
    "execution": {
     "iopub.execute_input": "2025-05-03T11:33:40.519428Z",
     "iopub.status.busy": "2025-05-03T11:33:40.519272Z",
     "iopub.status.idle": "2025-05-03T11:33:40.522339Z",
     "shell.execute_reply": "2025-05-03T11:33:40.521877Z",
     "shell.execute_reply.started": "2025-05-03T11:33:40.519411Z"
    }
   },
   "outputs": [],
   "source": [
    "FLAG_DUMP_COLLECTIONS = False\n",
    "FLAG_DUMP_DATASETS = True\n",
    "FLAG_DUMP_OBJECTSTABLECOLUMNS = False"
   ]
  },
  {
   "cell_type": "code",
   "execution_count": null,
   "id": "566b4b6f-68ac-472f-9a14-9645d06d291a",
   "metadata": {
    "execution": {
     "iopub.execute_input": "2025-05-03T11:33:40.522921Z",
     "iopub.status.busy": "2025-05-03T11:33:40.522792Z",
     "iopub.status.idle": "2025-05-03T11:33:40.529670Z",
     "shell.execute_reply": "2025-05-03T11:33:40.529314Z",
     "shell.execute_reply.started": "2025-05-03T11:33:40.522908Z"
    }
   },
   "outputs": [],
   "source": [
    "all_bands = [\"u\", \"g\", \"r\", \"i\", \"z\", \"y\"]"
   ]
  },
  {
   "cell_type": "markdown",
   "id": "29bdd60b-f237-4a90-8aee-95f83091a5c8",
   "metadata": {},
   "source": [
    "### Choose instrument"
   ]
  },
  {
   "cell_type": "code",
   "execution_count": null,
   "id": "66ff700b-a6ab-4b6d-ab28-dfadf54fdd9f",
   "metadata": {
    "execution": {
     "iopub.execute_input": "2025-05-03T11:33:40.530239Z",
     "iopub.status.busy": "2025-05-03T11:33:40.530109Z",
     "iopub.status.idle": "2025-05-03T11:33:40.536412Z",
     "shell.execute_reply": "2025-05-03T11:33:40.536022Z",
     "shell.execute_reply.started": "2025-05-03T11:33:40.530226Z"
    }
   },
   "outputs": [],
   "source": [
    "# instrument = \"LSSTCam\"\n",
    "\n",
    "# We focus here on sky fields oberved by LSSTComCam, so we select this camera\n",
    "instrument = \"LSSTComCam\""
   ]
  },
  {
   "cell_type": "markdown",
   "id": "6a07464c-6f2e-4015-8ea6-1fbc5698c1dd",
   "metadata": {},
   "source": [
    "### Choose options"
   ]
  },
  {
   "cell_type": "markdown",
   "id": "29fc15af-ca3f-4c38-99ec-433e84dae8a2",
   "metadata": {},
   "source": [
    "### For LSSTCam : RubinTV, Campaigns , quicklook\n",
    "- RubinTV : https://usdf-rsp.slac.stanford.edu/rubintv/summit-usdf/lsstcam\n",
    "- https://rubinobs.atlassian.net/wiki/spaces/LSSTCOM/pages/467370016/LSSTCam+Commissioning+Planning\n",
    "- LSSTCam DM campaign : https://rubinobs.atlassian.net/wiki/spaces/DM/pages/48834013/Campaigns#1.1.2.-LSSTCam-Nightly-Validation-Pipeline\n",
    "- Check campaign also here  https://rubinobs.atlassian.net/wiki/pages/diffpagesbyversion.action?pageId=48834013&selectedPageVersions=145%2C143\n",
    "- fov-quicklook : https://usdf-rsp-dev.slac.stanford.edu/fov-quicklook/"
   ]
  },
  {
   "cell_type": "markdown",
   "id": "5542de7d-695e-4256-b765-28b902b02adc",
   "metadata": {},
   "source": [
    "### For LSSTComCam check here : \n",
    "- Check here the collection available : https://rubinobs.atlassian.net/wiki/spaces/DM/pages/226656354/LSSTComCam+Intermittent+Cumulative+DRP+Runs"
   ]
  },
  {
   "cell_type": "code",
   "execution_count": null,
   "id": "eacb14b0-183c-4dcd-ba59-64c7ca3efcd3",
   "metadata": {
    "execution": {
     "iopub.execute_input": "2025-05-03T11:33:40.536959Z",
     "iopub.status.busy": "2025-05-03T11:33:40.536833Z",
     "iopub.status.idle": "2025-05-03T11:33:40.544358Z",
     "shell.execute_reply": "2025-05-03T11:33:40.543952Z",
     "shell.execute_reply.started": "2025-05-03T11:33:40.536946Z"
    }
   },
   "outputs": [],
   "source": [
    "if instrument == \"LSSTCam\":\n",
    "    repo = \"/repo/embargo\"\n",
    "    instrument = \"LSSTCam\"\n",
    "    collection_validation = instrument + \"/runs/nightlyValidation\"\n",
    "    # collection_quicklook   = instrument + '/runs/quickLookTesting'\n",
    "    collection_validation = os.path.join(collection_validation, \"20250416/d_2025_04_15/DM-50157\")\n",
    "    date_start = 20250415\n",
    "    date_selection = 20250416\n",
    "    where_clause = \"instrument = '\" + f\"{instrument}\" + \"'\"\n",
    "    where_clause_date = where_clause + f\"and day_obs >= {date_start}\"\n",
    "    skymapName = \"lsst_cells_v1\"\n",
    "    BANDSEL = \"i\"\n",
    "\n",
    "elif instrument == \"LSSTComCam\":\n",
    "    repo = \"/repo/main\"\n",
    "    collection_validation = \"LSSTComCam/runs/DRP/DP1/w_2025_10/DM-49359\"  # work 2025-05-01\n",
    "    # collection_validation = \"LSSTComCam/runs/DRP/DP1/w_2025_17/DM-50530\" #updated 2025-05-02\n",
    "    date_start = 20241024\n",
    "    date_selection = 20241211\n",
    "    skymapName = \"lsst_cells_v1\"\n",
    "    where_clause = \"instrument = '\" + instrument + \"'\"\n",
    "    where_clause_date = where_clause + f\"and day_obs >= {date_start}\"\n",
    "\n",
    "    NDET = 9\n",
    "    TRACTSEL = 5063\n",
    "    BANDSEL = \"i\""
   ]
  },
  {
   "cell_type": "code",
   "execution_count": null,
   "id": "82535307-9253-4f06-b82a-956efd0217c9",
   "metadata": {
    "execution": {
     "iopub.execute_input": "2025-05-03T11:33:40.544900Z",
     "iopub.status.busy": "2025-05-03T11:33:40.544776Z",
     "iopub.status.idle": "2025-05-03T11:33:40.551513Z",
     "shell.execute_reply": "2025-05-03T11:33:40.551166Z",
     "shell.execute_reply.started": "2025-05-03T11:33:40.544887Z"
    }
   },
   "outputs": [],
   "source": [
    "collectionStr = collection_validation.replace(\"/\", \"_\")"
   ]
  },
  {
   "cell_type": "markdown",
   "id": "e77a39ca-c34f-4097-8a11-c40a121a82e9",
   "metadata": {},
   "source": [
    "## Access to Butler registry"
   ]
  },
  {
   "cell_type": "code",
   "execution_count": null,
   "id": "8726b7e4-94b7-48ac-92f8-447b34b7a59e",
   "metadata": {
    "execution": {
     "iopub.execute_input": "2025-05-03T11:33:40.552048Z",
     "iopub.status.busy": "2025-05-03T11:33:40.551922Z",
     "iopub.status.idle": "2025-05-03T11:33:40.927054Z",
     "shell.execute_reply": "2025-05-03T11:33:40.926602Z",
     "shell.execute_reply.started": "2025-05-03T11:33:40.552035Z"
    }
   },
   "outputs": [],
   "source": [
    "# Initialize the butler repo:\n",
    "butler = Butler(repo, collections=collection_validation)\n",
    "registry = butler.registry"
   ]
  },
  {
   "cell_type": "markdown",
   "id": "a82d1397-cd01-45d3-9f39-8b4f6bcbb21f",
   "metadata": {},
   "source": [
    "## Create a skymap object and Camera"
   ]
  },
  {
   "cell_type": "code",
   "execution_count": null,
   "id": "2a570834-a5dc-43b8-a0d3-af71a5b2706c",
   "metadata": {
    "execution": {
     "iopub.execute_input": "2025-05-03T11:33:40.927760Z",
     "iopub.status.busy": "2025-05-03T11:33:40.927620Z",
     "iopub.status.idle": "2025-05-03T11:33:41.310762Z",
     "shell.execute_reply": "2025-05-03T11:33:41.310320Z",
     "shell.execute_reply.started": "2025-05-03T11:33:40.927746Z"
    }
   },
   "outputs": [],
   "source": [
    "skymap = butler.get(\"skyMap\", skymap=skymapName, collections=collection_validation)"
   ]
  },
  {
   "cell_type": "code",
   "execution_count": null,
   "id": "8870762e-6e5d-4a6d-b101-1783285b1935",
   "metadata": {
    "execution": {
     "iopub.execute_input": "2025-05-03T11:33:41.311418Z",
     "iopub.status.busy": "2025-05-03T11:33:41.311280Z",
     "iopub.status.idle": "2025-05-03T11:33:41.862645Z",
     "shell.execute_reply": "2025-05-03T11:33:41.862111Z",
     "shell.execute_reply.started": "2025-05-03T11:33:41.311403Z"
    }
   },
   "outputs": [],
   "source": [
    "camera = butler.get(\"camera\", collections=collection_validation, instrument=instrument)"
   ]
  },
  {
   "cell_type": "markdown",
   "id": "f0e61f09-1f15-4f29-9555-d4015b09c5cc",
   "metadata": {},
   "source": [
    "## Query for collections in Butler\n",
    "\n",
    "- remove user collections\n",
    "- remove calibration products"
   ]
  },
  {
   "cell_type": "code",
   "execution_count": null,
   "id": "55edfcaa-96c0-49dc-827c-0167a0b6f731",
   "metadata": {
    "execution": {
     "iopub.execute_input": "2025-05-03T11:33:41.863413Z",
     "iopub.status.busy": "2025-05-03T11:33:41.863268Z",
     "iopub.status.idle": "2025-05-03T11:33:41.866274Z",
     "shell.execute_reply": "2025-05-03T11:33:41.865852Z",
     "shell.execute_reply.started": "2025-05-03T11:33:41.863399Z"
    }
   },
   "outputs": [],
   "source": [
    "# mostly setup for LSSTCam\n",
    "if FLAG_DUMP_COLLECTIONS:\n",
    "    for _ in sorted(registry.queryCollections(expression=instrument + \"/*\")):\n",
    "        if \"/calib/\" not in _ and \"u/\" not in _:\n",
    "            print(_)"
   ]
  },
  {
   "cell_type": "markdown",
   "id": "3ff90940-a996-4174-97b4-beb8895ae7a4",
   "metadata": {},
   "source": [
    "## Query for the dataset types in the Butler\n",
    "\n",
    "- Refer to the Data Product definition Document to know about the definition of datasets\n",
    "- https://www.lsst.org/about/dm/data-products\n",
    "- https://lse-163.lsst.io/\n",
    "- https://docushare.lsst.org/docushare/dsweb/Get/LSE-163"
   ]
  },
  {
   "cell_type": "code",
   "execution_count": null,
   "id": "f06e34b6-0f25-4047-9859-a34ec32e268d",
   "metadata": {
    "execution": {
     "iopub.execute_input": "2025-05-03T11:33:41.866899Z",
     "iopub.status.busy": "2025-05-03T11:33:41.866767Z",
     "iopub.status.idle": "2025-05-03T11:38:32.897880Z",
     "shell.execute_reply": "2025-05-03T11:38:32.897378Z",
     "shell.execute_reply.started": "2025-05-03T11:33:41.866886Z"
    }
   },
   "outputs": [],
   "source": [
    "if FLAG_DUMP_DATASETS:\n",
    "    for datasetType in registry.queryDatasetTypes():\n",
    "        if registry.queryDatasets(datasetType, collections=collection_validation).any(\n",
    "            execute=False, exact=False\n",
    "        ):\n",
    "            # Limit search results to the data products\n",
    "            if (\n",
    "                (\"_config\" not in datasetType.name)\n",
    "                and (\"_log\" not in datasetType.name)\n",
    "                and (\"_metadata\" not in datasetType.name)\n",
    "                and (\"_resource_usage\" not in datasetType.name)\n",
    "                and (\"Plot\" not in datasetType.name)\n",
    "                and (\"Metric\" not in datasetType.name)\n",
    "                and (\"metric\" not in datasetType.name)\n",
    "            ):\n",
    "                if \"object\" in datasetType.name or \"Obj\" in datasetType.name:\n",
    "                    print(datasetType)\n",
    "                if \"source\" in datasetType.name or \"Source\" in datasetType.name:\n",
    "                    print(datasetType)"
   ]
  },
  {
   "cell_type": "markdown",
   "id": "f78111e1-238c-4641-b3c1-0faebbbb89b1",
   "metadata": {},
   "source": [
    "## Region of interest"
   ]
  },
  {
   "cell_type": "code",
   "execution_count": null,
   "id": "6d0b6ebe-24c0-4046-9657-7187929a5f9a",
   "metadata": {
    "execution": {
     "iopub.execute_input": "2025-05-03T11:38:32.898559Z",
     "iopub.status.busy": "2025-05-03T11:38:32.898420Z",
     "iopub.status.idle": "2025-05-03T11:38:32.901981Z",
     "shell.execute_reply": "2025-05-03T11:38:32.901580Z",
     "shell.execute_reply.started": "2025-05-03T11:38:32.898545Z"
    }
   },
   "outputs": [],
   "source": [
    "lsstcomcam_targets = {}\n",
    "lsstcomcam_targets[\"47 Tuc\"] = {\"field_name\": \"47 Tuc Globular Cluster\", \"ra\": 6.02, \"dec\": -72.08}\n",
    "lsstcomcam_targets[\"Rubin SV 38 7\"] = {\"field_name\": \"Low Ecliptic Latitude Field\", \"ra\": 37.86, \"dec\": 6.98}\n",
    "lsstcomcam_targets[\"Fornax dSph\"] = {\n",
    "    \"field_name\": \"Fornax Dwarf Spheroidal Galaxy\",\n",
    "    \"ra\": 40.0,\n",
    "    \"dec\": -34.45,\n",
    "}\n",
    "lsstcomcam_targets[\"ECDFS\"] = {\"field_name\": \"Extended Chandra Deep Field South\", \"ra\": 53.13, \"dec\": -28.10}\n",
    "lsstcomcam_targets[\"EDFS\"] = {\"field_name\": \"Euclid Deep Field South\", \"ra\": 59.10, \"dec\": -48.73}\n",
    "lsstcomcam_targets[\"Rubin SV 95 -25\"] = {\n",
    "    \"field_name\": \"Low Galactic Latitude Field\",\n",
    "    \"ra\": 95.00,\n",
    "    \"dec\": -25.0,\n",
    "}\n",
    "lsstcomcam_targets[\"Seagull\"] = {\"field_name\": \"Seagull Nebula\", \"ra\": 106.23, \"dec\": -10.51}"
   ]
  },
  {
   "cell_type": "code",
   "execution_count": null,
   "id": "2fdc2905-3fd5-485e-a66b-56927d3de02f",
   "metadata": {
    "execution": {
     "iopub.execute_input": "2025-05-03T11:38:32.902571Z",
     "iopub.status.busy": "2025-05-03T11:38:32.902442Z",
     "iopub.status.idle": "2025-05-03T11:38:32.913346Z",
     "shell.execute_reply": "2025-05-03T11:38:32.912938Z",
     "shell.execute_reply.started": "2025-05-03T11:38:32.902559Z"
    }
   },
   "outputs": [],
   "source": [
    "# the_target = lsstcomcam_targets[\"Seagull\"]\n",
    "# the_target = lsstcomcam_targets[\"47 Tuc\"] # bad\n",
    "# the_target = lsstcomcam_targets[\"Fornax dSph\"]\n",
    "# the_target = lsstcomcam_targets[\"ECDFS\"]\n",
    "\n",
    "\n",
    "# key = \"Seagull\"\n",
    "# key = \"Fornax dSph\"\n",
    "key = \"ECDFS\"\n",
    "# key = \"EDFS\"\n",
    "# key = \"47 Tuc\"\n",
    "# key = \"Rubin SV 38 7\"\n",
    "# key = \"Rubin SV 95 -25\"\n",
    "\n",
    "\n",
    "the_target = lsstcomcam_targets[key]\n",
    "target_ra = the_target[\"ra\"]\n",
    "target_dec = the_target[\"dec\"]\n",
    "target_title = (\n",
    "    the_target[\"field_name\"] + f\" band  {BANDSEL} \" + f\" (ra,dec) = ({target_ra:.2f},{target_dec:.2f}) \"\n",
    ")\n",
    "target_point = SpherePoint(target_ra, target_dec, degrees)"
   ]
  },
  {
   "cell_type": "markdown",
   "id": "5097cdde-6283-4499-aaaa-57e799bdd53a",
   "metadata": {},
   "source": [
    "## Get list of tracts from the objectTable_tract"
   ]
  },
  {
   "cell_type": "code",
   "execution_count": null,
   "id": "3560cdd4-3d7e-4325-a3f5-07a0d70a8360",
   "metadata": {
    "execution": {
     "iopub.execute_input": "2025-05-03T11:38:32.913918Z",
     "iopub.status.busy": "2025-05-03T11:38:32.913791Z",
     "iopub.status.idle": "2025-05-03T11:38:32.921784Z",
     "shell.execute_reply": "2025-05-03T11:38:32.921374Z",
     "shell.execute_reply.started": "2025-05-03T11:38:32.913905Z"
    }
   },
   "outputs": [],
   "source": [
    "# Find the dimension\n",
    "print(butler.registry.getDatasetType(\"objectTable_tract\").dimensions)"
   ]
  },
  {
   "cell_type": "code",
   "execution_count": null,
   "id": "e07d2107-8c9e-485e-89bc-ec6e52fa10f4",
   "metadata": {
    "execution": {
     "iopub.execute_input": "2025-05-03T11:38:32.922363Z",
     "iopub.status.busy": "2025-05-03T11:38:32.922235Z",
     "iopub.status.idle": "2025-05-03T11:38:32.961378Z",
     "shell.execute_reply": "2025-05-03T11:38:32.960945Z",
     "shell.execute_reply.started": "2025-05-03T11:38:32.922350Z"
    }
   },
   "outputs": [],
   "source": [
    "datasettype = \"objectTable_tract\"\n",
    "therefs = butler.registry.queryDatasets(datasettype, collections=collection_validation)\n",
    "tractsId_list = np.unique([ref.dataId[\"tract\"] for ref in therefs])\n",
    "tractsId_list = sorted(tractsId_list)\n",
    "print(tractsId_list)"
   ]
  },
  {
   "cell_type": "markdown",
   "id": "f060f57d-ac96-4ec7-8a94-f760e118248a",
   "metadata": {},
   "source": [
    "## Find the Tract and Patch of the region of interest\n",
    "\n",
    "- tract in tractNbSel\n",
    "- patch in patchNbSel"
   ]
  },
  {
   "cell_type": "code",
   "execution_count": null,
   "id": "ea99cc96-a0bf-4dec-9418-895e5569688b",
   "metadata": {
    "execution": {
     "iopub.execute_input": "2025-05-03T11:38:32.964327Z",
     "iopub.status.busy": "2025-05-03T11:38:32.964190Z",
     "iopub.status.idle": "2025-05-03T11:38:32.969479Z",
     "shell.execute_reply": "2025-05-03T11:38:32.969094Z",
     "shell.execute_reply.started": "2025-05-03T11:38:32.964314Z"
    }
   },
   "outputs": [],
   "source": [
    "tract_info = skymap.findTract(target_point)\n",
    "patch_info = tract_info.findPatch(target_point)\n",
    "bbox = patch_info.getOuterBBox()\n",
    "\n",
    "print(\"Patch bounding box:\", bbox)\n",
    "\n",
    "print(\"Tract ID :\", tract_info.getId())\n",
    "tractNbSel = tract_info.getId()\n",
    "\n",
    "print(\"Patch Index :\", patch_info.getIndex(), \" , \", patch_info.getSequentialIndex())  # (x, y)\n",
    "print(\"Bounding Box\", bbox)\n",
    "\n",
    "patchNbSel = patch_info.getSequentialIndex()"
   ]
  },
  {
   "cell_type": "code",
   "execution_count": null,
   "id": "e1df364f-89a7-4a94-9541-89a05d75004c",
   "metadata": {
    "execution": {
     "iopub.execute_input": "2025-05-03T11:38:32.970002Z",
     "iopub.status.busy": "2025-05-03T11:38:32.969874Z",
     "iopub.status.idle": "2025-05-03T11:38:32.975912Z",
     "shell.execute_reply": "2025-05-03T11:38:32.975476Z",
     "shell.execute_reply.started": "2025-05-03T11:38:32.969988Z"
    }
   },
   "outputs": [],
   "source": [
    "dataId = {\"band\": BANDSEL, \"tract\": tractNbSel, \"patch\": patchNbSel, \"skymap\": skymapName}"
   ]
  },
  {
   "cell_type": "markdown",
   "id": "131ff71d-cee0-4141-ac33-c8f33758a584",
   "metadata": {},
   "source": [
    "## The Objects\n",
    "\n",
    "- Objects are extracted from object detection on deepcoadds\n",
    "- all bands are included "
   ]
  },
  {
   "cell_type": "code",
   "execution_count": null,
   "id": "da53ac66-c2fc-4b54-a19b-0e6d2def56a9",
   "metadata": {
    "execution": {
     "iopub.execute_input": "2025-05-03T11:38:32.976530Z",
     "iopub.status.busy": "2025-05-03T11:38:32.976397Z",
     "iopub.status.idle": "2025-05-03T11:38:32.984467Z",
     "shell.execute_reply": "2025-05-03T11:38:32.984092Z",
     "shell.execute_reply.started": "2025-05-03T11:38:32.976517Z"
    }
   },
   "outputs": [],
   "source": [
    "print(butler.registry.getDatasetType(\"objectTable\").dimensions)"
   ]
  },
  {
   "cell_type": "code",
   "execution_count": null,
   "id": "3e6b671b-f1c2-48ce-97ea-1eef0fa56cca",
   "metadata": {
    "execution": {
     "iopub.execute_input": "2025-05-03T11:38:32.984993Z",
     "iopub.status.busy": "2025-05-03T11:38:32.984865Z",
     "iopub.status.idle": "2025-05-03T11:38:32.993942Z",
     "shell.execute_reply": "2025-05-03T11:38:32.993579Z",
     "shell.execute_reply.started": "2025-05-03T11:38:32.984979Z"
    }
   },
   "outputs": [],
   "source": [
    "# cannot add a filter on band\n",
    "where_clause = f\"skymap = '{skymapName}' AND tract = {tractNbSel} AND patch = {patchNbSel}\"\n",
    "print(where_clause)"
   ]
  },
  {
   "cell_type": "code",
   "execution_count": null,
   "id": "064b709e-fd22-453f-a89c-8feeb6a157c7",
   "metadata": {
    "execution": {
     "iopub.execute_input": "2025-05-03T11:38:32.994512Z",
     "iopub.status.busy": "2025-05-03T11:38:32.994388Z",
     "iopub.status.idle": "2025-05-03T11:38:33.609026Z",
     "shell.execute_reply": "2025-05-03T11:38:33.608475Z",
     "shell.execute_reply.started": "2025-05-03T11:38:32.994500Z"
    }
   },
   "outputs": [],
   "source": [
    "dataset_refs = list(\n",
    "    butler.registry.queryDatasets(\"objectTable\", collections=collection_validation, where=where_clause)\n",
    ")\n",
    "# Récupère un des refs valides\n",
    "Nrefs = len(dataset_refs)\n",
    "print(f\"Number of objectTables : {Nrefs}\")\n",
    "ref = dataset_refs[0]\n",
    "t = butler.get(ref)\n",
    "Nobj = len(t)\n",
    "# del t\n",
    "# gc.collect()\n",
    "print(f\"Total Number of objects {Nobj}\")"
   ]
  },
  {
   "cell_type": "markdown",
   "id": "584463e6-5694-4bfd-a5f3-c0021e8c64bc",
   "metadata": {
    "execution": {
     "iopub.execute_input": "2025-05-01T20:56:43.699655Z",
     "iopub.status.busy": "2025-05-01T20:56:43.699512Z",
     "iopub.status.idle": "2025-05-01T20:56:43.702758Z",
     "shell.execute_reply": "2025-05-01T20:56:43.702457Z",
     "shell.execute_reply.started": "2025-05-01T20:56:43.699640Z"
    }
   },
   "source": [
    "Oui, dans ce type de objectTable, les colonnes comme g_psfFlux, g_kronFlux, g_cModelFlux, etc., sont des flux calibrés (en nJy ou en unité de calibration interne du pipeline). Pour les convertir en magnitudes AB, tu peux utiliser la formule classique :"
   ]
  },
  {
   "cell_type": "code",
   "execution_count": null,
   "id": "069c5c04-af0c-47b3-893d-7c6ccf2c76a1",
   "metadata": {
    "execution": {
     "iopub.execute_input": "2025-05-03T11:38:33.609703Z",
     "iopub.status.busy": "2025-05-03T11:38:33.609565Z",
     "iopub.status.idle": "2025-05-03T11:38:33.612266Z",
     "shell.execute_reply": "2025-05-03T11:38:33.611885Z",
     "shell.execute_reply.started": "2025-05-03T11:38:33.609689Z"
    }
   },
   "outputs": [],
   "source": [
    "# Utilise ref.datasetType.name pour lister les colonnes disponibles\n",
    "if FLAG_DUMP_OBJECTSTABLECOLUMNS:\n",
    "    t_columns = list(butler.get(ref).columns)\n",
    "    print(t_columns)"
   ]
  },
  {
   "cell_type": "code",
   "execution_count": null,
   "id": "7c6648f9-6053-4343-aab6-56cb9648c599",
   "metadata": {
    "execution": {
     "iopub.execute_input": "2025-05-03T11:38:33.612830Z",
     "iopub.status.busy": "2025-05-03T11:38:33.612700Z",
     "iopub.status.idle": "2025-05-03T11:38:33.623067Z",
     "shell.execute_reply": "2025-05-03T11:38:33.622585Z",
     "shell.execute_reply.started": "2025-05-03T11:38:33.612818Z"
    }
   },
   "outputs": [],
   "source": [
    "# La constante 31.4 correspond à la conversion AB standard pour un flux exprimé en nanoJanskys (nJy).\n",
    "# À vérifier selon l’unité exacte utilisée par le pipeline sur ton RSP\n",
    "# (souvent c’est bien nJy, mais ça peut être autre chose si la calibration a été changée).\n",
    "# mag = -2.5 * np.log10(flux) + 31.4"
   ]
  },
  {
   "cell_type": "code",
   "execution_count": null,
   "id": "714019a7-7788-4088-a499-96549c76c61d",
   "metadata": {},
   "outputs": [],
   "source": []
  }
 ],
 "metadata": {
  "kernelspec": {
   "display_name": "LSST",
   "language": "python",
   "name": "lsst"
  },
  "language_info": {
   "codemirror_mode": {
    "name": "ipython",
    "version": 3
   },
   "file_extension": ".py",
   "mimetype": "text/x-python",
   "name": "python",
   "nbconvert_exporter": "python",
   "pygments_lexer": "ipython3",
   "version": "3.12.9"
  }
 },
 "nbformat": 4,
 "nbformat_minor": 5
}
