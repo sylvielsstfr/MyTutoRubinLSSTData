{
 "cells": [
  {
   "cell_type": "markdown",
   "id": "4c50da0f-2a30-4761-9a29-c67185aab160",
   "metadata": {},
   "source": [
    "# Consdb for LSSTCam, LSSTComCam, Latiss and LSSTComCamSim\n",
    "\n",
    "- Creation date : 2025-04-28\n",
    "- update : 2025-05-05 : Add Latiss ==> find data in 2022 - 2025\n",
    "- update : 2025-05-07 : Search for LSSTComCamSim : https://usdf-rsp-dev.slac.stanford.edu/consdb/ and review all plots\n",
    "- update : 2025-05-13 : Add Corentin filters on visits\n",
    "- https://usdf-rsp-dev.slac.stanford.edu/consdb/\n",
    "- Schemes for constdb : https://sdm-schemas.lsst.io/\n",
    "- Documentation : https://consdb.lsst.io/index.html\n",
    "- w_2025_17\n"
   ]
  },
  {
   "cell_type": "code",
   "execution_count": null,
   "id": "d9170f34-bf3d-4223-a737-89f81fe22a96",
   "metadata": {
    "execution": {
     "iopub.execute_input": "2025-05-13T14:39:42.416783Z",
     "iopub.status.busy": "2025-05-13T14:39:42.416661Z",
     "iopub.status.idle": "2025-05-13T14:39:50.345470Z",
     "shell.execute_reply": "2025-05-13T14:39:50.344982Z",
     "shell.execute_reply.started": "2025-05-13T14:39:42.416769Z"
    }
   },
   "outputs": [],
   "source": [
    "from lsst.summit.utils import ConsDbClient"
   ]
  },
  {
   "cell_type": "code",
   "execution_count": null,
   "id": "c9637cf5-efa5-4842-b39c-1e22ce097b1b",
   "metadata": {
    "execution": {
     "iopub.execute_input": "2025-05-13T14:39:50.346539Z",
     "iopub.status.busy": "2025-05-13T14:39:50.345979Z",
     "iopub.status.idle": "2025-05-13T14:39:50.400698Z",
     "shell.execute_reply": "2025-05-13T14:39:50.400233Z",
     "shell.execute_reply.started": "2025-05-13T14:39:50.346521Z"
    }
   },
   "outputs": [],
   "source": [
    "import numpy as np\n",
    "import pandas as pd\n",
    "\n",
    "import matplotlib.pyplot as plt\n",
    "import matplotlib.dates as mdates\n",
    "\n",
    "import matplotlib as mpl\n",
    "import matplotlib.cm as cm\n",
    "import matplotlib.colors as colors\n",
    "import matplotlib.cm as cmx\n",
    "from matplotlib.colors import ListedColormap\n",
    "\n",
    "import seaborn as sns\n",
    "\n",
    "%matplotlib widget\n",
    "\n",
    "from lsst.meas.algorithms.installGaussianPsf import FwhmPerSigma\n",
    "\n",
    "from tqdm.notebook import tqdm"
   ]
  },
  {
   "cell_type": "code",
   "execution_count": null,
   "id": "b328ebd9-693e-4114-aff3-69ce6124f798",
   "metadata": {
    "execution": {
     "iopub.execute_input": "2025-05-13T14:39:50.401712Z",
     "iopub.status.busy": "2025-05-13T14:39:50.401206Z",
     "iopub.status.idle": "2025-05-13T14:39:50.404333Z",
     "shell.execute_reply": "2025-05-13T14:39:50.403927Z",
     "shell.execute_reply.started": "2025-05-13T14:39:50.401695Z"
    }
   },
   "outputs": [],
   "source": [
    "# xx-small\n",
    "# x-small\n",
    "# small\n",
    "# medium\n",
    "# large\n",
    "# x-large\n",
    "# xx-large\n",
    "\n",
    "plt.rcParams[\"figure.figsize\"] = (10, 6)\n",
    "plt.rcParams[\"axes.labelsize\"] = \"x-large\"\n",
    "plt.rcParams[\"axes.titlesize\"] = \"x-large\"\n",
    "plt.rcParams[\"xtick.labelsize\"] = \"x-large\"\n",
    "plt.rcParams[\"ytick.labelsize\"] = \"x-large\""
   ]
  },
  {
   "cell_type": "code",
   "execution_count": null,
   "id": "46759823-0ab0-4792-9670-08d70280821d",
   "metadata": {
    "execution": {
     "iopub.execute_input": "2025-05-13T14:39:50.404933Z",
     "iopub.status.busy": "2025-05-13T14:39:50.404793Z",
     "iopub.status.idle": "2025-05-13T14:39:50.411273Z",
     "shell.execute_reply": "2025-05-13T14:39:50.410860Z",
     "shell.execute_reply.started": "2025-05-13T14:39:50.404919Z"
    }
   },
   "outputs": [],
   "source": [
    "from astropy.table import Table, join\n",
    "from astropy.time import Time\n",
    "from astropy.coordinates import SkyCoord\n",
    "from astropy import coordinates\n",
    "import astropy.coordinates as coord\n",
    "import astropy.units as u"
   ]
  },
  {
   "cell_type": "code",
   "execution_count": null,
   "id": "24490394-b03f-4aec-8907-8377f67c1df2",
   "metadata": {
    "execution": {
     "iopub.execute_input": "2025-05-13T14:39:50.411804Z",
     "iopub.status.busy": "2025-05-13T14:39:50.411670Z",
     "iopub.status.idle": "2025-05-13T14:39:50.418432Z",
     "shell.execute_reply": "2025-05-13T14:39:50.418044Z",
     "shell.execute_reply.started": "2025-05-13T14:39:50.411789Z"
    }
   },
   "outputs": [],
   "source": [
    "import lsst.geom as geom\n",
    "import lsst\n",
    "from lsst.geom import Angle"
   ]
  },
  {
   "cell_type": "code",
   "execution_count": null,
   "id": "338ce377-6a76-4474-8dfd-e94ee48c6cc8",
   "metadata": {
    "execution": {
     "iopub.execute_input": "2025-05-13T14:39:50.419022Z",
     "iopub.status.busy": "2025-05-13T14:39:50.418887Z",
     "iopub.status.idle": "2025-05-13T14:39:50.425844Z",
     "shell.execute_reply": "2025-05-13T14:39:50.425467Z",
     "shell.execute_reply.started": "2025-05-13T14:39:50.419009Z"
    }
   },
   "outputs": [],
   "source": [
    "# https://pipelines.lsst.io/modules/lsst.geom/getting-started.html\n",
    "func_degToRad = lambda x: Angle(x, lsst.geom.degrees).asRadians()\n",
    "func_zendtoAirmass = lambda x: 1.0 / np.cos(func_degToRad(x))\n",
    "# func_wrap = lambda x : Angle(x,lsst.geom.radians).wrap(180.*lsst.geom.degrees)"
   ]
  },
  {
   "cell_type": "code",
   "execution_count": null,
   "id": "048ec938-33a7-4f6c-8b67-1ab5343f07d8",
   "metadata": {
    "execution": {
     "iopub.execute_input": "2025-05-13T14:39:50.426531Z",
     "iopub.status.busy": "2025-05-13T14:39:50.426400Z",
     "iopub.status.idle": "2025-05-13T14:39:50.434914Z",
     "shell.execute_reply": "2025-05-13T14:39:50.434510Z",
     "shell.execute_reply.started": "2025-05-13T14:39:50.426518Z"
    }
   },
   "outputs": [],
   "source": [
    "def ra_to_mollweide(ra_rad):\n",
    "    \"\"\"\n",
    "    Transforme une ascension droite (RA en radians) pour une projection Mollweide :\n",
    "    - RA doit être d'abord dans [0, 2π]\n",
    "    - Puis ramené dans [-π, +π] pour correspondre au domaine Mollweide\n",
    "    - Puis inversé pour que RA croisse vers la gauche sur la carte\n",
    "\n",
    "    Paramètre:\n",
    "    - ra_rad : array ou scalaire de RA en radians\n",
    "\n",
    "    Retourne:\n",
    "    - RA transformé pour projection Mollweide\n",
    "\n",
    "    Discussion avec ChatGPT verifiée le 28/04/2025\n",
    "    \"\"\"\n",
    "\n",
    "    # 1) Assurer que RA est entre 0 et 2π\n",
    "    ra_rad = np.remainder(ra_rad + 2 * np.pi, 2 * np.pi)\n",
    "\n",
    "    # 2) Remettre RA entre -π et +π\n",
    "    ra_rad[ra_rad > np.pi] -= 2 * np.pi\n",
    "\n",
    "    # 3) Inverser RA pour que RA croisse vers la gauche\n",
    "    return -ra_rad"
   ]
  },
  {
   "cell_type": "markdown",
   "id": "644d0a4b-7193-46b5-85c8-638ac7207b4f",
   "metadata": {},
   "source": [
    "## Configuration"
   ]
  },
  {
   "cell_type": "markdown",
   "id": "783b3eb5-eaec-4bf1-86f4-4ecfbec2aec8",
   "metadata": {},
   "source": [
    "### Choose instrument"
   ]
  },
  {
   "cell_type": "code",
   "execution_count": null,
   "id": "7ce654a6-f761-478f-8133-b5e07868ed40",
   "metadata": {
    "execution": {
     "iopub.execute_input": "2025-05-13T14:39:50.435524Z",
     "iopub.status.busy": "2025-05-13T14:39:50.435392Z",
     "iopub.status.idle": "2025-05-13T14:39:50.441485Z",
     "shell.execute_reply": "2025-05-13T14:39:50.441093Z",
     "shell.execute_reply.started": "2025-05-13T14:39:50.435511Z"
    }
   },
   "outputs": [],
   "source": [
    "instrument = \"LSSTCam\"\n",
    "# instrument = \"LSSTComCam\"\n",
    "# instrument = \"LATISS\" # data since 20221001\n",
    "# instrument = \"LSSTComCamSim\""
   ]
  },
  {
   "cell_type": "code",
   "execution_count": null,
   "id": "fd95a0ea-f58f-4672-afe0-fc3f3f80cfc1",
   "metadata": {
    "execution": {
     "iopub.execute_input": "2025-05-13T14:39:50.442257Z",
     "iopub.status.busy": "2025-05-13T14:39:50.441935Z",
     "iopub.status.idle": "2025-05-13T14:39:50.448774Z",
     "shell.execute_reply": "2025-05-13T14:39:50.448360Z",
     "shell.execute_reply.started": "2025-05-13T14:39:50.442242Z"
    }
   },
   "outputs": [],
   "source": [
    "os.environ[\"no_proxy\"] += \",.consdb\""
   ]
  },
  {
   "cell_type": "code",
   "execution_count": null,
   "id": "8c679aa8-2199-4e02-9354-aafa7f114f91",
   "metadata": {
    "execution": {
     "iopub.execute_input": "2025-05-13T14:39:50.449378Z",
     "iopub.status.busy": "2025-05-13T14:39:50.449224Z",
     "iopub.status.idle": "2025-05-13T14:39:50.455728Z",
     "shell.execute_reply": "2025-05-13T14:39:50.455350Z",
     "shell.execute_reply.started": "2025-05-13T14:39:50.449357Z"
    }
   },
   "outputs": [],
   "source": [
    "url = \"http://consdb-pq.consdb:8080/consdb\""
   ]
  },
  {
   "cell_type": "code",
   "execution_count": null,
   "id": "396043d3-35d4-45f8-bea4-af2ae6af74cd",
   "metadata": {
    "execution": {
     "iopub.execute_input": "2025-05-13T14:39:50.456457Z",
     "iopub.status.busy": "2025-05-13T14:39:50.456200Z",
     "iopub.status.idle": "2025-05-13T14:39:50.462959Z",
     "shell.execute_reply": "2025-05-13T14:39:50.462589Z",
     "shell.execute_reply.started": "2025-05-13T14:39:50.456442Z"
    }
   },
   "outputs": [],
   "source": [
    "consdb = ConsDbClient(url)"
   ]
  },
  {
   "cell_type": "markdown",
   "id": "45ac7b79-cc4a-4abf-8afb-db5e575b894a",
   "metadata": {},
   "source": [
    "https://sdm-schemas.lsst.io/cdb_lsstcomcam.html#exposure"
   ]
  },
  {
   "cell_type": "code",
   "execution_count": null,
   "id": "f015c934-ce60-4833-af60-a0514f33ddcd",
   "metadata": {
    "execution": {
     "iopub.execute_input": "2025-05-13T14:39:50.463802Z",
     "iopub.status.busy": "2025-05-13T14:39:50.463434Z",
     "iopub.status.idle": "2025-05-13T14:39:50.813295Z",
     "shell.execute_reply": "2025-05-13T14:39:50.812750Z",
     "shell.execute_reply.started": "2025-05-13T14:39:50.463783Z"
    }
   },
   "outputs": [],
   "source": [
    "# Query both consDB tables\n",
    "# exposure = consdb.query(\"SELECT * FROM cdb_lsstcam.exposure WHERE science_program = 'BLOCK-351'\")\n",
    "# visits = consdb.query(\"SELECT * FROM cdb_lsstcam.visit1 WHERE science_program = 'BLOCK-351'\")\n",
    "# visits_ql = consdb.query(\"SELECT * FROM cdb_lsstcam.visit1_quicklook\")\n",
    "# visits_ql = consdb.query(\"SELECT * FROM cdb_lsstcam.visit1\")\n",
    "\n",
    "if instrument == \"LSSTCam\":\n",
    "    exposures = consdb.query(\"SELECT * FROM cdb_lsstcam.exposure WHERE day_obs >= 20250415\")\n",
    "    visits = consdb.query(\"SELECT * FROM cdb_lsstcam.visit1 WHERE day_obs >= 20250415\")\n",
    "\n",
    "elif instrument == \"LSSTComCam\":\n",
    "    exposures = consdb.query(\"SELECT * FROM cdb_lsstcomcam.exposure WHERE day_obs >= 20241021\")\n",
    "    visits = consdb.query(\"SELECT * FROM cdb_lsstcomcam.visit1 WHERE day_obs >= 20241021\")\n",
    "\n",
    "elif instrument == \"LATISS\":\n",
    "    exposures = consdb.query(\"SELECT * FROM cdb_latiss.exposure WHERE day_obs >= 20220101\")\n",
    "    visits = consdb.query(\"SELECT * FROM cdb_latiss.visit1 WHERE day_obs >= 20220101\")\n",
    "\n",
    "elif instrument == \"LSSTComCamSim\":\n",
    "    # 3 nights of simulation\n",
    "    # collection1 = 'LSSTComCamSim/runs/nightlyvalidation/20240402/d_2024_03_29/DM-43612'\n",
    "    # collection2 = 'LSSTComCamSim/runs/nightlyvalidation/20240403/d_2024_03_29/DM-43612'\n",
    "    # collection3 = 'LSSTComCamSim/runs/nightlyvalidation/20240404/d_2024_03_29/DM-43612'\n",
    "    # exposure = consdb.query(\"SELECT * FROM cdb_lsstcomcamsim.exposure WHERE day_obs >= 202404002\")\n",
    "    # visits = consdb.query(\"SELECT * FROM cdb_lsstcomcamsim.visit1 WHERE day_obs >= 202404002\")\n",
    "    exposures = consdb.query(\"SELECT * FROM cdb_lsstcomcamsim.exposure WHERE day_obs >= 20240402\")\n",
    "    visits = consdb.query(\"SELECT * FROM cdb_lsstcomcamsim.visit1 WHERE day_obs >= 20240402\")\n",
    "\n",
    "\n",
    "else:\n",
    "    raise (f\"This notebook has not implemented a SQL query to ConsDB for the {instrument}\")\n",
    "\n",
    "\n",
    "# Join using astropy's join function on 'visit_id'\n",
    "# exposure_join = exposure.rename_column(\"exposure_id\", \"visit_id\")\n",
    "# merged_exposure = join(exposure, visits, keys=\"visit_id\", join_type=\"inner\")\n",
    "# merged_visits = join(visits, visits_ql, keys=\"visit_id\", join_type=\"inner\")\n",
    "\n",
    "# Display or use the merged table\n",
    "# print(merged_visits)"
   ]
  },
  {
   "cell_type": "code",
   "execution_count": null,
   "id": "a881f145-677c-47c7-8a1f-44557bdc7a41",
   "metadata": {
    "execution": {
     "iopub.execute_input": "2025-05-13T14:39:50.814027Z",
     "iopub.status.busy": "2025-05-13T14:39:50.813884Z",
     "iopub.status.idle": "2025-05-13T14:39:50.816855Z",
     "shell.execute_reply": "2025-05-13T14:39:50.816480Z",
     "shell.execute_reply.started": "2025-05-13T14:39:50.814012Z"
    }
   },
   "outputs": [],
   "source": [
    "print(visits.columns)"
   ]
  },
  {
   "cell_type": "code",
   "execution_count": null,
   "id": "a181f923-d5df-4ce2-a8a0-c1d2c53e3a71",
   "metadata": {
    "execution": {
     "iopub.execute_input": "2025-05-13T14:39:50.817408Z",
     "iopub.status.busy": "2025-05-13T14:39:50.817283Z",
     "iopub.status.idle": "2025-05-13T14:39:50.825822Z",
     "shell.execute_reply": "2025-05-13T14:39:50.825297Z",
     "shell.execute_reply.started": "2025-05-13T14:39:50.817395Z"
    }
   },
   "outputs": [],
   "source": [
    "print(exposures.columns)"
   ]
  },
  {
   "cell_type": "code",
   "execution_count": null,
   "id": "fd2cb4dc-ecdb-48dc-8619-79e1f260dbba",
   "metadata": {
    "execution": {
     "iopub.execute_input": "2025-05-13T14:39:50.826466Z",
     "iopub.status.busy": "2025-05-13T14:39:50.826331Z",
     "iopub.status.idle": "2025-05-13T14:39:50.847698Z",
     "shell.execute_reply": "2025-05-13T14:39:50.846988Z",
     "shell.execute_reply.started": "2025-05-13T14:39:50.826453Z"
    }
   },
   "outputs": [],
   "source": [
    "df_exposures = exposures.to_pandas()\n",
    "df_visits = visits.to_pandas()"
   ]
  },
  {
   "cell_type": "code",
   "execution_count": null,
   "id": "c40bda8e-cb26-4506-a8a2-b4a1946d068b",
   "metadata": {
    "execution": {
     "iopub.execute_input": "2025-05-13T14:39:50.848373Z",
     "iopub.status.busy": "2025-05-13T14:39:50.848231Z",
     "iopub.status.idle": "2025-05-13T14:39:50.860338Z",
     "shell.execute_reply": "2025-05-13T14:39:50.859851Z",
     "shell.execute_reply.started": "2025-05-13T14:39:50.848359Z"
    }
   },
   "outputs": [],
   "source": [
    "df_exposures.head()"
   ]
  },
  {
   "cell_type": "code",
   "execution_count": null,
   "id": "ff85db52-4397-4728-b8e5-c370ce207603",
   "metadata": {
    "execution": {
     "iopub.execute_input": "2025-05-13T14:39:50.860972Z",
     "iopub.status.busy": "2025-05-13T14:39:50.860840Z",
     "iopub.status.idle": "2025-05-13T14:39:50.871297Z",
     "shell.execute_reply": "2025-05-13T14:39:50.870892Z",
     "shell.execute_reply.started": "2025-05-13T14:39:50.860959Z"
    }
   },
   "outputs": [],
   "source": [
    "df_visits.head()"
   ]
  },
  {
   "cell_type": "code",
   "execution_count": null,
   "id": "bf768b8d-c3e5-4b26-a72f-1f78a7255ceb",
   "metadata": {
    "execution": {
     "iopub.execute_input": "2025-05-13T14:39:50.872085Z",
     "iopub.status.busy": "2025-05-13T14:39:50.871780Z",
     "iopub.status.idle": "2025-05-13T14:39:50.880495Z",
     "shell.execute_reply": "2025-05-13T14:39:50.880097Z",
     "shell.execute_reply.started": "2025-05-13T14:39:50.872064Z"
    }
   },
   "outputs": [],
   "source": [
    "df_visits.dropna(subset=[\"zenith_distance_start\", \"exp_midpt_mjd\"])[\n",
    "    [\"zenith_distance_start\", \"exp_midpt_mjd\"]\n",
    "]"
   ]
  },
  {
   "cell_type": "code",
   "execution_count": null,
   "id": "c03afe96-d821-43dd-a090-8e52919d3a9c",
   "metadata": {
    "execution": {
     "iopub.execute_input": "2025-05-13T14:39:50.881158Z",
     "iopub.status.busy": "2025-05-13T14:39:50.880997Z",
     "iopub.status.idle": "2025-05-13T14:39:50.886036Z",
     "shell.execute_reply": "2025-05-13T14:39:50.885535Z",
     "shell.execute_reply.started": "2025-05-13T14:39:50.881137Z"
    }
   },
   "outputs": [],
   "source": [
    "df_visits = df_visits.dropna(subset=[\"zenith_distance_start\", \"exp_midpt_mjd\"])"
   ]
  },
  {
   "cell_type": "code",
   "execution_count": null,
   "id": "53b23ed9-e191-4d50-aa5e-7241553b1670",
   "metadata": {
    "execution": {
     "iopub.execute_input": "2025-05-13T14:39:50.889742Z",
     "iopub.status.busy": "2025-05-13T14:39:50.889602Z",
     "iopub.status.idle": "2025-05-13T14:39:50.898268Z",
     "shell.execute_reply": "2025-05-13T14:39:50.897057Z",
     "shell.execute_reply.started": "2025-05-13T14:39:50.889728Z"
    }
   },
   "outputs": [],
   "source": [
    "df_visits[[\"day_obs\", \"zenith_distance_start\", \"exp_midpt_mjd\"]]"
   ]
  },
  {
   "cell_type": "markdown",
   "id": "9f012286-63dd-4f6b-a31c-50747ef8c689",
   "metadata": {},
   "source": [
    "### Don't see the difference between the visits and the exposures !"
   ]
  },
  {
   "cell_type": "markdown",
   "id": "24d47919-04af-45ea-a70e-3f9e3d4e2be2",
   "metadata": {},
   "source": [
    "## Explore the visit info in consdb"
   ]
  },
  {
   "cell_type": "markdown",
   "id": "aef71a12-6d56-4b56-a49e-68ad90e2bc52",
   "metadata": {},
   "source": [
    "### Observation dates"
   ]
  },
  {
   "cell_type": "code",
   "execution_count": null,
   "id": "cb3cde1c-8ef3-4fa3-b4ce-4801747637f6",
   "metadata": {
    "execution": {
     "iopub.execute_input": "2025-05-13T14:39:50.899872Z",
     "iopub.status.busy": "2025-05-13T14:39:50.899330Z",
     "iopub.status.idle": "2025-05-13T14:39:50.906653Z",
     "shell.execute_reply": "2025-05-13T14:39:50.906098Z",
     "shell.execute_reply.started": "2025-05-13T14:39:50.899842Z"
    }
   },
   "outputs": [],
   "source": [
    "df_visits[\"day_obs\"].unique()"
   ]
  },
  {
   "cell_type": "code",
   "execution_count": null,
   "id": "aee5f54c-d244-4221-897a-3d7eddf37a72",
   "metadata": {
    "execution": {
     "iopub.execute_input": "2025-05-13T14:39:50.907363Z",
     "iopub.status.busy": "2025-05-13T14:39:50.907220Z",
     "iopub.status.idle": "2025-05-13T14:39:51.370782Z",
     "shell.execute_reply": "2025-05-13T14:39:51.370270Z",
     "shell.execute_reply.started": "2025-05-13T14:39:50.907347Z"
    }
   },
   "outputs": [],
   "source": [
    "if instrument == \"LSSTComCamSim\":\n",
    "    # selection_cut = (df_visits[\"day_obs\"] <= 20240404)\n",
    "    # df_visits = df_visits[selection_cut]\n",
    "    # exclude nodate no zenith value\n",
    "    # df_visits = df_visits.dropna(subset=['exp_midpt_mjd'])\n",
    "    df_visits = df_visits.dropna(subset=[\"zenith_distance_start\", \"exp_midpt_mjd\"])\n",
    "\n",
    "    # df_visits.dropna(subset=['zenith_distance_start','exp_midpt_mjd'],inplace=True)\n",
    "    dt = [Time(mjd, format=\"mjd\", scale=\"utc\").isot for mjd in df_visits[\"exp_midpt_mjd\"].values]\n",
    "    # convert the MJD time in ISO 8601\n",
    "    df_visits[\"exp_midpt\"] = dt\n",
    "\n",
    "    df_visits[\"airmass\"] = df_visits[\"zenith_distance_start\"].apply(lambda x: 1 / np.cos(x / 180.0 * np.pi))"
   ]
  },
  {
   "cell_type": "code",
   "execution_count": null,
   "id": "9e598585-eb1b-4b35-854c-a28ae6f343e3",
   "metadata": {
    "execution": {
     "iopub.execute_input": "2025-05-13T14:39:51.371465Z",
     "iopub.status.busy": "2025-05-13T14:39:51.371326Z",
     "iopub.status.idle": "2025-05-13T14:39:51.384094Z",
     "shell.execute_reply": "2025-05-13T14:39:51.383676Z",
     "shell.execute_reply.started": "2025-05-13T14:39:51.371451Z"
    }
   },
   "outputs": [],
   "source": [
    "df_visits"
   ]
  },
  {
   "cell_type": "markdown",
   "id": "0dddfbfb-bcab-46a0-a2e4-629d80284aab",
   "metadata": {},
   "source": [
    "### Filters"
   ]
  },
  {
   "cell_type": "code",
   "execution_count": null,
   "id": "5dd87d43-7d1e-47ba-9205-db72babd45aa",
   "metadata": {
    "execution": {
     "iopub.execute_input": "2025-05-13T14:39:51.384711Z",
     "iopub.status.busy": "2025-05-13T14:39:51.384581Z",
     "iopub.status.idle": "2025-05-13T14:39:51.387599Z",
     "shell.execute_reply": "2025-05-13T14:39:51.387219Z",
     "shell.execute_reply.started": "2025-05-13T14:39:51.384699Z"
    }
   },
   "outputs": [],
   "source": [
    "print(df_visits[\"physical_filter\"].unique(), df_visits[\"band\"].unique())"
   ]
  },
  {
   "cell_type": "markdown",
   "id": "556dddfc-0078-4705-9c95-837b0efc67ad",
   "metadata": {},
   "source": [
    "### Remove bad filters"
   ]
  },
  {
   "cell_type": "code",
   "execution_count": null,
   "id": "4ed380c3-cb37-447f-9f9a-ded21af7f83e",
   "metadata": {
    "execution": {
     "iopub.execute_input": "2025-05-13T14:39:51.388171Z",
     "iopub.status.busy": "2025-05-13T14:39:51.388039Z",
     "iopub.status.idle": "2025-05-13T14:39:51.398173Z",
     "shell.execute_reply": "2025-05-13T14:39:51.397610Z",
     "shell.execute_reply.started": "2025-05-13T14:39:51.388159Z"
    }
   },
   "outputs": [],
   "source": [
    "df_visits = df_visits[\n",
    "    ~(\n",
    "        (df_visits[\"physical_filter\"] == \"other\")\n",
    "        | (df_visits[\"physical_filter\"] == \"none\")\n",
    "        | (df_visits[\"physical_filter\"] == \"other:pinhole\")\n",
    "        | (\"pinhole\" in df_visits[\"physical_filter\"])\n",
    "        | (\"cyl_lens\" in df_visits[\"physical_filter\"])\n",
    "        | (df_visits[\"band\"] == \"none\")\n",
    "        | (df_visits[\"band\"] == \"other:pinhole\")\n",
    "    )\n",
    "]"
   ]
  },
  {
   "cell_type": "markdown",
   "id": "01006283-a5ba-4b92-a7f4-03a74031b2f5",
   "metadata": {},
   "source": [
    "### Remove rows  with bad ra and dec"
   ]
  },
  {
   "cell_type": "code",
   "execution_count": null,
   "id": "72d90294-9658-4c96-b258-4a158c341dfc",
   "metadata": {
    "execution": {
     "iopub.execute_input": "2025-05-13T14:39:51.398802Z",
     "iopub.status.busy": "2025-05-13T14:39:51.398674Z",
     "iopub.status.idle": "2025-05-13T14:39:51.404204Z",
     "shell.execute_reply": "2025-05-13T14:39:51.403821Z",
     "shell.execute_reply.started": "2025-05-13T14:39:51.398790Z"
    }
   },
   "outputs": [],
   "source": [
    "df_visits = df_visits.dropna(subset=[\"s_ra\", \"s_dec\"])"
   ]
  },
  {
   "cell_type": "markdown",
   "id": "f90548eb-3722-4973-be9c-ab932088d70d",
   "metadata": {},
   "source": [
    "### Science program and observation reason"
   ]
  },
  {
   "cell_type": "code",
   "execution_count": null,
   "id": "b8cc4dd2-9b22-4a2e-8b2f-a5ce2525411b",
   "metadata": {
    "execution": {
     "iopub.execute_input": "2025-05-13T14:39:51.404862Z",
     "iopub.status.busy": "2025-05-13T14:39:51.404730Z",
     "iopub.status.idle": "2025-05-13T14:39:51.411282Z",
     "shell.execute_reply": "2025-05-13T14:39:51.410863Z",
     "shell.execute_reply.started": "2025-05-13T14:39:51.404849Z"
    }
   },
   "outputs": [],
   "source": [
    "df_visits[\"science_program\"].unique()"
   ]
  },
  {
   "cell_type": "code",
   "execution_count": null,
   "id": "9fd86ee6-48ce-4494-adf9-cc444c89d508",
   "metadata": {
    "execution": {
     "iopub.execute_input": "2025-05-13T14:39:51.411823Z",
     "iopub.status.busy": "2025-05-13T14:39:51.411701Z",
     "iopub.status.idle": "2025-05-13T14:39:51.421560Z",
     "shell.execute_reply": "2025-05-13T14:39:51.421186Z",
     "shell.execute_reply.started": "2025-05-13T14:39:51.411811Z"
    }
   },
   "outputs": [],
   "source": [
    "df_visits[\"observation_reason\"].unique()"
   ]
  },
  {
   "cell_type": "markdown",
   "id": "bea6fce7-7d00-4065-9b67-b2ccc13a5364",
   "metadata": {},
   "source": [
    "### Check bands"
   ]
  },
  {
   "cell_type": "code",
   "execution_count": null,
   "id": "df640770-3efb-476b-9cd7-d94528f54308",
   "metadata": {
    "execution": {
     "iopub.execute_input": "2025-05-13T14:39:51.422221Z",
     "iopub.status.busy": "2025-05-13T14:39:51.422084Z",
     "iopub.status.idle": "2025-05-13T14:39:51.428610Z",
     "shell.execute_reply": "2025-05-13T14:39:51.428264Z",
     "shell.execute_reply.started": "2025-05-13T14:39:51.422208Z"
    }
   },
   "outputs": [],
   "source": [
    "df_visits.band.unique()"
   ]
  },
  {
   "cell_type": "markdown",
   "id": "f2a46c3b-20c1-4ce0-8db7-b4ab24ac1a12",
   "metadata": {},
   "source": [
    "### Time exposure"
   ]
  },
  {
   "cell_type": "code",
   "execution_count": null,
   "id": "5445457f-75d5-4d82-88ea-2d3f5bcdf4dc",
   "metadata": {
    "execution": {
     "iopub.execute_input": "2025-05-13T14:39:51.429174Z",
     "iopub.status.busy": "2025-05-13T14:39:51.429035Z",
     "iopub.status.idle": "2025-05-13T14:39:51.444457Z",
     "shell.execute_reply": "2025-05-13T14:39:51.444095Z",
     "shell.execute_reply.started": "2025-05-13T14:39:51.429162Z"
    }
   },
   "outputs": [],
   "source": [
    "# add missing column in table\n",
    "if instrument == \"LSSTComCamSim\":\n",
    "    df_visits[\"exp_time\"] = 30.0"
   ]
  },
  {
   "cell_type": "code",
   "execution_count": null,
   "id": "4f5bbbdc-fa6c-45ab-bc4d-d5ee84ae75f9",
   "metadata": {
    "execution": {
     "iopub.execute_input": "2025-05-13T14:39:51.444979Z",
     "iopub.status.busy": "2025-05-13T14:39:51.444854Z",
     "iopub.status.idle": "2025-05-13T14:39:51.531844Z",
     "shell.execute_reply": "2025-05-13T14:39:51.531433Z",
     "shell.execute_reply.started": "2025-05-13T14:39:51.444967Z"
    }
   },
   "outputs": [],
   "source": [
    "fig, ax = plt.subplots(1, 1, figsize=(8, 4))\n",
    "ax.hist(df_visits[\"exp_time\"].values, bins=50, facecolor=\"b\")\n",
    "plt.show()"
   ]
  },
  {
   "cell_type": "markdown",
   "id": "21441f79-45ef-4022-808f-9957a87a0ad1",
   "metadata": {},
   "source": [
    "## Region in sky"
   ]
  },
  {
   "cell_type": "code",
   "execution_count": null,
   "id": "133fe6ce-6ad5-40ed-a097-40a3662d80df",
   "metadata": {
    "execution": {
     "iopub.execute_input": "2025-05-13T14:39:51.532513Z",
     "iopub.status.busy": "2025-05-13T14:39:51.532370Z",
     "iopub.status.idle": "2025-05-13T14:39:51.535332Z",
     "shell.execute_reply": "2025-05-13T14:39:51.534930Z",
     "shell.execute_reply.started": "2025-05-13T14:39:51.532498Z"
    }
   },
   "outputs": [],
   "source": [
    "dict_b_to_col = {\n",
    "    \"u\": \"b\",\n",
    "    \"g\": \"g\",\n",
    "    \"r\": \"r\",\n",
    "    \"i\": \"orange\",\n",
    "    \"z\": \"magenta\",\n",
    "    \"y\": \"purple\",\n",
    "    \"other\": \"grey\",\n",
    "    \"none\": \"k\",\n",
    "    None: \"k\",\n",
    "    \"other:pinhole\": \"grey\",\n",
    "    \"EMPTY\": \"grey\",\n",
    "    \"white\": \"grey\",\n",
    "}"
   ]
  },
  {
   "cell_type": "code",
   "execution_count": null,
   "id": "5ee65e5b-3d0a-4fef-8a41-cd853c7c9e4f",
   "metadata": {
    "execution": {
     "iopub.execute_input": "2025-05-13T14:39:51.536053Z",
     "iopub.status.busy": "2025-05-13T14:39:51.535780Z",
     "iopub.status.idle": "2025-05-13T14:39:51.543574Z",
     "shell.execute_reply": "2025-05-13T14:39:51.543232Z",
     "shell.execute_reply.started": "2025-05-13T14:39:51.536038Z"
    }
   },
   "outputs": [],
   "source": [
    "col = df_visits[\"band\"].map(lambda b: dict_b_to_col[b]).values"
   ]
  },
  {
   "cell_type": "code",
   "execution_count": null,
   "id": "10ea14f9-5bd4-4c0f-b117-69b7db9886dd",
   "metadata": {
    "execution": {
     "iopub.execute_input": "2025-05-13T14:39:51.544128Z",
     "iopub.status.busy": "2025-05-13T14:39:51.543991Z",
     "iopub.status.idle": "2025-05-13T14:39:51.551184Z",
     "shell.execute_reply": "2025-05-13T14:39:51.550821Z",
     "shell.execute_reply.started": "2025-05-13T14:39:51.544115Z"
    }
   },
   "outputs": [],
   "source": [
    "col"
   ]
  },
  {
   "cell_type": "code",
   "execution_count": null,
   "id": "0f66774d-07a3-4289-95ef-8989fed64ab7",
   "metadata": {
    "execution": {
     "iopub.execute_input": "2025-05-13T14:39:51.551813Z",
     "iopub.status.busy": "2025-05-13T14:39:51.551684Z",
     "iopub.status.idle": "2025-05-13T14:39:51.835087Z",
     "shell.execute_reply": "2025-05-13T14:39:51.834655Z",
     "shell.execute_reply.started": "2025-05-13T14:39:51.551800Z"
    }
   },
   "outputs": [],
   "source": [
    "palette_spectral = sns.color_palette(\"Spectral_r\", as_cmap=True)\n",
    "cmap_time = ListedColormap(sns.color_palette(\"Spectral_r\", df_visits.size))\n",
    "dt = df_visits[\"obs_start_mjd\"].values - df_visits[\"obs_start_mjd\"].min()\n",
    "dtmin = dt.min()\n",
    "dtmax = dt.max()"
   ]
  },
  {
   "cell_type": "code",
   "execution_count": null,
   "id": "15cd0a56-3e44-4924-9080-e741dd1bf3b6",
   "metadata": {
    "execution": {
     "iopub.execute_input": "2025-05-13T14:39:51.835713Z",
     "iopub.status.busy": "2025-05-13T14:39:51.835576Z",
     "iopub.status.idle": "2025-05-13T14:39:52.033564Z",
     "shell.execute_reply": "2025-05-13T14:39:52.033089Z",
     "shell.execute_reply.started": "2025-05-13T14:39:51.835697Z"
    }
   },
   "outputs": [],
   "source": [
    "fig, ax = plt.subplots(1, 1, figsize=(12, 6))\n",
    "im = df_visits.plot.scatter(x=\"s_ra\", y=\"s_dec\", ax=ax, c=dt, cmap=cmap_time)\n",
    "ax.grid()\n",
    "ax.set_aspect(\"equal\")\n",
    "# cbar = plt.colorbar(im, orientation='horizontal', label='time(days)')\n",
    "plt.show()"
   ]
  },
  {
   "cell_type": "code",
   "execution_count": null,
   "id": "9e6ce737-28e5-4d28-8db2-858485517866",
   "metadata": {
    "execution": {
     "iopub.execute_input": "2025-05-13T14:39:52.034282Z",
     "iopub.status.busy": "2025-05-13T14:39:52.034128Z",
     "iopub.status.idle": "2025-05-13T14:39:52.037470Z",
     "shell.execute_reply": "2025-05-13T14:39:52.037054Z",
     "shell.execute_reply.started": "2025-05-13T14:39:52.034267Z"
    }
   },
   "outputs": [],
   "source": [
    "palette_spectral = sns.color_palette(\"Spectral_r\", as_cmap=True)"
   ]
  },
  {
   "cell_type": "code",
   "execution_count": null,
   "id": "7746fe8f-7c82-4ddf-a624-3d65f9404563",
   "metadata": {
    "execution": {
     "iopub.execute_input": "2025-05-13T14:39:52.038157Z",
     "iopub.status.busy": "2025-05-13T14:39:52.037924Z",
     "iopub.status.idle": "2025-05-13T14:39:52.300352Z",
     "shell.execute_reply": "2025-05-13T14:39:52.299585Z",
     "shell.execute_reply.started": "2025-05-13T14:39:52.038143Z"
    }
   },
   "outputs": [],
   "source": [
    "cmap_time = ListedColormap(sns.color_palette(\"Spectral\", df_visits.size))"
   ]
  },
  {
   "cell_type": "code",
   "execution_count": null,
   "id": "a9968ad6-6c5b-4855-a400-a769cb5ad52e",
   "metadata": {
    "execution": {
     "iopub.execute_input": "2025-05-13T14:39:52.301257Z",
     "iopub.status.busy": "2025-05-13T14:39:52.301048Z",
     "iopub.status.idle": "2025-05-13T14:39:52.305221Z",
     "shell.execute_reply": "2025-05-13T14:39:52.304767Z",
     "shell.execute_reply.started": "2025-05-13T14:39:52.301238Z"
    }
   },
   "outputs": [],
   "source": [
    "dt = df_visits[\"obs_start_mjd\"].values - df_visits[\"obs_start_mjd\"].min()"
   ]
  },
  {
   "cell_type": "code",
   "execution_count": null,
   "id": "358735fd-81de-42de-aa1e-930d5764d562",
   "metadata": {
    "execution": {
     "iopub.execute_input": "2025-05-13T14:39:52.305908Z",
     "iopub.status.busy": "2025-05-13T14:39:52.305765Z",
     "iopub.status.idle": "2025-05-13T14:39:52.313478Z",
     "shell.execute_reply": "2025-05-13T14:39:52.313083Z",
     "shell.execute_reply.started": "2025-05-13T14:39:52.305893Z"
    }
   },
   "outputs": [],
   "source": [
    "dtmin = dt.min()\n",
    "dtmax = dt.max()"
   ]
  },
  {
   "cell_type": "code",
   "execution_count": null,
   "id": "2227d182-4ddb-4032-a963-83fbb78fff46",
   "metadata": {
    "execution": {
     "iopub.execute_input": "2025-05-13T14:39:52.314123Z",
     "iopub.status.busy": "2025-05-13T14:39:52.313985Z",
     "iopub.status.idle": "2025-05-13T14:39:52.329058Z",
     "shell.execute_reply": "2025-05-13T14:39:52.328666Z",
     "shell.execute_reply.started": "2025-05-13T14:39:52.314110Z"
    }
   },
   "outputs": [],
   "source": [
    "ra_g = df_visits[\"s_ra\"].apply(func_degToRad)\n",
    "dec_g = df_visits[\"s_dec\"].apply(func_degToRad)\n",
    "\n",
    "# ra_g = coordinates.Angle(df_visits['s_ra'].values,unit=\"deg\").radian\n",
    "# dec_g = coordinates.Angle(df_visits['s_dec'].values,unit=\"deg\").radian"
   ]
  },
  {
   "cell_type": "code",
   "execution_count": null,
   "id": "ec5ce7aa-3ff8-4684-975d-038c5b56f00e",
   "metadata": {
    "execution": {
     "iopub.execute_input": "2025-05-13T14:39:52.329650Z",
     "iopub.status.busy": "2025-05-13T14:39:52.329524Z",
     "iopub.status.idle": "2025-05-13T14:39:52.339739Z",
     "shell.execute_reply": "2025-05-13T14:39:52.339343Z",
     "shell.execute_reply.started": "2025-05-13T14:39:52.329637Z"
    }
   },
   "outputs": [],
   "source": [
    "# Galactic plane\n",
    "gal_long = np.linspace(-180.0, 180, 360)\n",
    "gal_lat = np.zeros((360))\n",
    "coordinates_galactic_planes = SkyCoord(l=gal_long * u.degree, b=gal_lat * u.degree, frame=\"galactic\")\n",
    "gp_radec = coordinates_galactic_planes.transform_to(\"icrs\")\n",
    "\n",
    "# for galactic plane\n",
    "# gp_radec.ra : 0., 360.\n",
    "# gp_radec.dec : -90, 90\n",
    "# Old method\n",
    "# gp_ra_toplot = coordinates.Angle(gp_radec.ra.degree*u.degree)\n",
    "# gp_ra_toplot = gp_ra_toplot.wrap_at(180*u.degree)\n",
    "# gp_ra_toplot -180, 180\n",
    "\n",
    "# new method in radian with ra_to_mollweide\n",
    "gp_ra_toplot = ra_to_mollweide(gp_radec.ra.radian)\n",
    "gp_dec_toplot = gp_radec.dec.radian"
   ]
  },
  {
   "cell_type": "code",
   "execution_count": null,
   "id": "527a501a-41fd-4bb1-8db5-22c9d70fba5a",
   "metadata": {
    "execution": {
     "iopub.execute_input": "2025-05-13T14:39:52.340366Z",
     "iopub.status.busy": "2025-05-13T14:39:52.340237Z",
     "iopub.status.idle": "2025-05-13T14:39:52.410792Z",
     "shell.execute_reply": "2025-05-13T14:39:52.410276Z",
     "shell.execute_reply.started": "2025-05-13T14:39:52.340353Z"
    }
   },
   "outputs": [],
   "source": [
    "ra = coordinates.Angle(df_visits[\"s_ra\"].values, unit=\"deg\").radian\n",
    "dec = coordinates.Angle(df_visits[\"s_dec\"].values, unit=\"deg\").radian"
   ]
  },
  {
   "cell_type": "code",
   "execution_count": null,
   "id": "e99f4a95-1534-4345-b37c-c1de06bbd717",
   "metadata": {
    "execution": {
     "iopub.execute_input": "2025-05-13T14:39:52.411433Z",
     "iopub.status.busy": "2025-05-13T14:39:52.411302Z",
     "iopub.status.idle": "2025-05-13T14:39:52.594056Z",
     "shell.execute_reply": "2025-05-13T14:39:52.593626Z",
     "shell.execute_reply.started": "2025-05-13T14:39:52.411420Z"
    }
   },
   "outputs": [],
   "source": [
    "# plot\n",
    "# x arg in rad must be (-2pi,2pi), y arg in rad  must be in ( -pi,pi )\n",
    "fig = plt.figure(figsize=(14, 8))\n",
    "# ax = fig.add_subplot(111, projection=\"aitoff\")\n",
    "ax = fig.add_subplot(111, projection=\"mollweide\")\n",
    "\n",
    "# galactic plane\n",
    "# ax.scatter(ra_to_mollweide(gp_ra_toplot.radian), gp_radec.dec.radian, c=\"r\", label=\"Galactic Plane\", s=1)\n",
    "# galactic plane\n",
    "ax.scatter(gp_ra_toplot, gp_dec_toplot, c=\"r\", label=\"Galactic Plane\", s=1)\n",
    "\n",
    "# ax.scatter(ra-np.pi,dec,marker='+',c=all_colors_g)\n",
    "# im = ax.scatter(ra_g.values-np.pi,dec_g.values,marker='+',s=50,lw=3,c=dt,cmap=palette_spectral)\n",
    "im = ax.scatter(\n",
    "    ra_to_mollweide(ra_g.values), dec_g.values, marker=\"+\", s=50, lw=2, c=dt, cmap=palette_spectral\n",
    ")\n",
    "\n",
    "ax.legend()\n",
    "ax.grid()\n",
    "\n",
    "cbar = plt.colorbar(im, orientation=\"horizontal\", label=\"time(days)\")\n",
    "plt.suptitle(instrument, fontsize=30, fontweight=\"bold\")\n",
    "\n",
    "plt.show()"
   ]
  },
  {
   "cell_type": "code",
   "execution_count": null,
   "id": "a64830f2-4fb0-4120-8fc7-2711d2e958ac",
   "metadata": {
    "execution": {
     "iopub.execute_input": "2025-05-13T14:39:52.594767Z",
     "iopub.status.busy": "2025-05-13T14:39:52.594623Z",
     "iopub.status.idle": "2025-05-13T14:39:52.788152Z",
     "shell.execute_reply": "2025-05-13T14:39:52.787673Z",
     "shell.execute_reply.started": "2025-05-13T14:39:52.594752Z"
    }
   },
   "outputs": [],
   "source": [
    "import numpy as np\n",
    "import matplotlib.pyplot as plt\n",
    "\n",
    "# Coordonnées des Deep Drilling Fields (RA en degrés, Dec en degrés)\n",
    "ddf_names = [\"XMM-LSS\", \"COSMOS\", \"ECDFS\", \"ELAIS-S1\", \"EDFS_a\", \"EDFS_b\"]\n",
    "ddf_ra_deg = np.array([35.57, 150.11, 52.98, 9.45, 58.90, 63.60])  # approximatif\n",
    "ddf_dec_deg = np.array([-4.82, 2.23, -28.12, -44.02, -49.32, -47.60])  # approximatif\n",
    "\n",
    "\n",
    "# Conversion en radians et adaptation pour Mollweide projection\n",
    "ddf_ra_rad = np.radians(ddf_ra_deg)\n",
    "ddf_dec_rad = np.radians(ddf_dec_deg)\n",
    "# Décalage pour Mollweide (RA=0h au centre), donc -π à π\n",
    "# ddf_ra_rad = np.remainder(ddf_ra_rad + 2*np.pi, 2*np.pi)  # force RA entre 0 et 2pi\n",
    "# ddf_ra_rad[ddf_ra_rad > np.pi] -= 2*np.pi  # force entre -pi et +pi\n",
    "# ddf_ra_rad = -ddf_ra_rad  # reverse l'axe des RA\n",
    "ddf_ra_rad = ra_to_mollweide(ddf_ra_rad)\n",
    "\n",
    "# --- Ton plot existant ---\n",
    "fig = plt.figure(figsize=(14, 8))\n",
    "ax = fig.add_subplot(111, projection=\"mollweide\")\n",
    "\n",
    "# Exemple de fond existant\n",
    "# ax.scatter(ra_to_mollweide(gp_ra_toplot.radian), gp_radec.dec.radian, c=\"r\", label=\"Galactic Plane\", s=1)\n",
    "# galactic plane\n",
    "ax.scatter(gp_ra_toplot, gp_dec_toplot, c=\"r\", label=\"Galactic Plane\", s=1)\n",
    "# im = ax.scatter(ra_g.values - np.pi, dec_g.values, marker='+', s=50, lw=3, c=dt, cmap=palette_spectral)\n",
    "im = ax.scatter(\n",
    "    ra_to_mollweide(ra_g.values), dec_g.values, marker=\"+\", s=50, lw=2, c=dt, cmap=palette_spectral\n",
    ")\n",
    "\n",
    "# Ajout des Deep Drilling Fields\n",
    "for i in range(len(ddf_names)):\n",
    "    ax.plot(ddf_ra_rad[i], ddf_dec_rad[i], \"o\", markersize=10, color=\"gold\", markeredgecolor=\"black\")\n",
    "    ax.text(\n",
    "        ddf_ra_rad[i] + 0.05,\n",
    "        ddf_dec_rad[i] + 0.05,\n",
    "        ddf_names[i],\n",
    "        fontsize=12,\n",
    "        color=\"gold\",\n",
    "        ha=\"left\",\n",
    "        va=\"bottom\",\n",
    "        weight=\"bold\",\n",
    "    )\n",
    "\n",
    "ax.legend()\n",
    "ax.grid()\n",
    "\n",
    "cbar = plt.colorbar(im, orientation=\"horizontal\", label=\"time (days)\")\n",
    "plt.suptitle(instrument, fontsize=30, fontweight=\"bold\")\n",
    "\n",
    "plt.show()"
   ]
  },
  {
   "cell_type": "code",
   "execution_count": null,
   "id": "68103a62-2d53-4ff8-a002-799d8591223d",
   "metadata": {
    "execution": {
     "iopub.execute_input": "2025-05-13T14:39:52.788939Z",
     "iopub.status.busy": "2025-05-13T14:39:52.788791Z",
     "iopub.status.idle": "2025-05-13T14:39:53.013704Z",
     "shell.execute_reply": "2025-05-13T14:39:53.013283Z",
     "shell.execute_reply.started": "2025-05-13T14:39:52.788924Z"
    }
   },
   "outputs": [],
   "source": [
    "import numpy as np\n",
    "import matplotlib.pyplot as plt\n",
    "\n",
    "# Coordonnées des Deep Drilling Fields (RA en degrés, Dec en degrés)\n",
    "ddf_names = [\"XMM-LSS\", \"COSMOS\", \"ECDFS\", \"ELAIS-S1\", \"EDFS_a\", \"EDFS_b\"]\n",
    "ddf_ra_deg = np.array([35.57, 150.11, 52.98, 9.45, 58.90, 63.60])  # approximatif\n",
    "ddf_dec_deg = np.array([-4.82, 2.23, -28.12, -44.02, -49.32, -47.60])  # approximatif\n",
    "\n",
    "# Conversion en radians et adaptation pour Mollweide projection\n",
    "ddf_ra_rad = np.radians(ddf_ra_deg)\n",
    "ddf_dec_rad = np.radians(ddf_dec_deg)\n",
    "# ddf_ra_rad = np.remainder(ddf_ra_rad + 2*np.pi, 2*np.pi)\n",
    "# ddf_ra_rad[ddf_ra_rad > np.pi] -= 2*np.pi\n",
    "# ddf_ra_rad = -ddf_ra_rad\n",
    "ddf_ra_rad = ra_to_mollweide(ddf_ra_rad)\n",
    "\n",
    "# Rayon du cercle en radians (~3.5 degrés)\n",
    "radius_deg = 3.5\n",
    "radius_rad = np.radians(radius_deg)\n",
    "\n",
    "# --- Ton plot existant ---\n",
    "fig = plt.figure(figsize=(14, 8))\n",
    "ax = fig.add_subplot(111, projection=\"mollweide\")\n",
    "\n",
    "# Galactic plane\n",
    "# ax.scatter(ra_to_mollweide(gp_ra_toplot.radian), gp_radec.dec.radian, c=\"r\", label=\"Galactic Plane\", s=1)\n",
    "# galactic plane\n",
    "ax.scatter(gp_ra_toplot, gp_dec_toplot, c=\"r\", label=\"Galactic Plane\", s=1)\n",
    "# im = ax.scatter(ra_g.values - np.pi, dec_g.values, marker='+', s=50, lw=3, c=dt, cmap=palette_spectral)\n",
    "im = ax.scatter(\n",
    "    ra_to_mollweide(ra_g.values), dec_g.values, marker=\"+\", s=50, lw=2, c=dt, cmap=palette_spectral\n",
    ")\n",
    "\n",
    "# Couleur choisie\n",
    "ddf_color = \"navy\"  # bleu foncé\n",
    "\n",
    "# Ajout des Deep Drilling Fields\n",
    "for i in range(len(ddf_names)):\n",
    "    # Marqueur central\n",
    "    ax.plot(ddf_ra_rad[i], ddf_dec_rad[i], \"o\", markersize=10, lw=2, color=ddf_color, markeredgecolor=\"black\")\n",
    "    ax.text(\n",
    "        ddf_ra_rad[i] + 0.05,\n",
    "        ddf_dec_rad[i] + 0.05,\n",
    "        ddf_names[i],\n",
    "        fontsize=12,\n",
    "        color=ddf_color,\n",
    "        ha=\"left\",\n",
    "        va=\"bottom\",\n",
    "        weight=\"bold\",\n",
    "    )\n",
    "\n",
    "    # Cercle autour\n",
    "    theta = np.linspace(0, 2 * np.pi, 100)\n",
    "    circle_ra = ddf_ra_rad[i] + radius_rad * np.cos(theta)\n",
    "    circle_dec = ddf_dec_rad[i] + radius_rad * np.sin(theta)\n",
    "    ax.plot(circle_ra, circle_dec, color=ddf_color, linestyle=\"--\", lw=1)\n",
    "\n",
    "ax.legend()\n",
    "ax.grid()\n",
    "\n",
    "cbar = plt.colorbar(im, orientation=\"horizontal\", label=\"time (days)\")\n",
    "plt.suptitle(instrument, fontsize=30, fontweight=\"bold\")\n",
    "\n",
    "# --- Ajouter aussi le LMC ---\n",
    "# Coordonnées du Grand Nuage de Magellan (LMC)\n",
    "lmc_ra_deg = 80.8939\n",
    "lmc_dec_deg = -69.7561\n",
    "\n",
    "# Conversion en radians\n",
    "lmc_ra_rad = np.radians(lmc_ra_deg)\n",
    "lmc_dec_rad = np.radians(lmc_dec_deg)\n",
    "\n",
    "# Ajustement Mollweide\n",
    "lmc_ra_rad = np.remainder(lmc_ra_rad + 2 * np.pi, 2 * np.pi)\n",
    "if lmc_ra_rad > np.pi:\n",
    "    lmc_ra_rad -= 2 * np.pi\n",
    "lmc_ra_rad = -lmc_ra_rad\n",
    "# lmc_ra_rad = ra_to_mollweide([lmc_ra_rad])[0]\n",
    "\n",
    "# Ajouter LMC au plot\n",
    "ax.plot(\n",
    "    lmc_ra_rad,\n",
    "    lmc_dec_rad,\n",
    "    marker=\"*\",\n",
    "    color=\"darkorange\",\n",
    "    markersize=15,\n",
    "    markeredgecolor=\"black\",\n",
    "    label=\"LMC\",\n",
    ")\n",
    "ax.text(\n",
    "    lmc_ra_rad + 0.05,\n",
    "    lmc_dec_rad + 0.05,\n",
    "    \"LMC\",\n",
    "    fontsize=10,\n",
    "    color=\"darkorange\",\n",
    "    ha=\"left\",\n",
    "    va=\"bottom\",\n",
    "    weight=\"bold\",\n",
    ")\n",
    "\n",
    "\n",
    "plt.show()"
   ]
  },
  {
   "cell_type": "markdown",
   "id": "26f27066-d975-4bce-b944-95848d693479",
   "metadata": {},
   "source": [
    "## Next convert back df_visits into astropy table"
   ]
  },
  {
   "cell_type": "code",
   "execution_count": null,
   "id": "6675a7c2-10e3-4666-aebb-7cf696f6f6b1",
   "metadata": {
    "execution": {
     "iopub.execute_input": "2025-05-13T14:39:53.014399Z",
     "iopub.status.busy": "2025-05-13T14:39:53.014255Z",
     "iopub.status.idle": "2025-05-13T14:39:53.035949Z",
     "shell.execute_reply": "2025-05-13T14:39:53.035485Z",
     "shell.execute_reply.started": "2025-05-13T14:39:53.014384Z"
    }
   },
   "outputs": [],
   "source": [
    "visits = Table.from_pandas(df_visits)"
   ]
  },
  {
   "cell_type": "code",
   "execution_count": null,
   "id": "4695ab64-fd2b-43e2-802c-169a0c2e8afe",
   "metadata": {
    "execution": {
     "iopub.execute_input": "2025-05-13T14:39:53.036619Z",
     "iopub.status.busy": "2025-05-13T14:39:53.036479Z",
     "iopub.status.idle": "2025-05-13T14:39:53.039242Z",
     "shell.execute_reply": "2025-05-13T14:39:53.038884Z",
     "shell.execute_reply.started": "2025-05-13T14:39:53.036605Z"
    }
   },
   "outputs": [],
   "source": [
    "# visits"
   ]
  },
  {
   "cell_type": "markdown",
   "id": "7310a336-342e-49b4-bdd7-eb5295afed7c",
   "metadata": {
    "execution": {
     "iopub.status.busy": "2025-04-18T15:21:32.428824Z",
     "iopub.status.idle": "2025-04-18T15:21:32.428991Z",
     "shell.execute_reply": "2025-04-18T15:21:32.428916Z",
     "shell.execute_reply.started": "2025-04-18T15:21:32.428908Z"
    }
   },
   "source": [
    "## Time dependence"
   ]
  },
  {
   "cell_type": "code",
   "execution_count": null,
   "id": "d6e78b73-58a4-40e5-bc6a-2c95f6953ae3",
   "metadata": {
    "execution": {
     "iopub.execute_input": "2025-05-13T14:39:53.039770Z",
     "iopub.status.busy": "2025-05-13T14:39:53.039645Z",
     "iopub.status.idle": "2025-05-13T14:39:53.049124Z",
     "shell.execute_reply": "2025-05-13T14:39:53.048714Z",
     "shell.execute_reply.started": "2025-05-13T14:39:53.039757Z"
    }
   },
   "outputs": [],
   "source": [
    "time = Time(visits[\"exp_midpt\"])"
   ]
  },
  {
   "cell_type": "code",
   "execution_count": null,
   "id": "c9ae914c-b595-4f94-adff-2b77996fa096",
   "metadata": {
    "execution": {
     "iopub.execute_input": "2025-05-13T14:39:53.049848Z",
     "iopub.status.busy": "2025-05-13T14:39:53.049590Z",
     "iopub.status.idle": "2025-05-13T14:39:53.055461Z",
     "shell.execute_reply": "2025-05-13T14:39:53.055092Z",
     "shell.execute_reply.started": "2025-05-13T14:39:53.049834Z"
    }
   },
   "outputs": [],
   "source": [
    "print(\"tmin = \", time.min(), \" | tmax = \", time.max())"
   ]
  },
  {
   "cell_type": "code",
   "execution_count": null,
   "id": "139b10d0-1030-4cc5-9abb-cb3a77004cc6",
   "metadata": {
    "execution": {
     "iopub.execute_input": "2025-05-13T14:39:53.056101Z",
     "iopub.status.busy": "2025-05-13T14:39:53.055965Z",
     "iopub.status.idle": "2025-05-13T14:39:53.061656Z",
     "shell.execute_reply": "2025-05-13T14:39:53.061314Z",
     "shell.execute_reply.started": "2025-05-13T14:39:53.056088Z"
    }
   },
   "outputs": [],
   "source": [
    "# dattim = [ Time(dt) for dt in df_visits[\"exp_midpt\"].values]"
   ]
  },
  {
   "cell_type": "code",
   "execution_count": null,
   "id": "5c9f70ad-7a69-470d-b20b-83e004cb677b",
   "metadata": {
    "execution": {
     "iopub.execute_input": "2025-05-13T14:39:53.062205Z",
     "iopub.status.busy": "2025-05-13T14:39:53.062080Z",
     "iopub.status.idle": "2025-05-13T14:39:53.068746Z",
     "shell.execute_reply": "2025-05-13T14:39:53.068396Z",
     "shell.execute_reply.started": "2025-05-13T14:39:53.062194Z"
    }
   },
   "outputs": [],
   "source": [
    "# time.value"
   ]
  },
  {
   "cell_type": "code",
   "execution_count": null,
   "id": "61727c11-3aae-4b52-a74b-3de6c1af7ac1",
   "metadata": {
    "execution": {
     "iopub.execute_input": "2025-05-13T14:39:53.069297Z",
     "iopub.status.busy": "2025-05-13T14:39:53.069173Z",
     "iopub.status.idle": "2025-05-13T14:39:53.075529Z",
     "shell.execute_reply": "2025-05-13T14:39:53.075175Z",
     "shell.execute_reply.started": "2025-05-13T14:39:53.069285Z"
    }
   },
   "outputs": [],
   "source": [
    "# df_visits[[\"exp_midpt\",\"airmass\"]]"
   ]
  },
  {
   "cell_type": "code",
   "execution_count": null,
   "id": "e365ff04-aa8b-4f79-9758-b5d7b7af0b7a",
   "metadata": {
    "execution": {
     "iopub.execute_input": "2025-05-13T14:39:53.076069Z",
     "iopub.status.busy": "2025-05-13T14:39:53.075945Z",
     "iopub.status.idle": "2025-05-13T14:39:53.082744Z",
     "shell.execute_reply": "2025-05-13T14:39:53.082389Z",
     "shell.execute_reply.started": "2025-05-13T14:39:53.076057Z"
    }
   },
   "outputs": [],
   "source": [
    "# df_visits[\"exp_midpt\"]"
   ]
  },
  {
   "cell_type": "code",
   "execution_count": null,
   "id": "6daed399-eed0-4a85-942d-eb9d6cff29f4",
   "metadata": {
    "execution": {
     "iopub.execute_input": "2025-05-13T14:39:53.083317Z",
     "iopub.status.busy": "2025-05-13T14:39:53.083191Z",
     "iopub.status.idle": "2025-05-13T14:39:53.092922Z",
     "shell.execute_reply": "2025-05-13T14:39:53.092568Z",
     "shell.execute_reply.started": "2025-05-13T14:39:53.083305Z"
    }
   },
   "outputs": [],
   "source": [
    "# Conversion MJD → datetime (UTC)\n",
    "df_visits[\"exp_midpt\"] = pd.to_datetime(df_visits[\"exp_midpt\"], format=\"mixed\")"
   ]
  },
  {
   "cell_type": "markdown",
   "id": "199d52bc-248a-432f-b5ee-f8f584233302",
   "metadata": {},
   "source": [
    "### Airmass vs Time"
   ]
  },
  {
   "cell_type": "code",
   "execution_count": null,
   "id": "724cbafe-ce62-4910-a1d2-b6716a96628b",
   "metadata": {
    "execution": {
     "iopub.execute_input": "2025-05-13T14:39:53.093587Z",
     "iopub.status.busy": "2025-05-13T14:39:53.093458Z",
     "iopub.status.idle": "2025-05-13T14:39:53.254107Z",
     "shell.execute_reply": "2025-05-13T14:39:53.253667Z",
     "shell.execute_reply.started": "2025-05-13T14:39:53.093575Z"
    }
   },
   "outputs": [],
   "source": [
    "fig, ax = plt.subplots(1, 1, figsize=(12, 4), layout=\"constrained\")\n",
    "\n",
    "df_visits.plot(x=\"exp_midpt\", y=\"airmass\", ax=ax, marker=\".\", lw=0, color=\"b\")\n",
    "# plt.plot(df_visits[\"exp_midpt\"].values,df_visits[\"airmass\"].values,marker=\"+\",c=\"b\",lw=0)\n",
    "# plt.plot(df_visits[\"exp_midpt\"].values,df_visits[\"airmass\"].values,marker=\"+\",c=\"b\",lw=0)\n",
    "# Set x-axis to show dates\n",
    "# plt.gca().xaxis.set_major_formatter(mdates.DateFormatter('%Y-%m-%d %H:%M:%S'))\n",
    "plt.gca().xaxis.set_major_formatter(mdates.DateFormatter(\"%Y-%m-%dT%H\"))\n",
    "plt.gca().xaxis.set_major_locator(mdates.AutoDateLocator())\n",
    "\n",
    "# Rotate and format x-axis labels for readability\n",
    "# ax.set_xticks(rotation=45, ha=\"right\")\n",
    "ax.set_ylim(2.5, 0.9)\n",
    "ax.set_xlabel(\"Time\")\n",
    "ax.set_ylabel(\"Airmass\")\n",
    "ax.set_title(f\"Time vs Airmass\")\n",
    "ax.grid()\n",
    "\n",
    "plt.show()"
   ]
  },
  {
   "cell_type": "markdown",
   "id": "a70d33be-7703-478a-bee5-1c14f7d1cd2d",
   "metadata": {},
   "source": [
    "### Airmass vs Temperature"
   ]
  },
  {
   "cell_type": "code",
   "execution_count": null,
   "id": "043dc542-ffcb-46d6-b3dd-826f2bcad20e",
   "metadata": {
    "execution": {
     "iopub.execute_input": "2025-05-13T14:39:53.254807Z",
     "iopub.status.busy": "2025-05-13T14:39:53.254664Z",
     "iopub.status.idle": "2025-05-13T14:39:53.665943Z",
     "shell.execute_reply": "2025-05-13T14:39:53.665518Z",
     "shell.execute_reply.started": "2025-05-13T14:39:53.254792Z"
    }
   },
   "outputs": [],
   "source": [
    "fig, ax = plt.subplots(1, 1, figsize=(12, 4), layout=\"constrained\")\n",
    "\n",
    "df_visits.plot(x=\"exp_midpt\", y=\"air_temp\", ax=ax, marker=\".\", lw=0, color=\"b\")\n",
    "# plt.plot(df_visits[\"exp_midpt\"].values,df_visits[\"airmass\"].values,marker=\"+\",c=\"b\",lw=0)\n",
    "# plt.plot(df_visits[\"exp_midpt\"].values,df_visits[\"airmass\"].values,marker=\"+\",c=\"b\",lw=0)\n",
    "# Set x-axis to show dates\n",
    "# plt.gca().xaxis.set_major_formatter(mdates.DateFormatter('%Y-%m-%d %H:%M:%S'))\n",
    "plt.gca().xaxis.set_major_formatter(mdates.DateFormatter(\"%Y-%m-%dT%H\"))\n",
    "plt.gca().xaxis.set_major_locator(mdates.AutoDateLocator())\n",
    "\n",
    "# Rotate and format x-axis labels for readability\n",
    "# ax.set_xticks(rotation=45, ha=\"right\")\n",
    "# ax.set_ylim(2,0.9)\n",
    "ax.set_xlabel(\"Time\")\n",
    "ax.set_ylabel(\"Temperature\")\n",
    "ax.set_title(f\"Time vs Temperature\")\n",
    "ax.grid()\n",
    "\n",
    "plt.show()"
   ]
  },
  {
   "cell_type": "markdown",
   "id": "3e845916-f4b5-4104-abec-36fe7b5e6d74",
   "metadata": {},
   "source": [
    "### Airmass vs Pressure"
   ]
  },
  {
   "cell_type": "code",
   "execution_count": null,
   "id": "e7b1e257-3311-4e17-b163-7fe2684b10e4",
   "metadata": {
    "execution": {
     "iopub.execute_input": "2025-05-13T14:39:53.666642Z",
     "iopub.status.busy": "2025-05-13T14:39:53.666498Z",
     "iopub.status.idle": "2025-05-13T14:39:53.818804Z",
     "shell.execute_reply": "2025-05-13T14:39:53.818398Z",
     "shell.execute_reply.started": "2025-05-13T14:39:53.666627Z"
    }
   },
   "outputs": [],
   "source": [
    "fig, ax = plt.subplots(1, 1, figsize=(12, 4), layout=\"constrained\")\n",
    "\n",
    "df_visits.plot(x=\"exp_midpt\", y=\"pressure\", ax=ax, marker=\".\", lw=0, color=\"b\")\n",
    "# plt.plot(df_visits[\"exp_midpt\"].values,df_visits[\"airmass\"].values,marker=\"+\",c=\"b\",lw=0)\n",
    "# plt.plot(df_visits[\"exp_midpt\"].values,df_visits[\"airmass\"].values,marker=\"+\",c=\"b\",lw=0)\n",
    "# Set x-axis to show dates\n",
    "# plt.gca().xaxis.set_major_formatter(mdates.DateFormatter('%Y-%m-%d %H:%M:%S'))\n",
    "plt.gca().xaxis.set_major_formatter(mdates.DateFormatter(\"%Y-%m-%dT%H\"))\n",
    "plt.gca().xaxis.set_major_locator(mdates.AutoDateLocator())\n",
    "\n",
    "# Rotate and format x-axis labels for readability\n",
    "# ax.set_xticks(rotation=45, ha=\"right\")\n",
    "# ax.set_ylim(2,0.9)\n",
    "ax.set_xlabel(\"Time\")\n",
    "ax.set_ylabel(\"Pressure\")\n",
    "ax.set_title(f\"Time vs Pressure\")\n",
    "ax.grid()\n",
    "\n",
    "plt.show()"
   ]
  },
  {
   "cell_type": "markdown",
   "id": "7191bef7-4963-4442-8ce8-d9414de05256",
   "metadata": {},
   "source": [
    "###  Humidity vs time"
   ]
  },
  {
   "cell_type": "code",
   "execution_count": null,
   "id": "808f9bad-b987-4274-9571-8b795fd00e9e",
   "metadata": {
    "execution": {
     "iopub.execute_input": "2025-05-13T14:39:53.819473Z",
     "iopub.status.busy": "2025-05-13T14:39:53.819332Z",
     "iopub.status.idle": "2025-05-13T14:39:53.972250Z",
     "shell.execute_reply": "2025-05-13T14:39:53.971814Z",
     "shell.execute_reply.started": "2025-05-13T14:39:53.819458Z"
    }
   },
   "outputs": [],
   "source": [
    "fig, ax = plt.subplots(1, 1, figsize=(12, 4), layout=\"constrained\")\n",
    "\n",
    "df_visits.plot(x=\"exp_midpt\", y=\"humidity\", ax=ax, marker=\".\", lw=0, color=\"b\")\n",
    "# plt.plot(df_visits[\"exp_midpt\"].values,df_visits[\"airmass\"].values,marker=\"+\",c=\"b\",lw=0)\n",
    "# plt.plot(df_visits[\"exp_midpt\"].values,df_visits[\"airmass\"].values,marker=\"+\",c=\"b\",lw=0)\n",
    "# Set x-axis to show dates\n",
    "# plt.gca().xaxis.set_major_formatter(mdates.DateFormatter('%Y-%m-%d %H:%M:%S'))\n",
    "plt.gca().xaxis.set_major_formatter(mdates.DateFormatter(\"%Y-%m-%dT%H\"))\n",
    "plt.gca().xaxis.set_major_locator(mdates.AutoDateLocator())\n",
    "\n",
    "# Rotate and format x-axis labels for readability\n",
    "# ax.set_xticks(rotation=45, ha=\"right\")\n",
    "# ax.set_ylim(2,0.9)\n",
    "ax.set_xlabel(\"Time\")\n",
    "ax.set_ylabel(\"Humidity\")\n",
    "ax.set_title(f\"Humidity vs Time\")\n",
    "ax.grid()\n",
    "\n",
    "plt.show()"
   ]
  },
  {
   "cell_type": "markdown",
   "id": "2bb518c9-99d2-4e6c-975b-e7d2e02909b0",
   "metadata": {
    "execution": {
     "iopub.status.busy": "2025-05-07T20:05:17.126745Z",
     "iopub.status.idle": "2025-05-07T20:05:17.126904Z",
     "shell.execute_reply": "2025-05-07T20:05:17.126831Z",
     "shell.execute_reply.started": "2025-05-07T20:05:17.126824Z"
    }
   },
   "source": [
    "### Windspeed vs time"
   ]
  },
  {
   "cell_type": "code",
   "execution_count": null,
   "id": "4bd8fc97-f456-4678-ad0b-7de6e5ee9930",
   "metadata": {
    "execution": {
     "iopub.execute_input": "2025-05-13T14:39:53.972919Z",
     "iopub.status.busy": "2025-05-13T14:39:53.972775Z",
     "iopub.status.idle": "2025-05-13T14:39:54.135007Z",
     "shell.execute_reply": "2025-05-13T14:39:54.134579Z",
     "shell.execute_reply.started": "2025-05-13T14:39:53.972904Z"
    }
   },
   "outputs": [],
   "source": [
    "fig, ax = plt.subplots(1, 1, figsize=(12, 4), layout=\"constrained\")\n",
    "\n",
    "df_visits.plot(x=\"exp_midpt\", y=\"wind_speed\", ax=ax, marker=\".\", lw=0, color=\"b\")\n",
    "# plt.plot(df_visits[\"exp_midpt\"].values,df_visits[\"airmass\"].values,marker=\"+\",c=\"b\",lw=0)\n",
    "# plt.plot(df_visits[\"exp_midpt\"].values,df_visits[\"airmass\"].values,marker=\"+\",c=\"b\",lw=0)\n",
    "# Set x-axis to show dates\n",
    "# plt.gca().xaxis.set_major_formatter(mdates.DateFormatter('%Y-%m-%d %H:%M:%S'))\n",
    "plt.gca().xaxis.set_major_formatter(mdates.DateFormatter(\"%Y-%m-%dT%H\"))\n",
    "plt.gca().xaxis.set_major_locator(mdates.AutoDateLocator())\n",
    "\n",
    "# Rotate and format x-axis labels for readability\n",
    "# ax.set_xticks(rotation=45, ha=\"right\")\n",
    "# ax.set_ylim(2,0.9)\n",
    "ax.set_xlabel(\"Time\")\n",
    "ax.set_ylabel(\"Wind speed\")\n",
    "ax.set_title(f\"Wind speed vs Time\")\n",
    "ax.grid()\n",
    "\n",
    "plt.show()"
   ]
  },
  {
   "cell_type": "markdown",
   "id": "abf53ae9-227b-4e36-9d67-57645f29b265",
   "metadata": {
    "execution": {
     "iopub.status.busy": "2025-05-07T20:05:17.127436Z",
     "iopub.status.idle": "2025-05-07T20:05:17.127587Z",
     "shell.execute_reply": "2025-05-07T20:05:17.127518Z",
     "shell.execute_reply.started": "2025-05-07T20:05:17.127511Z"
    }
   },
   "source": [
    "### Winds direction vs time"
   ]
  },
  {
   "cell_type": "code",
   "execution_count": null,
   "id": "d545da4c-9358-4475-b76e-1d405f75409e",
   "metadata": {
    "execution": {
     "iopub.execute_input": "2025-05-13T14:39:54.135647Z",
     "iopub.status.busy": "2025-05-13T14:39:54.135499Z",
     "iopub.status.idle": "2025-05-13T14:39:54.140448Z",
     "shell.execute_reply": "2025-05-13T14:39:54.140091Z",
     "shell.execute_reply.started": "2025-05-13T14:39:54.135631Z"
    }
   },
   "outputs": [],
   "source": [
    "# df_visits[\"wind_dir_shifted\"] = np.remainder(df_visits[\"wind_dir\"]+180.,360)- 180\n",
    "df_visits[\"wind_dir_shifted\"] = ((df_visits[\"wind_dir\"] + 180) % 360) - 180"
   ]
  },
  {
   "cell_type": "code",
   "execution_count": null,
   "id": "82373c50-8e85-4368-8a27-d72317aa8a93",
   "metadata": {
    "execution": {
     "iopub.execute_input": "2025-05-13T14:39:54.141152Z",
     "iopub.status.busy": "2025-05-13T14:39:54.140997Z",
     "iopub.status.idle": "2025-05-13T14:39:54.299881Z",
     "shell.execute_reply": "2025-05-13T14:39:54.299453Z",
     "shell.execute_reply.started": "2025-05-13T14:39:54.141137Z"
    }
   },
   "outputs": [],
   "source": [
    "fig, ax = plt.subplots(1, 1, figsize=(12, 4), layout=\"constrained\")\n",
    "\n",
    "# df_visits.plot(x=\"exp_midpt\",y=\"wind_dir\",ax=ax,marker=\".\",lw=0,color=\"b\")\n",
    "df_visits.plot(x=\"exp_midpt\", y=\"wind_dir_shifted\", ax=ax, marker=\".\", lw=0, color=\"r\")\n",
    "# plt.plot(df_visits[\"exp_midpt\"].values,df_visits[\"airmass\"].values,marker=\"+\",c=\"b\",lw=0)\n",
    "# plt.plot(df_visits[\"exp_midpt\"].values,df_visits[\"airmass\"].values,marker=\"+\",c=\"b\",lw=0)\n",
    "# Set x-axis to show dates\n",
    "# plt.gca().xaxis.set_major_formatter(mdates.DateFormatter('%Y-%m-%d %H:%M:%S'))\n",
    "plt.gca().xaxis.set_major_formatter(mdates.DateFormatter(\"%Y-%m-%dT%H\"))\n",
    "plt.gca().xaxis.set_major_locator(mdates.AutoDateLocator())\n",
    "\n",
    "# Rotate and format x-axis labels for readability\n",
    "# ax.set_xticks(rotation=45, ha=\"right\")\n",
    "# ax.set_ylim(2,0.9)\n",
    "ax.set_xlabel(\"Time\")\n",
    "ax.set_ylabel(\"Wind dir\")\n",
    "ax.set_title(f\"Wind direction vs Time\")\n",
    "ax.grid()\n",
    "\n",
    "plt.show()"
   ]
  },
  {
   "cell_type": "markdown",
   "id": "e9911a14-9306-48b4-932f-98e0ec0361c6",
   "metadata": {},
   "source": [
    "### Dimm_seeing vs time"
   ]
  },
  {
   "cell_type": "code",
   "execution_count": null,
   "id": "7caf3662-502d-4ee8-9e19-1bbe832f7cdc",
   "metadata": {
    "execution": {
     "iopub.execute_input": "2025-05-13T14:39:54.300525Z",
     "iopub.status.busy": "2025-05-13T14:39:54.300388Z",
     "iopub.status.idle": "2025-05-13T14:39:54.702076Z",
     "shell.execute_reply": "2025-05-13T14:39:54.700321Z",
     "shell.execute_reply.started": "2025-05-13T14:39:54.300511Z"
    }
   },
   "outputs": [],
   "source": [
    "fig, ax = plt.subplots(1, 1, figsize=(12, 4), layout=\"constrained\")\n",
    "\n",
    "df_visits.plot(x=\"exp_midpt\", y=\"dimm_seeing\", ax=ax, marker=\".\", lw=0, color=\"b\")\n",
    "# plt.plot(df_visits[\"exp_midpt\"].values,df_visits[\"airmass\"].values,marker=\"+\",c=\"b\",lw=0)\n",
    "# plt.plot(df_visits[\"exp_midpt\"].values,df_visits[\"airmass\"].values,marker=\"+\",c=\"b\",lw=0)\n",
    "# Set x-axis to show dates\n",
    "# plt.gca().xaxis.set_major_formatter(mdates.DateFormatter('%Y-%m-%d %H:%M:%S'))\n",
    "plt.gca().xaxis.set_major_formatter(mdates.DateFormatter(\"%Y-%m-%dT%H\"))\n",
    "plt.gca().xaxis.set_major_locator(mdates.AutoDateLocator())\n",
    "\n",
    "# Rotate and format x-axis labels for readability\n",
    "# ax.set_xticks(rotation=45, ha=\"right\")\n",
    "# ax.set_ylim(2,0.9)\n",
    "ax.set_xlabel(\"Time\")\n",
    "ax.set_ylabel(\"dimm seeing\")\n",
    "ax.set_title(f\"Dimm seeing vs Time\")\n",
    "ax.grid()\n",
    "\n",
    "plt.show()"
   ]
  },
  {
   "cell_type": "markdown",
   "id": "2623f8d4-b7dc-4d88-ae43-3a8a4ff4ab25",
   "metadata": {
    "execution": {
     "iopub.status.busy": "2025-05-07T20:05:17.128886Z",
     "iopub.status.idle": "2025-05-07T20:05:17.129046Z",
     "shell.execute_reply": "2025-05-07T20:05:17.128969Z",
     "shell.execute_reply.started": "2025-05-07T20:05:17.128961Z"
    }
   },
   "source": [
    "### Focus_z vs time"
   ]
  },
  {
   "cell_type": "code",
   "execution_count": null,
   "id": "3c246016-58ec-4be0-b855-1cad86f7de0f",
   "metadata": {
    "execution": {
     "iopub.status.busy": "2025-05-13T14:39:54.702565Z",
     "iopub.status.idle": "2025-05-13T14:39:54.702745Z",
     "shell.execute_reply": "2025-05-13T14:39:54.702662Z",
     "shell.execute_reply.started": "2025-05-13T14:39:54.702652Z"
    }
   },
   "outputs": [],
   "source": [
    "fig, ax = plt.subplots(1, 1, figsize=(12, 4), layout=\"constrained\")\n",
    "\n",
    "df_visits.plot(x=\"exp_midpt\", y=\"focus_z\", ax=ax, marker=\".\", lw=0, color=\"b\")\n",
    "# plt.plot(df_visits[\"exp_midpt\"].values,df_visits[\"airmass\"].values,marker=\"+\",c=\"b\",lw=0)\n",
    "# plt.plot(df_visits[\"exp_midpt\"].values,df_visits[\"airmass\"].values,marker=\"+\",c=\"b\",lw=0)\n",
    "# Set x-axis to show dates\n",
    "# plt.gca().xaxis.set_major_formatter(mdates.DateFormatter('%Y-%m-%d %H:%M:%S'))\n",
    "plt.gca().xaxis.set_major_formatter(mdates.DateFormatter(\"%Y-%m-%dT%H\"))\n",
    "plt.gca().xaxis.set_major_locator(mdates.AutoDateLocator())\n",
    "\n",
    "# Rotate and format x-axis labels for readability\n",
    "# ax.set_xticks(rotation=45, ha=\"right\")\n",
    "# ax.set_ylim(2,0.9)\n",
    "ax.set_xlabel(\"Time\")\n",
    "ax.set_ylabel(\"focus_z\")\n",
    "ax.set_title(\"Focus_z vs Time\")\n",
    "ax.grid()\n",
    "\n",
    "plt.show()"
   ]
  }
 ],
 "metadata": {
  "kernelspec": {
   "display_name": "LSST",
   "language": "python",
   "name": "lsst"
  },
  "language_info": {
   "codemirror_mode": {
    "name": "ipython",
    "version": 3
   },
   "file_extension": ".py",
   "mimetype": "text/x-python",
   "name": "python",
   "nbconvert_exporter": "python",
   "pygments_lexer": "ipython3",
   "version": "3.12.10"
  }
 },
 "nbformat": 4,
 "nbformat_minor": 5
}
