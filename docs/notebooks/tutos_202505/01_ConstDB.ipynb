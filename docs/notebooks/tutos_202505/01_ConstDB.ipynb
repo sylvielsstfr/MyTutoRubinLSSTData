{
 "cells": [
  {
   "cell_type": "markdown",
   "id": "4c50da0f-2a30-4761-9a29-c67185aab160",
   "metadata": {},
   "source": [
    "# Consdb for LSSTCam, LSSTComCam, Latiss and LSSTComCamSim\n",
    "\n",
    "- Creation date : 2025-04-28\n",
    "- last update : 2025-05-05 : Add Latiss ==> find data in 2022 - 2025\n",
    "- last update : 2025-05-07 : Search for LSSTComCamSim : https://usdf-rsp-dev.slac.stanford.edu/consdb/ and review all plots\n",
    "- https://usdf-rsp-dev.slac.stanford.edu/consdb/\n",
    "- Schemes for constdb : https://sdm-schemas.lsst.io/\n",
    "- Documentation : https://consdb.lsst.io/index.html\n",
    "- w_2025_10\n"
   ]
  },
  {
   "cell_type": "code",
   "execution_count": null,
   "id": "d9170f34-bf3d-4223-a737-89f81fe22a96",
   "metadata": {
    "execution": {
     "iopub.execute_input": "2025-05-07T20:36:57.762948Z",
     "iopub.status.busy": "2025-05-07T20:36:57.762823Z",
     "iopub.status.idle": "2025-05-07T20:37:06.484960Z",
     "shell.execute_reply": "2025-05-07T20:37:06.484478Z",
     "shell.execute_reply.started": "2025-05-07T20:36:57.762933Z"
    }
   },
   "outputs": [],
   "source": [
    "from lsst.summit.utils import ConsDbClient"
   ]
  },
  {
   "cell_type": "code",
   "execution_count": null,
   "id": "c9637cf5-efa5-4842-b39c-1e22ce097b1b",
   "metadata": {
    "execution": {
     "iopub.execute_input": "2025-05-07T20:37:06.485956Z",
     "iopub.status.busy": "2025-05-07T20:37:06.485457Z",
     "iopub.status.idle": "2025-05-07T20:37:06.538436Z",
     "shell.execute_reply": "2025-05-07T20:37:06.537992Z",
     "shell.execute_reply.started": "2025-05-07T20:37:06.485940Z"
    }
   },
   "outputs": [],
   "source": [
    "import numpy as np\n",
    "import pandas as pd\n",
    "\n",
    "import matplotlib.pyplot as plt\n",
    "import matplotlib.dates as mdates\n",
    "\n",
    "import matplotlib as mpl\n",
    "import matplotlib.cm as cm\n",
    "import matplotlib.colors as colors\n",
    "import matplotlib.cm as cmx\n",
    "from matplotlib.colors import ListedColormap\n",
    "\n",
    "import seaborn as sns\n",
    "\n",
    "%matplotlib widget\n",
    "\n",
    "from lsst.meas.algorithms.installGaussianPsf import FwhmPerSigma\n",
    "\n",
    "from tqdm.notebook import tqdm"
   ]
  },
  {
   "cell_type": "code",
   "execution_count": null,
   "id": "b328ebd9-693e-4114-aff3-69ce6124f798",
   "metadata": {
    "execution": {
     "iopub.execute_input": "2025-05-07T20:37:06.539420Z",
     "iopub.status.busy": "2025-05-07T20:37:06.538942Z",
     "iopub.status.idle": "2025-05-07T20:37:06.541872Z",
     "shell.execute_reply": "2025-05-07T20:37:06.541518Z",
     "shell.execute_reply.started": "2025-05-07T20:37:06.539404Z"
    }
   },
   "outputs": [],
   "source": [
    "# xx-small\n",
    "# x-small\n",
    "# small\n",
    "# medium\n",
    "# large\n",
    "# x-large\n",
    "# xx-large\n",
    "\n",
    "plt.rcParams[\"figure.figsize\"] = (10, 6)\n",
    "plt.rcParams[\"axes.labelsize\"] = \"x-large\"\n",
    "plt.rcParams[\"axes.titlesize\"] = \"x-large\"\n",
    "plt.rcParams[\"xtick.labelsize\"] = \"x-large\"\n",
    "plt.rcParams[\"ytick.labelsize\"] = \"x-large\""
   ]
  },
  {
   "cell_type": "code",
   "execution_count": null,
   "id": "46759823-0ab0-4792-9670-08d70280821d",
   "metadata": {
    "execution": {
     "iopub.execute_input": "2025-05-07T20:37:06.542401Z",
     "iopub.status.busy": "2025-05-07T20:37:06.542275Z",
     "iopub.status.idle": "2025-05-07T20:37:06.548522Z",
     "shell.execute_reply": "2025-05-07T20:37:06.548172Z",
     "shell.execute_reply.started": "2025-05-07T20:37:06.542388Z"
    }
   },
   "outputs": [],
   "source": [
    "from astropy.table import Table, join\n",
    "from astropy.time import Time\n",
    "from astropy.coordinates import SkyCoord\n",
    "from astropy import coordinates\n",
    "import astropy.coordinates as coord\n",
    "import astropy.units as u"
   ]
  },
  {
   "cell_type": "code",
   "execution_count": null,
   "id": "24490394-b03f-4aec-8907-8377f67c1df2",
   "metadata": {
    "execution": {
     "iopub.execute_input": "2025-05-07T20:37:06.549289Z",
     "iopub.status.busy": "2025-05-07T20:37:06.548938Z",
     "iopub.status.idle": "2025-05-07T20:37:06.555394Z",
     "shell.execute_reply": "2025-05-07T20:37:06.555037Z",
     "shell.execute_reply.started": "2025-05-07T20:37:06.549274Z"
    }
   },
   "outputs": [],
   "source": [
    "import lsst.geom as geom\n",
    "import lsst\n",
    "from lsst.geom import Angle"
   ]
  },
  {
   "cell_type": "code",
   "execution_count": null,
   "id": "338ce377-6a76-4474-8dfd-e94ee48c6cc8",
   "metadata": {
    "execution": {
     "iopub.execute_input": "2025-05-07T20:37:06.555995Z",
     "iopub.status.busy": "2025-05-07T20:37:06.555848Z",
     "iopub.status.idle": "2025-05-07T20:37:06.565463Z",
     "shell.execute_reply": "2025-05-07T20:37:06.565005Z",
     "shell.execute_reply.started": "2025-05-07T20:37:06.555982Z"
    }
   },
   "outputs": [],
   "source": [
    "# https://pipelines.lsst.io/modules/lsst.geom/getting-started.html\n",
    "func_degToRad = lambda x: Angle(x, lsst.geom.degrees).asRadians()\n",
    "func_zendtoAirmass = lambda x: 1.0 / np.cos(func_degToRad(x))\n",
    "# func_wrap = lambda x : Angle(x,lsst.geom.radians).wrap(180.*lsst.geom.degrees)"
   ]
  },
  {
   "cell_type": "code",
   "execution_count": null,
   "id": "048ec938-33a7-4f6c-8b67-1ab5343f07d8",
   "metadata": {
    "execution": {
     "iopub.execute_input": "2025-05-07T20:37:06.566106Z",
     "iopub.status.busy": "2025-05-07T20:37:06.565960Z",
     "iopub.status.idle": "2025-05-07T20:37:06.573430Z",
     "shell.execute_reply": "2025-05-07T20:37:06.572861Z",
     "shell.execute_reply.started": "2025-05-07T20:37:06.566091Z"
    }
   },
   "outputs": [],
   "source": [
    "def ra_to_mollweide(ra_rad):\n",
    "    \"\"\"\n",
    "    Transforme une ascension droite (RA en radians) pour une projection Mollweide :\n",
    "    - RA doit être d'abord dans [0, 2π]\n",
    "    - Puis ramené dans [-π, +π] pour correspondre au domaine Mollweide\n",
    "    - Puis inversé pour que RA croisse vers la gauche sur la carte\n",
    "\n",
    "    Paramètre:\n",
    "    - ra_rad : array ou scalaire de RA en radians\n",
    "\n",
    "    Retourne:\n",
    "    - RA transformé pour projection Mollweide\n",
    "\n",
    "    Discussion avec ChatGPT verifiée le 28/04/2025\n",
    "    \"\"\"\n",
    "\n",
    "    # 1) Assurer que RA est entre 0 et 2π\n",
    "    ra_rad = np.remainder(ra_rad + 2 * np.pi, 2 * np.pi)\n",
    "\n",
    "    # 2) Remettre RA entre -π et +π\n",
    "    ra_rad[ra_rad > np.pi] -= 2 * np.pi\n",
    "\n",
    "    # 3) Inverser RA pour que RA croisse vers la gauche\n",
    "    return -ra_rad"
   ]
  },
  {
   "cell_type": "markdown",
   "id": "644d0a4b-7193-46b5-85c8-638ac7207b4f",
   "metadata": {},
   "source": [
    "## Configuration"
   ]
  },
  {
   "cell_type": "markdown",
   "id": "783b3eb5-eaec-4bf1-86f4-4ecfbec2aec8",
   "metadata": {},
   "source": [
    "### Choose instrument"
   ]
  },
  {
   "cell_type": "code",
   "execution_count": null,
   "id": "7ce654a6-f761-478f-8133-b5e07868ed40",
   "metadata": {
    "execution": {
     "iopub.execute_input": "2025-05-07T20:37:06.574036Z",
     "iopub.status.busy": "2025-05-07T20:37:06.573905Z",
     "iopub.status.idle": "2025-05-07T20:37:06.578952Z",
     "shell.execute_reply": "2025-05-07T20:37:06.578536Z",
     "shell.execute_reply.started": "2025-05-07T20:37:06.574022Z"
    }
   },
   "outputs": [],
   "source": [
    "# instrument = \"LSSTCam\"\n",
    "# instrument = \"LSSTComCam\"\n",
    "# instrument = \"LATISS\" # data since 20221001\n",
    "instrument = \"LSSTComCamSim\""
   ]
  },
  {
   "cell_type": "code",
   "execution_count": null,
   "id": "fd95a0ea-f58f-4672-afe0-fc3f3f80cfc1",
   "metadata": {
    "execution": {
     "iopub.execute_input": "2025-05-07T20:37:06.579547Z",
     "iopub.status.busy": "2025-05-07T20:37:06.579413Z",
     "iopub.status.idle": "2025-05-07T20:37:06.585851Z",
     "shell.execute_reply": "2025-05-07T20:37:06.585498Z",
     "shell.execute_reply.started": "2025-05-07T20:37:06.579533Z"
    }
   },
   "outputs": [],
   "source": [
    "os.environ[\"no_proxy\"] += \",.consdb\""
   ]
  },
  {
   "cell_type": "code",
   "execution_count": null,
   "id": "8c679aa8-2199-4e02-9354-aafa7f114f91",
   "metadata": {
    "execution": {
     "iopub.execute_input": "2025-05-07T20:37:06.586379Z",
     "iopub.status.busy": "2025-05-07T20:37:06.586252Z",
     "iopub.status.idle": "2025-05-07T20:37:06.592991Z",
     "shell.execute_reply": "2025-05-07T20:37:06.592625Z",
     "shell.execute_reply.started": "2025-05-07T20:37:06.586366Z"
    }
   },
   "outputs": [],
   "source": [
    "url = \"http://consdb-pq.consdb:8080/consdb\""
   ]
  },
  {
   "cell_type": "code",
   "execution_count": null,
   "id": "396043d3-35d4-45f8-bea4-af2ae6af74cd",
   "metadata": {
    "execution": {
     "iopub.execute_input": "2025-05-07T20:37:06.593667Z",
     "iopub.status.busy": "2025-05-07T20:37:06.593425Z",
     "iopub.status.idle": "2025-05-07T20:37:06.600263Z",
     "shell.execute_reply": "2025-05-07T20:37:06.599894Z",
     "shell.execute_reply.started": "2025-05-07T20:37:06.593653Z"
    }
   },
   "outputs": [],
   "source": [
    "consdb = ConsDbClient(url)"
   ]
  },
  {
   "cell_type": "markdown",
   "id": "45ac7b79-cc4a-4abf-8afb-db5e575b894a",
   "metadata": {},
   "source": [
    "https://sdm-schemas.lsst.io/cdb_lsstcomcam.html#exposure"
   ]
  },
  {
   "cell_type": "code",
   "execution_count": null,
   "id": "f015c934-ce60-4833-af60-a0514f33ddcd",
   "metadata": {
    "execution": {
     "iopub.execute_input": "2025-05-07T20:37:06.600932Z",
     "iopub.status.busy": "2025-05-07T20:37:06.600695Z",
     "iopub.status.idle": "2025-05-07T20:37:06.932310Z",
     "shell.execute_reply": "2025-05-07T20:37:06.931822Z",
     "shell.execute_reply.started": "2025-05-07T20:37:06.600918Z"
    }
   },
   "outputs": [],
   "source": [
    "# Query both consDB tables\n",
    "# exposure = consdb.query(\"SELECT * FROM cdb_lsstcam.exposure WHERE science_program = 'BLOCK-351'\")\n",
    "# visits = consdb.query(\"SELECT * FROM cdb_lsstcam.visit1 WHERE science_program = 'BLOCK-351'\")\n",
    "# visits_ql = consdb.query(\"SELECT * FROM cdb_lsstcam.visit1_quicklook\")\n",
    "# visits_ql = consdb.query(\"SELECT * FROM cdb_lsstcam.visit1\")\n",
    "\n",
    "if instrument == \"LSSTCam\":\n",
    "    exposures = consdb.query(\"SELECT * FROM cdb_lsstcam.exposure WHERE day_obs >= 20250415\")\n",
    "    visits = consdb.query(\"SELECT * FROM cdb_lsstcam.visit1 WHERE day_obs >= 20250415\")\n",
    "\n",
    "elif instrument == \"LSSTComCam\":\n",
    "    exposures = consdb.query(\"SELECT * FROM cdb_lsstcomcam.exposure WHERE day_obs >= 20241021\")\n",
    "    visits = consdb.query(\"SELECT * FROM cdb_lsstcomcam.visit1 WHERE day_obs >= 20241021\")\n",
    "\n",
    "elif instrument == \"LATISS\":\n",
    "    exposures = consdb.query(\"SELECT * FROM cdb_latiss.exposure WHERE day_obs >= 20220101\")\n",
    "    visits = consdb.query(\"SELECT * FROM cdb_latiss.visit1 WHERE day_obs >= 20220101\")\n",
    "\n",
    "elif instrument == \"LSSTComCamSim\":\n",
    "    # 3 nights of simulation\n",
    "    # collection1 = 'LSSTComCamSim/runs/nightlyvalidation/20240402/d_2024_03_29/DM-43612'\n",
    "    # collection2 = 'LSSTComCamSim/runs/nightlyvalidation/20240403/d_2024_03_29/DM-43612'\n",
    "    # collection3 = 'LSSTComCamSim/runs/nightlyvalidation/20240404/d_2024_03_29/DM-43612'\n",
    "    # exposure = consdb.query(\"SELECT * FROM cdb_lsstcomcamsim.exposure WHERE day_obs >= 202404002\")\n",
    "    # visits = consdb.query(\"SELECT * FROM cdb_lsstcomcamsim.visit1 WHERE day_obs >= 202404002\")\n",
    "    exposures = consdb.query(\"SELECT * FROM cdb_lsstcomcamsim.exposure WHERE day_obs >= 20240402\")\n",
    "    visits = consdb.query(\"SELECT * FROM cdb_lsstcomcamsim.visit1 WHERE day_obs >= 20240402\")\n",
    "\n",
    "\n",
    "else:\n",
    "    raise (f\"This notebook has not implemented a SQL query to ConsDB for the {instrument}\")\n",
    "\n",
    "\n",
    "# Join using astropy's join function on 'visit_id'\n",
    "# exposure_join = exposure.rename_column(\"exposure_id\", \"visit_id\")\n",
    "# merged_exposure = join(exposure, visits, keys=\"visit_id\", join_type=\"inner\")\n",
    "# merged_visits = join(visits, visits_ql, keys=\"visit_id\", join_type=\"inner\")\n",
    "\n",
    "# Display or use the merged table\n",
    "# print(merged_visits)"
   ]
  },
  {
   "cell_type": "code",
   "execution_count": null,
   "id": "a881f145-677c-47c7-8a1f-44557bdc7a41",
   "metadata": {
    "execution": {
     "iopub.execute_input": "2025-05-07T20:37:06.933124Z",
     "iopub.status.busy": "2025-05-07T20:37:06.932982Z",
     "iopub.status.idle": "2025-05-07T20:37:06.935745Z",
     "shell.execute_reply": "2025-05-07T20:37:06.935388Z",
     "shell.execute_reply.started": "2025-05-07T20:37:06.933110Z"
    }
   },
   "outputs": [],
   "source": [
    "print(visits.columns)"
   ]
  },
  {
   "cell_type": "code",
   "execution_count": null,
   "id": "a181f923-d5df-4ce2-a8a0-c1d2c53e3a71",
   "metadata": {
    "execution": {
     "iopub.execute_input": "2025-05-07T20:37:06.936289Z",
     "iopub.status.busy": "2025-05-07T20:37:06.936167Z",
     "iopub.status.idle": "2025-05-07T20:37:06.943257Z",
     "shell.execute_reply": "2025-05-07T20:37:06.942905Z",
     "shell.execute_reply.started": "2025-05-07T20:37:06.936277Z"
    }
   },
   "outputs": [],
   "source": [
    "print(exposures.columns)"
   ]
  },
  {
   "cell_type": "code",
   "execution_count": null,
   "id": "fd2cb4dc-ecdb-48dc-8619-79e1f260dbba",
   "metadata": {
    "execution": {
     "iopub.execute_input": "2025-05-07T20:37:06.943784Z",
     "iopub.status.busy": "2025-05-07T20:37:06.943663Z",
     "iopub.status.idle": "2025-05-07T20:37:06.965024Z",
     "shell.execute_reply": "2025-05-07T20:37:06.964480Z",
     "shell.execute_reply.started": "2025-05-07T20:37:06.943772Z"
    }
   },
   "outputs": [],
   "source": [
    "df_exposures = exposures.to_pandas()\n",
    "df_visits = visits.to_pandas()"
   ]
  },
  {
   "cell_type": "code",
   "execution_count": null,
   "id": "c40bda8e-cb26-4506-a8a2-b4a1946d068b",
   "metadata": {
    "execution": {
     "iopub.execute_input": "2025-05-07T20:37:06.965819Z",
     "iopub.status.busy": "2025-05-07T20:37:06.965633Z",
     "iopub.status.idle": "2025-05-07T20:37:06.980551Z",
     "shell.execute_reply": "2025-05-07T20:37:06.980093Z",
     "shell.execute_reply.started": "2025-05-07T20:37:06.965801Z"
    }
   },
   "outputs": [],
   "source": [
    "df_exposures.head()"
   ]
  },
  {
   "cell_type": "code",
   "execution_count": null,
   "id": "ff85db52-4397-4728-b8e5-c370ce207603",
   "metadata": {
    "execution": {
     "iopub.execute_input": "2025-05-07T20:37:06.981228Z",
     "iopub.status.busy": "2025-05-07T20:37:06.981085Z",
     "iopub.status.idle": "2025-05-07T20:37:06.990971Z",
     "shell.execute_reply": "2025-05-07T20:37:06.990578Z",
     "shell.execute_reply.started": "2025-05-07T20:37:06.981213Z"
    }
   },
   "outputs": [],
   "source": [
    "df_visits.head()"
   ]
  },
  {
   "cell_type": "code",
   "execution_count": null,
   "id": "bf768b8d-c3e5-4b26-a72f-1f78a7255ceb",
   "metadata": {
    "execution": {
     "iopub.execute_input": "2025-05-07T20:37:06.994975Z",
     "iopub.status.busy": "2025-05-07T20:37:06.994572Z",
     "iopub.status.idle": "2025-05-07T20:37:07.006744Z",
     "shell.execute_reply": "2025-05-07T20:37:07.006281Z",
     "shell.execute_reply.started": "2025-05-07T20:37:06.994960Z"
    }
   },
   "outputs": [],
   "source": [
    "df_visits.dropna(subset=[\"zenith_distance_start\", \"exp_midpt_mjd\"])[\n",
    "    [\"zenith_distance_start\", \"exp_midpt_mjd\"]\n",
    "]"
   ]
  },
  {
   "cell_type": "code",
   "execution_count": null,
   "id": "c03afe96-d821-43dd-a090-8e52919d3a9c",
   "metadata": {
    "execution": {
     "iopub.execute_input": "2025-05-07T20:37:07.007416Z",
     "iopub.status.busy": "2025-05-07T20:37:07.007278Z",
     "iopub.status.idle": "2025-05-07T20:37:07.012018Z",
     "shell.execute_reply": "2025-05-07T20:37:07.011598Z",
     "shell.execute_reply.started": "2025-05-07T20:37:07.007401Z"
    }
   },
   "outputs": [],
   "source": [
    "df_visits = df_visits.dropna(subset=[\"zenith_distance_start\", \"exp_midpt_mjd\"])"
   ]
  },
  {
   "cell_type": "code",
   "execution_count": null,
   "id": "53b23ed9-e191-4d50-aa5e-7241553b1670",
   "metadata": {
    "execution": {
     "iopub.execute_input": "2025-05-07T20:37:07.012692Z",
     "iopub.status.busy": "2025-05-07T20:37:07.012483Z",
     "iopub.status.idle": "2025-05-07T20:37:07.021312Z",
     "shell.execute_reply": "2025-05-07T20:37:07.020946Z",
     "shell.execute_reply.started": "2025-05-07T20:37:07.012678Z"
    }
   },
   "outputs": [],
   "source": [
    "df_visits[[\"day_obs\", \"zenith_distance_start\", \"exp_midpt_mjd\"]]"
   ]
  },
  {
   "cell_type": "markdown",
   "id": "9f012286-63dd-4f6b-a31c-50747ef8c689",
   "metadata": {},
   "source": [
    "### Don't see the difference between the visits and the exposures !"
   ]
  },
  {
   "cell_type": "markdown",
   "id": "24d47919-04af-45ea-a70e-3f9e3d4e2be2",
   "metadata": {},
   "source": [
    "## Explore the visit info in consdb"
   ]
  },
  {
   "cell_type": "markdown",
   "id": "aef71a12-6d56-4b56-a49e-68ad90e2bc52",
   "metadata": {},
   "source": [
    "### Observation dates"
   ]
  },
  {
   "cell_type": "code",
   "execution_count": null,
   "id": "cb3cde1c-8ef3-4fa3-b4ce-4801747637f6",
   "metadata": {
    "execution": {
     "iopub.execute_input": "2025-05-07T20:37:07.021844Z",
     "iopub.status.busy": "2025-05-07T20:37:07.021713Z",
     "iopub.status.idle": "2025-05-07T20:37:07.028285Z",
     "shell.execute_reply": "2025-05-07T20:37:07.027885Z",
     "shell.execute_reply.started": "2025-05-07T20:37:07.021830Z"
    }
   },
   "outputs": [],
   "source": [
    "df_visits[\"day_obs\"].unique()"
   ]
  },
  {
   "cell_type": "code",
   "execution_count": null,
   "id": "aee5f54c-d244-4221-897a-3d7eddf37a72",
   "metadata": {
    "execution": {
     "iopub.execute_input": "2025-05-07T20:37:07.029120Z",
     "iopub.status.busy": "2025-05-07T20:37:07.028723Z",
     "iopub.status.idle": "2025-05-07T20:37:07.503750Z",
     "shell.execute_reply": "2025-05-07T20:37:07.503251Z",
     "shell.execute_reply.started": "2025-05-07T20:37:07.029106Z"
    }
   },
   "outputs": [],
   "source": [
    "if instrument == \"LSSTComCamSim\":\n",
    "    # selection_cut = (df_visits[\"day_obs\"] <= 20240404)\n",
    "    # df_visits = df_visits[selection_cut]\n",
    "    # exclude nodate no zenith value\n",
    "    # df_visits = df_visits.dropna(subset=['exp_midpt_mjd'])\n",
    "    df_visits = df_visits.dropna(subset=[\"zenith_distance_start\", \"exp_midpt_mjd\"])\n",
    "\n",
    "    # df_visits.dropna(subset=['zenith_distance_start','exp_midpt_mjd'],inplace=True)\n",
    "    dt = [Time(mjd, format=\"mjd\", scale=\"utc\").isot for mjd in df_visits[\"exp_midpt_mjd\"].values]\n",
    "    # convert the MJD time in ISO 8601\n",
    "    df_visits[\"exp_midpt\"] = dt\n",
    "\n",
    "    df_visits[\"airmass\"] = df_visits[\"zenith_distance_start\"].apply(lambda x: 1 / np.cos(x / 180.0 * np.pi))"
   ]
  },
  {
   "cell_type": "code",
   "execution_count": null,
   "id": "9e598585-eb1b-4b35-854c-a28ae6f343e3",
   "metadata": {
    "execution": {
     "iopub.execute_input": "2025-05-07T20:37:07.504414Z",
     "iopub.status.busy": "2025-05-07T20:37:07.504282Z",
     "iopub.status.idle": "2025-05-07T20:37:07.517533Z",
     "shell.execute_reply": "2025-05-07T20:37:07.517092Z",
     "shell.execute_reply.started": "2025-05-07T20:37:07.504401Z"
    }
   },
   "outputs": [],
   "source": [
    "df_visits"
   ]
  },
  {
   "cell_type": "markdown",
   "id": "0dddfbfb-bcab-46a0-a2e4-629d80284aab",
   "metadata": {},
   "source": [
    "### Filters"
   ]
  },
  {
   "cell_type": "code",
   "execution_count": null,
   "id": "5dd87d43-7d1e-47ba-9205-db72babd45aa",
   "metadata": {
    "execution": {
     "iopub.execute_input": "2025-05-07T20:37:07.518118Z",
     "iopub.status.busy": "2025-05-07T20:37:07.517974Z",
     "iopub.status.idle": "2025-05-07T20:37:07.521065Z",
     "shell.execute_reply": "2025-05-07T20:37:07.520667Z",
     "shell.execute_reply.started": "2025-05-07T20:37:07.518102Z"
    }
   },
   "outputs": [],
   "source": [
    "print(df_visits[\"physical_filter\"].unique(), df_visits[\"band\"].unique())"
   ]
  },
  {
   "cell_type": "markdown",
   "id": "556dddfc-0078-4705-9c95-837b0efc67ad",
   "metadata": {},
   "source": [
    "### Remove bad filters"
   ]
  },
  {
   "cell_type": "code",
   "execution_count": null,
   "id": "4ed380c3-cb37-447f-9f9a-ded21af7f83e",
   "metadata": {
    "execution": {
     "iopub.execute_input": "2025-05-07T20:37:07.521595Z",
     "iopub.status.busy": "2025-05-07T20:37:07.521467Z",
     "iopub.status.idle": "2025-05-07T20:37:07.530154Z",
     "shell.execute_reply": "2025-05-07T20:37:07.529752Z",
     "shell.execute_reply.started": "2025-05-07T20:37:07.521582Z"
    }
   },
   "outputs": [],
   "source": [
    "df_visits = df_visits[\n",
    "    ~(\n",
    "        (df_visits[\"physical_filter\"] == \"other\")\n",
    "        | (df_visits[\"physical_filter\"] == \"none\")\n",
    "        | (df_visits[\"physical_filter\"] == \"other:pinhole\")\n",
    "        | (\"pinhole\" in df_visits[\"physical_filter\"])\n",
    "        | (\"cyl_lens\" in df_visits[\"physical_filter\"])\n",
    "    )\n",
    "]"
   ]
  },
  {
   "cell_type": "markdown",
   "id": "01006283-a5ba-4b92-a7f4-03a74031b2f5",
   "metadata": {},
   "source": [
    "### Remove rows  with bad ra and dec"
   ]
  },
  {
   "cell_type": "code",
   "execution_count": null,
   "id": "72d90294-9658-4c96-b258-4a158c341dfc",
   "metadata": {
    "execution": {
     "iopub.execute_input": "2025-05-07T20:37:07.530879Z",
     "iopub.status.busy": "2025-05-07T20:37:07.530601Z",
     "iopub.status.idle": "2025-05-07T20:37:07.536808Z",
     "shell.execute_reply": "2025-05-07T20:37:07.536448Z",
     "shell.execute_reply.started": "2025-05-07T20:37:07.530864Z"
    }
   },
   "outputs": [],
   "source": [
    "df_visits = df_visits.dropna(subset=[\"s_ra\", \"s_dec\"])"
   ]
  },
  {
   "cell_type": "markdown",
   "id": "f90548eb-3722-4973-be9c-ab932088d70d",
   "metadata": {},
   "source": [
    "### Science program and observation reason"
   ]
  },
  {
   "cell_type": "code",
   "execution_count": null,
   "id": "b8cc4dd2-9b22-4a2e-8b2f-a5ce2525411b",
   "metadata": {
    "execution": {
     "iopub.execute_input": "2025-05-07T20:37:07.537389Z",
     "iopub.status.busy": "2025-05-07T20:37:07.537260Z",
     "iopub.status.idle": "2025-05-07T20:37:07.544767Z",
     "shell.execute_reply": "2025-05-07T20:37:07.544405Z",
     "shell.execute_reply.started": "2025-05-07T20:37:07.537375Z"
    }
   },
   "outputs": [],
   "source": [
    "df_visits[\"science_program\"].unique()"
   ]
  },
  {
   "cell_type": "code",
   "execution_count": null,
   "id": "9fd86ee6-48ce-4494-adf9-cc444c89d508",
   "metadata": {
    "execution": {
     "iopub.execute_input": "2025-05-07T20:37:07.545330Z",
     "iopub.status.busy": "2025-05-07T20:37:07.545202Z",
     "iopub.status.idle": "2025-05-07T20:37:07.552139Z",
     "shell.execute_reply": "2025-05-07T20:37:07.551793Z",
     "shell.execute_reply.started": "2025-05-07T20:37:07.545317Z"
    }
   },
   "outputs": [],
   "source": [
    "df_visits[\"observation_reason\"].unique()"
   ]
  },
  {
   "cell_type": "markdown",
   "id": "bea6fce7-7d00-4065-9b67-b2ccc13a5364",
   "metadata": {},
   "source": [
    "### Check bands"
   ]
  },
  {
   "cell_type": "code",
   "execution_count": null,
   "id": "df640770-3efb-476b-9cd7-d94528f54308",
   "metadata": {
    "execution": {
     "iopub.execute_input": "2025-05-07T20:37:07.552686Z",
     "iopub.status.busy": "2025-05-07T20:37:07.552561Z",
     "iopub.status.idle": "2025-05-07T20:37:07.559789Z",
     "shell.execute_reply": "2025-05-07T20:37:07.559442Z",
     "shell.execute_reply.started": "2025-05-07T20:37:07.552673Z"
    }
   },
   "outputs": [],
   "source": [
    "df_visits.band.unique()"
   ]
  },
  {
   "cell_type": "markdown",
   "id": "f2a46c3b-20c1-4ce0-8db7-b4ab24ac1a12",
   "metadata": {},
   "source": [
    "### Time exposure"
   ]
  },
  {
   "cell_type": "code",
   "execution_count": null,
   "id": "5445457f-75d5-4d82-88ea-2d3f5bcdf4dc",
   "metadata": {
    "execution": {
     "iopub.execute_input": "2025-05-07T20:37:07.560331Z",
     "iopub.status.busy": "2025-05-07T20:37:07.560206Z",
     "iopub.status.idle": "2025-05-07T20:37:07.566978Z",
     "shell.execute_reply": "2025-05-07T20:37:07.566621Z",
     "shell.execute_reply.started": "2025-05-07T20:37:07.560318Z"
    }
   },
   "outputs": [],
   "source": [
    "# add missing column in table\n",
    "if instrument == \"LSSTComCamSim\":\n",
    "    df_visits[\"exp_time\"] = 30.0"
   ]
  },
  {
   "cell_type": "code",
   "execution_count": null,
   "id": "4f5bbbdc-fa6c-45ab-bc4d-d5ee84ae75f9",
   "metadata": {
    "execution": {
     "iopub.execute_input": "2025-05-07T20:37:07.567733Z",
     "iopub.status.busy": "2025-05-07T20:37:07.567411Z",
     "iopub.status.idle": "2025-05-07T20:37:07.655223Z",
     "shell.execute_reply": "2025-05-07T20:37:07.654804Z",
     "shell.execute_reply.started": "2025-05-07T20:37:07.567718Z"
    }
   },
   "outputs": [],
   "source": [
    "fig, ax = plt.subplots(1, 1, figsize=(8, 4))\n",
    "ax.hist(df_visits[\"exp_time\"].values, bins=50, facecolor=\"b\")\n",
    "plt.show()"
   ]
  },
  {
   "cell_type": "markdown",
   "id": "21441f79-45ef-4022-808f-9957a87a0ad1",
   "metadata": {},
   "source": [
    "## Region in sky"
   ]
  },
  {
   "cell_type": "code",
   "execution_count": null,
   "id": "133fe6ce-6ad5-40ed-a097-40a3662d80df",
   "metadata": {
    "execution": {
     "iopub.execute_input": "2025-05-07T20:37:07.656003Z",
     "iopub.status.busy": "2025-05-07T20:37:07.655749Z",
     "iopub.status.idle": "2025-05-07T20:37:07.658711Z",
     "shell.execute_reply": "2025-05-07T20:37:07.658344Z",
     "shell.execute_reply.started": "2025-05-07T20:37:07.655987Z"
    }
   },
   "outputs": [],
   "source": [
    "dict_b_to_col = {\n",
    "    \"u\": \"b\",\n",
    "    \"g\": \"g\",\n",
    "    \"r\": \"r\",\n",
    "    \"i\": \"orange\",\n",
    "    \"z\": \"magenta\",\n",
    "    \"y\": \"purple\",\n",
    "    \"other\": \"grey\",\n",
    "    \"none\": \"k\",\n",
    "    None: \"k\",\n",
    "    \"other:pinhole\": \"grey\",\n",
    "    \"EMPTY\": \"grey\",\n",
    "    \"white\": \"grey\",\n",
    "}"
   ]
  },
  {
   "cell_type": "code",
   "execution_count": null,
   "id": "5ee65e5b-3d0a-4fef-8a41-cd853c7c9e4f",
   "metadata": {
    "execution": {
     "iopub.execute_input": "2025-05-07T20:37:07.659422Z",
     "iopub.status.busy": "2025-05-07T20:37:07.659141Z",
     "iopub.status.idle": "2025-05-07T20:37:07.666680Z",
     "shell.execute_reply": "2025-05-07T20:37:07.666319Z",
     "shell.execute_reply.started": "2025-05-07T20:37:07.659407Z"
    }
   },
   "outputs": [],
   "source": [
    "col = df_visits[\"band\"].map(lambda b: dict_b_to_col[b]).values"
   ]
  },
  {
   "cell_type": "code",
   "execution_count": null,
   "id": "10ea14f9-5bd4-4c0f-b117-69b7db9886dd",
   "metadata": {
    "execution": {
     "iopub.execute_input": "2025-05-07T20:37:07.667427Z",
     "iopub.status.busy": "2025-05-07T20:37:07.667117Z",
     "iopub.status.idle": "2025-05-07T20:37:07.674523Z",
     "shell.execute_reply": "2025-05-07T20:37:07.674152Z",
     "shell.execute_reply.started": "2025-05-07T20:37:07.667412Z"
    }
   },
   "outputs": [],
   "source": [
    "col"
   ]
  },
  {
   "cell_type": "code",
   "execution_count": null,
   "id": "0f66774d-07a3-4289-95ef-8989fed64ab7",
   "metadata": {
    "execution": {
     "iopub.execute_input": "2025-05-07T20:37:07.675108Z",
     "iopub.status.busy": "2025-05-07T20:37:07.674959Z",
     "iopub.status.idle": "2025-05-07T20:37:07.961092Z",
     "shell.execute_reply": "2025-05-07T20:37:07.960625Z",
     "shell.execute_reply.started": "2025-05-07T20:37:07.675093Z"
    }
   },
   "outputs": [],
   "source": [
    "palette_spectral = sns.color_palette(\"Spectral_r\", as_cmap=True)\n",
    "cmap_time = ListedColormap(sns.color_palette(\"Spectral_r\", df_visits.size))\n",
    "dt = df_visits[\"obs_start_mjd\"].values - df_visits[\"obs_start_mjd\"].min()\n",
    "dtmin = dt.min()\n",
    "dtmax = dt.max()"
   ]
  },
  {
   "cell_type": "code",
   "execution_count": null,
   "id": "15cd0a56-3e44-4924-9080-e741dd1bf3b6",
   "metadata": {
    "execution": {
     "iopub.execute_input": "2025-05-07T20:37:07.961786Z",
     "iopub.status.busy": "2025-05-07T20:37:07.961649Z",
     "iopub.status.idle": "2025-05-07T20:37:08.162566Z",
     "shell.execute_reply": "2025-05-07T20:37:08.162154Z",
     "shell.execute_reply.started": "2025-05-07T20:37:07.961772Z"
    }
   },
   "outputs": [],
   "source": [
    "fig, ax = plt.subplots(1, 1, figsize=(12, 6))\n",
    "im = df_visits.plot.scatter(x=\"s_ra\", y=\"s_dec\", ax=ax, c=dt, cmap=cmap_time)\n",
    "ax.grid()\n",
    "ax.set_aspect(\"equal\")\n",
    "# cbar = plt.colorbar(im, orientation='horizontal', label='time(days)')\n",
    "plt.show()"
   ]
  },
  {
   "cell_type": "code",
   "execution_count": null,
   "id": "9e6ce737-28e5-4d28-8db2-858485517866",
   "metadata": {
    "execution": {
     "iopub.execute_input": "2025-05-07T20:37:08.163223Z",
     "iopub.status.busy": "2025-05-07T20:37:08.163084Z",
     "iopub.status.idle": "2025-05-07T20:37:08.166234Z",
     "shell.execute_reply": "2025-05-07T20:37:08.165868Z",
     "shell.execute_reply.started": "2025-05-07T20:37:08.163209Z"
    }
   },
   "outputs": [],
   "source": [
    "palette_spectral = sns.color_palette(\"Spectral_r\", as_cmap=True)"
   ]
  },
  {
   "cell_type": "code",
   "execution_count": null,
   "id": "7746fe8f-7c82-4ddf-a624-3d65f9404563",
   "metadata": {
    "execution": {
     "iopub.execute_input": "2025-05-07T20:37:08.166879Z",
     "iopub.status.busy": "2025-05-07T20:37:08.166751Z",
     "iopub.status.idle": "2025-05-07T20:37:08.435767Z",
     "shell.execute_reply": "2025-05-07T20:37:08.435316Z",
     "shell.execute_reply.started": "2025-05-07T20:37:08.166867Z"
    }
   },
   "outputs": [],
   "source": [
    "cmap_time = ListedColormap(sns.color_palette(\"Spectral\", df_visits.size))"
   ]
  },
  {
   "cell_type": "code",
   "execution_count": null,
   "id": "a9968ad6-6c5b-4855-a400-a769cb5ad52e",
   "metadata": {
    "execution": {
     "iopub.execute_input": "2025-05-07T20:37:08.436482Z",
     "iopub.status.busy": "2025-05-07T20:37:08.436336Z",
     "iopub.status.idle": "2025-05-07T20:37:08.439834Z",
     "shell.execute_reply": "2025-05-07T20:37:08.439430Z",
     "shell.execute_reply.started": "2025-05-07T20:37:08.436466Z"
    }
   },
   "outputs": [],
   "source": [
    "dt = df_visits[\"obs_start_mjd\"].values - df_visits[\"obs_start_mjd\"].min()"
   ]
  },
  {
   "cell_type": "code",
   "execution_count": null,
   "id": "358735fd-81de-42de-aa1e-930d5764d562",
   "metadata": {
    "execution": {
     "iopub.execute_input": "2025-05-07T20:37:08.440460Z",
     "iopub.status.busy": "2025-05-07T20:37:08.440325Z",
     "iopub.status.idle": "2025-05-07T20:37:08.447690Z",
     "shell.execute_reply": "2025-05-07T20:37:08.447354Z",
     "shell.execute_reply.started": "2025-05-07T20:37:08.440445Z"
    }
   },
   "outputs": [],
   "source": [
    "dtmin = dt.min()\n",
    "dtmax = dt.max()"
   ]
  },
  {
   "cell_type": "code",
   "execution_count": null,
   "id": "2227d182-4ddb-4032-a963-83fbb78fff46",
   "metadata": {
    "execution": {
     "iopub.execute_input": "2025-05-07T20:37:08.448234Z",
     "iopub.status.busy": "2025-05-07T20:37:08.448107Z",
     "iopub.status.idle": "2025-05-07T20:37:08.462869Z",
     "shell.execute_reply": "2025-05-07T20:37:08.462525Z",
     "shell.execute_reply.started": "2025-05-07T20:37:08.448221Z"
    }
   },
   "outputs": [],
   "source": [
    "ra_g = df_visits[\"s_ra\"].apply(func_degToRad)\n",
    "dec_g = df_visits[\"s_dec\"].apply(func_degToRad)\n",
    "\n",
    "# ra_g = coordinates.Angle(df_visits['s_ra'].values,unit=\"deg\").radian\n",
    "# dec_g = coordinates.Angle(df_visits['s_dec'].values,unit=\"deg\").radian"
   ]
  },
  {
   "cell_type": "code",
   "execution_count": null,
   "id": "ec5ce7aa-3ff8-4684-975d-038c5b56f00e",
   "metadata": {
    "execution": {
     "iopub.execute_input": "2025-05-07T20:37:08.463586Z",
     "iopub.status.busy": "2025-05-07T20:37:08.463281Z",
     "iopub.status.idle": "2025-05-07T20:37:08.472612Z",
     "shell.execute_reply": "2025-05-07T20:37:08.472244Z",
     "shell.execute_reply.started": "2025-05-07T20:37:08.463572Z"
    }
   },
   "outputs": [],
   "source": [
    "# Galactic plane\n",
    "gal_long = np.linspace(-180.0, 180, 360)\n",
    "gal_lat = np.zeros((360))\n",
    "coordinates_galactic_planes = SkyCoord(l=gal_long * u.degree, b=gal_lat * u.degree, frame=\"galactic\")\n",
    "gp_radec = coordinates_galactic_planes.transform_to(\"icrs\")\n",
    "\n",
    "# for galactic plane\n",
    "# gp_radec.ra : 0., 360.\n",
    "# gp_radec.dec : -90, 90\n",
    "# Old method\n",
    "# gp_ra_toplot = coordinates.Angle(gp_radec.ra.degree*u.degree)\n",
    "# gp_ra_toplot = gp_ra_toplot.wrap_at(180*u.degree)\n",
    "# gp_ra_toplot -180, 180\n",
    "\n",
    "# new method in radian with ra_to_mollweide\n",
    "gp_ra_toplot = ra_to_mollweide(gp_radec.ra.radian)\n",
    "gp_dec_toplot = gp_radec.dec.radian"
   ]
  },
  {
   "cell_type": "code",
   "execution_count": null,
   "id": "527a501a-41fd-4bb1-8db5-22c9d70fba5a",
   "metadata": {
    "execution": {
     "iopub.execute_input": "2025-05-07T20:37:08.473172Z",
     "iopub.status.busy": "2025-05-07T20:37:08.473030Z",
     "iopub.status.idle": "2025-05-07T20:37:08.541612Z",
     "shell.execute_reply": "2025-05-07T20:37:08.541170Z",
     "shell.execute_reply.started": "2025-05-07T20:37:08.473159Z"
    }
   },
   "outputs": [],
   "source": [
    "ra = coordinates.Angle(df_visits[\"s_ra\"].values, unit=\"deg\").radian\n",
    "dec = coordinates.Angle(df_visits[\"s_dec\"].values, unit=\"deg\").radian"
   ]
  },
  {
   "cell_type": "code",
   "execution_count": null,
   "id": "e99f4a95-1534-4345-b37c-c1de06bbd717",
   "metadata": {
    "execution": {
     "iopub.execute_input": "2025-05-07T20:37:08.542187Z",
     "iopub.status.busy": "2025-05-07T20:37:08.542053Z",
     "iopub.status.idle": "2025-05-07T20:37:08.726244Z",
     "shell.execute_reply": "2025-05-07T20:37:08.725803Z",
     "shell.execute_reply.started": "2025-05-07T20:37:08.542174Z"
    }
   },
   "outputs": [],
   "source": [
    "# plot\n",
    "# x arg in rad must be (-2pi,2pi), y arg in rad  must be in ( -pi,pi )\n",
    "fig = plt.figure(figsize=(14, 8))\n",
    "# ax = fig.add_subplot(111, projection=\"aitoff\")\n",
    "ax = fig.add_subplot(111, projection=\"mollweide\")\n",
    "\n",
    "# galactic plane\n",
    "# ax.scatter(ra_to_mollweide(gp_ra_toplot.radian), gp_radec.dec.radian, c=\"r\", label=\"Galactic Plane\", s=1)\n",
    "# galactic plane\n",
    "ax.scatter(gp_ra_toplot, gp_dec_toplot, c=\"r\", label=\"Galactic Plane\", s=1)\n",
    "\n",
    "# ax.scatter(ra-np.pi,dec,marker='+',c=all_colors_g)\n",
    "# im = ax.scatter(ra_g.values-np.pi,dec_g.values,marker='+',s=50,lw=3,c=dt,cmap=palette_spectral)\n",
    "im = ax.scatter(\n",
    "    ra_to_mollweide(ra_g.values), dec_g.values, marker=\"+\", s=50, lw=2, c=dt, cmap=palette_spectral\n",
    ")\n",
    "\n",
    "ax.legend()\n",
    "ax.grid()\n",
    "\n",
    "cbar = plt.colorbar(im, orientation=\"horizontal\", label=\"time(days)\")\n",
    "plt.suptitle(instrument, fontsize=30, fontweight=\"bold\")\n",
    "\n",
    "plt.show()"
   ]
  },
  {
   "cell_type": "code",
   "execution_count": null,
   "id": "a64830f2-4fb0-4120-8fc7-2711d2e958ac",
   "metadata": {
    "execution": {
     "iopub.execute_input": "2025-05-07T20:37:08.727025Z",
     "iopub.status.busy": "2025-05-07T20:37:08.726883Z",
     "iopub.status.idle": "2025-05-07T20:37:08.921819Z",
     "shell.execute_reply": "2025-05-07T20:37:08.921390Z",
     "shell.execute_reply.started": "2025-05-07T20:37:08.727011Z"
    }
   },
   "outputs": [],
   "source": [
    "import numpy as np\n",
    "import matplotlib.pyplot as plt\n",
    "\n",
    "# Coordonnées des Deep Drilling Fields (RA en degrés, Dec en degrés)\n",
    "ddf_names = [\"XMM-LSS\", \"COSMOS\", \"ECDFS\", \"ELAIS-S1\", \"EDFS_a\", \"EDFS_b\"]\n",
    "ddf_ra_deg = np.array([35.57, 150.11, 52.98, 9.45, 58.90, 63.60])  # approximatif\n",
    "ddf_dec_deg = np.array([-4.82, 2.23, -28.12, -44.02, -49.32, -47.60])  # approximatif\n",
    "\n",
    "\n",
    "# Conversion en radians et adaptation pour Mollweide projection\n",
    "ddf_ra_rad = np.radians(ddf_ra_deg)\n",
    "ddf_dec_rad = np.radians(ddf_dec_deg)\n",
    "# Décalage pour Mollweide (RA=0h au centre), donc -π à π\n",
    "# ddf_ra_rad = np.remainder(ddf_ra_rad + 2*np.pi, 2*np.pi)  # force RA entre 0 et 2pi\n",
    "# ddf_ra_rad[ddf_ra_rad > np.pi] -= 2*np.pi  # force entre -pi et +pi\n",
    "# ddf_ra_rad = -ddf_ra_rad  # reverse l'axe des RA\n",
    "ddf_ra_rad = ra_to_mollweide(ddf_ra_rad)\n",
    "\n",
    "# --- Ton plot existant ---\n",
    "fig = plt.figure(figsize=(14, 8))\n",
    "ax = fig.add_subplot(111, projection=\"mollweide\")\n",
    "\n",
    "# Exemple de fond existant\n",
    "# ax.scatter(ra_to_mollweide(gp_ra_toplot.radian), gp_radec.dec.radian, c=\"r\", label=\"Galactic Plane\", s=1)\n",
    "# galactic plane\n",
    "ax.scatter(gp_ra_toplot, gp_dec_toplot, c=\"r\", label=\"Galactic Plane\", s=1)\n",
    "# im = ax.scatter(ra_g.values - np.pi, dec_g.values, marker='+', s=50, lw=3, c=dt, cmap=palette_spectral)\n",
    "im = ax.scatter(\n",
    "    ra_to_mollweide(ra_g.values), dec_g.values, marker=\"+\", s=50, lw=2, c=dt, cmap=palette_spectral\n",
    ")\n",
    "\n",
    "# Ajout des Deep Drilling Fields\n",
    "for i in range(len(ddf_names)):\n",
    "    ax.plot(ddf_ra_rad[i], ddf_dec_rad[i], \"o\", markersize=10, color=\"gold\", markeredgecolor=\"black\")\n",
    "    ax.text(\n",
    "        ddf_ra_rad[i] + 0.05,\n",
    "        ddf_dec_rad[i] + 0.05,\n",
    "        ddf_names[i],\n",
    "        fontsize=12,\n",
    "        color=\"gold\",\n",
    "        ha=\"left\",\n",
    "        va=\"bottom\",\n",
    "        weight=\"bold\",\n",
    "    )\n",
    "\n",
    "ax.legend()\n",
    "ax.grid()\n",
    "\n",
    "cbar = plt.colorbar(im, orientation=\"horizontal\", label=\"time (days)\")\n",
    "plt.suptitle(instrument, fontsize=30, fontweight=\"bold\")\n",
    "\n",
    "plt.show()"
   ]
  },
  {
   "cell_type": "code",
   "execution_count": null,
   "id": "68103a62-2d53-4ff8-a002-799d8591223d",
   "metadata": {
    "execution": {
     "iopub.execute_input": "2025-05-07T20:37:08.922536Z",
     "iopub.status.busy": "2025-05-07T20:37:08.922388Z",
     "iopub.status.idle": "2025-05-07T20:37:09.399978Z",
     "shell.execute_reply": "2025-05-07T20:37:09.399547Z",
     "shell.execute_reply.started": "2025-05-07T20:37:08.922521Z"
    }
   },
   "outputs": [],
   "source": [
    "import numpy as np\n",
    "import matplotlib.pyplot as plt\n",
    "\n",
    "# Coordonnées des Deep Drilling Fields (RA en degrés, Dec en degrés)\n",
    "ddf_names = [\"XMM-LSS\", \"COSMOS\", \"ECDFS\", \"ELAIS-S1\", \"EDFS_a\", \"EDFS_b\"]\n",
    "ddf_ra_deg = np.array([35.57, 150.11, 52.98, 9.45, 58.90, 63.60])  # approximatif\n",
    "ddf_dec_deg = np.array([-4.82, 2.23, -28.12, -44.02, -49.32, -47.60])  # approximatif\n",
    "\n",
    "# Conversion en radians et adaptation pour Mollweide projection\n",
    "ddf_ra_rad = np.radians(ddf_ra_deg)\n",
    "ddf_dec_rad = np.radians(ddf_dec_deg)\n",
    "# ddf_ra_rad = np.remainder(ddf_ra_rad + 2*np.pi, 2*np.pi)\n",
    "# ddf_ra_rad[ddf_ra_rad > np.pi] -= 2*np.pi\n",
    "# ddf_ra_rad = -ddf_ra_rad\n",
    "ddf_ra_rad = ra_to_mollweide(ddf_ra_rad)\n",
    "\n",
    "# Rayon du cercle en radians (~3.5 degrés)\n",
    "radius_deg = 3.5\n",
    "radius_rad = np.radians(radius_deg)\n",
    "\n",
    "# --- Ton plot existant ---\n",
    "fig = plt.figure(figsize=(14, 8))\n",
    "ax = fig.add_subplot(111, projection=\"mollweide\")\n",
    "\n",
    "# Galactic plane\n",
    "# ax.scatter(ra_to_mollweide(gp_ra_toplot.radian), gp_radec.dec.radian, c=\"r\", label=\"Galactic Plane\", s=1)\n",
    "# galactic plane\n",
    "ax.scatter(gp_ra_toplot, gp_dec_toplot, c=\"r\", label=\"Galactic Plane\", s=1)\n",
    "# im = ax.scatter(ra_g.values - np.pi, dec_g.values, marker='+', s=50, lw=3, c=dt, cmap=palette_spectral)\n",
    "im = ax.scatter(\n",
    "    ra_to_mollweide(ra_g.values), dec_g.values, marker=\"+\", s=50, lw=2, c=dt, cmap=palette_spectral\n",
    ")\n",
    "\n",
    "# Couleur choisie\n",
    "ddf_color = \"navy\"  # bleu foncé\n",
    "\n",
    "# Ajout des Deep Drilling Fields\n",
    "for i in range(len(ddf_names)):\n",
    "    # Marqueur central\n",
    "    ax.plot(ddf_ra_rad[i], ddf_dec_rad[i], \"o\", markersize=10, lw=2, color=ddf_color, markeredgecolor=\"black\")\n",
    "    ax.text(\n",
    "        ddf_ra_rad[i] + 0.05,\n",
    "        ddf_dec_rad[i] + 0.05,\n",
    "        ddf_names[i],\n",
    "        fontsize=12,\n",
    "        color=ddf_color,\n",
    "        ha=\"left\",\n",
    "        va=\"bottom\",\n",
    "        weight=\"bold\",\n",
    "    )\n",
    "\n",
    "    # Cercle autour\n",
    "    theta = np.linspace(0, 2 * np.pi, 100)\n",
    "    circle_ra = ddf_ra_rad[i] + radius_rad * np.cos(theta)\n",
    "    circle_dec = ddf_dec_rad[i] + radius_rad * np.sin(theta)\n",
    "    ax.plot(circle_ra, circle_dec, color=ddf_color, linestyle=\"--\", lw=1)\n",
    "\n",
    "ax.legend()\n",
    "ax.grid()\n",
    "\n",
    "cbar = plt.colorbar(im, orientation=\"horizontal\", label=\"time (days)\")\n",
    "plt.suptitle(instrument, fontsize=30, fontweight=\"bold\")\n",
    "\n",
    "# --- Ajouter aussi le LMC ---\n",
    "# Coordonnées du Grand Nuage de Magellan (LMC)\n",
    "lmc_ra_deg = 80.8939\n",
    "lmc_dec_deg = -69.7561\n",
    "\n",
    "# Conversion en radians\n",
    "lmc_ra_rad = np.radians(lmc_ra_deg)\n",
    "lmc_dec_rad = np.radians(lmc_dec_deg)\n",
    "\n",
    "# Ajustement Mollweide\n",
    "lmc_ra_rad = np.remainder(lmc_ra_rad + 2 * np.pi, 2 * np.pi)\n",
    "if lmc_ra_rad > np.pi:\n",
    "    lmc_ra_rad -= 2 * np.pi\n",
    "lmc_ra_rad = -lmc_ra_rad\n",
    "# lmc_ra_rad = ra_to_mollweide([lmc_ra_rad])[0]\n",
    "\n",
    "# Ajouter LMC au plot\n",
    "ax.plot(\n",
    "    lmc_ra_rad,\n",
    "    lmc_dec_rad,\n",
    "    marker=\"*\",\n",
    "    color=\"darkorange\",\n",
    "    markersize=15,\n",
    "    markeredgecolor=\"black\",\n",
    "    label=\"LMC\",\n",
    ")\n",
    "ax.text(\n",
    "    lmc_ra_rad + 0.05,\n",
    "    lmc_dec_rad + 0.05,\n",
    "    \"LMC\",\n",
    "    fontsize=10,\n",
    "    color=\"darkorange\",\n",
    "    ha=\"left\",\n",
    "    va=\"bottom\",\n",
    "    weight=\"bold\",\n",
    ")\n",
    "\n",
    "\n",
    "plt.show()"
   ]
  },
  {
   "cell_type": "markdown",
   "id": "26f27066-d975-4bce-b944-95848d693479",
   "metadata": {},
   "source": [
    "## Next convert back df_visits into astropy table"
   ]
  },
  {
   "cell_type": "code",
   "execution_count": null,
   "id": "6675a7c2-10e3-4666-aebb-7cf696f6f6b1",
   "metadata": {
    "execution": {
     "iopub.execute_input": "2025-05-07T20:37:09.400655Z",
     "iopub.status.busy": "2025-05-07T20:37:09.400515Z",
     "iopub.status.idle": "2025-05-07T20:37:09.422417Z",
     "shell.execute_reply": "2025-05-07T20:37:09.422004Z",
     "shell.execute_reply.started": "2025-05-07T20:37:09.400641Z"
    }
   },
   "outputs": [],
   "source": [
    "visits = Table.from_pandas(df_visits)"
   ]
  },
  {
   "cell_type": "code",
   "execution_count": null,
   "id": "4695ab64-fd2b-43e2-802c-169a0c2e8afe",
   "metadata": {
    "execution": {
     "iopub.execute_input": "2025-05-07T20:37:09.423167Z",
     "iopub.status.busy": "2025-05-07T20:37:09.423022Z",
     "iopub.status.idle": "2025-05-07T20:37:09.425790Z",
     "shell.execute_reply": "2025-05-07T20:37:09.425417Z",
     "shell.execute_reply.started": "2025-05-07T20:37:09.423153Z"
    }
   },
   "outputs": [],
   "source": [
    "# visits"
   ]
  },
  {
   "cell_type": "markdown",
   "id": "7310a336-342e-49b4-bdd7-eb5295afed7c",
   "metadata": {
    "execution": {
     "iopub.status.busy": "2025-04-18T15:21:32.428824Z",
     "iopub.status.idle": "2025-04-18T15:21:32.428991Z",
     "shell.execute_reply": "2025-04-18T15:21:32.428916Z",
     "shell.execute_reply.started": "2025-04-18T15:21:32.428908Z"
    }
   },
   "source": [
    "## Time dependence"
   ]
  },
  {
   "cell_type": "code",
   "execution_count": null,
   "id": "d6e78b73-58a4-40e5-bc6a-2c95f6953ae3",
   "metadata": {
    "execution": {
     "iopub.execute_input": "2025-05-07T20:37:09.426326Z",
     "iopub.status.busy": "2025-05-07T20:37:09.426200Z",
     "iopub.status.idle": "2025-05-07T20:37:09.434427Z",
     "shell.execute_reply": "2025-05-07T20:37:09.434043Z",
     "shell.execute_reply.started": "2025-05-07T20:37:09.426314Z"
    }
   },
   "outputs": [],
   "source": [
    "time = Time(visits[\"exp_midpt\"])"
   ]
  },
  {
   "cell_type": "code",
   "execution_count": null,
   "id": "c9ae914c-b595-4f94-adff-2b77996fa096",
   "metadata": {
    "execution": {
     "iopub.execute_input": "2025-05-07T20:37:09.435122Z",
     "iopub.status.busy": "2025-05-07T20:37:09.434847Z",
     "iopub.status.idle": "2025-05-07T20:37:09.441673Z",
     "shell.execute_reply": "2025-05-07T20:37:09.441315Z",
     "shell.execute_reply.started": "2025-05-07T20:37:09.435108Z"
    }
   },
   "outputs": [],
   "source": [
    "print(\"tmin = \", time.min(), \" | tmax = \", time.max())"
   ]
  },
  {
   "cell_type": "code",
   "execution_count": null,
   "id": "139b10d0-1030-4cc5-9abb-cb3a77004cc6",
   "metadata": {
    "execution": {
     "iopub.execute_input": "2025-05-07T20:37:09.442232Z",
     "iopub.status.busy": "2025-05-07T20:37:09.442100Z",
     "iopub.status.idle": "2025-05-07T20:37:09.448242Z",
     "shell.execute_reply": "2025-05-07T20:37:09.447895Z",
     "shell.execute_reply.started": "2025-05-07T20:37:09.442219Z"
    }
   },
   "outputs": [],
   "source": [
    "# dattim = [ Time(dt) for dt in df_visits[\"exp_midpt\"].values]"
   ]
  },
  {
   "cell_type": "code",
   "execution_count": null,
   "id": "5c9f70ad-7a69-470d-b20b-83e004cb677b",
   "metadata": {
    "execution": {
     "iopub.execute_input": "2025-05-07T20:37:09.448813Z",
     "iopub.status.busy": "2025-05-07T20:37:09.448691Z",
     "iopub.status.idle": "2025-05-07T20:37:09.455482Z",
     "shell.execute_reply": "2025-05-07T20:37:09.455147Z",
     "shell.execute_reply.started": "2025-05-07T20:37:09.448801Z"
    }
   },
   "outputs": [],
   "source": [
    "# time.value"
   ]
  },
  {
   "cell_type": "code",
   "execution_count": null,
   "id": "61727c11-3aae-4b52-a74b-3de6c1af7ac1",
   "metadata": {
    "execution": {
     "iopub.execute_input": "2025-05-07T20:37:09.456133Z",
     "iopub.status.busy": "2025-05-07T20:37:09.455882Z",
     "iopub.status.idle": "2025-05-07T20:37:09.463219Z",
     "shell.execute_reply": "2025-05-07T20:37:09.462876Z",
     "shell.execute_reply.started": "2025-05-07T20:37:09.456120Z"
    }
   },
   "outputs": [],
   "source": [
    "# df_visits[[\"exp_midpt\",\"airmass\"]]"
   ]
  },
  {
   "cell_type": "code",
   "execution_count": null,
   "id": "e365ff04-aa8b-4f79-9758-b5d7b7af0b7a",
   "metadata": {
    "execution": {
     "iopub.execute_input": "2025-05-07T20:37:09.463870Z",
     "iopub.status.busy": "2025-05-07T20:37:09.463618Z",
     "iopub.status.idle": "2025-05-07T20:37:09.470186Z",
     "shell.execute_reply": "2025-05-07T20:37:09.469841Z",
     "shell.execute_reply.started": "2025-05-07T20:37:09.463856Z"
    }
   },
   "outputs": [],
   "source": [
    "# df_visits[\"exp_midpt\"]"
   ]
  },
  {
   "cell_type": "code",
   "execution_count": null,
   "id": "6daed399-eed0-4a85-942d-eb9d6cff29f4",
   "metadata": {
    "execution": {
     "iopub.execute_input": "2025-05-07T20:37:09.470723Z",
     "iopub.status.busy": "2025-05-07T20:37:09.470599Z",
     "iopub.status.idle": "2025-05-07T20:37:09.480675Z",
     "shell.execute_reply": "2025-05-07T20:37:09.480327Z",
     "shell.execute_reply.started": "2025-05-07T20:37:09.470711Z"
    }
   },
   "outputs": [],
   "source": [
    "# Conversion MJD → datetime (UTC)\n",
    "df_visits[\"exp_midpt\"] = pd.to_datetime(df_visits[\"exp_midpt\"], format=\"mixed\")"
   ]
  },
  {
   "cell_type": "markdown",
   "id": "199d52bc-248a-432f-b5ee-f8f584233302",
   "metadata": {},
   "source": [
    "### Airmass vs Time"
   ]
  },
  {
   "cell_type": "code",
   "execution_count": null,
   "id": "724cbafe-ce62-4910-a1d2-b6716a96628b",
   "metadata": {
    "execution": {
     "iopub.execute_input": "2025-05-07T20:37:09.481224Z",
     "iopub.status.busy": "2025-05-07T20:37:09.481100Z",
     "iopub.status.idle": "2025-05-07T20:37:09.644498Z",
     "shell.execute_reply": "2025-05-07T20:37:09.644059Z",
     "shell.execute_reply.started": "2025-05-07T20:37:09.481212Z"
    }
   },
   "outputs": [],
   "source": [
    "fig, ax = plt.subplots(1, 1, figsize=(12, 4), layout=\"constrained\")\n",
    "\n",
    "df_visits.plot(x=\"exp_midpt\", y=\"airmass\", ax=ax, marker=\".\", lw=0, color=\"b\")\n",
    "# plt.plot(df_visits[\"exp_midpt\"].values,df_visits[\"airmass\"].values,marker=\"+\",c=\"b\",lw=0)\n",
    "# plt.plot(df_visits[\"exp_midpt\"].values,df_visits[\"airmass\"].values,marker=\"+\",c=\"b\",lw=0)\n",
    "# Set x-axis to show dates\n",
    "# plt.gca().xaxis.set_major_formatter(mdates.DateFormatter('%Y-%m-%d %H:%M:%S'))\n",
    "plt.gca().xaxis.set_major_formatter(mdates.DateFormatter(\"%Y-%m-%dT%H\"))\n",
    "plt.gca().xaxis.set_major_locator(mdates.AutoDateLocator())\n",
    "\n",
    "# Rotate and format x-axis labels for readability\n",
    "# ax.set_xticks(rotation=45, ha=\"right\")\n",
    "ax.set_ylim(2.5, 0.9)\n",
    "ax.set_xlabel(\"Time\")\n",
    "ax.set_ylabel(\"Airmass\")\n",
    "ax.set_title(f\"Time vs Airmass\")\n",
    "ax.grid()\n",
    "\n",
    "plt.show()"
   ]
  },
  {
   "cell_type": "markdown",
   "id": "a70d33be-7703-478a-bee5-1c14f7d1cd2d",
   "metadata": {},
   "source": [
    "### Airmass vs Temperature"
   ]
  },
  {
   "cell_type": "code",
   "execution_count": null,
   "id": "043dc542-ffcb-46d6-b3dd-826f2bcad20e",
   "metadata": {
    "execution": {
     "iopub.execute_input": "2025-05-07T20:37:09.645157Z",
     "iopub.status.busy": "2025-05-07T20:37:09.645010Z",
     "iopub.status.idle": "2025-05-07T20:37:09.802308Z",
     "shell.execute_reply": "2025-05-07T20:37:09.801898Z",
     "shell.execute_reply.started": "2025-05-07T20:37:09.645143Z"
    }
   },
   "outputs": [],
   "source": [
    "fig, ax = plt.subplots(1, 1, figsize=(12, 4), layout=\"constrained\")\n",
    "\n",
    "df_visits.plot(x=\"exp_midpt\", y=\"air_temp\", ax=ax, marker=\".\", lw=0, color=\"b\")\n",
    "# plt.plot(df_visits[\"exp_midpt\"].values,df_visits[\"airmass\"].values,marker=\"+\",c=\"b\",lw=0)\n",
    "# plt.plot(df_visits[\"exp_midpt\"].values,df_visits[\"airmass\"].values,marker=\"+\",c=\"b\",lw=0)\n",
    "# Set x-axis to show dates\n",
    "# plt.gca().xaxis.set_major_formatter(mdates.DateFormatter('%Y-%m-%d %H:%M:%S'))\n",
    "plt.gca().xaxis.set_major_formatter(mdates.DateFormatter(\"%Y-%m-%dT%H\"))\n",
    "plt.gca().xaxis.set_major_locator(mdates.AutoDateLocator())\n",
    "\n",
    "# Rotate and format x-axis labels for readability\n",
    "# ax.set_xticks(rotation=45, ha=\"right\")\n",
    "# ax.set_ylim(2,0.9)\n",
    "ax.set_xlabel(\"Time\")\n",
    "ax.set_ylabel(\"Temperature\")\n",
    "ax.set_title(f\"Time vs Temperature\")\n",
    "ax.grid()\n",
    "\n",
    "plt.show()"
   ]
  },
  {
   "cell_type": "markdown",
   "id": "3e845916-f4b5-4104-abec-36fe7b5e6d74",
   "metadata": {},
   "source": [
    "### Airmass vs Pressure"
   ]
  },
  {
   "cell_type": "code",
   "execution_count": null,
   "id": "e7b1e257-3311-4e17-b163-7fe2684b10e4",
   "metadata": {
    "execution": {
     "iopub.execute_input": "2025-05-07T20:37:09.802945Z",
     "iopub.status.busy": "2025-05-07T20:37:09.802805Z",
     "iopub.status.idle": "2025-05-07T20:37:09.954769Z",
     "shell.execute_reply": "2025-05-07T20:37:09.954373Z",
     "shell.execute_reply.started": "2025-05-07T20:37:09.802930Z"
    }
   },
   "outputs": [],
   "source": [
    "fig, ax = plt.subplots(1, 1, figsize=(12, 4), layout=\"constrained\")\n",
    "\n",
    "df_visits.plot(x=\"exp_midpt\", y=\"pressure\", ax=ax, marker=\".\", lw=0, color=\"b\")\n",
    "# plt.plot(df_visits[\"exp_midpt\"].values,df_visits[\"airmass\"].values,marker=\"+\",c=\"b\",lw=0)\n",
    "# plt.plot(df_visits[\"exp_midpt\"].values,df_visits[\"airmass\"].values,marker=\"+\",c=\"b\",lw=0)\n",
    "# Set x-axis to show dates\n",
    "# plt.gca().xaxis.set_major_formatter(mdates.DateFormatter('%Y-%m-%d %H:%M:%S'))\n",
    "plt.gca().xaxis.set_major_formatter(mdates.DateFormatter(\"%Y-%m-%dT%H\"))\n",
    "plt.gca().xaxis.set_major_locator(mdates.AutoDateLocator())\n",
    "\n",
    "# Rotate and format x-axis labels for readability\n",
    "# ax.set_xticks(rotation=45, ha=\"right\")\n",
    "# ax.set_ylim(2,0.9)\n",
    "ax.set_xlabel(\"Time\")\n",
    "ax.set_ylabel(\"Pressure\")\n",
    "ax.set_title(f\"Time vs Pressure\")\n",
    "ax.grid()\n",
    "\n",
    "plt.show()"
   ]
  },
  {
   "cell_type": "markdown",
   "id": "7191bef7-4963-4442-8ce8-d9414de05256",
   "metadata": {},
   "source": [
    "###  Humidity vs time"
   ]
  },
  {
   "cell_type": "code",
   "execution_count": null,
   "id": "808f9bad-b987-4274-9571-8b795fd00e9e",
   "metadata": {
    "execution": {
     "iopub.execute_input": "2025-05-07T20:37:09.955400Z",
     "iopub.status.busy": "2025-05-07T20:37:09.955258Z",
     "iopub.status.idle": "2025-05-07T20:37:10.112951Z",
     "shell.execute_reply": "2025-05-07T20:37:10.112396Z",
     "shell.execute_reply.started": "2025-05-07T20:37:09.955384Z"
    }
   },
   "outputs": [],
   "source": [
    "fig, ax = plt.subplots(1, 1, figsize=(12, 4), layout=\"constrained\")\n",
    "\n",
    "df_visits.plot(x=\"exp_midpt\", y=\"humidity\", ax=ax, marker=\".\", lw=0, color=\"b\")\n",
    "# plt.plot(df_visits[\"exp_midpt\"].values,df_visits[\"airmass\"].values,marker=\"+\",c=\"b\",lw=0)\n",
    "# plt.plot(df_visits[\"exp_midpt\"].values,df_visits[\"airmass\"].values,marker=\"+\",c=\"b\",lw=0)\n",
    "# Set x-axis to show dates\n",
    "# plt.gca().xaxis.set_major_formatter(mdates.DateFormatter('%Y-%m-%d %H:%M:%S'))\n",
    "plt.gca().xaxis.set_major_formatter(mdates.DateFormatter(\"%Y-%m-%dT%H\"))\n",
    "plt.gca().xaxis.set_major_locator(mdates.AutoDateLocator())\n",
    "\n",
    "# Rotate and format x-axis labels for readability\n",
    "# ax.set_xticks(rotation=45, ha=\"right\")\n",
    "# ax.set_ylim(2,0.9)\n",
    "ax.set_xlabel(\"Time\")\n",
    "ax.set_ylabel(\"Humidity\")\n",
    "ax.set_title(f\"Humidity vs Time\")\n",
    "ax.grid()\n",
    "\n",
    "plt.show()"
   ]
  },
  {
   "cell_type": "markdown",
   "id": "2bb518c9-99d2-4e6c-975b-e7d2e02909b0",
   "metadata": {
    "execution": {
     "iopub.status.busy": "2025-05-07T20:05:17.126745Z",
     "iopub.status.idle": "2025-05-07T20:05:17.126904Z",
     "shell.execute_reply": "2025-05-07T20:05:17.126831Z",
     "shell.execute_reply.started": "2025-05-07T20:05:17.126824Z"
    }
   },
   "source": [
    "### Windspeed vs time"
   ]
  },
  {
   "cell_type": "code",
   "execution_count": null,
   "id": "4bd8fc97-f456-4678-ad0b-7de6e5ee9930",
   "metadata": {
    "execution": {
     "iopub.execute_input": "2025-05-07T20:37:10.113637Z",
     "iopub.status.busy": "2025-05-07T20:37:10.113492Z",
     "iopub.status.idle": "2025-05-07T20:37:10.272517Z",
     "shell.execute_reply": "2025-05-07T20:37:10.272092Z",
     "shell.execute_reply.started": "2025-05-07T20:37:10.113621Z"
    }
   },
   "outputs": [],
   "source": [
    "fig, ax = plt.subplots(1, 1, figsize=(12, 4), layout=\"constrained\")\n",
    "\n",
    "df_visits.plot(x=\"exp_midpt\", y=\"wind_speed\", ax=ax, marker=\".\", lw=0, color=\"b\")\n",
    "# plt.plot(df_visits[\"exp_midpt\"].values,df_visits[\"airmass\"].values,marker=\"+\",c=\"b\",lw=0)\n",
    "# plt.plot(df_visits[\"exp_midpt\"].values,df_visits[\"airmass\"].values,marker=\"+\",c=\"b\",lw=0)\n",
    "# Set x-axis to show dates\n",
    "# plt.gca().xaxis.set_major_formatter(mdates.DateFormatter('%Y-%m-%d %H:%M:%S'))\n",
    "plt.gca().xaxis.set_major_formatter(mdates.DateFormatter(\"%Y-%m-%dT%H\"))\n",
    "plt.gca().xaxis.set_major_locator(mdates.AutoDateLocator())\n",
    "\n",
    "# Rotate and format x-axis labels for readability\n",
    "# ax.set_xticks(rotation=45, ha=\"right\")\n",
    "# ax.set_ylim(2,0.9)\n",
    "ax.set_xlabel(\"Time\")\n",
    "ax.set_ylabel(\"Wind speed\")\n",
    "ax.set_title(f\"Wind speed vs Time\")\n",
    "ax.grid()\n",
    "\n",
    "plt.show()"
   ]
  },
  {
   "cell_type": "markdown",
   "id": "abf53ae9-227b-4e36-9d67-57645f29b265",
   "metadata": {
    "execution": {
     "iopub.status.busy": "2025-05-07T20:05:17.127436Z",
     "iopub.status.idle": "2025-05-07T20:05:17.127587Z",
     "shell.execute_reply": "2025-05-07T20:05:17.127518Z",
     "shell.execute_reply.started": "2025-05-07T20:05:17.127511Z"
    }
   },
   "source": [
    "### Winds direction vs time"
   ]
  },
  {
   "cell_type": "code",
   "execution_count": null,
   "id": "d545da4c-9358-4475-b76e-1d405f75409e",
   "metadata": {
    "execution": {
     "iopub.execute_input": "2025-05-07T20:37:10.273214Z",
     "iopub.status.busy": "2025-05-07T20:37:10.273054Z",
     "iopub.status.idle": "2025-05-07T20:37:10.278175Z",
     "shell.execute_reply": "2025-05-07T20:37:10.277800Z",
     "shell.execute_reply.started": "2025-05-07T20:37:10.273198Z"
    }
   },
   "outputs": [],
   "source": [
    "# df_visits[\"wind_dir_shifted\"] = np.remainder(df_visits[\"wind_dir\"]+180.,360)- 180\n",
    "df_visits[\"wind_dir_shifted\"] = ((df_visits[\"wind_dir\"] + 180) % 360) - 180"
   ]
  },
  {
   "cell_type": "code",
   "execution_count": null,
   "id": "82373c50-8e85-4368-8a27-d72317aa8a93",
   "metadata": {
    "execution": {
     "iopub.execute_input": "2025-05-07T20:37:10.278868Z",
     "iopub.status.busy": "2025-05-07T20:37:10.278732Z",
     "iopub.status.idle": "2025-05-07T20:37:10.464470Z",
     "shell.execute_reply": "2025-05-07T20:37:10.464046Z",
     "shell.execute_reply.started": "2025-05-07T20:37:10.278854Z"
    }
   },
   "outputs": [],
   "source": [
    "fig, ax = plt.subplots(1, 1, figsize=(12, 4), layout=\"constrained\")\n",
    "\n",
    "# df_visits.plot(x=\"exp_midpt\",y=\"wind_dir\",ax=ax,marker=\".\",lw=0,color=\"b\")\n",
    "df_visits.plot(x=\"exp_midpt\", y=\"wind_dir_shifted\", ax=ax, marker=\".\", lw=0, color=\"r\")\n",
    "# plt.plot(df_visits[\"exp_midpt\"].values,df_visits[\"airmass\"].values,marker=\"+\",c=\"b\",lw=0)\n",
    "# plt.plot(df_visits[\"exp_midpt\"].values,df_visits[\"airmass\"].values,marker=\"+\",c=\"b\",lw=0)\n",
    "# Set x-axis to show dates\n",
    "# plt.gca().xaxis.set_major_formatter(mdates.DateFormatter('%Y-%m-%d %H:%M:%S'))\n",
    "plt.gca().xaxis.set_major_formatter(mdates.DateFormatter(\"%Y-%m-%dT%H\"))\n",
    "plt.gca().xaxis.set_major_locator(mdates.AutoDateLocator())\n",
    "\n",
    "# Rotate and format x-axis labels for readability\n",
    "# ax.set_xticks(rotation=45, ha=\"right\")\n",
    "# ax.set_ylim(2,0.9)\n",
    "ax.set_xlabel(\"Time\")\n",
    "ax.set_ylabel(\"Wind dir\")\n",
    "ax.set_title(f\"Wind direction vs Time\")\n",
    "ax.grid()\n",
    "\n",
    "plt.show()"
   ]
  },
  {
   "cell_type": "markdown",
   "id": "e9911a14-9306-48b4-932f-98e0ec0361c6",
   "metadata": {},
   "source": [
    "### Dimm_seeing vs time"
   ]
  },
  {
   "cell_type": "code",
   "execution_count": null,
   "id": "7caf3662-502d-4ee8-9e19-1bbe832f7cdc",
   "metadata": {
    "execution": {
     "iopub.execute_input": "2025-05-07T20:37:10.465150Z",
     "iopub.status.busy": "2025-05-07T20:37:10.464993Z",
     "iopub.status.idle": "2025-05-07T20:37:10.868671Z",
     "shell.execute_reply": "2025-05-07T20:37:10.866547Z",
     "shell.execute_reply.started": "2025-05-07T20:37:10.465134Z"
    }
   },
   "outputs": [],
   "source": [
    "fig, ax = plt.subplots(1, 1, figsize=(12, 4), layout=\"constrained\")\n",
    "\n",
    "df_visits.plot(x=\"exp_midpt\", y=\"dimm_seeing\", ax=ax, marker=\".\", lw=0, color=\"b\")\n",
    "# plt.plot(df_visits[\"exp_midpt\"].values,df_visits[\"airmass\"].values,marker=\"+\",c=\"b\",lw=0)\n",
    "# plt.plot(df_visits[\"exp_midpt\"].values,df_visits[\"airmass\"].values,marker=\"+\",c=\"b\",lw=0)\n",
    "# Set x-axis to show dates\n",
    "# plt.gca().xaxis.set_major_formatter(mdates.DateFormatter('%Y-%m-%d %H:%M:%S'))\n",
    "plt.gca().xaxis.set_major_formatter(mdates.DateFormatter(\"%Y-%m-%dT%H\"))\n",
    "plt.gca().xaxis.set_major_locator(mdates.AutoDateLocator())\n",
    "\n",
    "# Rotate and format x-axis labels for readability\n",
    "# ax.set_xticks(rotation=45, ha=\"right\")\n",
    "# ax.set_ylim(2,0.9)\n",
    "ax.set_xlabel(\"Time\")\n",
    "ax.set_ylabel(\"dimm seeing\")\n",
    "ax.set_title(f\"Dimm seeing vs Time\")\n",
    "ax.grid()\n",
    "\n",
    "plt.show()"
   ]
  },
  {
   "cell_type": "markdown",
   "id": "2623f8d4-b7dc-4d88-ae43-3a8a4ff4ab25",
   "metadata": {
    "execution": {
     "iopub.status.busy": "2025-05-07T20:05:17.128886Z",
     "iopub.status.idle": "2025-05-07T20:05:17.129046Z",
     "shell.execute_reply": "2025-05-07T20:05:17.128969Z",
     "shell.execute_reply.started": "2025-05-07T20:05:17.128961Z"
    }
   },
   "source": [
    "### Focus_z vs time"
   ]
  },
  {
   "cell_type": "code",
   "execution_count": null,
   "id": "3c246016-58ec-4be0-b855-1cad86f7de0f",
   "metadata": {
    "execution": {
     "iopub.execute_input": "2025-05-07T20:37:58.895959Z",
     "iopub.status.busy": "2025-05-07T20:37:58.895744Z",
     "iopub.status.idle": "2025-05-07T20:37:59.048970Z",
     "shell.execute_reply": "2025-05-07T20:37:59.048505Z",
     "shell.execute_reply.started": "2025-05-07T20:37:58.895942Z"
    }
   },
   "outputs": [],
   "source": [
    "fig, ax = plt.subplots(1, 1, figsize=(12, 4), layout=\"constrained\")\n",
    "\n",
    "df_visits.plot(x=\"exp_midpt\", y=\"focus_z\", ax=ax, marker=\".\", lw=0, color=\"b\")\n",
    "# plt.plot(df_visits[\"exp_midpt\"].values,df_visits[\"airmass\"].values,marker=\"+\",c=\"b\",lw=0)\n",
    "# plt.plot(df_visits[\"exp_midpt\"].values,df_visits[\"airmass\"].values,marker=\"+\",c=\"b\",lw=0)\n",
    "# Set x-axis to show dates\n",
    "# plt.gca().xaxis.set_major_formatter(mdates.DateFormatter('%Y-%m-%d %H:%M:%S'))\n",
    "plt.gca().xaxis.set_major_formatter(mdates.DateFormatter(\"%Y-%m-%dT%H\"))\n",
    "plt.gca().xaxis.set_major_locator(mdates.AutoDateLocator())\n",
    "\n",
    "# Rotate and format x-axis labels for readability\n",
    "# ax.set_xticks(rotation=45, ha=\"right\")\n",
    "# ax.set_ylim(2,0.9)\n",
    "ax.set_xlabel(\"Time\")\n",
    "ax.set_ylabel(\"focus_z\")\n",
    "ax.set_title(\"Focus_z vs Time\")\n",
    "ax.grid()\n",
    "\n",
    "plt.show()"
   ]
  }
 ],
 "metadata": {
  "kernelspec": {
   "display_name": "LSST",
   "language": "python",
   "name": "lsst"
  },
  "language_info": {
   "codemirror_mode": {
    "name": "ipython",
    "version": 3
   },
   "file_extension": ".py",
   "mimetype": "text/x-python",
   "name": "python",
   "nbconvert_exporter": "python",
   "pygments_lexer": "ipython3",
   "version": "3.12.9"
  }
 },
 "nbformat": 4,
 "nbformat_minor": 5
}
