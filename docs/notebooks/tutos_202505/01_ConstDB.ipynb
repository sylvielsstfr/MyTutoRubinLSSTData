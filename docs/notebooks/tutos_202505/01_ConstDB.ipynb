{
 "cells": [
  {
   "cell_type": "markdown",
   "id": "4c50da0f-2a30-4761-9a29-c67185aab160",
   "metadata": {},
   "source": [
    "# Consdb for LSSTCam fand LSSTComCam\n",
    "\n",
    "- Creation date : 2025-04-28\n",
    "- last update : 2025-04-28\n",
    "- https://usdf-rsp-dev.slac.stanford.edu/consdb/\n",
    "- Schemes for constdb : https://sdm-schemas.lsst.io/\n",
    "- Documentation : https://consdb.lsst.io/index.html\n",
    "\n",
    "- w_2025_10\n"
   ]
  },
  {
   "cell_type": "code",
   "execution_count": null,
   "id": "d9170f34-bf3d-4223-a737-89f81fe22a96",
   "metadata": {
    "execution": {
     "iopub.execute_input": "2025-04-28T19:48:05.002433Z",
     "iopub.status.busy": "2025-04-28T19:48:05.002259Z",
     "iopub.status.idle": "2025-04-28T19:48:14.005863Z",
     "shell.execute_reply": "2025-04-28T19:48:14.005374Z",
     "shell.execute_reply.started": "2025-04-28T19:48:05.002414Z"
    }
   },
   "outputs": [],
   "source": [
    "from lsst.summit.utils import ConsDbClient"
   ]
  },
  {
   "cell_type": "code",
   "execution_count": null,
   "id": "c9637cf5-efa5-4842-b39c-1e22ce097b1b",
   "metadata": {
    "execution": {
     "iopub.execute_input": "2025-04-28T19:48:14.008330Z",
     "iopub.status.busy": "2025-04-28T19:48:14.008191Z",
     "iopub.status.idle": "2025-04-28T19:48:14.064277Z",
     "shell.execute_reply": "2025-04-28T19:48:14.063855Z",
     "shell.execute_reply.started": "2025-04-28T19:48:14.008315Z"
    }
   },
   "outputs": [],
   "source": [
    "import numpy as np\n",
    "\n",
    "import matplotlib.pyplot as plt\n",
    "import matplotlib.dates as mdates\n",
    "\n",
    "import matplotlib as mpl\n",
    "import matplotlib.cm as cm\n",
    "import matplotlib.colors as colors\n",
    "import matplotlib.cm as cmx\n",
    "from matplotlib.colors import ListedColormap\n",
    "\n",
    "import seaborn as sns\n",
    "\n",
    "%matplotlib widget\n",
    "\n",
    "from lsst.meas.algorithms.installGaussianPsf import FwhmPerSigma\n",
    "\n",
    "from tqdm.notebook import tqdm"
   ]
  },
  {
   "cell_type": "code",
   "execution_count": null,
   "id": "b328ebd9-693e-4114-aff3-69ce6124f798",
   "metadata": {
    "execution": {
     "iopub.execute_input": "2025-04-28T19:48:14.065334Z",
     "iopub.status.busy": "2025-04-28T19:48:14.064796Z",
     "iopub.status.idle": "2025-04-28T19:48:14.068047Z",
     "shell.execute_reply": "2025-04-28T19:48:14.067636Z",
     "shell.execute_reply.started": "2025-04-28T19:48:14.065317Z"
    }
   },
   "outputs": [],
   "source": [
    "# xx-small\n",
    "# x-small\n",
    "# small\n",
    "# medium\n",
    "# large\n",
    "# x-large\n",
    "# xx-large\n",
    "\n",
    "plt.rcParams[\"figure.figsize\"] = (10, 6)\n",
    "plt.rcParams[\"axes.labelsize\"] = \"x-large\"\n",
    "plt.rcParams[\"axes.titlesize\"] = \"x-large\"\n",
    "plt.rcParams[\"xtick.labelsize\"] = \"x-large\"\n",
    "plt.rcParams[\"ytick.labelsize\"] = \"x-large\""
   ]
  },
  {
   "cell_type": "code",
   "execution_count": null,
   "id": "46759823-0ab0-4792-9670-08d70280821d",
   "metadata": {
    "execution": {
     "iopub.execute_input": "2025-04-28T19:48:14.068650Z",
     "iopub.status.busy": "2025-04-28T19:48:14.068517Z",
     "iopub.status.idle": "2025-04-28T19:48:14.075446Z",
     "shell.execute_reply": "2025-04-28T19:48:14.075041Z",
     "shell.execute_reply.started": "2025-04-28T19:48:14.068637Z"
    }
   },
   "outputs": [],
   "source": [
    "from astropy.table import Table, join\n",
    "from astropy.time import Time\n",
    "\n",
    "from astropy.coordinates import SkyCoord\n",
    "from astropy import coordinates\n",
    "import astropy.coordinates as coord\n",
    "import astropy.units as u"
   ]
  },
  {
   "cell_type": "code",
   "execution_count": null,
   "id": "24490394-b03f-4aec-8907-8377f67c1df2",
   "metadata": {
    "execution": {
     "iopub.execute_input": "2025-04-28T19:48:14.076000Z",
     "iopub.status.busy": "2025-04-28T19:48:14.075869Z",
     "iopub.status.idle": "2025-04-28T19:48:14.083793Z",
     "shell.execute_reply": "2025-04-28T19:48:14.083318Z",
     "shell.execute_reply.started": "2025-04-28T19:48:14.075986Z"
    }
   },
   "outputs": [],
   "source": [
    "import lsst.geom as geom\n",
    "import lsst\n",
    "from lsst.geom import Angle"
   ]
  },
  {
   "cell_type": "code",
   "execution_count": null,
   "id": "338ce377-6a76-4474-8dfd-e94ee48c6cc8",
   "metadata": {
    "execution": {
     "iopub.execute_input": "2025-04-28T19:48:14.084323Z",
     "iopub.status.busy": "2025-04-28T19:48:14.084197Z",
     "iopub.status.idle": "2025-04-28T19:48:14.091556Z",
     "shell.execute_reply": "2025-04-28T19:48:14.091158Z",
     "shell.execute_reply.started": "2025-04-28T19:48:14.084309Z"
    }
   },
   "outputs": [],
   "source": [
    "# https://pipelines.lsst.io/modules/lsst.geom/getting-started.html\n",
    "func_degToRad = lambda x: Angle(x, lsst.geom.degrees).asRadians()\n",
    "func_zendtoAirmass = lambda x: 1.0 / np.cos(func_degToRad(x))\n",
    "# func_wrap = lambda x : Angle(x,lsst.geom.radians).wrap(180.*lsst.geom.degrees)"
   ]
  },
  {
   "cell_type": "code",
   "execution_count": null,
   "id": "048ec938-33a7-4f6c-8b67-1ab5343f07d8",
   "metadata": {
    "execution": {
     "iopub.execute_input": "2025-04-28T19:48:14.092135Z",
     "iopub.status.busy": "2025-04-28T19:48:14.091998Z",
     "iopub.status.idle": "2025-04-28T19:48:14.098910Z",
     "shell.execute_reply": "2025-04-28T19:48:14.098394Z",
     "shell.execute_reply.started": "2025-04-28T19:48:14.092122Z"
    }
   },
   "outputs": [],
   "source": [
    "def ra_to_mollweide(ra_rad):\n",
    "    \"\"\"\n",
    "    Transforme une ascension droite (RA en radians) pour une projection Mollweide :\n",
    "    - RA doit être d'abord dans [0, 2π]\n",
    "    - Puis ramené dans [-π, +π] pour correspondre au domaine Mollweide\n",
    "    - Puis inversé pour que RA croisse vers la gauche sur la carte\n",
    "\n",
    "    Paramètre:\n",
    "    - ra_rad : array ou scalaire de RA en radians\n",
    "\n",
    "    Retourne:\n",
    "    - RA transformé pour projection Mollweide\n",
    "\n",
    "    Discussion avec ChatGPT verifiée le 28/04/2025\n",
    "    \"\"\"\n",
    "\n",
    "    # 1) Assurer que RA est entre 0 et 2π\n",
    "    ra_rad = np.remainder(ra_rad + 2 * np.pi, 2 * np.pi)\n",
    "\n",
    "    # 2) Remettre RA entre -π et +π\n",
    "    ra_rad[ra_rad > np.pi] -= 2 * np.pi\n",
    "\n",
    "    # 3) Inverser RA pour que RA croisse vers la gauche\n",
    "    return -ra_rad"
   ]
  },
  {
   "cell_type": "markdown",
   "id": "644d0a4b-7193-46b5-85c8-638ac7207b4f",
   "metadata": {},
   "source": [
    "## Configuration"
   ]
  },
  {
   "cell_type": "markdown",
   "id": "783b3eb5-eaec-4bf1-86f4-4ecfbec2aec8",
   "metadata": {},
   "source": [
    "### Choose instrument"
   ]
  },
  {
   "cell_type": "code",
   "execution_count": null,
   "id": "7ce654a6-f761-478f-8133-b5e07868ed40",
   "metadata": {
    "execution": {
     "iopub.execute_input": "2025-04-28T19:48:14.099488Z",
     "iopub.status.busy": "2025-04-28T19:48:14.099360Z",
     "iopub.status.idle": "2025-04-28T19:48:14.105902Z",
     "shell.execute_reply": "2025-04-28T19:48:14.105538Z",
     "shell.execute_reply.started": "2025-04-28T19:48:14.099475Z"
    }
   },
   "outputs": [],
   "source": [
    "instrument = \"LSSTCam\""
   ]
  },
  {
   "cell_type": "code",
   "execution_count": null,
   "id": "fd95a0ea-f58f-4672-afe0-fc3f3f80cfc1",
   "metadata": {
    "execution": {
     "iopub.execute_input": "2025-04-28T19:48:14.106436Z",
     "iopub.status.busy": "2025-04-28T19:48:14.106310Z",
     "iopub.status.idle": "2025-04-28T19:48:14.113540Z",
     "shell.execute_reply": "2025-04-28T19:48:14.113198Z",
     "shell.execute_reply.started": "2025-04-28T19:48:14.106424Z"
    }
   },
   "outputs": [],
   "source": [
    "os.environ[\"no_proxy\"] += \",.consdb\""
   ]
  },
  {
   "cell_type": "code",
   "execution_count": null,
   "id": "8c679aa8-2199-4e02-9354-aafa7f114f91",
   "metadata": {
    "execution": {
     "iopub.execute_input": "2025-04-28T19:48:14.114105Z",
     "iopub.status.busy": "2025-04-28T19:48:14.113970Z",
     "iopub.status.idle": "2025-04-28T19:48:14.121029Z",
     "shell.execute_reply": "2025-04-28T19:48:14.120687Z",
     "shell.execute_reply.started": "2025-04-28T19:48:14.114092Z"
    }
   },
   "outputs": [],
   "source": [
    "url = \"http://consdb-pq.consdb:8080/consdb\""
   ]
  },
  {
   "cell_type": "code",
   "execution_count": null,
   "id": "396043d3-35d4-45f8-bea4-af2ae6af74cd",
   "metadata": {
    "execution": {
     "iopub.execute_input": "2025-04-28T19:48:14.121577Z",
     "iopub.status.busy": "2025-04-28T19:48:14.121449Z",
     "iopub.status.idle": "2025-04-28T19:48:14.127592Z",
     "shell.execute_reply": "2025-04-28T19:48:14.127250Z",
     "shell.execute_reply.started": "2025-04-28T19:48:14.121565Z"
    }
   },
   "outputs": [],
   "source": [
    "consdb = ConsDbClient(url)"
   ]
  },
  {
   "cell_type": "markdown",
   "id": "45ac7b79-cc4a-4abf-8afb-db5e575b894a",
   "metadata": {},
   "source": [
    "https://sdm-schemas.lsst.io/cdb_lsstcomcam.html#exposure"
   ]
  },
  {
   "cell_type": "code",
   "execution_count": null,
   "id": "f015c934-ce60-4833-af60-a0514f33ddcd",
   "metadata": {
    "execution": {
     "iopub.execute_input": "2025-04-28T19:48:14.128238Z",
     "iopub.status.busy": "2025-04-28T19:48:14.128032Z",
     "iopub.status.idle": "2025-04-28T19:48:14.877033Z",
     "shell.execute_reply": "2025-04-28T19:48:14.876512Z",
     "shell.execute_reply.started": "2025-04-28T19:48:14.128224Z"
    }
   },
   "outputs": [],
   "source": [
    "# Query both consDB tables\n",
    "# exposure = consdb.query(\"SELECT * FROM cdb_lsstcam.exposure WHERE science_program = 'BLOCK-351'\")\n",
    "# visits = consdb.query(\"SELECT * FROM cdb_lsstcam.visit1 WHERE science_program = 'BLOCK-351'\")\n",
    "# visits_ql = consdb.query(\"SELECT * FROM cdb_lsstcam.visit1_quicklook\")\n",
    "# visits_ql = consdb.query(\"SELECT * FROM cdb_lsstcam.visit1\")\n",
    "\n",
    "if instrument == \"LSSTCam\":\n",
    "    exposure = consdb.query(\"SELECT * FROM cdb_lsstcam.exposure WHERE day_obs >= 20250415\")\n",
    "    visits = consdb.query(\"SELECT * FROM cdb_lsstcam.visit1 WHERE day_obs >= 20250415\")\n",
    "\n",
    "\n",
    "else:\n",
    "    exposure = consdb.query(\"SELECT * FROM cdb_lsstcomcam.exposure WHERE day_obs >= 20241021\")\n",
    "    visits = consdb.query(\"SELECT * FROM cdb_lsstcomcam.visit1 WHERE day_obs >= 20241021\")\n",
    "\n",
    "\n",
    "# Join using astropy's join function on 'visit_id'\n",
    "# exposure_join = exposure.rename_column(\"exposure_id\", \"visit_id\")\n",
    "# merged_exposure = join(exposure, visits, keys=\"visit_id\", join_type=\"inner\")\n",
    "# merged_visits = join(visits, visits_ql, keys=\"visit_id\", join_type=\"inner\")\n",
    "\n",
    "# Display or use the merged table\n",
    "# print(merged_visits)"
   ]
  },
  {
   "cell_type": "markdown",
   "id": "24d47919-04af-45ea-a70e-3f9e3d4e2be2",
   "metadata": {},
   "source": [
    "## Explore the visit info in consdb"
   ]
  },
  {
   "cell_type": "code",
   "execution_count": null,
   "id": "d3ab9e1f-2b6b-4372-af3d-457aed8df26b",
   "metadata": {
    "execution": {
     "iopub.execute_input": "2025-04-28T19:48:14.877712Z",
     "iopub.status.busy": "2025-04-28T19:48:14.877573Z",
     "iopub.status.idle": "2025-04-28T19:48:14.880431Z",
     "shell.execute_reply": "2025-04-28T19:48:14.880065Z",
     "shell.execute_reply.started": "2025-04-28T19:48:14.877697Z"
    }
   },
   "outputs": [],
   "source": [
    "print(visits.columns)"
   ]
  },
  {
   "cell_type": "code",
   "execution_count": null,
   "id": "57354d6c-9686-4930-8762-9a8433beebfe",
   "metadata": {
    "execution": {
     "iopub.execute_input": "2025-04-28T19:48:14.881234Z",
     "iopub.status.busy": "2025-04-28T19:48:14.880846Z",
     "iopub.status.idle": "2025-04-28T19:48:14.903162Z",
     "shell.execute_reply": "2025-04-28T19:48:14.902609Z",
     "shell.execute_reply.started": "2025-04-28T19:48:14.881219Z"
    }
   },
   "outputs": [],
   "source": [
    "df_visits = visits.to_pandas()"
   ]
  },
  {
   "cell_type": "markdown",
   "id": "aef71a12-6d56-4b56-a49e-68ad90e2bc52",
   "metadata": {},
   "source": [
    "### Observation dates"
   ]
  },
  {
   "cell_type": "code",
   "execution_count": null,
   "id": "cb3cde1c-8ef3-4fa3-b4ce-4801747637f6",
   "metadata": {
    "execution": {
     "iopub.execute_input": "2025-04-28T19:48:14.904116Z",
     "iopub.status.busy": "2025-04-28T19:48:14.903743Z",
     "iopub.status.idle": "2025-04-28T19:48:14.907638Z",
     "shell.execute_reply": "2025-04-28T19:48:14.907246Z",
     "shell.execute_reply.started": "2025-04-28T19:48:14.904097Z"
    }
   },
   "outputs": [],
   "source": [
    "df_visits[\"day_obs\"].unique()"
   ]
  },
  {
   "cell_type": "markdown",
   "id": "0dddfbfb-bcab-46a0-a2e4-629d80284aab",
   "metadata": {},
   "source": [
    "### Filters"
   ]
  },
  {
   "cell_type": "code",
   "execution_count": null,
   "id": "5dd87d43-7d1e-47ba-9205-db72babd45aa",
   "metadata": {
    "execution": {
     "iopub.execute_input": "2025-04-28T19:48:14.908200Z",
     "iopub.status.busy": "2025-04-28T19:48:14.908060Z",
     "iopub.status.idle": "2025-04-28T19:48:14.915901Z",
     "shell.execute_reply": "2025-04-28T19:48:14.915499Z",
     "shell.execute_reply.started": "2025-04-28T19:48:14.908186Z"
    }
   },
   "outputs": [],
   "source": [
    "print(df_visits[\"physical_filter\"].unique(), df_visits[\"band\"].unique())"
   ]
  },
  {
   "cell_type": "markdown",
   "id": "f90548eb-3722-4973-be9c-ab932088d70d",
   "metadata": {},
   "source": [
    "### Science program and observation reason"
   ]
  },
  {
   "cell_type": "code",
   "execution_count": null,
   "id": "b8cc4dd2-9b22-4a2e-8b2f-a5ce2525411b",
   "metadata": {
    "execution": {
     "iopub.execute_input": "2025-04-28T19:48:14.916500Z",
     "iopub.status.busy": "2025-04-28T19:48:14.916374Z",
     "iopub.status.idle": "2025-04-28T19:48:14.923494Z",
     "shell.execute_reply": "2025-04-28T19:48:14.923086Z",
     "shell.execute_reply.started": "2025-04-28T19:48:14.916487Z"
    }
   },
   "outputs": [],
   "source": [
    "df_visits[\"science_program\"].unique()"
   ]
  },
  {
   "cell_type": "code",
   "execution_count": null,
   "id": "9fd86ee6-48ce-4494-adf9-cc444c89d508",
   "metadata": {
    "execution": {
     "iopub.execute_input": "2025-04-28T19:48:14.924083Z",
     "iopub.status.busy": "2025-04-28T19:48:14.923946Z",
     "iopub.status.idle": "2025-04-28T19:48:14.932410Z",
     "shell.execute_reply": "2025-04-28T19:48:14.932070Z",
     "shell.execute_reply.started": "2025-04-28T19:48:14.924061Z"
    }
   },
   "outputs": [],
   "source": [
    "df_visits[\"observation_reason\"].unique()"
   ]
  },
  {
   "cell_type": "markdown",
   "id": "f2a46c3b-20c1-4ce0-8db7-b4ab24ac1a12",
   "metadata": {},
   "source": [
    "### Time exposure"
   ]
  },
  {
   "cell_type": "code",
   "execution_count": null,
   "id": "4f5bbbdc-fa6c-45ab-bc4d-d5ee84ae75f9",
   "metadata": {
    "execution": {
     "iopub.execute_input": "2025-04-28T19:48:14.935963Z",
     "iopub.status.busy": "2025-04-28T19:48:14.935601Z",
     "iopub.status.idle": "2025-04-28T19:48:15.028475Z",
     "shell.execute_reply": "2025-04-28T19:48:15.028061Z",
     "shell.execute_reply.started": "2025-04-28T19:48:14.935948Z"
    }
   },
   "outputs": [],
   "source": [
    "fig, ax = plt.subplots(1, 1, figsize=(8, 4))\n",
    "ax.hist(df_visits[\"exp_time\"].values, bins=50, facecolor=\"b\")\n",
    "plt.show()"
   ]
  },
  {
   "cell_type": "markdown",
   "id": "21441f79-45ef-4022-808f-9957a87a0ad1",
   "metadata": {},
   "source": [
    "## Region in sky"
   ]
  },
  {
   "cell_type": "code",
   "execution_count": null,
   "id": "133fe6ce-6ad5-40ed-a097-40a3662d80df",
   "metadata": {
    "execution": {
     "iopub.execute_input": "2025-04-28T19:48:15.029163Z",
     "iopub.status.busy": "2025-04-28T19:48:15.028994Z",
     "iopub.status.idle": "2025-04-28T19:48:15.031827Z",
     "shell.execute_reply": "2025-04-28T19:48:15.031466Z",
     "shell.execute_reply.started": "2025-04-28T19:48:15.029145Z"
    }
   },
   "outputs": [],
   "source": [
    "dict_b_to_col = {\"u\": \"b\", \"g\": \"g\", \"r\": \"r\", \"i\": \"orange\", \"z\": \"magenta\", \"y\": \"purple\"}"
   ]
  },
  {
   "cell_type": "code",
   "execution_count": null,
   "id": "5ee65e5b-3d0a-4fef-8a41-cd853c7c9e4f",
   "metadata": {
    "execution": {
     "iopub.execute_input": "2025-04-28T19:48:15.032482Z",
     "iopub.status.busy": "2025-04-28T19:48:15.032276Z",
     "iopub.status.idle": "2025-04-28T19:48:15.049443Z",
     "shell.execute_reply": "2025-04-28T19:48:15.049087Z",
     "shell.execute_reply.started": "2025-04-28T19:48:15.032466Z"
    }
   },
   "outputs": [],
   "source": [
    "col = df_visits[\"band\"].map(lambda b: dict_b_to_col[b]).values"
   ]
  },
  {
   "cell_type": "code",
   "execution_count": null,
   "id": "10ea14f9-5bd4-4c0f-b117-69b7db9886dd",
   "metadata": {
    "execution": {
     "iopub.execute_input": "2025-04-28T19:48:15.049978Z",
     "iopub.status.busy": "2025-04-28T19:48:15.049841Z",
     "iopub.status.idle": "2025-04-28T19:48:15.063012Z",
     "shell.execute_reply": "2025-04-28T19:48:15.062662Z",
     "shell.execute_reply.started": "2025-04-28T19:48:15.049963Z"
    }
   },
   "outputs": [],
   "source": [
    "col"
   ]
  },
  {
   "cell_type": "code",
   "execution_count": null,
   "id": "0f66774d-07a3-4289-95ef-8989fed64ab7",
   "metadata": {
    "execution": {
     "iopub.execute_input": "2025-04-28T19:48:15.063714Z",
     "iopub.status.busy": "2025-04-28T19:48:15.063578Z",
     "iopub.status.idle": "2025-04-28T19:48:15.720874Z",
     "shell.execute_reply": "2025-04-28T19:48:15.720374Z",
     "shell.execute_reply.started": "2025-04-28T19:48:15.063700Z"
    }
   },
   "outputs": [],
   "source": [
    "palette_spectral = sns.color_palette(\"Spectral_r\", as_cmap=True)\n",
    "cmap_time = ListedColormap(sns.color_palette(\"Spectral_r\", df_visits.size))\n",
    "dt = df_visits[\"obs_start_mjd\"].values - df_visits[\"obs_start_mjd\"].min()\n",
    "dtmin = dt.min()\n",
    "dtmax = dt.max()"
   ]
  },
  {
   "cell_type": "code",
   "execution_count": null,
   "id": "15cd0a56-3e44-4924-9080-e741dd1bf3b6",
   "metadata": {
    "execution": {
     "iopub.execute_input": "2025-04-28T19:48:15.721614Z",
     "iopub.status.busy": "2025-04-28T19:48:15.721465Z",
     "iopub.status.idle": "2025-04-28T19:48:16.271808Z",
     "shell.execute_reply": "2025-04-28T19:48:16.271384Z",
     "shell.execute_reply.started": "2025-04-28T19:48:15.721599Z"
    }
   },
   "outputs": [],
   "source": [
    "fig, ax = plt.subplots(1, 1, figsize=(12, 6))\n",
    "im = df_visits.plot.scatter(x=\"s_ra\", y=\"s_dec\", ax=ax, c=dt, cmap=cmap_time)\n",
    "ax.grid()\n",
    "ax.set_aspect(\"equal\")\n",
    "# cbar = plt.colorbar(im, orientation='horizontal', label='time(days)')\n",
    "plt.show()"
   ]
  },
  {
   "cell_type": "code",
   "execution_count": null,
   "id": "9e6ce737-28e5-4d28-8db2-858485517866",
   "metadata": {
    "execution": {
     "iopub.execute_input": "2025-04-28T19:48:16.272579Z",
     "iopub.status.busy": "2025-04-28T19:48:16.272433Z",
     "iopub.status.idle": "2025-04-28T19:48:16.275731Z",
     "shell.execute_reply": "2025-04-28T19:48:16.275365Z",
     "shell.execute_reply.started": "2025-04-28T19:48:16.272564Z"
    }
   },
   "outputs": [],
   "source": [
    "palette_spectral = sns.color_palette(\"Spectral_r\", as_cmap=True)"
   ]
  },
  {
   "cell_type": "code",
   "execution_count": null,
   "id": "7746fe8f-7c82-4ddf-a624-3d65f9404563",
   "metadata": {
    "execution": {
     "iopub.execute_input": "2025-04-28T19:48:16.276297Z",
     "iopub.status.busy": "2025-04-28T19:48:16.276165Z",
     "iopub.status.idle": "2025-04-28T19:48:16.901690Z",
     "shell.execute_reply": "2025-04-28T19:48:16.901219Z",
     "shell.execute_reply.started": "2025-04-28T19:48:16.276284Z"
    }
   },
   "outputs": [],
   "source": [
    "cmap_time = ListedColormap(sns.color_palette(\"Spectral\", df_visits.size))"
   ]
  },
  {
   "cell_type": "code",
   "execution_count": null,
   "id": "a9968ad6-6c5b-4855-a400-a769cb5ad52e",
   "metadata": {
    "execution": {
     "iopub.execute_input": "2025-04-28T19:48:16.902372Z",
     "iopub.status.busy": "2025-04-28T19:48:16.902235Z",
     "iopub.status.idle": "2025-04-28T19:48:16.905446Z",
     "shell.execute_reply": "2025-04-28T19:48:16.905088Z",
     "shell.execute_reply.started": "2025-04-28T19:48:16.902358Z"
    }
   },
   "outputs": [],
   "source": [
    "dt = df_visits[\"obs_start_mjd\"].values - df_visits[\"obs_start_mjd\"].min()"
   ]
  },
  {
   "cell_type": "code",
   "execution_count": null,
   "id": "358735fd-81de-42de-aa1e-930d5764d562",
   "metadata": {
    "execution": {
     "iopub.execute_input": "2025-04-28T19:48:16.905962Z",
     "iopub.status.busy": "2025-04-28T19:48:16.905839Z",
     "iopub.status.idle": "2025-04-28T19:48:16.921748Z",
     "shell.execute_reply": "2025-04-28T19:48:16.921335Z",
     "shell.execute_reply.started": "2025-04-28T19:48:16.905950Z"
    }
   },
   "outputs": [],
   "source": [
    "dtmin = dt.min()\n",
    "dtmax = dt.max()"
   ]
  },
  {
   "cell_type": "code",
   "execution_count": null,
   "id": "2227d182-4ddb-4032-a963-83fbb78fff46",
   "metadata": {
    "execution": {
     "iopub.execute_input": "2025-04-28T19:48:16.922337Z",
     "iopub.status.busy": "2025-04-28T19:48:16.922209Z",
     "iopub.status.idle": "2025-04-28T19:48:16.955775Z",
     "shell.execute_reply": "2025-04-28T19:48:16.955359Z",
     "shell.execute_reply.started": "2025-04-28T19:48:16.922324Z"
    }
   },
   "outputs": [],
   "source": [
    "ra_g = df_visits[\"s_ra\"].apply(func_degToRad)\n",
    "dec_g = df_visits[\"s_dec\"].apply(func_degToRad)"
   ]
  },
  {
   "cell_type": "code",
   "execution_count": null,
   "id": "cd8f4136-dfed-4029-ae49-d52ea4054839",
   "metadata": {
    "execution": {
     "iopub.execute_input": "2025-04-28T19:48:16.956578Z",
     "iopub.status.busy": "2025-04-28T19:48:16.956398Z",
     "iopub.status.idle": "2025-04-28T19:48:16.966435Z",
     "shell.execute_reply": "2025-04-28T19:48:16.966045Z",
     "shell.execute_reply.started": "2025-04-28T19:48:16.956555Z"
    }
   },
   "outputs": [],
   "source": [
    "# Galactic plane\n",
    "gal_long = np.linspace(-180.0, 180, 360)\n",
    "gal_lat = np.zeros((360))\n",
    "coordinates_galactic_planes = SkyCoord(l=gal_long * u.degree, b=gal_lat * u.degree, frame=\"galactic\")\n",
    "gp_radec = coordinates_galactic_planes.transform_to(\"icrs\")\n",
    "# for galactic plane\n",
    "# gp_radec.ra : 0., 360.\n",
    "# gp_radec.dec : -90, 90\n",
    "gp_ra_toplot = coordinates.Angle(gp_radec.ra.degree * u.degree)\n",
    "gp_ra_toplot = gp_ra_toplot.wrap_at(180 * u.degree)\n",
    "# gp_ra_toplot -180, 180"
   ]
  },
  {
   "cell_type": "code",
   "execution_count": null,
   "id": "527a501a-41fd-4bb1-8db5-22c9d70fba5a",
   "metadata": {
    "execution": {
     "iopub.execute_input": "2025-04-28T19:48:16.967259Z",
     "iopub.status.busy": "2025-04-28T19:48:16.966910Z",
     "iopub.status.idle": "2025-04-28T19:48:16.972439Z",
     "shell.execute_reply": "2025-04-28T19:48:16.972087Z",
     "shell.execute_reply.started": "2025-04-28T19:48:16.967243Z"
    }
   },
   "outputs": [],
   "source": [
    "ra = coordinates.Angle(df_visits[\"s_ra\"].values, unit=\"deg\").radian\n",
    "dec = coordinates.Angle(df_visits[\"s_dec\"].values, unit=\"deg\").radian"
   ]
  },
  {
   "cell_type": "code",
   "execution_count": null,
   "id": "1712cfc0-eed3-4dfa-a61e-f79d167db18e",
   "metadata": {
    "execution": {
     "iopub.execute_input": "2025-04-28T19:48:16.973081Z",
     "iopub.status.busy": "2025-04-28T19:48:16.972851Z",
     "iopub.status.idle": "2025-04-28T19:48:16.982042Z",
     "shell.execute_reply": "2025-04-28T19:48:16.981696Z",
     "shell.execute_reply.started": "2025-04-28T19:48:16.973060Z"
    }
   },
   "outputs": [],
   "source": [
    "ra"
   ]
  },
  {
   "cell_type": "code",
   "execution_count": null,
   "id": "e99f4a95-1534-4345-b37c-c1de06bbd717",
   "metadata": {
    "execution": {
     "iopub.execute_input": "2025-04-28T19:48:16.982863Z",
     "iopub.status.busy": "2025-04-28T19:48:16.982654Z",
     "iopub.status.idle": "2025-04-28T19:48:17.190687Z",
     "shell.execute_reply": "2025-04-28T19:48:17.190090Z",
     "shell.execute_reply.started": "2025-04-28T19:48:16.982849Z"
    }
   },
   "outputs": [],
   "source": [
    "# plot\n",
    "# x arg in rad must be (-2pi,2pi), y arg in rad  must be in ( -pi,pi )\n",
    "fig = plt.figure(figsize=(12, 6))\n",
    "# ax = fig.add_subplot(111, projection=\"aitoff\")\n",
    "ax = fig.add_subplot(111, projection=\"mollweide\")\n",
    "\n",
    "# galactic plane\n",
    "ax.scatter(gp_ra_toplot.radian, gp_radec.dec.radian, c=\"r\", label=\"Galactic Plane\", s=1)\n",
    "# ax.scatter(ra-np.pi,dec,marker='+',c=all_colors_g)\n",
    "# im = ax.scatter(ra_g.values-np.pi,dec_g.values,marker='+',s=50,lw=3,c=dt,cmap=palette_spectral)\n",
    "im = ax.scatter(\n",
    "    ra_to_mollweide(ra_g.values), dec_g.values, marker=\"+\", s=50, lw=3, c=dt, cmap=palette_spectral\n",
    ")\n",
    "\n",
    "ax.legend()\n",
    "ax.grid()\n",
    "\n",
    "cbar = plt.colorbar(im, orientation=\"horizontal\", label=\"time(days)\")\n",
    "plt.suptitle(instrument)"
   ]
  },
  {
   "cell_type": "code",
   "execution_count": null,
   "id": "a64830f2-4fb0-4120-8fc7-2711d2e958ac",
   "metadata": {
    "execution": {
     "iopub.execute_input": "2025-04-28T19:48:17.191383Z",
     "iopub.status.busy": "2025-04-28T19:48:17.191241Z",
     "iopub.status.idle": "2025-04-28T19:48:17.386841Z",
     "shell.execute_reply": "2025-04-28T19:48:17.386382Z",
     "shell.execute_reply.started": "2025-04-28T19:48:17.191369Z"
    }
   },
   "outputs": [],
   "source": [
    "import numpy as np\n",
    "import matplotlib.pyplot as plt\n",
    "\n",
    "# Coordonnées des Deep Drilling Fields (RA en degrés, Dec en degrés)\n",
    "ddf_names = [\"XMM-LSS\", \"COSMOS\", \"ECDFS\", \"ELAIS-S1\", \"Akari-NEP\"]\n",
    "ddf_ra_deg = np.array([36.6, 150.1, 53.1, 9.45, 270.0])  # approximatif\n",
    "ddf_dec_deg = np.array([-4.8, 2.2, -27.8, -43.95, 66.0])  # approximatif\n",
    "\n",
    "# Conversion en radians et adaptation pour Mollweide projection\n",
    "ddf_ra_rad = np.radians(ddf_ra_deg)\n",
    "ddf_dec_rad = np.radians(ddf_dec_deg)\n",
    "# Décalage pour Mollweide (RA=0h au centre), donc -π à π\n",
    "# ddf_ra_rad = np.remainder(ddf_ra_rad + 2*np.pi, 2*np.pi)  # force RA entre 0 et 2pi\n",
    "# ddf_ra_rad[ddf_ra_rad > np.pi] -= 2*np.pi  # force entre -pi et +pi\n",
    "# ddf_ra_rad = -ddf_ra_rad  # reverse l'axe des RA\n",
    "ddf_ra_rad = ra_to_mollweide(ddf_ra_rad)\n",
    "\n",
    "# --- Ton plot existant ---\n",
    "fig = plt.figure(figsize=(12, 6))\n",
    "ax = fig.add_subplot(111, projection=\"mollweide\")\n",
    "\n",
    "# Exemple de fond existant\n",
    "ax.scatter(gp_ra_toplot.radian, gp_radec.dec.radian, c=\"r\", label=\"Galactic Plane\", s=1)\n",
    "# im = ax.scatter(ra_g.values - np.pi, dec_g.values, marker='+', s=50, lw=3, c=dt, cmap=palette_spectral)\n",
    "im = ax.scatter(\n",
    "    ra_to_mollweide(ra_g.values), dec_g.values, marker=\"+\", s=50, lw=3, c=dt, cmap=palette_spectral\n",
    ")\n",
    "\n",
    "# Ajout des Deep Drilling Fields\n",
    "for i in range(len(ddf_names)):\n",
    "    ax.plot(ddf_ra_rad[i], ddf_dec_rad[i], \"o\", markersize=8, color=\"gold\", markeredgecolor=\"black\")\n",
    "    ax.text(\n",
    "        ddf_ra_rad[i] + 0.05,\n",
    "        ddf_dec_rad[i] + 0.05,\n",
    "        ddf_names[i],\n",
    "        fontsize=9,\n",
    "        color=\"gold\",\n",
    "        ha=\"left\",\n",
    "        va=\"bottom\",\n",
    "        weight=\"bold\",\n",
    "    )\n",
    "\n",
    "ax.legend()\n",
    "ax.grid()\n",
    "\n",
    "cbar = plt.colorbar(im, orientation=\"horizontal\", label=\"time (days)\")\n",
    "plt.suptitle(instrument)\n",
    "\n",
    "plt.show()"
   ]
  },
  {
   "cell_type": "code",
   "execution_count": null,
   "id": "68103a62-2d53-4ff8-a002-799d8591223d",
   "metadata": {
    "execution": {
     "iopub.execute_input": "2025-04-28T19:48:17.387481Z",
     "iopub.status.busy": "2025-04-28T19:48:17.387344Z",
     "iopub.status.idle": "2025-04-28T19:48:17.615450Z",
     "shell.execute_reply": "2025-04-28T19:48:17.615024Z",
     "shell.execute_reply.started": "2025-04-28T19:48:17.387466Z"
    }
   },
   "outputs": [],
   "source": [
    "import numpy as np\n",
    "import matplotlib.pyplot as plt\n",
    "\n",
    "# Coordonnées des Deep Drilling Fields (RA en degrés, Dec en degrés)\n",
    "ddf_names = [\"XMM-LSS\", \"COSMOS\", \"ECDFS\", \"ELAIS-S1\", \"Akari-NEP\"]\n",
    "ddf_ra_deg = np.array([36.6, 150.1, 53.1, 9.45, 270.0])  # approximatif\n",
    "ddf_dec_deg = np.array([-4.8, 2.2, -27.8, -43.95, 66.0])  # approximatif\n",
    "\n",
    "# Conversion en radians et adaptation pour Mollweide projection\n",
    "ddf_ra_rad = np.radians(ddf_ra_deg)\n",
    "ddf_dec_rad = np.radians(ddf_dec_deg)\n",
    "# ddf_ra_rad = np.remainder(ddf_ra_rad + 2*np.pi, 2*np.pi)\n",
    "# ddf_ra_rad[ddf_ra_rad > np.pi] -= 2*np.pi\n",
    "# ddf_ra_rad = -ddf_ra_rad\n",
    "ddf_ra_rad = ra_to_mollweide(ddf_ra_rad)\n",
    "\n",
    "# Rayon du cercle en radians (~3.5 degrés)\n",
    "radius_deg = 3.5\n",
    "radius_rad = np.radians(radius_deg)\n",
    "\n",
    "# --- Ton plot existant ---\n",
    "fig = plt.figure(figsize=(12, 6))\n",
    "ax = fig.add_subplot(111, projection=\"mollweide\")\n",
    "\n",
    "# Fond existant\n",
    "ax.scatter(gp_ra_toplot.radian, gp_radec.dec.radian, c=\"r\", label=\"Galactic Plane\", s=1)\n",
    "# im = ax.scatter(ra_g.values - np.pi, dec_g.values, marker='+', s=50, lw=3, c=dt, cmap=palette_spectral)\n",
    "im = ax.scatter(\n",
    "    ra_to_mollweide(ra_g.values), dec_g.values, marker=\"+\", s=50, lw=3, c=dt, cmap=palette_spectral\n",
    ")\n",
    "\n",
    "# Couleur choisie\n",
    "ddf_color = \"navy\"  # bleu foncé\n",
    "\n",
    "# Ajout des Deep Drilling Fields\n",
    "for i in range(len(ddf_names)):\n",
    "    # Marqueur central\n",
    "    ax.plot(ddf_ra_rad[i], ddf_dec_rad[i], \"o\", markersize=8, color=ddf_color, markeredgecolor=\"black\")\n",
    "    ax.text(\n",
    "        ddf_ra_rad[i] + 0.05,\n",
    "        ddf_dec_rad[i] + 0.05,\n",
    "        ddf_names[i],\n",
    "        fontsize=9,\n",
    "        color=ddf_color,\n",
    "        ha=\"left\",\n",
    "        va=\"bottom\",\n",
    "        weight=\"bold\",\n",
    "    )\n",
    "\n",
    "    # Cercle autour\n",
    "    theta = np.linspace(0, 2 * np.pi, 100)\n",
    "    circle_ra = ddf_ra_rad[i] + radius_rad * np.cos(theta)\n",
    "    circle_dec = ddf_dec_rad[i] + radius_rad * np.sin(theta)\n",
    "    ax.plot(circle_ra, circle_dec, color=ddf_color, linestyle=\"--\", lw=1)\n",
    "\n",
    "ax.legend()\n",
    "ax.grid()\n",
    "\n",
    "cbar = plt.colorbar(im, orientation=\"horizontal\", label=\"time (days)\")\n",
    "plt.suptitle(instrument)\n",
    "\n",
    "# --- Ajouter aussi le LMC ---\n",
    "# Coordonnées du Grand Nuage de Magellan (LMC)\n",
    "lmc_ra_deg = 80.8939\n",
    "lmc_dec_deg = -69.7561\n",
    "\n",
    "# Conversion en radians\n",
    "lmc_ra_rad = np.radians(lmc_ra_deg)\n",
    "lmc_dec_rad = np.radians(lmc_dec_deg)\n",
    "\n",
    "# Ajustement Mollweide\n",
    "lmc_ra_rad = np.remainder(lmc_ra_rad + 2 * np.pi, 2 * np.pi)\n",
    "if lmc_ra_rad > np.pi:\n",
    "    lmc_ra_rad -= 2 * np.pi\n",
    "lmc_ra_rad = -lmc_ra_rad\n",
    "# lmc_ra_rad = ra_to_mollweide([lmc_ra_rad])[0]\n",
    "\n",
    "# Ajouter LMC au plot\n",
    "ax.plot(\n",
    "    lmc_ra_rad,\n",
    "    lmc_dec_rad,\n",
    "    marker=\"*\",\n",
    "    color=\"darkorange\",\n",
    "    markersize=15,\n",
    "    markeredgecolor=\"black\",\n",
    "    label=\"LMC\",\n",
    ")\n",
    "ax.text(\n",
    "    lmc_ra_rad + 0.05,\n",
    "    lmc_dec_rad + 0.05,\n",
    "    \"LMC\",\n",
    "    fontsize=9,\n",
    "    color=\"darkorange\",\n",
    "    ha=\"left\",\n",
    "    va=\"bottom\",\n",
    "    weight=\"bold\",\n",
    ")\n",
    "\n",
    "\n",
    "plt.show()"
   ]
  },
  {
   "cell_type": "markdown",
   "id": "7310a336-342e-49b4-bdd7-eb5295afed7c",
   "metadata": {
    "execution": {
     "iopub.status.busy": "2025-04-18T15:21:32.428824Z",
     "iopub.status.idle": "2025-04-18T15:21:32.428991Z",
     "shell.execute_reply": "2025-04-18T15:21:32.428916Z",
     "shell.execute_reply.started": "2025-04-18T15:21:32.428908Z"
    }
   },
   "source": [
    "## Time dependence"
   ]
  },
  {
   "cell_type": "code",
   "execution_count": null,
   "id": "d6e78b73-58a4-40e5-bc6a-2c95f6953ae3",
   "metadata": {
    "execution": {
     "iopub.execute_input": "2025-04-28T19:48:17.616233Z",
     "iopub.status.busy": "2025-04-28T19:48:17.616011Z",
     "iopub.status.idle": "2025-04-28T19:48:17.621427Z",
     "shell.execute_reply": "2025-04-28T19:48:17.621059Z",
     "shell.execute_reply.started": "2025-04-28T19:48:17.616216Z"
    }
   },
   "outputs": [],
   "source": [
    "time = Time(visits[\"exp_midpt\"])"
   ]
  },
  {
   "cell_type": "code",
   "execution_count": null,
   "id": "c9ae914c-b595-4f94-adff-2b77996fa096",
   "metadata": {
    "execution": {
     "iopub.execute_input": "2025-04-28T19:48:17.621953Z",
     "iopub.status.busy": "2025-04-28T19:48:17.621822Z",
     "iopub.status.idle": "2025-04-28T19:48:17.634016Z",
     "shell.execute_reply": "2025-04-28T19:48:17.633635Z",
     "shell.execute_reply.started": "2025-04-28T19:48:17.621939Z"
    }
   },
   "outputs": [],
   "source": [
    "print(\"tmin = \", time.min(), \" | tmax = \", time.max())"
   ]
  },
  {
   "cell_type": "markdown",
   "id": "10161d7e-3d6b-4eb5-9871-d024961b0846",
   "metadata": {},
   "source": [
    "### Airmass vs Time"
   ]
  },
  {
   "cell_type": "code",
   "execution_count": null,
   "id": "2ac16eec-4253-4647-a4c0-15c5e9ebd094",
   "metadata": {
    "execution": {
     "iopub.execute_input": "2025-04-28T19:48:17.634627Z",
     "iopub.status.busy": "2025-04-28T19:48:17.634492Z",
     "iopub.status.idle": "2025-04-28T19:48:17.753398Z",
     "shell.execute_reply": "2025-04-28T19:48:17.752746Z",
     "shell.execute_reply.started": "2025-04-28T19:48:17.634613Z"
    }
   },
   "outputs": [],
   "source": [
    "# Plot the time vs the specified column\n",
    "plt.figure(figsize=(12, 4))\n",
    "plt.plot(time.plot_date, visits[\"airmass\"], \"b.\")\n",
    "\n",
    "# Set x-axis to show dates\n",
    "# plt.gca().xaxis.set_major_formatter(mdates.DateFormatter('%Y-%m-%d %H:%M:%S'))\n",
    "plt.gca().xaxis.set_major_formatter(mdates.DateFormatter(\"%Y-%m-%d %H\"))\n",
    "plt.gca().xaxis.set_major_locator(mdates.AutoDateLocator())\n",
    "\n",
    "# Rotate and format x-axis labels for readability\n",
    "plt.xticks(rotation=45, ha=\"right\")\n",
    "\n",
    "plt.xlabel(\"Time\")\n",
    "plt.ylabel(\"Airmass\")\n",
    "plt.title(f\"Time vs Airmass\")\n",
    "plt.legend()\n",
    "plt.grid(True)\n",
    "plt.tight_layout()  # Adjust layout to prevent clipping of labels\n",
    "plt.show()"
   ]
  },
  {
   "cell_type": "code",
   "execution_count": null,
   "id": "6e94a1a2-f7a9-45fd-9fb7-876cd2634afc",
   "metadata": {},
   "outputs": [],
   "source": []
  },
  {
   "cell_type": "code",
   "execution_count": null,
   "id": "4f3d1575-f9ba-41bc-a983-07d7c7ade714",
   "metadata": {
    "execution": {
     "iopub.execute_input": "2025-04-28T19:48:17.754181Z",
     "iopub.status.busy": "2025-04-28T19:48:17.754018Z",
     "iopub.status.idle": "2025-04-28T19:48:17.869343Z",
     "shell.execute_reply": "2025-04-28T19:48:17.868932Z",
     "shell.execute_reply.started": "2025-04-28T19:48:17.754164Z"
    }
   },
   "outputs": [],
   "source": [
    "# Plot the time vs the specified column\n",
    "plt.figure(figsize=(12, 4))\n",
    "plt.plot(time.plot_date, visits[\"air_temp\"], \"b.\")\n",
    "\n",
    "# Set x-axis to show dates\n",
    "# plt.gca().xaxis.set_major_formatter(mdates.DateFormatter('%Y-%m-%d %H:%M:%S'))\n",
    "plt.gca().xaxis.set_major_formatter(mdates.DateFormatter(\"%Y-%m-%d %H\"))\n",
    "plt.gca().xaxis.set_major_locator(mdates.AutoDateLocator())\n",
    "\n",
    "# Rotate and format x-axis labels for readability\n",
    "plt.xticks(rotation=45, ha=\"right\")\n",
    "\n",
    "plt.xlabel(\"Time\")\n",
    "plt.ylabel(\"air_temp\")\n",
    "plt.title(f\"air_temp vs time\")\n",
    "plt.legend()\n",
    "plt.grid(True)\n",
    "plt.tight_layout()  # Adjust layout to prevent clipping of labels\n",
    "plt.show()"
   ]
  },
  {
   "cell_type": "code",
   "execution_count": null,
   "id": "745d7739-954b-4947-9b37-4e15658087c5",
   "metadata": {
    "execution": {
     "iopub.execute_input": "2025-04-28T19:48:17.870054Z",
     "iopub.status.busy": "2025-04-28T19:48:17.869855Z",
     "iopub.status.idle": "2025-04-28T19:48:18.258672Z",
     "shell.execute_reply": "2025-04-28T19:48:18.258262Z",
     "shell.execute_reply.started": "2025-04-28T19:48:17.870039Z"
    }
   },
   "outputs": [],
   "source": [
    "# Plot the time vs the specified column\n",
    "plt.figure(figsize=(12, 4))\n",
    "plt.plot(time.plot_date, visits[\"pressure\"], \"b.\")\n",
    "\n",
    "# Set x-axis to show dates\n",
    "# plt.gca().xaxis.set_major_formatter(mdates.DateFormatter('%Y-%m-%d %H:%M:%S'))\n",
    "plt.gca().xaxis.set_major_formatter(mdates.DateFormatter(\"%Y-%m-%d %H\"))\n",
    "plt.gca().xaxis.set_major_locator(mdates.AutoDateLocator())\n",
    "\n",
    "# Rotate and format x-axis labels for readability\n",
    "plt.xticks(rotation=45, ha=\"right\")\n",
    "\n",
    "plt.xlabel(\"Time\")\n",
    "plt.ylabel(\"pressure\")\n",
    "plt.title(f\"pressure vs time\")\n",
    "plt.legend()\n",
    "plt.grid(True)\n",
    "plt.tight_layout()  # Adjust layout to prevent clipping of labels\n",
    "plt.show()"
   ]
  },
  {
   "cell_type": "code",
   "execution_count": null,
   "id": "c56e229e-e2a7-4311-a619-ef77678cd07a",
   "metadata": {
    "execution": {
     "iopub.execute_input": "2025-04-28T19:48:18.259656Z",
     "iopub.status.busy": "2025-04-28T19:48:18.259194Z",
     "iopub.status.idle": "2025-04-28T19:48:18.381519Z",
     "shell.execute_reply": "2025-04-28T19:48:18.380967Z",
     "shell.execute_reply.started": "2025-04-28T19:48:18.259640Z"
    }
   },
   "outputs": [],
   "source": [
    "# Plot the time vs the specified column\n",
    "plt.figure(figsize=(12, 4))\n",
    "plt.plot(time.plot_date, visits[\"humidity\"], \"b.\")\n",
    "\n",
    "# Set x-axis to show dates\n",
    "# plt.gca().xaxis.set_major_formatter(mdates.DateFormatter('%Y-%m-%d %H:%M:%S'))\n",
    "plt.gca().xaxis.set_major_formatter(mdates.DateFormatter(\"%Y-%m-%d %H\"))\n",
    "plt.gca().xaxis.set_major_locator(mdates.AutoDateLocator())\n",
    "\n",
    "# Rotate and format x-axis labels for readability\n",
    "plt.xticks(rotation=45, ha=\"right\")\n",
    "\n",
    "plt.xlabel(\"Time\")\n",
    "plt.ylabel(\"humidity\")\n",
    "plt.title(f\"humidity vs time\")\n",
    "plt.legend()\n",
    "plt.grid(True)\n",
    "plt.tight_layout()  # Adjust layout to prevent clipping of labels\n",
    "plt.show()"
   ]
  },
  {
   "cell_type": "code",
   "execution_count": null,
   "id": "69edab7a-5891-4423-9011-2ce78e570a6f",
   "metadata": {
    "execution": {
     "iopub.execute_input": "2025-04-28T19:48:18.382355Z",
     "iopub.status.busy": "2025-04-28T19:48:18.382139Z",
     "iopub.status.idle": "2025-04-28T19:48:18.509517Z",
     "shell.execute_reply": "2025-04-28T19:48:18.509092Z",
     "shell.execute_reply.started": "2025-04-28T19:48:18.382337Z"
    }
   },
   "outputs": [],
   "source": [
    "# Plot the time vs the specified column\n",
    "plt.figure(figsize=(12, 4))\n",
    "plt.plot(time.plot_date, visits[\"wind_speed\"], \"b.\")\n",
    "\n",
    "# Set x-axis to show dates\n",
    "# plt.gca().xaxis.set_major_formatter(mdates.DateFormatter('%Y-%m-%d %H:%M:%S'))\n",
    "plt.gca().xaxis.set_major_formatter(mdates.DateFormatter(\"%Y-%m-%d %H\"))\n",
    "plt.gca().xaxis.set_major_locator(mdates.AutoDateLocator())\n",
    "\n",
    "# Rotate and format x-axis labels for readability\n",
    "plt.xticks(rotation=45, ha=\"right\")\n",
    "\n",
    "plt.xlabel(\"Time\")\n",
    "plt.ylabel(\"wind_speed\")\n",
    "plt.title(f\"wind_speed vs time\")\n",
    "plt.legend()\n",
    "plt.grid(True)\n",
    "plt.tight_layout()  # Adjust layout to prevent clipping of labels\n",
    "plt.show()"
   ]
  },
  {
   "cell_type": "code",
   "execution_count": null,
   "id": "5b53fb9e-dc8a-4bd3-bb9e-6c5640070191",
   "metadata": {
    "execution": {
     "iopub.execute_input": "2025-04-28T19:48:18.510294Z",
     "iopub.status.busy": "2025-04-28T19:48:18.510147Z",
     "iopub.status.idle": "2025-04-28T19:48:18.634384Z",
     "shell.execute_reply": "2025-04-28T19:48:18.633959Z",
     "shell.execute_reply.started": "2025-04-28T19:48:18.510277Z"
    }
   },
   "outputs": [],
   "source": [
    "# Plot the time vs the specified column\n",
    "plt.figure(figsize=(12, 4))\n",
    "plt.plot(time.plot_date, visits[\"wind_dir\"], \"b.\")\n",
    "\n",
    "# Set x-axis to show dates\n",
    "# plt.gca().xaxis.set_major_formatter(mdates.DateFormatter('%Y-%m-%d %H:%M:%S'))\n",
    "plt.gca().xaxis.set_major_formatter(mdates.DateFormatter(\"%Y-%m-%d %H\"))\n",
    "plt.gca().xaxis.set_major_locator(mdates.AutoDateLocator())\n",
    "\n",
    "# Rotate and format x-axis labels for readability\n",
    "plt.xticks(rotation=45, ha=\"right\")\n",
    "\n",
    "plt.xlabel(\"Time\")\n",
    "plt.ylabel(\"wind_dir\")\n",
    "plt.title(f\"wind_dir vs time\")\n",
    "plt.legend()\n",
    "plt.grid(True)\n",
    "plt.tight_layout()  # Adjust layout to prevent clipping of labels\n",
    "plt.show()"
   ]
  },
  {
   "cell_type": "code",
   "execution_count": null,
   "id": "78ad5bbb-6425-4265-91f9-0f93a0286123",
   "metadata": {
    "execution": {
     "iopub.execute_input": "2025-04-28T19:48:18.635306Z",
     "iopub.status.busy": "2025-04-28T19:48:18.634908Z",
     "iopub.status.idle": "2025-04-28T19:48:18.752372Z",
     "shell.execute_reply": "2025-04-28T19:48:18.751976Z",
     "shell.execute_reply.started": "2025-04-28T19:48:18.635290Z"
    }
   },
   "outputs": [],
   "source": [
    "# Plot the time vs the specified column\n",
    "plt.figure(figsize=(12, 4))\n",
    "plt.plot(time.plot_date, visits[\"dimm_seeing\"], \"b.\")\n",
    "\n",
    "# Set x-axis to show dates\n",
    "# plt.gca().xaxis.set_major_formatter(mdates.DateFormatter('%Y-%m-%d %H:%M:%S'))\n",
    "plt.gca().xaxis.set_major_formatter(mdates.DateFormatter(\"%Y-%m-%d %H\"))\n",
    "plt.gca().xaxis.set_major_locator(mdates.AutoDateLocator())\n",
    "\n",
    "# Rotate and format x-axis labels for readability\n",
    "plt.xticks(rotation=45, ha=\"right\")\n",
    "\n",
    "plt.xlabel(\"Time\")\n",
    "plt.ylabel(\"dimm_seeing\")\n",
    "plt.title(f\"dimm_seeing vs time\")\n",
    "plt.legend()\n",
    "plt.grid(True)\n",
    "plt.tight_layout()  # Adjust layout to prevent clipping of labels\n",
    "plt.show()"
   ]
  },
  {
   "cell_type": "code",
   "execution_count": null,
   "id": "aae79c73-d9cf-4d89-8d85-f0ebcaf259ef",
   "metadata": {
    "execution": {
     "iopub.execute_input": "2025-04-28T19:48:18.753148Z",
     "iopub.status.busy": "2025-04-28T19:48:18.752885Z",
     "iopub.status.idle": "2025-04-28T19:48:18.870576Z",
     "shell.execute_reply": "2025-04-28T19:48:18.870202Z",
     "shell.execute_reply.started": "2025-04-28T19:48:18.753132Z"
    }
   },
   "outputs": [],
   "source": [
    "# Plot the time vs the specified column\n",
    "plt.figure(figsize=(12, 4))\n",
    "plt.plot(time.plot_date, visits[\"focus_z\"], \"b.\")\n",
    "\n",
    "# Set x-axis to show dates\n",
    "# plt.gca().xaxis.set_major_formatter(mdates.DateFormatter('%Y-%m-%d %H:%M:%S'))\n",
    "plt.gca().xaxis.set_major_formatter(mdates.DateFormatter(\"%Y-%m-%d %H\"))\n",
    "plt.gca().xaxis.set_major_locator(mdates.AutoDateLocator())\n",
    "\n",
    "# Rotate and format x-axis labels for readability\n",
    "plt.xticks(rotation=45, ha=\"right\")\n",
    "\n",
    "plt.xlabel(\"Time\")\n",
    "plt.ylabel(\"focus_z\")\n",
    "plt.title(f\"focus_z vs time\")\n",
    "plt.legend()\n",
    "plt.grid(True)\n",
    "plt.tight_layout()  # Adjust layout to prevent clipping of labels\n",
    "plt.show()"
   ]
  }
 ],
 "metadata": {
  "kernelspec": {
   "display_name": "LSST",
   "language": "python",
   "name": "lsst"
  },
  "language_info": {
   "codemirror_mode": {
    "name": "ipython",
    "version": 3
   },
   "file_extension": ".py",
   "mimetype": "text/x-python",
   "name": "python",
   "nbconvert_exporter": "python",
   "pygments_lexer": "ipython3",
   "version": "3.12.9"
  }
 },
 "nbformat": 4,
 "nbformat_minor": 5
}
