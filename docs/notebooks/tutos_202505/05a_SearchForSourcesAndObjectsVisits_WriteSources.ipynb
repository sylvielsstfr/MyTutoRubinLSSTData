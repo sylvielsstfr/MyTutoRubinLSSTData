{
 "cells": [
  {
   "cell_type": "markdown",
   "id": "adda26b1-7594-48da-94d2-6722bd71353c",
   "metadata": {},
   "source": [
    "# Tuto to find The sources and Visits and Objects in LSSTComCam"
   ]
  },
  {
   "cell_type": "markdown",
   "id": "1f276e2d-e5e1-4b30-bf3c-4ea950073fad",
   "metadata": {
    "execution": {
     "iopub.execute_input": "2025-04-29T08:48:57.989253Z",
     "iopub.status.busy": "2025-04-29T08:48:57.988923Z",
     "iopub.status.idle": "2025-04-29T08:48:57.993268Z",
     "shell.execute_reply": "2025-04-29T08:48:57.992764Z",
     "shell.execute_reply.started": "2025-04-29T08:48:57.989226Z"
    }
   },
   "source": [
    "- author : Sylvie Dagoret-Campagne\n",
    "- affiliation : IJCLab/IN2P3/CNRS\n",
    "- member : DESC, rubin-inkind\n",
    "- creation date : 2025-05-03\n",
    "- last update : 2025-05-03"
   ]
  },
  {
   "cell_type": "markdown",
   "id": "81c11161-2bd4-4317-812a-f246f3f70d81",
   "metadata": {},
   "source": [
    "## Note on work done on LSSTComCam Commissioning : https://sitcomtn-149.lsst.io/\n",
    "## Note Data Product definition Document : https://lse-163.lsst.io/"
   ]
  },
  {
   "cell_type": "code",
   "execution_count": null,
   "id": "72f36e25-589c-4a8c-865f-8b51f5f35270",
   "metadata": {
    "execution": {
     "iopub.execute_input": "2025-05-03T18:10:01.201411Z",
     "iopub.status.busy": "2025-05-03T18:10:01.201287Z",
     "iopub.status.idle": "2025-05-03T18:10:02.243743Z",
     "shell.execute_reply": "2025-05-03T18:10:02.243239Z",
     "shell.execute_reply.started": "2025-05-03T18:10:01.201395Z"
    }
   },
   "outputs": [],
   "source": [
    "import sys, os\n",
    "import matplotlib.pyplot as plt\n",
    "import lsst.afw.display as afwDisplay\n",
    "import numpy as np\n",
    "import pandas as pd\n",
    "from astropy.time import Time\n",
    "# %matplotlib widget"
   ]
  },
  {
   "cell_type": "code",
   "execution_count": null,
   "id": "42897fba-1ca4-4f20-837d-bd7478ac4548",
   "metadata": {
    "execution": {
     "iopub.execute_input": "2025-05-03T18:10:02.245845Z",
     "iopub.status.busy": "2025-05-03T18:10:02.245715Z",
     "iopub.status.idle": "2025-05-03T18:10:02.270459Z",
     "shell.execute_reply": "2025-05-03T18:10:02.270011Z",
     "shell.execute_reply.started": "2025-05-03T18:10:02.245830Z"
    }
   },
   "outputs": [],
   "source": [
    "import lsst.geom as geom\n",
    "from lsst.geom import SpherePoint, degrees, Point2D, Point2I\n",
    "from lsst.skymap import PatchInfo, Index2D"
   ]
  },
  {
   "cell_type": "code",
   "execution_count": null,
   "id": "f2580923-bf82-4204-a50d-c64eb56b9f06",
   "metadata": {
    "execution": {
     "iopub.execute_input": "2025-05-03T18:10:02.272405Z",
     "iopub.status.busy": "2025-05-03T18:10:02.272273Z",
     "iopub.status.idle": "2025-05-03T18:10:02.274608Z",
     "shell.execute_reply": "2025-05-03T18:10:02.274195Z",
     "shell.execute_reply.started": "2025-05-03T18:10:02.272391Z"
    }
   },
   "outputs": [],
   "source": [
    "plt.rcParams[\"figure.figsize\"] = (10, 6)\n",
    "plt.rcParams[\"axes.labelsize\"] = \"x-large\"\n",
    "plt.rcParams[\"axes.titlesize\"] = \"x-large\"\n",
    "plt.rcParams[\"xtick.labelsize\"] = \"x-large\"\n",
    "plt.rcParams[\"ytick.labelsize\"] = \"x-large\""
   ]
  },
  {
   "cell_type": "code",
   "execution_count": null,
   "id": "d47f09df-7496-431c-b4ae-4fb75a3c6ef9",
   "metadata": {
    "execution": {
     "iopub.execute_input": "2025-05-03T18:10:02.276382Z",
     "iopub.status.busy": "2025-05-03T18:10:02.276247Z",
     "iopub.status.idle": "2025-05-03T18:10:02.287328Z",
     "shell.execute_reply": "2025-05-03T18:10:02.286914Z",
     "shell.execute_reply.started": "2025-05-03T18:10:02.276370Z"
    }
   },
   "outputs": [],
   "source": [
    "import gc"
   ]
  },
  {
   "cell_type": "code",
   "execution_count": null,
   "id": "1a1a267b-58c7-468a-a336-2c8def253a79",
   "metadata": {
    "execution": {
     "iopub.execute_input": "2025-05-03T18:10:02.288090Z",
     "iopub.status.busy": "2025-05-03T18:10:02.287798Z",
     "iopub.status.idle": "2025-05-03T18:10:02.300124Z",
     "shell.execute_reply": "2025-05-03T18:10:02.299709Z",
     "shell.execute_reply.started": "2025-05-03T18:10:02.288068Z"
    }
   },
   "outputs": [],
   "source": [
    "import traceback"
   ]
  },
  {
   "cell_type": "code",
   "execution_count": null,
   "id": "ede21bda-146f-4c77-aa40-edf2debfbfc0",
   "metadata": {
    "execution": {
     "iopub.execute_input": "2025-05-03T18:10:02.300702Z",
     "iopub.status.busy": "2025-05-03T18:10:02.300574Z",
     "iopub.status.idle": "2025-05-03T18:10:03.259925Z",
     "shell.execute_reply": "2025-05-03T18:10:03.259385Z",
     "shell.execute_reply.started": "2025-05-03T18:10:02.300689Z"
    }
   },
   "outputs": [],
   "source": [
    "# Define butler\n",
    "from lsst.daf.butler import Butler"
   ]
  },
  {
   "cell_type": "code",
   "execution_count": null,
   "id": "c7ab7fe3-285d-48c2-973a-2dde9d0a7faa",
   "metadata": {
    "execution": {
     "iopub.execute_input": "2025-05-03T18:10:03.260594Z",
     "iopub.status.busy": "2025-05-03T18:10:03.260454Z",
     "iopub.status.idle": "2025-05-03T18:10:03.943452Z",
     "shell.execute_reply": "2025-05-03T18:10:03.942808Z",
     "shell.execute_reply.started": "2025-05-03T18:10:03.260579Z"
    }
   },
   "outputs": [],
   "source": [
    "!eups list lsst_distrib"
   ]
  },
  {
   "cell_type": "code",
   "execution_count": null,
   "id": "6ef70114-5b91-4358-b25b-0283c8cc1e52",
   "metadata": {
    "execution": {
     "iopub.execute_input": "2025-05-03T18:10:03.944466Z",
     "iopub.status.busy": "2025-05-03T18:10:03.944313Z",
     "iopub.status.idle": "2025-05-03T18:10:03.947257Z",
     "shell.execute_reply": "2025-05-03T18:10:03.946887Z",
     "shell.execute_reply.started": "2025-05-03T18:10:03.944448Z"
    }
   },
   "outputs": [],
   "source": [
    "# def nJy_to_ab_mag(f_njy):\n",
    "#    \"\"\"Convert flux in nanojanskys to AB magnitude.\"\"\"\n",
    "#    if f_njy > 0:\n",
    "#        return -2.5 * np.log10(f_njy) + 31.4\n",
    "#    else:\n",
    "#        return 0.0\n",
    "\n",
    "\n",
    "def ab_mag_to_nJy(mag_ab):\n",
    "    \"\"\"Convert AB magnitude to flux in nanojanskys.\"\"\"\n",
    "    return 10 ** ((31.4 - mag_ab) / 2.5)"
   ]
  },
  {
   "cell_type": "code",
   "execution_count": null,
   "id": "94118be8-23f9-49e8-bf7d-9582d95287e6",
   "metadata": {
    "execution": {
     "iopub.execute_input": "2025-05-03T18:10:03.947852Z",
     "iopub.status.busy": "2025-05-03T18:10:03.947727Z",
     "iopub.status.idle": "2025-05-03T18:10:03.959473Z",
     "shell.execute_reply": "2025-05-03T18:10:03.959056Z",
     "shell.execute_reply.started": "2025-05-03T18:10:03.947840Z"
    }
   },
   "outputs": [],
   "source": [
    "import numpy as np\n",
    "import pandas as pd\n",
    "\n",
    "\n",
    "def nJy_to_ab_mag(f_njy):\n",
    "    \"\"\"Convert scalar or array flux in nJy to AB magnitude.\"\"\"\n",
    "    f_njy = np.asarray(f_njy)\n",
    "    mag = np.full_like(f_njy, fill_value=np.nan, dtype=float)\n",
    "    mask = f_njy > 0\n",
    "    mag[mask] = -2.5 * np.log10(f_njy[mask]) + 31.4\n",
    "    return mag\n",
    "\n",
    "\n",
    "def nJy_err_to_ab_err(f_njy, f_err):\n",
    "    \"\"\"Propagate flux error to magnitude error.\"\"\"\n",
    "    f_njy = np.asarray(f_njy)\n",
    "    f_err = np.asarray(f_err)\n",
    "    mag_err = np.full_like(f_njy, fill_value=np.nan, dtype=float)\n",
    "    mask = (f_njy > 0) & (f_err > 0)\n",
    "    mag_err[mask] = (2.5 / np.log(10)) * (f_err[mask] / f_njy[mask])\n",
    "    return mag_err"
   ]
  },
  {
   "cell_type": "code",
   "execution_count": null,
   "id": "dbe3a976-0df1-4b45-8774-fd985a847821",
   "metadata": {
    "execution": {
     "iopub.execute_input": "2025-05-03T18:10:03.960054Z",
     "iopub.status.busy": "2025-05-03T18:10:03.959929Z",
     "iopub.status.idle": "2025-05-03T18:10:03.971734Z",
     "shell.execute_reply": "2025-05-03T18:10:03.971372Z",
     "shell.execute_reply.started": "2025-05-03T18:10:03.960041Z"
    }
   },
   "outputs": [],
   "source": [
    "def select_visits_in_patch(df, tractInfo, patchInfo):\n",
    "    \"\"\"\n",
    "    Sélectionne les lignes du DataFrame correspondant à des visites dans un patch donné.\n",
    "\n",
    "    Paramètres\n",
    "    ----------\n",
    "    df : pandas.DataFrame\n",
    "        Doit contenir les colonnes 'ra' et 'dec' en degrés.\n",
    "    tractInfo : lsst.skymap.TractInfo\n",
    "    patchInfo : lsst.skymap.PatchInfo\n",
    "\n",
    "    Retourne\n",
    "    --------\n",
    "    df_filtered : pandas.DataFrame\n",
    "        Les lignes du DataFrame dont les RA/Dec sont dans le patch spécifié.\n",
    "    \"\"\"\n",
    "    wcs = tractInfo.getWcs()\n",
    "    bbox = patchInfo.getOuterBBox()\n",
    "\n",
    "    def is_inside_patch(ra, dec):\n",
    "        coord = SpherePoint(ra * degrees, dec * degrees)\n",
    "        if not tractInfo.contains(coord):\n",
    "            return False\n",
    "        pix = wcs.skyToPixel(coord)\n",
    "        return bbox.contains(Point2I(pix))\n",
    "\n",
    "    mask = df.apply(lambda row: is_inside_patch(row[\"ra\"], row[\"dec\"]), axis=1)\n",
    "    return df[mask].copy()"
   ]
  },
  {
   "cell_type": "code",
   "execution_count": null,
   "id": "b207720f-9aaf-40d0-b572-c582cddb35d6",
   "metadata": {
    "execution": {
     "iopub.execute_input": "2025-05-03T18:10:03.972331Z",
     "iopub.status.busy": "2025-05-03T18:10:03.972201Z",
     "iopub.status.idle": "2025-05-03T18:10:03.981340Z",
     "shell.execute_reply": "2025-05-03T18:10:03.980965Z",
     "shell.execute_reply.started": "2025-05-03T18:10:03.972318Z"
    }
   },
   "outputs": [],
   "source": [
    "# Tested but long\n",
    "def assign_tract_patch(df, skyMap):\n",
    "    \"\"\"\n",
    "    Attribue (tract, patch) à chaque ligne d’un DataFrame selon ses coordonnées célestes.\n",
    "\n",
    "    Paramètres\n",
    "    ----------\n",
    "    df : pandas.DataFrame\n",
    "        Doit contenir les colonnes 'ra' et 'dec' (en degrés).\n",
    "    skyMap : lsst.skymap.SkyMap\n",
    "        Obtenu via butler.get(\"skyMap\")\n",
    "\n",
    "    Retour\n",
    "    ------\n",
    "    df_result : pandas.DataFrame\n",
    "        DataFrame original avec deux colonnes supplémentaires :\n",
    "        'tract' et 'patch' (tuple (x, y) ou None si hors carte).\n",
    "    \"\"\"\n",
    "\n",
    "    def find_tract_patch(ra, dec):\n",
    "        coord = SpherePoint(ra * degrees, dec * degrees)\n",
    "        for tractInfo in skyMap:\n",
    "            if tractInfo.contains(coord):\n",
    "                wcs = tractInfo.getWcs()\n",
    "                pix = wcs.skyToPixel(coord)\n",
    "                point = Point2I(pix)\n",
    "                for patchInfo in tractInfo:\n",
    "                    if patchInfo.getOuterBBox().contains(point):\n",
    "                        return tractInfo.getId(), patchInfo.getSequentialIndex()\n",
    "        return None, None\n",
    "\n",
    "    results = df.apply(lambda row: find_tract_patch(row[\"ra\"], row[\"dec\"]), axis=1)\n",
    "    df[[\"tract\", \"patch\"]] = pd.DataFrame(results.tolist(), index=df.index)\n",
    "    return df"
   ]
  },
  {
   "cell_type": "code",
   "execution_count": null,
   "id": "c537827d-6be7-47ef-8363-5e85cb2cde5f",
   "metadata": {
    "execution": {
     "iopub.execute_input": "2025-05-03T18:10:03.981931Z",
     "iopub.status.busy": "2025-05-03T18:10:03.981802Z",
     "iopub.status.idle": "2025-05-03T18:10:03.996026Z",
     "shell.execute_reply": "2025-05-03T18:10:03.995678Z",
     "shell.execute_reply.started": "2025-05-03T18:10:03.981918Z"
    }
   },
   "outputs": [],
   "source": [
    "# Not tested\n",
    "def filter_in_patch_vectorized(df, tractInfo, patchInfo):\n",
    "    \"\"\"\n",
    "    Sélection rapide (vectorisée) d’un sous-ensemble RA/Dec inclus dans un patch donné.\n",
    "\n",
    "    Attention : plus rapide, mais approximatif si les coordonnées sont très en bordure.\n",
    "\n",
    "    Paramètres\n",
    "    ----------\n",
    "    df : pandas.DataFrame avec colonnes 'ra', 'dec'\n",
    "    tractInfo : TractInfo\n",
    "    patchInfo : PatchInfo\n",
    "\n",
    "    Retour\n",
    "    ------\n",
    "    df_filtered : pandas.DataFrame\n",
    "    \"\"\"\n",
    "    wcs = tractInfo.getWcs()\n",
    "    bbox = patchInfo.getOuterBBox()\n",
    "\n",
    "    # Conversion RA/Dec → radians\n",
    "    ra_rad = np.deg2rad(df[\"ra\"].values)\n",
    "    dec_rad = np.deg2rad(df[\"dec\"].values)\n",
    "\n",
    "    # Conversion → Point2D (skyToPixel produit Point2D, pas Point2I)\n",
    "    pix_x = []\n",
    "    pix_y = []\n",
    "    for ra, dec in zip(ra_rad, dec_rad):\n",
    "        sp = SpherePoint(ra, dec)\n",
    "        pix = wcs.skyToPixel(sp)\n",
    "        pix_x.append(pix.getX())\n",
    "        pix_y.append(pix.getY())\n",
    "\n",
    "    pix_x = np.array(pix_x)\n",
    "    pix_y = np.array(pix_y)\n",
    "\n",
    "    # BBox (xmin, xmax, ymin, ymax)\n",
    "    xmin, xmax = bbox.getMinX(), bbox.getMaxX()\n",
    "    ymin, ymax = bbox.getMinY(), bbox.getMaxY()\n",
    "\n",
    "    # Masque vectoriel\n",
    "    mask = (pix_x >= xmin) & (pix_x <= xmax) & (pix_y >= ymin) & (pix_y <= ymax)\n",
    "\n",
    "    return df[mask].copy()"
   ]
  },
  {
   "cell_type": "markdown",
   "id": "7e369002-01db-40e2-a7b7-036072114e6a",
   "metadata": {},
   "source": [
    "## RubinTV, Campaigns , quicklook\n",
    "- RubinTV : https://usdf-rsp.slac.stanford.edu/rubintv/summit-usdf/lsstcam\n",
    "- https://rubinobs.atlassian.net/wiki/spaces/LSSTCOM/pages/467370016/LSSTCam+Commissioning+Planning\n",
    "- LSSTCam DM campaign : https://rubinobs.atlassian.net/wiki/spaces/DM/pages/48834013/Campaigns#1.1.2.-LSSTCam-Nightly-Validation-Pipeline\n",
    "- Check campaign also here  https://rubinobs.atlassian.net/wiki/pages/diffpagesbyversion.action?pageId=48834013&selectedPageVersions=145%2C143\n",
    "- fov-quicklook : https://usdf-rsp-dev.slac.stanford.edu/fov-quicklook/"
   ]
  },
  {
   "cell_type": "markdown",
   "id": "4ce495c8-71a6-4846-86fc-5715e13348ab",
   "metadata": {},
   "source": [
    "## Configuration"
   ]
  },
  {
   "cell_type": "code",
   "execution_count": null,
   "id": "91e7b166-6245-4e54-8cb1-21f34fbba78f",
   "metadata": {
    "execution": {
     "iopub.execute_input": "2025-05-03T18:10:03.996592Z",
     "iopub.status.busy": "2025-05-03T18:10:03.996466Z",
     "iopub.status.idle": "2025-05-03T18:10:04.007352Z",
     "shell.execute_reply": "2025-05-03T18:10:04.006993Z",
     "shell.execute_reply.started": "2025-05-03T18:10:03.996580Z"
    }
   },
   "outputs": [],
   "source": [
    "FLAG_DUMP_COLLECTIONS = False\n",
    "FLAG_DUMP_DATASETS = True\n",
    "FLAG_DUMP_OBJECTSTABLECOLUMNS = False\n",
    "FLAG_DUMP_VISITTABLEECOLUMNS = True\n",
    "FLAG_COMPUTE_VISITSTRACTSPATCHS = False"
   ]
  },
  {
   "cell_type": "code",
   "execution_count": null,
   "id": "566b4b6f-68ac-472f-9a14-9645d06d291a",
   "metadata": {
    "execution": {
     "iopub.execute_input": "2025-05-03T18:10:04.007923Z",
     "iopub.status.busy": "2025-05-03T18:10:04.007796Z",
     "iopub.status.idle": "2025-05-03T18:10:04.014478Z",
     "shell.execute_reply": "2025-05-03T18:10:04.014142Z",
     "shell.execute_reply.started": "2025-05-03T18:10:04.007911Z"
    }
   },
   "outputs": [],
   "source": [
    "all_bands = [\"u\", \"g\", \"r\", \"i\", \"z\", \"y\"]"
   ]
  },
  {
   "cell_type": "markdown",
   "id": "29bdd60b-f237-4a90-8aee-95f83091a5c8",
   "metadata": {},
   "source": [
    "### Choose instrument"
   ]
  },
  {
   "cell_type": "code",
   "execution_count": null,
   "id": "66ff700b-a6ab-4b6d-ab28-dfadf54fdd9f",
   "metadata": {
    "execution": {
     "iopub.execute_input": "2025-05-03T18:10:04.015049Z",
     "iopub.status.busy": "2025-05-03T18:10:04.014923Z",
     "iopub.status.idle": "2025-05-03T18:10:04.026259Z",
     "shell.execute_reply": "2025-05-03T18:10:04.025906Z",
     "shell.execute_reply.started": "2025-05-03T18:10:04.015037Z"
    }
   },
   "outputs": [],
   "source": [
    "# instrument = \"LSSTCam\"\n",
    "\n",
    "# We focus here on sky fields oberved by LSSTComCam, so we select this camera\n",
    "instrument = \"LSSTComCam\""
   ]
  },
  {
   "cell_type": "markdown",
   "id": "6a07464c-6f2e-4015-8ea6-1fbc5698c1dd",
   "metadata": {},
   "source": [
    "### Choose options"
   ]
  },
  {
   "cell_type": "markdown",
   "id": "29fc15af-ca3f-4c38-99ec-433e84dae8a2",
   "metadata": {},
   "source": [
    "### For LSSTCam : RubinTV, Campaigns , quicklook\n",
    "- RubinTV : https://usdf-rsp.slac.stanford.edu/rubintv/summit-usdf/lsstcam\n",
    "- https://rubinobs.atlassian.net/wiki/spaces/LSSTCOM/pages/467370016/LSSTCam+Commissioning+Planning\n",
    "- LSSTCam DM campaign : https://rubinobs.atlassian.net/wiki/spaces/DM/pages/48834013/Campaigns#1.1.2.-LSSTCam-Nightly-Validation-Pipeline\n",
    "- Check campaign also here  https://rubinobs.atlassian.net/wiki/pages/diffpagesbyversion.action?pageId=48834013&selectedPageVersions=145%2C143\n",
    "- fov-quicklook : https://usdf-rsp-dev.slac.stanford.edu/fov-quicklook/"
   ]
  },
  {
   "cell_type": "markdown",
   "id": "5542de7d-695e-4256-b765-28b902b02adc",
   "metadata": {},
   "source": [
    "### For LSSTComCam check here : \n",
    "- Check here the collection available : https://rubinobs.atlassian.net/wiki/spaces/DM/pages/226656354/LSSTComCam+Intermittent+Cumulative+DRP+Runs"
   ]
  },
  {
   "cell_type": "code",
   "execution_count": null,
   "id": "eacb14b0-183c-4dcd-ba59-64c7ca3efcd3",
   "metadata": {
    "execution": {
     "iopub.execute_input": "2025-05-03T18:10:04.026814Z",
     "iopub.status.busy": "2025-05-03T18:10:04.026684Z",
     "iopub.status.idle": "2025-05-03T18:10:04.034966Z",
     "shell.execute_reply": "2025-05-03T18:10:04.034616Z",
     "shell.execute_reply.started": "2025-05-03T18:10:04.026801Z"
    }
   },
   "outputs": [],
   "source": [
    "if instrument == \"LSSTCam\":\n",
    "    repo = \"/repo/embargo\"\n",
    "    instrument = \"LSSTCam\"\n",
    "    collection_validation = instrument + \"/runs/nightlyValidation\"\n",
    "    # collection_quicklook   = instrument + '/runs/quickLookTesting'\n",
    "    collection_validation = os.path.join(collection_validation, \"20250416/d_2025_04_15/DM-50157\")\n",
    "    date_start = 20250415\n",
    "    date_selection = 20250416\n",
    "    where_clause = \"instrument = '\" + f\"{instrument}\" + \"'\"\n",
    "    where_clause_instrument = \"instrument = '\" + instrument + \"'\"\n",
    "    where_clause_date = where_clause + f\"and day_obs >= {date_start}\"\n",
    "    skymapName = \"lsst_cells_v1\"\n",
    "    BANDSEL = \"i\"\n",
    "\n",
    "elif instrument == \"LSSTComCam\":\n",
    "    repo = \"/repo/main\"\n",
    "    collection_validation = \"LSSTComCam/runs/DRP/DP1/w_2025_10/DM-49359\"  # work 2025-05-01\n",
    "    # collection_validation = \"LSSTComCam/runs/DRP/DP1/w_2025_17/DM-50530\" #updated 2025-05-02\n",
    "    date_start = 20241024\n",
    "    date_selection = 20241211\n",
    "    skymapName = \"lsst_cells_v1\"\n",
    "    where_clause = \"instrument = '\" + instrument + \"'\"\n",
    "    where_clause_instrument = \"instrument = '\" + instrument + \"'\"\n",
    "    where_clause_date = where_clause + f\"and day_obs >= {date_start}\"\n",
    "\n",
    "    NDET = 9\n",
    "    TRACTSEL = 5063\n",
    "    BANDSEL = \"i\""
   ]
  },
  {
   "cell_type": "code",
   "execution_count": null,
   "id": "82535307-9253-4f06-b82a-956efd0217c9",
   "metadata": {
    "execution": {
     "iopub.execute_input": "2025-05-03T18:10:04.035531Z",
     "iopub.status.busy": "2025-05-03T18:10:04.035403Z",
     "iopub.status.idle": "2025-05-03T18:10:04.043874Z",
     "shell.execute_reply": "2025-05-03T18:10:04.043527Z",
     "shell.execute_reply.started": "2025-05-03T18:10:04.035518Z"
    }
   },
   "outputs": [],
   "source": [
    "collectionStr = collection_validation.replace(\"/\", \"_\")"
   ]
  },
  {
   "cell_type": "markdown",
   "id": "e77a39ca-c34f-4097-8a11-c40a121a82e9",
   "metadata": {},
   "source": [
    "## Access to Butler registry"
   ]
  },
  {
   "cell_type": "code",
   "execution_count": null,
   "id": "8726b7e4-94b7-48ac-92f8-447b34b7a59e",
   "metadata": {
    "execution": {
     "iopub.execute_input": "2025-05-03T18:10:04.044439Z",
     "iopub.status.busy": "2025-05-03T18:10:04.044314Z",
     "iopub.status.idle": "2025-05-03T18:10:04.486311Z",
     "shell.execute_reply": "2025-05-03T18:10:04.485840Z",
     "shell.execute_reply.started": "2025-05-03T18:10:04.044427Z"
    }
   },
   "outputs": [],
   "source": [
    "# Initialize the butler repo:\n",
    "butler = Butler(repo, collections=collection_validation)\n",
    "registry = butler.registry"
   ]
  },
  {
   "cell_type": "markdown",
   "id": "a82d1397-cd01-45d3-9f39-8b4f6bcbb21f",
   "metadata": {},
   "source": [
    "## Create a skymap object and Camera"
   ]
  },
  {
   "cell_type": "code",
   "execution_count": null,
   "id": "2a570834-a5dc-43b8-a0d3-af71a5b2706c",
   "metadata": {
    "execution": {
     "iopub.execute_input": "2025-05-03T18:10:04.486986Z",
     "iopub.status.busy": "2025-05-03T18:10:04.486844Z",
     "iopub.status.idle": "2025-05-03T18:10:04.890313Z",
     "shell.execute_reply": "2025-05-03T18:10:04.889792Z",
     "shell.execute_reply.started": "2025-05-03T18:10:04.486972Z"
    }
   },
   "outputs": [],
   "source": [
    "skymap = butler.get(\"skyMap\", skymap=skymapName, collections=collection_validation)"
   ]
  },
  {
   "cell_type": "code",
   "execution_count": null,
   "id": "8870762e-6e5d-4a6d-b101-1783285b1935",
   "metadata": {
    "execution": {
     "iopub.execute_input": "2025-05-03T18:10:04.891013Z",
     "iopub.status.busy": "2025-05-03T18:10:04.890876Z",
     "iopub.status.idle": "2025-05-03T18:10:05.470614Z",
     "shell.execute_reply": "2025-05-03T18:10:05.470156Z",
     "shell.execute_reply.started": "2025-05-03T18:10:04.890999Z"
    }
   },
   "outputs": [],
   "source": [
    "camera = butler.get(\"camera\", collections=collection_validation, instrument=instrument)"
   ]
  },
  {
   "cell_type": "markdown",
   "id": "f0e61f09-1f15-4f29-9555-d4015b09c5cc",
   "metadata": {},
   "source": [
    "## Query for collections in Butler\n",
    "\n",
    "- remove user collections\n",
    "- remove calibration products"
   ]
  },
  {
   "cell_type": "code",
   "execution_count": null,
   "id": "55edfcaa-96c0-49dc-827c-0167a0b6f731",
   "metadata": {
    "execution": {
     "iopub.execute_input": "2025-05-03T18:10:05.471326Z",
     "iopub.status.busy": "2025-05-03T18:10:05.471177Z",
     "iopub.status.idle": "2025-05-03T18:10:05.474076Z",
     "shell.execute_reply": "2025-05-03T18:10:05.473668Z",
     "shell.execute_reply.started": "2025-05-03T18:10:05.471310Z"
    }
   },
   "outputs": [],
   "source": [
    "# mostly setup for LSSTCam\n",
    "if FLAG_DUMP_COLLECTIONS:\n",
    "    for _ in sorted(registry.queryCollections(expression=instrument + \"/*\")):\n",
    "        if \"/calib/\" not in _ and \"u/\" not in _:\n",
    "            print(_)"
   ]
  },
  {
   "cell_type": "markdown",
   "id": "3ff90940-a996-4174-97b4-beb8895ae7a4",
   "metadata": {},
   "source": [
    "## Query for the dataset types in the Butler\n",
    "\n",
    "- Refer to the Data Product definition Document to know about the definition of datasets\n",
    "- https://www.lsst.org/about/dm/data-products\n",
    "- https://lse-163.lsst.io/\n",
    "- https://docushare.lsst.org/docushare/dsweb/Get/LSE-163"
   ]
  },
  {
   "cell_type": "code",
   "execution_count": null,
   "id": "4c411a6c-6a67-437e-86d6-720e4d5a4a4b",
   "metadata": {
    "execution": {
     "iopub.execute_input": "2025-05-03T18:10:05.474691Z",
     "iopub.status.busy": "2025-05-03T18:10:05.474546Z",
     "iopub.status.idle": "2025-05-03T18:15:02.250494Z",
     "shell.execute_reply": "2025-05-03T18:15:02.250102Z",
     "shell.execute_reply.started": "2025-05-03T18:10:05.474676Z"
    }
   },
   "outputs": [],
   "source": [
    "if FLAG_DUMP_DATASETS:\n",
    "    for datasetType in registry.queryDatasetTypes():\n",
    "        if registry.queryDatasets(datasetType, collections=collection_validation).any(\n",
    "            execute=False, exact=False\n",
    "        ):\n",
    "            # Limit search results to the data products\n",
    "            if (\n",
    "                (\"_config\" not in datasetType.name)\n",
    "                and (\"_log\" not in datasetType.name)\n",
    "                and (\"_metadata\" not in datasetType.name)\n",
    "                and (\"_resource_usage\" not in datasetType.name)\n",
    "                and (\"Plot\" not in datasetType.name)\n",
    "                and (\"Metric\" not in datasetType.name)\n",
    "                and (\"metric\" not in datasetType.name)\n",
    "            ):\n",
    "                if \"object\" in datasetType.name or \"Obj\" in datasetType.name:\n",
    "                    print(datasetType)\n",
    "                if \"source\" in datasetType.name or \"Source\" in datasetType.name:\n",
    "                    print(datasetType)\n",
    "                if \"visit\" in datasetType.name or \"Visit\" in datasetType.name:\n",
    "                    print(datasetType)"
   ]
  },
  {
   "cell_type": "markdown",
   "id": "f78111e1-238c-4641-b3c1-0faebbbb89b1",
   "metadata": {},
   "source": [
    "## Region of interest"
   ]
  },
  {
   "cell_type": "code",
   "execution_count": null,
   "id": "6d0b6ebe-24c0-4046-9657-7187929a5f9a",
   "metadata": {
    "execution": {
     "iopub.execute_input": "2025-05-03T18:15:02.254112Z",
     "iopub.status.busy": "2025-05-03T18:15:02.253961Z",
     "iopub.status.idle": "2025-05-03T18:15:02.257277Z",
     "shell.execute_reply": "2025-05-03T18:15:02.256972Z",
     "shell.execute_reply.started": "2025-05-03T18:15:02.254097Z"
    }
   },
   "outputs": [],
   "source": [
    "lsstcomcam_targets = {}\n",
    "lsstcomcam_targets[\"47 Tuc\"] = {\"field_name\": \"47 Tuc Globular Cluster\", \"ra\": 6.02, \"dec\": -72.08}\n",
    "lsstcomcam_targets[\"Rubin SV 38 7\"] = {\"field_name\": \"Low Ecliptic Latitude Field\", \"ra\": 37.86, \"dec\": 6.98}\n",
    "lsstcomcam_targets[\"Fornax dSph\"] = {\n",
    "    \"field_name\": \"Fornax Dwarf Spheroidal Galaxy\",\n",
    "    \"ra\": 40.0,\n",
    "    \"dec\": -34.45,\n",
    "}\n",
    "lsstcomcam_targets[\"ECDFS\"] = {\"field_name\": \"Extended Chandra Deep Field South\", \"ra\": 53.13, \"dec\": -28.10}\n",
    "lsstcomcam_targets[\"EDFS\"] = {\"field_name\": \"Euclid Deep Field South\", \"ra\": 59.10, \"dec\": -48.73}\n",
    "lsstcomcam_targets[\"Rubin SV 95 -25\"] = {\n",
    "    \"field_name\": \"Low Galactic Latitude Field\",\n",
    "    \"ra\": 95.00,\n",
    "    \"dec\": -25.0,\n",
    "}\n",
    "lsstcomcam_targets[\"Seagull\"] = {\"field_name\": \"Seagull Nebula\", \"ra\": 106.23, \"dec\": -10.51}"
   ]
  },
  {
   "cell_type": "code",
   "execution_count": null,
   "id": "2fdc2905-3fd5-485e-a66b-56927d3de02f",
   "metadata": {
    "execution": {
     "iopub.execute_input": "2025-05-03T18:15:02.257752Z",
     "iopub.status.busy": "2025-05-03T18:15:02.257629Z",
     "iopub.status.idle": "2025-05-03T18:15:02.271259Z",
     "shell.execute_reply": "2025-05-03T18:15:02.270957Z",
     "shell.execute_reply.started": "2025-05-03T18:15:02.257739Z"
    }
   },
   "outputs": [],
   "source": [
    "# the_target = lsstcomcam_targets[\"Seagull\"]\n",
    "# the_target = lsstcomcam_targets[\"47 Tuc\"] # bad\n",
    "# the_target = lsstcomcam_targets[\"Fornax dSph\"]\n",
    "# the_target = lsstcomcam_targets[\"ECDFS\"]\n",
    "\n",
    "\n",
    "# key = \"Seagull\"\n",
    "# key = \"Fornax dSph\"\n",
    "key = \"ECDFS\"\n",
    "# key = \"EDFS\"\n",
    "# key = \"47 Tuc\"\n",
    "# key = \"Rubin SV 38 7\"\n",
    "# key = \"Rubin SV 95 -25\"\n",
    "\n",
    "keyfield = \"\".join(key.split())\n",
    "\n",
    "the_target = lsstcomcam_targets[key]\n",
    "target_ra = the_target[\"ra\"]\n",
    "target_dec = the_target[\"dec\"]\n",
    "target_title = (\n",
    "    the_target[\"field_name\"] + f\" band  {BANDSEL} \" + f\" (ra,dec) = ({target_ra:.2f},{target_dec:.2f}) \"\n",
    ")\n",
    "target_point = SpherePoint(target_ra, target_dec, degrees)"
   ]
  },
  {
   "cell_type": "markdown",
   "id": "5097cdde-6283-4499-aaaa-57e799bdd53a",
   "metadata": {},
   "source": [
    "## Get list of tracts from the objectTable_tract"
   ]
  },
  {
   "cell_type": "code",
   "execution_count": null,
   "id": "3560cdd4-3d7e-4325-a3f5-07a0d70a8360",
   "metadata": {
    "execution": {
     "iopub.execute_input": "2025-05-03T18:15:02.271723Z",
     "iopub.status.busy": "2025-05-03T18:15:02.271602Z",
     "iopub.status.idle": "2025-05-03T18:15:02.279378Z",
     "shell.execute_reply": "2025-05-03T18:15:02.279086Z",
     "shell.execute_reply.started": "2025-05-03T18:15:02.271710Z"
    }
   },
   "outputs": [],
   "source": [
    "# Find the dimension\n",
    "print(butler.registry.getDatasetType(\"objectTable_tract\").dimensions)"
   ]
  },
  {
   "cell_type": "code",
   "execution_count": null,
   "id": "e07d2107-8c9e-485e-89bc-ec6e52fa10f4",
   "metadata": {
    "execution": {
     "iopub.execute_input": "2025-05-03T18:15:02.279835Z",
     "iopub.status.busy": "2025-05-03T18:15:02.279715Z",
     "iopub.status.idle": "2025-05-03T18:15:02.321077Z",
     "shell.execute_reply": "2025-05-03T18:15:02.320763Z",
     "shell.execute_reply.started": "2025-05-03T18:15:02.279822Z"
    }
   },
   "outputs": [],
   "source": [
    "datasettype = \"objectTable_tract\"\n",
    "therefs = butler.registry.queryDatasets(datasettype, collections=collection_validation)\n",
    "tractsId_list = np.unique([ref.dataId[\"tract\"] for ref in therefs])\n",
    "tractsId_list = sorted(tractsId_list)\n",
    "print(tractsId_list)"
   ]
  },
  {
   "cell_type": "markdown",
   "id": "f060f57d-ac96-4ec7-8a94-f760e118248a",
   "metadata": {},
   "source": [
    "## Find the Tract and Patch of the region of interest\n",
    "\n",
    "- tract in tractNbSel\n",
    "- patch in patchNbSel"
   ]
  },
  {
   "cell_type": "code",
   "execution_count": null,
   "id": "ea99cc96-a0bf-4dec-9418-895e5569688b",
   "metadata": {
    "execution": {
     "iopub.execute_input": "2025-05-03T18:15:02.321582Z",
     "iopub.status.busy": "2025-05-03T18:15:02.321454Z",
     "iopub.status.idle": "2025-05-03T18:15:02.326499Z",
     "shell.execute_reply": "2025-05-03T18:15:02.326204Z",
     "shell.execute_reply.started": "2025-05-03T18:15:02.321568Z"
    }
   },
   "outputs": [],
   "source": [
    "tract_info = skymap.findTract(target_point)\n",
    "patch_info = tract_info.findPatch(target_point)\n",
    "bbox = patch_info.getOuterBBox()\n",
    "\n",
    "print(\"Patch bounding box:\", bbox)\n",
    "\n",
    "print(\"Tract ID :\", tract_info.getId())\n",
    "tractNbSel = tract_info.getId()\n",
    "\n",
    "print(\"Patch Index :\", patch_info.getIndex(), \" , \", patch_info.getSequentialIndex())  # (x, y)\n",
    "print(\"Bounding Box\", bbox)\n",
    "\n",
    "patchNbSel = patch_info.getSequentialIndex()"
   ]
  },
  {
   "cell_type": "code",
   "execution_count": null,
   "id": "e1df364f-89a7-4a94-9541-89a05d75004c",
   "metadata": {
    "execution": {
     "iopub.execute_input": "2025-05-03T18:15:02.326981Z",
     "iopub.status.busy": "2025-05-03T18:15:02.326858Z",
     "iopub.status.idle": "2025-05-03T18:15:02.334712Z",
     "shell.execute_reply": "2025-05-03T18:15:02.334426Z",
     "shell.execute_reply.started": "2025-05-03T18:15:02.326968Z"
    }
   },
   "outputs": [],
   "source": [
    "dataId = {\"band\": BANDSEL, \"tract\": tractNbSel, \"patch\": patchNbSel, \"skymap\": skymapName}"
   ]
  },
  {
   "cell_type": "markdown",
   "id": "131ff71d-cee0-4141-ac33-c8f33758a584",
   "metadata": {},
   "source": [
    "## The Objects\n",
    "\n",
    "- Objects are extracted from object detection on deepcoadds\n",
    "- all bands are included "
   ]
  },
  {
   "cell_type": "code",
   "execution_count": null,
   "id": "da53ac66-c2fc-4b54-a19b-0e6d2def56a9",
   "metadata": {
    "execution": {
     "iopub.execute_input": "2025-05-03T18:15:02.335187Z",
     "iopub.status.busy": "2025-05-03T18:15:02.335057Z",
     "iopub.status.idle": "2025-05-03T18:15:02.343701Z",
     "shell.execute_reply": "2025-05-03T18:15:02.343418Z",
     "shell.execute_reply.started": "2025-05-03T18:15:02.335175Z"
    }
   },
   "outputs": [],
   "source": [
    "print(butler.registry.getDatasetType(\"objectTable\").dimensions)"
   ]
  },
  {
   "cell_type": "code",
   "execution_count": null,
   "id": "3e6b671b-f1c2-48ce-97ea-1eef0fa56cca",
   "metadata": {
    "execution": {
     "iopub.execute_input": "2025-05-03T18:15:02.344175Z",
     "iopub.status.busy": "2025-05-03T18:15:02.344045Z",
     "iopub.status.idle": "2025-05-03T18:15:02.361709Z",
     "shell.execute_reply": "2025-05-03T18:15:02.361430Z",
     "shell.execute_reply.started": "2025-05-03T18:15:02.344162Z"
    }
   },
   "outputs": [],
   "source": [
    "# cannot add a filter on band\n",
    "where_clause_skymap = f\"skymap = '{skymapName}' AND tract = {tractNbSel} AND patch = {patchNbSel}\"\n",
    "print(where_clause)"
   ]
  },
  {
   "cell_type": "code",
   "execution_count": null,
   "id": "064b709e-fd22-453f-a89c-8feeb6a157c7",
   "metadata": {
    "execution": {
     "iopub.execute_input": "2025-05-03T18:15:02.362190Z",
     "iopub.status.busy": "2025-05-03T18:15:02.362052Z",
     "iopub.status.idle": "2025-05-03T18:15:02.909577Z",
     "shell.execute_reply": "2025-05-03T18:15:02.909177Z",
     "shell.execute_reply.started": "2025-05-03T18:15:02.362177Z"
    }
   },
   "outputs": [],
   "source": [
    "dataset_refs = list(\n",
    "    butler.registry.queryDatasets(\"objectTable\", collections=collection_validation, where=where_clause_skymap)\n",
    ")\n",
    "# Récupère un des refs valides\n",
    "Nrefs = len(dataset_refs)\n",
    "print(f\"Number of objectTables : {Nrefs}\")\n",
    "ref = dataset_refs[0]\n",
    "t = butler.get(ref)\n",
    "Nobj = len(t)\n",
    "# del t\n",
    "# gc.collect()\n",
    "print(f\"Total Number of objects {Nobj}\")"
   ]
  },
  {
   "cell_type": "markdown",
   "id": "584463e6-5694-4bfd-a5f3-c0021e8c64bc",
   "metadata": {
    "execution": {
     "iopub.execute_input": "2025-05-01T20:56:43.699655Z",
     "iopub.status.busy": "2025-05-01T20:56:43.699512Z",
     "iopub.status.idle": "2025-05-01T20:56:43.702758Z",
     "shell.execute_reply": "2025-05-01T20:56:43.702457Z",
     "shell.execute_reply.started": "2025-05-01T20:56:43.699640Z"
    }
   },
   "source": [
    "Oui, dans ce type de objectTable, les colonnes comme g_psfFlux, g_kronFlux, g_cModelFlux, etc., sont des flux calibrés (en nJy ou en unité de calibration interne du pipeline). Pour les convertir en magnitudes AB, tu peux utiliser la formule classique :"
   ]
  },
  {
   "cell_type": "code",
   "execution_count": null,
   "id": "069c5c04-af0c-47b3-893d-7c6ccf2c76a1",
   "metadata": {
    "execution": {
     "iopub.execute_input": "2025-05-03T18:15:02.910194Z",
     "iopub.status.busy": "2025-05-03T18:15:02.910048Z",
     "iopub.status.idle": "2025-05-03T18:15:02.912667Z",
     "shell.execute_reply": "2025-05-03T18:15:02.912311Z",
     "shell.execute_reply.started": "2025-05-03T18:15:02.910179Z"
    }
   },
   "outputs": [],
   "source": [
    "# Utilise ref.datasetType.name pour lister les colonnes disponibles\n",
    "if FLAG_DUMP_OBJECTSTABLECOLUMNS:\n",
    "    t_columns = list(butler.get(ref).columns)\n",
    "    print(t_columns)"
   ]
  },
  {
   "cell_type": "code",
   "execution_count": null,
   "id": "7c6648f9-6053-4343-aab6-56cb9648c599",
   "metadata": {
    "execution": {
     "iopub.execute_input": "2025-05-03T18:15:02.913204Z",
     "iopub.status.busy": "2025-05-03T18:15:02.913060Z",
     "iopub.status.idle": "2025-05-03T18:15:02.919674Z",
     "shell.execute_reply": "2025-05-03T18:15:02.919325Z",
     "shell.execute_reply.started": "2025-05-03T18:15:02.913191Z"
    }
   },
   "outputs": [],
   "source": [
    "# La constante 31.4 correspond à la conversion AB standard pour un flux exprimé en nanoJanskys (nJy).\n",
    "# À vérifier selon l’unité exacte utilisée par le pipeline sur ton RSP\n",
    "# (souvent c’est bien nJy, mais ça peut être autre chose si la calibration a été changée).\n",
    "# mag = -2.5 * np.log10(flux) + 31.4"
   ]
  },
  {
   "cell_type": "markdown",
   "id": "b8b79b04-f91f-409c-b914-b9ec41347c6a",
   "metadata": {},
   "source": [
    "## Visits\n",
    "\n",
    "- Visits allows to make a link between a visit id and an observation time, the (ra,dec) of the telescope, the observation time and observation conditions such airmass, exposure time.\n",
    "- This allow us to make a selection of visits for which we can select the sources in the Tract-Patch selected"
   ]
  },
  {
   "cell_type": "code",
   "execution_count": null,
   "id": "6b5410a4-5e85-401f-938d-abfc1c1c9669",
   "metadata": {
    "execution": {
     "iopub.execute_input": "2025-05-03T18:15:02.920196Z",
     "iopub.status.busy": "2025-05-03T18:15:02.920060Z",
     "iopub.status.idle": "2025-05-03T18:15:02.977938Z",
     "shell.execute_reply": "2025-05-03T18:15:02.977593Z",
     "shell.execute_reply.started": "2025-05-03T18:15:02.920183Z"
    }
   },
   "outputs": [],
   "source": [
    "datasettype = \"visitTable\""
   ]
  },
  {
   "cell_type": "code",
   "execution_count": null,
   "id": "0a544046-a5d3-477a-a3ec-648b6e0d0599",
   "metadata": {
    "execution": {
     "iopub.execute_input": "2025-05-03T18:15:02.978469Z",
     "iopub.status.busy": "2025-05-03T18:15:02.978329Z",
     "iopub.status.idle": "2025-05-03T18:15:02.990410Z",
     "shell.execute_reply": "2025-05-03T18:15:02.990037Z",
     "shell.execute_reply.started": "2025-05-03T18:15:02.978457Z"
    }
   },
   "outputs": [],
   "source": [
    "print(butler.registry.getDatasetType(datasettype).dimensions)\n",
    "print(where_clause_instrument)"
   ]
  },
  {
   "cell_type": "code",
   "execution_count": null,
   "id": "5620c35c-e25d-4dc8-bf07-e9c60f9421df",
   "metadata": {
    "execution": {
     "iopub.execute_input": "2025-05-03T18:15:02.990943Z",
     "iopub.status.busy": "2025-05-03T18:15:02.990825Z",
     "iopub.status.idle": "2025-05-03T18:15:03.121030Z",
     "shell.execute_reply": "2025-05-03T18:15:03.120386Z",
     "shell.execute_reply.started": "2025-05-03T18:15:02.990930Z"
    }
   },
   "outputs": [],
   "source": [
    "dataset_refs = list(\n",
    "    butler.registry.queryDatasets(\n",
    "        datasettype, collections=collection_validation, where=where_clause_instrument\n",
    "    )\n",
    ")\n",
    "# Récupère un des refs valides\n",
    "Nrefs = len(dataset_refs)\n",
    "print(f\"Number of visitTables : {Nrefs}\")\n",
    "ref = dataset_refs[0]\n",
    "t = butler.get(ref)\n",
    "Nvis = len(t)\n",
    "# del t\n",
    "# gc.collect()\n",
    "print(f\"Total Number of visits {Nvis}\")"
   ]
  },
  {
   "cell_type": "code",
   "execution_count": null,
   "id": "0b56d815-654a-42fd-9407-0f204bdd42e2",
   "metadata": {
    "execution": {
     "iopub.execute_input": "2025-05-03T18:15:03.122108Z",
     "iopub.status.busy": "2025-05-03T18:15:03.121831Z",
     "iopub.status.idle": "2025-05-03T18:15:03.189421Z",
     "shell.execute_reply": "2025-05-03T18:15:03.189067Z",
     "shell.execute_reply.started": "2025-05-03T18:15:03.122067Z"
    }
   },
   "outputs": [],
   "source": [
    "if FLAG_DUMP_VISITTABLEECOLUMNS:\n",
    "    t_columns = list(butler.get(ref).columns)\n",
    "    print(t_columns)"
   ]
  },
  {
   "cell_type": "code",
   "execution_count": null,
   "id": "639a0e0a-8227-4ed4-8083-145d244f2127",
   "metadata": {
    "execution": {
     "iopub.execute_input": "2025-05-03T18:15:03.189993Z",
     "iopub.status.busy": "2025-05-03T18:15:03.189863Z",
     "iopub.status.idle": "2025-05-03T18:15:03.192175Z",
     "shell.execute_reply": "2025-05-03T18:15:03.191872Z",
     "shell.execute_reply.started": "2025-05-03T18:15:03.189979Z"
    }
   },
   "outputs": [],
   "source": [
    "df_visits = t"
   ]
  },
  {
   "cell_type": "code",
   "execution_count": null,
   "id": "7b36869a-4425-42a0-8536-0b8634813262",
   "metadata": {
    "execution": {
     "iopub.execute_input": "2025-05-03T18:15:03.192672Z",
     "iopub.status.busy": "2025-05-03T18:15:03.192550Z",
     "iopub.status.idle": "2025-05-03T18:15:03.211938Z",
     "shell.execute_reply": "2025-05-03T18:15:03.211590Z",
     "shell.execute_reply.started": "2025-05-03T18:15:03.192659Z"
    }
   },
   "outputs": [],
   "source": [
    "df_visits.head()"
   ]
  },
  {
   "cell_type": "code",
   "execution_count": null,
   "id": "e8067d79-51f0-48a8-91a4-f6bb328fc694",
   "metadata": {
    "execution": {
     "iopub.execute_input": "2025-05-03T18:15:03.212478Z",
     "iopub.status.busy": "2025-05-03T18:15:03.212343Z",
     "iopub.status.idle": "2025-05-03T18:15:03.215855Z",
     "shell.execute_reply": "2025-05-03T18:15:03.215510Z",
     "shell.execute_reply.started": "2025-05-03T18:15:03.212464Z"
    }
   },
   "outputs": [],
   "source": [
    "if FLAG_COMPUTE_VISITSTRACTSPATCHS:\n",
    "    # Takes Very long time to compute.\n",
    "    # It is better to filter out visits that does not belong to the selected tract patch as shown below\n",
    "    df_visits_tractspatches = assign_tract_patch(df_visits, skymap)"
   ]
  },
  {
   "cell_type": "markdown",
   "id": "d42d2e70-d372-47a9-aef7-93a3a37d9114",
   "metadata": {},
   "source": [
    "### select visits in selected Tract and Patch \n",
    "\n",
    "- just need visits ra and dec coordinates to filter those visits in the tract-patch."
   ]
  },
  {
   "cell_type": "code",
   "execution_count": null,
   "id": "f331b267-6f82-4d7e-9101-a21143263254",
   "metadata": {
    "execution": {
     "iopub.execute_input": "2025-05-03T18:15:03.216365Z",
     "iopub.status.busy": "2025-05-03T18:15:03.216241Z",
     "iopub.status.idle": "2025-05-03T18:15:03.284433Z",
     "shell.execute_reply": "2025-05-03T18:15:03.283893Z",
     "shell.execute_reply.started": "2025-05-03T18:15:03.216351Z"
    }
   },
   "outputs": [],
   "source": [
    "df_visits_in_patch = select_visits_in_patch(df_visits, tract_info, patch_info)"
   ]
  },
  {
   "cell_type": "code",
   "execution_count": null,
   "id": "ca6a5890-948b-4966-bae1-f9ec6cf946cb",
   "metadata": {
    "execution": {
     "iopub.execute_input": "2025-05-03T18:15:03.284995Z",
     "iopub.status.busy": "2025-05-03T18:15:03.284867Z",
     "iopub.status.idle": "2025-05-03T18:15:03.296818Z",
     "shell.execute_reply": "2025-05-03T18:15:03.296483Z",
     "shell.execute_reply.started": "2025-05-03T18:15:03.284982Z"
    }
   },
   "outputs": [],
   "source": [
    "df_visits_in_patch"
   ]
  },
  {
   "cell_type": "markdown",
   "id": "28e597fa-9f45-45f8-8ddd-b62354513fc2",
   "metadata": {},
   "source": [
    "### Keep the list in memory"
   ]
  },
  {
   "cell_type": "code",
   "execution_count": null,
   "id": "45feda65-3aec-4ee8-ad10-7de3f1b5d068",
   "metadata": {
    "execution": {
     "iopub.execute_input": "2025-05-03T18:15:03.297337Z",
     "iopub.status.busy": "2025-05-03T18:15:03.297212Z",
     "iopub.status.idle": "2025-05-03T18:15:03.305986Z",
     "shell.execute_reply": "2025-05-03T18:15:03.305629Z",
     "shell.execute_reply.started": "2025-05-03T18:15:03.297324Z"
    }
   },
   "outputs": [],
   "source": [
    "visitLists_sel = df_visits_in_patch.visitId.values"
   ]
  },
  {
   "cell_type": "code",
   "execution_count": null,
   "id": "77f95a7b-51d9-4d12-9880-b5ad5715a942",
   "metadata": {
    "execution": {
     "iopub.execute_input": "2025-05-03T18:15:03.306500Z",
     "iopub.status.busy": "2025-05-03T18:15:03.306378Z",
     "iopub.status.idle": "2025-05-03T18:15:03.314614Z",
     "shell.execute_reply": "2025-05-03T18:15:03.314278Z",
     "shell.execute_reply.started": "2025-05-03T18:15:03.306487Z"
    }
   },
   "outputs": [],
   "source": [
    "print(f\"Number of selected visits in  \")"
   ]
  },
  {
   "cell_type": "markdown",
   "id": "6ea80a44-0d61-4894-bffd-e100513dcabf",
   "metadata": {},
   "source": [
    "## Get the selected sources"
   ]
  },
  {
   "cell_type": "code",
   "execution_count": null,
   "id": "2b14d237-5517-4d88-83fb-7b74b4533365",
   "metadata": {
    "execution": {
     "iopub.execute_input": "2025-05-03T18:15:03.315092Z",
     "iopub.status.busy": "2025-05-03T18:15:03.314965Z",
     "iopub.status.idle": "2025-05-03T18:15:03.325426Z",
     "shell.execute_reply": "2025-05-03T18:15:03.325002Z",
     "shell.execute_reply.started": "2025-05-03T18:15:03.315079Z"
    }
   },
   "outputs": [],
   "source": [
    "datasettype = \"sourceTable_visit\""
   ]
  },
  {
   "cell_type": "code",
   "execution_count": null,
   "id": "29483b2c-bef9-4285-8e5e-b743517b987e",
   "metadata": {
    "execution": {
     "iopub.execute_input": "2025-05-03T18:15:03.325923Z",
     "iopub.status.busy": "2025-05-03T18:15:03.325802Z",
     "iopub.status.idle": "2025-05-03T18:15:03.335053Z",
     "shell.execute_reply": "2025-05-03T18:15:03.334704Z",
     "shell.execute_reply.started": "2025-05-03T18:15:03.325911Z"
    }
   },
   "outputs": [],
   "source": [
    "Nvis_sel = len(visitLists_sel)\n",
    "print(f\"Number of visits {Nvis_sel} in tract {tractNbSel} and patch {patchNbSel}\")\n",
    "print(visitLists_sel)"
   ]
  },
  {
   "cell_type": "code",
   "execution_count": null,
   "id": "68056b5e-e7b1-4f78-9a37-621901383469",
   "metadata": {
    "execution": {
     "iopub.execute_input": "2025-05-03T18:15:03.335551Z",
     "iopub.status.busy": "2025-05-03T18:15:03.335429Z",
     "iopub.status.idle": "2025-05-03T18:15:03.361092Z",
     "shell.execute_reply": "2025-05-03T18:15:03.360804Z",
     "shell.execute_reply.started": "2025-05-03T18:15:03.335538Z"
    }
   },
   "outputs": [],
   "source": [
    "visit_sel = visitLists_sel[0]\n",
    "butler.registry.expandDataId(instrument=instrument, visit=visit_sel)"
   ]
  },
  {
   "cell_type": "code",
   "execution_count": null,
   "id": "34760f0d-6859-482a-b940-212aac828d24",
   "metadata": {
    "execution": {
     "iopub.execute_input": "2025-05-03T18:15:03.361567Z",
     "iopub.status.busy": "2025-05-03T18:15:03.361443Z",
     "iopub.status.idle": "2025-05-03T18:15:03.364286Z",
     "shell.execute_reply": "2025-05-03T18:15:03.364001Z",
     "shell.execute_reply.started": "2025-05-03T18:15:03.361554Z"
    }
   },
   "outputs": [],
   "source": [
    "def load_sourceTables_for_visits(butler, datasettype, instrument, visit_ids):\n",
    "    dfs = []\n",
    "    for visit in visit_ids:\n",
    "        refs = list(\n",
    "            butler.registry.queryDatasets(\n",
    "                datasetType=datasettype, dataId={\"instrument\": instrument, \"visit\": visit}, findFirst=True\n",
    "            )\n",
    "        )\n",
    "        if refs:\n",
    "            df = butler.get(refs[0])\n",
    "            df[\"visit\"] = visit\n",
    "            dfs.append(df)\n",
    "    if dfs:\n",
    "        return pd.concat(dfs, ignore_index=True)\n",
    "    else:\n",
    "        return pd.DataFrame()"
   ]
  },
  {
   "cell_type": "code",
   "execution_count": null,
   "id": "21cdca00-271b-4c69-8253-a9d3cc05d4dd",
   "metadata": {
    "execution": {
     "iopub.execute_input": "2025-05-03T18:15:03.364746Z",
     "iopub.status.busy": "2025-05-03T18:15:03.364627Z",
     "iopub.status.idle": "2025-05-03T18:15:03.371058Z",
     "shell.execute_reply": "2025-05-03T18:15:03.370782Z",
     "shell.execute_reply.started": "2025-05-03T18:15:03.364734Z"
    }
   },
   "outputs": [],
   "source": [
    "# dt = butler.registry.getDatasetType(\"src\")\n",
    "# print(dt.dimensions)"
   ]
  },
  {
   "cell_type": "code",
   "execution_count": null,
   "id": "d73fbbfd-133b-458d-a0df-bf6e64b0d5eb",
   "metadata": {
    "execution": {
     "iopub.execute_input": "2025-05-03T18:15:03.371534Z",
     "iopub.status.busy": "2025-05-03T18:15:03.371416Z",
     "iopub.status.idle": "2025-05-03T18:15:03.380253Z",
     "shell.execute_reply": "2025-05-03T18:15:03.379971Z",
     "shell.execute_reply.started": "2025-05-03T18:15:03.371522Z"
    }
   },
   "outputs": [],
   "source": [
    "# crash\n",
    "# print(f\"Fetch the {datasettype} for each visit in the list\")\n",
    "# df_all_sources = load_sourceTables_for_visits(butler, datasettype,instrument, visitLists_sel)"
   ]
  },
  {
   "cell_type": "code",
   "execution_count": null,
   "id": "0810b0cf-626c-4b9c-85b8-1569666a5b62",
   "metadata": {
    "execution": {
     "iopub.execute_input": "2025-05-03T18:15:03.380712Z",
     "iopub.status.busy": "2025-05-03T18:15:03.380594Z",
     "iopub.status.idle": "2025-05-03T18:15:03.387963Z",
     "shell.execute_reply": "2025-05-03T18:15:03.387672Z",
     "shell.execute_reply.started": "2025-05-03T18:15:03.380700Z"
    }
   },
   "outputs": [],
   "source": [
    "# df_all_sources"
   ]
  },
  {
   "cell_type": "code",
   "execution_count": null,
   "id": "dba69620-aa12-4a2a-a53c-85dea8f2858e",
   "metadata": {
    "execution": {
     "iopub.execute_input": "2025-05-03T18:54:54.417835Z",
     "iopub.status.busy": "2025-05-03T18:54:54.417608Z",
     "iopub.status.idle": "2025-05-03T18:54:54.422808Z",
     "shell.execute_reply": "2025-05-03T18:54:54.422477Z",
     "shell.execute_reply.started": "2025-05-03T18:54:54.417820Z"
    }
   },
   "outputs": [],
   "source": [
    "def save_sources_for_visit(butler, datasettype, visit, instrument, output_dir):\n",
    "    all_sources = []\n",
    "\n",
    "    try:\n",
    "        refs = list(\n",
    "            butler.registry.queryDatasets(\n",
    "                datasetType=datasettype, dataId={\"instrument\": instrument, \"visit\": visit}, findFirst=True\n",
    "            )\n",
    "        )\n",
    "        if refs:\n",
    "            df = butler.get(refs[0])\n",
    "            df[\"visit\"] = visit\n",
    "\n",
    "        all_sources.append(df)\n",
    "\n",
    "    except Exception as inst:\n",
    "        print(type(inst))  # the exception type\n",
    "        print(inst.args)  # arguments stored in .args\n",
    "        return\n",
    "\n",
    "    if all_sources:\n",
    "        # Fusionner toutes les sources\n",
    "        sources_df = pd.concat(all_sources, ignore_index=True)\n",
    "\n",
    "        # clean columns with Nans\n",
    "        sources_df.dropna(axis=1, how=\"all\", inplace=True)\n",
    "        # keep primary source\n",
    "        sources_df = sources_df[sources_df.parentSourceId == 0]\n",
    "\n",
    "        # cut band sources in low SNR\n",
    "        sources_df[\"calibSNR\"] = sources_df[\"calibFlux\"] / sources_df[\"calibFluxErr\"]\n",
    "        sources_df = sources_df[sources_df[\"calibSNR\"] >= 5]\n",
    "\n",
    "        # compute Magnitude\n",
    "        sources_df[\"calibMag\"] = nJy_to_ab_mag(sources_df[\"calibFlux\"])\n",
    "        sources_df[\"calibMagErr\"] = nJy_err_to_ab_err(sources_df[\"calibFlux\"], sources_df[\"calibFluxErr\"])\n",
    "\n",
    "        # drop rows-sources with zero mag\n",
    "        sources_df = sources_df[sources_df[\"calibMag\"] != 0].dropna(subset=[\"calibMag\"])\n",
    "\n",
    "        # Sauvegarder dans un fichier Parquet\n",
    "        file_path = f\"{output_dir}/src_visit_{visit}.parquet\"\n",
    "        sources_df.to_parquet(file_path, index=False)\n",
    "        print(f\"Sources for visit {visit} saved to {file_path}\")\n",
    "        return file_path\n",
    "    else:\n",
    "        print(f\"No sources found for visit {visit}\")"
   ]
  },
  {
   "cell_type": "markdown",
   "id": "921525fa-7940-4264-9c06-362c324a3940",
   "metadata": {},
   "source": [
    "### Manage output sources in parquet file"
   ]
  },
  {
   "cell_type": "code",
   "execution_count": null,
   "id": "10e9f7d8-a675-491b-a2d5-fb4fdce92bd9",
   "metadata": {
    "execution": {
     "iopub.execute_input": "2025-05-03T18:54:57.898872Z",
     "iopub.status.busy": "2025-05-03T18:54:57.898658Z",
     "iopub.status.idle": "2025-05-03T18:54:57.901684Z",
     "shell.execute_reply": "2025-05-03T18:54:57.901315Z",
     "shell.execute_reply.started": "2025-05-03T18:54:57.898856Z"
    }
   },
   "outputs": [],
   "source": [
    "outputdir_sources = f\"output_{instrument}_field{keyfield}_t{tractNbSel}_p{patchNbSel}_{datasettype}\"\n",
    "os.makedirs(outputdir_sources, exist_ok=True)"
   ]
  },
  {
   "cell_type": "code",
   "execution_count": null,
   "id": "9d47ef22-11ad-4b16-b2ea-c5bb50de6a62",
   "metadata": {
    "execution": {
     "iopub.execute_input": "2025-05-03T18:55:00.237739Z",
     "iopub.status.busy": "2025-05-03T18:55:00.237201Z",
     "iopub.status.idle": "2025-05-03T18:55:50.790209Z",
     "shell.execute_reply": "2025-05-03T18:55:50.789846Z",
     "shell.execute_reply.started": "2025-05-03T18:55:00.237719Z"
    }
   },
   "outputs": [],
   "source": [
    "all_outputfiles = []\n",
    "for visit in visitLists_sel:\n",
    "    outputfile = save_sources_for_visit(butler, datasettype, visit, instrument, outputdir_sources)\n",
    "    all_outputfiles.append(outputfile)"
   ]
  },
  {
   "cell_type": "code",
   "execution_count": null,
   "id": "18c756f3-add1-414d-a4e3-87c14291d07a",
   "metadata": {
    "execution": {
     "iopub.execute_input": "2025-05-03T18:26:27.098811Z",
     "iopub.status.busy": "2025-05-03T18:26:27.098363Z",
     "iopub.status.idle": "2025-05-03T18:26:27.137688Z",
     "shell.execute_reply": "2025-05-03T18:26:27.137207Z",
     "shell.execute_reply.started": "2025-05-03T18:26:27.098792Z"
    }
   },
   "outputs": [],
   "source": [
    "outputfile = all_outputfiles[0]\n",
    "df = pd.read_parquet(outputfile)"
   ]
  },
  {
   "cell_type": "code",
   "execution_count": null,
   "id": "3cfa0404-3fc1-470c-9830-b6076f6c5dbb",
   "metadata": {
    "execution": {
     "iopub.execute_input": "2025-05-03T18:26:29.036127Z",
     "iopub.status.busy": "2025-05-03T18:26:29.035483Z",
     "iopub.status.idle": "2025-05-03T18:26:29.038815Z",
     "shell.execute_reply": "2025-05-03T18:26:29.038450Z",
     "shell.execute_reply.started": "2025-05-03T18:26:29.036108Z"
    }
   },
   "outputs": [],
   "source": [
    "print(list(df.columns))"
   ]
  },
  {
   "cell_type": "code",
   "execution_count": null,
   "id": "cefdded6-2f61-4870-826a-3218873d259d",
   "metadata": {},
   "outputs": [],
   "source": []
  }
 ],
 "metadata": {
  "kernelspec": {
   "display_name": "LSST",
   "language": "python",
   "name": "lsst"
  },
  "language_info": {
   "codemirror_mode": {
    "name": "ipython",
    "version": 3
   },
   "file_extension": ".py",
   "mimetype": "text/x-python",
   "name": "python",
   "nbconvert_exporter": "python",
   "pygments_lexer": "ipython3",
   "version": "3.12.9"
  }
 },
 "nbformat": 4,
 "nbformat_minor": 5
}
